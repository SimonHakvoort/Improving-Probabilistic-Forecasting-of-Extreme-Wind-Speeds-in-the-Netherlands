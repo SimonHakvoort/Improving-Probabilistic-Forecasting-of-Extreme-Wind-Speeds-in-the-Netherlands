{
 "cells": [
  {
   "cell_type": "code",
   "execution_count": 25,
   "metadata": {},
   "outputs": [],
   "source": [
    "import numpy as np\n",
    "\n",
    "from src.models.train_emos import train_emos, train_and_test_emos\n",
    "from pit import make_cpit_diagram_emos, make_cpit_hist_emos \n",
    "from brier_score import brier_skill_plot, brier_plot\n",
    "from src.models.get_data import get_tensors, get_normalized_tensor\n",
    "from src.models.emos import EMOS"
   ]
  },
  {
   "cell_type": "code",
   "execution_count": 2,
   "metadata": {},
   "outputs": [
    {
     "name": "stdout",
     "output_type": "stream",
     "text": [
      "(15733, 5)\n"
     ]
    }
   ],
   "source": [
    "neighbourhood_size = 11\n",
    "parameter_names = ['wind_speed', 'press', 'kinetic', 'humid', 'geopot']\n",
    "ignore = ['229', '285', '323']\n",
    "train_folds = [1, 2]\n",
    "train_data = get_normalized_tensor(neighbourhood_size, parameter_names, train_folds, ignore)\n",
    "\n",
    "X_train = train_data['X']\n",
    "y_train = train_data['y']\n",
    "variances_train = train_data['variances']\n",
    "mean_train = train_data['mean']\n",
    "std_train = train_data['std']\n",
    "\n",
    "\n",
    "print(X_train.shape)"
   ]
  },
  {
   "cell_type": "code",
   "execution_count": 3,
   "metadata": {},
   "outputs": [
    {
     "name": "stdout",
     "output_type": "stream",
     "text": [
      "(7780, 5)\n"
     ]
    }
   ],
   "source": [
    "test_fold = 3\n",
    "\n",
    "X_test, y_test, variances_test = get_tensors(neighbourhood_size, parameter_names, test_fold, ignore)\n",
    "X_test = (X_test - mean_train) / std_train\n",
    "\n",
    "print(X_test.shape)"
   ]
  },
  {
   "cell_type": "code",
   "execution_count": 4,
   "metadata": {},
   "outputs": [],
   "source": [
    "setup = {}\n",
    "\n",
    "setup[\"num_features\"] = len(parameter_names)\n",
    "setup[\"feature_mean\"] = mean_train\n",
    "setup[\"feature_std\"] = std_train\n",
    "setup[\"features\"] = parameter_names\n",
    "setup[\"neighbourhood_size\"] = neighbourhood_size"
   ]
  },
  {
   "cell_type": "markdown",
   "metadata": {},
   "source": [
    "Possible settings for EMOS class:\n",
    "\n",
    "loss:\n",
    "\n",
    "    loss_CRPS_sample\n",
    "    loss_log_likelihood\n",
    "    loss_Brier_score \n",
    "    loss_twCRPS_sample\n",
    "\n",
    "in case sample is used loss: sample\n",
    "\n",
    "chaining_functions\n",
    "\n",
    "    chain_function_indicator \n",
    "        includes:\n",
    "        \n",
    "         threshold\n",
    "    chain_function_normal_cdf\n",
    "        includes: \n",
    "        \n",
    "        chain_function_mean\n",
    "         chain_function_std\n",
    "\n",
    "optimizer:\n",
    "\n",
    "    Adam\n",
    "    SGD\n",
    "\n",
    "learning_rate:\n",
    "    -Positive real valued number\n",
    "\n",
    "forecast_distribution:\n",
    "\n",
    "    distr_trunc_normal\n",
    "    distr_log_normal\n",
    "    distr_gev(2/3)\n",
    "\n",
    "    distr_mixture (which contains two of the above distributions)\n",
    "    distr_mixture_linear\n",
    "\n",
    "they must contain distribution_1/distribution_2\n",
    "\n",
    "    \n"
   ]
  },
  {
   "cell_type": "code",
   "execution_count": 5,
   "metadata": {},
   "outputs": [
    {
     "name": "stdout",
     "output_type": "stream",
     "text": [
      "Using default parameters for truncated normal distribution\n",
      "Using default parameters for Log Normal distribution\n",
      "Using default parameters for Generalized Extreme Value distribution\n",
      "Using default parameters for Generalized Extreme Value distribution 2\n",
      "Using default parameters for Generalized Extreme Value distribution 3\n",
      "3\n"
     ]
    }
   ],
   "source": [
    "models_crps = {}\n",
    "setup1 = setup\n",
    "\n",
    "setup1[\"loss\"] = \"loss_CRPS_sample\"\n",
    "setup1[\"samples\"] = 100\n",
    "setup1[\"optimizer\"] = \"Adam\"\n",
    "setup1[\"learning_rate\"] = 0.01\n",
    "setup1[\"forecast_distribution\"] = \"distr_trunc_normal\"\n",
    "\n",
    "trunc_normal_crps = EMOS(setup1)\n",
    "\n",
    "setup1[\"forecast_distribution\"] = \"distr_log_normal\"\n",
    "\n",
    "log_normal_crps = EMOS(setup1)\n",
    "\n",
    "setup1[\"forecast_distribution\"] = \"distr_gev\"\n",
    "setup1[\"samples\"] = 300\n",
    "\n",
    "gev_crps = EMOS(setup1)\n",
    "\n",
    "setup1[\"forecast_distribution\"] = \"distr_gev2\"\n",
    "\n",
    "gev2_crps = EMOS(setup1)\n",
    "\n",
    "setup1[\"forecast_distribution\"] = \"distr_gev3\"\n",
    "\n",
    "gev3_crps = EMOS(setup1)\n",
    "\n",
    "\n",
    "models_crps[\"trunc_normal_crps\"] = trunc_normal_crps\n",
    "models_crps[\"log_normal_crps\"] = log_normal_crps\n",
    "models_crps[\"gev_crps\"] = gev_crps\n",
    "#models_crps[\"gev2_crps\"] = gev2_crps\n",
    "#models_crps[\"gev3_crps\"] = gev3_crps\n",
    "print(len(models_crps))"
   ]
  },
  {
   "cell_type": "code",
   "execution_count": 7,
   "metadata": {},
   "outputs": [
    {
     "name": "stdout",
     "output_type": "stream",
     "text": [
      "Model:  EMOS Model Information:\n",
      "Loss function: loss_CRPS_sample (Samples: 100)\n",
      "Forecast distribution: distr_trunc_normal\n",
      "Parameters:\n",
      "  a_tn: [0.3458853]\n",
      "  b_tn: [ 0.97427243 -0.00242053 -0.15589155  0.04777402  0.00460129]\n",
      "  c_tn: [1.5089761]\n",
      "  d_tn: [1.2106253]\n",
      "Features: wind_speed, press, kinetic, humid, geopot\n",
      "Number of features: 5\n",
      "Neighbourhood size: 11\n",
      "\n",
      "Optimizer: Adam\n",
      "Learning rate: 0.009999999776482582\n",
      "\n",
      "Model:  EMOS Model Information:\n",
      "Loss function: loss_CRPS_sample (Samples: 100)\n",
      "Forecast distribution: distr_log_normal\n",
      "Parameters:\n",
      "  a_ln: [0.84415966]\n",
      "  b_ln: [ 0.13473257 -0.07395755 -0.03527635 -0.02097038  0.06701108]\n",
      "  c_ln: [0.1215006]\n",
      "  d_ln: [-0.00185268]\n",
      "Features: wind_speed, press, kinetic, humid, geopot\n",
      "Number of features: 5\n",
      "Neighbourhood size: 11\n",
      "\n",
      "Optimizer: Adam\n",
      "Learning rate: 0.009999999776482582\n",
      "\n",
      "Model:  EMOS Model Information:\n",
      "Loss function: loss_CRPS_sample (Samples: 300)\n",
      "Forecast distribution: distr_gev\n",
      "Parameters:\n",
      "  a_gev: [0.45766783]\n",
      "  b_gev: [ 0.850559   -0.01507859 -0.05703494 -0.00493977 -0.00441579]\n",
      "  c_gev: [0.47593138]\n",
      "  d_gev: [ 0.20516989  0.00108261 -0.11047197  0.06559318 -0.06274283]\n",
      "  e_gev: [-0.24018021]\n",
      "Features: wind_speed, press, kinetic, humid, geopot\n",
      "Number of features: 5\n",
      "Neighbourhood size: 11\n",
      "\n",
      "Optimizer: Adam\n",
      "Learning rate: 0.009999999776482582\n",
      "\n"
     ]
    }
   ],
   "source": [
    "epochs = 200\n",
    "\n",
    "for model in models_crps:\n",
    "    models_crps[model].fit(X_train, y_train, variances_train, epochs, printing=False)\n",
    "    print(\"Model: \", models_crps[model])"
   ]
  },
  {
   "cell_type": "code",
   "execution_count": 8,
   "metadata": {},
   "outputs": [
    {
     "name": "stdout",
     "output_type": "stream",
     "text": [
      "Using default parameters for truncated normal distribution\n",
      "Using default parameters for Log Normal distribution\n",
      "Parameter a_tn set to [0.3458853]\n",
      "Parameter b_tn set to [ 0.97427243 -0.00242053 -0.15589155  0.04777402  0.00460129]\n",
      "Parameter c_tn set to [1.5089761]\n",
      "Parameter d_tn set to [1.2106253]\n",
      "Parameter a_ln set to [0.84415966]\n",
      "Parameter b_ln set to [ 0.13473257 -0.07395755 -0.03527635 -0.02097038  0.06701108]\n",
      "Parameter c_ln set to [0.1215006]\n",
      "Parameter d_ln set to [-0.00185268]\n",
      "Using default parameters for truncated normal distribution\n",
      "Using default parameters for Generalized Extreme Value distribution\n",
      "Parameter a_tn set to [0.3458853]\n",
      "Parameter b_tn set to [ 0.97427243 -0.00242053 -0.15589155  0.04777402  0.00460129]\n",
      "Parameter c_tn set to [1.5089761]\n",
      "Parameter d_tn set to [1.2106253]\n",
      "Parameter a_gev set to [0.45766783]\n",
      "Parameter b_gev set to [ 0.850559   -0.01507859 -0.05703494 -0.00493977 -0.00441579]\n",
      "Parameter c_gev set to [0.47593138]\n",
      "Parameter d_gev set to [ 0.20516989  0.00108261 -0.11047197  0.06559318 -0.06274283]\n",
      "Parameter e_gev set to [-0.24018021]\n"
     ]
    }
   ],
   "source": [
    "setup1[\"forecast_distribution\"] = \"distr_mixture\"\n",
    "setup1[\"distribution_1\"] = \"distr_trunc_normal\"\n",
    "setup1[\"distribution_2\"] = \"distr_log_normal\"\n",
    "\n",
    "mixture_trunc_log_crps = EMOS(setup1)\n",
    "mixture_trunc_log_crps.set_parameters(models_crps[\"trunc_normal_crps\"].get_parameters())\n",
    "mixture_trunc_log_crps.set_parameters(models_crps[\"log_normal_crps\"].get_parameters())\n",
    "\n",
    "setup1[\"distribution_2\"] = \"distr_gev\"\n",
    "mixture_trunc_gev_crps = EMOS(setup1)\n",
    "\n",
    "mixture_trunc_gev_crps.set_parameters(models_crps[\"trunc_normal_crps\"].get_parameters())\n",
    "mixture_trunc_gev_crps.set_parameters(models_crps[\"gev_crps\"].get_parameters())\n",
    "\n",
    "models_crps[\"mixture_trunc_log_crps\"] = mixture_trunc_log_crps\n",
    "models_crps[\"mixture_trunc_gev_crps\"] = mixture_trunc_gev_crps\n",
    "\n",
    "\n"
   ]
  },
  {
   "cell_type": "code",
   "execution_count": 9,
   "metadata": {},
   "outputs": [
    {
     "name": "stdout",
     "output_type": "stream",
     "text": [
      "Model:  EMOS Model Information:\n",
      "Loss function: loss_CRPS_sample (Samples: 300)\n",
      "Forecast distribution: distr_mixture\n",
      "Distribution 1: distr_trunc_normal\n",
      "Distribution 2: distr_gev\n",
      "Mixture weight: [0.7685883]Parameters:\n",
      "  a_tn: [0.20413199]\n",
      "  b_tn: [ 0.96398425  0.03421698 -0.21862257  0.00612877  0.10558406]\n",
      "  c_tn: [1.9902797]\n",
      "  d_tn: [1.3468198]\n",
      "  a_gev: [0.29565957]\n",
      "  b_gev: [ 0.83632994  0.00238316 -0.10161182 -0.04053925  0.07101916]\n",
      "  c_gev: [0.72616935]\n",
      "  d_gev: [ 0.40816647 -0.5372744   0.33014664  0.41954613 -0.6925272 ]\n",
      "  e_gev: [-0.09786802]\n",
      "  weight: <tf.Variable 'weight:0' shape=(1,) dtype=float32, numpy=array([0.7685883], dtype=float32)>\n",
      "Features: wind_speed, press, kinetic, humid, geopot\n",
      "Number of features: 5\n",
      "Neighbourhood size: 11\n",
      "\n",
      "Optimizer: Adam\n",
      "Learning rate: 0.009999999776482582\n",
      "\n",
      "Model:  EMOS Model Information:\n",
      "Loss function: loss_CRPS_sample (Samples: 300)\n",
      "Forecast distribution: distr_mixture\n",
      "Distribution 1: distr_trunc_normal\n",
      "Distribution 2: distr_log_normal\n",
      "Mixture weight: [0.7855019]Parameters:\n",
      "  a_tn: [-0.33935237]\n",
      "  b_tn: [ 1.1139809  -0.2288488  -0.2753035  -0.26212028 -0.35431445]\n",
      "  c_tn: [1.572163]\n",
      "  d_tn: [1.8492936]\n",
      "  a_ln: [0.7917785]\n",
      "  b_ln: [0.10573271 0.13687696 0.04236956 0.20681936 0.3007708 ]\n",
      "  c_ln: [0.42939496]\n",
      "  d_ln: [-0.0408224]\n",
      "  weight: <tf.Variable 'weight:0' shape=(1,) dtype=float32, numpy=array([0.7855019], dtype=float32)>\n",
      "Features: wind_speed, press, kinetic, humid, geopot\n",
      "Number of features: 5\n",
      "Neighbourhood size: 11\n",
      "\n",
      "Optimizer: Adam\n",
      "Learning rate: 0.009999999776482582\n",
      "\n"
     ]
    }
   ],
   "source": [
    "models_crps[\"mixture_trunc_gev_crps\"].fit(X_train, y_train, variances_train, epochs, printing=False)\n",
    "print(\"Model: \", models_crps[\"mixture_trunc_gev_crps\"])\n",
    "\n",
    "models_crps[\"mixture_trunc_log_crps\"].fit(X_train, y_train, variances_train, epochs, printing=False)\n",
    "print(\"Model: \", models_crps[\"mixture_trunc_log_crps\"])"
   ]
  },
  {
   "cell_type": "code",
   "execution_count": 22,
   "metadata": {},
   "outputs": [
    {
     "name": "stdout",
     "output_type": "stream",
     "text": [
      "EMOS Model Information:\n",
      "Loss function: loss_CRPS_sample (Samples: 300)\n",
      "Forecast distribution: distr_mixture\n",
      "Distribution 1: distr_trunc_normal\n",
      "Distribution 2: distr_log_normal\n",
      "Mixture weight: [0.7855019]Parameters:\n",
      "  a_tn: [-0.33935237]\n",
      "  b_tn: [ 1.1139809  -0.2288488  -0.2753035  -0.26212028 -0.35431445]\n",
      "  c_tn: [1.572163]\n",
      "  d_tn: [1.8492936]\n",
      "  a_ln: [0.7917785]\n",
      "  b_ln: [0.10573271 0.13687696 0.04236956 0.20681936 0.3007708 ]\n",
      "  c_ln: [0.42939496]\n",
      "  d_ln: [-0.0408224]\n",
      "  weight: <tf.Variable 'weight:0' shape=(1,) dtype=float32, numpy=array([0.7855019], dtype=float32)>\n",
      "Features: wind_speed, press, kinetic, humid, geopot\n",
      "Number of features: 5\n",
      "Neighbourhood size: 11\n",
      "\n",
      "Optimizer: Adam\n",
      "Learning rate: 0.009999999776482582\n",
      "\n"
     ]
    }
   ],
   "source": [
    "##make a plot for the brier scores\n"
   ]
  },
  {
   "cell_type": "code",
   "execution_count": 26,
   "metadata": {},
   "outputs": [
    {
     "ename": "TypeError",
     "evalue": "'TruncatedNormal' object is not callable",
     "output_type": "error",
     "traceback": [
      "\u001b[0;31m---------------------------------------------------------------------------\u001b[0m",
      "\u001b[0;31mTypeError\u001b[0m                                 Traceback (most recent call last)",
      "Cell \u001b[0;32mIn[26], line 2\u001b[0m\n\u001b[1;32m      1\u001b[0m threshold \u001b[38;5;241m=\u001b[39m \u001b[38;5;241m0\u001b[39m\n\u001b[0;32m----> 2\u001b[0m \u001b[43mmake_cpit_diagram_emos\u001b[49m\u001b[43m(\u001b[49m\u001b[43mmodels_crps\u001b[49m\u001b[43m,\u001b[49m\u001b[43m \u001b[49m\u001b[43mX_test\u001b[49m\u001b[43m,\u001b[49m\u001b[43m \u001b[49m\u001b[43my_test\u001b[49m\u001b[43m,\u001b[49m\u001b[43m \u001b[49m\u001b[43mvariances_test\u001b[49m\u001b[43m,\u001b[49m\u001b[43m \u001b[49m\u001b[38;5;124;43m\"\u001b[39;49m\u001b[38;5;124;43mCPIT_diagram_CRPS\u001b[39;49m\u001b[38;5;124;43m\"\u001b[39;49m\u001b[43m,\u001b[49m\u001b[43m \u001b[49m\u001b[43mthreshold\u001b[49m\u001b[43m)\u001b[49m\n",
      "File \u001b[0;32m~/thesiscode/src/visualization/pit.py:123\u001b[0m, in \u001b[0;36mmake_cpit_diagram_emos\u001b[0;34m(emos_dict, X, y, variance, title, t)\u001b[0m\n\u001b[1;32m    121\u001b[0m cdf_dict \u001b[38;5;241m=\u001b[39m {}\n\u001b[1;32m    122\u001b[0m \u001b[38;5;28;01mfor\u001b[39;00m name, emos \u001b[38;5;129;01min\u001b[39;00m emos_dict\u001b[38;5;241m.\u001b[39mitems():\n\u001b[0;32m--> 123\u001b[0m     distribution \u001b[38;5;241m=\u001b[39m \u001b[43memos\u001b[49m\u001b[38;5;241;43m.\u001b[39;49m\u001b[43mforecast_distribution\u001b[49m\u001b[43m(\u001b[49m\u001b[43mX\u001b[49m\u001b[43m,\u001b[49m\u001b[43m \u001b[49m\u001b[43mvariance\u001b[49m\u001b[43m)\u001b[49m\n\u001b[1;32m    124\u001b[0m     cdf_dict[name] \u001b[38;5;241m=\u001b[39m distribution\u001b[38;5;241m.\u001b[39mcdf\n\u001b[1;32m    126\u001b[0m make_cpit_diagram(cdf_dict, y, title, t)\n",
      "\u001b[0;31mTypeError\u001b[0m: 'TruncatedNormal' object is not callable"
     ]
    }
   ],
   "source": [
    "threshold = 0\n",
    "make_cpit_diagram_emos(models_crps, X_test, y_test, variances_test, \"CPIT_diagram_CRPS\", threshold)"
   ]
  },
  {
   "cell_type": "code",
   "execution_count": 15,
   "metadata": {},
   "outputs": [
    {
     "ename": "KeyError",
     "evalue": "'trunc_normal_crps'",
     "output_type": "error",
     "traceback": [
      "\u001b[0;31m---------------------------------------------------------------------------\u001b[0m",
      "\u001b[0;31mKeyError\u001b[0m                                  Traceback (most recent call last)",
      "Cell \u001b[0;32mIn[15], line 1\u001b[0m\n\u001b[0;32m----> 1\u001b[0m base_model \u001b[38;5;241m=\u001b[39m \u001b[43mmodels_crps\u001b[49m\u001b[38;5;241;43m.\u001b[39;49m\u001b[43mpop\u001b[49m\u001b[43m(\u001b[49m\u001b[38;5;124;43m\"\u001b[39;49m\u001b[38;5;124;43mtrunc_normal_crps\u001b[39;49m\u001b[38;5;124;43m\"\u001b[39;49m\u001b[43m)\u001b[49m\n\u001b[1;32m      2\u001b[0m values \u001b[38;5;241m=\u001b[39m np\u001b[38;5;241m.\u001b[39mlinspace(\u001b[38;5;241m0\u001b[39m, \u001b[38;5;241m20\u001b[39m, \u001b[38;5;241m200\u001b[39m)\n\u001b[1;32m      3\u001b[0m brier_skill_plot(base_model, models_crps, X_test, y_test, variances_test, values)\n",
      "\u001b[0;31mKeyError\u001b[0m: 'trunc_normal_crps'"
     ]
    }
   ],
   "source": [
    "base_model = models_crps.pop(\"trunc_normal_crps\")\n",
    "values = np.linspace(0, 20, 200)\n",
    "brier_skill_plot(base_model, models_crps, X_test, y_test, variances_test, values)"
   ]
  }
 ],
 "metadata": {
  "kernelspec": {
   "display_name": "Python 3",
   "language": "python",
   "name": "python3"
  },
  "language_info": {
   "codemirror_mode": {
    "name": "ipython",
    "version": 3
   },
   "file_extension": ".py",
   "mimetype": "text/x-python",
   "name": "python",
   "nbconvert_exporter": "python",
   "pygments_lexer": "ipython3",
   "version": "3.11.7"
  }
 },
 "nbformat": 4,
 "nbformat_minor": 2
}
