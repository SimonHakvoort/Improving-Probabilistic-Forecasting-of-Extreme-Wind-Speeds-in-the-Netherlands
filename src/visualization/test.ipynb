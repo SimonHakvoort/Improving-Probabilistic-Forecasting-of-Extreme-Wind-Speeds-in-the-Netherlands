{
 "cells": [
  {
   "cell_type": "code",
   "execution_count": 1,
   "metadata": {},
   "outputs": [
    {
     "name": "stderr",
     "output_type": "stream",
     "text": [
      "2024-03-06 10:33:24.496935: I external/local_tsl/tsl/cuda/cudart_stub.cc:31] Could not find cuda drivers on your machine, GPU will not be used.\n",
      "2024-03-06 10:33:24.523600: E external/local_xla/xla/stream_executor/cuda/cuda_dnn.cc:9261] Unable to register cuDNN factory: Attempting to register factory for plugin cuDNN when one has already been registered\n",
      "2024-03-06 10:33:24.523624: E external/local_xla/xla/stream_executor/cuda/cuda_fft.cc:607] Unable to register cuFFT factory: Attempting to register factory for plugin cuFFT when one has already been registered\n",
      "2024-03-06 10:33:24.524401: E external/local_xla/xla/stream_executor/cuda/cuda_blas.cc:1515] Unable to register cuBLAS factory: Attempting to register factory for plugin cuBLAS when one has already been registered\n",
      "2024-03-06 10:33:24.528638: I external/local_tsl/tsl/cuda/cudart_stub.cc:31] Could not find cuda drivers on your machine, GPU will not be used.\n",
      "2024-03-06 10:33:24.529097: I tensorflow/core/platform/cpu_feature_guard.cc:182] This TensorFlow binary is optimized to use available CPU instructions in performance-critical operations.\n",
      "To enable the following instructions: AVX2 FMA, in other operations, rebuild TensorFlow with the appropriate compiler flags.\n",
      "2024-03-06 10:33:29.893221: W tensorflow/compiler/tf2tensorrt/utils/py_utils.cc:38] TF-TRT Warning: Could not find TensorRT\n"
     ]
    }
   ],
   "source": [
    "import numpy as np\n",
    "\n",
    "from src.models.train_emos import train_emos, train_and_test_emos\n",
    "from pit import make_cpit_diagram_emos, make_cpit_hist_emos \n",
    "from brier_score import brier_skill_plot, brier_plot\n",
    "from src.models.get_data import get_tensors, get_normalized_tensor\n",
    "from src.models.emos import EMOS\n",
    "from scoring_tables import make_table"
   ]
  },
  {
   "cell_type": "code",
   "execution_count": 2,
   "metadata": {},
   "outputs": [
    {
     "name": "stdout",
     "output_type": "stream",
     "text": [
      "(15733, 5)\n"
     ]
    }
   ],
   "source": [
    "neighbourhood_size = 11\n",
    "parameter_names = ['wind_speed', 'press', 'kinetic', 'humid', 'geopot']\n",
    "ignore = ['229', '285', '323']\n",
    "train_folds = [1, 2]\n",
    "train_data = get_normalized_tensor(neighbourhood_size, parameter_names, train_folds, ignore)\n",
    "\n",
    "X_train = train_data['X']\n",
    "y_train = train_data['y']\n",
    "variances_train = train_data['variances']\n",
    "mean_train = train_data['mean']\n",
    "std_train = train_data['std']\n",
    "\n",
    "\n",
    "print(X_train.shape)"
   ]
  },
  {
   "cell_type": "code",
   "execution_count": 3,
   "metadata": {},
   "outputs": [
    {
     "name": "stdout",
     "output_type": "stream",
     "text": [
      "(7780, 5)\n"
     ]
    }
   ],
   "source": [
    "test_fold = 3\n",
    "\n",
    "X_test, y_test, variances_test = get_tensors(neighbourhood_size, parameter_names, test_fold, ignore)\n",
    "X_test = (X_test - mean_train) / std_train\n",
    "\n",
    "print(X_test.shape)"
   ]
  },
  {
   "cell_type": "code",
   "execution_count": 6,
   "metadata": {},
   "outputs": [],
   "source": [
    "setup = {}\n",
    "\n",
    "setup[\"num_features\"] = len(parameter_names)\n",
    "setup[\"feature_mean\"] = mean_train\n",
    "setup[\"feature_std\"] = std_train\n",
    "setup[\"features\"] = parameter_names\n",
    "setup[\"neighbourhood_size\"] = neighbourhood_size"
   ]
  },
  {
   "cell_type": "markdown",
   "metadata": {},
   "source": [
    "Possible settings for EMOS class:\n",
    "\n",
    "loss:\n",
    "\n",
    "    loss_CRPS_sample\n",
    "    loss_log_likelihood\n",
    "    loss_Brier_score \n",
    "    loss_twCRPS_sample\n",
    "\n",
    "in case sample is used loss: sample\n",
    "\n",
    "chaining_functions\n",
    "\n",
    "    chain_function_indicator \n",
    "        includes:\n",
    "        \n",
    "         threshold\n",
    "    chain_function_normal_cdf\n",
    "        includes: \n",
    "        \n",
    "        chain_function_mean\n",
    "         chain_function_std\n",
    "\n",
    "optimizer:\n",
    "\n",
    "    Adam\n",
    "    SGD\n",
    "\n",
    "learning_rate:\n",
    "    -Positive real valued number\n",
    "\n",
    "forecast_distribution:\n",
    "\n",
    "    distr_trunc_normal\n",
    "    distr_log_normal\n",
    "    distr_gev(2/3)\n",
    "\n",
    "    distr_mixture (which contains two of the above distributions)\n",
    "    distr_mixture_linear\n",
    "\n",
    "they must contain distribution_1/distribution_2\n",
    "\n",
    "    \n"
   ]
  },
  {
   "cell_type": "code",
   "execution_count": 7,
   "metadata": {},
   "outputs": [
    {
     "name": "stdout",
     "output_type": "stream",
     "text": [
      "Using default parameters for truncated normal distribution\n",
      "Using default parameters for Log Normal distribution\n",
      "Using default parameters for Generalized Extreme Value distribution\n",
      "Using default parameters for Frechet distribution\n",
      "4\n"
     ]
    }
   ],
   "source": [
    "models_crps = {}\n",
    "setup1 = setup\n",
    "\n",
    "setup1[\"loss\"] = \"loss_CRPS_sample\"\n",
    "setup1[\"samples\"] = 100\n",
    "setup1[\"optimizer\"] = \"Adam\"\n",
    "setup1[\"learning_rate\"] = 0.01\n",
    "setup1[\"forecast_distribution\"] = \"distr_trunc_normal\"\n",
    "\n",
    "crps_tn = EMOS(setup1)\n",
    "\n",
    "setup1[\"forecast_distribution\"] = \"distr_log_normal\"\n",
    "\n",
    "crps_ln = EMOS(setup1)\n",
    "\n",
    "setup1[\"forecast_distribution\"] = \"distr_gev\"\n",
    "setup1[\"samples\"] = 300\n",
    "\n",
    "crps_gev = EMOS(setup1)\n",
    "\n",
    "setup1[\"forecast_distribution\"] = \"distr_frechet\"\n",
    "\n",
    "crps_frechet = EMOS(setup1)\n",
    "\n",
    "\n",
    "\n",
    "\n",
    "\n",
    "models_crps[\"crps_tn\"] = crps_tn\n",
    "models_crps[\"crps_ln\"] = crps_ln\n",
    "models_crps[\"crps_gev\"] = crps_gev\n",
    "models_crps[\"crps_frechet\"] = crps_frechet\n",
    "\n",
    "\n",
    "print(len(models_crps))"
   ]
  },
  {
   "cell_type": "code",
   "execution_count": 9,
   "metadata": {},
   "outputs": [
    {
     "name": "stdout",
     "output_type": "stream",
     "text": [
      "Final loss:  0.90661025\n",
      "Model:  EMOS Model Information:\n",
      "Loss function: loss_CRPS_sample (Samples: 100)\n",
      "Forecast distribution: distr_trunc_normal\n",
      "Parameters:\n",
      "  a_tn: [0.40002263]\n",
      "  b_tn: [ 0.9647988  -0.0264985  -0.14570539  0.03277409  0.01300835]\n",
      "  c_tn: [1.5207014]\n",
      "  d_tn: [1.0384889]\n",
      "Features: wind_speed, press, kinetic, humid, geopot\n",
      "Number of features: 5\n",
      "Neighbourhood size: 11\n",
      "\n",
      "Optimizer: Adam\n",
      "Learning rate: 0.009999999776482582\n",
      "\n",
      "Final loss:  1.0506324\n",
      "Model:  EMOS Model Information:\n",
      "Loss function: loss_CRPS_sample (Samples: 100)\n",
      "Forecast distribution: distr_log_normal\n",
      "Parameters:\n",
      "  a_ln: [0.8468263]\n",
      "  b_ln: [ 0.13367817 -0.08109702 -0.03524413 -0.02242074  0.07428258]\n",
      "  c_ln: [0.12324135]\n",
      "  d_ln: [-0.000918]\n",
      "Features: wind_speed, press, kinetic, humid, geopot\n",
      "Number of features: 5\n",
      "Neighbourhood size: 11\n",
      "\n",
      "Optimizer: Adam\n",
      "Learning rate: 0.009999999776482582\n",
      "\n",
      "Final loss:  0.9072674\n",
      "Model:  EMOS Model Information:\n",
      "Loss function: loss_CRPS_sample (Samples: 300)\n",
      "Forecast distribution: distr_gev\n",
      "Parameters:\n",
      "  a_gev: [0.35035434]\n",
      "  b_gev: [ 0.87211233 -0.03144749 -0.09487008  0.01355527  0.03816006]\n",
      "  c_gev: [0.7808814]\n",
      "  d_gev: [ 0.13780461  0.00852367 -0.01352689  0.01227051 -0.12297265]\n",
      "  e_gev: [-0.20158751]\n",
      "Features: wind_speed, press, kinetic, humid, geopot\n",
      "Number of features: 5\n",
      "Neighbourhood size: 11\n",
      "\n",
      "Optimizer: Adam\n",
      "Learning rate: 0.009999999776482582\n",
      "\n"
     ]
    },
    {
     "ename": "KeyError",
     "evalue": "'a_gev'",
     "output_type": "error",
     "traceback": [
      "\u001b[0;31m---------------------------------------------------------------------------\u001b[0m",
      "\u001b[0;31mKeyError\u001b[0m                                  Traceback (most recent call last)",
      "Cell \u001b[0;32mIn[9], line 4\u001b[0m\n\u001b[1;32m      1\u001b[0m epochs \u001b[38;5;241m=\u001b[39m \u001b[38;5;241m600\u001b[39m\n\u001b[1;32m      3\u001b[0m \u001b[38;5;28;01mfor\u001b[39;00m model \u001b[38;5;129;01min\u001b[39;00m models_crps:\n\u001b[0;32m----> 4\u001b[0m     \u001b[43mmodels_crps\u001b[49m\u001b[43m[\u001b[49m\u001b[43mmodel\u001b[49m\u001b[43m]\u001b[49m\u001b[38;5;241;43m.\u001b[39;49m\u001b[43mfit\u001b[49m\u001b[43m(\u001b[49m\u001b[43mX_train\u001b[49m\u001b[43m,\u001b[49m\u001b[43m \u001b[49m\u001b[43my_train\u001b[49m\u001b[43m,\u001b[49m\u001b[43m \u001b[49m\u001b[43mvariances_train\u001b[49m\u001b[43m,\u001b[49m\u001b[43m \u001b[49m\u001b[43mepochs\u001b[49m\u001b[43m,\u001b[49m\u001b[43m \u001b[49m\u001b[43mprinting\u001b[49m\u001b[38;5;241;43m=\u001b[39;49m\u001b[38;5;28;43;01mFalse\u001b[39;49;00m\u001b[43m)\u001b[49m\n\u001b[1;32m      5\u001b[0m     \u001b[38;5;28mprint\u001b[39m(\u001b[38;5;124m\"\u001b[39m\u001b[38;5;124mModel: \u001b[39m\u001b[38;5;124m\"\u001b[39m, models_crps[model])\n",
      "File \u001b[0;32m~/thesiscode/src/models/emos.py:438\u001b[0m, in \u001b[0;36mEMOS.fit\u001b[0;34m(self, X, y, variance, steps, printing)\u001b[0m\n\u001b[1;32m    436\u001b[0m \u001b[38;5;28mself\u001b[39m\u001b[38;5;241m.\u001b[39msteps_made \u001b[38;5;241m+\u001b[39m\u001b[38;5;241m=\u001b[39m steps\n\u001b[1;32m    437\u001b[0m \u001b[38;5;28;01mfor\u001b[39;00m step \u001b[38;5;129;01min\u001b[39;00m \u001b[38;5;28mrange\u001b[39m(steps):\n\u001b[0;32m--> 438\u001b[0m     loss_value, grads \u001b[38;5;241m=\u001b[39m \u001b[38;5;28;43mself\u001b[39;49m\u001b[38;5;241;43m.\u001b[39;49m\u001b[43mcompute_loss_and_gradient\u001b[49m\u001b[43m(\u001b[49m\u001b[43mX\u001b[49m\u001b[43m,\u001b[49m\u001b[43m \u001b[49m\u001b[43my\u001b[49m\u001b[43m,\u001b[49m\u001b[43m \u001b[49m\u001b[43mvariance\u001b[49m\u001b[43m)\u001b[49m\n\u001b[1;32m    440\u001b[0m     \u001b[38;5;66;03m# check if gradient contains nan\u001b[39;00m\n\u001b[1;32m    441\u001b[0m     \u001b[38;5;28;01mif\u001b[39;00m tf\u001b[38;5;241m.\u001b[39mmath\u001b[38;5;241m.\u001b[39mreduce_any(tf\u001b[38;5;241m.\u001b[39mmath\u001b[38;5;241m.\u001b[39mis_nan(grads[\u001b[38;5;241m0\u001b[39m])):\n",
      "File \u001b[0;32m~/thesiscode/src/models/emos.py:412\u001b[0m, in \u001b[0;36mEMOS.compute_loss_and_gradient\u001b[0;34m(self, X, y, variance)\u001b[0m\n\u001b[1;32m    398\u001b[0m \u001b[38;5;250m\u001b[39m\u001b[38;5;124;03m\"\"\"\u001b[39;00m\n\u001b[1;32m    399\u001b[0m \u001b[38;5;124;03mCompute the loss and the gradient of the loss with respect to the parameters of the model, \u001b[39;00m\n\u001b[1;32m    400\u001b[0m \u001b[38;5;124;03mwhich are the parameters of the forecast distribution.\u001b[39;00m\n\u001b[0;32m   (...)\u001b[0m\n\u001b[1;32m    409\u001b[0m \u001b[38;5;124;03m- grads: the gradients of the loss with respect to the parameters of the model.\u001b[39;00m\n\u001b[1;32m    410\u001b[0m \u001b[38;5;124;03m\"\"\"\u001b[39;00m\n\u001b[1;32m    411\u001b[0m \u001b[38;5;28;01mwith\u001b[39;00m tf\u001b[38;5;241m.\u001b[39mGradientTape() \u001b[38;5;28;01mas\u001b[39;00m tape:\n\u001b[0;32m--> 412\u001b[0m     loss_value \u001b[38;5;241m=\u001b[39m \u001b[38;5;28;43mself\u001b[39;49m\u001b[38;5;241;43m.\u001b[39;49m\u001b[43mloss\u001b[49m\u001b[43m(\u001b[49m\u001b[43mX\u001b[49m\u001b[43m,\u001b[49m\u001b[43m \u001b[49m\u001b[43my\u001b[49m\u001b[43m,\u001b[49m\u001b[43m \u001b[49m\u001b[43mvariance\u001b[49m\u001b[43m)\u001b[49m\n\u001b[1;32m    413\u001b[0m grads \u001b[38;5;241m=\u001b[39m tape\u001b[38;5;241m.\u001b[39mgradient(loss_value, [\u001b[38;5;241m*\u001b[39m\u001b[38;5;28mself\u001b[39m\u001b[38;5;241m.\u001b[39mforecast_distribution\u001b[38;5;241m.\u001b[39mget_parameter_dict()\u001b[38;5;241m.\u001b[39mvalues()])\n\u001b[1;32m    414\u001b[0m \u001b[38;5;28;01mreturn\u001b[39;00m loss_value, grads\n",
      "File \u001b[0;32m~/thesiscode/src/models/emos.py:326\u001b[0m, in \u001b[0;36mEMOS.loss_CRPS_sample\u001b[0;34m(self, X, y, variance)\u001b[0m\n\u001b[1;32m    325\u001b[0m \u001b[38;5;28;01mdef\u001b[39;00m \u001b[38;5;21mloss_CRPS_sample\u001b[39m(\u001b[38;5;28mself\u001b[39m, X, y, variance):\n\u001b[0;32m--> 326\u001b[0m     \u001b[38;5;28;01mreturn\u001b[39;00m \u001b[38;5;28;43mself\u001b[39;49m\u001b[38;5;241;43m.\u001b[39;49m\u001b[43mloss_CRPS_sample_general\u001b[49m\u001b[43m(\u001b[49m\u001b[43mX\u001b[49m\u001b[43m,\u001b[49m\u001b[43m \u001b[49m\u001b[43my\u001b[49m\u001b[43m,\u001b[49m\u001b[43m \u001b[49m\u001b[43mvariance\u001b[49m\u001b[43m,\u001b[49m\u001b[43m \u001b[49m\u001b[38;5;28;43mself\u001b[39;49m\u001b[38;5;241;43m.\u001b[39;49m\u001b[43msamples\u001b[49m\u001b[43m)\u001b[49m\n",
      "File \u001b[0;32m~/thesiscode/src/models/emos.py:311\u001b[0m, in \u001b[0;36mEMOS.loss_CRPS_sample_general\u001b[0;34m(self, X, y, variance, samples)\u001b[0m\n\u001b[1;32m    297\u001b[0m \u001b[38;5;28;01mdef\u001b[39;00m \u001b[38;5;21mloss_CRPS_sample_general\u001b[39m(\u001b[38;5;28mself\u001b[39m, X, y, variance, samples):\n\u001b[1;32m    298\u001b[0m \u001b[38;5;250m    \u001b[39m\u001b[38;5;124;03m\"\"\"\u001b[39;00m\n\u001b[1;32m    299\u001b[0m \u001b[38;5;124;03m    The loss function for the CRPS, based on the forecast distribution and observations.\u001b[39;00m\n\u001b[1;32m    300\u001b[0m \u001b[38;5;124;03m    We use a sample based approach to estimate the expected value of the CRPS.\u001b[39;00m\n\u001b[0;32m   (...)\u001b[0m\n\u001b[1;32m    309\u001b[0m \u001b[38;5;124;03m    - the loss value.\u001b[39;00m\n\u001b[1;32m    310\u001b[0m \u001b[38;5;124;03m    \"\"\"\u001b[39;00m\n\u001b[0;32m--> 311\u001b[0m     forecast_distribution \u001b[38;5;241m=\u001b[39m \u001b[38;5;28;43mself\u001b[39;49m\u001b[38;5;241;43m.\u001b[39;49m\u001b[43mforecast_distribution\u001b[49m\u001b[38;5;241;43m.\u001b[39;49m\u001b[43mget_distribution\u001b[49m\u001b[43m(\u001b[49m\u001b[43mX\u001b[49m\u001b[43m,\u001b[49m\u001b[43m \u001b[49m\u001b[43mvariance\u001b[49m\u001b[43m)\u001b[49m\n\u001b[1;32m    312\u001b[0m     X_1 \u001b[38;5;241m=\u001b[39m forecast_distribution\u001b[38;5;241m.\u001b[39msample(samples)\n\u001b[1;32m    313\u001b[0m     X_2 \u001b[38;5;241m=\u001b[39m forecast_distribution\u001b[38;5;241m.\u001b[39msample(samples)\n",
      "File \u001b[0;32m~/thesiscode/src/models/forecast_distributions.py:304\u001b[0m, in \u001b[0;36mFrechet.get_distribution\u001b[0;34m(self, X, variance)\u001b[0m\n\u001b[1;32m    303\u001b[0m \u001b[38;5;28;01mdef\u001b[39;00m \u001b[38;5;21mget_distribution\u001b[39m(\u001b[38;5;28mself\u001b[39m, X, variance):\n\u001b[0;32m--> 304\u001b[0m     location \u001b[38;5;241m=\u001b[39m \u001b[38;5;28;43mself\u001b[39;49m\u001b[38;5;241;43m.\u001b[39;49m\u001b[43mparameter_dict\u001b[49m\u001b[43m[\u001b[49m\u001b[38;5;124;43m'\u001b[39;49m\u001b[38;5;124;43ma_gev\u001b[39;49m\u001b[38;5;124;43m'\u001b[39;49m\u001b[43m]\u001b[49m \u001b[38;5;241m+\u001b[39m tf\u001b[38;5;241m.\u001b[39mtensordot(X, \u001b[38;5;28mself\u001b[39m\u001b[38;5;241m.\u001b[39mparameter_dict[\u001b[38;5;124m'\u001b[39m\u001b[38;5;124mb_gev\u001b[39m\u001b[38;5;124m'\u001b[39m], axes\u001b[38;5;241m=\u001b[39m\u001b[38;5;241m1\u001b[39m)\n\u001b[1;32m    305\u001b[0m     scale \u001b[38;5;241m=\u001b[39m \u001b[38;5;28mself\u001b[39m\u001b[38;5;241m.\u001b[39mparameter_dict[\u001b[38;5;124m'\u001b[39m\u001b[38;5;124mc_gev\u001b[39m\u001b[38;5;124m'\u001b[39m] \u001b[38;5;241m+\u001b[39m tf\u001b[38;5;241m.\u001b[39mtensordot(X, \u001b[38;5;28mself\u001b[39m\u001b[38;5;241m.\u001b[39mparameter_dict[\u001b[38;5;124m'\u001b[39m\u001b[38;5;124md_gev\u001b[39m\u001b[38;5;124m'\u001b[39m], axes\u001b[38;5;241m=\u001b[39m\u001b[38;5;241m1\u001b[39m)  \n\u001b[1;32m    306\u001b[0m     shape \u001b[38;5;241m=\u001b[39m \u001b[38;5;28mself\u001b[39m\u001b[38;5;241m.\u001b[39mparameter_dict[\u001b[38;5;124m'\u001b[39m\u001b[38;5;124me_gev\u001b[39m\u001b[38;5;124m'\u001b[39m] \n",
      "\u001b[0;31mKeyError\u001b[0m: 'a_gev'"
     ]
    }
   ],
   "source": [
    "epochs = 600\n",
    "\n",
    "for model in models_crps:\n",
    "    models_crps[model].fit(X_train, y_train, variances_train, epochs, printing=False)\n",
    "    print(\"Model: \", models_crps[model])"
   ]
  },
  {
   "cell_type": "code",
   "execution_count": 7,
   "metadata": {},
   "outputs": [
    {
     "name": "stdout",
     "output_type": "stream",
     "text": [
      "Using default parameters for truncated normal distribution\n",
      "Using default parameters for Log Normal distribution\n",
      "Parameter a_tn set to [0.39877644]\n",
      "Parameter b_tn set to [ 0.96537703 -0.02143944 -0.14677921  0.03340424  0.00861133]\n",
      "Parameter c_tn set to [1.5119647]\n",
      "Parameter d_tn set to [1.0494062]\n",
      "Parameter a_ln set to [0.84717226]\n",
      "Parameter b_ln set to [ 0.13415903 -0.08256909 -0.03494003 -0.02212007  0.07403305]\n",
      "Parameter c_ln set to [0.12252551]\n",
      "Parameter d_ln set to [-0.00185185]\n",
      "Using default parameters for truncated normal distribution\n",
      "Using default parameters for Generalized Extreme Value distribution\n",
      "Parameter a_tn set to [0.39877644]\n",
      "Parameter b_tn set to [ 0.96537703 -0.02143944 -0.14677921  0.03340424  0.00861133]\n",
      "Parameter c_tn set to [1.5119647]\n",
      "Parameter d_tn set to [1.0494062]\n",
      "Parameter a_gev set to [0.45506248]\n",
      "Parameter b_gev set to [ 0.85179746 -0.06311508 -0.06636012 -0.00752052  0.05263763]\n",
      "Parameter c_gev set to [0.7451227]\n",
      "Parameter d_gev set to [ 0.14845866  0.01187576 -0.02857839  0.01838424 -0.11675347]\n",
      "Parameter e_gev set to [-0.218535]\n"
     ]
    }
   ],
   "source": [
    "setup1[\"forecast_distribution\"] = \"distr_mixture\"\n",
    "setup1[\"distribution_1\"] = \"distr_trunc_normal\"\n",
    "setup1[\"distribution_2\"] = \"distr_log_normal\"\n",
    "\n",
    "mixture_trunc_log_crps = EMOS(setup1)\n",
    "mixture_trunc_log_crps.set_parameters(models_crps[\"trunc_normal_crps\"].get_parameters())\n",
    "mixture_trunc_log_crps.set_parameters(models_crps[\"log_normal_crps\"].get_parameters())\n",
    "\n",
    "setup1[\"distribution_2\"] = \"distr_gev\"\n",
    "mixture_trunc_gev_crps = EMOS(setup1)\n",
    "\n",
    "mixture_trunc_gev_crps.set_parameters(models_crps[\"trunc_normal_crps\"].get_parameters())\n",
    "mixture_trunc_gev_crps.set_parameters(models_crps[\"gev_crps\"].get_parameters())\n",
    "\n",
    "models_crps[\"mixture_trunc_log_crps\"] = mixture_trunc_log_crps\n",
    "models_crps[\"mixture_trunc_gev_crps\"] = mixture_trunc_gev_crps\n",
    "\n",
    "\n"
   ]
  },
  {
   "cell_type": "code",
   "execution_count": 8,
   "metadata": {},
   "outputs": [
    {
     "name": "stdout",
     "output_type": "stream",
     "text": [
      "Model:  EMOS Model Information:\n",
      "Loss function: loss_CRPS_sample (Samples: 300)\n",
      "Forecast distribution: distr_mixture\n",
      "Distribution 1: distr_trunc_normal\n",
      "Distribution 2: distr_gev\n",
      "Mixture weight: [0.7461292]Parameters:\n",
      "  weight: [0.7461292]\n",
      "  a_tn: [0.17826913]\n",
      "  b_tn: [ 0.9718878   0.03630939 -0.22908656  0.01684522  0.09398254]\n",
      "  c_tn: [2.1452122]\n",
      "  d_tn: [1.4145594]\n",
      "  a_gev: [0.18985537]\n",
      "  b_gev: [ 0.8615058  -0.02287646 -0.11507069 -0.00831719  0.093931  ]\n",
      "  c_gev: [0.99556327]\n",
      "  d_gev: [ 0.34962878 -0.50541764  0.35834497  0.27062848 -0.6795567 ]\n",
      "  e_gev: [-0.18589401]\n",
      "Features: wind_speed, press, kinetic, humid, geopot\n",
      "Number of features: 5\n",
      "Neighbourhood size: 11\n",
      "\n",
      "Optimizer: Adam\n",
      "Learning rate: 0.009999999776482582\n",
      "\n",
      "Model:  EMOS Model Information:\n",
      "Loss function: loss_CRPS_sample (Samples: 300)\n",
      "Forecast distribution: distr_mixture\n",
      "Distribution 1: distr_trunc_normal\n",
      "Distribution 2: distr_log_normal\n",
      "Mixture weight: [0.6916055]Parameters:\n",
      "  weight: [0.6916055]\n",
      "  a_tn: [-1.0283713]\n",
      "  b_tn: [ 1.2930387  -0.0377906  -0.33772334 -0.17873108 -0.17414814]\n",
      "  c_tn: [0.71046925]\n",
      "  d_tn: [2.5603485]\n",
      "  a_ln: [1.0573772]\n",
      "  b_ln: [ 0.05628962 -0.02738894  0.03860348  0.1043772   0.1113851 ]\n",
      "  c_ln: [0.5596683]\n",
      "  d_ln: [-0.05254728]\n",
      "Features: wind_speed, press, kinetic, humid, geopot\n",
      "Number of features: 5\n",
      "Neighbourhood size: 11\n",
      "\n",
      "Optimizer: Adam\n",
      "Learning rate: 0.009999999776482582\n",
      "\n"
     ]
    }
   ],
   "source": [
    "models_crps[\"mixture_trunc_gev_crps\"].fit(X_train, y_train, variances_train, epochs, printing=False)\n",
    "print(\"Model: \", models_crps[\"mixture_trunc_gev_crps\"])\n",
    "\n",
    "models_crps[\"mixture_trunc_log_crps\"].fit(X_train, y_train, variances_train, epochs, printing=False)\n",
    "print(\"Model: \", models_crps[\"mixture_trunc_log_crps\"])"
   ]
  },
  {
   "cell_type": "code",
   "execution_count": 9,
   "metadata": {},
   "outputs": [
    {
     "name": "stdout",
     "output_type": "stream",
     "text": [
      "EMOS Model Information:\n",
      "Loss function: loss_CRPS_sample (Samples: 100)\n",
      "Forecast distribution: distr_trunc_normal\n",
      "Parameters:\n",
      "  a_tn: [0.39877644]\n",
      "  b_tn: [ 0.96537703 -0.02143944 -0.14677921  0.03340424  0.00861133]\n",
      "  c_tn: [1.5119647]\n",
      "  d_tn: [1.0494062]\n",
      "Features: wind_speed, press, kinetic, humid, geopot\n",
      "Number of features: 5\n",
      "Neighbourhood size: 11\n",
      "\n",
      "Optimizer: Adam\n",
      "Learning rate: 0.009999999776482582\n",
      "\n"
     ]
    }
   ],
   "source": [
    "base_model = models_crps.pop(\"trunc_normal_crps\")\n",
    "print(base_model)\n"
   ]
  },
  {
   "cell_type": "code",
   "execution_count": 10,
   "metadata": {},
   "outputs": [
    {
     "data": {
      "image/png": "[encoded data removed]",
      "text/plain": [
       "<Figure size 640x480 with 1 Axes>"
      ]
     },
     "metadata": {},
     "output_type": "display_data"
    }
   ],
   "source": [
    "values = np.linspace(0, 15, 150)\n",
    "brier_skill_plot(base_model, models_crps, X_test, y_test, variances_test, values)"
   ]
  },
  {
   "cell_type": "code",
   "execution_count": 15,
   "metadata": {},
   "outputs": [
    {
     "data": {
      "text/plain": [
       "'+------------------------+----------+----------+-----------+-----------+-----------+-----------+-----------+\\n| Model                  |     CRPS |   t = 10 |    t = 11 |    t = 12 |    t = 13 |    t = 14 |    t = 15 |\\n+========================+==========+==========+===========+===========+===========+===========+===========+\\n| log_normal_crps        | 1.03035  | 0.171275 | 0.131885  | 0.102391  | 0.0801989 | 0.06348   | 0.0505541 |\\n+------------------------+----------+----------+-----------+-----------+-----------+-----------+-----------+\\n| gev_crps               | 0.890981 | 0.132688 | 0.0938935 | 0.0636266 | 0.0415286 | 0.0256181 | 0.0154938 |\\n+------------------------+----------+----------+-----------+-----------+-----------+-----------+-----------+\\n| mixture_trunc_log_crps | 0.892852 | 0.13308  | 0.0948174 | 0.0641383 | 0.0425652 | 0.026238  | 0.0157605 |\\n+------------------------+----------+----------+-----------+-----------+-----------+-----------+-----------+\\n| mixture_trunc_gev_crps | 0.885092 | 0.131988 | 0.0944743 | 0.0639482 | 0.0423239 | 0.0263346 | 0.0158414 |\\n+------------------------+----------+----------+-----------+-----------+-----------+-----------+-----------+\\n| trunc_normal_crps      | 0.890227 | 0.132603 | 0.0946305 | 0.0639675 | 0.0422456 | 0.0258871 | 0.0150939 |\\n+------------------------+----------+----------+-----------+-----------+-----------+-----------+-----------+'"
      ]
     },
     "execution_count": 15,
     "metadata": {},
     "output_type": "execute_result"
    }
   ],
   "source": [
    "t = [10, 11,12,13,14,15]\n",
    "samples = 1000\n",
    "models_crps['trunc_normal_crps'] = base_model\n",
    "\n",
    "make_table(models_crps, X_test, y_test, variances_test, t, samples)"
   ]
  }
 ],
 "metadata": {
  "kernelspec": {
   "display_name": "Python 3",
   "language": "python",
   "name": "python3"
  },
  "language_info": {
   "codemirror_mode": {
    "name": "ipython",
    "version": 3
   },
   "file_extension": ".py",
   "mimetype": "text/x-python",
   "name": "python",
   "nbconvert_exporter": "python",
   "pygments_lexer": "ipython3",
   "version": "3.11.7"
  }
 },
 "nbformat": 4,
 "nbformat_minor": 2
}
