{
 "cells": [
  {
   "cell_type": "code",
   "execution_count": 1,
   "metadata": {},
   "outputs": [
    {
     "name": "stderr",
     "output_type": "stream",
     "text": [
      "2024-06-10 10:57:12.903335: I external/local_tsl/tsl/cuda/cudart_stub.cc:32] Could not find cuda drivers on your machine, GPU will not be used.\n",
      "2024-06-10 10:57:12.905812: I external/local_tsl/tsl/cuda/cudart_stub.cc:32] Could not find cuda drivers on your machine, GPU will not be used.\n",
      "2024-06-10 10:57:12.937625: I tensorflow/core/platform/cpu_feature_guard.cc:210] This TensorFlow binary is optimized to use available CPU instructions in performance-critical operations.\n",
      "To enable the following instructions: AVX2 FMA, in other operations, rebuild TensorFlow with the appropriate compiler flags.\n",
      "2024-06-10 10:57:19.386528: W tensorflow/compiler/tf2tensorrt/utils/py_utils.cc:38] TF-TRT Warning: Could not find TensorRT\n"
     ]
    }
   ],
   "source": [
    "from src.neural_networks.get_data import get_tf_data, stack_1d_features, normalize_1d_features_with_mean_std, load_cv_data\n",
    "from src.neural_networks.nn_forecast import NNForecast\n",
    "from src.visualization.twcrpss_plot import make_twcrpss_plot_tf\n",
    "from src.visualization.brier_score import make_brier_skill_plot_tf\n",
    "from src.visualization.pit import make_cpit_diagram_tf, comp_multiple_pit_scores\n",
    "from src.visualization.reliability_diagram import make_reliability_and_sharpness_tf\n",
    "from src.training.training import load_model\n",
    "from src.visualization.plot_forecasts import plot_forecast_pdf_tf\n",
    "from src.climatology.climatology import Climatology\n",
    "from src.visualization.brier_score import get_brier_scores_tf\n",
    "from src.models.emos import BootstrapEmos, EMOS\n",
    "\n",
    "\n",
    "import tensorflow as tf\n",
    "import numpy as np\n",
    "import matplotlib.pyplot as plt\n",
    "import matplotlib.cm as cm\n",
    "import pickle\n",
    "import optuna"
   ]
  },
  {
   "cell_type": "code",
   "execution_count": 2,
   "metadata": {},
   "outputs": [],
   "source": [
    "features_names = ['wind_speed', 'press', 'kinetic', 'humid', 'geopot']\n",
    "\n",
    "features_names_dict = {name: 1 for name in features_names}\n",
    "\n",
    "features_names_dict['wind_speed'] = 15\n",
    "\n",
    "ignore = ['229', '285', '323']"
   ]
  },
  {
   "cell_type": "code",
   "execution_count": 3,
   "metadata": {},
   "outputs": [],
   "source": [
    "train_data_original, test_data, data_info = load_cv_data(3, features_names_dict)\n",
    "\n",
    "train_data = train_data_original.shuffle(len(train_data_original))\n",
    "\n",
    "train_data = train_data.batch(32)\n",
    "\n",
    "train_data = train_data.prefetch(tf.data.experimental.AUTOTUNE)"
   ]
  },
  {
   "cell_type": "code",
   "execution_count": 4,
   "metadata": {},
   "outputs": [],
   "source": [
    "test_data_original = test_data"
   ]
  },
  {
   "cell_type": "code",
   "execution_count": 5,
   "metadata": {},
   "outputs": [],
   "source": [
    "test_data = test_data.batch(len(test_data))\n",
    "\n",
    "test_data = test_data.repeat()\n",
    "\n",
    "test_data = test_data.prefetch(tf.data.experimental.AUTOTUNE)"
   ]
  },
  {
   "cell_type": "code",
   "execution_count": 6,
   "metadata": {},
   "outputs": [],
   "source": [
    "folder = '/net/pc200239/nobackup/users/hakvoort/models/climatology/climatology_cv_3'\n",
    "\n",
    "climatology = Climatology.load(folder)"
   ]
  },
  {
   "cell_type": "code",
   "execution_count": 7,
   "metadata": {},
   "outputs": [],
   "source": [
    "twcrps_bootstrap = BootstrapEmos.load('/net/pc200239/nobackup/users/hakvoort/models/bootstrap_emos/tn_ln_M13_STD2_C07')\n",
    "\n",
    "crps_bootstrap = BootstrapEmos.load('/net/pc200239/nobackup/users/hakvoort/models/bootstrap_emos/crps')"
   ]
  },
  {
   "cell_type": "code",
   "execution_count": 8,
   "metadata": {},
   "outputs": [],
   "source": [
    "x = np.arange(0.1, 20, 0.5)\n",
    "x_shift = x + 0.2"
   ]
  },
  {
   "cell_type": "code",
   "execution_count": null,
   "metadata": {},
   "outputs": [],
   "source": [
    "brier_model_1 = crps_bootstrap.Brier_Score(test_data, x)\n",
    "\n",
    "brier_model_1_shift = crps_bootstrap.Brier_Score(test_data, x_shift)\n",
    "\n",
    "brier_model_2_shift = twcrps_bootstrap.Brier_Score(test_data, x_shift)"
   ]
  },
  {
   "cell_type": "code",
   "execution_count": null,
   "metadata": {},
   "outputs": [],
   "source": [
    "twcrps_scores_model_1 = crps_bootstrap.twCRPS(test_data, x, 500)\n",
    "\n",
    "twcrps_scores_model_1_shift = crps_bootstrap.twCRPS(test_data, x_shift, 500)\n",
    "\n",
    "twcrps_scores_model_2_shift = twcrps_bootstrap.twCRPS(test_data, x_shift, 500)"
   ]
  },
  {
   "cell_type": "code",
   "execution_count": null,
   "metadata": {},
   "outputs": [],
   "source": [
    "brier_mean_model_1 = brier_model_1.mean(axis=1)\n",
    "brier_mean_model_1_shift = brier_model_1_shift.mean(axis=1)"
   ]
  },
  {
   "cell_type": "code",
   "execution_count": null,
   "metadata": {},
   "outputs": [],
   "source": [
    "bss_model_1 = 1 - brier_model_1 / brier_mean_model_1[:, np.newaxis]\n",
    "\n",
    "bss_model_2 = 1 - brier_model_2_shift / brier_mean_model_1_shift[:, np.newaxis]\n",
    "\n",
    "bss_model_1_mean = bss_model_1.mean(axis=1)\n",
    "bss_model_1_std = bss_model_1.std(axis=1)\n",
    "\n",
    "bss_model_2_mean = bss_model_2.mean(axis=1)\n",
    "bss_model_2_std = bss_model_2.std(axis=1)"
   ]
  },
  {
   "cell_type": "code",
   "execution_count": null,
   "metadata": {},
   "outputs": [],
   "source": [
    "twcrps_mean_model_1 = twcrps_scores_model_1.mean(axis=1)\n",
    "twcrps_mean_model_1_shift = twcrps_scores_model_1_shift.mean(axis=1)"
   ]
  },
  {
   "cell_type": "code",
   "execution_count": null,
   "metadata": {},
   "outputs": [],
   "source": [
    "twcrpss_model_1 = 1 - twcrps_scores_model_1 / twcrps_mean_model_1[:, np.newaxis]\n",
    "\n",
    "twcrpss_model_2 = 1 - twcrps_scores_model_2_shift / twcrps_mean_model_1_shift[:, np.newaxis]\n",
    "\n",
    "twcrpss_model_1_mean = twcrpss_model_1.mean(axis=1)\n",
    "twcrpss_model_1_std = twcrpss_model_1.std(axis=1)\n",
    "\n",
    "twcrpss_model_2_mean = twcrpss_model_2.mean(axis=1)\n",
    "twcrpss_model_2_std = twcrpss_model_2.std(axis=1)"
   ]
  },
  {
   "cell_type": "code",
   "execution_count": null,
   "metadata": {},
   "outputs": [],
   "source": [
    "brier_score_climatology = climatology.Brier_Score(test_data, x)\n",
    "brier_score_climatology_shift = climatology.Brier_Score(test_data, x_shift)\n",
    "\n",
    "twcrps_climatology = climatology.twCRPS(test_data, x, 500)\n",
    "twcrps_climatology_shift = climatology.twCRPS(test_data, x_shift, 500)"
   ]
  },
  {
   "cell_type": "code",
   "execution_count": null,
   "metadata": {},
   "outputs": [],
   "source": [
    "bss_model_1_climatology = 1 - brier_model_1 / brier_score_climatology[:, np.newaxis]\n",
    "bss_model_1_climatology_shift = 1 - brier_model_1_shift / brier_score_climatology_shift[:, np.newaxis]\n",
    "bss_model_2_climatology_shift = 1 - brier_model_2_shift / brier_score_climatology_shift[:, np.newaxis]\n",
    "\n",
    "bss_model_1_mean_climatology = bss_model_1_climatology.mean(axis=1)\n",
    "bss_model_1_std_climatology = bss_model_1_climatology.std(axis=1)\n",
    "\n",
    "bss_model_1_mean_climatology_shift = bss_model_1_climatology_shift.mean(axis=1)\n",
    "bss_model_1_std_climatology_shift = bss_model_1_climatology_shift.std(axis=1)\n",
    "\n",
    "bss_model_2_mean_climatology_shift = bss_model_2_climatology_shift.mean(axis=1)\n",
    "bss_model_2_std_climatology_shift = bss_model_2_climatology_shift.std(axis=1)"
   ]
  },
  {
   "cell_type": "code",
   "execution_count": 9,
   "metadata": {},
   "outputs": [
    {
     "name": "stdout",
     "output_type": "stream",
     "text": [
      "Using given parameters for Truncated Normal distribution\n",
      "Using given parameters for Truncated Normal distribution\n",
      "Using given parameters for Log Normal distribution\n",
      "Using given weight parameters for weights in Mixture Linear distribution\n"
     ]
    }
   ],
   "source": [
    "filepath = '/net/pc200239/nobackup/users/hakvoort/models/emos_tf/tn_crps.pkl'\n",
    "\n",
    "with open(filepath, 'rb') as f:\n",
    "    model_1 = EMOS(pickle.load(f))\n",
    "\n",
    "filepath = '/net/pc200239/nobackup/users/hakvoort/models/emos_tf/tn_ln_M13_STD2_C07.pkl'\n",
    "\n",
    "with open(filepath, 'rb') as f:\n",
    "    model_2 = EMOS(pickle.load(f))"
   ]
  },
  {
   "cell_type": "code",
   "execution_count": 10,
   "metadata": {},
   "outputs": [],
   "source": [
    "models_emos = {'tn_CRPS': model_1, 'ml_tn_ln_M13_STD2_C07': model_2}\n",
    "\n",
    "only_model_2 = {'tn_ln_M13_STD2_C07': model_2}"
   ]
  },
  {
   "cell_type": "code",
   "execution_count": null,
   "metadata": {},
   "outputs": [],
   "source": [
    "study = optuna.load_study(study_name='twcrps_obj_CRPS_twCRPS12_MOTPE', storage=f'sqlite:///{filepath}/study.db')\n",
    "study.set_metric_names(['CRPS', 'twCRPS12'])"
   ]
  },
  {
   "cell_type": "code",
   "execution_count": null,
   "metadata": {},
   "outputs": [],
   "source": [
    "df = study.trials_dataframe()\n",
    "\n",
    "new_column_names = {\n",
    "    'params_chain_function_mean': 'cf_mean',\n",
    "    'params_chain_function_std': 'cf_std',\n",
    "    'params_chain_function_constant': 'cf_constant',\n",
    "    'values_CRPS': 'CRPS',\n",
    "    'values_twCRPS12': 'twCRPS12',\n",
    "    'params_forecast_distribution': 'forecast_distribution',\n",
    "    'params_distribution_1': 'distribution_1',\n",
    "    'params_distribution_2': 'distribution_2',\n",
    "    'params_epochs': 'epochs',\n",
    "    'params_learning_rate': 'learning_rate',\n",
    "    'params_batch_size': 'batch_size',\n",
    "    'params_optimizer': 'optimizer'\n",
    "}\n",
    "\n",
    "df.rename(columns=new_column_names, inplace=True)"
   ]
  },
  {
   "cell_type": "code",
   "execution_count": null,
   "metadata": {},
   "outputs": [],
   "source": [
    "study2 = optuna.load_study(study_name='twcrps_obj_CRPS_twCRPS12_MOTPE_pretrain_train_amount_1_final', storage=f'sqlite:///{filepath}/study.db')\n",
    "study2.set_metric_names(['CRPS', 'twCRPS12'])"
   ]
  },
  {
   "cell_type": "code",
   "execution_count": null,
   "metadata": {},
   "outputs": [],
   "source": [
    "df2 = study.trials_dataframe()\n",
    "\n",
    "df2.rename(columns=new_column_names, inplace=True)"
   ]
  },
  {
   "cell_type": "code",
   "execution_count": null,
   "metadata": {},
   "outputs": [],
   "source": [
    "length = 8\n",
    "top_CRPS = df.sort_values('CRPS').head(length)\n",
    "top_twCRPS12 = df.sort_values('twCRPS12').head(length)\n",
    "\n",
    "top_CRPS_2 = df2.sort_values('CRPS').head(length)\n",
    "top_twCRPS12_2 = df2.sort_values('twCRPS12').head(length)"
   ]
  },
  {
   "cell_type": "code",
   "execution_count": null,
   "metadata": {},
   "outputs": [],
   "source": [
    "pareto_front = study.best_trials\n",
    "best_runs = [trial.number for trial in pareto_front]\n",
    "\n",
    "pareto_trials = df['number'].isin(best_runs)\n",
    "\n",
    "my_run = df[pareto_trials]"
   ]
  },
  {
   "cell_type": "code",
   "execution_count": null,
   "metadata": {},
   "outputs": [],
   "source": [
    "pareto_front2 = study2.best_trials\n",
    "best_runs2 = [trial.number for trial in pareto_front2]\n",
    "\n",
    "pareto_trials2 = df['number'].isin(best_runs2)\n",
    "\n",
    "my_run_2 = df2[pareto_trials2]"
   ]
  },
  {
   "cell_type": "code",
   "execution_count": null,
   "metadata": {},
   "outputs": [],
   "source": [
    "params = ['cf_mean',\n",
    "           'cf_std', \n",
    "           'cf_constant',\n",
    "             'forecast_distribution', \n",
    "             'distribution_1',\n",
    "              'distribution_2',\n",
    "                'CRPS',\n",
    "             'twCRPS12',\n",
    "             ]\n",
    "\n",
    "all_params = ['cf_mean',\n",
    "           'cf_std', \n",
    "           'cf_constant',\n",
    "             'forecast_distribution', \n",
    "             'distribution_1',\n",
    "              'distribution_2',\n",
    "              'batch_size',\n",
    "              'epochs',\n",
    "              'learning_rate',\n",
    "              'optimizer',\n",
    "                'CRPS',\n",
    "             'twCRPS12',\n",
    "             ]"
   ]
  },
  {
   "cell_type": "code",
   "execution_count": null,
   "metadata": {},
   "outputs": [],
   "source": [
    "pareto = my_run.sort_values('CRPS')\n",
    "pareto2 = my_run_2.sort_values('CRPS')\n",
    "\n"
   ]
  },
  {
   "cell_type": "code",
   "execution_count": 11,
   "metadata": {},
   "outputs": [
    {
     "name": "stdout",
     "output_type": "stream",
     "text": [
      "\u001b[1m1/1\u001b[0m \u001b[32m━━━━━━━━━━━━━━━━━━━━\u001b[0m\u001b[37m\u001b[0m \u001b[1m1s\u001b[0m 936ms/step\n"
     ]
    },
    {
     "name": "stderr",
     "output_type": "stream",
     "text": [
      "/usr/people/hakvoort/.local/lib/python3.12/site-packages/keras/src/saving/saving_lib.py:415: UserWarning: Skipping variable loading for optimizer 'adam', because it has 2 variables whereas the saved optimizer has 142 variables. \n",
      "  saveable.load_own_variables(weights_store.get(inner_path))\n"
     ]
    }
   ],
   "source": [
    "filepath = '/net/pc200239/nobackup/users/hakvoort/models/conv_nn/'\n",
    "\n",
    "es_1 = NNForecast.my_load(filepath + 'CRPS_trunc_normal_epochs_50_early_stopping_1', train_data)\n",
    "\n"
   ]
  },
  {
   "cell_type": "markdown",
   "metadata": {},
   "source": [
    "## Work of the past weeks\n",
    "\n",
    "- Impelemented bootstrapping for EMOS with linear regression\n",
    "\n",
    "- Implemented climatology\n",
    "\n",
    "- Trained neural networks with longer training times\n",
    "\n",
    "- Experimented with MOTPE\n",
    "\n"
   ]
  },
  {
   "cell_type": "markdown",
   "metadata": {},
   "source": [
    "## Results for bootstrapping emos"
   ]
  },
  {
   "cell_type": "code",
   "execution_count": null,
   "metadata": {},
   "outputs": [],
   "source": [
    "plt.errorbar(x, bss_model_1_mean, yerr=bss_model_1_std,  capsize=2, color='blue', label='CRPS_tn')\n",
    "plt.errorbar(x_shift, bss_model_2_mean, yerr=bss_model_2_std, capsize=2, color='red', label='twCRPS_M13_STD2_C07_ml_tn_ln')\n",
    "\n",
    "plt.xlim(0, 20)\n",
    "plt.xlabel('Threshold')\n",
    "plt.ylabel('Brier Skill Score')\n",
    "plt.title('Brier Skill Scores')\n",
    "plt.legend()\n",
    "plt.show()"
   ]
  },
  {
   "cell_type": "code",
   "execution_count": null,
   "metadata": {},
   "outputs": [],
   "source": [
    "plt.errorbar(x, twcrpss_model_1_mean, yerr=twcrpss_model_1_std,  capsize=2, color='blue', label='CRPS_tn')\n",
    "plt.errorbar(x_shift, twcrpss_model_2_mean, yerr=twcrpss_model_2_std, capsize=2, color='red', label='twCRPS_M13_STD2_C07_ml_tn_ln')\n",
    "\n",
    "plt.xlabel('Threshold')\n",
    "plt.ylabel('twCRPSS')\n",
    "plt.title('twCRPSS Scores')\n",
    "plt.xlim(0, 20)\n",
    "plt.legend()\n",
    "plt.show()"
   ]
  },
  {
   "cell_type": "code",
   "execution_count": null,
   "metadata": {},
   "outputs": [],
   "source": [
    "plt.errorbar(x_shift, bss_model_2_mean_climatology_shift, yerr=bss_model_2_std_climatology_shift, label='twCRPS_M13_STD2_C07_ml_tn_ln', color='red')\n",
    "plt.errorbar(x, bss_model_1_mean_climatology, yerr=bss_model_1_std_climatology, label='CRPS_tn', color='blue')\n",
    "\n",
    "# plot a straight line from 0, 0 to 20, 0, dashed and black\n",
    "plt.plot([0, 20], [0, 0], 'k--', label='climatology')\n",
    "plt.xlim([0, 20])\n",
    "plt.title('Brier Skill Scores, with climatology')\n",
    "plt.legend()\n",
    "plt.show()"
   ]
  },
  {
   "cell_type": "code",
   "execution_count": null,
   "metadata": {},
   "outputs": [],
   "source": [
    "t = 15\n",
    "make_cpit_diagram_tf(models_emos, test_data_original, t=t)"
   ]
  },
  {
   "cell_type": "code",
   "execution_count": null,
   "metadata": {},
   "outputs": [],
   "source": [
    "t = 15\n",
    "make_reliability_and_sharpness_tf(models_emos, test_data, t=t)"
   ]
  },
  {
   "cell_type": "markdown",
   "metadata": {},
   "source": [
    "## Experimented with MOTPE\n",
    "\n",
    "Implemented MOTPE, where I optimized over the following variables:\n",
    "\n",
    "- Mean and std of the Gaussian cdf and constant, for the weight function $w(z) = c + \\Phi_{\\mu, \\sigma}(z)$. \n",
    "The values where $c \\in [0.00001, 2], \\mu \\in [-5, 15]$ and $\\sigma \\in [0.0001, 10]$\n",
    "\n",
    "- Learning rate, between 0.0001 and 0.1.\n",
    "\n",
    "- Optimizer, SGD or Adam.\n",
    "\n",
    "- Forecast distribution, TN, LN, GEV or a mixture/mixture linear.\n",
    "\n",
    "- Batch size, $2^i$, where $i \\in \\{5,6,...,10\\}$ or equal to the entire dataset.\n",
    "\n",
    "- Number of epochs, between 100 and 500.\n",
    "\n",
    "I performed three fold cross-validation. Three different tables, one with the top configurations for optimizing CRPS, one for twCRPS12 and one for the pareto front.\n"
   ]
  },
  {
   "cell_type": "code",
   "execution_count": null,
   "metadata": {},
   "outputs": [],
   "source": [
    "display(top_CRPS[all_params])"
   ]
  },
  {
   "cell_type": "code",
   "execution_count": null,
   "metadata": {},
   "outputs": [],
   "source": [
    "display(top_twCRPS12[all_params])"
   ]
  },
  {
   "cell_type": "code",
   "execution_count": null,
   "metadata": {},
   "outputs": [],
   "source": [
    "display(pareto[all_params])"
   ]
  },
  {
   "cell_type": "markdown",
   "metadata": {},
   "source": [
    "## Implemented Early Stopping"
   ]
  },
  {
   "cell_type": "markdown",
   "metadata": {},
   "source": [
    "Patience of 10, es_1 has epoch 17 as best"
   ]
  },
  {
   "cell_type": "code",
   "execution_count": 13,
   "metadata": {},
   "outputs": [
    {
     "name": "stdout",
     "output_type": "stream",
     "text": [
      "Using given parameters for Truncated Normal distribution\n"
     ]
    }
   ],
   "source": [
    "filepath = '/net/pc200239/nobackup/users/hakvoort/models/emos/batching/'\n",
    "\n",
    "emos_base = load_model(filepath + 'crps_batch_none_epochs_600')\n",
    "\n",
    "models = {'model_1':es_1}"
   ]
  },
  {
   "cell_type": "code",
   "execution_count": 15,
   "metadata": {},
   "outputs": [
    {
     "name": "stdout",
     "output_type": "stream",
     "text": [
      "\u001b[1m244/244\u001b[0m \u001b[32m━━━━━━━━━━━━━━━━━━━━\u001b[0m\u001b[37m\u001b[0m \u001b[1m1s\u001b[0m 4ms/step\n"
     ]
    },
    {
     "data": {
      "image/png": "[encoded data removed]",
      "text/plain": [
       "<Figure size 640x480 with 1 Axes>"
      ]
     },
     "metadata": {},
     "output_type": "display_data"
    }
   ],
   "source": [
    "values = np.linspace(0, 20, 200)\n",
    "ylim = [-0.1, 0.2]\n",
    "#ylim = [-0.2, 1]\n",
    "make_brier_skill_plot_tf(climatology, models, test_data, values, ylim=ylim)"
   ]
  }
 ],
 "metadata": {
  "kernelspec": {
   "display_name": "Python 3",
   "language": "python",
   "name": "python3"
  },
  "language_info": {
   "codemirror_mode": {
    "name": "ipython",
    "version": 3
   },
   "file_extension": ".py",
   "mimetype": "text/x-python",
   "name": "python",
   "nbconvert_exporter": "python",
   "pygments_lexer": "ipython3",
   "version": "3.12.3"
  }
 },
 "nbformat": 4,
 "nbformat_minor": 2
}
