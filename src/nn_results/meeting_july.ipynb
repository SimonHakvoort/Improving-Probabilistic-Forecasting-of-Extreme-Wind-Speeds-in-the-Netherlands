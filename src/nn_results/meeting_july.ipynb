{
 "cells": [
  {
   "cell_type": "code",
   "execution_count": 33,
   "metadata": {},
   "outputs": [],
   "source": [
    "from src.neural_networks.get_data import get_tf_data, stack_1d_features, normalize_1d_features_with_mean_std, load_cv_data\n",
    "from src.neural_networks.nn_forecast import NNForecast\n",
    "from src.visualization.twcrpss_plot import make_twcrpss_plot_tf\n",
    "from src.visualization.brier_score import make_brier_skill_plot_tf\n",
    "from src.visualization.pit import make_cpit_diagram_tf, comp_multiple_pit_scores\n",
    "from src.visualization.reliability_diagram import make_reliability_and_sharpness_tf\n",
    "from src.training.training import load_model\n",
    "from src.visualization.plot_forecasts import plot_forecast_pdf_tf\n",
    "from src.climatology.climatology import Climatology\n",
    "from src.visualization.brier_score import get_brier_scores_tf\n",
    "from src.models.emos import BootstrapEmos, EMOS\n",
    "\n",
    "from scipy.stats import norm, pareto\n",
    "\n",
    "import tensorflow as tf\n",
    "import numpy as np\n",
    "import matplotlib.pyplot as plt\n",
    "import matplotlib.cm as cm\n",
    "import pickle\n",
    "import optuna"
   ]
  },
  {
   "cell_type": "code",
   "execution_count": 2,
   "metadata": {},
   "outputs": [
    {
     "name": "stderr",
     "output_type": "stream",
     "text": [
      "/tmp/ipykernel_1035346/2379815591.py:4: ExperimentalWarning: set_metric_names is experimental (supported from v3.2.0). The interface can change in the future.\n",
      "  study.set_metric_names(['CRPS', 'twCRPS12'])\n"
     ]
    }
   ],
   "source": [
    "filepath = '/net/pc200239/nobackup/users/hakvoort/hyperopt/hyperopt_emos/'\n",
    "\n",
    "study = optuna.load_study(study_name='MOTPE_CRPS_CRPS12_long_run', storage=f'sqlite:///{filepath}/study.db')\n",
    "study.set_metric_names(['CRPS', 'twCRPS12'])"
   ]
  },
  {
   "cell_type": "code",
   "execution_count": 3,
   "metadata": {},
   "outputs": [
    {
     "name": "stderr",
     "output_type": "stream",
     "text": [
      "/tmp/ipykernel_2620377/2842926713.py:4: ExperimentalWarning: set_metric_names is experimental (supported from v3.2.0). The interface can change in the future.\n",
      "  study.set_metric_names(['CRPS', 'twCRPS12'])\n"
     ]
    }
   ],
   "source": [
    "filepath = '/net/pc200239/nobackup/users/hakvoort/hyperopt/hyperopt_emos/'\n",
    "\n",
    "study = optuna.load_study(study_name='MOTPE_CRPS_CRPS12_linear_constant_from_zero', storage=f'sqlite:///{filepath}/study.db')\n",
    "study.set_metric_names(['CRPS', 'twCRPS12'])"
   ]
  },
  {
   "cell_type": "code",
   "execution_count": 4,
   "metadata": {},
   "outputs": [],
   "source": [
    "df = study.trials_dataframe()\n",
    "\n",
    "new_column_names = {\n",
    "    'params_chain_function_mean': 'cf_mean',\n",
    "    'params_chain_function_std': 'cf_std',\n",
    "    'params_chain_function_constant': 'cf_constant',\n",
    "    'values_CRPS': 'CRPS',\n",
    "    'values_twCRPS12': 'twCRPS12',\n",
    "    'params_forecast_distribution': 'forecast_distribution',\n",
    "    'params_distribution_2': 'distribution_2',\n",
    "}\n",
    "\n",
    "df.rename(columns=new_column_names, inplace=True)"
   ]
  },
  {
   "cell_type": "code",
   "execution_count": 5,
   "metadata": {},
   "outputs": [],
   "source": [
    "length = 8\n",
    "top_CRPS = df.sort_values('CRPS').head(length)\n",
    "top_twCRPS12 = df.sort_values('twCRPS12').head(length)"
   ]
  },
  {
   "cell_type": "code",
   "execution_count": 6,
   "metadata": {},
   "outputs": [],
   "source": [
    "pareto_front = study.best_trials\n",
    "best_runs = [trial.number for trial in pareto_front]\n",
    "\n",
    "pareto_trials = df['number'].isin(best_runs)\n",
    "\n",
    "my_run = df[pareto_trials]\n",
    "\n",
    "my_run = my_run.sort_values('CRPS')"
   ]
  },
  {
   "cell_type": "code",
   "execution_count": 7,
   "metadata": {},
   "outputs": [],
   "source": [
    "all_params = ['cf_mean',\n",
    "           'cf_std', \n",
    "           'cf_constant',\n",
    "             'forecast_distribution', \n",
    "              'distribution_2',\n",
    "                'CRPS',\n",
    "             'twCRPS12',\n",
    "             ]"
   ]
  },
  {
   "cell_type": "code",
   "execution_count": 13,
   "metadata": {},
   "outputs": [],
   "source": [
    "features_names = ['wind_speed', 'press', 'kinetic', 'humid', 'geopot']\n",
    "\n",
    "features_names_dict = {name: 1 for name in features_names}\n",
    "\n",
    "features_names_dict['wind_speed'] = 15\n",
    "\n",
    "ignore = ['229', '285', '323']"
   ]
  },
  {
   "cell_type": "code",
   "execution_count": 16,
   "metadata": {},
   "outputs": [],
   "source": [
    "train_data_original, test_data, data_info = load_cv_data(0, features_names_dict)\n",
    "\n",
    "train_data = train_data_original.batch(len(train_data_original))"
   ]
  },
  {
   "cell_type": "code",
   "execution_count": 18,
   "metadata": {},
   "outputs": [
    {
     "name": "stdout",
     "output_type": "stream",
     "text": [
      "(23513,)\n"
     ]
    }
   ],
   "source": [
    "X, y = next(iter(train_data))\n",
    "\n",
    "print(y.shape)\n",
    "\n",
    "y = y.numpy()"
   ]
  },
  {
   "cell_type": "code",
   "execution_count": 28,
   "metadata": {},
   "outputs": [],
   "source": [
    "def silvermans_rule(data):\n",
    "    # Calculate the standard deviation of the data\n",
    "    sigma = np.std(data, ddof=1)\n",
    "    \n",
    "    # Calculate the interquartile range (IQR) of the data\n",
    "    IQR = np.percentile(data, 75) - np.percentile(data, 25)\n",
    "    \n",
    "    # Calculate the bandwidth using Silverman's rule\n",
    "    n = len(data)\n",
    "    h = 0.9 * min(sigma, IQR / 1.34) * n**(-1/5)\n",
    "    \n",
    "    return h\n",
    "\n",
    "def gaussian_kernel(x):\n",
    "    return norm.pdf(x)\n",
    "\n",
    "def kde_function(data, bandwidth):\n",
    "    def kde(points):\n",
    "        N = len(data)\n",
    "        kde_values = np.zeros(len(points))\n",
    "        for i in range(len(points)):\n",
    "            kde_values[i] = (1 / (N * bandwidth)) * np.sum(gaussian_kernel((points[i] - data) / bandwidth))\n",
    "        return kde_values\n",
    "    return kde"
   ]
  },
  {
   "cell_type": "code",
   "execution_count": 29,
   "metadata": {},
   "outputs": [],
   "source": [
    "bandwith = silvermans_rule(y)\n",
    "\n",
    "kde = kde_function(y, bandwith)"
   ]
  },
  {
   "cell_type": "code",
   "execution_count": 45,
   "metadata": {},
   "outputs": [],
   "source": [
    "minimum = np.min(kde(y))\n",
    "maximum = np.max(kde(y))"
   ]
  },
  {
   "cell_type": "code",
   "execution_count": 48,
   "metadata": {},
   "outputs": [],
   "source": [
    "def get_weight_function(data, alpha, epsilon):\n",
    "    bandwith = silvermans_rule(data)\n",
    "    kde = kde_function(data, bandwith)\n",
    "\n",
    "    max = np.max(kde(data))\n",
    "    min = np.min(kde(data))\n",
    "\n",
    "    def f_w_double_prime(points):\n",
    "        p_prime = (kde(points) - min) / (max - min)\n",
    "\n",
    "        return np.maximum(1 - alpha * p_prime, epsilon)\n",
    "    \n",
    "    normalization_constant = np.sum(f_w_double_prime(data)) / len(data)\n",
    "\n",
    "    def weight_function(points):\n",
    "        return f_w_double_prime(points) / normalization_constant\n",
    "    \n",
    "    return weight_function\n",
    "\n"
   ]
  },
  {
   "cell_type": "code",
   "execution_count": 101,
   "metadata": {},
   "outputs": [],
   "source": [
    "def piecewise_linear(x, x_data, y_data):\n",
    "    # Find the index of the segment each x belongs to\n",
    "    index = np.searchsorted(x_data, x) - 1\n",
    "    \n",
    "    # Clip index to stay within the range of the data\n",
    "    index = np.clip(index, 0, len(x_data) - 2)\n",
    "    \n",
    "    # Get the x and y values of the two data points defining the segment\n",
    "    x0 = x_data[index]\n",
    "    x1 = x_data[index + 1]\n",
    "    y0 = y_data[index]\n",
    "    y1 = y_data[index + 1]\n",
    "    \n",
    "    # Compute the slope and intercept of the segment\n",
    "    slope = (y1 - y0) / (x1 - x0)\n",
    "    intercept = y0 - slope * x0\n",
    "    \n",
    "    # Compute the y value of the piecewise linear function\n",
    "    y = slope * x + intercept\n",
    "    \n",
    "    return y"
   ]
  },
  {
   "cell_type": "code",
   "execution_count": 109,
   "metadata": {},
   "outputs": [],
   "source": [
    "alpha = 1.2\n",
    "epsilon = 0.0001\n",
    "my_weight = get_weight_function(y, alpha, epsilon)\n",
    "x = np.linspace(0, 30, 20000)"
   ]
  },
  {
   "cell_type": "code",
   "execution_count": 110,
   "metadata": {},
   "outputs": [],
   "source": [
    "\n",
    "weights = my_weight(x)"
   ]
  },
  {
   "cell_type": "code",
   "execution_count": 111,
   "metadata": {},
   "outputs": [
    {
     "name": "stdout",
     "output_type": "stream",
     "text": [
      "[0.05 0.05 0.05 ... 1.05 1.05 1.05]\n"
     ]
    }
   ],
   "source": [
    "c = 0.05\n",
    "mu = 8\n",
    "sigma = 1\n",
    "print(c + norm.cdf(x, loc=mu, scale=sigma))"
   ]
  },
  {
   "cell_type": "code",
   "execution_count": 112,
   "metadata": {},
   "outputs": [
    {
     "name": "stderr",
     "output_type": "stream",
     "text": [
      "/usr/people/hakvoort/.local/lib/python3.12/site-packages/numpy/polynomial/polynomial.py:1362: RankWarning:\n",
      "\n",
      "The fit may be poorly conditioned\n",
      "\n"
     ]
    }
   ],
   "source": [
    "degree = 60\n",
    "p = np.polynomial.Polynomial.fit(x, weights, degree)\n",
    "\n",
    "# Generate points for plotting the fitted polynomial\n",
    "x_fit = np.linspace(0, 30, 1000)\n",
    "y_fit = p(x_fit)"
   ]
  },
  {
   "cell_type": "code",
   "execution_count": 113,
   "metadata": {},
   "outputs": [
    {
     "data": {
      "text/plain": [
       "<matplotlib.legend.Legend at 0x7efea8d5c5f0>"
      ]
     },
     "execution_count": 113,
     "metadata": {},
     "output_type": "execute_result"
    },
    {
     "data": {
      "image/png": "[encoded data removed]",
      "text/plain": [
       "<Figure size 640x480 with 1 Axes>"
      ]
     },
     "metadata": {},
     "output_type": "display_data"
    }
   ],
   "source": [
    "plt.plot(x_fit, y_fit, label='polynomial')\n",
    "plt.plot(x, weights, label='true')\n",
    "plt.legend()"
   ]
  },
  {
   "cell_type": "code",
   "execution_count": 114,
   "metadata": {},
   "outputs": [
    {
     "name": "stdout",
     "output_type": "stream",
     "text": [
      "[ 3.64691099e+00  1.13290047e+00 -1.15817703e+00  9.22920951e+00\n",
      " -2.61609386e+02  3.76520867e+02  1.02997383e+04 -2.45738016e+04\n",
      " -1.83116144e+05  4.96666718e+05  1.81783779e+06 -5.21548294e+06\n",
      " -1.10907234e+07  3.28799128e+07  4.31542910e+07 -1.31133583e+08\n",
      " -1.05829569e+08  3.29455981e+08  1.48431173e+08 -4.76912151e+08\n",
      " -7.08918814e+07  2.46910131e+08 -8.93302387e+07  2.83289390e+08\n",
      "  9.08094275e+07 -3.35131373e+08  8.21342646e+07 -2.50843841e+08\n",
      " -6.85818970e+07  2.90661296e+08 -1.03755088e+08  3.36965773e+08\n",
      "  1.26799921e+07 -1.37361835e+08  1.08330325e+08 -4.11462115e+08\n",
      "  6.41609953e+07 -1.21849236e+08 -5.73510450e+07  3.33176792e+08\n",
      " -1.11333242e+08  3.69753468e+08 -3.76229840e+07 -6.56086010e+07\n",
      "  8.10022560e+07 -4.39514514e+08  1.10249838e+08 -2.56074085e+08\n",
      "  8.93428116e+06  3.04362013e+08 -1.12231837e+08  4.72349798e+08\n",
      " -9.18328901e+07 -1.51867293e+08  7.75395209e+07 -6.15797832e+08\n",
      "  1.38505356e+08  5.22489588e+08 -1.45690893e+08 -1.23994679e+08\n",
      "  3.79658093e+07]\n"
     ]
    }
   ],
   "source": [
    "print(p.coef)"
   ]
  },
  {
   "cell_type": "code",
   "execution_count": 108,
   "metadata": {},
   "outputs": [
    {
     "name": "stdout",
     "output_type": "stream",
     "text": [
      "-0.02224838259585793\n"
     ]
    }
   ],
   "source": [
    "print(np.min(y_fit))"
   ]
  },
  {
   "cell_type": "code",
   "execution_count": 70,
   "metadata": {},
   "outputs": [
    {
     "data": {
      "image/png": "[encoded data removed]",
      "text/plain": [
       "<Figure size 640x480 with 1 Axes>"
      ]
     },
     "metadata": {},
     "output_type": "display_data"
    }
   ],
   "source": [
    "x = np.linspace(0, 22.5, 100)\n",
    "\n",
    "epsilon = 0.00001\n",
    "alphas = [0,0.4, 0.8, 1.2, 1.6, 2]\n",
    "\n",
    "for alpha in alphas:\n",
    "    weight_function = get_weight_function(y, alpha, epsilon)\n",
    "    plt.plot(x, weight_function(x), label=alpha)\n",
    "\n",
    "plt.xlabel('Observed Wind speed')\n",
    "plt.ylabel('Weight')\n",
    "plt.grid()\n",
    "plt.legend()\n",
    "plt.xlim(x[0], x[-1])\n",
    "plt.show()\n"
   ]
  },
  {
   "cell_type": "code",
   "execution_count": 32,
   "metadata": {},
   "outputs": [
    {
     "data": {
      "image/png": "[encoded data removed]",
      "text/plain": [
       "<Figure size 640x480 with 1 Axes>"
      ]
     },
     "metadata": {},
     "output_type": "display_data"
    }
   ],
   "source": [
    "x = np.linspace(0, 22.5, 1000)\n",
    "plt.plot(x, kde(x))\n",
    "plt.xlim(0, 22.5)\n",
    "plt.show()"
   ]
  },
  {
   "cell_type": "code",
   "execution_count": 44,
   "metadata": {},
   "outputs": [
    {
     "data": {
      "image/png": "[encoded data removed]",
      "text/plain": [
       "<Figure size 640x480 with 1 Axes>"
      ]
     },
     "metadata": {},
     "output_type": "display_data"
    }
   ],
   "source": [
    "plt.hist(y, bins = 100, density=True)\n",
    "plt.xlim(0, np.max(y))\n",
    "plt.xlabel('Observed Wind Speed')\n",
    "plt.ylabel('Frequency')\n",
    "plt.show()"
   ]
  },
  {
   "cell_type": "code",
   "execution_count": 9,
   "metadata": {},
   "outputs": [
    {
     "data": {
      "text/html": [
       "<div>\n",
       "<style scoped>\n",
       "    .dataframe tbody tr th:only-of-type {\n",
       "        vertical-align: middle;\n",
       "    }\n",
       "\n",
       "    .dataframe tbody tr th {\n",
       "        vertical-align: top;\n",
       "    }\n",
       "\n",
       "    .dataframe thead th {\n",
       "        text-align: right;\n",
       "    }\n",
       "</style>\n",
       "<table border=\"1\" class=\"dataframe\">\n",
       "  <thead>\n",
       "    <tr style=\"text-align: right;\">\n",
       "      <th></th>\n",
       "      <th>cf_mean</th>\n",
       "      <th>cf_std</th>\n",
       "      <th>cf_constant</th>\n",
       "      <th>forecast_distribution</th>\n",
       "      <th>distribution_2</th>\n",
       "      <th>CRPS</th>\n",
       "      <th>twCRPS12</th>\n",
       "    </tr>\n",
       "  </thead>\n",
       "  <tbody>\n",
       "    <tr>\n",
       "      <th>24</th>\n",
       "      <td>8.014864</td>\n",
       "      <td>0.051787</td>\n",
       "      <td>0.905043</td>\n",
       "      <td>distr_mixture_linear</td>\n",
       "      <td>distr_gev</td>\n",
       "      <td>0.899754</td>\n",
       "      <td>0.059584</td>\n",
       "    </tr>\n",
       "    <tr>\n",
       "      <th>32</th>\n",
       "      <td>2.381427</td>\n",
       "      <td>0.000149</td>\n",
       "      <td>0.846054</td>\n",
       "      <td>distr_mixture_linear</td>\n",
       "      <td>distr_gev</td>\n",
       "      <td>0.900814</td>\n",
       "      <td>0.059747</td>\n",
       "    </tr>\n",
       "    <tr>\n",
       "      <th>69</th>\n",
       "      <td>7.214490</td>\n",
       "      <td>5.441655</td>\n",
       "      <td>0.245422</td>\n",
       "      <td>distr_mixture_linear</td>\n",
       "      <td>distr_gev</td>\n",
       "      <td>0.900886</td>\n",
       "      <td>0.059634</td>\n",
       "    </tr>\n",
       "    <tr>\n",
       "      <th>74</th>\n",
       "      <td>11.130756</td>\n",
       "      <td>9.455881</td>\n",
       "      <td>0.088957</td>\n",
       "      <td>distr_mixture_linear</td>\n",
       "      <td>distr_gev</td>\n",
       "      <td>0.900919</td>\n",
       "      <td>0.059736</td>\n",
       "    </tr>\n",
       "    <tr>\n",
       "      <th>45</th>\n",
       "      <td>4.450143</td>\n",
       "      <td>4.945555</td>\n",
       "      <td>0.413133</td>\n",
       "      <td>distr_mixture_linear</td>\n",
       "      <td>distr_gev</td>\n",
       "      <td>0.901207</td>\n",
       "      <td>0.059513</td>\n",
       "    </tr>\n",
       "    <tr>\n",
       "      <th>160</th>\n",
       "      <td>0.429430</td>\n",
       "      <td>1.295928</td>\n",
       "      <td>0.031033</td>\n",
       "      <td>distr_mixture_linear</td>\n",
       "      <td>distr_gev</td>\n",
       "      <td>0.901321</td>\n",
       "      <td>0.059876</td>\n",
       "    </tr>\n",
       "    <tr>\n",
       "      <th>89</th>\n",
       "      <td>7.510774</td>\n",
       "      <td>1.363924</td>\n",
       "      <td>0.396717</td>\n",
       "      <td>distr_mixture_linear</td>\n",
       "      <td>distr_gev</td>\n",
       "      <td>0.901359</td>\n",
       "      <td>0.059626</td>\n",
       "    </tr>\n",
       "    <tr>\n",
       "      <th>92</th>\n",
       "      <td>10.238284</td>\n",
       "      <td>0.320125</td>\n",
       "      <td>0.638558</td>\n",
       "      <td>distr_mixture_linear</td>\n",
       "      <td>distr_gev</td>\n",
       "      <td>0.901435</td>\n",
       "      <td>0.059676</td>\n",
       "    </tr>\n",
       "  </tbody>\n",
       "</table>\n",
       "</div>"
      ],
      "text/plain": [
       "       cf_mean    cf_std  cf_constant forecast_distribution distribution_2  \\\n",
       "24    8.014864  0.051787     0.905043  distr_mixture_linear      distr_gev   \n",
       "32    2.381427  0.000149     0.846054  distr_mixture_linear      distr_gev   \n",
       "69    7.214490  5.441655     0.245422  distr_mixture_linear      distr_gev   \n",
       "74   11.130756  9.455881     0.088957  distr_mixture_linear      distr_gev   \n",
       "45    4.450143  4.945555     0.413133  distr_mixture_linear      distr_gev   \n",
       "160   0.429430  1.295928     0.031033  distr_mixture_linear      distr_gev   \n",
       "89    7.510774  1.363924     0.396717  distr_mixture_linear      distr_gev   \n",
       "92   10.238284  0.320125     0.638558  distr_mixture_linear      distr_gev   \n",
       "\n",
       "         CRPS  twCRPS12  \n",
       "24   0.899754  0.059584  \n",
       "32   0.900814  0.059747  \n",
       "69   0.900886  0.059634  \n",
       "74   0.900919  0.059736  \n",
       "45   0.901207  0.059513  \n",
       "160  0.901321  0.059876  \n",
       "89   0.901359  0.059626  \n",
       "92   0.901435  0.059676  "
      ]
     },
     "metadata": {},
     "output_type": "display_data"
    }
   ],
   "source": [
    "display(top_CRPS[all_params])"
   ]
  },
  {
   "cell_type": "code",
   "execution_count": 10,
   "metadata": {},
   "outputs": [
    {
     "data": {
      "text/html": [
       "<div>\n",
       "<style scoped>\n",
       "    .dataframe tbody tr th:only-of-type {\n",
       "        vertical-align: middle;\n",
       "    }\n",
       "\n",
       "    .dataframe tbody tr th {\n",
       "        vertical-align: top;\n",
       "    }\n",
       "\n",
       "    .dataframe thead th {\n",
       "        text-align: right;\n",
       "    }\n",
       "</style>\n",
       "<table border=\"1\" class=\"dataframe\">\n",
       "  <thead>\n",
       "    <tr style=\"text-align: right;\">\n",
       "      <th></th>\n",
       "      <th>cf_mean</th>\n",
       "      <th>cf_std</th>\n",
       "      <th>cf_constant</th>\n",
       "      <th>forecast_distribution</th>\n",
       "      <th>distribution_2</th>\n",
       "      <th>CRPS</th>\n",
       "      <th>twCRPS12</th>\n",
       "    </tr>\n",
       "  </thead>\n",
       "  <tbody>\n",
       "    <tr>\n",
       "      <th>51</th>\n",
       "      <td>9.649472</td>\n",
       "      <td>1.084596</td>\n",
       "      <td>0.001125</td>\n",
       "      <td>distr_mixture_linear</td>\n",
       "      <td>distr_gev</td>\n",
       "      <td>0.936089</td>\n",
       "      <td>0.059160</td>\n",
       "    </tr>\n",
       "    <tr>\n",
       "      <th>167</th>\n",
       "      <td>8.063486</td>\n",
       "      <td>0.427858</td>\n",
       "      <td>0.062220</td>\n",
       "      <td>distr_trunc_normal</td>\n",
       "      <td>NaN</td>\n",
       "      <td>0.910241</td>\n",
       "      <td>0.059180</td>\n",
       "    </tr>\n",
       "    <tr>\n",
       "      <th>66</th>\n",
       "      <td>9.860208</td>\n",
       "      <td>0.301864</td>\n",
       "      <td>0.000522</td>\n",
       "      <td>distr_log_normal</td>\n",
       "      <td>NaN</td>\n",
       "      <td>1.019796</td>\n",
       "      <td>0.059257</td>\n",
       "    </tr>\n",
       "    <tr>\n",
       "      <th>165</th>\n",
       "      <td>8.830960</td>\n",
       "      <td>1.068426</td>\n",
       "      <td>0.015801</td>\n",
       "      <td>distr_trunc_normal</td>\n",
       "      <td>NaN</td>\n",
       "      <td>0.921362</td>\n",
       "      <td>0.059311</td>\n",
       "    </tr>\n",
       "    <tr>\n",
       "      <th>30</th>\n",
       "      <td>9.571495</td>\n",
       "      <td>0.005566</td>\n",
       "      <td>0.004899</td>\n",
       "      <td>distr_mixture_linear</td>\n",
       "      <td>distr_log_normal</td>\n",
       "      <td>0.937670</td>\n",
       "      <td>0.059344</td>\n",
       "    </tr>\n",
       "    <tr>\n",
       "      <th>82</th>\n",
       "      <td>7.050564</td>\n",
       "      <td>2.405172</td>\n",
       "      <td>0.061703</td>\n",
       "      <td>distr_mixture_linear</td>\n",
       "      <td>distr_log_normal</td>\n",
       "      <td>0.904452</td>\n",
       "      <td>0.059380</td>\n",
       "    </tr>\n",
       "    <tr>\n",
       "      <th>115</th>\n",
       "      <td>9.578896</td>\n",
       "      <td>0.507889</td>\n",
       "      <td>0.026211</td>\n",
       "      <td>distr_gev</td>\n",
       "      <td>NaN</td>\n",
       "      <td>0.922650</td>\n",
       "      <td>0.059393</td>\n",
       "    </tr>\n",
       "    <tr>\n",
       "      <th>10</th>\n",
       "      <td>8.242517</td>\n",
       "      <td>0.047522</td>\n",
       "      <td>0.030665</td>\n",
       "      <td>distr_mixture</td>\n",
       "      <td>distr_log_normal</td>\n",
       "      <td>0.919068</td>\n",
       "      <td>0.059395</td>\n",
       "    </tr>\n",
       "  </tbody>\n",
       "</table>\n",
       "</div>"
      ],
      "text/plain": [
       "      cf_mean    cf_std  cf_constant forecast_distribution    distribution_2  \\\n",
       "51   9.649472  1.084596     0.001125  distr_mixture_linear         distr_gev   \n",
       "167  8.063486  0.427858     0.062220    distr_trunc_normal               NaN   \n",
       "66   9.860208  0.301864     0.000522      distr_log_normal               NaN   \n",
       "165  8.830960  1.068426     0.015801    distr_trunc_normal               NaN   \n",
       "30   9.571495  0.005566     0.004899  distr_mixture_linear  distr_log_normal   \n",
       "82   7.050564  2.405172     0.061703  distr_mixture_linear  distr_log_normal   \n",
       "115  9.578896  0.507889     0.026211             distr_gev               NaN   \n",
       "10   8.242517  0.047522     0.030665         distr_mixture  distr_log_normal   \n",
       "\n",
       "         CRPS  twCRPS12  \n",
       "51   0.936089  0.059160  \n",
       "167  0.910241  0.059180  \n",
       "66   1.019796  0.059257  \n",
       "165  0.921362  0.059311  \n",
       "30   0.937670  0.059344  \n",
       "82   0.904452  0.059380  \n",
       "115  0.922650  0.059393  \n",
       "10   0.919068  0.059395  "
      ]
     },
     "metadata": {},
     "output_type": "display_data"
    }
   ],
   "source": [
    "display(top_twCRPS12[all_params])"
   ]
  },
  {
   "cell_type": "code",
   "execution_count": 11,
   "metadata": {},
   "outputs": [
    {
     "data": {
      "text/html": [
       "<div>\n",
       "<style scoped>\n",
       "    .dataframe tbody tr th:only-of-type {\n",
       "        vertical-align: middle;\n",
       "    }\n",
       "\n",
       "    .dataframe tbody tr th {\n",
       "        vertical-align: top;\n",
       "    }\n",
       "\n",
       "    .dataframe thead th {\n",
       "        text-align: right;\n",
       "    }\n",
       "</style>\n",
       "<table border=\"1\" class=\"dataframe\">\n",
       "  <thead>\n",
       "    <tr style=\"text-align: right;\">\n",
       "      <th></th>\n",
       "      <th>cf_mean</th>\n",
       "      <th>cf_std</th>\n",
       "      <th>cf_constant</th>\n",
       "      <th>forecast_distribution</th>\n",
       "      <th>distribution_2</th>\n",
       "      <th>CRPS</th>\n",
       "      <th>twCRPS12</th>\n",
       "    </tr>\n",
       "  </thead>\n",
       "  <tbody>\n",
       "    <tr>\n",
       "      <th>24</th>\n",
       "      <td>8.014864</td>\n",
       "      <td>0.051787</td>\n",
       "      <td>0.905043</td>\n",
       "      <td>distr_mixture_linear</td>\n",
       "      <td>distr_gev</td>\n",
       "      <td>0.899754</td>\n",
       "      <td>0.059584</td>\n",
       "    </tr>\n",
       "    <tr>\n",
       "      <th>45</th>\n",
       "      <td>4.450143</td>\n",
       "      <td>4.945555</td>\n",
       "      <td>0.413133</td>\n",
       "      <td>distr_mixture_linear</td>\n",
       "      <td>distr_gev</td>\n",
       "      <td>0.901207</td>\n",
       "      <td>0.059513</td>\n",
       "    </tr>\n",
       "    <tr>\n",
       "      <th>162</th>\n",
       "      <td>9.614099</td>\n",
       "      <td>0.077247</td>\n",
       "      <td>0.925251</td>\n",
       "      <td>distr_mixture_linear</td>\n",
       "      <td>distr_log_normal</td>\n",
       "      <td>0.902346</td>\n",
       "      <td>0.059471</td>\n",
       "    </tr>\n",
       "    <tr>\n",
       "      <th>82</th>\n",
       "      <td>7.050564</td>\n",
       "      <td>2.405172</td>\n",
       "      <td>0.061703</td>\n",
       "      <td>distr_mixture_linear</td>\n",
       "      <td>distr_log_normal</td>\n",
       "      <td>0.904452</td>\n",
       "      <td>0.059380</td>\n",
       "    </tr>\n",
       "    <tr>\n",
       "      <th>167</th>\n",
       "      <td>8.063486</td>\n",
       "      <td>0.427858</td>\n",
       "      <td>0.062220</td>\n",
       "      <td>distr_trunc_normal</td>\n",
       "      <td>NaN</td>\n",
       "      <td>0.910241</td>\n",
       "      <td>0.059180</td>\n",
       "    </tr>\n",
       "    <tr>\n",
       "      <th>51</th>\n",
       "      <td>9.649472</td>\n",
       "      <td>1.084596</td>\n",
       "      <td>0.001125</td>\n",
       "      <td>distr_mixture_linear</td>\n",
       "      <td>distr_gev</td>\n",
       "      <td>0.936089</td>\n",
       "      <td>0.059160</td>\n",
       "    </tr>\n",
       "  </tbody>\n",
       "</table>\n",
       "</div>"
      ],
      "text/plain": [
       "      cf_mean    cf_std  cf_constant forecast_distribution    distribution_2  \\\n",
       "24   8.014864  0.051787     0.905043  distr_mixture_linear         distr_gev   \n",
       "45   4.450143  4.945555     0.413133  distr_mixture_linear         distr_gev   \n",
       "162  9.614099  0.077247     0.925251  distr_mixture_linear  distr_log_normal   \n",
       "82   7.050564  2.405172     0.061703  distr_mixture_linear  distr_log_normal   \n",
       "167  8.063486  0.427858     0.062220    distr_trunc_normal               NaN   \n",
       "51   9.649472  1.084596     0.001125  distr_mixture_linear         distr_gev   \n",
       "\n",
       "         CRPS  twCRPS12  \n",
       "24   0.899754  0.059584  \n",
       "45   0.901207  0.059513  \n",
       "162  0.902346  0.059471  \n",
       "82   0.904452  0.059380  \n",
       "167  0.910241  0.059180  \n",
       "51   0.936089  0.059160  "
      ]
     },
     "metadata": {},
     "output_type": "display_data"
    }
   ],
   "source": [
    "display(my_run[all_params])"
   ]
  },
  {
   "cell_type": "code",
   "execution_count": null,
   "metadata": {},
   "outputs": [],
   "source": []
  }
 ],
 "metadata": {
  "kernelspec": {
   "display_name": "Python 3",
   "language": "python",
   "name": "python3"
  },
  "language_info": {
   "codemirror_mode": {
    "name": "ipython",
    "version": 3
   },
   "file_extension": ".py",
   "mimetype": "text/x-python",
   "name": "python",
   "nbconvert_exporter": "python",
   "pygments_lexer": "ipython3",
   "version": "3.12.3"
  }
 },
 "nbformat": 4,
 "nbformat_minor": 2
}
