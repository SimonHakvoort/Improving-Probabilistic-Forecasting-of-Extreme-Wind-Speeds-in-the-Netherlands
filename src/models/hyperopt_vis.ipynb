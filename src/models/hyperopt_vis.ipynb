{
 "cells": [
  {
   "cell_type": "code",
   "execution_count": 1,
   "metadata": {},
   "outputs": [
    {
     "name": "stderr",
     "output_type": "stream",
     "text": [
      "2024-06-07 19:39:38.059551: I external/local_tsl/tsl/cuda/cudart_stub.cc:32] Could not find cuda drivers on your machine, GPU will not be used.\n",
      "2024-06-07 19:39:38.062212: I external/local_tsl/tsl/cuda/cudart_stub.cc:32] Could not find cuda drivers on your machine, GPU will not be used.\n",
      "2024-06-07 19:39:38.095884: I tensorflow/core/platform/cpu_feature_guard.cc:210] This TensorFlow binary is optimized to use available CPU instructions in performance-critical operations.\n",
      "To enable the following instructions: AVX2 FMA, in other operations, rebuild TensorFlow with the appropriate compiler flags.\n",
      "2024-06-07 19:39:54.081934: W tensorflow/compiler/tf2tensorrt/utils/py_utils.cc:38] TF-TRT Warning: Could not find TensorRT\n"
     ]
    }
   ],
   "source": [
    "import optuna\n",
    "import pickle\n",
    "import plotly \n",
    "from src.models.hyperopt_emos import Objective"
   ]
  },
  {
   "cell_type": "code",
   "execution_count": 2,
   "metadata": {},
   "outputs": [],
   "source": [
    "features_names = ['wind_speed', 'press', 'kinetic', 'humid', 'geopot']\n",
    "\n",
    "features_names_dict = {name: 1 for name in features_names}\n",
    "\n",
    "features_names_dict['wind_speed'] = 15\n",
    "\n",
    "objectives = ['twCRPS12']\n"
   ]
  },
  {
   "cell_type": "code",
   "execution_count": 33,
   "metadata": {},
   "outputs": [],
   "source": [
    "#study_name = \"crps_obj_CRPS_twCRPS12_MOTPE.pkl\"\n",
    "study_name = \"crps_obj_twCRPS12_TPE.pkl\"\n",
    "filepath = '/net/pc200239/nobackup/users/hakvoort/hyperopt/hyperopt_emos/'\n",
    "\n",
    "# an optuna study\n",
    "study = pickle.load(open(filepath + study_name, 'rb'))"
   ]
  },
  {
   "cell_type": "code",
   "execution_count": 34,
   "metadata": {},
   "outputs": [
    {
     "name": "stderr",
     "output_type": "stream",
     "text": [
      "/tmp/ipykernel_2400814/3646120845.py:2: ExperimentalWarning:\n",
      "\n",
      "set_metric_names is experimental (supported from v3.2.0). The interface can change in the future.\n",
      "\n"
     ]
    }
   ],
   "source": [
    "study2 = optuna.load_study(study_name='twcrps_obj_CRPS_twCRPS12_MOTPE', storage=f'sqlite:///{filepath}/study.db')\n",
    "study2.set_metric_names(['CRPS', 'twCRPS12'])"
   ]
  },
  {
   "cell_type": "code",
   "execution_count": 35,
   "metadata": {},
   "outputs": [
    {
     "data": {
      "application/vnd.plotly.v1+json": {
       "config": {
        "plotlyServerURL": "https://plot.ly"
       },
       "data": [
        {
         "cliponaxis": false,
         "hovertemplate": [
          "chain_function_constant (FloatDistribution): 0.0010300470969733275<extra></extra>",
          "learning_rate (FloatDistribution): 0.0027444730403743877<extra></extra>",
          "epochs (IntDistribution): 0.004831841981579414<extra></extra>",
          "forecast_distribution (CategoricalDistribution): 0.008619786374186485<extra></extra>",
          "optimizer (CategoricalDistribution): 0.011094936995940568<extra></extra>",
          "chain_function_mean (FloatDistribution): 0.08796903690250776<extra></extra>",
          "perform_batching (CategoricalDistribution): 0.14243462604836502<extra></extra>",
          "chain_function_std (FloatDistribution): 0.7412752515600731<extra></extra>"
         ],
         "name": "CRPS",
         "orientation": "h",
         "text": [
          "<0.01",
          "<0.01",
          "<0.01",
          "<0.01",
          "0.01",
          "0.09",
          "0.14",
          "0.74"
         ],
         "textposition": "outside",
         "type": "bar",
         "x": [
          0.0010300470969733275,
          0.0027444730403743877,
          0.004831841981579414,
          0.008619786374186485,
          0.011094936995940568,
          0.08796903690250776,
          0.14243462604836502,
          0.7412752515600731
         ],
         "y": [
          "chain_function_constant",
          "learning_rate",
          "epochs",
          "forecast_distribution",
          "optimizer",
          "chain_function_mean",
          "perform_batching",
          "chain_function_std"
         ]
        },
        {
         "cliponaxis": false,
         "hovertemplate": [
          "chain_function_constant (FloatDistribution): 0.00032656977485408543<extra></extra>",
          "epochs (IntDistribution): 0.008625174758873089<extra></extra>",
          "forecast_distribution (CategoricalDistribution): 0.009736885133579449<extra></extra>",
          "chain_function_std (FloatDistribution): 0.0403307294844133<extra></extra>",
          "learning_rate (FloatDistribution): 0.04623859157473593<extra></extra>",
          "optimizer (CategoricalDistribution): 0.04766102946349543<extra></extra>",
          "chain_function_mean (FloatDistribution): 0.12581890568242926<extra></extra>",
          "perform_batching (CategoricalDistribution): 0.7212621141276194<extra></extra>"
         ],
         "name": "twCRPS12",
         "orientation": "h",
         "text": [
          "<0.01",
          "<0.01",
          "<0.01",
          "0.04",
          "0.05",
          "0.05",
          "0.13",
          "0.72"
         ],
         "textposition": "outside",
         "type": "bar",
         "x": [
          0.00032656977485408543,
          0.008625174758873089,
          0.009736885133579449,
          0.0403307294844133,
          0.04623859157473593,
          0.04766102946349543,
          0.12581890568242926,
          0.7212621141276194
         ],
         "y": [
          "chain_function_constant",
          "epochs",
          "forecast_distribution",
          "chain_function_std",
          "learning_rate",
          "optimizer",
          "chain_function_mean",
          "perform_batching"
         ]
        }
       ],
       "layout": {
        "template": {
         "data": {
          "bar": [
           {
            "error_x": {
             "color": "#2a3f5f"
            },
            "error_y": {
             "color": "#2a3f5f"
            },
            "marker": {
             "line": {
              "color": "#E5ECF6",
              "width": 0.5
             },
             "pattern": {
              "fillmode": "overlay",
              "size": 10,
              "solidity": 0.2
             }
            },
            "type": "bar"
           }
          ],
          "barpolar": [
           {
            "marker": {
             "line": {
              "color": "#E5ECF6",
              "width": 0.5
             },
             "pattern": {
              "fillmode": "overlay",
              "size": 10,
              "solidity": 0.2
             }
            },
            "type": "barpolar"
           }
          ],
          "carpet": [
           {
            "aaxis": {
             "endlinecolor": "#2a3f5f",
             "gridcolor": "white",
             "linecolor": "white",
             "minorgridcolor": "white",
             "startlinecolor": "#2a3f5f"
            },
            "baxis": {
             "endlinecolor": "#2a3f5f",
             "gridcolor": "white",
             "linecolor": "white",
             "minorgridcolor": "white",
             "startlinecolor": "#2a3f5f"
            },
            "type": "carpet"
           }
          ],
          "choropleth": [
           {
            "colorbar": {
             "outlinewidth": 0,
             "ticks": ""
            },
            "type": "choropleth"
           }
          ],
          "contour": [
           {
            "colorbar": {
             "outlinewidth": 0,
             "ticks": ""
            },
            "colorscale": [
             [
              0,
              "#0d0887"
             ],
             [
              0.1111111111111111,
              "#46039f"
             ],
             [
              0.2222222222222222,
              "#7201a8"
             ],
             [
              0.3333333333333333,
              "#9c179e"
             ],
             [
              0.4444444444444444,
              "#bd3786"
             ],
             [
              0.5555555555555556,
              "#d8576b"
             ],
             [
              0.6666666666666666,
              "#ed7953"
             ],
             [
              0.7777777777777778,
              "#fb9f3a"
             ],
             [
              0.8888888888888888,
              "#fdca26"
             ],
             [
              1,
              "#f0f921"
             ]
            ],
            "type": "contour"
           }
          ],
          "contourcarpet": [
           {
            "colorbar": {
             "outlinewidth": 0,
             "ticks": ""
            },
            "type": "contourcarpet"
           }
          ],
          "heatmap": [
           {
            "colorbar": {
             "outlinewidth": 0,
             "ticks": ""
            },
            "colorscale": [
             [
              0,
              "#0d0887"
             ],
             [
              0.1111111111111111,
              "#46039f"
             ],
             [
              0.2222222222222222,
              "#7201a8"
             ],
             [
              0.3333333333333333,
              "#9c179e"
             ],
             [
              0.4444444444444444,
              "#bd3786"
             ],
             [
              0.5555555555555556,
              "#d8576b"
             ],
             [
              0.6666666666666666,
              "#ed7953"
             ],
             [
              0.7777777777777778,
              "#fb9f3a"
             ],
             [
              0.8888888888888888,
              "#fdca26"
             ],
             [
              1,
              "#f0f921"
             ]
            ],
            "type": "heatmap"
           }
          ],
          "heatmapgl": [
           {
            "colorbar": {
             "outlinewidth": 0,
             "ticks": ""
            },
            "colorscale": [
             [
              0,
              "#0d0887"
             ],
             [
              0.1111111111111111,
              "#46039f"
             ],
             [
              0.2222222222222222,
              "#7201a8"
             ],
             [
              0.3333333333333333,
              "#9c179e"
             ],
             [
              0.4444444444444444,
              "#bd3786"
             ],
             [
              0.5555555555555556,
              "#d8576b"
             ],
             [
              0.6666666666666666,
              "#ed7953"
             ],
             [
              0.7777777777777778,
              "#fb9f3a"
             ],
             [
              0.8888888888888888,
              "#fdca26"
             ],
             [
              1,
              "#f0f921"
             ]
            ],
            "type": "heatmapgl"
           }
          ],
          "histogram": [
           {
            "marker": {
             "pattern": {
              "fillmode": "overlay",
              "size": 10,
              "solidity": 0.2
             }
            },
            "type": "histogram"
           }
          ],
          "histogram2d": [
           {
            "colorbar": {
             "outlinewidth": 0,
             "ticks": ""
            },
            "colorscale": [
             [
              0,
              "#0d0887"
             ],
             [
              0.1111111111111111,
              "#46039f"
             ],
             [
              0.2222222222222222,
              "#7201a8"
             ],
             [
              0.3333333333333333,
              "#9c179e"
             ],
             [
              0.4444444444444444,
              "#bd3786"
             ],
             [
              0.5555555555555556,
              "#d8576b"
             ],
             [
              0.6666666666666666,
              "#ed7953"
             ],
             [
              0.7777777777777778,
              "#fb9f3a"
             ],
             [
              0.8888888888888888,
              "#fdca26"
             ],
             [
              1,
              "#f0f921"
             ]
            ],
            "type": "histogram2d"
           }
          ],
          "histogram2dcontour": [
           {
            "colorbar": {
             "outlinewidth": 0,
             "ticks": ""
            },
            "colorscale": [
             [
              0,
              "#0d0887"
             ],
             [
              0.1111111111111111,
              "#46039f"
             ],
             [
              0.2222222222222222,
              "#7201a8"
             ],
             [
              0.3333333333333333,
              "#9c179e"
             ],
             [
              0.4444444444444444,
              "#bd3786"
             ],
             [
              0.5555555555555556,
              "#d8576b"
             ],
             [
              0.6666666666666666,
              "#ed7953"
             ],
             [
              0.7777777777777778,
              "#fb9f3a"
             ],
             [
              0.8888888888888888,
              "#fdca26"
             ],
             [
              1,
              "#f0f921"
             ]
            ],
            "type": "histogram2dcontour"
           }
          ],
          "mesh3d": [
           {
            "colorbar": {
             "outlinewidth": 0,
             "ticks": ""
            },
            "type": "mesh3d"
           }
          ],
          "parcoords": [
           {
            "line": {
             "colorbar": {
              "outlinewidth": 0,
              "ticks": ""
             }
            },
            "type": "parcoords"
           }
          ],
          "pie": [
           {
            "automargin": true,
            "type": "pie"
           }
          ],
          "scatter": [
           {
            "fillpattern": {
             "fillmode": "overlay",
             "size": 10,
             "solidity": 0.2
            },
            "type": "scatter"
           }
          ],
          "scatter3d": [
           {
            "line": {
             "colorbar": {
              "outlinewidth": 0,
              "ticks": ""
             }
            },
            "marker": {
             "colorbar": {
              "outlinewidth": 0,
              "ticks": ""
             }
            },
            "type": "scatter3d"
           }
          ],
          "scattercarpet": [
           {
            "marker": {
             "colorbar": {
              "outlinewidth": 0,
              "ticks": ""
             }
            },
            "type": "scattercarpet"
           }
          ],
          "scattergeo": [
           {
            "marker": {
             "colorbar": {
              "outlinewidth": 0,
              "ticks": ""
             }
            },
            "type": "scattergeo"
           }
          ],
          "scattergl": [
           {
            "marker": {
             "colorbar": {
              "outlinewidth": 0,
              "ticks": ""
             }
            },
            "type": "scattergl"
           }
          ],
          "scattermapbox": [
           {
            "marker": {
             "colorbar": {
              "outlinewidth": 0,
              "ticks": ""
             }
            },
            "type": "scattermapbox"
           }
          ],
          "scatterpolar": [
           {
            "marker": {
             "colorbar": {
              "outlinewidth": 0,
              "ticks": ""
             }
            },
            "type": "scatterpolar"
           }
          ],
          "scatterpolargl": [
           {
            "marker": {
             "colorbar": {
              "outlinewidth": 0,
              "ticks": ""
             }
            },
            "type": "scatterpolargl"
           }
          ],
          "scatterternary": [
           {
            "marker": {
             "colorbar": {
              "outlinewidth": 0,
              "ticks": ""
             }
            },
            "type": "scatterternary"
           }
          ],
          "surface": [
           {
            "colorbar": {
             "outlinewidth": 0,
             "ticks": ""
            },
            "colorscale": [
             [
              0,
              "#0d0887"
             ],
             [
              0.1111111111111111,
              "#46039f"
             ],
             [
              0.2222222222222222,
              "#7201a8"
             ],
             [
              0.3333333333333333,
              "#9c179e"
             ],
             [
              0.4444444444444444,
              "#bd3786"
             ],
             [
              0.5555555555555556,
              "#d8576b"
             ],
             [
              0.6666666666666666,
              "#ed7953"
             ],
             [
              0.7777777777777778,
              "#fb9f3a"
             ],
             [
              0.8888888888888888,
              "#fdca26"
             ],
             [
              1,
              "#f0f921"
             ]
            ],
            "type": "surface"
           }
          ],
          "table": [
           {
            "cells": {
             "fill": {
              "color": "#EBF0F8"
             },
             "line": {
              "color": "white"
             }
            },
            "header": {
             "fill": {
              "color": "#C8D4E3"
             },
             "line": {
              "color": "white"
             }
            },
            "type": "table"
           }
          ]
         },
         "layout": {
          "annotationdefaults": {
           "arrowcolor": "#2a3f5f",
           "arrowhead": 0,
           "arrowwidth": 1
          },
          "autotypenumbers": "strict",
          "coloraxis": {
           "colorbar": {
            "outlinewidth": 0,
            "ticks": ""
           }
          },
          "colorscale": {
           "diverging": [
            [
             0,
             "#8e0152"
            ],
            [
             0.1,
             "#c51b7d"
            ],
            [
             0.2,
             "#de77ae"
            ],
            [
             0.3,
             "#f1b6da"
            ],
            [
             0.4,
             "#fde0ef"
            ],
            [
             0.5,
             "#f7f7f7"
            ],
            [
             0.6,
             "#e6f5d0"
            ],
            [
             0.7,
             "#b8e186"
            ],
            [
             0.8,
             "#7fbc41"
            ],
            [
             0.9,
             "#4d9221"
            ],
            [
             1,
             "#276419"
            ]
           ],
           "sequential": [
            [
             0,
             "#0d0887"
            ],
            [
             0.1111111111111111,
             "#46039f"
            ],
            [
             0.2222222222222222,
             "#7201a8"
            ],
            [
             0.3333333333333333,
             "#9c179e"
            ],
            [
             0.4444444444444444,
             "#bd3786"
            ],
            [
             0.5555555555555556,
             "#d8576b"
            ],
            [
             0.6666666666666666,
             "#ed7953"
            ],
            [
             0.7777777777777778,
             "#fb9f3a"
            ],
            [
             0.8888888888888888,
             "#fdca26"
            ],
            [
             1,
             "#f0f921"
            ]
           ],
           "sequentialminus": [
            [
             0,
             "#0d0887"
            ],
            [
             0.1111111111111111,
             "#46039f"
            ],
            [
             0.2222222222222222,
             "#7201a8"
            ],
            [
             0.3333333333333333,
             "#9c179e"
            ],
            [
             0.4444444444444444,
             "#bd3786"
            ],
            [
             0.5555555555555556,
             "#d8576b"
            ],
            [
             0.6666666666666666,
             "#ed7953"
            ],
            [
             0.7777777777777778,
             "#fb9f3a"
            ],
            [
             0.8888888888888888,
             "#fdca26"
            ],
            [
             1,
             "#f0f921"
            ]
           ]
          },
          "colorway": [
           "#636efa",
           "#EF553B",
           "#00cc96",
           "#ab63fa",
           "#FFA15A",
           "#19d3f3",
           "#FF6692",
           "#B6E880",
           "#FF97FF",
           "#FECB52"
          ],
          "font": {
           "color": "#2a3f5f"
          },
          "geo": {
           "bgcolor": "white",
           "lakecolor": "white",
           "landcolor": "#E5ECF6",
           "showlakes": true,
           "showland": true,
           "subunitcolor": "white"
          },
          "hoverlabel": {
           "align": "left"
          },
          "hovermode": "closest",
          "mapbox": {
           "style": "light"
          },
          "paper_bgcolor": "white",
          "plot_bgcolor": "#E5ECF6",
          "polar": {
           "angularaxis": {
            "gridcolor": "white",
            "linecolor": "white",
            "ticks": ""
           },
           "bgcolor": "#E5ECF6",
           "radialaxis": {
            "gridcolor": "white",
            "linecolor": "white",
            "ticks": ""
           }
          },
          "scene": {
           "xaxis": {
            "backgroundcolor": "#E5ECF6",
            "gridcolor": "white",
            "gridwidth": 2,
            "linecolor": "white",
            "showbackground": true,
            "ticks": "",
            "zerolinecolor": "white"
           },
           "yaxis": {
            "backgroundcolor": "#E5ECF6",
            "gridcolor": "white",
            "gridwidth": 2,
            "linecolor": "white",
            "showbackground": true,
            "ticks": "",
            "zerolinecolor": "white"
           },
           "zaxis": {
            "backgroundcolor": "#E5ECF6",
            "gridcolor": "white",
            "gridwidth": 2,
            "linecolor": "white",
            "showbackground": true,
            "ticks": "",
            "zerolinecolor": "white"
           }
          },
          "shapedefaults": {
           "line": {
            "color": "#2a3f5f"
           }
          },
          "ternary": {
           "aaxis": {
            "gridcolor": "white",
            "linecolor": "white",
            "ticks": ""
           },
           "baxis": {
            "gridcolor": "white",
            "linecolor": "white",
            "ticks": ""
           },
           "bgcolor": "#E5ECF6",
           "caxis": {
            "gridcolor": "white",
            "linecolor": "white",
            "ticks": ""
           }
          },
          "title": {
           "x": 0.05
          },
          "xaxis": {
           "automargin": true,
           "gridcolor": "white",
           "linecolor": "white",
           "ticks": "",
           "title": {
            "standoff": 15
           },
           "zerolinecolor": "white",
           "zerolinewidth": 2
          },
          "yaxis": {
           "automargin": true,
           "gridcolor": "white",
           "linecolor": "white",
           "ticks": "",
           "title": {
            "standoff": 15
           },
           "zerolinecolor": "white",
           "zerolinewidth": 2
          }
         }
        },
        "title": {
         "text": "Hyperparameter Importances"
        },
        "xaxis": {
         "title": {
          "text": "Hyperparameter Importance"
         }
        },
        "yaxis": {
         "title": {
          "text": "Hyperparameter"
         }
        }
       }
      },
      "text/html": [
       "<div>                            <div id=\"998b7375-45d6-4d9d-a220-483e3f72eb7f\" class=\"plotly-graph-div\" style=\"height:525px; width:100%;\"></div>            <script type=\"text/javascript\">                require([\"plotly\"], function(Plotly) {                    window.PLOTLYENV=window.PLOTLYENV || {};                                    if (document.getElementById(\"998b7375-45d6-4d9d-a220-483e3f72eb7f\")) {                    Plotly.newPlot(                        \"998b7375-45d6-4d9d-a220-483e3f72eb7f\",                        [{\"cliponaxis\":false,\"hovertemplate\":[\"chain_function_constant (FloatDistribution): 0.0010300470969733275\\u003cextra\\u003e\\u003c\\u002fextra\\u003e\",\"learning_rate (FloatDistribution): 0.0027444730403743877\\u003cextra\\u003e\\u003c\\u002fextra\\u003e\",\"epochs (IntDistribution): 0.004831841981579414\\u003cextra\\u003e\\u003c\\u002fextra\\u003e\",\"forecast_distribution (CategoricalDistribution): 0.008619786374186485\\u003cextra\\u003e\\u003c\\u002fextra\\u003e\",\"optimizer (CategoricalDistribution): 0.011094936995940568\\u003cextra\\u003e\\u003c\\u002fextra\\u003e\",\"chain_function_mean (FloatDistribution): 0.08796903690250776\\u003cextra\\u003e\\u003c\\u002fextra\\u003e\",\"perform_batching (CategoricalDistribution): 0.14243462604836502\\u003cextra\\u003e\\u003c\\u002fextra\\u003e\",\"chain_function_std (FloatDistribution): 0.7412752515600731\\u003cextra\\u003e\\u003c\\u002fextra\\u003e\"],\"name\":\"CRPS\",\"orientation\":\"h\",\"text\":[\"\\u003c0.01\",\"\\u003c0.01\",\"\\u003c0.01\",\"\\u003c0.01\",\"0.01\",\"0.09\",\"0.14\",\"0.74\"],\"textposition\":\"outside\",\"x\":[0.0010300470969733275,0.0027444730403743877,0.004831841981579414,0.008619786374186485,0.011094936995940568,0.08796903690250776,0.14243462604836502,0.7412752515600731],\"y\":[\"chain_function_constant\",\"learning_rate\",\"epochs\",\"forecast_distribution\",\"optimizer\",\"chain_function_mean\",\"perform_batching\",\"chain_function_std\"],\"type\":\"bar\"},{\"cliponaxis\":false,\"hovertemplate\":[\"chain_function_constant (FloatDistribution): 0.00032656977485408543\\u003cextra\\u003e\\u003c\\u002fextra\\u003e\",\"epochs (IntDistribution): 0.008625174758873089\\u003cextra\\u003e\\u003c\\u002fextra\\u003e\",\"forecast_distribution (CategoricalDistribution): 0.009736885133579449\\u003cextra\\u003e\\u003c\\u002fextra\\u003e\",\"chain_function_std (FloatDistribution): 0.0403307294844133\\u003cextra\\u003e\\u003c\\u002fextra\\u003e\",\"learning_rate (FloatDistribution): 0.04623859157473593\\u003cextra\\u003e\\u003c\\u002fextra\\u003e\",\"optimizer (CategoricalDistribution): 0.04766102946349543\\u003cextra\\u003e\\u003c\\u002fextra\\u003e\",\"chain_function_mean (FloatDistribution): 0.12581890568242926\\u003cextra\\u003e\\u003c\\u002fextra\\u003e\",\"perform_batching (CategoricalDistribution): 0.7212621141276194\\u003cextra\\u003e\\u003c\\u002fextra\\u003e\"],\"name\":\"twCRPS12\",\"orientation\":\"h\",\"text\":[\"\\u003c0.01\",\"\\u003c0.01\",\"\\u003c0.01\",\"0.04\",\"0.05\",\"0.05\",\"0.13\",\"0.72\"],\"textposition\":\"outside\",\"x\":[0.00032656977485408543,0.008625174758873089,0.009736885133579449,0.0403307294844133,0.04623859157473593,0.04766102946349543,0.12581890568242926,0.7212621141276194],\"y\":[\"chain_function_constant\",\"epochs\",\"forecast_distribution\",\"chain_function_std\",\"learning_rate\",\"optimizer\",\"chain_function_mean\",\"perform_batching\"],\"type\":\"bar\"}],                        {\"title\":{\"text\":\"Hyperparameter Importances\"},\"xaxis\":{\"title\":{\"text\":\"Hyperparameter Importance\"}},\"yaxis\":{\"title\":{\"text\":\"Hyperparameter\"}},\"template\":{\"data\":{\"histogram2dcontour\":[{\"type\":\"histogram2dcontour\",\"colorbar\":{\"outlinewidth\":0,\"ticks\":\"\"},\"colorscale\":[[0.0,\"#0d0887\"],[0.1111111111111111,\"#46039f\"],[0.2222222222222222,\"#7201a8\"],[0.3333333333333333,\"#9c179e\"],[0.4444444444444444,\"#bd3786\"],[0.5555555555555556,\"#d8576b\"],[0.6666666666666666,\"#ed7953\"],[0.7777777777777778,\"#fb9f3a\"],[0.8888888888888888,\"#fdca26\"],[1.0,\"#f0f921\"]]}],\"choropleth\":[{\"type\":\"choropleth\",\"colorbar\":{\"outlinewidth\":0,\"ticks\":\"\"}}],\"histogram2d\":[{\"type\":\"histogram2d\",\"colorbar\":{\"outlinewidth\":0,\"ticks\":\"\"},\"colorscale\":[[0.0,\"#0d0887\"],[0.1111111111111111,\"#46039f\"],[0.2222222222222222,\"#7201a8\"],[0.3333333333333333,\"#9c179e\"],[0.4444444444444444,\"#bd3786\"],[0.5555555555555556,\"#d8576b\"],[0.6666666666666666,\"#ed7953\"],[0.7777777777777778,\"#fb9f3a\"],[0.8888888888888888,\"#fdca26\"],[1.0,\"#f0f921\"]]}],\"heatmap\":[{\"type\":\"heatmap\",\"colorbar\":{\"outlinewidth\":0,\"ticks\":\"\"},\"colorscale\":[[0.0,\"#0d0887\"],[0.1111111111111111,\"#46039f\"],[0.2222222222222222,\"#7201a8\"],[0.3333333333333333,\"#9c179e\"],[0.4444444444444444,\"#bd3786\"],[0.5555555555555556,\"#d8576b\"],[0.6666666666666666,\"#ed7953\"],[0.7777777777777778,\"#fb9f3a\"],[0.8888888888888888,\"#fdca26\"],[1.0,\"#f0f921\"]]}],\"heatmapgl\":[{\"type\":\"heatmapgl\",\"colorbar\":{\"outlinewidth\":0,\"ticks\":\"\"},\"colorscale\":[[0.0,\"#0d0887\"],[0.1111111111111111,\"#46039f\"],[0.2222222222222222,\"#7201a8\"],[0.3333333333333333,\"#9c179e\"],[0.4444444444444444,\"#bd3786\"],[0.5555555555555556,\"#d8576b\"],[0.6666666666666666,\"#ed7953\"],[0.7777777777777778,\"#fb9f3a\"],[0.8888888888888888,\"#fdca26\"],[1.0,\"#f0f921\"]]}],\"contourcarpet\":[{\"type\":\"contourcarpet\",\"colorbar\":{\"outlinewidth\":0,\"ticks\":\"\"}}],\"contour\":[{\"type\":\"contour\",\"colorbar\":{\"outlinewidth\":0,\"ticks\":\"\"},\"colorscale\":[[0.0,\"#0d0887\"],[0.1111111111111111,\"#46039f\"],[0.2222222222222222,\"#7201a8\"],[0.3333333333333333,\"#9c179e\"],[0.4444444444444444,\"#bd3786\"],[0.5555555555555556,\"#d8576b\"],[0.6666666666666666,\"#ed7953\"],[0.7777777777777778,\"#fb9f3a\"],[0.8888888888888888,\"#fdca26\"],[1.0,\"#f0f921\"]]}],\"surface\":[{\"type\":\"surface\",\"colorbar\":{\"outlinewidth\":0,\"ticks\":\"\"},\"colorscale\":[[0.0,\"#0d0887\"],[0.1111111111111111,\"#46039f\"],[0.2222222222222222,\"#7201a8\"],[0.3333333333333333,\"#9c179e\"],[0.4444444444444444,\"#bd3786\"],[0.5555555555555556,\"#d8576b\"],[0.6666666666666666,\"#ed7953\"],[0.7777777777777778,\"#fb9f3a\"],[0.8888888888888888,\"#fdca26\"],[1.0,\"#f0f921\"]]}],\"mesh3d\":[{\"type\":\"mesh3d\",\"colorbar\":{\"outlinewidth\":0,\"ticks\":\"\"}}],\"scatter\":[{\"fillpattern\":{\"fillmode\":\"overlay\",\"size\":10,\"solidity\":0.2},\"type\":\"scatter\"}],\"parcoords\":[{\"type\":\"parcoords\",\"line\":{\"colorbar\":{\"outlinewidth\":0,\"ticks\":\"\"}}}],\"scatterpolargl\":[{\"type\":\"scatterpolargl\",\"marker\":{\"colorbar\":{\"outlinewidth\":0,\"ticks\":\"\"}}}],\"bar\":[{\"error_x\":{\"color\":\"#2a3f5f\"},\"error_y\":{\"color\":\"#2a3f5f\"},\"marker\":{\"line\":{\"color\":\"#E5ECF6\",\"width\":0.5},\"pattern\":{\"fillmode\":\"overlay\",\"size\":10,\"solidity\":0.2}},\"type\":\"bar\"}],\"scattergeo\":[{\"type\":\"scattergeo\",\"marker\":{\"colorbar\":{\"outlinewidth\":0,\"ticks\":\"\"}}}],\"scatterpolar\":[{\"type\":\"scatterpolar\",\"marker\":{\"colorbar\":{\"outlinewidth\":0,\"ticks\":\"\"}}}],\"histogram\":[{\"marker\":{\"pattern\":{\"fillmode\":\"overlay\",\"size\":10,\"solidity\":0.2}},\"type\":\"histogram\"}],\"scattergl\":[{\"type\":\"scattergl\",\"marker\":{\"colorbar\":{\"outlinewidth\":0,\"ticks\":\"\"}}}],\"scatter3d\":[{\"type\":\"scatter3d\",\"line\":{\"colorbar\":{\"outlinewidth\":0,\"ticks\":\"\"}},\"marker\":{\"colorbar\":{\"outlinewidth\":0,\"ticks\":\"\"}}}],\"scattermapbox\":[{\"type\":\"scattermapbox\",\"marker\":{\"colorbar\":{\"outlinewidth\":0,\"ticks\":\"\"}}}],\"scatterternary\":[{\"type\":\"scatterternary\",\"marker\":{\"colorbar\":{\"outlinewidth\":0,\"ticks\":\"\"}}}],\"scattercarpet\":[{\"type\":\"scattercarpet\",\"marker\":{\"colorbar\":{\"outlinewidth\":0,\"ticks\":\"\"}}}],\"carpet\":[{\"aaxis\":{\"endlinecolor\":\"#2a3f5f\",\"gridcolor\":\"white\",\"linecolor\":\"white\",\"minorgridcolor\":\"white\",\"startlinecolor\":\"#2a3f5f\"},\"baxis\":{\"endlinecolor\":\"#2a3f5f\",\"gridcolor\":\"white\",\"linecolor\":\"white\",\"minorgridcolor\":\"white\",\"startlinecolor\":\"#2a3f5f\"},\"type\":\"carpet\"}],\"table\":[{\"cells\":{\"fill\":{\"color\":\"#EBF0F8\"},\"line\":{\"color\":\"white\"}},\"header\":{\"fill\":{\"color\":\"#C8D4E3\"},\"line\":{\"color\":\"white\"}},\"type\":\"table\"}],\"barpolar\":[{\"marker\":{\"line\":{\"color\":\"#E5ECF6\",\"width\":0.5},\"pattern\":{\"fillmode\":\"overlay\",\"size\":10,\"solidity\":0.2}},\"type\":\"barpolar\"}],\"pie\":[{\"automargin\":true,\"type\":\"pie\"}]},\"layout\":{\"autotypenumbers\":\"strict\",\"colorway\":[\"#636efa\",\"#EF553B\",\"#00cc96\",\"#ab63fa\",\"#FFA15A\",\"#19d3f3\",\"#FF6692\",\"#B6E880\",\"#FF97FF\",\"#FECB52\"],\"font\":{\"color\":\"#2a3f5f\"},\"hovermode\":\"closest\",\"hoverlabel\":{\"align\":\"left\"},\"paper_bgcolor\":\"white\",\"plot_bgcolor\":\"#E5ECF6\",\"polar\":{\"bgcolor\":\"#E5ECF6\",\"angularaxis\":{\"gridcolor\":\"white\",\"linecolor\":\"white\",\"ticks\":\"\"},\"radialaxis\":{\"gridcolor\":\"white\",\"linecolor\":\"white\",\"ticks\":\"\"}},\"ternary\":{\"bgcolor\":\"#E5ECF6\",\"aaxis\":{\"gridcolor\":\"white\",\"linecolor\":\"white\",\"ticks\":\"\"},\"baxis\":{\"gridcolor\":\"white\",\"linecolor\":\"white\",\"ticks\":\"\"},\"caxis\":{\"gridcolor\":\"white\",\"linecolor\":\"white\",\"ticks\":\"\"}},\"coloraxis\":{\"colorbar\":{\"outlinewidth\":0,\"ticks\":\"\"}},\"colorscale\":{\"sequential\":[[0.0,\"#0d0887\"],[0.1111111111111111,\"#46039f\"],[0.2222222222222222,\"#7201a8\"],[0.3333333333333333,\"#9c179e\"],[0.4444444444444444,\"#bd3786\"],[0.5555555555555556,\"#d8576b\"],[0.6666666666666666,\"#ed7953\"],[0.7777777777777778,\"#fb9f3a\"],[0.8888888888888888,\"#fdca26\"],[1.0,\"#f0f921\"]],\"sequentialminus\":[[0.0,\"#0d0887\"],[0.1111111111111111,\"#46039f\"],[0.2222222222222222,\"#7201a8\"],[0.3333333333333333,\"#9c179e\"],[0.4444444444444444,\"#bd3786\"],[0.5555555555555556,\"#d8576b\"],[0.6666666666666666,\"#ed7953\"],[0.7777777777777778,\"#fb9f3a\"],[0.8888888888888888,\"#fdca26\"],[1.0,\"#f0f921\"]],\"diverging\":[[0,\"#8e0152\"],[0.1,\"#c51b7d\"],[0.2,\"#de77ae\"],[0.3,\"#f1b6da\"],[0.4,\"#fde0ef\"],[0.5,\"#f7f7f7\"],[0.6,\"#e6f5d0\"],[0.7,\"#b8e186\"],[0.8,\"#7fbc41\"],[0.9,\"#4d9221\"],[1,\"#276419\"]]},\"xaxis\":{\"gridcolor\":\"white\",\"linecolor\":\"white\",\"ticks\":\"\",\"title\":{\"standoff\":15},\"zerolinecolor\":\"white\",\"automargin\":true,\"zerolinewidth\":2},\"yaxis\":{\"gridcolor\":\"white\",\"linecolor\":\"white\",\"ticks\":\"\",\"title\":{\"standoff\":15},\"zerolinecolor\":\"white\",\"automargin\":true,\"zerolinewidth\":2},\"scene\":{\"xaxis\":{\"backgroundcolor\":\"#E5ECF6\",\"gridcolor\":\"white\",\"linecolor\":\"white\",\"showbackground\":true,\"ticks\":\"\",\"zerolinecolor\":\"white\",\"gridwidth\":2},\"yaxis\":{\"backgroundcolor\":\"#E5ECF6\",\"gridcolor\":\"white\",\"linecolor\":\"white\",\"showbackground\":true,\"ticks\":\"\",\"zerolinecolor\":\"white\",\"gridwidth\":2},\"zaxis\":{\"backgroundcolor\":\"#E5ECF6\",\"gridcolor\":\"white\",\"linecolor\":\"white\",\"showbackground\":true,\"ticks\":\"\",\"zerolinecolor\":\"white\",\"gridwidth\":2}},\"shapedefaults\":{\"line\":{\"color\":\"#2a3f5f\"}},\"annotationdefaults\":{\"arrowcolor\":\"#2a3f5f\",\"arrowhead\":0,\"arrowwidth\":1},\"geo\":{\"bgcolor\":\"white\",\"landcolor\":\"#E5ECF6\",\"subunitcolor\":\"white\",\"showland\":true,\"showlakes\":true,\"lakecolor\":\"white\"},\"title\":{\"x\":0.05},\"mapbox\":{\"style\":\"light\"}}}},                        {\"responsive\": true}                    ).then(function(){\n",
       "                            \n",
       "var gd = document.getElementById('998b7375-45d6-4d9d-a220-483e3f72eb7f');\n",
       "var x = new MutationObserver(function (mutations, observer) {{\n",
       "        var display = window.getComputedStyle(gd).display;\n",
       "        if (!display || display === 'none') {{\n",
       "            console.log([gd, 'removed!']);\n",
       "            Plotly.purge(gd);\n",
       "            observer.disconnect();\n",
       "        }}\n",
       "}});\n",
       "\n",
       "// Listen for the removal of the full notebook cells\n",
       "var notebookContainer = gd.closest('#notebook-container');\n",
       "if (notebookContainer) {{\n",
       "    x.observe(notebookContainer, {childList: true});\n",
       "}}\n",
       "\n",
       "// Listen for the clearing of the current output cell\n",
       "var outputEl = gd.closest('.output');\n",
       "if (outputEl) {{\n",
       "    x.observe(outputEl, {childList: true});\n",
       "}}\n",
       "\n",
       "                        })                };                });            </script>        </div>"
      ]
     },
     "metadata": {},
     "output_type": "display_data"
    }
   ],
   "source": [
    "#give hyperparameter importances\n",
    "\n",
    "optuna.visualization.plot_param_importances(study2).show()"
   ]
  },
  {
   "cell_type": "code",
   "execution_count": 36,
   "metadata": {},
   "outputs": [
    {
     "name": "stdout",
     "output_type": "stream",
     "text": [
      "177\n"
     ]
    }
   ],
   "source": [
    "print(len(study2.trials))"
   ]
  },
  {
   "cell_type": "code",
   "execution_count": 15,
   "metadata": {},
   "outputs": [
    {
     "data": {
      "application/vnd.plotly.v1+json": {
       "config": {
        "plotlyServerURL": "https://plot.ly"
       },
       "data": [
        {
         "hovertemplate": "%{text}<extra>Trial</extra>",
         "marker": {
          "color": [
           0,
           1,
           2,
           3,
           4,
           5,
           6,
           7,
           8,
           9,
           10,
           11,
           12,
           13,
           14,
           15,
           16,
           17,
           18,
           19,
           20,
           21,
           22,
           23,
           24,
           25,
           26,
           27,
           28,
           29,
           30,
           31,
           32,
           33,
           34,
           35,
           36,
           37,
           38,
           39,
           40,
           41,
           42,
           43,
           44,
           45,
           46,
           47,
           48,
           49,
           50,
           51,
           52,
           53,
           54,
           55,
           56,
           57,
           58,
           59,
           61,
           62,
           63,
           64,
           65,
           66,
           67,
           68,
           69,
           70,
           71,
           72,
           73,
           74,
           76,
           77,
           78,
           79,
           80,
           81,
           82,
           83,
           84,
           85,
           86,
           87,
           88,
           89,
           90,
           91,
           92,
           93,
           94,
           95,
           96,
           97,
           98,
           99,
           100,
           101,
           102,
           103,
           104,
           105,
           106,
           107,
           108,
           109,
           110,
           111,
           112,
           113,
           114,
           115,
           116,
           117,
           118,
           119,
           120,
           121,
           122,
           123,
           124,
           125,
           126,
           127,
           128,
           129,
           130,
           131,
           132,
           134,
           135,
           136,
           137,
           138,
           139,
           140,
           141,
           142,
           143,
           144,
           145,
           146,
           147,
           148,
           149,
           150,
           151,
           152,
           153,
           154,
           155,
           156,
           157,
           158,
           159,
           160,
           161,
           162,
           163,
           164,
           165,
           166,
           167,
           168,
           169,
           170,
           172,
           173
          ],
          "colorbar": {
           "title": {
            "text": "Trial"
           }
          },
          "colorscale": [
           [
            0,
            "rgb(247,251,255)"
           ],
           [
            0.125,
            "rgb(222,235,247)"
           ],
           [
            0.25,
            "rgb(198,219,239)"
           ],
           [
            0.375,
            "rgb(158,202,225)"
           ],
           [
            0.5,
            "rgb(107,174,214)"
           ],
           [
            0.625,
            "rgb(66,146,198)"
           ],
           [
            0.75,
            "rgb(33,113,181)"
           ],
           [
            0.875,
            "rgb(8,81,156)"
           ],
           [
            1,
            "rgb(8,48,107)"
           ]
          ],
          "line": {
           "color": "Grey",
           "width": 0.5
          }
         },
         "mode": "markers",
         "showlegend": false,
         "text": [
          "{<br>  \"number\": 0,<br>  \"values\": [<br>    6.857719659805298,<br>    0.24745424091815948<br>  ],<br>  \"params\": {<br>    \"chain_function_mean\": 8.92768804408959,<br>    \"chain_function_std\": 0.9519280572386348,<br>    \"chain_function_constant\": 0.00030999914997151474,<br>    \"optimizer\": \"SGD\",<br>    \"learning_rate\": 0.0012923231234461274,<br>    \"forecast_distribution\": \"distr_mixture\",<br>    \"distribution_1\": \"distr_log_normal\",<br>    \"distribution_2\": \"distr_trunc_normal\",<br>    \"perform_batching\": true,<br>    \"batch_size\": 32,<br>    \"epochs\": 207<br>  }<br>}",
          "{<br>  \"number\": 1,<br>  \"values\": [<br>    2.7068868279457092,<br>    0.18107673153281212<br>  ],<br>  \"params\": {<br>    \"chain_function_mean\": -3.1589325703210713,<br>    \"chain_function_std\": 0.0002759704550778344,<br>    \"chain_function_constant\": 0.009416006510129638,<br>    \"optimizer\": \"SGD\",<br>    \"learning_rate\": 0.010304157454824651,<br>    \"forecast_distribution\": \"distr_mixture_linear\",<br>    \"distribution_1\": \"distr_gev\",<br>    \"distribution_2\": \"distr_log_normal\",<br>    \"perform_batching\": true,<br>    \"batch_size\": 256,<br>    \"epochs\": 277<br>  }<br>}",
          "{<br>  \"number\": 2,<br>  \"values\": [<br>    2.707387685775757,<br>    0.18062767386436462<br>  ],<br>  \"params\": {<br>    \"chain_function_mean\": -4.373060661832781,<br>    \"chain_function_std\": 0.5624119227090846,<br>    \"chain_function_constant\": 0.0035755008744056713,<br>    \"optimizer\": \"Adam\",<br>    \"learning_rate\": 0.000809743317291191,<br>    \"forecast_distribution\": \"distr_trunc_normal\",<br>    \"perform_batching\": true,<br>    \"batch_size\": 64,<br>    \"epochs\": 157<br>  }<br>}",
          "{<br>  \"number\": 3,<br>  \"values\": [<br>    7.781105995178223,<br>    0.2917838990688324<br>  ],<br>  \"params\": {<br>    \"chain_function_mean\": 8.459079658136577,<br>    \"chain_function_std\": 0.0068746188786876355,<br>    \"chain_function_constant\": 5.770406498265465e-05,<br>    \"optimizer\": \"Adam\",<br>    \"learning_rate\": 0.00029435142674010364,<br>    \"forecast_distribution\": \"distr_gev\",<br>    \"perform_batching\": false,<br>    \"epochs\": 149<br>  }<br>}",
          "{<br>  \"number\": 4,<br>  \"values\": [<br>    2.712414562702179,<br>    0.18150850385427475<br>  ],<br>  \"params\": {<br>    \"chain_function_mean\": 1.59831766360778,<br>    \"chain_function_std\": 2.133936326220745,<br>    \"chain_function_constant\": 0.11411669613359093,<br>    \"optimizer\": \"Adam\",<br>    \"learning_rate\": 0.06866510555399127,<br>    \"forecast_distribution\": \"distr_trunc_normal\",<br>    \"perform_batching\": true,<br>    \"batch_size\": 1024,<br>    \"epochs\": 363<br>  }<br>}",
          "{<br>  \"number\": 5,<br>  \"values\": [<br>    7.844149827957153,<br>    0.2921120226383209<br>  ],<br>  \"params\": {<br>    \"chain_function_mean\": 1.1872374775533823,<br>    \"chain_function_std\": 6.058958689840486,<br>    \"chain_function_constant\": 0.0014935094370555173,<br>    \"optimizer\": \"Adam\",<br>    \"learning_rate\": 0.00015398417506987154,<br>    \"forecast_distribution\": \"distr_mixture\",<br>    \"distribution_1\": \"distr_gev\",<br>    \"distribution_2\": \"distr_gev\",<br>    \"perform_batching\": false,<br>    \"epochs\": 467<br>  }<br>}",
          "{<br>  \"number\": 6,<br>  \"values\": [<br>    5.163564205169678,<br>    0.3390817642211914<br>  ],<br>  \"params\": {<br>    \"chain_function_mean\": 0.31544437675777814,<br>    \"chain_function_std\": 0.0018098079519817225,<br>    \"chain_function_constant\": 0.024545358062812783,<br>    \"optimizer\": \"Adam\",<br>    \"learning_rate\": 0.001947641337878647,<br>    \"forecast_distribution\": \"distr_gev\",<br>    \"perform_batching\": false,<br>    \"epochs\": 483<br>  }<br>}",
          "{<br>  \"number\": 7,<br>  \"values\": [<br>    3.2693737745285034,<br>    0.1938517466187477<br>  ],<br>  \"params\": {<br>    \"chain_function_mean\": 3.725059129932742,<br>    \"chain_function_std\": 0.000291982405019289,<br>    \"chain_function_constant\": 3.1532489378432935e-05,<br>    \"optimizer\": \"Adam\",<br>    \"learning_rate\": 0.006631834893464393,<br>    \"forecast_distribution\": \"distr_gev\",<br>    \"perform_batching\": false,<br>    \"epochs\": 431<br>  }<br>}",
          "{<br>  \"number\": 8,<br>  \"values\": [<br>    2.707865536212921,<br>    0.18080054223537445<br>  ],<br>  \"params\": {<br>    \"chain_function_mean\": 1.7160921604353652,<br>    \"chain_function_std\": 0.018294126947100645,<br>    \"chain_function_constant\": 0.09112866659471801,<br>    \"optimizer\": \"SGD\",<br>    \"learning_rate\": 0.016570618048122886,<br>    \"forecast_distribution\": \"distr_trunc_normal\",<br>    \"perform_batching\": true,<br>    \"batch_size\": 256,<br>    \"epochs\": 286<br>  }<br>}",
          "{<br>  \"number\": 9,<br>  \"values\": [<br>    3.0313754081726074,<br>    0.22385223954916<br>  ],<br>  \"params\": {<br>    \"chain_function_mean\": -1.0164546431871968,<br>    \"chain_function_std\": 0.04884355898127172,<br>    \"chain_function_constant\": 0.007064492551314908,<br>    \"optimizer\": \"SGD\",<br>    \"learning_rate\": 0.04751733636192285,<br>    \"forecast_distribution\": \"distr_mixture_linear\",<br>    \"distribution_1\": \"distr_log_normal\",<br>    \"distribution_2\": \"distr_trunc_normal\",<br>    \"perform_batching\": false,<br>    \"epochs\": 342<br>  }<br>}",
          "{<br>  \"number\": 10,<br>  \"values\": [<br>    10.303478240966797,<br>    0.30033228918910027<br>  ],<br>  \"params\": {<br>    \"chain_function_mean\": 13.425384929167091,<br>    \"chain_function_std\": 1.3952032625719306,<br>    \"chain_function_constant\": 0.0029465332931491997,<br>    \"optimizer\": \"SGD\",<br>    \"learning_rate\": 0.02295288058824968,<br>    \"forecast_distribution\": \"distr_mixture_linear\",<br>    \"distribution_1\": \"distr_trunc_normal\",<br>    \"distribution_2\": \"distr_log_normal\",<br>    \"perform_batching\": false,<br>    \"epochs\": 189<br>  }<br>}",
          "{<br>  \"number\": 11,<br>  \"values\": [<br>    2.780767560005188,<br>    0.18001408874988556<br>  ],<br>  \"params\": {<br>    \"chain_function_mean\": 13.319151605820721,<br>    \"chain_function_std\": 4.077458736407382,<br>    \"chain_function_constant\": 1.1527732096401132e-05,<br>    \"optimizer\": \"Adam\",<br>    \"learning_rate\": 0.003926910944166578,<br>    \"forecast_distribution\": \"distr_log_normal\",<br>    \"perform_batching\": true,<br>    \"batch_size\": 128,<br>    \"epochs\": 435<br>  }<br>}",
          "{<br>  \"number\": 12,<br>  \"values\": [<br>    6.279019117355347,<br>    0.36110496520996094<br>  ],<br>  \"params\": {<br>    \"chain_function_mean\": 3.06228602477578,<br>    \"chain_function_std\": 0.01899031307273979,<br>    \"chain_function_constant\": 0.07376955088119357,<br>    \"optimizer\": \"SGD\",<br>    \"learning_rate\": 0.004426485780137288,<br>    \"forecast_distribution\": \"distr_gev\",<br>    \"perform_batching\": false,<br>    \"epochs\": 341<br>  }<br>}",
          "{<br>  \"number\": 13,<br>  \"values\": [<br>    3.380695343017578,<br>    0.23045691847801208<br>  ],<br>  \"params\": {<br>    \"chain_function_mean\": -2.3003295166613302,<br>    \"chain_function_std\": 0.07834967299665604,<br>    \"chain_function_constant\": 0.08666154410230384,<br>    \"optimizer\": \"Adam\",<br>    \"learning_rate\": 0.013834668028561667,<br>    \"forecast_distribution\": \"distr_mixture_linear\",<br>    \"distribution_1\": \"distr_gev\",<br>    \"distribution_2\": \"distr_trunc_normal\",<br>    \"perform_batching\": false,<br>    \"epochs\": 205<br>  }<br>}",
          "{<br>  \"number\": 14,<br>  \"values\": [<br>    2.9159937500953674,<br>    0.19983584061264992<br>  ],<br>  \"params\": {<br>    \"chain_function_mean\": 3.0275447251546694,<br>    \"chain_function_std\": 0.00010630418763146408,<br>    \"chain_function_constant\": 0.6581913409199802,<br>    \"optimizer\": \"SGD\",<br>    \"learning_rate\": 0.0009910215227800436,<br>    \"forecast_distribution\": \"distr_gev\",<br>    \"perform_batching\": true,<br>    \"batch_size\": 512,<br>    \"epochs\": 350<br>  }<br>}",
          "{<br>  \"number\": 15,<br>  \"values\": [<br>    2.7207736372947693,<br>    0.18145718052983284<br>  ],<br>  \"params\": {<br>    \"chain_function_mean\": 2.2218780683038775,<br>    \"chain_function_std\": 0.024028090433787286,<br>    \"chain_function_constant\": 0.39264817113054545,<br>    \"optimizer\": \"Adam\",<br>    \"learning_rate\": 0.016203109067420094,<br>    \"forecast_distribution\": \"distr_log_normal\",<br>    \"perform_batching\": true,<br>    \"batch_size\": 1024,<br>    \"epochs\": 200<br>  }<br>}",
          "{<br>  \"number\": 16,<br>  \"values\": [<br>    9.976555585861206,<br>    0.300634678453207<br>  ],<br>  \"params\": {<br>    \"chain_function_mean\": 12.725753452221163,<br>    \"chain_function_std\": 0.8564132514408164,<br>    \"chain_function_constant\": 3.633506098119116e-05,<br>    \"optimizer\": \"SGD\",<br>    \"learning_rate\": 0.01619305117853118,<br>    \"forecast_distribution\": \"distr_trunc_normal\",<br>    \"perform_batching\": true,<br>    \"batch_size\": 512,<br>    \"epochs\": 410<br>  }<br>}",
          "{<br>  \"number\": 17,<br>  \"values\": [<br>    2.7285261154174805,<br>    0.18249428644776344<br>  ],<br>  \"params\": {<br>    \"chain_function_mean\": 5.299386744983046,<br>    \"chain_function_std\": 0.000318729472766609,<br>    \"chain_function_constant\": 1.3018416582466503,<br>    \"optimizer\": \"SGD\",<br>    \"learning_rate\": 0.006490413573910863,<br>    \"forecast_distribution\": \"distr_mixture\",<br>    \"distribution_1\": \"distr_gev\",<br>    \"distribution_2\": \"distr_trunc_normal\",<br>    \"perform_batching\": true,<br>    \"batch_size\": 256,<br>    \"epochs\": 445<br>  }<br>}",
          "{<br>  \"number\": 18,<br>  \"values\": [<br>    11.437721967697144,<br>    0.3012692891061306<br>  ],<br>  \"params\": {<br>    \"chain_function_mean\": 3.24553004082272,<br>    \"chain_function_std\": 5.406281434379213,<br>    \"chain_function_constant\": 0.20547356851433216,<br>    \"optimizer\": \"Adam\",<br>    \"learning_rate\": 0.00011758608382975349,<br>    \"forecast_distribution\": \"distr_mixture\",<br>    \"distribution_1\": \"distr_log_normal\",<br>    \"distribution_2\": \"distr_log_normal\",<br>    \"perform_batching\": false,<br>    \"epochs\": 451<br>  }<br>}",
          "{<br>  \"number\": 19,<br>  \"values\": [<br>    2.7918731570243835,<br>    0.1805586814880371<br>  ],<br>  \"params\": {<br>    \"chain_function_mean\": 5.330043520721144,<br>    \"chain_function_std\": 2.4621679087484023,<br>    \"chain_function_constant\": 4.110978456548582e-05,<br>    \"optimizer\": \"SGD\",<br>    \"learning_rate\": 0.0058234861922892055,<br>    \"forecast_distribution\": \"distr_mixture_linear\",<br>    \"distribution_1\": \"distr_log_normal\",<br>    \"distribution_2\": \"distr_log_normal\",<br>    \"perform_batching\": true,<br>    \"batch_size\": 512,<br>    \"epochs\": 403<br>  }<br>}",
          "{<br>  \"number\": 20,<br>  \"values\": [<br>    2.719066619873047,<br>    0.18151003122329712<br>  ],<br>  \"params\": {<br>    \"chain_function_mean\": -4.854861178152421,<br>    \"chain_function_std\": 0.17159341243829102,<br>    \"chain_function_constant\": 0.00034374699552860256,<br>    \"optimizer\": \"Adam\",<br>    \"learning_rate\": 0.0006331140704964706,<br>    \"forecast_distribution\": \"distr_log_normal\",<br>    \"perform_batching\": true,<br>    \"batch_size\": 64,<br>    \"epochs\": 136<br>  }<br>}",
          "{<br>  \"number\": 21,<br>  \"values\": [<br>    2.7802626490592957,<br>    0.179512158036232<br>  ],<br>  \"params\": {<br>    \"chain_function_mean\": 7.876906349237393,<br>    \"chain_function_std\": 0.3177089451709854,<br>    \"chain_function_constant\": 0.0009423588895167703,<br>    \"optimizer\": \"Adam\",<br>    \"learning_rate\": 0.0004008182372297023,<br>    \"forecast_distribution\": \"distr_trunc_normal\",<br>    \"perform_batching\": true,<br>    \"batch_size\": 64,<br>    \"epochs\": 111<br>  }<br>}",
          "{<br>  \"number\": 22,<br>  \"values\": [<br>    2.7766727209091187,<br>    0.17940985783934593<br>  ],<br>  \"params\": {<br>    \"chain_function_mean\": 7.8340584504276976,<br>    \"chain_function_std\": 0.23982745338443026,<br>    \"chain_function_constant\": 0.0008012591145669031,<br>    \"optimizer\": \"Adam\",<br>    \"learning_rate\": 0.0004489382998864519,<br>    \"forecast_distribution\": \"distr_trunc_normal\",<br>    \"perform_batching\": true,<br>    \"batch_size\": 64,<br>    \"epochs\": 103<br>  }<br>}",
          "{<br>  \"number\": 23,<br>  \"values\": [<br>    2.999790906906128,<br>    0.1776863932609558<br>  ],<br>  \"params\": {<br>    \"chain_function_mean\": 10.560683075342443,<br>    \"chain_function_std\": 0.4149682445294126,<br>    \"chain_function_constant\": 0.00020231775926459996,<br>    \"optimizer\": \"Adam\",<br>    \"learning_rate\": 0.0018956077050642478,<br>    \"forecast_distribution\": \"distr_trunc_normal\",<br>    \"perform_batching\": true,<br>    \"batch_size\": 64,<br>    \"epochs\": 252<br>  }<br>}",
          "{<br>  \"number\": 24,<br>  \"values\": [<br>    2.7539538741111755,<br>    0.1784217208623886<br>  ],<br>  \"params\": {<br>    \"chain_function_mean\": 10.13905077771497,<br>    \"chain_function_std\": 0.45492724089784053,<br>    \"chain_function_constant\": 0.02643669781834482,<br>    \"optimizer\": \"Adam\",<br>    \"learning_rate\": 0.0018386537728955277,<br>    \"forecast_distribution\": \"distr_trunc_normal\",<br>    \"perform_batching\": true,<br>    \"batch_size\": 64,<br>    \"epochs\": 247<br>  }<br>}",
          "{<br>  \"number\": 25,<br>  \"values\": [<br>    2.7380585074424744,<br>    0.17931987345218658<br>  ],<br>  \"params\": {<br>    \"chain_function_mean\": 10.564047487329841,<br>    \"chain_function_std\": 0.10935749964080561,<br>    \"chain_function_constant\": 0.019437866083625376,<br>    \"optimizer\": \"Adam\",<br>    \"learning_rate\": 0.00021237420711068522,<br>    \"forecast_distribution\": \"distr_trunc_normal\",<br>    \"perform_batching\": true,<br>    \"batch_size\": 64,<br>    \"epochs\": 242<br>  }<br>}",
          "{<br>  \"number\": 26,<br>  \"values\": [<br>    2.7504209876060486,<br>    0.17940856888890266<br>  ],<br>  \"params\": {<br>    \"chain_function_mean\": 6.171263677550304,<br>    \"chain_function_std\": 0.00690593958062783,<br>    \"chain_function_constant\": 0.019109818353743032,<br>    \"optimizer\": \"Adam\",<br>    \"learning_rate\": 0.0026111372705716947,<br>    \"forecast_distribution\": \"distr_trunc_normal\",<br>    \"perform_batching\": true,<br>    \"batch_size\": 32,<br>    \"epochs\": 170<br>  }<br>}",
          "{<br>  \"number\": 27,<br>  \"values\": [<br>    2.8274190425872803,<br>    0.17791029810905457<br>  ],<br>  \"params\": {<br>    \"chain_function_mean\": 10.682448662405733,<br>    \"chain_function_std\": 0.5561631130804957,<br>    \"chain_function_constant\": 0.00012523480475042816,<br>    \"optimizer\": \"Adam\",<br>    \"learning_rate\": 0.0009076767860821696,<br>    \"forecast_distribution\": \"distr_trunc_normal\",<br>    \"perform_batching\": true,<br>    \"batch_size\": 128,<br>    \"epochs\": 230<br>  }<br>}",
          "{<br>  \"number\": 28,<br>  \"values\": [<br>    2.7075695395469666,<br>    0.18051982298493385<br>  ],<br>  \"params\": {<br>    \"chain_function_mean\": -0.8039960321192279,<br>    \"chain_function_std\": 9.807808002687812,<br>    \"chain_function_constant\": 1.9447125197502784,<br>    \"optimizer\": \"Adam\",<br>    \"learning_rate\": 0.0006341044934620053,<br>    \"forecast_distribution\": \"distr_trunc_normal\",<br>    \"perform_batching\": true,<br>    \"batch_size\": 64,<br>    \"epochs\": 321<br>  }<br>}",
          "{<br>  \"number\": 29,<br>  \"values\": [<br>    2.7073572278022766,<br>    0.1803307607769966<br>  ],<br>  \"params\": {<br>    \"chain_function_mean\": -0.4823919291062815,<br>    \"chain_function_std\": 5.689482636004607,<br>    \"chain_function_constant\": 1.6337040586380491,<br>    \"optimizer\": \"Adam\",<br>    \"learning_rate\": 0.0016027584352587261,<br>    \"forecast_distribution\": \"distr_trunc_normal\",<br>    \"perform_batching\": true,<br>    \"batch_size\": 64,<br>    \"epochs\": 307<br>  }<br>}",
          "{<br>  \"number\": 30,<br>  \"values\": [<br>    2.7066689133644104,<br>    0.18055195733904839<br>  ],<br>  \"params\": {<br>    \"chain_function_mean\": -2.59633235269148,<br>    \"chain_function_std\": 9.524594386046262,<br>    \"chain_function_constant\": 0.6906163237885832,<br>    \"optimizer\": \"Adam\",<br>    \"learning_rate\": 0.0013836122148049347,<br>    \"forecast_distribution\": \"distr_trunc_normal\",<br>    \"perform_batching\": true,<br>    \"batch_size\": 128,<br>    \"epochs\": 241<br>  }<br>}",
          "{<br>  \"number\": 31,<br>  \"values\": [<br>    2.717193841934204,<br>    0.1810912862420082<br>  ],<br>  \"params\": {<br>    \"chain_function_mean\": -2.3420390422512645,<br>    \"chain_function_std\": 2.2792811070584054,<br>    \"chain_function_constant\": 0.6963960616781889,<br>    \"optimizer\": \"Adam\",<br>    \"learning_rate\": 0.002761505327675819,<br>    \"forecast_distribution\": \"distr_log_normal\",<br>    \"perform_batching\": true,<br>    \"batch_size\": 128,<br>    \"epochs\": 231<br>  }<br>}",
          "{<br>  \"number\": 32,<br>  \"values\": [<br>    2.7086182832717896,<br>    0.17996812611818314<br>  ],<br>  \"params\": {<br>    \"chain_function_mean\": 10.240469520814901,<br>    \"chain_function_std\": 9.315080084675353,<br>    \"chain_function_constant\": 0.044509025952921694,<br>    \"optimizer\": \"Adam\",<br>    \"learning_rate\": 0.0010676866865113133,<br>    \"forecast_distribution\": \"distr_trunc_normal\",<br>    \"perform_batching\": true,<br>    \"batch_size\": 128,<br>    \"epochs\": 253<br>  }<br>}",
          "{<br>  \"number\": 33,<br>  \"values\": [<br>    2.726343870162964,<br>    0.17928890883922577<br>  ],<br>  \"params\": {<br>    \"chain_function_mean\": 10.373817378379536,<br>    \"chain_function_std\": 0.002536808061131474,<br>    \"chain_function_constant\": 0.04349028238442353,<br>    \"optimizer\": \"Adam\",<br>    \"learning_rate\": 0.0002886701906384498,<br>    \"forecast_distribution\": \"distr_trunc_normal\",<br>    \"perform_batching\": true,<br>    \"batch_size\": 128,<br>    \"epochs\": 269<br>  }<br>}",
          "{<br>  \"number\": 34,<br>  \"values\": [<br>    3.559202194213867,<br>    0.19323212653398514<br>  ],<br>  \"params\": {<br>    \"chain_function_mean\": 14.516646773619645,<br>    \"chain_function_std\": 0.0008532717086658874,<br>    \"chain_function_constant\": 0.00013053316755875323,<br>    \"optimizer\": \"Adam\",<br>    \"learning_rate\": 0.0002661964439924912,<br>    \"forecast_distribution\": \"distr_trunc_normal\",<br>    \"perform_batching\": true,<br>    \"batch_size\": 128,<br>    \"epochs\": 279<br>  }<br>}",
          "{<br>  \"number\": 35,<br>  \"values\": [<br>    2.710324466228485,<br>    0.1801108494400978<br>  ],<br>  \"params\": {<br>    \"chain_function_mean\": 11.902279776628218,<br>    \"chain_function_std\": 0.008580420749984418,<br>    \"chain_function_constant\": 0.24697118668453513,<br>    \"optimizer\": \"Adam\",<br>    \"learning_rate\": 0.00042043849544187305,<br>    \"forecast_distribution\": \"distr_trunc_normal\",<br>    \"perform_batching\": true,<br>    \"batch_size\": 128,<br>    \"epochs\": 381<br>  }<br>}",
          "{<br>  \"number\": 36,<br>  \"values\": [<br>    2.7086638808250427,<br>    0.18021013587713242<br>  ],<br>  \"params\": {<br>    \"chain_function_mean\": 6.656810234111182,<br>    \"chain_function_std\": 0.002017015555979516,<br>    \"chain_function_constant\": 0.7637300109522457,<br>    \"optimizer\": \"Adam\",<br>    \"learning_rate\": 0.0007173313215058371,<br>    \"forecast_distribution\": \"distr_trunc_normal\",<br>    \"perform_batching\": true,<br>    \"batch_size\": 128,<br>    \"epochs\": 222<br>  }<br>}",
          "{<br>  \"number\": 37,<br>  \"values\": [<br>    4.160776615142822,<br>    0.204006165266037<br>  ],<br>  \"params\": {<br>    \"chain_function_mean\": 14.888166598164922,<br>    \"chain_function_std\": 0.15265064472419898,<br>    \"chain_function_constant\": 1.5998194173025635e-05,<br>    \"optimizer\": \"Adam\",<br>    \"learning_rate\": 0.0004984635311728094,<br>    \"forecast_distribution\": \"distr_mixture\",<br>    \"distribution_1\": \"distr_trunc_normal\",<br>    \"distribution_2\": \"distr_gev\",<br>    \"perform_batching\": true,<br>    \"batch_size\": 128,<br>    \"epochs\": 312<br>  }<br>}",
          "{<br>  \"number\": 38,<br>  \"values\": [<br>    2.722476303577423,<br>    0.18093814700841904<br>  ],<br>  \"params\": {<br>    \"chain_function_mean\": 11.298937413432196,<br>    \"chain_function_std\": 0.048592095973926525,<br>    \"chain_function_constant\": 0.18518350731410022,<br>    \"optimizer\": \"Adam\",<br>    \"learning_rate\": 0.0002885122481223993,<br>    \"forecast_distribution\": \"distr_log_normal\",<br>    \"perform_batching\": true,<br>    \"batch_size\": 128,<br>    \"epochs\": 271<br>  }<br>}",
          "{<br>  \"number\": 39,<br>  \"values\": [<br>    9.872849941253662,<br>    0.3013862185180187<br>  ],<br>  \"params\": {<br>    \"chain_function_mean\": 4.610509126450495,<br>    \"chain_function_std\": 1.526947969457224,<br>    \"chain_function_constant\": 0.008895543536327256,<br>    \"optimizer\": \"Adam\",<br>    \"learning_rate\": 0.0001769659774930297,<br>    \"forecast_distribution\": \"distr_trunc_normal\",<br>    \"perform_batching\": false,<br>    \"epochs\": 182<br>  }<br>}",
          "{<br>  \"number\": 40,<br>  \"values\": [<br>    2.8216095566749573,<br>    0.17792407795786858<br>  ],<br>  \"params\": {<br>    \"chain_function_mean\": 9.295510900883679,<br>    \"chain_function_std\": 0.7405279129371941,<br>    \"chain_function_constant\": 8.967404388622808e-05,<br>    \"optimizer\": \"Adam\",<br>    \"learning_rate\": 0.001972206194570844,<br>    \"forecast_distribution\": \"distr_trunc_normal\",<br>    \"perform_batching\": true,<br>    \"batch_size\": 128,<br>    \"epochs\": 254<br>  }<br>}",
          "{<br>  \"number\": 41,<br>  \"values\": [<br>    2.7417330145835876,<br>    0.1784018538892269<br>  ],<br>  \"params\": {<br>    \"chain_function_mean\": 9.003602626306296,<br>    \"chain_function_std\": 2.8153878110701513,<br>    \"chain_function_constant\": 0.0002701356249901794,<br>    \"optimizer\": \"Adam\",<br>    \"learning_rate\": 0.003140937676345873,<br>    \"forecast_distribution\": \"distr_trunc_normal\",<br>    \"perform_batching\": true,<br>    \"batch_size\": 128,<br>    \"epochs\": 261<br>  }<br>}",
          "{<br>  \"number\": 42,<br>  \"values\": [<br>    9.154417753219604,<br>    0.30080437660217285<br>  ],<br>  \"params\": {<br>    \"chain_function_mean\": -3.723696474924429,<br>    \"chain_function_std\": 3.509669265883265,<br>    \"chain_function_constant\": 0.00028217727723517497,<br>    \"optimizer\": \"SGD\",<br>    \"learning_rate\": 0.0033354603702919713,<br>    \"forecast_distribution\": \"distr_trunc_normal\",<br>    \"perform_batching\": false,<br>    \"epochs\": 224<br>  }<br>}",
          "{<br>  \"number\": 43,<br>  \"values\": [<br>    2.7313432693481445,<br>    0.18551310151815414<br>  ],<br>  \"params\": {<br>    \"chain_function_mean\": 7.190016445499221,<br>    \"chain_function_std\": 3.481014033833056,<br>    \"chain_function_constant\": 0.0022682442063423416,<br>    \"optimizer\": \"Adam\",<br>    \"learning_rate\": 0.03131767628527161,<br>    \"forecast_distribution\": \"distr_mixture_linear\",<br>    \"distribution_1\": \"distr_trunc_normal\",<br>    \"distribution_2\": \"distr_gev\",<br>    \"perform_batching\": true,<br>    \"batch_size\": 32,<br>    \"epochs\": 292<br>  }<br>}",
          "{<br>  \"number\": 44,<br>  \"values\": [<br>    2.712631583213806,<br>    0.18171465769410133<br>  ],<br>  \"params\": {<br>    \"chain_function_mean\": 0.29584064011888866,<br>    \"chain_function_std\": 1.3344231021424866,<br>    \"chain_function_constant\": 0.0001744761934047865,<br>    \"optimizer\": \"Adam\",<br>    \"learning_rate\": 0.0013246706592001467,<br>    \"forecast_distribution\": \"distr_gev\",<br>    \"perform_batching\": true,<br>    \"batch_size\": 1024,<br>    \"epochs\": 500<br>  }<br>}",
          "{<br>  \"number\": 45,<br>  \"values\": [<br>    2.716261148452759,<br>    0.18121807649731636<br>  ],<br>  \"params\": {<br>    \"chain_function_mean\": -1.9999817274795735,<br>    \"chain_function_std\": 9.900007242073144,<br>    \"chain_function_constant\": 0.0004807466688223968,<br>    \"optimizer\": \"Adam\",<br>    \"learning_rate\": 0.009349752676990739,<br>    \"forecast_distribution\": \"distr_mixture\",<br>    \"distribution_1\": \"distr_trunc_normal\",<br>    \"distribution_2\": \"distr_gev\",<br>    \"perform_batching\": true,<br>    \"batch_size\": 128,<br>    \"epochs\": 323<br>  }<br>}",
          "{<br>  \"number\": 46,<br>  \"values\": [<br>    11.561511516571045,<br>    0.3012460172176361<br>  ],<br>  \"params\": {<br>    \"chain_function_mean\": 4.416903945811047,<br>    \"chain_function_std\": 0.392533744662121,<br>    \"chain_function_constant\": 0.000651349595378835,<br>    \"optimizer\": \"SGD\",<br>    \"learning_rate\": 0.0029022831261545897,<br>    \"forecast_distribution\": \"distr_log_normal\",<br>    \"perform_batching\": false,<br>    \"epochs\": 127<br>  }<br>}",
          "{<br>  \"number\": 47,<br>  \"values\": [<br>    2.7097208499908447,<br>    0.17972959950566292<br>  ],<br>  \"params\": {<br>    \"chain_function_mean\": 5.780882602452529,<br>    \"chain_function_std\": 3.8102072044536834,<br>    \"chain_function_constant\": 1.9715938418806834e-05,<br>    \"optimizer\": \"Adam\",<br>    \"learning_rate\": 0.005373162265266414,<br>    \"forecast_distribution\": \"distr_trunc_normal\",<br>    \"perform_batching\": true,<br>    \"batch_size\": 128,<br>    \"epochs\": 261<br>  }<br>}",
          "{<br>  \"number\": 48,<br>  \"values\": [<br>    3.257739782333374,<br>    0.19533534348011017<br>  ],<br>  \"params\": {<br>    \"chain_function_mean\": -3.6502635256201015,<br>    \"chain_function_std\": 2.204003554836899,<br>    \"chain_function_constant\": 0.0013508917772554112,<br>    \"optimizer\": \"Adam\",<br>    \"learning_rate\": 0.0009389960363456353,<br>    \"forecast_distribution\": \"distr_trunc_normal\",<br>    \"perform_batching\": true,<br>    \"batch_size\": 1024,<br>    \"epochs\": 218<br>  }<br>}",
          "{<br>  \"number\": 49,<br>  \"values\": [<br>    2.787211775779724,<br>    0.18803881108760834<br>  ],<br>  \"params\": {<br>    \"chain_function_mean\": -1.6858721336810212,<br>    \"chain_function_std\": 5.569114525421915,<br>    \"chain_function_constant\": 0.006558323885324709,<br>    \"optimizer\": \"SGD\",<br>    \"learning_rate\": 0.09172022404456802,<br>    \"forecast_distribution\": \"distr_trunc_normal\",<br>    \"perform_batching\": false,<br>    \"epochs\": 183<br>  }<br>}",
          "{<br>  \"number\": 50,<br>  \"values\": [<br>    3.0351170897483826,<br>    0.17757552862167358<br>  ],<br>  \"params\": {<br>    \"chain_function_mean\": 11.881624131563795,<br>    \"chain_function_std\": 1.1647043495929712,<br>    \"chain_function_constant\": 8.256142521312025e-05,<br>    \"optimizer\": \"Adam\",<br>    \"learning_rate\": 0.005036368017960842,<br>    \"forecast_distribution\": \"distr_trunc_normal\",<br>    \"perform_batching\": true,<br>    \"batch_size\": 128,<br>    \"epochs\": 264<br>  }<br>}",
          "{<br>  \"number\": 51,<br>  \"values\": [<br>    3.041444778442383,<br>    0.1778937354683876<br>  ],<br>  \"params\": {<br>    \"chain_function_mean\": 11.621917128947272,<br>    \"chain_function_std\": 1.0743901425599707,<br>    \"chain_function_constant\": 2.1782597986679765e-05,<br>    \"optimizer\": \"Adam\",<br>    \"learning_rate\": 0.004146764333199188,<br>    \"forecast_distribution\": \"distr_trunc_normal\",<br>    \"perform_batching\": true,<br>    \"batch_size\": 128,<br>    \"epochs\": 262<br>  }<br>}",
          "{<br>  \"number\": 52,<br>  \"values\": [<br>    2.8117628693580627,<br>    0.1799292042851448<br>  ],<br>  \"params\": {<br>    \"chain_function_mean\": 13.111191332968959,<br>    \"chain_function_std\": 3.366420489297056,<br>    \"chain_function_constant\": 9.985360187915689e-05,<br>    \"optimizer\": \"Adam\",<br>    \"learning_rate\": 0.008661288691457856,<br>    \"forecast_distribution\": \"distr_trunc_normal\",<br>    \"perform_batching\": true,<br>    \"batch_size\": 128,<br>    \"epochs\": 297<br>  }<br>}",
          "{<br>  \"number\": 53,<br>  \"values\": [<br>    2.869038701057434,<br>    0.17856911569833755<br>  ],<br>  \"params\": {<br>    \"chain_function_mean\": 9.597020878755286,<br>    \"chain_function_std\": 0.5971834075574216,<br>    \"chain_function_constant\": 6.107203372590895e-05,<br>    \"optimizer\": \"Adam\",<br>    \"learning_rate\": 0.004857679040167723,<br>    \"forecast_distribution\": \"distr_trunc_normal\",<br>    \"perform_batching\": true,<br>    \"batch_size\": 128,<br>    \"epochs\": 234<br>  }<br>}",
          "{<br>  \"number\": 54,<br>  \"values\": [<br>    3.0315831899642944,<br>    0.1770503930747509<br>  ],<br>  \"params\": {<br>    \"chain_function_mean\": 12.199492901614367,<br>    \"chain_function_std\": 1.329734286646739,<br>    \"chain_function_constant\": 6.649897768876984e-05,<br>    \"optimizer\": \"Adam\",<br>    \"learning_rate\": 0.0076268631346109814,<br>    \"forecast_distribution\": \"distr_trunc_normal\",<br>    \"perform_batching\": true,<br>    \"batch_size\": 128,<br>    \"epochs\": 324<br>  }<br>}",
          "{<br>  \"number\": 55,<br>  \"values\": [<br>    3.1919878721237183,<br>    0.18332720547914505<br>  ],<br>  \"params\": {<br>    \"chain_function_mean\": 12.595901303840797,<br>    \"chain_function_std\": 0.24550653421311186,<br>    \"chain_function_constant\": 1.0247649759336376e-05,<br>    \"optimizer\": \"Adam\",<br>    \"learning_rate\": 0.027112290363681835,<br>    \"forecast_distribution\": \"distr_trunc_normal\",<br>    \"perform_batching\": true,<br>    \"batch_size\": 128,<br>    \"epochs\": 382<br>  }<br>}",
          "{<br>  \"number\": 56,<br>  \"values\": [<br>    3.52398943901062,<br>    0.19447871297597885<br>  ],<br>  \"params\": {<br>    \"chain_function_mean\": 13.900952776197332,<br>    \"chain_function_std\": 0.6525865245374846,<br>    \"chain_function_constant\": 2.225948560279072e-05,<br>    \"optimizer\": \"Adam\",<br>    \"learning_rate\": 0.06149937008524027,<br>    \"forecast_distribution\": \"distr_trunc_normal\",<br>    \"perform_batching\": true,<br>    \"batch_size\": 256,<br>    \"epochs\": 405<br>  }<br>}",
          "{<br>  \"number\": 57,<br>  \"values\": [<br>    2.7979244589805603,<br>    0.1791129745543003<br>  ],<br>  \"params\": {<br>    \"chain_function_mean\": 11.153742349025437,<br>    \"chain_function_std\": 2.5232032618574185,<br>    \"chain_function_constant\": 0.00016904567914954334,<br>    \"optimizer\": \"Adam\",<br>    \"learning_rate\": 0.00010506475305309502,<br>    \"forecast_distribution\": \"distr_mixture\",<br>    \"distribution_1\": \"distr_gev\",<br>    \"distribution_2\": \"distr_log_normal\",<br>    \"perform_batching\": true,<br>    \"batch_size\": 32,<br>    \"epochs\": 336<br>  }<br>}",
          "{<br>  \"number\": 58,<br>  \"values\": [<br>    3.1855068802833557,<br>    0.18584440276026726<br>  ],<br>  \"params\": {<br>    \"chain_function_mean\": 12.552648420428309,<br>    \"chain_function_std\": 1.501473065177978,<br>    \"chain_function_constant\": 5.3354313084462237e-05,<br>    \"optimizer\": \"Adam\",<br>    \"learning_rate\": 0.03941201429366007,<br>    \"forecast_distribution\": \"distr_gev\",<br>    \"perform_batching\": true,<br>    \"batch_size\": 512,<br>    \"epochs\": 361<br>  }<br>}",
          "{<br>  \"number\": 59,<br>  \"values\": [<br>    2.851145565509796,<br>    0.17946646362543106<br>  ],<br>  \"params\": {<br>    \"chain_function_mean\": 8.425543046135243,<br>    \"chain_function_std\": 0.23961019322736068,<br>    \"chain_function_constant\": 0.00044694658465757196,<br>    \"optimizer\": \"Adam\",<br>    \"learning_rate\": 0.008110459967417407,<br>    \"forecast_distribution\": \"distr_mixture_linear\",<br>    \"distribution_1\": \"distr_log_normal\",<br>    \"distribution_2\": \"distr_trunc_normal\",<br>    \"perform_batching\": true,<br>    \"batch_size\": 128,<br>    \"epochs\": 381<br>  }<br>}",
          "{<br>  \"number\": 61,<br>  \"values\": [<br>    11.646679401397705,<br>    0.301001712679863<br>  ],<br>  \"params\": {<br>    \"chain_function_mean\": 8.784788027238651,<br>    \"chain_function_std\": 0.8531788453189313,<br>    \"chain_function_constant\": 0.0002529415469706046,<br>    \"optimizer\": \"SGD\",<br>    \"learning_rate\": 0.0858530910068446,<br>    \"forecast_distribution\": \"distr_log_normal\",<br>    \"perform_batching\": false,<br>    \"epochs\": 299<br>  }<br>}",
          "{<br>  \"number\": 62,<br>  \"values\": [<br>    7.592499256134033,<br>    0.29395490884780884<br>  ],<br>  \"params\": {<br>    \"chain_function_mean\": 7.016526172502608,<br>    \"chain_function_std\": 0.003676980640255586,<br>    \"chain_function_constant\": 0.0005206961432286028,<br>    \"optimizer\": \"SGD\",<br>    \"learning_rate\": 0.024595690190317116,<br>    \"forecast_distribution\": \"distr_mixture_linear\",<br>    \"distribution_1\": \"distr_trunc_normal\",<br>    \"distribution_2\": \"distr_gev\",<br>    \"perform_batching\": false,<br>    \"epochs\": 308<br>  }<br>}",
          "{<br>  \"number\": 63,<br>  \"values\": [<br>    5.892446279525757,<br>    0.3181852102279663<br>  ],<br>  \"params\": {<br>    \"chain_function_mean\": 6.085868290820297,<br>    \"chain_function_std\": 6.871879116230903,<br>    \"chain_function_constant\": 0.002010057159178468,<br>    \"optimizer\": \"SGD\",<br>    \"learning_rate\": 0.011990169170800133,<br>    \"forecast_distribution\": \"distr_gev\",<br>    \"perform_batching\": false,<br>    \"epochs\": 290<br>  }<br>}",
          "{<br>  \"number\": 64,<br>  \"values\": [<br>    2.869210720062256,<br>    0.17762825265526772<br>  ],<br>  \"params\": {<br>    \"chain_function_mean\": 9.448121965144338,<br>    \"chain_function_std\": 0.00011680319222954649,<br>    \"chain_function_constant\": 0.001008766625168047,<br>    \"optimizer\": \"Adam\",<br>    \"learning_rate\": 0.036810589599220324,<br>    \"forecast_distribution\": \"distr_mixture\",<br>    \"distribution_1\": \"distr_log_normal\",<br>    \"distribution_2\": \"distr_trunc_normal\",<br>    \"perform_batching\": true,<br>    \"batch_size\": 128,<br>    \"epochs\": 266<br>  }<br>}",
          "{<br>  \"number\": 65,<br>  \"values\": [<br>    4.491639852523804,<br>    0.1983233466744423<br>  ],<br>  \"params\": {<br>    \"chain_function_mean\": 14.150399116602802,<br>    \"chain_function_std\": 0.0008977886271834937,<br>    \"chain_function_constant\": 0.0001453328134740706,<br>    \"optimizer\": \"Adam\",<br>    \"learning_rate\": 0.019732708756603462,<br>    \"forecast_distribution\": \"distr_log_normal\",<br>    \"perform_batching\": true,<br>    \"batch_size\": 32,<br>    \"epochs\": 280<br>  }<br>}",
          "{<br>  \"number\": 66,<br>  \"values\": [<br>    9.791269540786743,<br>    0.30173320695757866<br>  ],<br>  \"params\": {<br>    \"chain_function_mean\": 9.887851467914269,<br>    \"chain_function_std\": 1.8345498201724835,<br>    \"chain_function_constant\": 9.843488240808248e-05,<br>    \"optimizer\": \"SGD\",<br>    \"learning_rate\": 0.05414055907201862,<br>    \"forecast_distribution\": \"distr_trunc_normal\",<br>    \"perform_batching\": false,<br>    \"epochs\": 328<br>  }<br>}",
          "{<br>  \"number\": 67,<br>  \"values\": [<br>    2.712471604347229,<br>    0.17971305549144745<br>  ],<br>  \"params\": {<br>    \"chain_function_mean\": 7.48747843174213,<br>    \"chain_function_std\": 4.455557296311494,<br>    \"chain_function_constant\": 0.0004089547179793198,<br>    \"optimizer\": \"Adam\",<br>    \"learning_rate\": 0.012727206248024007,<br>    \"forecast_distribution\": \"distr_trunc_normal\",<br>    \"perform_batching\": true,<br>    \"batch_size\": 1024,<br>    \"epochs\": 310<br>  }<br>}",
          "{<br>  \"number\": 68,<br>  \"values\": [<br>    2.7253670692443848,<br>    0.17977959290146828<br>  ],<br>  \"params\": {<br>    \"chain_function_mean\": 5.9666949533874325,<br>    \"chain_function_std\": 2.7212811284828438,<br>    \"chain_function_constant\": 0.00021749971902001897,<br>    \"optimizer\": \"Adam\",<br>    \"learning_rate\": 0.03704254910947077,<br>    \"forecast_distribution\": \"distr_trunc_normal\",<br>    \"perform_batching\": true,<br>    \"batch_size\": 256,<br>    \"epochs\": 358<br>  }<br>}",
          "{<br>  \"number\": 69,<br>  \"values\": [<br>    2.7376953959465027,<br>    0.18249138072133064<br>  ],<br>  \"params\": {<br>    \"chain_function_mean\": 11.200602771621623,<br>    \"chain_function_std\": 7.2273859330895,<br>    \"chain_function_constant\": 0.0006327445692194254,<br>    \"optimizer\": \"Adam\",<br>    \"learning_rate\": 0.07233991872118883,<br>    \"forecast_distribution\": \"distr_log_normal\",<br>    \"perform_batching\": true,<br>    \"batch_size\": 512,<br>    \"epochs\": 255<br>  }<br>}",
          "{<br>  \"number\": 70,<br>  \"values\": [<br>    2.7729315757751465,<br>    0.17843223735690117<br>  ],<br>  \"params\": {<br>    \"chain_function_mean\": 8.845243830976894,<br>    \"chain_function_std\": 1.7577753074735336,<br>    \"chain_function_constant\": 0.0012968668143959964,<br>    \"optimizer\": \"Adam\",<br>    \"learning_rate\": 0.0023525963370434476,<br>    \"forecast_distribution\": \"distr_trunc_normal\",<br>    \"perform_batching\": true,<br>    \"batch_size\": 128,<br>    \"epochs\": 242<br>  }<br>}",
          "{<br>  \"number\": 71,<br>  \"values\": [<br>    9.914034843444824,<br>    0.30129194259643555<br>  ],<br>  \"params\": {<br>    \"chain_function_mean\": 6.5526115856977425,<br>    \"chain_function_std\": 3.4288281893135797,<br>    \"chain_function_constant\": 0.03484285008456916,<br>    \"optimizer\": \"SGD\",<br>    \"learning_rate\": 0.00111705514319503,<br>    \"forecast_distribution\": \"distr_trunc_normal\",<br>    \"perform_batching\": false,<br>    \"epochs\": 273<br>  }<br>}",
          "{<br>  \"number\": 72,<br>  \"values\": [<br>    2.7453086972236633,<br>    0.1789550967514515<br>  ],<br>  \"params\": {<br>    \"chain_function_mean\": 9.316355539662897,<br>    \"chain_function_std\": 0.8686985266870408,<br>    \"chain_function_constant\": 0.04193137605394362,<br>    \"optimizer\": \"Adam\",<br>    \"learning_rate\": 0.0014471065324864751,<br>    \"forecast_distribution\": \"distr_gev\",<br>    \"perform_batching\": true,<br>    \"batch_size\": 128,<br>    \"epochs\": 288<br>  }<br>}",
          "{<br>  \"number\": 73,<br>  \"values\": [<br>    2.701168477535248,<br>    0.17878421396017075<br>  ],<br>  \"params\": {<br>    \"chain_function_mean\": 8.145216272635377,<br>    \"chain_function_std\": 7.913397737903944,<br>    \"chain_function_constant\": 0.00010370746942155904,<br>    \"optimizer\": \"Adam\",<br>    \"learning_rate\": 0.011093586363027527,<br>    \"forecast_distribution\": \"distr_mixture_linear\",<br>    \"distribution_1\": \"distr_trunc_normal\",<br>    \"distribution_2\": \"distr_gev\",<br>    \"perform_batching\": true,<br>    \"batch_size\": 128,<br>    \"epochs\": 315<br>  }<br>}",
          "{<br>  \"number\": 74,<br>  \"values\": [<br>    9951513313017858.0,<br>    10.0<br>  ],<br>  \"params\": {<br>    \"chain_function_mean\": 7.858317404339937,<br>    \"chain_function_std\": 0.00011439138190686483,<br>    \"chain_function_constant\": 9.791226314960639e-05,<br>    \"optimizer\": \"Adam\",<br>    \"learning_rate\": 0.019649078135596982,<br>    \"forecast_distribution\": \"distr_mixture_linear\",<br>    \"distribution_1\": \"distr_trunc_normal\",<br>    \"distribution_2\": \"distr_gev\",<br>    \"perform_batching\": true,<br>    \"batch_size\": 128,<br>    \"epochs\": 372<br>  }<br>}",
          "{<br>  \"number\": 76,<br>  \"values\": [<br>    2.9602457880973816,<br>    0.17854370549321175<br>  ],<br>  \"params\": {<br>    \"chain_function_mean\": 12.167446337529775,<br>    \"chain_function_std\": 0.01202415031519622,<br>    \"chain_function_constant\": 0.0008285320415085917,<br>    \"optimizer\": \"Adam\",<br>    \"learning_rate\": 0.006651137441805893,<br>    \"forecast_distribution\": \"distr_mixture_linear\",<br>    \"distribution_1\": \"distr_trunc_normal\",<br>    \"distribution_2\": \"distr_gev\",<br>    \"perform_batching\": true,<br>    \"batch_size\": 128,<br>    \"epochs\": 320<br>  }<br>}",
          "{<br>  \"number\": 77,<br>  \"values\": [<br>    2.7031825184822083,<br>    0.17908001318573952<br>  ],<br>  \"params\": {<br>    \"chain_function_mean\": 11.201176935851986,<br>    \"chain_function_std\": 7.3587880280475515,<br>    \"chain_function_constant\": 0.000272342628908597,<br>    \"optimizer\": \"Adam\",<br>    \"learning_rate\": 0.010962685797105033,<br>    \"forecast_distribution\": \"distr_mixture_linear\",<br>    \"distribution_1\": \"distr_trunc_normal\",<br>    \"distribution_2\": \"distr_gev\",<br>    \"perform_batching\": true,<br>    \"batch_size\": 128,<br>    \"epochs\": 329<br>  }<br>}",
          "{<br>  \"number\": 78,<br>  \"values\": [<br>    8.563292503356934,<br>    0.29542822390794754<br>  ],<br>  \"params\": {<br>    \"chain_function_mean\": 9.756851405134965,<br>    \"chain_function_std\": 0.0005589684633672883,<br>    \"chain_function_constant\": 0.0010280278739163984,<br>    \"optimizer\": \"SGD\",<br>    \"learning_rate\": 0.01094233821301924,<br>    \"forecast_distribution\": \"distr_mixture_linear\",<br>    \"distribution_1\": \"distr_trunc_normal\",<br>    \"distribution_2\": \"distr_gev\",<br>    \"perform_batching\": false,<br>    \"epochs\": 333<br>  }<br>}",
          "{<br>  \"number\": 79,<br>  \"values\": [<br>    10.28159499168396,<br>    0.3002767451107502<br>  ],<br>  \"params\": {<br>    \"chain_function_mean\": 10.941930133066174,<br>    \"chain_function_std\": 1.2750118651501172,<br>    \"chain_function_constant\": 0.0003282313036165111,<br>    \"optimizer\": \"SGD\",<br>    \"learning_rate\": 0.03356651346350924,<br>    \"forecast_distribution\": \"distr_mixture\",<br>    \"distribution_1\": \"distr_log_normal\",<br>    \"distribution_2\": \"distr_trunc_normal\",<br>    \"perform_batching\": false,<br>    \"epochs\": 302<br>  }<br>}",
          "{<br>  \"number\": 80,<br>  \"values\": [<br>    2.9764585494995117,<br>    0.18248679861426353<br>  ],<br>  \"params\": {<br>    \"chain_function_mean\": 9.388978928478316,<br>    \"chain_function_std\": 0.7526176570640518,<br>    \"chain_function_constant\": 6.514956992941442e-05,<br>    \"optimizer\": \"Adam\",<br>    \"learning_rate\": 0.020114021961192628,<br>    \"forecast_distribution\": \"distr_mixture_linear\",<br>    \"distribution_1\": \"distr_gev\",<br>    \"distribution_2\": \"distr_log_normal\",<br>    \"perform_batching\": true,<br>    \"batch_size\": 128,<br>    \"epochs\": 315<br>  }<br>}",
          "{<br>  \"number\": 81,<br>  \"values\": [<br>    2.803935468196869,<br>    0.1820959635078907<br>  ],<br>  \"params\": {<br>    \"chain_function_mean\": 11.974412217190967,<br>    \"chain_function_std\": 0.004576035508072865,<br>    \"chain_function_constant\": 0.0002294264143053158,<br>    \"optimizer\": \"Adam\",<br>    \"learning_rate\": 0.028130518245767483,<br>    \"forecast_distribution\": \"distr_mixture_linear\",<br>    \"distribution_1\": \"distr_trunc_normal\",<br>    \"distribution_2\": \"distr_gev\",<br>    \"perform_batching\": true,<br>    \"batch_size\": 32,<br>    \"epochs\": 421<br>  }<br>}",
          "{<br>  \"number\": 82,<br>  \"values\": [<br>    3.2241461873054504,<br>    0.17833564430475235<br>  ],<br>  \"params\": {<br>    \"chain_function_mean\": 11.476222870321056,<br>    \"chain_function_std\": 0.0001469106072585473,<br>    \"chain_function_constant\": 8.396658295058223e-05,<br>    \"optimizer\": \"Adam\",<br>    \"learning_rate\": 0.008115627917603119,<br>    \"forecast_distribution\": \"distr_mixture\",<br>    \"distribution_1\": \"distr_log_normal\",<br>    \"distribution_2\": \"distr_trunc_normal\",<br>    \"perform_batching\": true,<br>    \"batch_size\": 512,<br>    \"epochs\": 391<br>  }<br>}",
          "{<br>  \"number\": 83,<br>  \"values\": [<br>    9.414665460586548,<br>    0.2951228767633438<br>  ],<br>  \"params\": {<br>    \"chain_function_mean\": 11.009546776460601,<br>    \"chain_function_std\": 1.930270298139132,<br>    \"chain_function_constant\": 0.0001371835266911711,<br>    \"optimizer\": \"SGD\",<br>    \"learning_rate\": 0.014942603157212476,<br>    \"forecast_distribution\": \"distr_mixture_linear\",<br>    \"distribution_1\": \"distr_gev\",<br>    \"distribution_2\": \"distr_log_normal\",<br>    \"perform_batching\": false,<br>    \"epochs\": 465<br>  }<br>}",
          "{<br>  \"number\": 84,<br>  \"values\": [<br>    2.724461555480957,<br>    0.1793186515569687<br>  ],<br>  \"params\": {<br>    \"chain_function_mean\": 9.433439121296503,<br>    \"chain_function_std\": 4.560661211707546,<br>    \"chain_function_constant\": 0.000530592230355869,<br>    \"optimizer\": \"Adam\",<br>    \"learning_rate\": 0.003345608619766191,<br>    \"forecast_distribution\": \"distr_mixture\",<br>    \"distribution_1\": \"distr_trunc_normal\",<br>    \"distribution_2\": \"distr_gev\",<br>    \"perform_batching\": true,<br>    \"batch_size\": 256,<br>    \"epochs\": 348<br>  }<br>}",
          "{<br>  \"number\": 85,<br>  \"values\": [<br>    2.8436564207077026,<br>    0.17859472706913948<br>  ],<br>  \"params\": {<br>    \"chain_function_mean\": 8.323359404920435,<br>    \"chain_function_std\": 0.03992506920485803,<br>    \"chain_function_constant\": 0.00019542833746028952,<br>    \"optimizer\": \"Adam\",<br>    \"learning_rate\": 0.04532397718163491,<br>    \"forecast_distribution\": \"distr_log_normal\",<br>    \"perform_batching\": true,<br>    \"batch_size\": 1024,<br>    \"epochs\": 284<br>  }<br>}",
          "{<br>  \"number\": 86,<br>  \"values\": [<br>    2.796791911125183,<br>    0.17816290631890297<br>  ],<br>  \"params\": {<br>    \"chain_function_mean\": 10.061053019978182,<br>    \"chain_function_std\": 2.8185385897785658,<br>    \"chain_function_constant\": 0.0003176705885410628,<br>    \"optimizer\": \"Adam\",<br>    \"learning_rate\": 0.007498939970807041,<br>    \"forecast_distribution\": \"distr_gev\",<br>    \"perform_batching\": true,<br>    \"batch_size\": 128,<br>    \"epochs\": 304<br>  }<br>}",
          "{<br>  \"number\": 87,<br>  \"values\": [<br>    10.319738864898682,<br>    0.3003442883491516<br>  ],<br>  \"params\": {<br>    \"chain_function_mean\": 12.464982842970366,<br>    \"chain_function_std\": 0.9975043793153419,<br>    \"chain_function_constant\": 4.5106701933849314e-05,<br>    \"optimizer\": \"SGD\",<br>    \"learning_rate\": 0.011959069109636443,<br>    \"forecast_distribution\": \"distr_mixture_linear\",<br>    \"distribution_1\": \"distr_log_normal\",<br>    \"distribution_2\": \"distr_trunc_normal\",<br>    \"perform_batching\": false,<br>    \"epochs\": 323<br>  }<br>}",
          "{<br>  \"number\": 88,<br>  \"values\": [<br>    2.7876790165901184,<br>    0.17865020781755447<br>  ],<br>  \"params\": {<br>    \"chain_function_mean\": 9.160833224378091,<br>    \"chain_function_std\": 1.7317050278352588,<br>    \"chain_function_constant\": 2.987943496104289e-05,<br>    \"optimizer\": \"Adam\",<br>    \"learning_rate\": 0.00962833496648563,<br>    \"forecast_distribution\": \"distr_trunc_normal\",<br>    \"perform_batching\": true,<br>    \"batch_size\": 128,<br>    \"epochs\": 297<br>  }<br>}",
          "{<br>  \"number\": 89,<br>  \"values\": [<br>    2.8032538890838623,<br>    0.18137653917074203<br>  ],<br>  \"params\": {<br>    \"chain_function_mean\": 13.057121551990914,<br>    \"chain_function_std\": 0.34502917753144663,<br>    \"chain_function_constant\": 0.004996796614047085,<br>    \"optimizer\": \"Adam\",<br>    \"learning_rate\": 0.003571236034195931,<br>    \"forecast_distribution\": \"distr_mixture_linear\",<br>    \"distribution_1\": \"distr_gev\",<br>    \"distribution_2\": \"distr_log_normal\",<br>    \"perform_batching\": true,<br>    \"batch_size\": 128,<br>    \"epochs\": 494<br>  }<br>}",
          "{<br>  \"number\": 90,<br>  \"values\": [<br>    2.929397225379944,<br>    0.1799728162586689<br>  ],<br>  \"params\": {<br>    \"chain_function_mean\": 9.761708247858243,<br>    \"chain_function_std\": 0.07210191178434884,<br>    \"chain_function_constant\": 0.00037396035316928825,<br>    \"optimizer\": \"Adam\",<br>    \"learning_rate\": 0.006947408405078556,<br>    \"forecast_distribution\": \"distr_gev\",<br>    \"perform_batching\": true,<br>    \"batch_size\": 128,<br>    \"epochs\": 331<br>  }<br>}",
          "{<br>  \"number\": 91,<br>  \"values\": [<br>    2.755766451358795,<br>    0.17812320590019226<br>  ],<br>  \"params\": {<br>    \"chain_function_mean\": 9.980189548409856,<br>    \"chain_function_std\": 2.973266100744477,<br>    \"chain_function_constant\": 7.831723751585956e-05,<br>    \"optimizer\": \"Adam\",<br>    \"learning_rate\": 0.007646663824106346,<br>    \"forecast_distribution\": \"distr_trunc_normal\",<br>    \"perform_batching\": true,<br>    \"batch_size\": 128,<br>    \"epochs\": 301<br>  }<br>}",
          "{<br>  \"number\": 92,<br>  \"values\": [<br>    9.968915939331055,<br>    0.3011695332825184<br>  ],<br>  \"params\": {<br>    \"chain_function_mean\": 11.527904724932167,<br>    \"chain_function_std\": 0.0011865807226086253,<br>    \"chain_function_constant\": 0.00011570509797709857,<br>    \"optimizer\": \"SGD\",<br>    \"learning_rate\": 0.017204444681903033,<br>    \"forecast_distribution\": \"distr_trunc_normal\",<br>    \"perform_batching\": false,<br>    \"epochs\": 290<br>  }<br>}",
          "{<br>  \"number\": 93,<br>  \"values\": [<br>    3.0574503540992737,<br>    0.18306727707386017<br>  ],<br>  \"params\": {<br>    \"chain_function_mean\": 10.718211031248268,<br>    \"chain_function_std\": 0.00019329476513519082,<br>    \"chain_function_constant\": 0.0001626358376620245,<br>    \"optimizer\": \"Adam\",<br>    \"learning_rate\": 0.021731208948354785,<br>    \"forecast_distribution\": \"distr_mixture\",<br>    \"distribution_1\": \"distr_trunc_normal\",<br>    \"distribution_2\": \"distr_gev\",<br>    \"perform_batching\": true,<br>    \"batch_size\": 32,<br>    \"epochs\": 260<br>  }<br>}",
          "{<br>  \"number\": 94,<br>  \"values\": [<br>    2.7878864407539368,<br>    0.17977550998330116<br>  ],<br>  \"params\": {<br>    \"chain_function_mean\": 12.146379431728231,<br>    \"chain_function_std\": 0.0005418435859847338,<br>    \"chain_function_constant\": 0.014132567086805558,<br>    \"optimizer\": \"Adam\",<br>    \"learning_rate\": 0.010487739585038177,<br>    \"forecast_distribution\": \"distr_log_normal\",<br>    \"perform_batching\": true,<br>    \"batch_size\": 1024,<br>    \"epochs\": 277<br>  }<br>}",
          "{<br>  \"number\": 95,<br>  \"values\": [<br>    9.955462455749512,<br>    0.30129745230078697<br>  ],<br>  \"params\": {<br>    \"chain_function_mean\": 10.191666217342261,<br>    \"chain_function_std\": 2.847976643662644,<br>    \"chain_function_constant\": 0.0006913612511774697,<br>    \"optimizer\": \"SGD\",<br>    \"learning_rate\": 0.002340173778037554,<br>    \"forecast_distribution\": \"distr_trunc_normal\",<br>    \"perform_batching\": false,<br>    \"epochs\": 315<br>  }<br>}",
          "{<br>  \"number\": 96,<br>  \"values\": [<br>    2.923154652118683,<br>    0.1799013651907444<br>  ],<br>  \"params\": {<br>    \"chain_function_mean\": 10.926469333465203,<br>    \"chain_function_std\": 1.242140584771716,<br>    \"chain_function_constant\": 0.0002508662919256449,<br>    \"optimizer\": \"Adam\",<br>    \"learning_rate\": 0.013249927582952405,<br>    \"forecast_distribution\": \"distr_trunc_normal\",<br>    \"perform_batching\": true,<br>    \"batch_size\": 256,<br>    \"epochs\": 270<br>  }<br>}",
          "{<br>  \"number\": 97,<br>  \"values\": [<br>    2.803644597530365,<br>    0.17820372804999352<br>  ],<br>  \"params\": {<br>    \"chain_function_mean\": 8.607954194598504,<br>    \"chain_function_std\": 0.7194662362959526,<br>    \"chain_function_constant\": 7.310474107249406e-05,<br>    \"optimizer\": \"Adam\",<br>    \"learning_rate\": 0.005956309495116038,<br>    \"forecast_distribution\": \"distr_trunc_normal\",<br>    \"perform_batching\": true,<br>    \"batch_size\": 512,<br>    \"epochs\": 475<br>  }<br>}",
          "{<br>  \"number\": 98,<br>  \"values\": [<br>    3.151771128177643,<br>    0.18164171278476715<br>  ],<br>  \"params\": {<br>    \"chain_function_mean\": 13.610826186798525,<br>    \"chain_function_std\": 0.518600108590806,<br>    \"chain_function_constant\": 0.0010561795693029552,<br>    \"optimizer\": \"Adam\",<br>    \"learning_rate\": 0.031107586543628017,<br>    \"forecast_distribution\": \"distr_trunc_normal\",<br>    \"perform_batching\": true,<br>    \"batch_size\": 128,<br>    \"epochs\": 296<br>  }<br>}",
          "{<br>  \"number\": 99,<br>  \"values\": [<br>    10.300528287887573,<br>    0.3003297932446003<br>  ],<br>  \"params\": {<br>    \"chain_function_mean\": 12.969673958877458,<br>    \"chain_function_std\": 1.680107887540375,<br>    \"chain_function_constant\": 0.0016492529738470288,<br>    \"optimizer\": \"SGD\",<br>    \"learning_rate\": 0.04592283527847497,<br>    \"forecast_distribution\": \"distr_mixture\",<br>    \"distribution_1\": \"distr_log_normal\",<br>    \"distribution_2\": \"distr_trunc_normal\",<br>    \"perform_batching\": false,<br>    \"epochs\": 120<br>  }<br>}",
          "{<br>  \"number\": 100,<br>  \"values\": [<br>    2.840678334236145,<br>    0.18090004101395607<br>  ],<br>  \"params\": {<br>    \"chain_function_mean\": 10.645570329922048,<br>    \"chain_function_std\": 1.9759972901339626,<br>    \"chain_function_constant\": 0.00015661247759435324,<br>    \"optimizer\": \"Adam\",<br>    \"learning_rate\": 0.02675754890206228,<br>    \"forecast_distribution\": \"distr_trunc_normal\",<br>    \"perform_batching\": true,<br>    \"batch_size\": 128,<br>    \"epochs\": 268<br>  }<br>}",
          "{<br>  \"number\": 101,<br>  \"values\": [<br>    2.7283416986465454,<br>    0.17959530279040337<br>  ],<br>  \"params\": {<br>    \"chain_function_mean\": 11.783671039274926,<br>    \"chain_function_std\": 4.845404124807995,<br>    \"chain_function_constant\": 0.00012384747528056844,<br>    \"optimizer\": \"Adam\",<br>    \"learning_rate\": 0.01844044150078092,<br>    \"forecast_distribution\": \"distr_trunc_normal\",<br>    \"perform_batching\": true,<br>    \"batch_size\": 128,<br>    \"epochs\": 284<br>  }<br>}",
          "{<br>  \"number\": 102,<br>  \"values\": [<br>    3.0322219729423523,<br>    0.17781221866607666<br>  ],<br>  \"params\": {<br>    \"chain_function_mean\": 9.119842305108996,<br>    \"chain_function_std\": 1.1451475540273643,<br>    \"chain_function_constant\": 0.00024617655463941406,<br>    \"optimizer\": \"Adam\",<br>    \"learning_rate\": 0.00449962352799353,<br>    \"forecast_distribution\": \"distr_mixture_linear\",<br>    \"distribution_1\": \"distr_gev\",<br>    \"distribution_2\": \"distr_log_normal\",<br>    \"perform_batching\": true,<br>    \"batch_size\": 128,<br>    \"epochs\": 305<br>  }<br>}",
          "{<br>  \"number\": 103,<br>  \"values\": [<br>    2.745164215564728,<br>    0.1855997033417225<br>  ],<br>  \"params\": {<br>    \"chain_function_mean\": 12.25102096736533,<br>    \"chain_function_std\": 7.3670386025709815,<br>    \"chain_function_constant\": 0.0004483553690297197,<br>    \"optimizer\": \"Adam\",<br>    \"learning_rate\": 0.03988637852965464,<br>    \"forecast_distribution\": \"distr_gev\",<br>    \"perform_batching\": true,<br>    \"batch_size\": 128,<br>    \"epochs\": 157<br>  }<br>}",
          "{<br>  \"number\": 104,<br>  \"values\": [<br>    3.4059996604919434,<br>    0.17854765802621841<br>  ],<br>  \"params\": {<br>    \"chain_function_mean\": 11.406841206253151,<br>    \"chain_function_std\": 0.7065551397668725,<br>    \"chain_function_constant\": 0.00011160582936836167,<br>    \"optimizer\": \"Adam\",<br>    \"learning_rate\": 0.008566056358914467,<br>    \"forecast_distribution\": \"distr_log_normal\",<br>    \"perform_batching\": true,<br>    \"batch_size\": 128,<br>    \"epochs\": 315<br>  }<br>}",
          "{<br>  \"number\": 105,<br>  \"values\": [<br>    9.894656658172607,<br>    0.3013542890548706<br>  ],<br>  \"params\": {<br>    \"chain_function_mean\": 10.696688286311824,<br>    \"chain_function_std\": 3.015540317434455,<br>    \"chain_function_constant\": 0.0005598612660701662,<br>    \"optimizer\": \"SGD\",<br>    \"learning_rate\": 0.014525379863914807,<br>    \"forecast_distribution\": \"distr_trunc_normal\",<br>    \"perform_batching\": false,<br>    \"epochs\": 326<br>  }<br>}",
          "{<br>  \"number\": 106,<br>  \"values\": [<br>    2.7069219946861267,<br>    0.1798439584672451<br>  ],<br>  \"params\": {<br>    \"chain_function_mean\": 2.405043899305954,<br>    \"chain_function_std\": 4.161238034324875,<br>    \"chain_function_constant\": 0.424219623465808,<br>    \"optimizer\": \"Adam\",<br>    \"learning_rate\": 0.011565773963563921,<br>    \"forecast_distribution\": \"distr_trunc_normal\",<br>    \"perform_batching\": true,<br>    \"batch_size\": 128,<br>    \"epochs\": 348<br>  }<br>}",
          "{<br>  \"number\": 107,<br>  \"values\": [<br>    2.747617781162262,<br>    0.18057671934366226<br>  ],<br>  \"params\": {<br>    \"chain_function_mean\": 3.83054807458699,<br>    \"chain_function_std\": 0.0040114012720886905,<br>    \"chain_function_constant\": 8.514942247881567e-05,<br>    \"optimizer\": \"Adam\",<br>    \"learning_rate\": 0.07949158634308087,<br>    \"forecast_distribution\": \"distr_mixture_linear\",<br>    \"distribution_1\": \"distr_trunc_normal\",<br>    \"distribution_2\": \"distr_gev\",<br>    \"perform_batching\": true,<br>    \"batch_size\": 256,<br>    \"epochs\": 453<br>  }<br>}",
          "{<br>  \"number\": 108,<br>  \"values\": [<br>    2.7098857760429382,<br>    0.18123814836144447<br>  ],<br>  \"params\": {<br>    \"chain_function_mean\": 0.6304639269719479,<br>    \"chain_function_std\": 1.4378432877854854,<br>    \"chain_function_constant\": 0.00020474253655780147,<br>    \"optimizer\": \"Adam\",<br>    \"learning_rate\": 0.005776001410671412,<br>    \"forecast_distribution\": \"distr_trunc_normal\",<br>    \"perform_batching\": true,<br>    \"batch_size\": 32,<br>    \"epochs\": 296<br>  }<br>}",
          "{<br>  \"number\": 109,<br>  \"values\": [<br>    9.75523829460144,<br>    0.30186476185917854<br>  ],<br>  \"params\": {<br>    \"chain_function_mean\": 9.973468100574577,<br>    \"chain_function_std\": 2.234674635134515,<br>    \"chain_function_constant\": 0.0003889009050325805,<br>    \"optimizer\": \"SGD\",<br>    \"learning_rate\": 0.05612854671637851,<br>    \"forecast_distribution\": \"distr_trunc_normal\",<br>    \"perform_batching\": false,<br>    \"epochs\": 285<br>  }<br>}",
          "{<br>  \"number\": 110,<br>  \"values\": [<br>    2.727758228778839,<br>    0.1782992109656334<br>  ],<br>  \"params\": {<br>    \"chain_function_mean\": 10.388574557585727,<br>    \"chain_function_std\": 3.9555048877127272,<br>    \"chain_function_constant\": 4.8683141629018715e-05,<br>    \"optimizer\": \"Adam\",<br>    \"learning_rate\": 0.005412290200740172,<br>    \"forecast_distribution\": \"distr_trunc_normal\",<br>    \"perform_batching\": true,<br>    \"batch_size\": 128,<br>    \"epochs\": 260<br>  }<br>}",
          "{<br>  \"number\": 111,<br>  \"values\": [<br>    3.029498338699341,<br>    0.1768028922379017<br>  ],<br>  \"params\": {<br>    \"chain_function_mean\": 10.476086635899428,<br>    \"chain_function_std\": 0.0004527967374576843,<br>    \"chain_function_constant\": 0.0003022847132198365,<br>    \"optimizer\": \"Adam\",<br>    \"learning_rate\": 0.009471561992648573,<br>    \"forecast_distribution\": \"distr_trunc_normal\",<br>    \"perform_batching\": true,<br>    \"batch_size\": 128,<br>    \"epochs\": 276<br>  }<br>}",
          "{<br>  \"number\": 112,<br>  \"values\": [<br>    2.942570388317108,<br>    0.17946439236402512<br>  ],<br>  \"params\": {<br>    \"chain_function_mean\": 10.34299528575711,<br>    \"chain_function_std\": 0.013823228247922403,<br>    \"chain_function_constant\": 0.000284795115295755,<br>    \"optimizer\": \"Adam\",<br>    \"learning_rate\": 0.014874951639244962,<br>    \"forecast_distribution\": \"distr_mixture_linear\",<br>    \"distribution_1\": \"distr_trunc_normal\",<br>    \"distribution_2\": \"distr_gev\",<br>    \"perform_batching\": true,<br>    \"batch_size\": 1024,<br>    \"epochs\": 277<br>  }<br>}",
          "{<br>  \"number\": 113,<br>  \"values\": [<br>    2.853607177734375,<br>    0.18079407140612602<br>  ],<br>  \"params\": {<br>    \"chain_function_mean\": 8.205020674643576,<br>    \"chain_function_std\": 0.000548258307812149,<br>    \"chain_function_constant\": 4.848911883351734e-05,<br>    \"optimizer\": \"Adam\",<br>    \"learning_rate\": 0.024653814526803916,<br>    \"forecast_distribution\": \"distr_gev\",<br>    \"perform_batching\": true,<br>    \"batch_size\": 512,<br>    \"epochs\": 394<br>  }<br>}",
          "{<br>  \"number\": 114,<br>  \"values\": [<br>    2.976686477661133,<br>    0.17703116312623024<br>  ],<br>  \"params\": {<br>    \"chain_function_mean\": 10.971715126796632,<br>    \"chain_function_std\": 0.9606934823761093,<br>    \"chain_function_constant\": 0.00014445881711314858,<br>    \"optimizer\": \"Adam\",<br>    \"learning_rate\": 0.0038021830808490625,<br>    \"forecast_distribution\": \"distr_mixture\",<br>    \"distribution_1\": \"distr_log_normal\",<br>    \"distribution_2\": \"distr_trunc_normal\",<br>    \"perform_batching\": true,<br>    \"batch_size\": 128,<br>    \"epochs\": 255<br>  }<br>}",
          "{<br>  \"number\": 115,<br>  \"values\": [<br>    2.7371020317077637,<br>    0.17830289155244827<br>  ],<br>  \"params\": {<br>    \"chain_function_mean\": 9.697812215073682,<br>    \"chain_function_std\": 3.146578053543481,<br>    \"chain_function_constant\": 0.00018192408981876555,<br>    \"optimizer\": \"Adam\",<br>    \"learning_rate\": 0.0038468808577391154,<br>    \"forecast_distribution\": \"distr_mixture\",<br>    \"distribution_1\": \"distr_log_normal\",<br>    \"distribution_2\": \"distr_trunc_normal\",<br>    \"perform_batching\": true,<br>    \"batch_size\": 128,<br>    \"epochs\": 415<br>  }<br>}",
          "{<br>  \"number\": 116,<br>  \"values\": [<br>    9.763550519943237,<br>    0.3003053553402424<br>  ],<br>  \"params\": {<br>    \"chain_function_mean\": 11.138032004111379,<br>    \"chain_function_std\": 7.41287595080088,<br>    \"chain_function_constant\": 0.0001868225665613443,<br>    \"optimizer\": \"SGD\",<br>    \"learning_rate\": 0.009566975033681539,<br>    \"forecast_distribution\": \"distr_mixture\",<br>    \"distribution_1\": \"distr_log_normal\",<br>    \"distribution_2\": \"distr_trunc_normal\",<br>    \"perform_batching\": false,<br>    \"epochs\": 302<br>  }<br>}",
          "{<br>  \"number\": 117,<br>  \"values\": [<br>    2.721861243247986,<br>    0.18210676312446594<br>  ],<br>  \"params\": {<br>    \"chain_function_mean\": 9.666792325435422,<br>    \"chain_function_std\": 1.0507417503759817,<br>    \"chain_function_constant\": 1.1378718974020077,<br>    \"optimizer\": \"Adam\",<br>    \"learning_rate\": 0.022256329725797566,<br>    \"forecast_distribution\": \"distr_log_normal\",<br>    \"perform_batching\": true,<br>    \"batch_size\": 128,<br>    \"epochs\": 290<br>  }<br>}",
          "{<br>  \"number\": 118,<br>  \"values\": [<br>    3.1684255599975586,<br>    0.17858529835939407<br>  ],<br>  \"params\": {<br>    \"chain_function_mean\": 11.6318919483968,<br>    \"chain_function_std\": 2.0054271513525608,<br>    \"chain_function_constant\": 0.00014759309793521412,<br>    \"optimizer\": \"Adam\",<br>    \"learning_rate\": 0.0003581336005521052,<br>    \"forecast_distribution\": \"distr_mixture_linear\",<br>    \"distribution_1\": \"distr_gev\",<br>    \"distribution_2\": \"distr_log_normal\",<br>    \"perform_batching\": true,<br>    \"batch_size\": 128,<br>    \"epochs\": 420<br>  }<br>}",
          "{<br>  \"number\": 119,<br>  \"values\": [<br>    9.966609239578247,<br>    0.3012638948857784<br>  ],<br>  \"params\": {<br>    \"chain_function_mean\": 10.089906348245364,<br>    \"chain_function_std\": 0.00039042438689167105,<br>    \"chain_function_constant\": 0.00038014289498940944,<br>    \"optimizer\": \"SGD\",<br>    \"learning_rate\": 0.002235536176011897,<br>    \"forecast_distribution\": \"distr_trunc_normal\",<br>    \"perform_batching\": false,<br>    \"epochs\": 310<br>  }<br>}",
          "{<br>  \"number\": 120,<br>  \"values\": [<br>    2.8593857884407043,<br>    0.1771707721054554<br>  ],<br>  \"params\": {<br>    \"chain_function_mean\": 10.775413500989078,<br>    \"chain_function_std\": 1.6278387440367967,<br>    \"chain_function_constant\": 0.000228676742389941,<br>    \"optimizer\": \"Adam\",<br>    \"learning_rate\": 0.012979958769154757,<br>    \"forecast_distribution\": \"distr_trunc_normal\",<br>    \"perform_batching\": true,<br>    \"batch_size\": 128,<br>    \"epochs\": 141<br>  }<br>}",
          "{<br>  \"number\": 121,<br>  \"values\": [<br>    3.047266721725464,<br>    0.17858700081706047<br>  ],<br>  \"params\": {<br>    \"chain_function_mean\": 10.989455086207903,<br>    \"chain_function_std\": 1.6406196904194974,<br>    \"chain_function_constant\": 0.00010820219142404767,<br>    \"optimizer\": \"Adam\",<br>    \"learning_rate\": 0.0111620664884797,<br>    \"forecast_distribution\": \"distr_mixture_linear\",<br>    \"distribution_1\": \"distr_trunc_normal\",<br>    \"distribution_2\": \"distr_gev\",<br>    \"perform_batching\": true,<br>    \"batch_size\": 128,<br>    \"epochs\": 339<br>  }<br>}",
          "{<br>  \"number\": 122,<br>  \"values\": [<br>    2.7140244841575623,<br>    0.17985055223107338<br>  ],<br>  \"params\": {<br>    \"chain_function_mean\": -1.4272060532811022,<br>    \"chain_function_std\": 2.641247207357842,<br>    \"chain_function_constant\": 0.00013403743328000412,<br>    \"optimizer\": \"Adam\",<br>    \"learning_rate\": 0.013736291584022427,<br>    \"forecast_distribution\": \"distr_trunc_normal\",<br>    \"perform_batching\": true,<br>    \"batch_size\": 128,<br>    \"epochs\": 296<br>  }<br>}",
          "{<br>  \"number\": 123,<br>  \"values\": [<br>    2.7246435284614563,<br>    0.18049225583672523<br>  ],<br>  \"params\": {<br>    \"chain_function_mean\": 10.437602433222027,<br>    \"chain_function_std\": 3.8657958645224397,<br>    \"chain_function_constant\": 0.05747402000285979,<br>    \"optimizer\": \"Adam\",<br>    \"learning_rate\": 0.009387110057671741,<br>    \"forecast_distribution\": \"distr_trunc_normal\",<br>    \"perform_batching\": true,<br>    \"batch_size\": 128,<br>    \"epochs\": 284<br>  }<br>}",
          "{<br>  \"number\": 124,<br>  \"values\": [<br>    2.7102255821228027,<br>    0.17966405674815178<br>  ],<br>  \"params\": {<br>    \"chain_function_mean\": 10.755960839316968,<br>    \"chain_function_std\": 4.955617653489882,<br>    \"chain_function_constant\": 0.004083684180565529,<br>    \"optimizer\": \"Adam\",<br>    \"learning_rate\": 0.011975993673846554,<br>    \"forecast_distribution\": \"distr_mixture_linear\",<br>    \"distribution_1\": \"distr_trunc_normal\",<br>    \"distribution_2\": \"distr_gev\",<br>    \"perform_batching\": true,<br>    \"batch_size\": 1024,<br>    \"epochs\": 143<br>  }<br>}",
          "{<br>  \"number\": 125,<br>  \"values\": [<br>    3.1558706164360046,<br>    0.17935268208384514<br>  ],<br>  \"params\": {<br>    \"chain_function_mean\": 11.255626548845445,<br>    \"chain_function_std\": 0.001408650766608297,<br>    \"chain_function_constant\": 0.00023137516850927183,<br>    \"optimizer\": \"Adam\",<br>    \"learning_rate\": 0.012795733383781241,<br>    \"forecast_distribution\": \"distr_trunc_normal\",<br>    \"perform_batching\": true,<br>    \"batch_size\": 256,<br>    \"epochs\": 251<br>  }<br>}",
          "{<br>  \"number\": 126,<br>  \"values\": [<br>    3.884777784347534,<br>    0.27496328949928284<br>  ],<br>  \"params\": {<br>    \"chain_function_mean\": -0.402371361994291,<br>    \"chain_function_std\": 0.0031366672518365222,<br>    \"chain_function_constant\": 0.002453009865553073,<br>    \"optimizer\": \"SGD\",<br>    \"learning_rate\": 0.017904632120491655,<br>    \"forecast_distribution\": \"distr_gev\",<br>    \"perform_batching\": false,<br>    \"epochs\": 317<br>  }<br>}",
          "{<br>  \"number\": 127,<br>  \"values\": [<br>    3.1558733582496643,<br>    0.17884327471256256<br>  ],<br>  \"params\": {<br>    \"chain_function_mean\": 9.873114525943652,<br>    \"chain_function_std\": 0.031168910910438198,<br>    \"chain_function_constant\": 0.00017737060313075342,<br>    \"optimizer\": \"Adam\",<br>    \"learning_rate\": 0.009069234388666466,<br>    \"forecast_distribution\": \"distr_log_normal\",<br>    \"perform_batching\": true,<br>    \"batch_size\": 512,<br>    \"epochs\": 302<br>  }<br>}",
          "{<br>  \"number\": 128,<br>  \"values\": [<br>    2.711425244808197,<br>    0.18099373579025269<br>  ],<br>  \"params\": {<br>    \"chain_function_mean\": 7.422303827539329,<br>    \"chain_function_std\": 0.9038724898630599,<br>    \"chain_function_constant\": 0.3496879354730502,<br>    \"optimizer\": \"Adam\",<br>    \"learning_rate\": 0.010845333775263548,<br>    \"forecast_distribution\": \"distr_trunc_normal\",<br>    \"perform_batching\": true,<br>    \"batch_size\": 32,<br>    \"epochs\": 275<br>  }<br>}",
          "{<br>  \"number\": 129,<br>  \"values\": [<br>    2.7266077399253845,<br>    0.1808663308620453<br>  ],<br>  \"params\": {<br>    \"chain_function_mean\": 4.470937403088981,<br>    \"chain_function_std\": 0.09365850641283538,<br>    \"chain_function_constant\": 0.014127438084360415,<br>    \"optimizer\": \"Adam\",<br>    \"learning_rate\": 0.014874467637404673,<br>    \"forecast_distribution\": \"distr_mixture_linear\",<br>    \"distribution_1\": \"distr_gev\",<br>    \"distribution_2\": \"distr_log_normal\",<br>    \"perform_batching\": true,<br>    \"batch_size\": 128,<br>    \"epochs\": 234<br>  }<br>}",
          "{<br>  \"number\": 130,<br>  \"values\": [<br>    2.8197314739227295,<br>    0.1790015660226345<br>  ],<br>  \"params\": {<br>    \"chain_function_mean\": 11.644837956237918,<br>    \"chain_function_std\": 2.5072968351989005,<br>    \"chain_function_constant\": 0.00028096291045069265,<br>    \"optimizer\": \"Adam\",<br>    \"learning_rate\": 0.010219252084037456,<br>    \"forecast_distribution\": \"distr_trunc_normal\",<br>    \"perform_batching\": true,<br>    \"batch_size\": 128,<br>    \"epochs\": 488<br>  }<br>}",
          "{<br>  \"number\": 131,<br>  \"values\": [<br>    2.792769432067871,<br>    0.17930911108851433<br>  ],<br>  \"params\": {<br>    \"chain_function_mean\": 9.013044992594248,<br>    \"chain_function_std\": 1.5958617151286658,<br>    \"chain_function_constant\": 8.029009925824873e-05,<br>    \"optimizer\": \"Adam\",<br>    \"learning_rate\": 0.016056893709569017,<br>    \"forecast_distribution\": \"distr_trunc_normal\",<br>    \"perform_batching\": true,<br>    \"batch_size\": 128,<br>    \"epochs\": 278<br>  }<br>}",
          "{<br>  \"number\": 132,<br>  \"values\": [<br>    9.840768575668335,<br>    0.3012235015630722<br>  ],<br>  \"params\": {<br>    \"chain_function_mean\": 10.861994516250588,<br>    \"chain_function_std\": 3.4512666148932243,<br>    \"chain_function_constant\": 0.1305333644373023,<br>    \"optimizer\": \"SGD\",<br>    \"learning_rate\": 0.007709078274933443,<br>    \"forecast_distribution\": \"distr_trunc_normal\",<br>    \"perform_batching\": false,<br>    \"epochs\": 100<br>  }<br>}",
          "{<br>  \"number\": 134,<br>  \"values\": [<br>    9.968802690505981,<br>    0.3012827858328819<br>  ],<br>  \"params\": {<br>    \"chain_function_mean\": 10.448846680820141,<br>    \"chain_function_std\": 0.1609047807140417,<br>    \"chain_function_constant\": 0.00013165897173261274,<br>    \"optimizer\": \"SGD\",<br>    \"learning_rate\": 0.00013285316413382895,<br>    \"forecast_distribution\": \"distr_trunc_normal\",<br>    \"perform_batching\": false,<br>    \"epochs\": 308<br>  }<br>}",
          "{<br>  \"number\": 135,<br>  \"values\": [<br>    2.849826991558075,<br>    0.17776444926857948<br>  ],<br>  \"params\": {<br>    \"chain_function_mean\": 11.310033228781805,<br>    \"chain_function_std\": 2.0364995323169364,<br>    \"chain_function_constant\": 0.00019699327371242029,<br>    \"optimizer\": \"Adam\",<br>    \"learning_rate\": 0.012668676400433043,<br>    \"forecast_distribution\": \"distr_trunc_normal\",<br>    \"perform_batching\": true,<br>    \"batch_size\": 128,<br>    \"epochs\": 170<br>  }<br>}",
          "{<br>  \"number\": 136,<br>  \"values\": [<br>    2.8877017498016357,<br>    0.17882182449102402<br>  ],<br>  \"params\": {<br>    \"chain_function_mean\": 12.710577848654792,<br>    \"chain_function_std\": 2.30480360021571,<br>    \"chain_function_constant\": 0.00020623331434417268,<br>    \"optimizer\": \"Adam\",<br>    \"learning_rate\": 0.013621335070158246,<br>    \"forecast_distribution\": \"distr_trunc_normal\",<br>    \"perform_batching\": true,<br>    \"batch_size\": 128,<br>    \"epochs\": 291<br>  }<br>}",
          "{<br>  \"number\": 137,<br>  \"values\": [<br>    3.0975175499916077,<br>    0.17804257199168205<br>  ],<br>  \"params\": {<br>    \"chain_function_mean\": 11.403521823045436,<br>    \"chain_function_std\": 0.00020530273265420202,<br>    \"chain_function_constant\": 0.00031433178157087144,<br>    \"optimizer\": \"Adam\",<br>    \"learning_rate\": 0.01199569170698449,<br>    \"forecast_distribution\": \"distr_gev\",<br>    \"perform_batching\": true,<br>    \"batch_size\": 1024,<br>    \"epochs\": 293<br>  }<br>}",
          "{<br>  \"number\": 138,<br>  \"values\": [<br>    9.86608624458313,<br>    0.30037442967295647<br>  ],<br>  \"params\": {<br>    \"chain_function_mean\": 4.930214695962604,<br>    \"chain_function_std\": 0.004963323080217956,<br>    \"chain_function_constant\": 0.0003751000698034369,<br>    \"optimizer\": \"SGD\",<br>    \"learning_rate\": 0.008548610956701662,<br>    \"forecast_distribution\": \"distr_mixture\",<br>    \"distribution_1\": \"distr_log_normal\",<br>    \"distribution_2\": \"distr_trunc_normal\",<br>    \"perform_batching\": false,<br>    \"epochs\": 304<br>  }<br>}",
          "{<br>  \"number\": 139,<br>  \"values\": [<br>    2.723280370235443,<br>    0.1829678863286972<br>  ],<br>  \"params\": {<br>    \"chain_function_mean\": -3.306990496360239,<br>    \"chain_function_std\": 1.0188110250743616,<br>    \"chain_function_constant\": 0.00020385556269674385,<br>    \"optimizer\": \"Adam\",<br>    \"learning_rate\": 0.01917788572558993,<br>    \"forecast_distribution\": \"distr_log_normal\",<br>    \"perform_batching\": true,<br>    \"batch_size\": 256,<br>    \"epochs\": 284<br>  }<br>}",
          "{<br>  \"number\": 140,<br>  \"values\": [<br>    2.712288796901703,<br>    0.1812252551317215<br>  ],<br>  \"params\": {<br>    \"chain_function_mean\": -4.311051788432003,<br>    \"chain_function_std\": 0.010753790068585347,<br>    \"chain_function_constant\": 0.00010362078723000447,<br>    \"optimizer\": \"Adam\",<br>    \"learning_rate\": 0.0106637020150799,<br>    \"forecast_distribution\": \"distr_trunc_normal\",<br>    \"perform_batching\": true,<br>    \"batch_size\": 128,<br>    \"epochs\": 275<br>  }<br>}",
          "{<br>  \"number\": 141,<br>  \"values\": [<br>    2.8483279943466187,<br>    0.17978855222463608<br>  ],<br>  \"params\": {<br>    \"chain_function_mean\": 10.763560477916979,<br>    \"chain_function_std\": 1.7765831442293574,<br>    \"chain_function_constant\": 0.0001611984595627139,<br>    \"optimizer\": \"Adam\",<br>    \"learning_rate\": 0.013363471728863758,<br>    \"forecast_distribution\": \"distr_trunc_normal\",<br>    \"perform_batching\": true,<br>    \"batch_size\": 128,<br>    \"epochs\": 213<br>  }<br>}",
          "{<br>  \"number\": 142,<br>  \"values\": [<br>    2.982596695423126,<br>    0.18065466731786728<br>  ],<br>  \"params\": {<br>    \"chain_function_mean\": 11.83345663997011,<br>    \"chain_function_std\": 1.997829816487491,<br>    \"chain_function_constant\": 0.00023708127869210026,<br>    \"optimizer\": \"Adam\",<br>    \"learning_rate\": 0.0002407532253868768,<br>    \"forecast_distribution\": \"distr_trunc_normal\",<br>    \"perform_batching\": true,<br>    \"batch_size\": 64,<br>    \"epochs\": 194<br>  }<br>}",
          "{<br>  \"number\": 143,<br>  \"values\": [<br>    2.711312770843506,<br>    0.1799137108027935<br>  ],<br>  \"params\": {<br>    \"chain_function_mean\": 3.7704850966674455,<br>    \"chain_function_std\": 1.2306512617463305,<br>    \"chain_function_constant\": 0.0005288066787534287,<br>    \"optimizer\": \"Adam\",<br>    \"learning_rate\": 0.007169938845246651,<br>    \"forecast_distribution\": \"distr_trunc_normal\",<br>    \"perform_batching\": true,<br>    \"batch_size\": 512,<br>    \"epochs\": 164<br>  }<br>}",
          "{<br>  \"number\": 144,<br>  \"values\": [<br>    8.099819660186768,<br>    0.2992013283073902<br>  ],<br>  \"params\": {<br>    \"chain_function_mean\": 10.30749462530953,<br>    \"chain_function_std\": 0.7489551620757331,<br>    \"chain_function_constant\": 0.5136612391453359,<br>    \"optimizer\": \"SGD\",<br>    \"learning_rate\": 0.009560302902988552,<br>    \"forecast_distribution\": \"distr_trunc_normal\",<br>    \"perform_batching\": false,<br>    \"epochs\": 300<br>  }<br>}",
          "{<br>  \"number\": 145,<br>  \"values\": [<br>    2.8505595922470093,<br>    0.18294862285256386<br>  ],<br>  \"params\": {<br>    \"chain_function_mean\": 9.710231784964176,<br>    \"chain_function_std\": 1.461811850752323,<br>    \"chain_function_constant\": 0.00014997378561914227,<br>    \"optimizer\": \"Adam\",<br>    \"learning_rate\": 0.09932172694804085,<br>    \"forecast_distribution\": \"distr_trunc_normal\",<br>    \"perform_batching\": true,<br>    \"batch_size\": 32,<br>    \"epochs\": 370<br>  }<br>}",
          "{<br>  \"number\": 146,<br>  \"values\": [<br>    2.713400363922119,<br>    0.1810213439166546<br>  ],<br>  \"params\": {<br>    \"chain_function_mean\": 2.297939992189282,<br>    \"chain_function_std\": 3.148751183007599,<br>    \"chain_function_constant\": 0.00011248734331005936,<br>    \"optimizer\": \"Adam\",<br>    \"learning_rate\": 0.0005377628071508547,<br>    \"forecast_distribution\": \"distr_mixture\",<br>    \"distribution_1\": \"distr_gev\",<br>    \"distribution_2\": \"distr_log_normal\",<br>    \"perform_batching\": true,<br>    \"batch_size\": 128,<br>    \"epochs\": 176<br>  }<br>}",
          "{<br>  \"number\": 147,<br>  \"values\": [<br>    3.3266011476516724,<br>    0.17905635759234428<br>  ],<br>  \"params\": {<br>    \"chain_function_mean\": 11.180321449673055,<br>    \"chain_function_std\": 0.12765828928417053,<br>    \"chain_function_constant\": 0.0004151706343547788,<br>    \"optimizer\": \"Adam\",<br>    \"learning_rate\": 0.01610039909162708,<br>    \"forecast_distribution\": \"distr_log_normal\",<br>    \"perform_batching\": true,<br>    \"batch_size\": 128,<br>    \"epochs\": 317<br>  }<br>}",
          "{<br>  \"number\": 148,<br>  \"values\": [<br>    8.184223413467407,<br>    0.2964539974927902<br>  ],<br>  \"params\": {<br>    \"chain_function_mean\": 9.976410410396714,<br>    \"chain_function_std\": 1.1860329772936435,<br>    \"chain_function_constant\": 0.15784705098418708,<br>    \"optimizer\": \"SGD\",<br>    \"learning_rate\": 0.0001965530153097321,<br>    \"forecast_distribution\": \"distr_gev\",<br>    \"perform_batching\": false,<br>    \"epochs\": 269<br>  }<br>}",
          "{<br>  \"number\": 149,<br>  \"values\": [<br>    3.220567047595978,<br>    0.17864931747317314<br>  ],<br>  \"params\": {<br>    \"chain_function_mean\": 12.304731601638633,<br>    \"chain_function_std\": 0.030084061687404545,<br>    \"chain_function_constant\": 7.757147599574616e-05,<br>    \"optimizer\": \"Adam\",<br>    \"learning_rate\": 0.011578904260791221,<br>    \"forecast_distribution\": \"distr_trunc_normal\",<br>    \"perform_batching\": true,<br>    \"batch_size\": 128,<br>    \"epochs\": 291<br>  }<br>}",
          "{<br>  \"number\": 150,<br>  \"values\": [<br>    2.711347758769989,<br>    0.1811719760298729<br>  ],<br>  \"params\": {<br>    \"chain_function_mean\": 0.7252437679487667,<br>    \"chain_function_std\": 2.9008462716531738,<br>    \"chain_function_constant\": 0.00024255645689760693,<br>    \"optimizer\": \"Adam\",<br>    \"learning_rate\": 0.014871142846490028,<br>    \"forecast_distribution\": \"distr_trunc_normal\",<br>    \"perform_batching\": true,<br>    \"batch_size\": 128,<br>    \"epochs\": 284<br>  }<br>}",
          "{<br>  \"number\": 151,<br>  \"values\": [<br>    2.712254583835602,<br>    0.1806502416729927<br>  ],<br>  \"params\": {<br>    \"chain_function_mean\": 10.567625776878538,<br>    \"chain_function_std\": 0.0632580654860266,<br>    \"chain_function_constant\": 0.2666267694979269,<br>    \"optimizer\": \"Adam\",<br>    \"learning_rate\": 0.012826165501148517,<br>    \"forecast_distribution\": \"distr_trunc_normal\",<br>    \"perform_batching\": true,<br>    \"batch_size\": 128,<br>    \"epochs\": 259<br>  }<br>}",
          "{<br>  \"number\": 152,<br>  \"values\": [<br>    2.822677254676819,<br>    0.17806517705321312<br>  ],<br>  \"params\": {<br>    \"chain_function_mean\": 10.959123530014168,<br>    \"chain_function_std\": 2.1662548873834866,<br>    \"chain_function_constant\": 0.00029786543020239093,<br>    \"optimizer\": \"Adam\",<br>    \"learning_rate\": 0.008054288854646747,<br>    \"forecast_distribution\": \"distr_trunc_normal\",<br>    \"perform_batching\": true,<br>    \"batch_size\": 128,<br>    \"epochs\": 297<br>  }<br>}",
          "{<br>  \"number\": 153,<br>  \"values\": [<br>    3.1670435667037964,<br>    0.18253198266029358<br>  ],<br>  \"params\": {<br>    \"chain_function_mean\": 14.944761734847866,<br>    \"chain_function_std\": 1.6995794743611117,<br>    \"chain_function_constant\": 0.00020098005598703355,<br>    \"optimizer\": \"Adam\",<br>    \"learning_rate\": 0.01052666586006664,<br>    \"forecast_distribution\": \"distr_trunc_normal\",<br>    \"perform_batching\": true,<br>    \"batch_size\": 128,<br>    \"epochs\": 280<br>  }<br>}",
          "{<br>  \"number\": 154,<br>  \"values\": [<br>    8.612420558929443,<br>    0.29616157710552216<br>  ],<br>  \"params\": {<br>    \"chain_function_mean\": 11.54344904031464,<br>    \"chain_function_std\": 2.6805723200210547,<br>    \"chain_function_constant\": 0.0001671487683257326,<br>    \"optimizer\": \"SGD\",<br>    \"learning_rate\": 0.009173726904048336,<br>    \"forecast_distribution\": \"distr_mixture_linear\",<br>    \"distribution_1\": \"distr_trunc_normal\",<br>    \"distribution_2\": \"distr_gev\",<br>    \"perform_batching\": false,<br>    \"epochs\": 313<br>  }<br>}",
          "{<br>  \"number\": 155,<br>  \"values\": [<br>    2.9853583574295044,<br>    0.17849669978022575<br>  ],<br>  \"params\": {<br>    \"chain_function_mean\": 10.143751535442737,<br>    \"chain_function_std\": 0.0009021369096028598,<br>    \"chain_function_constant\": 0.00030128467323045735,<br>    \"optimizer\": \"Adam\",<br>    \"learning_rate\": 0.018432092846828146,<br>    \"forecast_distribution\": \"distr_trunc_normal\",<br>    \"perform_batching\": true,<br>    \"batch_size\": 512,<br>    \"epochs\": 290<br>  }<br>}",
          "{<br>  \"number\": 156,<br>  \"values\": [<br>    2.7046290040016174,<br>    0.180394247174263<br>  ],<br>  \"params\": {<br>    \"chain_function_mean\": -0.12878918339323597,<br>    \"chain_function_std\": 0.005771753312083718,<br>    \"chain_function_constant\": 0.9863245788183492,<br>    \"optimizer\": \"Adam\",<br>    \"learning_rate\": 0.00034753227032189834,<br>    \"forecast_distribution\": \"distr_mixture\",<br>    \"distribution_1\": \"distr_log_normal\",<br>    \"distribution_2\": \"distr_trunc_normal\",<br>    \"perform_batching\": true,<br>    \"batch_size\": 32,<br>    \"epochs\": 126<br>  }<br>}",
          "{<br>  \"number\": 157,<br>  \"values\": [<br>    10.413721799850464,<br>    0.3014184832572937<br>  ],<br>  \"params\": {<br>    \"chain_function_mean\": 10.549033202348179,<br>    \"chain_function_std\": 6.597889660056671,<br>    \"chain_function_constant\": 0.005234980730176393,<br>    \"optimizer\": \"SGD\",<br>    \"learning_rate\": 0.012972326395645651,<br>    \"forecast_distribution\": \"distr_log_normal\",<br>    \"perform_batching\": false,<br>    \"epochs\": 307<br>  }<br>}",
          "{<br>  \"number\": 158,<br>  \"values\": [<br>    2.7331679463386536,<br>    0.18022100254893303<br>  ],<br>  \"params\": {<br>    \"chain_function_mean\": 9.457994002339564,<br>    \"chain_function_std\": 4.169153481368053,<br>    \"chain_function_constant\": 0.012921617467037015,<br>    \"optimizer\": \"Adam\",<br>    \"learning_rate\": 0.017383766237388586,<br>    \"forecast_distribution\": \"distr_gev\",<br>    \"perform_batching\": true,<br>    \"batch_size\": 1024,<br>    \"epochs\": 439<br>  }<br>}",
          "{<br>  \"number\": 159,<br>  \"values\": [<br>    2.7159796357154846,<br>    0.18137720972299576<br>  ],<br>  \"params\": {<br>    \"chain_function_mean\": -4.8876867163943025,<br>    \"chain_function_std\": 1.3737496585492766,<br>    \"chain_function_constant\": 0.0007319950904967916,<br>    \"optimizer\": \"Adam\",<br>    \"learning_rate\": 0.010523251267338373,<br>    \"forecast_distribution\": \"distr_trunc_normal\",<br>    \"perform_batching\": true,<br>    \"batch_size\": 64,<br>    \"epochs\": 330<br>  }<br>}",
          "{<br>  \"number\": 160,<br>  \"values\": [<br>    2.6960097551345825,<br>    0.17891404032707214<br>  ],<br>  \"params\": {<br>    \"chain_function_mean\": -2.8976267445190835,<br>    \"chain_function_std\": 3.120845071428464,<br>    \"chain_function_constant\": 0.0001288837208622161,<br>    \"optimizer\": \"Adam\",<br>    \"learning_rate\": 0.014093682278359165,<br>    \"forecast_distribution\": \"distr_mixture_linear\",<br>    \"distribution_1\": \"distr_trunc_normal\",<br>    \"distribution_2\": \"distr_gev\",<br>    \"perform_batching\": true,<br>    \"batch_size\": 128,<br>    \"epochs\": 420<br>  }<br>}",
          "{<br>  \"number\": 161,<br>  \"values\": [<br>    2.7039589285850525,<br>    0.18021008372306824<br>  ],<br>  \"params\": {<br>    \"chain_function_mean\": -4.099851049891075,<br>    \"chain_function_std\": 3.0466011421059944,<br>    \"chain_function_constant\": 0.00013329919880712934,<br>    \"optimizer\": \"Adam\",<br>    \"learning_rate\": 0.01447567413223038,<br>    \"forecast_distribution\": \"distr_mixture_linear\",<br>    \"distribution_1\": \"distr_trunc_normal\",<br>    \"distribution_2\": \"distr_gev\",<br>    \"perform_batching\": true,<br>    \"batch_size\": 128,<br>    \"epochs\": 425<br>  }<br>}",
          "{<br>  \"number\": 162,<br>  \"values\": [<br>    2.7026917338371277,<br>    0.1804777793586254<br>  ],<br>  \"params\": {<br>    \"chain_function_mean\": 1.424214656247782,<br>    \"chain_function_std\": 1.9194697630781221,<br>    \"chain_function_constant\": 0.00024379038635694104,<br>    \"optimizer\": \"Adam\",<br>    \"learning_rate\": 0.000859220051758799,<br>    \"forecast_distribution\": \"distr_mixture_linear\",<br>    \"distribution_1\": \"distr_trunc_normal\",<br>    \"distribution_2\": \"distr_gev\",<br>    \"perform_batching\": true,<br>    \"batch_size\": 128,<br>    \"epochs\": 456<br>  }<br>}",
          "{<br>  \"number\": 163,<br>  \"values\": [<br>    2.7109578251838684,<br>    0.1824987716972828<br>  ],<br>  \"params\": {<br>    \"chain_function_mean\": -3.228119737155486,<br>    \"chain_function_std\": 2.0695242842475223,<br>    \"chain_function_constant\": 9.956555865250822e-05,<br>    \"optimizer\": \"Adam\",<br>    \"learning_rate\": 0.00014943726668550228,<br>    \"forecast_distribution\": \"distr_mixture_linear\",<br>    \"distribution_1\": \"distr_trunc_normal\",<br>    \"distribution_2\": \"distr_gev\",<br>    \"perform_batching\": true,<br>    \"batch_size\": 128,<br>    \"epochs\": 393<br>  }<br>}",
          "{<br>  \"number\": 164,<br>  \"values\": [<br>    2.6984358429908752,<br>    0.17838528752326965<br>  ],<br>  \"params\": {<br>    \"chain_function_mean\": -1.0965655205824465,<br>    \"chain_function_std\": 1.8238624792512823,<br>    \"chain_function_constant\": 0.0001853292529449933,<br>    \"optimizer\": \"Adam\",<br>    \"learning_rate\": 0.011223575179172012,<br>    \"forecast_distribution\": \"distr_mixture_linear\",<br>    \"distribution_1\": \"distr_trunc_normal\",<br>    \"distribution_2\": \"distr_gev\",<br>    \"perform_batching\": true,<br>    \"batch_size\": 128,<br>    \"epochs\": 417<br>  }<br>}",
          "{<br>  \"number\": 165,<br>  \"values\": [<br>    4.13017463684082,<br>    0.26929138973355293<br>  ],<br>  \"params\": {<br>    \"chain_function_mean\": -1.4674927298873937,<br>    \"chain_function_std\": 1.0375667650539748,<br>    \"chain_function_constant\": 0.00018427723313804945,<br>    \"optimizer\": \"SGD\",<br>    \"learning_rate\": 0.011887712402818528,<br>    \"forecast_distribution\": \"distr_trunc_normal\",<br>    \"perform_batching\": false,<br>    \"epochs\": 400<br>  }<br>}",
          "{<br>  \"number\": 166,<br>  \"values\": [<br>    2.8803624510765076,<br>    0.17645982280373573<br>  ],<br>  \"params\": {<br>    \"chain_function_mean\": 11.197615824757044,<br>    \"chain_function_std\": 1.6621358922822678,<br>    \"chain_function_constant\": 1.5039719227942876e-05,<br>    \"optimizer\": \"Adam\",<br>    \"learning_rate\": 0.009754012168337616,<br>    \"forecast_distribution\": \"distr_trunc_normal\",<br>    \"perform_batching\": true,<br>    \"batch_size\": 256,<br>    \"epochs\": 413<br>  }<br>}",
          "{<br>  \"number\": 167,<br>  \"values\": [<br>    2.7086010575294495,<br>    0.17916880548000336<br>  ],<br>  \"params\": {<br>    \"chain_function_mean\": -1.0484828464653129,<br>    \"chain_function_std\": 2.251704495981067,<br>    \"chain_function_constant\": 0.00012237799035492183,<br>    \"optimizer\": \"Adam\",<br>    \"learning_rate\": 0.02146177808852163,<br>    \"forecast_distribution\": \"distr_mixture_linear\",<br>    \"distribution_1\": \"distr_trunc_normal\",<br>    \"distribution_2\": \"distr_gev\",<br>    \"perform_batching\": true,<br>    \"batch_size\": 128,<br>    \"epochs\": 410<br>  }<br>}",
          "{<br>  \"number\": 168,<br>  \"values\": [<br>    2.7021372318267822,<br>    0.17925260961055756<br>  ],<br>  \"params\": {<br>    \"chain_function_mean\": -3.2340537469195536,<br>    \"chain_function_std\": 3.5843735862325223,<br>    \"chain_function_constant\": 0.00015287976961138598,<br>    \"optimizer\": \"Adam\",<br>    \"learning_rate\": 0.007340084674219662,<br>    \"forecast_distribution\": \"distr_mixture_linear\",<br>    \"distribution_1\": \"distr_trunc_normal\",<br>    \"distribution_2\": \"distr_gev\",<br>    \"perform_batching\": true,<br>    \"batch_size\": 128,<br>    \"epochs\": 424<br>  }<br>}",
          "{<br>  \"number\": 169,<br>  \"values\": [<br>    2.7062718272209167,<br>    0.18140697479248047<br>  ],<br>  \"params\": {<br>    \"chain_function_mean\": -1.9421444906941319,<br>    \"chain_function_std\": 2.6462961235890776,<br>    \"chain_function_constant\": 8.958172813344787e-05,<br>    \"optimizer\": \"Adam\",<br>    \"learning_rate\": 0.01433191192299591,<br>    \"forecast_distribution\": \"distr_mixture_linear\",<br>    \"distribution_1\": \"distr_trunc_normal\",<br>    \"distribution_2\": \"distr_gev\",<br>    \"perform_batching\": true,<br>    \"batch_size\": 128,<br>    \"epochs\": 411<br>  }<br>}",
          "{<br>  \"number\": 170,<br>  \"values\": [<br>    2.705824851989746,<br>    0.18070073798298836<br>  ],<br>  \"params\": {<br>    \"chain_function_mean\": -2.671767840495556,<br>    \"chain_function_std\": 1.6811653470107888,<br>    \"chain_function_constant\": 0.00018615393077546204,<br>    \"optimizer\": \"Adam\",<br>    \"learning_rate\": 0.012356043602746364,<br>    \"forecast_distribution\": \"distr_mixture_linear\",<br>    \"distribution_1\": \"distr_trunc_normal\",<br>    \"distribution_2\": \"distr_gev\",<br>    \"perform_batching\": true,<br>    \"batch_size\": 128,<br>    \"epochs\": 444<br>  }<br>}",
          "{<br>  \"number\": 172,<br>  \"values\": [<br>    2.876785099506378,<br>    0.17733144015073776<br>  ],<br>  \"params\": {<br>    \"chain_function_mean\": 10.817245394436343,<br>    \"chain_function_std\": 1.4015932284758317,<br>    \"chain_function_constant\": 0.0003814401443646158,<br>    \"optimizer\": \"Adam\",<br>    \"learning_rate\": 0.008894853400279599,<br>    \"forecast_distribution\": \"distr_trunc_normal\",<br>    \"perform_batching\": true,<br>    \"batch_size\": 128,<br>    \"epochs\": 270<br>  }<br>}",
          "{<br>  \"number\": 173,<br>  \"values\": [<br>    2.7083524465560913,<br>    0.180971197783947<br>  ],<br>  \"params\": {<br>    \"chain_function_mean\": -2.8237256902437586,<br>    \"chain_function_std\": 1.524494637673999,<br>    \"chain_function_constant\": 0.00042021600226347565,<br>    \"optimizer\": \"Adam\",<br>    \"learning_rate\": 0.009176855182464212,<br>    \"forecast_distribution\": \"distr_trunc_normal\",<br>    \"perform_batching\": true,<br>    \"batch_size\": 256,<br>    \"epochs\": 484<br>  }<br>}"
         ],
         "type": "scatter",
         "x": [
          6.857719659805298,
          2.7068868279457092,
          2.707387685775757,
          7.781105995178223,
          2.712414562702179,
          7.844149827957153,
          5.163564205169678,
          3.2693737745285034,
          2.707865536212921,
          3.0313754081726074,
          10.303478240966797,
          2.780767560005188,
          6.279019117355347,
          3.380695343017578,
          2.9159937500953674,
          2.7207736372947693,
          9.976555585861206,
          2.7285261154174805,
          11.437721967697144,
          2.7918731570243835,
          2.719066619873047,
          2.7802626490592957,
          2.7766727209091187,
          2.999790906906128,
          2.7539538741111755,
          2.7380585074424744,
          2.7504209876060486,
          2.8274190425872803,
          2.7075695395469666,
          2.7073572278022766,
          2.7066689133644104,
          2.717193841934204,
          2.7086182832717896,
          2.726343870162964,
          3.559202194213867,
          2.710324466228485,
          2.7086638808250427,
          4.160776615142822,
          2.722476303577423,
          9.872849941253662,
          2.8216095566749573,
          2.7417330145835876,
          9.154417753219604,
          2.7313432693481445,
          2.712631583213806,
          2.716261148452759,
          11.561511516571045,
          2.7097208499908447,
          3.257739782333374,
          2.787211775779724,
          3.0351170897483826,
          3.041444778442383,
          2.8117628693580627,
          2.869038701057434,
          3.0315831899642944,
          3.1919878721237183,
          3.52398943901062,
          2.7979244589805603,
          3.1855068802833557,
          2.851145565509796,
          11.646679401397705,
          7.592499256134033,
          5.892446279525757,
          2.869210720062256,
          4.491639852523804,
          9.791269540786743,
          2.712471604347229,
          2.7253670692443848,
          2.7376953959465027,
          2.7729315757751465,
          9.914034843444824,
          2.7453086972236633,
          2.701168477535248,
          9951513313017858,
          2.9602457880973816,
          2.7031825184822083,
          8.563292503356934,
          10.28159499168396,
          2.9764585494995117,
          2.803935468196869,
          3.2241461873054504,
          9.414665460586548,
          2.724461555480957,
          2.8436564207077026,
          2.796791911125183,
          10.319738864898682,
          2.7876790165901184,
          2.8032538890838623,
          2.929397225379944,
          2.755766451358795,
          9.968915939331055,
          3.0574503540992737,
          2.7878864407539368,
          9.955462455749512,
          2.923154652118683,
          2.803644597530365,
          3.151771128177643,
          10.300528287887573,
          2.840678334236145,
          2.7283416986465454,
          3.0322219729423523,
          2.745164215564728,
          3.4059996604919434,
          9.894656658172607,
          2.7069219946861267,
          2.747617781162262,
          2.7098857760429382,
          9.75523829460144,
          2.727758228778839,
          3.029498338699341,
          2.942570388317108,
          2.853607177734375,
          2.976686477661133,
          2.7371020317077637,
          9.763550519943237,
          2.721861243247986,
          3.1684255599975586,
          9.966609239578247,
          2.8593857884407043,
          3.047266721725464,
          2.7140244841575623,
          2.7246435284614563,
          2.7102255821228027,
          3.1558706164360046,
          3.884777784347534,
          3.1558733582496643,
          2.711425244808197,
          2.7266077399253845,
          2.8197314739227295,
          2.792769432067871,
          9.840768575668335,
          9.968802690505981,
          2.849826991558075,
          2.8877017498016357,
          3.0975175499916077,
          9.86608624458313,
          2.723280370235443,
          2.712288796901703,
          2.8483279943466187,
          2.982596695423126,
          2.711312770843506,
          8.099819660186768,
          2.8505595922470093,
          2.713400363922119,
          3.3266011476516724,
          8.184223413467407,
          3.220567047595978,
          2.711347758769989,
          2.712254583835602,
          2.822677254676819,
          3.1670435667037964,
          8.612420558929443,
          2.9853583574295044,
          2.7046290040016174,
          10.413721799850464,
          2.7331679463386536,
          2.7159796357154846,
          2.6960097551345825,
          2.7039589285850525,
          2.7026917338371277,
          2.7109578251838684,
          2.6984358429908752,
          4.13017463684082,
          2.8803624510765076,
          2.7086010575294495,
          2.7021372318267822,
          2.7062718272209167,
          2.705824851989746,
          2.876785099506378,
          2.7083524465560913
         ],
         "y": [
          0.24745424091815948,
          0.18107673153281212,
          0.18062767386436462,
          0.2917838990688324,
          0.18150850385427475,
          0.2921120226383209,
          0.3390817642211914,
          0.1938517466187477,
          0.18080054223537445,
          0.22385223954916,
          0.30033228918910027,
          0.18001408874988556,
          0.36110496520996094,
          0.23045691847801208,
          0.19983584061264992,
          0.18145718052983284,
          0.300634678453207,
          0.18249428644776344,
          0.3012692891061306,
          0.1805586814880371,
          0.18151003122329712,
          0.179512158036232,
          0.17940985783934593,
          0.1776863932609558,
          0.1784217208623886,
          0.17931987345218658,
          0.17940856888890266,
          0.17791029810905457,
          0.18051982298493385,
          0.1803307607769966,
          0.18055195733904839,
          0.1810912862420082,
          0.17996812611818314,
          0.17928890883922577,
          0.19323212653398514,
          0.1801108494400978,
          0.18021013587713242,
          0.204006165266037,
          0.18093814700841904,
          0.3013862185180187,
          0.17792407795786858,
          0.1784018538892269,
          0.30080437660217285,
          0.18551310151815414,
          0.18171465769410133,
          0.18121807649731636,
          0.3012460172176361,
          0.17972959950566292,
          0.19533534348011017,
          0.18803881108760834,
          0.17757552862167358,
          0.1778937354683876,
          0.1799292042851448,
          0.17856911569833755,
          0.1770503930747509,
          0.18332720547914505,
          0.19447871297597885,
          0.1791129745543003,
          0.18584440276026726,
          0.17946646362543106,
          0.301001712679863,
          0.29395490884780884,
          0.3181852102279663,
          0.17762825265526772,
          0.1983233466744423,
          0.30173320695757866,
          0.17971305549144745,
          0.17977959290146828,
          0.18249138072133064,
          0.17843223735690117,
          0.30129194259643555,
          0.1789550967514515,
          0.17878421396017075,
          10,
          0.17854370549321175,
          0.17908001318573952,
          0.29542822390794754,
          0.3002767451107502,
          0.18248679861426353,
          0.1820959635078907,
          0.17833564430475235,
          0.2951228767633438,
          0.1793186515569687,
          0.17859472706913948,
          0.17816290631890297,
          0.3003442883491516,
          0.17865020781755447,
          0.18137653917074203,
          0.1799728162586689,
          0.17812320590019226,
          0.3011695332825184,
          0.18306727707386017,
          0.17977550998330116,
          0.30129745230078697,
          0.1799013651907444,
          0.17820372804999352,
          0.18164171278476715,
          0.3003297932446003,
          0.18090004101395607,
          0.17959530279040337,
          0.17781221866607666,
          0.1855997033417225,
          0.17854765802621841,
          0.3013542890548706,
          0.1798439584672451,
          0.18057671934366226,
          0.18123814836144447,
          0.30186476185917854,
          0.1782992109656334,
          0.1768028922379017,
          0.17946439236402512,
          0.18079407140612602,
          0.17703116312623024,
          0.17830289155244827,
          0.3003053553402424,
          0.18210676312446594,
          0.17858529835939407,
          0.3012638948857784,
          0.1771707721054554,
          0.17858700081706047,
          0.17985055223107338,
          0.18049225583672523,
          0.17966405674815178,
          0.17935268208384514,
          0.27496328949928284,
          0.17884327471256256,
          0.18099373579025269,
          0.1808663308620453,
          0.1790015660226345,
          0.17930911108851433,
          0.3012235015630722,
          0.3012827858328819,
          0.17776444926857948,
          0.17882182449102402,
          0.17804257199168205,
          0.30037442967295647,
          0.1829678863286972,
          0.1812252551317215,
          0.17978855222463608,
          0.18065466731786728,
          0.1799137108027935,
          0.2992013283073902,
          0.18294862285256386,
          0.1810213439166546,
          0.17905635759234428,
          0.2964539974927902,
          0.17864931747317314,
          0.1811719760298729,
          0.1806502416729927,
          0.17806517705321312,
          0.18253198266029358,
          0.29616157710552216,
          0.17849669978022575,
          0.180394247174263,
          0.3014184832572937,
          0.18022100254893303,
          0.18137720972299576,
          0.17891404032707214,
          0.18021008372306824,
          0.1804777793586254,
          0.1824987716972828,
          0.17838528752326965,
          0.26929138973355293,
          0.17645982280373573,
          0.17916880548000336,
          0.17925260961055756,
          0.18140697479248047,
          0.18070073798298836,
          0.17733144015073776,
          0.180971197783947
         ]
        },
        {
         "hovertemplate": "%{text}<extra>Best Trial</extra>",
         "marker": {
          "color": [
           60,
           75,
           133,
           171
          ],
          "colorbar": {
           "title": {
            "text": "Best Trial"
           },
           "x": 1.1,
           "xpad": 40
          },
          "colorscale": [
           [
            0,
            "rgb(255,245,240)"
           ],
           [
            0.125,
            "rgb(254,224,210)"
           ],
           [
            0.25,
            "rgb(252,187,161)"
           ],
           [
            0.375,
            "rgb(252,146,114)"
           ],
           [
            0.5,
            "rgb(251,106,74)"
           ],
           [
            0.625,
            "rgb(239,59,44)"
           ],
           [
            0.75,
            "rgb(203,24,29)"
           ],
           [
            0.875,
            "rgb(165,15,21)"
           ],
           [
            1,
            "rgb(103,0,13)"
           ]
          ],
          "line": {
           "color": "Grey",
           "width": 0.5
          }
         },
         "mode": "markers",
         "showlegend": false,
         "text": [
          "{<br>  \"number\": 60,<br>  \"values\": [<br>    2.845130443572998,<br>    0.1761699542403221<br>  ],<br>  \"params\": {<br>    \"chain_function_mean\": 10.816164399855145,<br>    \"chain_function_std\": 1.7859319383959147,<br>    \"chain_function_constant\": 0.0002098891764671806,<br>    \"optimizer\": \"Adam\",<br>    \"learning_rate\": 0.011948837088205922,<br>    \"forecast_distribution\": \"distr_trunc_normal\",<br>    \"perform_batching\": true,<br>    \"batch_size\": 128,<br>    \"epochs\": 290<br>  }<br>}",
          "{<br>  \"number\": 75,<br>  \"values\": [<br>    2.7332512736320496,<br>    0.17776165530085564<br>  ],<br>  \"params\": {<br>    \"chain_function_mean\": 9.19786222823183,<br>    \"chain_function_std\": 2.9358057381543485,<br>    \"chain_function_constant\": 0.0008953971292586461,<br>    \"optimizer\": \"Adam\",<br>    \"learning_rate\": 0.0107498927076262,<br>    \"forecast_distribution\": \"distr_mixture_linear\",<br>    \"distribution_1\": \"distr_trunc_normal\",<br>    \"distribution_2\": \"distr_gev\",<br>    \"perform_batching\": true,<br>    \"batch_size\": 128,<br>    \"epochs\": 418<br>  }<br>}",
          "{<br>  \"number\": 133,<br>  \"values\": [<br>    2.7571710348129272,<br>    0.17763254418969154<br>  ],<br>  \"params\": {<br>    \"chain_function_mean\": 10.426934895766859,<br>    \"chain_function_std\": 2.9140508694306333,<br>    \"chain_function_constant\": 0.00020249680596878128,<br>    \"optimizer\": \"Adam\",<br>    \"learning_rate\": 0.013319128546787101,<br>    \"forecast_distribution\": \"distr_trunc_normal\",<br>    \"perform_batching\": true,<br>    \"batch_size\": 128,<br>    \"epochs\": 292<br>  }<br>}",
          "{<br>  \"number\": 171,<br>  \"values\": [<br>    2.6950167417526245,<br>    0.17815743014216423<br>  ],<br>  \"params\": {<br>    \"chain_function_mean\": -3.8286614797215854,<br>    \"chain_function_std\": 1.4856259272730807,<br>    \"chain_function_constant\": 0.00020319873200054368,<br>    \"optimizer\": \"Adam\",<br>    \"learning_rate\": 0.008281944399542013,<br>    \"forecast_distribution\": \"distr_mixture_linear\",<br>    \"distribution_1\": \"distr_trunc_normal\",<br>    \"distribution_2\": \"distr_gev\",<br>    \"perform_batching\": true,<br>    \"batch_size\": 128,<br>    \"epochs\": 432<br>  }<br>}"
         ],
         "type": "scatter",
         "x": [
          2.845130443572998,
          2.7332512736320496,
          2.7571710348129272,
          2.6950167417526245
         ],
         "y": [
          0.1761699542403221,
          0.17776165530085564,
          0.17763254418969154,
          0.17815743014216423
         ]
        }
       ],
       "layout": {
        "template": {
         "data": {
          "bar": [
           {
            "error_x": {
             "color": "#2a3f5f"
            },
            "error_y": {
             "color": "#2a3f5f"
            },
            "marker": {
             "line": {
              "color": "#E5ECF6",
              "width": 0.5
             },
             "pattern": {
              "fillmode": "overlay",
              "size": 10,
              "solidity": 0.2
             }
            },
            "type": "bar"
           }
          ],
          "barpolar": [
           {
            "marker": {
             "line": {
              "color": "#E5ECF6",
              "width": 0.5
             },
             "pattern": {
              "fillmode": "overlay",
              "size": 10,
              "solidity": 0.2
             }
            },
            "type": "barpolar"
           }
          ],
          "carpet": [
           {
            "aaxis": {
             "endlinecolor": "#2a3f5f",
             "gridcolor": "white",
             "linecolor": "white",
             "minorgridcolor": "white",
             "startlinecolor": "#2a3f5f"
            },
            "baxis": {
             "endlinecolor": "#2a3f5f",
             "gridcolor": "white",
             "linecolor": "white",
             "minorgridcolor": "white",
             "startlinecolor": "#2a3f5f"
            },
            "type": "carpet"
           }
          ],
          "choropleth": [
           {
            "colorbar": {
             "outlinewidth": 0,
             "ticks": ""
            },
            "type": "choropleth"
           }
          ],
          "contour": [
           {
            "colorbar": {
             "outlinewidth": 0,
             "ticks": ""
            },
            "colorscale": [
             [
              0,
              "#0d0887"
             ],
             [
              0.1111111111111111,
              "#46039f"
             ],
             [
              0.2222222222222222,
              "#7201a8"
             ],
             [
              0.3333333333333333,
              "#9c179e"
             ],
             [
              0.4444444444444444,
              "#bd3786"
             ],
             [
              0.5555555555555556,
              "#d8576b"
             ],
             [
              0.6666666666666666,
              "#ed7953"
             ],
             [
              0.7777777777777778,
              "#fb9f3a"
             ],
             [
              0.8888888888888888,
              "#fdca26"
             ],
             [
              1,
              "#f0f921"
             ]
            ],
            "type": "contour"
           }
          ],
          "contourcarpet": [
           {
            "colorbar": {
             "outlinewidth": 0,
             "ticks": ""
            },
            "type": "contourcarpet"
           }
          ],
          "heatmap": [
           {
            "colorbar": {
             "outlinewidth": 0,
             "ticks": ""
            },
            "colorscale": [
             [
              0,
              "#0d0887"
             ],
             [
              0.1111111111111111,
              "#46039f"
             ],
             [
              0.2222222222222222,
              "#7201a8"
             ],
             [
              0.3333333333333333,
              "#9c179e"
             ],
             [
              0.4444444444444444,
              "#bd3786"
             ],
             [
              0.5555555555555556,
              "#d8576b"
             ],
             [
              0.6666666666666666,
              "#ed7953"
             ],
             [
              0.7777777777777778,
              "#fb9f3a"
             ],
             [
              0.8888888888888888,
              "#fdca26"
             ],
             [
              1,
              "#f0f921"
             ]
            ],
            "type": "heatmap"
           }
          ],
          "heatmapgl": [
           {
            "colorbar": {
             "outlinewidth": 0,
             "ticks": ""
            },
            "colorscale": [
             [
              0,
              "#0d0887"
             ],
             [
              0.1111111111111111,
              "#46039f"
             ],
             [
              0.2222222222222222,
              "#7201a8"
             ],
             [
              0.3333333333333333,
              "#9c179e"
             ],
             [
              0.4444444444444444,
              "#bd3786"
             ],
             [
              0.5555555555555556,
              "#d8576b"
             ],
             [
              0.6666666666666666,
              "#ed7953"
             ],
             [
              0.7777777777777778,
              "#fb9f3a"
             ],
             [
              0.8888888888888888,
              "#fdca26"
             ],
             [
              1,
              "#f0f921"
             ]
            ],
            "type": "heatmapgl"
           }
          ],
          "histogram": [
           {
            "marker": {
             "pattern": {
              "fillmode": "overlay",
              "size": 10,
              "solidity": 0.2
             }
            },
            "type": "histogram"
           }
          ],
          "histogram2d": [
           {
            "colorbar": {
             "outlinewidth": 0,
             "ticks": ""
            },
            "colorscale": [
             [
              0,
              "#0d0887"
             ],
             [
              0.1111111111111111,
              "#46039f"
             ],
             [
              0.2222222222222222,
              "#7201a8"
             ],
             [
              0.3333333333333333,
              "#9c179e"
             ],
             [
              0.4444444444444444,
              "#bd3786"
             ],
             [
              0.5555555555555556,
              "#d8576b"
             ],
             [
              0.6666666666666666,
              "#ed7953"
             ],
             [
              0.7777777777777778,
              "#fb9f3a"
             ],
             [
              0.8888888888888888,
              "#fdca26"
             ],
             [
              1,
              "#f0f921"
             ]
            ],
            "type": "histogram2d"
           }
          ],
          "histogram2dcontour": [
           {
            "colorbar": {
             "outlinewidth": 0,
             "ticks": ""
            },
            "colorscale": [
             [
              0,
              "#0d0887"
             ],
             [
              0.1111111111111111,
              "#46039f"
             ],
             [
              0.2222222222222222,
              "#7201a8"
             ],
             [
              0.3333333333333333,
              "#9c179e"
             ],
             [
              0.4444444444444444,
              "#bd3786"
             ],
             [
              0.5555555555555556,
              "#d8576b"
             ],
             [
              0.6666666666666666,
              "#ed7953"
             ],
             [
              0.7777777777777778,
              "#fb9f3a"
             ],
             [
              0.8888888888888888,
              "#fdca26"
             ],
             [
              1,
              "#f0f921"
             ]
            ],
            "type": "histogram2dcontour"
           }
          ],
          "mesh3d": [
           {
            "colorbar": {
             "outlinewidth": 0,
             "ticks": ""
            },
            "type": "mesh3d"
           }
          ],
          "parcoords": [
           {
            "line": {
             "colorbar": {
              "outlinewidth": 0,
              "ticks": ""
             }
            },
            "type": "parcoords"
           }
          ],
          "pie": [
           {
            "automargin": true,
            "type": "pie"
           }
          ],
          "scatter": [
           {
            "fillpattern": {
             "fillmode": "overlay",
             "size": 10,
             "solidity": 0.2
            },
            "type": "scatter"
           }
          ],
          "scatter3d": [
           {
            "line": {
             "colorbar": {
              "outlinewidth": 0,
              "ticks": ""
             }
            },
            "marker": {
             "colorbar": {
              "outlinewidth": 0,
              "ticks": ""
             }
            },
            "type": "scatter3d"
           }
          ],
          "scattercarpet": [
           {
            "marker": {
             "colorbar": {
              "outlinewidth": 0,
              "ticks": ""
             }
            },
            "type": "scattercarpet"
           }
          ],
          "scattergeo": [
           {
            "marker": {
             "colorbar": {
              "outlinewidth": 0,
              "ticks": ""
             }
            },
            "type": "scattergeo"
           }
          ],
          "scattergl": [
           {
            "marker": {
             "colorbar": {
              "outlinewidth": 0,
              "ticks": ""
             }
            },
            "type": "scattergl"
           }
          ],
          "scattermapbox": [
           {
            "marker": {
             "colorbar": {
              "outlinewidth": 0,
              "ticks": ""
             }
            },
            "type": "scattermapbox"
           }
          ],
          "scatterpolar": [
           {
            "marker": {
             "colorbar": {
              "outlinewidth": 0,
              "ticks": ""
             }
            },
            "type": "scatterpolar"
           }
          ],
          "scatterpolargl": [
           {
            "marker": {
             "colorbar": {
              "outlinewidth": 0,
              "ticks": ""
             }
            },
            "type": "scatterpolargl"
           }
          ],
          "scatterternary": [
           {
            "marker": {
             "colorbar": {
              "outlinewidth": 0,
              "ticks": ""
             }
            },
            "type": "scatterternary"
           }
          ],
          "surface": [
           {
            "colorbar": {
             "outlinewidth": 0,
             "ticks": ""
            },
            "colorscale": [
             [
              0,
              "#0d0887"
             ],
             [
              0.1111111111111111,
              "#46039f"
             ],
             [
              0.2222222222222222,
              "#7201a8"
             ],
             [
              0.3333333333333333,
              "#9c179e"
             ],
             [
              0.4444444444444444,
              "#bd3786"
             ],
             [
              0.5555555555555556,
              "#d8576b"
             ],
             [
              0.6666666666666666,
              "#ed7953"
             ],
             [
              0.7777777777777778,
              "#fb9f3a"
             ],
             [
              0.8888888888888888,
              "#fdca26"
             ],
             [
              1,
              "#f0f921"
             ]
            ],
            "type": "surface"
           }
          ],
          "table": [
           {
            "cells": {
             "fill": {
              "color": "#EBF0F8"
             },
             "line": {
              "color": "white"
             }
            },
            "header": {
             "fill": {
              "color": "#C8D4E3"
             },
             "line": {
              "color": "white"
             }
            },
            "type": "table"
           }
          ]
         },
         "layout": {
          "annotationdefaults": {
           "arrowcolor": "#2a3f5f",
           "arrowhead": 0,
           "arrowwidth": 1
          },
          "autotypenumbers": "strict",
          "coloraxis": {
           "colorbar": {
            "outlinewidth": 0,
            "ticks": ""
           }
          },
          "colorscale": {
           "diverging": [
            [
             0,
             "#8e0152"
            ],
            [
             0.1,
             "#c51b7d"
            ],
            [
             0.2,
             "#de77ae"
            ],
            [
             0.3,
             "#f1b6da"
            ],
            [
             0.4,
             "#fde0ef"
            ],
            [
             0.5,
             "#f7f7f7"
            ],
            [
             0.6,
             "#e6f5d0"
            ],
            [
             0.7,
             "#b8e186"
            ],
            [
             0.8,
             "#7fbc41"
            ],
            [
             0.9,
             "#4d9221"
            ],
            [
             1,
             "#276419"
            ]
           ],
           "sequential": [
            [
             0,
             "#0d0887"
            ],
            [
             0.1111111111111111,
             "#46039f"
            ],
            [
             0.2222222222222222,
             "#7201a8"
            ],
            [
             0.3333333333333333,
             "#9c179e"
            ],
            [
             0.4444444444444444,
             "#bd3786"
            ],
            [
             0.5555555555555556,
             "#d8576b"
            ],
            [
             0.6666666666666666,
             "#ed7953"
            ],
            [
             0.7777777777777778,
             "#fb9f3a"
            ],
            [
             0.8888888888888888,
             "#fdca26"
            ],
            [
             1,
             "#f0f921"
            ]
           ],
           "sequentialminus": [
            [
             0,
             "#0d0887"
            ],
            [
             0.1111111111111111,
             "#46039f"
            ],
            [
             0.2222222222222222,
             "#7201a8"
            ],
            [
             0.3333333333333333,
             "#9c179e"
            ],
            [
             0.4444444444444444,
             "#bd3786"
            ],
            [
             0.5555555555555556,
             "#d8576b"
            ],
            [
             0.6666666666666666,
             "#ed7953"
            ],
            [
             0.7777777777777778,
             "#fb9f3a"
            ],
            [
             0.8888888888888888,
             "#fdca26"
            ],
            [
             1,
             "#f0f921"
            ]
           ]
          },
          "colorway": [
           "#636efa",
           "#EF553B",
           "#00cc96",
           "#ab63fa",
           "#FFA15A",
           "#19d3f3",
           "#FF6692",
           "#B6E880",
           "#FF97FF",
           "#FECB52"
          ],
          "font": {
           "color": "#2a3f5f"
          },
          "geo": {
           "bgcolor": "white",
           "lakecolor": "white",
           "landcolor": "#E5ECF6",
           "showlakes": true,
           "showland": true,
           "subunitcolor": "white"
          },
          "hoverlabel": {
           "align": "left"
          },
          "hovermode": "closest",
          "mapbox": {
           "style": "light"
          },
          "paper_bgcolor": "white",
          "plot_bgcolor": "#E5ECF6",
          "polar": {
           "angularaxis": {
            "gridcolor": "white",
            "linecolor": "white",
            "ticks": ""
           },
           "bgcolor": "#E5ECF6",
           "radialaxis": {
            "gridcolor": "white",
            "linecolor": "white",
            "ticks": ""
           }
          },
          "scene": {
           "xaxis": {
            "backgroundcolor": "#E5ECF6",
            "gridcolor": "white",
            "gridwidth": 2,
            "linecolor": "white",
            "showbackground": true,
            "ticks": "",
            "zerolinecolor": "white"
           },
           "yaxis": {
            "backgroundcolor": "#E5ECF6",
            "gridcolor": "white",
            "gridwidth": 2,
            "linecolor": "white",
            "showbackground": true,
            "ticks": "",
            "zerolinecolor": "white"
           },
           "zaxis": {
            "backgroundcolor": "#E5ECF6",
            "gridcolor": "white",
            "gridwidth": 2,
            "linecolor": "white",
            "showbackground": true,
            "ticks": "",
            "zerolinecolor": "white"
           }
          },
          "shapedefaults": {
           "line": {
            "color": "#2a3f5f"
           }
          },
          "ternary": {
           "aaxis": {
            "gridcolor": "white",
            "linecolor": "white",
            "ticks": ""
           },
           "baxis": {
            "gridcolor": "white",
            "linecolor": "white",
            "ticks": ""
           },
           "bgcolor": "#E5ECF6",
           "caxis": {
            "gridcolor": "white",
            "linecolor": "white",
            "ticks": ""
           }
          },
          "title": {
           "x": 0.05
          },
          "xaxis": {
           "automargin": true,
           "gridcolor": "white",
           "linecolor": "white",
           "ticks": "",
           "title": {
            "standoff": 15
           },
           "zerolinecolor": "white",
           "zerolinewidth": 2
          },
          "yaxis": {
           "automargin": true,
           "gridcolor": "white",
           "linecolor": "white",
           "ticks": "",
           "title": {
            "standoff": 15
           },
           "zerolinecolor": "white",
           "zerolinewidth": 2
          }
         }
        },
        "title": {
         "text": "Pareto-front Plot"
        },
        "xaxis": {
         "title": {
          "text": "CRPS"
         }
        },
        "yaxis": {
         "title": {
          "text": "twCRPS12"
         }
        }
       }
      },
      "text/html": [
       "<div>                            <div id=\"d9a94201-1d31-4cd1-b5cc-c708b971ac2a\" class=\"plotly-graph-div\" style=\"height:525px; width:100%;\"></div>            <script type=\"text/javascript\">                require([\"plotly\"], function(Plotly) {                    window.PLOTLYENV=window.PLOTLYENV || {};                                    if (document.getElementById(\"d9a94201-1d31-4cd1-b5cc-c708b971ac2a\")) {                    Plotly.newPlot(                        \"d9a94201-1d31-4cd1-b5cc-c708b971ac2a\",                        [{\"hovertemplate\":\"%{text}\\u003cextra\\u003eTrial\\u003c\\u002fextra\\u003e\",\"marker\":{\"color\":[0,1,2,3,4,5,6,7,8,9,10,11,12,13,14,15,16,17,18,19,20,21,22,23,24,25,26,27,28,29,30,31,32,33,34,35,36,37,38,39,40,41,42,43,44,45,46,47,48,49,50,51,52,53,54,55,56,57,58,59,61,62,63,64,65,66,67,68,69,70,71,72,73,74,76,77,78,79,80,81,82,83,84,85,86,87,88,89,90,91,92,93,94,95,96,97,98,99,100,101,102,103,104,105,106,107,108,109,110,111,112,113,114,115,116,117,118,119,120,121,122,123,124,125,126,127,128,129,130,131,132,134,135,136,137,138,139,140,141,142,143,144,145,146,147,148,149,150,151,152,153,154,155,156,157,158,159,160,161,162,163,164,165,166,167,168,169,170,172,173],\"colorbar\":{\"title\":{\"text\":\"Trial\"}},\"colorscale\":[[0.0,\"rgb(247,251,255)\"],[0.125,\"rgb(222,235,247)\"],[0.25,\"rgb(198,219,239)\"],[0.375,\"rgb(158,202,225)\"],[0.5,\"rgb(107,174,214)\"],[0.625,\"rgb(66,146,198)\"],[0.75,\"rgb(33,113,181)\"],[0.875,\"rgb(8,81,156)\"],[1.0,\"rgb(8,48,107)\"]],\"line\":{\"color\":\"Grey\",\"width\":0.5}},\"mode\":\"markers\",\"showlegend\":false,\"text\":[\"{\\u003cbr\\u003e  \\\"number\\\": 0,\\u003cbr\\u003e  \\\"values\\\": [\\u003cbr\\u003e    6.857719659805298,\\u003cbr\\u003e    0.24745424091815948\\u003cbr\\u003e  ],\\u003cbr\\u003e  \\\"params\\\": {\\u003cbr\\u003e    \\\"chain_function_mean\\\": 8.92768804408959,\\u003cbr\\u003e    \\\"chain_function_std\\\": 0.9519280572386348,\\u003cbr\\u003e    \\\"chain_function_constant\\\": 0.00030999914997151474,\\u003cbr\\u003e    \\\"optimizer\\\": \\\"SGD\\\",\\u003cbr\\u003e    \\\"learning_rate\\\": 0.0012923231234461274,\\u003cbr\\u003e    \\\"forecast_distribution\\\": \\\"distr_mixture\\\",\\u003cbr\\u003e    \\\"distribution_1\\\": \\\"distr_log_normal\\\",\\u003cbr\\u003e    \\\"distribution_2\\\": \\\"distr_trunc_normal\\\",\\u003cbr\\u003e    \\\"perform_batching\\\": true,\\u003cbr\\u003e    \\\"batch_size\\\": 32,\\u003cbr\\u003e    \\\"epochs\\\": 207\\u003cbr\\u003e  }\\u003cbr\\u003e}\",\"{\\u003cbr\\u003e  \\\"number\\\": 1,\\u003cbr\\u003e  \\\"values\\\": [\\u003cbr\\u003e    2.7068868279457092,\\u003cbr\\u003e    0.18107673153281212\\u003cbr\\u003e  ],\\u003cbr\\u003e  \\\"params\\\": {\\u003cbr\\u003e    \\\"chain_function_mean\\\": -3.1589325703210713,\\u003cbr\\u003e    \\\"chain_function_std\\\": 0.0002759704550778344,\\u003cbr\\u003e    \\\"chain_function_constant\\\": 0.009416006510129638,\\u003cbr\\u003e    \\\"optimizer\\\": \\\"SGD\\\",\\u003cbr\\u003e    \\\"learning_rate\\\": 0.010304157454824651,\\u003cbr\\u003e    \\\"forecast_distribution\\\": \\\"distr_mixture_linear\\\",\\u003cbr\\u003e    \\\"distribution_1\\\": \\\"distr_gev\\\",\\u003cbr\\u003e    \\\"distribution_2\\\": \\\"distr_log_normal\\\",\\u003cbr\\u003e    \\\"perform_batching\\\": true,\\u003cbr\\u003e    \\\"batch_size\\\": 256,\\u003cbr\\u003e    \\\"epochs\\\": 277\\u003cbr\\u003e  }\\u003cbr\\u003e}\",\"{\\u003cbr\\u003e  \\\"number\\\": 2,\\u003cbr\\u003e  \\\"values\\\": [\\u003cbr\\u003e    2.707387685775757,\\u003cbr\\u003e    0.18062767386436462\\u003cbr\\u003e  ],\\u003cbr\\u003e  \\\"params\\\": {\\u003cbr\\u003e    \\\"chain_function_mean\\\": -4.373060661832781,\\u003cbr\\u003e    \\\"chain_function_std\\\": 0.5624119227090846,\\u003cbr\\u003e    \\\"chain_function_constant\\\": 0.0035755008744056713,\\u003cbr\\u003e    \\\"optimizer\\\": \\\"Adam\\\",\\u003cbr\\u003e    \\\"learning_rate\\\": 0.000809743317291191,\\u003cbr\\u003e    \\\"forecast_distribution\\\": \\\"distr_trunc_normal\\\",\\u003cbr\\u003e    \\\"perform_batching\\\": true,\\u003cbr\\u003e    \\\"batch_size\\\": 64,\\u003cbr\\u003e    \\\"epochs\\\": 157\\u003cbr\\u003e  }\\u003cbr\\u003e}\",\"{\\u003cbr\\u003e  \\\"number\\\": 3,\\u003cbr\\u003e  \\\"values\\\": [\\u003cbr\\u003e    7.781105995178223,\\u003cbr\\u003e    0.2917838990688324\\u003cbr\\u003e  ],\\u003cbr\\u003e  \\\"params\\\": {\\u003cbr\\u003e    \\\"chain_function_mean\\\": 8.459079658136577,\\u003cbr\\u003e    \\\"chain_function_std\\\": 0.0068746188786876355,\\u003cbr\\u003e    \\\"chain_function_constant\\\": 5.770406498265465e-05,\\u003cbr\\u003e    \\\"optimizer\\\": \\\"Adam\\\",\\u003cbr\\u003e    \\\"learning_rate\\\": 0.00029435142674010364,\\u003cbr\\u003e    \\\"forecast_distribution\\\": \\\"distr_gev\\\",\\u003cbr\\u003e    \\\"perform_batching\\\": false,\\u003cbr\\u003e    \\\"epochs\\\": 149\\u003cbr\\u003e  }\\u003cbr\\u003e}\",\"{\\u003cbr\\u003e  \\\"number\\\": 4,\\u003cbr\\u003e  \\\"values\\\": [\\u003cbr\\u003e    2.712414562702179,\\u003cbr\\u003e    0.18150850385427475\\u003cbr\\u003e  ],\\u003cbr\\u003e  \\\"params\\\": {\\u003cbr\\u003e    \\\"chain_function_mean\\\": 1.59831766360778,\\u003cbr\\u003e    \\\"chain_function_std\\\": 2.133936326220745,\\u003cbr\\u003e    \\\"chain_function_constant\\\": 0.11411669613359093,\\u003cbr\\u003e    \\\"optimizer\\\": \\\"Adam\\\",\\u003cbr\\u003e    \\\"learning_rate\\\": 0.06866510555399127,\\u003cbr\\u003e    \\\"forecast_distribution\\\": \\\"distr_trunc_normal\\\",\\u003cbr\\u003e    \\\"perform_batching\\\": true,\\u003cbr\\u003e    \\\"batch_size\\\": 1024,\\u003cbr\\u003e    \\\"epochs\\\": 363\\u003cbr\\u003e  }\\u003cbr\\u003e}\",\"{\\u003cbr\\u003e  \\\"number\\\": 5,\\u003cbr\\u003e  \\\"values\\\": [\\u003cbr\\u003e    7.844149827957153,\\u003cbr\\u003e    0.2921120226383209\\u003cbr\\u003e  ],\\u003cbr\\u003e  \\\"params\\\": {\\u003cbr\\u003e    \\\"chain_function_mean\\\": 1.1872374775533823,\\u003cbr\\u003e    \\\"chain_function_std\\\": 6.058958689840486,\\u003cbr\\u003e    \\\"chain_function_constant\\\": 0.0014935094370555173,\\u003cbr\\u003e    \\\"optimizer\\\": \\\"Adam\\\",\\u003cbr\\u003e    \\\"learning_rate\\\": 0.00015398417506987154,\\u003cbr\\u003e    \\\"forecast_distribution\\\": \\\"distr_mixture\\\",\\u003cbr\\u003e    \\\"distribution_1\\\": \\\"distr_gev\\\",\\u003cbr\\u003e    \\\"distribution_2\\\": \\\"distr_gev\\\",\\u003cbr\\u003e    \\\"perform_batching\\\": false,\\u003cbr\\u003e    \\\"epochs\\\": 467\\u003cbr\\u003e  }\\u003cbr\\u003e}\",\"{\\u003cbr\\u003e  \\\"number\\\": 6,\\u003cbr\\u003e  \\\"values\\\": [\\u003cbr\\u003e    5.163564205169678,\\u003cbr\\u003e    0.3390817642211914\\u003cbr\\u003e  ],\\u003cbr\\u003e  \\\"params\\\": {\\u003cbr\\u003e    \\\"chain_function_mean\\\": 0.31544437675777814,\\u003cbr\\u003e    \\\"chain_function_std\\\": 0.0018098079519817225,\\u003cbr\\u003e    \\\"chain_function_constant\\\": 0.024545358062812783,\\u003cbr\\u003e    \\\"optimizer\\\": \\\"Adam\\\",\\u003cbr\\u003e    \\\"learning_rate\\\": 0.001947641337878647,\\u003cbr\\u003e    \\\"forecast_distribution\\\": \\\"distr_gev\\\",\\u003cbr\\u003e    \\\"perform_batching\\\": false,\\u003cbr\\u003e    \\\"epochs\\\": 483\\u003cbr\\u003e  }\\u003cbr\\u003e}\",\"{\\u003cbr\\u003e  \\\"number\\\": 7,\\u003cbr\\u003e  \\\"values\\\": [\\u003cbr\\u003e    3.2693737745285034,\\u003cbr\\u003e    0.1938517466187477\\u003cbr\\u003e  ],\\u003cbr\\u003e  \\\"params\\\": {\\u003cbr\\u003e    \\\"chain_function_mean\\\": 3.725059129932742,\\u003cbr\\u003e    \\\"chain_function_std\\\": 0.000291982405019289,\\u003cbr\\u003e    \\\"chain_function_constant\\\": 3.1532489378432935e-05,\\u003cbr\\u003e    \\\"optimizer\\\": \\\"Adam\\\",\\u003cbr\\u003e    \\\"learning_rate\\\": 0.006631834893464393,\\u003cbr\\u003e    \\\"forecast_distribution\\\": \\\"distr_gev\\\",\\u003cbr\\u003e    \\\"perform_batching\\\": false,\\u003cbr\\u003e    \\\"epochs\\\": 431\\u003cbr\\u003e  }\\u003cbr\\u003e}\",\"{\\u003cbr\\u003e  \\\"number\\\": 8,\\u003cbr\\u003e  \\\"values\\\": [\\u003cbr\\u003e    2.707865536212921,\\u003cbr\\u003e    0.18080054223537445\\u003cbr\\u003e  ],\\u003cbr\\u003e  \\\"params\\\": {\\u003cbr\\u003e    \\\"chain_function_mean\\\": 1.7160921604353652,\\u003cbr\\u003e    \\\"chain_function_std\\\": 0.018294126947100645,\\u003cbr\\u003e    \\\"chain_function_constant\\\": 0.09112866659471801,\\u003cbr\\u003e    \\\"optimizer\\\": \\\"SGD\\\",\\u003cbr\\u003e    \\\"learning_rate\\\": 0.016570618048122886,\\u003cbr\\u003e    \\\"forecast_distribution\\\": \\\"distr_trunc_normal\\\",\\u003cbr\\u003e    \\\"perform_batching\\\": true,\\u003cbr\\u003e    \\\"batch_size\\\": 256,\\u003cbr\\u003e    \\\"epochs\\\": 286\\u003cbr\\u003e  }\\u003cbr\\u003e}\",\"{\\u003cbr\\u003e  \\\"number\\\": 9,\\u003cbr\\u003e  \\\"values\\\": [\\u003cbr\\u003e    3.0313754081726074,\\u003cbr\\u003e    0.22385223954916\\u003cbr\\u003e  ],\\u003cbr\\u003e  \\\"params\\\": {\\u003cbr\\u003e    \\\"chain_function_mean\\\": -1.0164546431871968,\\u003cbr\\u003e    \\\"chain_function_std\\\": 0.04884355898127172,\\u003cbr\\u003e    \\\"chain_function_constant\\\": 0.007064492551314908,\\u003cbr\\u003e    \\\"optimizer\\\": \\\"SGD\\\",\\u003cbr\\u003e    \\\"learning_rate\\\": 0.04751733636192285,\\u003cbr\\u003e    \\\"forecast_distribution\\\": \\\"distr_mixture_linear\\\",\\u003cbr\\u003e    \\\"distribution_1\\\": \\\"distr_log_normal\\\",\\u003cbr\\u003e    \\\"distribution_2\\\": \\\"distr_trunc_normal\\\",\\u003cbr\\u003e    \\\"perform_batching\\\": false,\\u003cbr\\u003e    \\\"epochs\\\": 342\\u003cbr\\u003e  }\\u003cbr\\u003e}\",\"{\\u003cbr\\u003e  \\\"number\\\": 10,\\u003cbr\\u003e  \\\"values\\\": [\\u003cbr\\u003e    10.303478240966797,\\u003cbr\\u003e    0.30033228918910027\\u003cbr\\u003e  ],\\u003cbr\\u003e  \\\"params\\\": {\\u003cbr\\u003e    \\\"chain_function_mean\\\": 13.425384929167091,\\u003cbr\\u003e    \\\"chain_function_std\\\": 1.3952032625719306,\\u003cbr\\u003e    \\\"chain_function_constant\\\": 0.0029465332931491997,\\u003cbr\\u003e    \\\"optimizer\\\": \\\"SGD\\\",\\u003cbr\\u003e    \\\"learning_rate\\\": 0.02295288058824968,\\u003cbr\\u003e    \\\"forecast_distribution\\\": \\\"distr_mixture_linear\\\",\\u003cbr\\u003e    \\\"distribution_1\\\": \\\"distr_trunc_normal\\\",\\u003cbr\\u003e    \\\"distribution_2\\\": \\\"distr_log_normal\\\",\\u003cbr\\u003e    \\\"perform_batching\\\": false,\\u003cbr\\u003e    \\\"epochs\\\": 189\\u003cbr\\u003e  }\\u003cbr\\u003e}\",\"{\\u003cbr\\u003e  \\\"number\\\": 11,\\u003cbr\\u003e  \\\"values\\\": [\\u003cbr\\u003e    2.780767560005188,\\u003cbr\\u003e    0.18001408874988556\\u003cbr\\u003e  ],\\u003cbr\\u003e  \\\"params\\\": {\\u003cbr\\u003e    \\\"chain_function_mean\\\": 13.319151605820721,\\u003cbr\\u003e    \\\"chain_function_std\\\": 4.077458736407382,\\u003cbr\\u003e    \\\"chain_function_constant\\\": 1.1527732096401132e-05,\\u003cbr\\u003e    \\\"optimizer\\\": \\\"Adam\\\",\\u003cbr\\u003e    \\\"learning_rate\\\": 0.003926910944166578,\\u003cbr\\u003e    \\\"forecast_distribution\\\": \\\"distr_log_normal\\\",\\u003cbr\\u003e    \\\"perform_batching\\\": true,\\u003cbr\\u003e    \\\"batch_size\\\": 128,\\u003cbr\\u003e    \\\"epochs\\\": 435\\u003cbr\\u003e  }\\u003cbr\\u003e}\",\"{\\u003cbr\\u003e  \\\"number\\\": 12,\\u003cbr\\u003e  \\\"values\\\": [\\u003cbr\\u003e    6.279019117355347,\\u003cbr\\u003e    0.36110496520996094\\u003cbr\\u003e  ],\\u003cbr\\u003e  \\\"params\\\": {\\u003cbr\\u003e    \\\"chain_function_mean\\\": 3.06228602477578,\\u003cbr\\u003e    \\\"chain_function_std\\\": 0.01899031307273979,\\u003cbr\\u003e    \\\"chain_function_constant\\\": 0.07376955088119357,\\u003cbr\\u003e    \\\"optimizer\\\": \\\"SGD\\\",\\u003cbr\\u003e    \\\"learning_rate\\\": 0.004426485780137288,\\u003cbr\\u003e    \\\"forecast_distribution\\\": \\\"distr_gev\\\",\\u003cbr\\u003e    \\\"perform_batching\\\": false,\\u003cbr\\u003e    \\\"epochs\\\": 341\\u003cbr\\u003e  }\\u003cbr\\u003e}\",\"{\\u003cbr\\u003e  \\\"number\\\": 13,\\u003cbr\\u003e  \\\"values\\\": [\\u003cbr\\u003e    3.380695343017578,\\u003cbr\\u003e    0.23045691847801208\\u003cbr\\u003e  ],\\u003cbr\\u003e  \\\"params\\\": {\\u003cbr\\u003e    \\\"chain_function_mean\\\": -2.3003295166613302,\\u003cbr\\u003e    \\\"chain_function_std\\\": 0.07834967299665604,\\u003cbr\\u003e    \\\"chain_function_constant\\\": 0.08666154410230384,\\u003cbr\\u003e    \\\"optimizer\\\": \\\"Adam\\\",\\u003cbr\\u003e    \\\"learning_rate\\\": 0.013834668028561667,\\u003cbr\\u003e    \\\"forecast_distribution\\\": \\\"distr_mixture_linear\\\",\\u003cbr\\u003e    \\\"distribution_1\\\": \\\"distr_gev\\\",\\u003cbr\\u003e    \\\"distribution_2\\\": \\\"distr_trunc_normal\\\",\\u003cbr\\u003e    \\\"perform_batching\\\": false,\\u003cbr\\u003e    \\\"epochs\\\": 205\\u003cbr\\u003e  }\\u003cbr\\u003e}\",\"{\\u003cbr\\u003e  \\\"number\\\": 14,\\u003cbr\\u003e  \\\"values\\\": [\\u003cbr\\u003e    2.9159937500953674,\\u003cbr\\u003e    0.19983584061264992\\u003cbr\\u003e  ],\\u003cbr\\u003e  \\\"params\\\": {\\u003cbr\\u003e    \\\"chain_function_mean\\\": 3.0275447251546694,\\u003cbr\\u003e    \\\"chain_function_std\\\": 0.00010630418763146408,\\u003cbr\\u003e    \\\"chain_function_constant\\\": 0.6581913409199802,\\u003cbr\\u003e    \\\"optimizer\\\": \\\"SGD\\\",\\u003cbr\\u003e    \\\"learning_rate\\\": 0.0009910215227800436,\\u003cbr\\u003e    \\\"forecast_distribution\\\": \\\"distr_gev\\\",\\u003cbr\\u003e    \\\"perform_batching\\\": true,\\u003cbr\\u003e    \\\"batch_size\\\": 512,\\u003cbr\\u003e    \\\"epochs\\\": 350\\u003cbr\\u003e  }\\u003cbr\\u003e}\",\"{\\u003cbr\\u003e  \\\"number\\\": 15,\\u003cbr\\u003e  \\\"values\\\": [\\u003cbr\\u003e    2.7207736372947693,\\u003cbr\\u003e    0.18145718052983284\\u003cbr\\u003e  ],\\u003cbr\\u003e  \\\"params\\\": {\\u003cbr\\u003e    \\\"chain_function_mean\\\": 2.2218780683038775,\\u003cbr\\u003e    \\\"chain_function_std\\\": 0.024028090433787286,\\u003cbr\\u003e    \\\"chain_function_constant\\\": 0.39264817113054545,\\u003cbr\\u003e    \\\"optimizer\\\": \\\"Adam\\\",\\u003cbr\\u003e    \\\"learning_rate\\\": 0.016203109067420094,\\u003cbr\\u003e    \\\"forecast_distribution\\\": \\\"distr_log_normal\\\",\\u003cbr\\u003e    \\\"perform_batching\\\": true,\\u003cbr\\u003e    \\\"batch_size\\\": 1024,\\u003cbr\\u003e    \\\"epochs\\\": 200\\u003cbr\\u003e  }\\u003cbr\\u003e}\",\"{\\u003cbr\\u003e  \\\"number\\\": 16,\\u003cbr\\u003e  \\\"values\\\": [\\u003cbr\\u003e    9.976555585861206,\\u003cbr\\u003e    0.300634678453207\\u003cbr\\u003e  ],\\u003cbr\\u003e  \\\"params\\\": {\\u003cbr\\u003e    \\\"chain_function_mean\\\": 12.725753452221163,\\u003cbr\\u003e    \\\"chain_function_std\\\": 0.8564132514408164,\\u003cbr\\u003e    \\\"chain_function_constant\\\": 3.633506098119116e-05,\\u003cbr\\u003e    \\\"optimizer\\\": \\\"SGD\\\",\\u003cbr\\u003e    \\\"learning_rate\\\": 0.01619305117853118,\\u003cbr\\u003e    \\\"forecast_distribution\\\": \\\"distr_trunc_normal\\\",\\u003cbr\\u003e    \\\"perform_batching\\\": true,\\u003cbr\\u003e    \\\"batch_size\\\": 512,\\u003cbr\\u003e    \\\"epochs\\\": 410\\u003cbr\\u003e  }\\u003cbr\\u003e}\",\"{\\u003cbr\\u003e  \\\"number\\\": 17,\\u003cbr\\u003e  \\\"values\\\": [\\u003cbr\\u003e    2.7285261154174805,\\u003cbr\\u003e    0.18249428644776344\\u003cbr\\u003e  ],\\u003cbr\\u003e  \\\"params\\\": {\\u003cbr\\u003e    \\\"chain_function_mean\\\": 5.299386744983046,\\u003cbr\\u003e    \\\"chain_function_std\\\": 0.000318729472766609,\\u003cbr\\u003e    \\\"chain_function_constant\\\": 1.3018416582466503,\\u003cbr\\u003e    \\\"optimizer\\\": \\\"SGD\\\",\\u003cbr\\u003e    \\\"learning_rate\\\": 0.006490413573910863,\\u003cbr\\u003e    \\\"forecast_distribution\\\": \\\"distr_mixture\\\",\\u003cbr\\u003e    \\\"distribution_1\\\": \\\"distr_gev\\\",\\u003cbr\\u003e    \\\"distribution_2\\\": \\\"distr_trunc_normal\\\",\\u003cbr\\u003e    \\\"perform_batching\\\": true,\\u003cbr\\u003e    \\\"batch_size\\\": 256,\\u003cbr\\u003e    \\\"epochs\\\": 445\\u003cbr\\u003e  }\\u003cbr\\u003e}\",\"{\\u003cbr\\u003e  \\\"number\\\": 18,\\u003cbr\\u003e  \\\"values\\\": [\\u003cbr\\u003e    11.437721967697144,\\u003cbr\\u003e    0.3012692891061306\\u003cbr\\u003e  ],\\u003cbr\\u003e  \\\"params\\\": {\\u003cbr\\u003e    \\\"chain_function_mean\\\": 3.24553004082272,\\u003cbr\\u003e    \\\"chain_function_std\\\": 5.406281434379213,\\u003cbr\\u003e    \\\"chain_function_constant\\\": 0.20547356851433216,\\u003cbr\\u003e    \\\"optimizer\\\": \\\"Adam\\\",\\u003cbr\\u003e    \\\"learning_rate\\\": 0.00011758608382975349,\\u003cbr\\u003e    \\\"forecast_distribution\\\": \\\"distr_mixture\\\",\\u003cbr\\u003e    \\\"distribution_1\\\": \\\"distr_log_normal\\\",\\u003cbr\\u003e    \\\"distribution_2\\\": \\\"distr_log_normal\\\",\\u003cbr\\u003e    \\\"perform_batching\\\": false,\\u003cbr\\u003e    \\\"epochs\\\": 451\\u003cbr\\u003e  }\\u003cbr\\u003e}\",\"{\\u003cbr\\u003e  \\\"number\\\": 19,\\u003cbr\\u003e  \\\"values\\\": [\\u003cbr\\u003e    2.7918731570243835,\\u003cbr\\u003e    0.1805586814880371\\u003cbr\\u003e  ],\\u003cbr\\u003e  \\\"params\\\": {\\u003cbr\\u003e    \\\"chain_function_mean\\\": 5.330043520721144,\\u003cbr\\u003e    \\\"chain_function_std\\\": 2.4621679087484023,\\u003cbr\\u003e    \\\"chain_function_constant\\\": 4.110978456548582e-05,\\u003cbr\\u003e    \\\"optimizer\\\": \\\"SGD\\\",\\u003cbr\\u003e    \\\"learning_rate\\\": 0.0058234861922892055,\\u003cbr\\u003e    \\\"forecast_distribution\\\": \\\"distr_mixture_linear\\\",\\u003cbr\\u003e    \\\"distribution_1\\\": \\\"distr_log_normal\\\",\\u003cbr\\u003e    \\\"distribution_2\\\": \\\"distr_log_normal\\\",\\u003cbr\\u003e    \\\"perform_batching\\\": true,\\u003cbr\\u003e    \\\"batch_size\\\": 512,\\u003cbr\\u003e    \\\"epochs\\\": 403\\u003cbr\\u003e  }\\u003cbr\\u003e}\",\"{\\u003cbr\\u003e  \\\"number\\\": 20,\\u003cbr\\u003e  \\\"values\\\": [\\u003cbr\\u003e    2.719066619873047,\\u003cbr\\u003e    0.18151003122329712\\u003cbr\\u003e  ],\\u003cbr\\u003e  \\\"params\\\": {\\u003cbr\\u003e    \\\"chain_function_mean\\\": -4.854861178152421,\\u003cbr\\u003e    \\\"chain_function_std\\\": 0.17159341243829102,\\u003cbr\\u003e    \\\"chain_function_constant\\\": 0.00034374699552860256,\\u003cbr\\u003e    \\\"optimizer\\\": \\\"Adam\\\",\\u003cbr\\u003e    \\\"learning_rate\\\": 0.0006331140704964706,\\u003cbr\\u003e    \\\"forecast_distribution\\\": \\\"distr_log_normal\\\",\\u003cbr\\u003e    \\\"perform_batching\\\": true,\\u003cbr\\u003e    \\\"batch_size\\\": 64,\\u003cbr\\u003e    \\\"epochs\\\": 136\\u003cbr\\u003e  }\\u003cbr\\u003e}\",\"{\\u003cbr\\u003e  \\\"number\\\": 21,\\u003cbr\\u003e  \\\"values\\\": [\\u003cbr\\u003e    2.7802626490592957,\\u003cbr\\u003e    0.179512158036232\\u003cbr\\u003e  ],\\u003cbr\\u003e  \\\"params\\\": {\\u003cbr\\u003e    \\\"chain_function_mean\\\": 7.876906349237393,\\u003cbr\\u003e    \\\"chain_function_std\\\": 0.3177089451709854,\\u003cbr\\u003e    \\\"chain_function_constant\\\": 0.0009423588895167703,\\u003cbr\\u003e    \\\"optimizer\\\": \\\"Adam\\\",\\u003cbr\\u003e    \\\"learning_rate\\\": 0.0004008182372297023,\\u003cbr\\u003e    \\\"forecast_distribution\\\": \\\"distr_trunc_normal\\\",\\u003cbr\\u003e    \\\"perform_batching\\\": true,\\u003cbr\\u003e    \\\"batch_size\\\": 64,\\u003cbr\\u003e    \\\"epochs\\\": 111\\u003cbr\\u003e  }\\u003cbr\\u003e}\",\"{\\u003cbr\\u003e  \\\"number\\\": 22,\\u003cbr\\u003e  \\\"values\\\": [\\u003cbr\\u003e    2.7766727209091187,\\u003cbr\\u003e    0.17940985783934593\\u003cbr\\u003e  ],\\u003cbr\\u003e  \\\"params\\\": {\\u003cbr\\u003e    \\\"chain_function_mean\\\": 7.8340584504276976,\\u003cbr\\u003e    \\\"chain_function_std\\\": 0.23982745338443026,\\u003cbr\\u003e    \\\"chain_function_constant\\\": 0.0008012591145669031,\\u003cbr\\u003e    \\\"optimizer\\\": \\\"Adam\\\",\\u003cbr\\u003e    \\\"learning_rate\\\": 0.0004489382998864519,\\u003cbr\\u003e    \\\"forecast_distribution\\\": \\\"distr_trunc_normal\\\",\\u003cbr\\u003e    \\\"perform_batching\\\": true,\\u003cbr\\u003e    \\\"batch_size\\\": 64,\\u003cbr\\u003e    \\\"epochs\\\": 103\\u003cbr\\u003e  }\\u003cbr\\u003e}\",\"{\\u003cbr\\u003e  \\\"number\\\": 23,\\u003cbr\\u003e  \\\"values\\\": [\\u003cbr\\u003e    2.999790906906128,\\u003cbr\\u003e    0.1776863932609558\\u003cbr\\u003e  ],\\u003cbr\\u003e  \\\"params\\\": {\\u003cbr\\u003e    \\\"chain_function_mean\\\": 10.560683075342443,\\u003cbr\\u003e    \\\"chain_function_std\\\": 0.4149682445294126,\\u003cbr\\u003e    \\\"chain_function_constant\\\": 0.00020231775926459996,\\u003cbr\\u003e    \\\"optimizer\\\": \\\"Adam\\\",\\u003cbr\\u003e    \\\"learning_rate\\\": 0.0018956077050642478,\\u003cbr\\u003e    \\\"forecast_distribution\\\": \\\"distr_trunc_normal\\\",\\u003cbr\\u003e    \\\"perform_batching\\\": true,\\u003cbr\\u003e    \\\"batch_size\\\": 64,\\u003cbr\\u003e    \\\"epochs\\\": 252\\u003cbr\\u003e  }\\u003cbr\\u003e}\",\"{\\u003cbr\\u003e  \\\"number\\\": 24,\\u003cbr\\u003e  \\\"values\\\": [\\u003cbr\\u003e    2.7539538741111755,\\u003cbr\\u003e    0.1784217208623886\\u003cbr\\u003e  ],\\u003cbr\\u003e  \\\"params\\\": {\\u003cbr\\u003e    \\\"chain_function_mean\\\": 10.13905077771497,\\u003cbr\\u003e    \\\"chain_function_std\\\": 0.45492724089784053,\\u003cbr\\u003e    \\\"chain_function_constant\\\": 0.02643669781834482,\\u003cbr\\u003e    \\\"optimizer\\\": \\\"Adam\\\",\\u003cbr\\u003e    \\\"learning_rate\\\": 0.0018386537728955277,\\u003cbr\\u003e    \\\"forecast_distribution\\\": \\\"distr_trunc_normal\\\",\\u003cbr\\u003e    \\\"perform_batching\\\": true,\\u003cbr\\u003e    \\\"batch_size\\\": 64,\\u003cbr\\u003e    \\\"epochs\\\": 247\\u003cbr\\u003e  }\\u003cbr\\u003e}\",\"{\\u003cbr\\u003e  \\\"number\\\": 25,\\u003cbr\\u003e  \\\"values\\\": [\\u003cbr\\u003e    2.7380585074424744,\\u003cbr\\u003e    0.17931987345218658\\u003cbr\\u003e  ],\\u003cbr\\u003e  \\\"params\\\": {\\u003cbr\\u003e    \\\"chain_function_mean\\\": 10.564047487329841,\\u003cbr\\u003e    \\\"chain_function_std\\\": 0.10935749964080561,\\u003cbr\\u003e    \\\"chain_function_constant\\\": 0.019437866083625376,\\u003cbr\\u003e    \\\"optimizer\\\": \\\"Adam\\\",\\u003cbr\\u003e    \\\"learning_rate\\\": 0.00021237420711068522,\\u003cbr\\u003e    \\\"forecast_distribution\\\": \\\"distr_trunc_normal\\\",\\u003cbr\\u003e    \\\"perform_batching\\\": true,\\u003cbr\\u003e    \\\"batch_size\\\": 64,\\u003cbr\\u003e    \\\"epochs\\\": 242\\u003cbr\\u003e  }\\u003cbr\\u003e}\",\"{\\u003cbr\\u003e  \\\"number\\\": 26,\\u003cbr\\u003e  \\\"values\\\": [\\u003cbr\\u003e    2.7504209876060486,\\u003cbr\\u003e    0.17940856888890266\\u003cbr\\u003e  ],\\u003cbr\\u003e  \\\"params\\\": {\\u003cbr\\u003e    \\\"chain_function_mean\\\": 6.171263677550304,\\u003cbr\\u003e    \\\"chain_function_std\\\": 0.00690593958062783,\\u003cbr\\u003e    \\\"chain_function_constant\\\": 0.019109818353743032,\\u003cbr\\u003e    \\\"optimizer\\\": \\\"Adam\\\",\\u003cbr\\u003e    \\\"learning_rate\\\": 0.0026111372705716947,\\u003cbr\\u003e    \\\"forecast_distribution\\\": \\\"distr_trunc_normal\\\",\\u003cbr\\u003e    \\\"perform_batching\\\": true,\\u003cbr\\u003e    \\\"batch_size\\\": 32,\\u003cbr\\u003e    \\\"epochs\\\": 170\\u003cbr\\u003e  }\\u003cbr\\u003e}\",\"{\\u003cbr\\u003e  \\\"number\\\": 27,\\u003cbr\\u003e  \\\"values\\\": [\\u003cbr\\u003e    2.8274190425872803,\\u003cbr\\u003e    0.17791029810905457\\u003cbr\\u003e  ],\\u003cbr\\u003e  \\\"params\\\": {\\u003cbr\\u003e    \\\"chain_function_mean\\\": 10.682448662405733,\\u003cbr\\u003e    \\\"chain_function_std\\\": 0.5561631130804957,\\u003cbr\\u003e    \\\"chain_function_constant\\\": 0.00012523480475042816,\\u003cbr\\u003e    \\\"optimizer\\\": \\\"Adam\\\",\\u003cbr\\u003e    \\\"learning_rate\\\": 0.0009076767860821696,\\u003cbr\\u003e    \\\"forecast_distribution\\\": \\\"distr_trunc_normal\\\",\\u003cbr\\u003e    \\\"perform_batching\\\": true,\\u003cbr\\u003e    \\\"batch_size\\\": 128,\\u003cbr\\u003e    \\\"epochs\\\": 230\\u003cbr\\u003e  }\\u003cbr\\u003e}\",\"{\\u003cbr\\u003e  \\\"number\\\": 28,\\u003cbr\\u003e  \\\"values\\\": [\\u003cbr\\u003e    2.7075695395469666,\\u003cbr\\u003e    0.18051982298493385\\u003cbr\\u003e  ],\\u003cbr\\u003e  \\\"params\\\": {\\u003cbr\\u003e    \\\"chain_function_mean\\\": -0.8039960321192279,\\u003cbr\\u003e    \\\"chain_function_std\\\": 9.807808002687812,\\u003cbr\\u003e    \\\"chain_function_constant\\\": 1.9447125197502784,\\u003cbr\\u003e    \\\"optimizer\\\": \\\"Adam\\\",\\u003cbr\\u003e    \\\"learning_rate\\\": 0.0006341044934620053,\\u003cbr\\u003e    \\\"forecast_distribution\\\": \\\"distr_trunc_normal\\\",\\u003cbr\\u003e    \\\"perform_batching\\\": true,\\u003cbr\\u003e    \\\"batch_size\\\": 64,\\u003cbr\\u003e    \\\"epochs\\\": 321\\u003cbr\\u003e  }\\u003cbr\\u003e}\",\"{\\u003cbr\\u003e  \\\"number\\\": 29,\\u003cbr\\u003e  \\\"values\\\": [\\u003cbr\\u003e    2.7073572278022766,\\u003cbr\\u003e    0.1803307607769966\\u003cbr\\u003e  ],\\u003cbr\\u003e  \\\"params\\\": {\\u003cbr\\u003e    \\\"chain_function_mean\\\": -0.4823919291062815,\\u003cbr\\u003e    \\\"chain_function_std\\\": 5.689482636004607,\\u003cbr\\u003e    \\\"chain_function_constant\\\": 1.6337040586380491,\\u003cbr\\u003e    \\\"optimizer\\\": \\\"Adam\\\",\\u003cbr\\u003e    \\\"learning_rate\\\": 0.0016027584352587261,\\u003cbr\\u003e    \\\"forecast_distribution\\\": \\\"distr_trunc_normal\\\",\\u003cbr\\u003e    \\\"perform_batching\\\": true,\\u003cbr\\u003e    \\\"batch_size\\\": 64,\\u003cbr\\u003e    \\\"epochs\\\": 307\\u003cbr\\u003e  }\\u003cbr\\u003e}\",\"{\\u003cbr\\u003e  \\\"number\\\": 30,\\u003cbr\\u003e  \\\"values\\\": [\\u003cbr\\u003e    2.7066689133644104,\\u003cbr\\u003e    0.18055195733904839\\u003cbr\\u003e  ],\\u003cbr\\u003e  \\\"params\\\": {\\u003cbr\\u003e    \\\"chain_function_mean\\\": -2.59633235269148,\\u003cbr\\u003e    \\\"chain_function_std\\\": 9.524594386046262,\\u003cbr\\u003e    \\\"chain_function_constant\\\": 0.6906163237885832,\\u003cbr\\u003e    \\\"optimizer\\\": \\\"Adam\\\",\\u003cbr\\u003e    \\\"learning_rate\\\": 0.0013836122148049347,\\u003cbr\\u003e    \\\"forecast_distribution\\\": \\\"distr_trunc_normal\\\",\\u003cbr\\u003e    \\\"perform_batching\\\": true,\\u003cbr\\u003e    \\\"batch_size\\\": 128,\\u003cbr\\u003e    \\\"epochs\\\": 241\\u003cbr\\u003e  }\\u003cbr\\u003e}\",\"{\\u003cbr\\u003e  \\\"number\\\": 31,\\u003cbr\\u003e  \\\"values\\\": [\\u003cbr\\u003e    2.717193841934204,\\u003cbr\\u003e    0.1810912862420082\\u003cbr\\u003e  ],\\u003cbr\\u003e  \\\"params\\\": {\\u003cbr\\u003e    \\\"chain_function_mean\\\": -2.3420390422512645,\\u003cbr\\u003e    \\\"chain_function_std\\\": 2.2792811070584054,\\u003cbr\\u003e    \\\"chain_function_constant\\\": 0.6963960616781889,\\u003cbr\\u003e    \\\"optimizer\\\": \\\"Adam\\\",\\u003cbr\\u003e    \\\"learning_rate\\\": 0.002761505327675819,\\u003cbr\\u003e    \\\"forecast_distribution\\\": \\\"distr_log_normal\\\",\\u003cbr\\u003e    \\\"perform_batching\\\": true,\\u003cbr\\u003e    \\\"batch_size\\\": 128,\\u003cbr\\u003e    \\\"epochs\\\": 231\\u003cbr\\u003e  }\\u003cbr\\u003e}\",\"{\\u003cbr\\u003e  \\\"number\\\": 32,\\u003cbr\\u003e  \\\"values\\\": [\\u003cbr\\u003e    2.7086182832717896,\\u003cbr\\u003e    0.17996812611818314\\u003cbr\\u003e  ],\\u003cbr\\u003e  \\\"params\\\": {\\u003cbr\\u003e    \\\"chain_function_mean\\\": 10.240469520814901,\\u003cbr\\u003e    \\\"chain_function_std\\\": 9.315080084675353,\\u003cbr\\u003e    \\\"chain_function_constant\\\": 0.044509025952921694,\\u003cbr\\u003e    \\\"optimizer\\\": \\\"Adam\\\",\\u003cbr\\u003e    \\\"learning_rate\\\": 0.0010676866865113133,\\u003cbr\\u003e    \\\"forecast_distribution\\\": \\\"distr_trunc_normal\\\",\\u003cbr\\u003e    \\\"perform_batching\\\": true,\\u003cbr\\u003e    \\\"batch_size\\\": 128,\\u003cbr\\u003e    \\\"epochs\\\": 253\\u003cbr\\u003e  }\\u003cbr\\u003e}\",\"{\\u003cbr\\u003e  \\\"number\\\": 33,\\u003cbr\\u003e  \\\"values\\\": [\\u003cbr\\u003e    2.726343870162964,\\u003cbr\\u003e    0.17928890883922577\\u003cbr\\u003e  ],\\u003cbr\\u003e  \\\"params\\\": {\\u003cbr\\u003e    \\\"chain_function_mean\\\": 10.373817378379536,\\u003cbr\\u003e    \\\"chain_function_std\\\": 0.002536808061131474,\\u003cbr\\u003e    \\\"chain_function_constant\\\": 0.04349028238442353,\\u003cbr\\u003e    \\\"optimizer\\\": \\\"Adam\\\",\\u003cbr\\u003e    \\\"learning_rate\\\": 0.0002886701906384498,\\u003cbr\\u003e    \\\"forecast_distribution\\\": \\\"distr_trunc_normal\\\",\\u003cbr\\u003e    \\\"perform_batching\\\": true,\\u003cbr\\u003e    \\\"batch_size\\\": 128,\\u003cbr\\u003e    \\\"epochs\\\": 269\\u003cbr\\u003e  }\\u003cbr\\u003e}\",\"{\\u003cbr\\u003e  \\\"number\\\": 34,\\u003cbr\\u003e  \\\"values\\\": [\\u003cbr\\u003e    3.559202194213867,\\u003cbr\\u003e    0.19323212653398514\\u003cbr\\u003e  ],\\u003cbr\\u003e  \\\"params\\\": {\\u003cbr\\u003e    \\\"chain_function_mean\\\": 14.516646773619645,\\u003cbr\\u003e    \\\"chain_function_std\\\": 0.0008532717086658874,\\u003cbr\\u003e    \\\"chain_function_constant\\\": 0.00013053316755875323,\\u003cbr\\u003e    \\\"optimizer\\\": \\\"Adam\\\",\\u003cbr\\u003e    \\\"learning_rate\\\": 0.0002661964439924912,\\u003cbr\\u003e    \\\"forecast_distribution\\\": \\\"distr_trunc_normal\\\",\\u003cbr\\u003e    \\\"perform_batching\\\": true,\\u003cbr\\u003e    \\\"batch_size\\\": 128,\\u003cbr\\u003e    \\\"epochs\\\": 279\\u003cbr\\u003e  }\\u003cbr\\u003e}\",\"{\\u003cbr\\u003e  \\\"number\\\": 35,\\u003cbr\\u003e  \\\"values\\\": [\\u003cbr\\u003e    2.710324466228485,\\u003cbr\\u003e    0.1801108494400978\\u003cbr\\u003e  ],\\u003cbr\\u003e  \\\"params\\\": {\\u003cbr\\u003e    \\\"chain_function_mean\\\": 11.902279776628218,\\u003cbr\\u003e    \\\"chain_function_std\\\": 0.008580420749984418,\\u003cbr\\u003e    \\\"chain_function_constant\\\": 0.24697118668453513,\\u003cbr\\u003e    \\\"optimizer\\\": \\\"Adam\\\",\\u003cbr\\u003e    \\\"learning_rate\\\": 0.00042043849544187305,\\u003cbr\\u003e    \\\"forecast_distribution\\\": \\\"distr_trunc_normal\\\",\\u003cbr\\u003e    \\\"perform_batching\\\": true,\\u003cbr\\u003e    \\\"batch_size\\\": 128,\\u003cbr\\u003e    \\\"epochs\\\": 381\\u003cbr\\u003e  }\\u003cbr\\u003e}\",\"{\\u003cbr\\u003e  \\\"number\\\": 36,\\u003cbr\\u003e  \\\"values\\\": [\\u003cbr\\u003e    2.7086638808250427,\\u003cbr\\u003e    0.18021013587713242\\u003cbr\\u003e  ],\\u003cbr\\u003e  \\\"params\\\": {\\u003cbr\\u003e    \\\"chain_function_mean\\\": 6.656810234111182,\\u003cbr\\u003e    \\\"chain_function_std\\\": 0.002017015555979516,\\u003cbr\\u003e    \\\"chain_function_constant\\\": 0.7637300109522457,\\u003cbr\\u003e    \\\"optimizer\\\": \\\"Adam\\\",\\u003cbr\\u003e    \\\"learning_rate\\\": 0.0007173313215058371,\\u003cbr\\u003e    \\\"forecast_distribution\\\": \\\"distr_trunc_normal\\\",\\u003cbr\\u003e    \\\"perform_batching\\\": true,\\u003cbr\\u003e    \\\"batch_size\\\": 128,\\u003cbr\\u003e    \\\"epochs\\\": 222\\u003cbr\\u003e  }\\u003cbr\\u003e}\",\"{\\u003cbr\\u003e  \\\"number\\\": 37,\\u003cbr\\u003e  \\\"values\\\": [\\u003cbr\\u003e    4.160776615142822,\\u003cbr\\u003e    0.204006165266037\\u003cbr\\u003e  ],\\u003cbr\\u003e  \\\"params\\\": {\\u003cbr\\u003e    \\\"chain_function_mean\\\": 14.888166598164922,\\u003cbr\\u003e    \\\"chain_function_std\\\": 0.15265064472419898,\\u003cbr\\u003e    \\\"chain_function_constant\\\": 1.5998194173025635e-05,\\u003cbr\\u003e    \\\"optimizer\\\": \\\"Adam\\\",\\u003cbr\\u003e    \\\"learning_rate\\\": 0.0004984635311728094,\\u003cbr\\u003e    \\\"forecast_distribution\\\": \\\"distr_mixture\\\",\\u003cbr\\u003e    \\\"distribution_1\\\": \\\"distr_trunc_normal\\\",\\u003cbr\\u003e    \\\"distribution_2\\\": \\\"distr_gev\\\",\\u003cbr\\u003e    \\\"perform_batching\\\": true,\\u003cbr\\u003e    \\\"batch_size\\\": 128,\\u003cbr\\u003e    \\\"epochs\\\": 312\\u003cbr\\u003e  }\\u003cbr\\u003e}\",\"{\\u003cbr\\u003e  \\\"number\\\": 38,\\u003cbr\\u003e  \\\"values\\\": [\\u003cbr\\u003e    2.722476303577423,\\u003cbr\\u003e    0.18093814700841904\\u003cbr\\u003e  ],\\u003cbr\\u003e  \\\"params\\\": {\\u003cbr\\u003e    \\\"chain_function_mean\\\": 11.298937413432196,\\u003cbr\\u003e    \\\"chain_function_std\\\": 0.048592095973926525,\\u003cbr\\u003e    \\\"chain_function_constant\\\": 0.18518350731410022,\\u003cbr\\u003e    \\\"optimizer\\\": \\\"Adam\\\",\\u003cbr\\u003e    \\\"learning_rate\\\": 0.0002885122481223993,\\u003cbr\\u003e    \\\"forecast_distribution\\\": \\\"distr_log_normal\\\",\\u003cbr\\u003e    \\\"perform_batching\\\": true,\\u003cbr\\u003e    \\\"batch_size\\\": 128,\\u003cbr\\u003e    \\\"epochs\\\": 271\\u003cbr\\u003e  }\\u003cbr\\u003e}\",\"{\\u003cbr\\u003e  \\\"number\\\": 39,\\u003cbr\\u003e  \\\"values\\\": [\\u003cbr\\u003e    9.872849941253662,\\u003cbr\\u003e    0.3013862185180187\\u003cbr\\u003e  ],\\u003cbr\\u003e  \\\"params\\\": {\\u003cbr\\u003e    \\\"chain_function_mean\\\": 4.610509126450495,\\u003cbr\\u003e    \\\"chain_function_std\\\": 1.526947969457224,\\u003cbr\\u003e    \\\"chain_function_constant\\\": 0.008895543536327256,\\u003cbr\\u003e    \\\"optimizer\\\": \\\"Adam\\\",\\u003cbr\\u003e    \\\"learning_rate\\\": 0.0001769659774930297,\\u003cbr\\u003e    \\\"forecast_distribution\\\": \\\"distr_trunc_normal\\\",\\u003cbr\\u003e    \\\"perform_batching\\\": false,\\u003cbr\\u003e    \\\"epochs\\\": 182\\u003cbr\\u003e  }\\u003cbr\\u003e}\",\"{\\u003cbr\\u003e  \\\"number\\\": 40,\\u003cbr\\u003e  \\\"values\\\": [\\u003cbr\\u003e    2.8216095566749573,\\u003cbr\\u003e    0.17792407795786858\\u003cbr\\u003e  ],\\u003cbr\\u003e  \\\"params\\\": {\\u003cbr\\u003e    \\\"chain_function_mean\\\": 9.295510900883679,\\u003cbr\\u003e    \\\"chain_function_std\\\": 0.7405279129371941,\\u003cbr\\u003e    \\\"chain_function_constant\\\": 8.967404388622808e-05,\\u003cbr\\u003e    \\\"optimizer\\\": \\\"Adam\\\",\\u003cbr\\u003e    \\\"learning_rate\\\": 0.001972206194570844,\\u003cbr\\u003e    \\\"forecast_distribution\\\": \\\"distr_trunc_normal\\\",\\u003cbr\\u003e    \\\"perform_batching\\\": true,\\u003cbr\\u003e    \\\"batch_size\\\": 128,\\u003cbr\\u003e    \\\"epochs\\\": 254\\u003cbr\\u003e  }\\u003cbr\\u003e}\",\"{\\u003cbr\\u003e  \\\"number\\\": 41,\\u003cbr\\u003e  \\\"values\\\": [\\u003cbr\\u003e    2.7417330145835876,\\u003cbr\\u003e    0.1784018538892269\\u003cbr\\u003e  ],\\u003cbr\\u003e  \\\"params\\\": {\\u003cbr\\u003e    \\\"chain_function_mean\\\": 9.003602626306296,\\u003cbr\\u003e    \\\"chain_function_std\\\": 2.8153878110701513,\\u003cbr\\u003e    \\\"chain_function_constant\\\": 0.0002701356249901794,\\u003cbr\\u003e    \\\"optimizer\\\": \\\"Adam\\\",\\u003cbr\\u003e    \\\"learning_rate\\\": 0.003140937676345873,\\u003cbr\\u003e    \\\"forecast_distribution\\\": \\\"distr_trunc_normal\\\",\\u003cbr\\u003e    \\\"perform_batching\\\": true,\\u003cbr\\u003e    \\\"batch_size\\\": 128,\\u003cbr\\u003e    \\\"epochs\\\": 261\\u003cbr\\u003e  }\\u003cbr\\u003e}\",\"{\\u003cbr\\u003e  \\\"number\\\": 42,\\u003cbr\\u003e  \\\"values\\\": [\\u003cbr\\u003e    9.154417753219604,\\u003cbr\\u003e    0.30080437660217285\\u003cbr\\u003e  ],\\u003cbr\\u003e  \\\"params\\\": {\\u003cbr\\u003e    \\\"chain_function_mean\\\": -3.723696474924429,\\u003cbr\\u003e    \\\"chain_function_std\\\": 3.509669265883265,\\u003cbr\\u003e    \\\"chain_function_constant\\\": 0.00028217727723517497,\\u003cbr\\u003e    \\\"optimizer\\\": \\\"SGD\\\",\\u003cbr\\u003e    \\\"learning_rate\\\": 0.0033354603702919713,\\u003cbr\\u003e    \\\"forecast_distribution\\\": \\\"distr_trunc_normal\\\",\\u003cbr\\u003e    \\\"perform_batching\\\": false,\\u003cbr\\u003e    \\\"epochs\\\": 224\\u003cbr\\u003e  }\\u003cbr\\u003e}\",\"{\\u003cbr\\u003e  \\\"number\\\": 43,\\u003cbr\\u003e  \\\"values\\\": [\\u003cbr\\u003e    2.7313432693481445,\\u003cbr\\u003e    0.18551310151815414\\u003cbr\\u003e  ],\\u003cbr\\u003e  \\\"params\\\": {\\u003cbr\\u003e    \\\"chain_function_mean\\\": 7.190016445499221,\\u003cbr\\u003e    \\\"chain_function_std\\\": 3.481014033833056,\\u003cbr\\u003e    \\\"chain_function_constant\\\": 0.0022682442063423416,\\u003cbr\\u003e    \\\"optimizer\\\": \\\"Adam\\\",\\u003cbr\\u003e    \\\"learning_rate\\\": 0.03131767628527161,\\u003cbr\\u003e    \\\"forecast_distribution\\\": \\\"distr_mixture_linear\\\",\\u003cbr\\u003e    \\\"distribution_1\\\": \\\"distr_trunc_normal\\\",\\u003cbr\\u003e    \\\"distribution_2\\\": \\\"distr_gev\\\",\\u003cbr\\u003e    \\\"perform_batching\\\": true,\\u003cbr\\u003e    \\\"batch_size\\\": 32,\\u003cbr\\u003e    \\\"epochs\\\": 292\\u003cbr\\u003e  }\\u003cbr\\u003e}\",\"{\\u003cbr\\u003e  \\\"number\\\": 44,\\u003cbr\\u003e  \\\"values\\\": [\\u003cbr\\u003e    2.712631583213806,\\u003cbr\\u003e    0.18171465769410133\\u003cbr\\u003e  ],\\u003cbr\\u003e  \\\"params\\\": {\\u003cbr\\u003e    \\\"chain_function_mean\\\": 0.29584064011888866,\\u003cbr\\u003e    \\\"chain_function_std\\\": 1.3344231021424866,\\u003cbr\\u003e    \\\"chain_function_constant\\\": 0.0001744761934047865,\\u003cbr\\u003e    \\\"optimizer\\\": \\\"Adam\\\",\\u003cbr\\u003e    \\\"learning_rate\\\": 0.0013246706592001467,\\u003cbr\\u003e    \\\"forecast_distribution\\\": \\\"distr_gev\\\",\\u003cbr\\u003e    \\\"perform_batching\\\": true,\\u003cbr\\u003e    \\\"batch_size\\\": 1024,\\u003cbr\\u003e    \\\"epochs\\\": 500\\u003cbr\\u003e  }\\u003cbr\\u003e}\",\"{\\u003cbr\\u003e  \\\"number\\\": 45,\\u003cbr\\u003e  \\\"values\\\": [\\u003cbr\\u003e    2.716261148452759,\\u003cbr\\u003e    0.18121807649731636\\u003cbr\\u003e  ],\\u003cbr\\u003e  \\\"params\\\": {\\u003cbr\\u003e    \\\"chain_function_mean\\\": -1.9999817274795735,\\u003cbr\\u003e    \\\"chain_function_std\\\": 9.900007242073144,\\u003cbr\\u003e    \\\"chain_function_constant\\\": 0.0004807466688223968,\\u003cbr\\u003e    \\\"optimizer\\\": \\\"Adam\\\",\\u003cbr\\u003e    \\\"learning_rate\\\": 0.009349752676990739,\\u003cbr\\u003e    \\\"forecast_distribution\\\": \\\"distr_mixture\\\",\\u003cbr\\u003e    \\\"distribution_1\\\": \\\"distr_trunc_normal\\\",\\u003cbr\\u003e    \\\"distribution_2\\\": \\\"distr_gev\\\",\\u003cbr\\u003e    \\\"perform_batching\\\": true,\\u003cbr\\u003e    \\\"batch_size\\\": 128,\\u003cbr\\u003e    \\\"epochs\\\": 323\\u003cbr\\u003e  }\\u003cbr\\u003e}\",\"{\\u003cbr\\u003e  \\\"number\\\": 46,\\u003cbr\\u003e  \\\"values\\\": [\\u003cbr\\u003e    11.561511516571045,\\u003cbr\\u003e    0.3012460172176361\\u003cbr\\u003e  ],\\u003cbr\\u003e  \\\"params\\\": {\\u003cbr\\u003e    \\\"chain_function_mean\\\": 4.416903945811047,\\u003cbr\\u003e    \\\"chain_function_std\\\": 0.392533744662121,\\u003cbr\\u003e    \\\"chain_function_constant\\\": 0.000651349595378835,\\u003cbr\\u003e    \\\"optimizer\\\": \\\"SGD\\\",\\u003cbr\\u003e    \\\"learning_rate\\\": 0.0029022831261545897,\\u003cbr\\u003e    \\\"forecast_distribution\\\": \\\"distr_log_normal\\\",\\u003cbr\\u003e    \\\"perform_batching\\\": false,\\u003cbr\\u003e    \\\"epochs\\\": 127\\u003cbr\\u003e  }\\u003cbr\\u003e}\",\"{\\u003cbr\\u003e  \\\"number\\\": 47,\\u003cbr\\u003e  \\\"values\\\": [\\u003cbr\\u003e    2.7097208499908447,\\u003cbr\\u003e    0.17972959950566292\\u003cbr\\u003e  ],\\u003cbr\\u003e  \\\"params\\\": {\\u003cbr\\u003e    \\\"chain_function_mean\\\": 5.780882602452529,\\u003cbr\\u003e    \\\"chain_function_std\\\": 3.8102072044536834,\\u003cbr\\u003e    \\\"chain_function_constant\\\": 1.9715938418806834e-05,\\u003cbr\\u003e    \\\"optimizer\\\": \\\"Adam\\\",\\u003cbr\\u003e    \\\"learning_rate\\\": 0.005373162265266414,\\u003cbr\\u003e    \\\"forecast_distribution\\\": \\\"distr_trunc_normal\\\",\\u003cbr\\u003e    \\\"perform_batching\\\": true,\\u003cbr\\u003e    \\\"batch_size\\\": 128,\\u003cbr\\u003e    \\\"epochs\\\": 261\\u003cbr\\u003e  }\\u003cbr\\u003e}\",\"{\\u003cbr\\u003e  \\\"number\\\": 48,\\u003cbr\\u003e  \\\"values\\\": [\\u003cbr\\u003e    3.257739782333374,\\u003cbr\\u003e    0.19533534348011017\\u003cbr\\u003e  ],\\u003cbr\\u003e  \\\"params\\\": {\\u003cbr\\u003e    \\\"chain_function_mean\\\": -3.6502635256201015,\\u003cbr\\u003e    \\\"chain_function_std\\\": 2.204003554836899,\\u003cbr\\u003e    \\\"chain_function_constant\\\": 0.0013508917772554112,\\u003cbr\\u003e    \\\"optimizer\\\": \\\"Adam\\\",\\u003cbr\\u003e    \\\"learning_rate\\\": 0.0009389960363456353,\\u003cbr\\u003e    \\\"forecast_distribution\\\": \\\"distr_trunc_normal\\\",\\u003cbr\\u003e    \\\"perform_batching\\\": true,\\u003cbr\\u003e    \\\"batch_size\\\": 1024,\\u003cbr\\u003e    \\\"epochs\\\": 218\\u003cbr\\u003e  }\\u003cbr\\u003e}\",\"{\\u003cbr\\u003e  \\\"number\\\": 49,\\u003cbr\\u003e  \\\"values\\\": [\\u003cbr\\u003e    2.787211775779724,\\u003cbr\\u003e    0.18803881108760834\\u003cbr\\u003e  ],\\u003cbr\\u003e  \\\"params\\\": {\\u003cbr\\u003e    \\\"chain_function_mean\\\": -1.6858721336810212,\\u003cbr\\u003e    \\\"chain_function_std\\\": 5.569114525421915,\\u003cbr\\u003e    \\\"chain_function_constant\\\": 0.006558323885324709,\\u003cbr\\u003e    \\\"optimizer\\\": \\\"SGD\\\",\\u003cbr\\u003e    \\\"learning_rate\\\": 0.09172022404456802,\\u003cbr\\u003e    \\\"forecast_distribution\\\": \\\"distr_trunc_normal\\\",\\u003cbr\\u003e    \\\"perform_batching\\\": false,\\u003cbr\\u003e    \\\"epochs\\\": 183\\u003cbr\\u003e  }\\u003cbr\\u003e}\",\"{\\u003cbr\\u003e  \\\"number\\\": 50,\\u003cbr\\u003e  \\\"values\\\": [\\u003cbr\\u003e    3.0351170897483826,\\u003cbr\\u003e    0.17757552862167358\\u003cbr\\u003e  ],\\u003cbr\\u003e  \\\"params\\\": {\\u003cbr\\u003e    \\\"chain_function_mean\\\": 11.881624131563795,\\u003cbr\\u003e    \\\"chain_function_std\\\": 1.1647043495929712,\\u003cbr\\u003e    \\\"chain_function_constant\\\": 8.256142521312025e-05,\\u003cbr\\u003e    \\\"optimizer\\\": \\\"Adam\\\",\\u003cbr\\u003e    \\\"learning_rate\\\": 0.005036368017960842,\\u003cbr\\u003e    \\\"forecast_distribution\\\": \\\"distr_trunc_normal\\\",\\u003cbr\\u003e    \\\"perform_batching\\\": true,\\u003cbr\\u003e    \\\"batch_size\\\": 128,\\u003cbr\\u003e    \\\"epochs\\\": 264\\u003cbr\\u003e  }\\u003cbr\\u003e}\",\"{\\u003cbr\\u003e  \\\"number\\\": 51,\\u003cbr\\u003e  \\\"values\\\": [\\u003cbr\\u003e    3.041444778442383,\\u003cbr\\u003e    0.1778937354683876\\u003cbr\\u003e  ],\\u003cbr\\u003e  \\\"params\\\": {\\u003cbr\\u003e    \\\"chain_function_mean\\\": 11.621917128947272,\\u003cbr\\u003e    \\\"chain_function_std\\\": 1.0743901425599707,\\u003cbr\\u003e    \\\"chain_function_constant\\\": 2.1782597986679765e-05,\\u003cbr\\u003e    \\\"optimizer\\\": \\\"Adam\\\",\\u003cbr\\u003e    \\\"learning_rate\\\": 0.004146764333199188,\\u003cbr\\u003e    \\\"forecast_distribution\\\": \\\"distr_trunc_normal\\\",\\u003cbr\\u003e    \\\"perform_batching\\\": true,\\u003cbr\\u003e    \\\"batch_size\\\": 128,\\u003cbr\\u003e    \\\"epochs\\\": 262\\u003cbr\\u003e  }\\u003cbr\\u003e}\",\"{\\u003cbr\\u003e  \\\"number\\\": 52,\\u003cbr\\u003e  \\\"values\\\": [\\u003cbr\\u003e    2.8117628693580627,\\u003cbr\\u003e    0.1799292042851448\\u003cbr\\u003e  ],\\u003cbr\\u003e  \\\"params\\\": {\\u003cbr\\u003e    \\\"chain_function_mean\\\": 13.111191332968959,\\u003cbr\\u003e    \\\"chain_function_std\\\": 3.366420489297056,\\u003cbr\\u003e    \\\"chain_function_constant\\\": 9.985360187915689e-05,\\u003cbr\\u003e    \\\"optimizer\\\": \\\"Adam\\\",\\u003cbr\\u003e    \\\"learning_rate\\\": 0.008661288691457856,\\u003cbr\\u003e    \\\"forecast_distribution\\\": \\\"distr_trunc_normal\\\",\\u003cbr\\u003e    \\\"perform_batching\\\": true,\\u003cbr\\u003e    \\\"batch_size\\\": 128,\\u003cbr\\u003e    \\\"epochs\\\": 297\\u003cbr\\u003e  }\\u003cbr\\u003e}\",\"{\\u003cbr\\u003e  \\\"number\\\": 53,\\u003cbr\\u003e  \\\"values\\\": [\\u003cbr\\u003e    2.869038701057434,\\u003cbr\\u003e    0.17856911569833755\\u003cbr\\u003e  ],\\u003cbr\\u003e  \\\"params\\\": {\\u003cbr\\u003e    \\\"chain_function_mean\\\": 9.597020878755286,\\u003cbr\\u003e    \\\"chain_function_std\\\": 0.5971834075574216,\\u003cbr\\u003e    \\\"chain_function_constant\\\": 6.107203372590895e-05,\\u003cbr\\u003e    \\\"optimizer\\\": \\\"Adam\\\",\\u003cbr\\u003e    \\\"learning_rate\\\": 0.004857679040167723,\\u003cbr\\u003e    \\\"forecast_distribution\\\": \\\"distr_trunc_normal\\\",\\u003cbr\\u003e    \\\"perform_batching\\\": true,\\u003cbr\\u003e    \\\"batch_size\\\": 128,\\u003cbr\\u003e    \\\"epochs\\\": 234\\u003cbr\\u003e  }\\u003cbr\\u003e}\",\"{\\u003cbr\\u003e  \\\"number\\\": 54,\\u003cbr\\u003e  \\\"values\\\": [\\u003cbr\\u003e    3.0315831899642944,\\u003cbr\\u003e    0.1770503930747509\\u003cbr\\u003e  ],\\u003cbr\\u003e  \\\"params\\\": {\\u003cbr\\u003e    \\\"chain_function_mean\\\": 12.199492901614367,\\u003cbr\\u003e    \\\"chain_function_std\\\": 1.329734286646739,\\u003cbr\\u003e    \\\"chain_function_constant\\\": 6.649897768876984e-05,\\u003cbr\\u003e    \\\"optimizer\\\": \\\"Adam\\\",\\u003cbr\\u003e    \\\"learning_rate\\\": 0.0076268631346109814,\\u003cbr\\u003e    \\\"forecast_distribution\\\": \\\"distr_trunc_normal\\\",\\u003cbr\\u003e    \\\"perform_batching\\\": true,\\u003cbr\\u003e    \\\"batch_size\\\": 128,\\u003cbr\\u003e    \\\"epochs\\\": 324\\u003cbr\\u003e  }\\u003cbr\\u003e}\",\"{\\u003cbr\\u003e  \\\"number\\\": 55,\\u003cbr\\u003e  \\\"values\\\": [\\u003cbr\\u003e    3.1919878721237183,\\u003cbr\\u003e    0.18332720547914505\\u003cbr\\u003e  ],\\u003cbr\\u003e  \\\"params\\\": {\\u003cbr\\u003e    \\\"chain_function_mean\\\": 12.595901303840797,\\u003cbr\\u003e    \\\"chain_function_std\\\": 0.24550653421311186,\\u003cbr\\u003e    \\\"chain_function_constant\\\": 1.0247649759336376e-05,\\u003cbr\\u003e    \\\"optimizer\\\": \\\"Adam\\\",\\u003cbr\\u003e    \\\"learning_rate\\\": 0.027112290363681835,\\u003cbr\\u003e    \\\"forecast_distribution\\\": \\\"distr_trunc_normal\\\",\\u003cbr\\u003e    \\\"perform_batching\\\": true,\\u003cbr\\u003e    \\\"batch_size\\\": 128,\\u003cbr\\u003e    \\\"epochs\\\": 382\\u003cbr\\u003e  }\\u003cbr\\u003e}\",\"{\\u003cbr\\u003e  \\\"number\\\": 56,\\u003cbr\\u003e  \\\"values\\\": [\\u003cbr\\u003e    3.52398943901062,\\u003cbr\\u003e    0.19447871297597885\\u003cbr\\u003e  ],\\u003cbr\\u003e  \\\"params\\\": {\\u003cbr\\u003e    \\\"chain_function_mean\\\": 13.900952776197332,\\u003cbr\\u003e    \\\"chain_function_std\\\": 0.6525865245374846,\\u003cbr\\u003e    \\\"chain_function_constant\\\": 2.225948560279072e-05,\\u003cbr\\u003e    \\\"optimizer\\\": \\\"Adam\\\",\\u003cbr\\u003e    \\\"learning_rate\\\": 0.06149937008524027,\\u003cbr\\u003e    \\\"forecast_distribution\\\": \\\"distr_trunc_normal\\\",\\u003cbr\\u003e    \\\"perform_batching\\\": true,\\u003cbr\\u003e    \\\"batch_size\\\": 256,\\u003cbr\\u003e    \\\"epochs\\\": 405\\u003cbr\\u003e  }\\u003cbr\\u003e}\",\"{\\u003cbr\\u003e  \\\"number\\\": 57,\\u003cbr\\u003e  \\\"values\\\": [\\u003cbr\\u003e    2.7979244589805603,\\u003cbr\\u003e    0.1791129745543003\\u003cbr\\u003e  ],\\u003cbr\\u003e  \\\"params\\\": {\\u003cbr\\u003e    \\\"chain_function_mean\\\": 11.153742349025437,\\u003cbr\\u003e    \\\"chain_function_std\\\": 2.5232032618574185,\\u003cbr\\u003e    \\\"chain_function_constant\\\": 0.00016904567914954334,\\u003cbr\\u003e    \\\"optimizer\\\": \\\"Adam\\\",\\u003cbr\\u003e    \\\"learning_rate\\\": 0.00010506475305309502,\\u003cbr\\u003e    \\\"forecast_distribution\\\": \\\"distr_mixture\\\",\\u003cbr\\u003e    \\\"distribution_1\\\": \\\"distr_gev\\\",\\u003cbr\\u003e    \\\"distribution_2\\\": \\\"distr_log_normal\\\",\\u003cbr\\u003e    \\\"perform_batching\\\": true,\\u003cbr\\u003e    \\\"batch_size\\\": 32,\\u003cbr\\u003e    \\\"epochs\\\": 336\\u003cbr\\u003e  }\\u003cbr\\u003e}\",\"{\\u003cbr\\u003e  \\\"number\\\": 58,\\u003cbr\\u003e  \\\"values\\\": [\\u003cbr\\u003e    3.1855068802833557,\\u003cbr\\u003e    0.18584440276026726\\u003cbr\\u003e  ],\\u003cbr\\u003e  \\\"params\\\": {\\u003cbr\\u003e    \\\"chain_function_mean\\\": 12.552648420428309,\\u003cbr\\u003e    \\\"chain_function_std\\\": 1.501473065177978,\\u003cbr\\u003e    \\\"chain_function_constant\\\": 5.3354313084462237e-05,\\u003cbr\\u003e    \\\"optimizer\\\": \\\"Adam\\\",\\u003cbr\\u003e    \\\"learning_rate\\\": 0.03941201429366007,\\u003cbr\\u003e    \\\"forecast_distribution\\\": \\\"distr_gev\\\",\\u003cbr\\u003e    \\\"perform_batching\\\": true,\\u003cbr\\u003e    \\\"batch_size\\\": 512,\\u003cbr\\u003e    \\\"epochs\\\": 361\\u003cbr\\u003e  }\\u003cbr\\u003e}\",\"{\\u003cbr\\u003e  \\\"number\\\": 59,\\u003cbr\\u003e  \\\"values\\\": [\\u003cbr\\u003e    2.851145565509796,\\u003cbr\\u003e    0.17946646362543106\\u003cbr\\u003e  ],\\u003cbr\\u003e  \\\"params\\\": {\\u003cbr\\u003e    \\\"chain_function_mean\\\": 8.425543046135243,\\u003cbr\\u003e    \\\"chain_function_std\\\": 0.23961019322736068,\\u003cbr\\u003e    \\\"chain_function_constant\\\": 0.00044694658465757196,\\u003cbr\\u003e    \\\"optimizer\\\": \\\"Adam\\\",\\u003cbr\\u003e    \\\"learning_rate\\\": 0.008110459967417407,\\u003cbr\\u003e    \\\"forecast_distribution\\\": \\\"distr_mixture_linear\\\",\\u003cbr\\u003e    \\\"distribution_1\\\": \\\"distr_log_normal\\\",\\u003cbr\\u003e    \\\"distribution_2\\\": \\\"distr_trunc_normal\\\",\\u003cbr\\u003e    \\\"perform_batching\\\": true,\\u003cbr\\u003e    \\\"batch_size\\\": 128,\\u003cbr\\u003e    \\\"epochs\\\": 381\\u003cbr\\u003e  }\\u003cbr\\u003e}\",\"{\\u003cbr\\u003e  \\\"number\\\": 61,\\u003cbr\\u003e  \\\"values\\\": [\\u003cbr\\u003e    11.646679401397705,\\u003cbr\\u003e    0.301001712679863\\u003cbr\\u003e  ],\\u003cbr\\u003e  \\\"params\\\": {\\u003cbr\\u003e    \\\"chain_function_mean\\\": 8.784788027238651,\\u003cbr\\u003e    \\\"chain_function_std\\\": 0.8531788453189313,\\u003cbr\\u003e    \\\"chain_function_constant\\\": 0.0002529415469706046,\\u003cbr\\u003e    \\\"optimizer\\\": \\\"SGD\\\",\\u003cbr\\u003e    \\\"learning_rate\\\": 0.0858530910068446,\\u003cbr\\u003e    \\\"forecast_distribution\\\": \\\"distr_log_normal\\\",\\u003cbr\\u003e    \\\"perform_batching\\\": false,\\u003cbr\\u003e    \\\"epochs\\\": 299\\u003cbr\\u003e  }\\u003cbr\\u003e}\",\"{\\u003cbr\\u003e  \\\"number\\\": 62,\\u003cbr\\u003e  \\\"values\\\": [\\u003cbr\\u003e    7.592499256134033,\\u003cbr\\u003e    0.29395490884780884\\u003cbr\\u003e  ],\\u003cbr\\u003e  \\\"params\\\": {\\u003cbr\\u003e    \\\"chain_function_mean\\\": 7.016526172502608,\\u003cbr\\u003e    \\\"chain_function_std\\\": 0.003676980640255586,\\u003cbr\\u003e    \\\"chain_function_constant\\\": 0.0005206961432286028,\\u003cbr\\u003e    \\\"optimizer\\\": \\\"SGD\\\",\\u003cbr\\u003e    \\\"learning_rate\\\": 0.024595690190317116,\\u003cbr\\u003e    \\\"forecast_distribution\\\": \\\"distr_mixture_linear\\\",\\u003cbr\\u003e    \\\"distribution_1\\\": \\\"distr_trunc_normal\\\",\\u003cbr\\u003e    \\\"distribution_2\\\": \\\"distr_gev\\\",\\u003cbr\\u003e    \\\"perform_batching\\\": false,\\u003cbr\\u003e    \\\"epochs\\\": 308\\u003cbr\\u003e  }\\u003cbr\\u003e}\",\"{\\u003cbr\\u003e  \\\"number\\\": 63,\\u003cbr\\u003e  \\\"values\\\": [\\u003cbr\\u003e    5.892446279525757,\\u003cbr\\u003e    0.3181852102279663\\u003cbr\\u003e  ],\\u003cbr\\u003e  \\\"params\\\": {\\u003cbr\\u003e    \\\"chain_function_mean\\\": 6.085868290820297,\\u003cbr\\u003e    \\\"chain_function_std\\\": 6.871879116230903,\\u003cbr\\u003e    \\\"chain_function_constant\\\": 0.002010057159178468,\\u003cbr\\u003e    \\\"optimizer\\\": \\\"SGD\\\",\\u003cbr\\u003e    \\\"learning_rate\\\": 0.011990169170800133,\\u003cbr\\u003e    \\\"forecast_distribution\\\": \\\"distr_gev\\\",\\u003cbr\\u003e    \\\"perform_batching\\\": false,\\u003cbr\\u003e    \\\"epochs\\\": 290\\u003cbr\\u003e  }\\u003cbr\\u003e}\",\"{\\u003cbr\\u003e  \\\"number\\\": 64,\\u003cbr\\u003e  \\\"values\\\": [\\u003cbr\\u003e    2.869210720062256,\\u003cbr\\u003e    0.17762825265526772\\u003cbr\\u003e  ],\\u003cbr\\u003e  \\\"params\\\": {\\u003cbr\\u003e    \\\"chain_function_mean\\\": 9.448121965144338,\\u003cbr\\u003e    \\\"chain_function_std\\\": 0.00011680319222954649,\\u003cbr\\u003e    \\\"chain_function_constant\\\": 0.001008766625168047,\\u003cbr\\u003e    \\\"optimizer\\\": \\\"Adam\\\",\\u003cbr\\u003e    \\\"learning_rate\\\": 0.036810589599220324,\\u003cbr\\u003e    \\\"forecast_distribution\\\": \\\"distr_mixture\\\",\\u003cbr\\u003e    \\\"distribution_1\\\": \\\"distr_log_normal\\\",\\u003cbr\\u003e    \\\"distribution_2\\\": \\\"distr_trunc_normal\\\",\\u003cbr\\u003e    \\\"perform_batching\\\": true,\\u003cbr\\u003e    \\\"batch_size\\\": 128,\\u003cbr\\u003e    \\\"epochs\\\": 266\\u003cbr\\u003e  }\\u003cbr\\u003e}\",\"{\\u003cbr\\u003e  \\\"number\\\": 65,\\u003cbr\\u003e  \\\"values\\\": [\\u003cbr\\u003e    4.491639852523804,\\u003cbr\\u003e    0.1983233466744423\\u003cbr\\u003e  ],\\u003cbr\\u003e  \\\"params\\\": {\\u003cbr\\u003e    \\\"chain_function_mean\\\": 14.150399116602802,\\u003cbr\\u003e    \\\"chain_function_std\\\": 0.0008977886271834937,\\u003cbr\\u003e    \\\"chain_function_constant\\\": 0.0001453328134740706,\\u003cbr\\u003e    \\\"optimizer\\\": \\\"Adam\\\",\\u003cbr\\u003e    \\\"learning_rate\\\": 0.019732708756603462,\\u003cbr\\u003e    \\\"forecast_distribution\\\": \\\"distr_log_normal\\\",\\u003cbr\\u003e    \\\"perform_batching\\\": true,\\u003cbr\\u003e    \\\"batch_size\\\": 32,\\u003cbr\\u003e    \\\"epochs\\\": 280\\u003cbr\\u003e  }\\u003cbr\\u003e}\",\"{\\u003cbr\\u003e  \\\"number\\\": 66,\\u003cbr\\u003e  \\\"values\\\": [\\u003cbr\\u003e    9.791269540786743,\\u003cbr\\u003e    0.30173320695757866\\u003cbr\\u003e  ],\\u003cbr\\u003e  \\\"params\\\": {\\u003cbr\\u003e    \\\"chain_function_mean\\\": 9.887851467914269,\\u003cbr\\u003e    \\\"chain_function_std\\\": 1.8345498201724835,\\u003cbr\\u003e    \\\"chain_function_constant\\\": 9.843488240808248e-05,\\u003cbr\\u003e    \\\"optimizer\\\": \\\"SGD\\\",\\u003cbr\\u003e    \\\"learning_rate\\\": 0.05414055907201862,\\u003cbr\\u003e    \\\"forecast_distribution\\\": \\\"distr_trunc_normal\\\",\\u003cbr\\u003e    \\\"perform_batching\\\": false,\\u003cbr\\u003e    \\\"epochs\\\": 328\\u003cbr\\u003e  }\\u003cbr\\u003e}\",\"{\\u003cbr\\u003e  \\\"number\\\": 67,\\u003cbr\\u003e  \\\"values\\\": [\\u003cbr\\u003e    2.712471604347229,\\u003cbr\\u003e    0.17971305549144745\\u003cbr\\u003e  ],\\u003cbr\\u003e  \\\"params\\\": {\\u003cbr\\u003e    \\\"chain_function_mean\\\": 7.48747843174213,\\u003cbr\\u003e    \\\"chain_function_std\\\": 4.455557296311494,\\u003cbr\\u003e    \\\"chain_function_constant\\\": 0.0004089547179793198,\\u003cbr\\u003e    \\\"optimizer\\\": \\\"Adam\\\",\\u003cbr\\u003e    \\\"learning_rate\\\": 0.012727206248024007,\\u003cbr\\u003e    \\\"forecast_distribution\\\": \\\"distr_trunc_normal\\\",\\u003cbr\\u003e    \\\"perform_batching\\\": true,\\u003cbr\\u003e    \\\"batch_size\\\": 1024,\\u003cbr\\u003e    \\\"epochs\\\": 310\\u003cbr\\u003e  }\\u003cbr\\u003e}\",\"{\\u003cbr\\u003e  \\\"number\\\": 68,\\u003cbr\\u003e  \\\"values\\\": [\\u003cbr\\u003e    2.7253670692443848,\\u003cbr\\u003e    0.17977959290146828\\u003cbr\\u003e  ],\\u003cbr\\u003e  \\\"params\\\": {\\u003cbr\\u003e    \\\"chain_function_mean\\\": 5.9666949533874325,\\u003cbr\\u003e    \\\"chain_function_std\\\": 2.7212811284828438,\\u003cbr\\u003e    \\\"chain_function_constant\\\": 0.00021749971902001897,\\u003cbr\\u003e    \\\"optimizer\\\": \\\"Adam\\\",\\u003cbr\\u003e    \\\"learning_rate\\\": 0.03704254910947077,\\u003cbr\\u003e    \\\"forecast_distribution\\\": \\\"distr_trunc_normal\\\",\\u003cbr\\u003e    \\\"perform_batching\\\": true,\\u003cbr\\u003e    \\\"batch_size\\\": 256,\\u003cbr\\u003e    \\\"epochs\\\": 358\\u003cbr\\u003e  }\\u003cbr\\u003e}\",\"{\\u003cbr\\u003e  \\\"number\\\": 69,\\u003cbr\\u003e  \\\"values\\\": [\\u003cbr\\u003e    2.7376953959465027,\\u003cbr\\u003e    0.18249138072133064\\u003cbr\\u003e  ],\\u003cbr\\u003e  \\\"params\\\": {\\u003cbr\\u003e    \\\"chain_function_mean\\\": 11.200602771621623,\\u003cbr\\u003e    \\\"chain_function_std\\\": 7.2273859330895,\\u003cbr\\u003e    \\\"chain_function_constant\\\": 0.0006327445692194254,\\u003cbr\\u003e    \\\"optimizer\\\": \\\"Adam\\\",\\u003cbr\\u003e    \\\"learning_rate\\\": 0.07233991872118883,\\u003cbr\\u003e    \\\"forecast_distribution\\\": \\\"distr_log_normal\\\",\\u003cbr\\u003e    \\\"perform_batching\\\": true,\\u003cbr\\u003e    \\\"batch_size\\\": 512,\\u003cbr\\u003e    \\\"epochs\\\": 255\\u003cbr\\u003e  }\\u003cbr\\u003e}\",\"{\\u003cbr\\u003e  \\\"number\\\": 70,\\u003cbr\\u003e  \\\"values\\\": [\\u003cbr\\u003e    2.7729315757751465,\\u003cbr\\u003e    0.17843223735690117\\u003cbr\\u003e  ],\\u003cbr\\u003e  \\\"params\\\": {\\u003cbr\\u003e    \\\"chain_function_mean\\\": 8.845243830976894,\\u003cbr\\u003e    \\\"chain_function_std\\\": 1.7577753074735336,\\u003cbr\\u003e    \\\"chain_function_constant\\\": 0.0012968668143959964,\\u003cbr\\u003e    \\\"optimizer\\\": \\\"Adam\\\",\\u003cbr\\u003e    \\\"learning_rate\\\": 0.0023525963370434476,\\u003cbr\\u003e    \\\"forecast_distribution\\\": \\\"distr_trunc_normal\\\",\\u003cbr\\u003e    \\\"perform_batching\\\": true,\\u003cbr\\u003e    \\\"batch_size\\\": 128,\\u003cbr\\u003e    \\\"epochs\\\": 242\\u003cbr\\u003e  }\\u003cbr\\u003e}\",\"{\\u003cbr\\u003e  \\\"number\\\": 71,\\u003cbr\\u003e  \\\"values\\\": [\\u003cbr\\u003e    9.914034843444824,\\u003cbr\\u003e    0.30129194259643555\\u003cbr\\u003e  ],\\u003cbr\\u003e  \\\"params\\\": {\\u003cbr\\u003e    \\\"chain_function_mean\\\": 6.5526115856977425,\\u003cbr\\u003e    \\\"chain_function_std\\\": 3.4288281893135797,\\u003cbr\\u003e    \\\"chain_function_constant\\\": 0.03484285008456916,\\u003cbr\\u003e    \\\"optimizer\\\": \\\"SGD\\\",\\u003cbr\\u003e    \\\"learning_rate\\\": 0.00111705514319503,\\u003cbr\\u003e    \\\"forecast_distribution\\\": \\\"distr_trunc_normal\\\",\\u003cbr\\u003e    \\\"perform_batching\\\": false,\\u003cbr\\u003e    \\\"epochs\\\": 273\\u003cbr\\u003e  }\\u003cbr\\u003e}\",\"{\\u003cbr\\u003e  \\\"number\\\": 72,\\u003cbr\\u003e  \\\"values\\\": [\\u003cbr\\u003e    2.7453086972236633,\\u003cbr\\u003e    0.1789550967514515\\u003cbr\\u003e  ],\\u003cbr\\u003e  \\\"params\\\": {\\u003cbr\\u003e    \\\"chain_function_mean\\\": 9.316355539662897,\\u003cbr\\u003e    \\\"chain_function_std\\\": 0.8686985266870408,\\u003cbr\\u003e    \\\"chain_function_constant\\\": 0.04193137605394362,\\u003cbr\\u003e    \\\"optimizer\\\": \\\"Adam\\\",\\u003cbr\\u003e    \\\"learning_rate\\\": 0.0014471065324864751,\\u003cbr\\u003e    \\\"forecast_distribution\\\": \\\"distr_gev\\\",\\u003cbr\\u003e    \\\"perform_batching\\\": true,\\u003cbr\\u003e    \\\"batch_size\\\": 128,\\u003cbr\\u003e    \\\"epochs\\\": 288\\u003cbr\\u003e  }\\u003cbr\\u003e}\",\"{\\u003cbr\\u003e  \\\"number\\\": 73,\\u003cbr\\u003e  \\\"values\\\": [\\u003cbr\\u003e    2.701168477535248,\\u003cbr\\u003e    0.17878421396017075\\u003cbr\\u003e  ],\\u003cbr\\u003e  \\\"params\\\": {\\u003cbr\\u003e    \\\"chain_function_mean\\\": 8.145216272635377,\\u003cbr\\u003e    \\\"chain_function_std\\\": 7.913397737903944,\\u003cbr\\u003e    \\\"chain_function_constant\\\": 0.00010370746942155904,\\u003cbr\\u003e    \\\"optimizer\\\": \\\"Adam\\\",\\u003cbr\\u003e    \\\"learning_rate\\\": 0.011093586363027527,\\u003cbr\\u003e    \\\"forecast_distribution\\\": \\\"distr_mixture_linear\\\",\\u003cbr\\u003e    \\\"distribution_1\\\": \\\"distr_trunc_normal\\\",\\u003cbr\\u003e    \\\"distribution_2\\\": \\\"distr_gev\\\",\\u003cbr\\u003e    \\\"perform_batching\\\": true,\\u003cbr\\u003e    \\\"batch_size\\\": 128,\\u003cbr\\u003e    \\\"epochs\\\": 315\\u003cbr\\u003e  }\\u003cbr\\u003e}\",\"{\\u003cbr\\u003e  \\\"number\\\": 74,\\u003cbr\\u003e  \\\"values\\\": [\\u003cbr\\u003e    9951513313017858.0,\\u003cbr\\u003e    10.0\\u003cbr\\u003e  ],\\u003cbr\\u003e  \\\"params\\\": {\\u003cbr\\u003e    \\\"chain_function_mean\\\": 7.858317404339937,\\u003cbr\\u003e    \\\"chain_function_std\\\": 0.00011439138190686483,\\u003cbr\\u003e    \\\"chain_function_constant\\\": 9.791226314960639e-05,\\u003cbr\\u003e    \\\"optimizer\\\": \\\"Adam\\\",\\u003cbr\\u003e    \\\"learning_rate\\\": 0.019649078135596982,\\u003cbr\\u003e    \\\"forecast_distribution\\\": \\\"distr_mixture_linear\\\",\\u003cbr\\u003e    \\\"distribution_1\\\": \\\"distr_trunc_normal\\\",\\u003cbr\\u003e    \\\"distribution_2\\\": \\\"distr_gev\\\",\\u003cbr\\u003e    \\\"perform_batching\\\": true,\\u003cbr\\u003e    \\\"batch_size\\\": 128,\\u003cbr\\u003e    \\\"epochs\\\": 372\\u003cbr\\u003e  }\\u003cbr\\u003e}\",\"{\\u003cbr\\u003e  \\\"number\\\": 76,\\u003cbr\\u003e  \\\"values\\\": [\\u003cbr\\u003e    2.9602457880973816,\\u003cbr\\u003e    0.17854370549321175\\u003cbr\\u003e  ],\\u003cbr\\u003e  \\\"params\\\": {\\u003cbr\\u003e    \\\"chain_function_mean\\\": 12.167446337529775,\\u003cbr\\u003e    \\\"chain_function_std\\\": 0.01202415031519622,\\u003cbr\\u003e    \\\"chain_function_constant\\\": 0.0008285320415085917,\\u003cbr\\u003e    \\\"optimizer\\\": \\\"Adam\\\",\\u003cbr\\u003e    \\\"learning_rate\\\": 0.006651137441805893,\\u003cbr\\u003e    \\\"forecast_distribution\\\": \\\"distr_mixture_linear\\\",\\u003cbr\\u003e    \\\"distribution_1\\\": \\\"distr_trunc_normal\\\",\\u003cbr\\u003e    \\\"distribution_2\\\": \\\"distr_gev\\\",\\u003cbr\\u003e    \\\"perform_batching\\\": true,\\u003cbr\\u003e    \\\"batch_size\\\": 128,\\u003cbr\\u003e    \\\"epochs\\\": 320\\u003cbr\\u003e  }\\u003cbr\\u003e}\",\"{\\u003cbr\\u003e  \\\"number\\\": 77,\\u003cbr\\u003e  \\\"values\\\": [\\u003cbr\\u003e    2.7031825184822083,\\u003cbr\\u003e    0.17908001318573952\\u003cbr\\u003e  ],\\u003cbr\\u003e  \\\"params\\\": {\\u003cbr\\u003e    \\\"chain_function_mean\\\": 11.201176935851986,\\u003cbr\\u003e    \\\"chain_function_std\\\": 7.3587880280475515,\\u003cbr\\u003e    \\\"chain_function_constant\\\": 0.000272342628908597,\\u003cbr\\u003e    \\\"optimizer\\\": \\\"Adam\\\",\\u003cbr\\u003e    \\\"learning_rate\\\": 0.010962685797105033,\\u003cbr\\u003e    \\\"forecast_distribution\\\": \\\"distr_mixture_linear\\\",\\u003cbr\\u003e    \\\"distribution_1\\\": \\\"distr_trunc_normal\\\",\\u003cbr\\u003e    \\\"distribution_2\\\": \\\"distr_gev\\\",\\u003cbr\\u003e    \\\"perform_batching\\\": true,\\u003cbr\\u003e    \\\"batch_size\\\": 128,\\u003cbr\\u003e    \\\"epochs\\\": 329\\u003cbr\\u003e  }\\u003cbr\\u003e}\",\"{\\u003cbr\\u003e  \\\"number\\\": 78,\\u003cbr\\u003e  \\\"values\\\": [\\u003cbr\\u003e    8.563292503356934,\\u003cbr\\u003e    0.29542822390794754\\u003cbr\\u003e  ],\\u003cbr\\u003e  \\\"params\\\": {\\u003cbr\\u003e    \\\"chain_function_mean\\\": 9.756851405134965,\\u003cbr\\u003e    \\\"chain_function_std\\\": 0.0005589684633672883,\\u003cbr\\u003e    \\\"chain_function_constant\\\": 0.0010280278739163984,\\u003cbr\\u003e    \\\"optimizer\\\": \\\"SGD\\\",\\u003cbr\\u003e    \\\"learning_rate\\\": 0.01094233821301924,\\u003cbr\\u003e    \\\"forecast_distribution\\\": \\\"distr_mixture_linear\\\",\\u003cbr\\u003e    \\\"distribution_1\\\": \\\"distr_trunc_normal\\\",\\u003cbr\\u003e    \\\"distribution_2\\\": \\\"distr_gev\\\",\\u003cbr\\u003e    \\\"perform_batching\\\": false,\\u003cbr\\u003e    \\\"epochs\\\": 333\\u003cbr\\u003e  }\\u003cbr\\u003e}\",\"{\\u003cbr\\u003e  \\\"number\\\": 79,\\u003cbr\\u003e  \\\"values\\\": [\\u003cbr\\u003e    10.28159499168396,\\u003cbr\\u003e    0.3002767451107502\\u003cbr\\u003e  ],\\u003cbr\\u003e  \\\"params\\\": {\\u003cbr\\u003e    \\\"chain_function_mean\\\": 10.941930133066174,\\u003cbr\\u003e    \\\"chain_function_std\\\": 1.2750118651501172,\\u003cbr\\u003e    \\\"chain_function_constant\\\": 0.0003282313036165111,\\u003cbr\\u003e    \\\"optimizer\\\": \\\"SGD\\\",\\u003cbr\\u003e    \\\"learning_rate\\\": 0.03356651346350924,\\u003cbr\\u003e    \\\"forecast_distribution\\\": \\\"distr_mixture\\\",\\u003cbr\\u003e    \\\"distribution_1\\\": \\\"distr_log_normal\\\",\\u003cbr\\u003e    \\\"distribution_2\\\": \\\"distr_trunc_normal\\\",\\u003cbr\\u003e    \\\"perform_batching\\\": false,\\u003cbr\\u003e    \\\"epochs\\\": 302\\u003cbr\\u003e  }\\u003cbr\\u003e}\",\"{\\u003cbr\\u003e  \\\"number\\\": 80,\\u003cbr\\u003e  \\\"values\\\": [\\u003cbr\\u003e    2.9764585494995117,\\u003cbr\\u003e    0.18248679861426353\\u003cbr\\u003e  ],\\u003cbr\\u003e  \\\"params\\\": {\\u003cbr\\u003e    \\\"chain_function_mean\\\": 9.388978928478316,\\u003cbr\\u003e    \\\"chain_function_std\\\": 0.7526176570640518,\\u003cbr\\u003e    \\\"chain_function_constant\\\": 6.514956992941442e-05,\\u003cbr\\u003e    \\\"optimizer\\\": \\\"Adam\\\",\\u003cbr\\u003e    \\\"learning_rate\\\": 0.020114021961192628,\\u003cbr\\u003e    \\\"forecast_distribution\\\": \\\"distr_mixture_linear\\\",\\u003cbr\\u003e    \\\"distribution_1\\\": \\\"distr_gev\\\",\\u003cbr\\u003e    \\\"distribution_2\\\": \\\"distr_log_normal\\\",\\u003cbr\\u003e    \\\"perform_batching\\\": true,\\u003cbr\\u003e    \\\"batch_size\\\": 128,\\u003cbr\\u003e    \\\"epochs\\\": 315\\u003cbr\\u003e  }\\u003cbr\\u003e}\",\"{\\u003cbr\\u003e  \\\"number\\\": 81,\\u003cbr\\u003e  \\\"values\\\": [\\u003cbr\\u003e    2.803935468196869,\\u003cbr\\u003e    0.1820959635078907\\u003cbr\\u003e  ],\\u003cbr\\u003e  \\\"params\\\": {\\u003cbr\\u003e    \\\"chain_function_mean\\\": 11.974412217190967,\\u003cbr\\u003e    \\\"chain_function_std\\\": 0.004576035508072865,\\u003cbr\\u003e    \\\"chain_function_constant\\\": 0.0002294264143053158,\\u003cbr\\u003e    \\\"optimizer\\\": \\\"Adam\\\",\\u003cbr\\u003e    \\\"learning_rate\\\": 0.028130518245767483,\\u003cbr\\u003e    \\\"forecast_distribution\\\": \\\"distr_mixture_linear\\\",\\u003cbr\\u003e    \\\"distribution_1\\\": \\\"distr_trunc_normal\\\",\\u003cbr\\u003e    \\\"distribution_2\\\": \\\"distr_gev\\\",\\u003cbr\\u003e    \\\"perform_batching\\\": true,\\u003cbr\\u003e    \\\"batch_size\\\": 32,\\u003cbr\\u003e    \\\"epochs\\\": 421\\u003cbr\\u003e  }\\u003cbr\\u003e}\",\"{\\u003cbr\\u003e  \\\"number\\\": 82,\\u003cbr\\u003e  \\\"values\\\": [\\u003cbr\\u003e    3.2241461873054504,\\u003cbr\\u003e    0.17833564430475235\\u003cbr\\u003e  ],\\u003cbr\\u003e  \\\"params\\\": {\\u003cbr\\u003e    \\\"chain_function_mean\\\": 11.476222870321056,\\u003cbr\\u003e    \\\"chain_function_std\\\": 0.0001469106072585473,\\u003cbr\\u003e    \\\"chain_function_constant\\\": 8.396658295058223e-05,\\u003cbr\\u003e    \\\"optimizer\\\": \\\"Adam\\\",\\u003cbr\\u003e    \\\"learning_rate\\\": 0.008115627917603119,\\u003cbr\\u003e    \\\"forecast_distribution\\\": \\\"distr_mixture\\\",\\u003cbr\\u003e    \\\"distribution_1\\\": \\\"distr_log_normal\\\",\\u003cbr\\u003e    \\\"distribution_2\\\": \\\"distr_trunc_normal\\\",\\u003cbr\\u003e    \\\"perform_batching\\\": true,\\u003cbr\\u003e    \\\"batch_size\\\": 512,\\u003cbr\\u003e    \\\"epochs\\\": 391\\u003cbr\\u003e  }\\u003cbr\\u003e}\",\"{\\u003cbr\\u003e  \\\"number\\\": 83,\\u003cbr\\u003e  \\\"values\\\": [\\u003cbr\\u003e    9.414665460586548,\\u003cbr\\u003e    0.2951228767633438\\u003cbr\\u003e  ],\\u003cbr\\u003e  \\\"params\\\": {\\u003cbr\\u003e    \\\"chain_function_mean\\\": 11.009546776460601,\\u003cbr\\u003e    \\\"chain_function_std\\\": 1.930270298139132,\\u003cbr\\u003e    \\\"chain_function_constant\\\": 0.0001371835266911711,\\u003cbr\\u003e    \\\"optimizer\\\": \\\"SGD\\\",\\u003cbr\\u003e    \\\"learning_rate\\\": 0.014942603157212476,\\u003cbr\\u003e    \\\"forecast_distribution\\\": \\\"distr_mixture_linear\\\",\\u003cbr\\u003e    \\\"distribution_1\\\": \\\"distr_gev\\\",\\u003cbr\\u003e    \\\"distribution_2\\\": \\\"distr_log_normal\\\",\\u003cbr\\u003e    \\\"perform_batching\\\": false,\\u003cbr\\u003e    \\\"epochs\\\": 465\\u003cbr\\u003e  }\\u003cbr\\u003e}\",\"{\\u003cbr\\u003e  \\\"number\\\": 84,\\u003cbr\\u003e  \\\"values\\\": [\\u003cbr\\u003e    2.724461555480957,\\u003cbr\\u003e    0.1793186515569687\\u003cbr\\u003e  ],\\u003cbr\\u003e  \\\"params\\\": {\\u003cbr\\u003e    \\\"chain_function_mean\\\": 9.433439121296503,\\u003cbr\\u003e    \\\"chain_function_std\\\": 4.560661211707546,\\u003cbr\\u003e    \\\"chain_function_constant\\\": 0.000530592230355869,\\u003cbr\\u003e    \\\"optimizer\\\": \\\"Adam\\\",\\u003cbr\\u003e    \\\"learning_rate\\\": 0.003345608619766191,\\u003cbr\\u003e    \\\"forecast_distribution\\\": \\\"distr_mixture\\\",\\u003cbr\\u003e    \\\"distribution_1\\\": \\\"distr_trunc_normal\\\",\\u003cbr\\u003e    \\\"distribution_2\\\": \\\"distr_gev\\\",\\u003cbr\\u003e    \\\"perform_batching\\\": true,\\u003cbr\\u003e    \\\"batch_size\\\": 256,\\u003cbr\\u003e    \\\"epochs\\\": 348\\u003cbr\\u003e  }\\u003cbr\\u003e}\",\"{\\u003cbr\\u003e  \\\"number\\\": 85,\\u003cbr\\u003e  \\\"values\\\": [\\u003cbr\\u003e    2.8436564207077026,\\u003cbr\\u003e    0.17859472706913948\\u003cbr\\u003e  ],\\u003cbr\\u003e  \\\"params\\\": {\\u003cbr\\u003e    \\\"chain_function_mean\\\": 8.323359404920435,\\u003cbr\\u003e    \\\"chain_function_std\\\": 0.03992506920485803,\\u003cbr\\u003e    \\\"chain_function_constant\\\": 0.00019542833746028952,\\u003cbr\\u003e    \\\"optimizer\\\": \\\"Adam\\\",\\u003cbr\\u003e    \\\"learning_rate\\\": 0.04532397718163491,\\u003cbr\\u003e    \\\"forecast_distribution\\\": \\\"distr_log_normal\\\",\\u003cbr\\u003e    \\\"perform_batching\\\": true,\\u003cbr\\u003e    \\\"batch_size\\\": 1024,\\u003cbr\\u003e    \\\"epochs\\\": 284\\u003cbr\\u003e  }\\u003cbr\\u003e}\",\"{\\u003cbr\\u003e  \\\"number\\\": 86,\\u003cbr\\u003e  \\\"values\\\": [\\u003cbr\\u003e    2.796791911125183,\\u003cbr\\u003e    0.17816290631890297\\u003cbr\\u003e  ],\\u003cbr\\u003e  \\\"params\\\": {\\u003cbr\\u003e    \\\"chain_function_mean\\\": 10.061053019978182,\\u003cbr\\u003e    \\\"chain_function_std\\\": 2.8185385897785658,\\u003cbr\\u003e    \\\"chain_function_constant\\\": 0.0003176705885410628,\\u003cbr\\u003e    \\\"optimizer\\\": \\\"Adam\\\",\\u003cbr\\u003e    \\\"learning_rate\\\": 0.007498939970807041,\\u003cbr\\u003e    \\\"forecast_distribution\\\": \\\"distr_gev\\\",\\u003cbr\\u003e    \\\"perform_batching\\\": true,\\u003cbr\\u003e    \\\"batch_size\\\": 128,\\u003cbr\\u003e    \\\"epochs\\\": 304\\u003cbr\\u003e  }\\u003cbr\\u003e}\",\"{\\u003cbr\\u003e  \\\"number\\\": 87,\\u003cbr\\u003e  \\\"values\\\": [\\u003cbr\\u003e    10.319738864898682,\\u003cbr\\u003e    0.3003442883491516\\u003cbr\\u003e  ],\\u003cbr\\u003e  \\\"params\\\": {\\u003cbr\\u003e    \\\"chain_function_mean\\\": 12.464982842970366,\\u003cbr\\u003e    \\\"chain_function_std\\\": 0.9975043793153419,\\u003cbr\\u003e    \\\"chain_function_constant\\\": 4.5106701933849314e-05,\\u003cbr\\u003e    \\\"optimizer\\\": \\\"SGD\\\",\\u003cbr\\u003e    \\\"learning_rate\\\": 0.011959069109636443,\\u003cbr\\u003e    \\\"forecast_distribution\\\": \\\"distr_mixture_linear\\\",\\u003cbr\\u003e    \\\"distribution_1\\\": \\\"distr_log_normal\\\",\\u003cbr\\u003e    \\\"distribution_2\\\": \\\"distr_trunc_normal\\\",\\u003cbr\\u003e    \\\"perform_batching\\\": false,\\u003cbr\\u003e    \\\"epochs\\\": 323\\u003cbr\\u003e  }\\u003cbr\\u003e}\",\"{\\u003cbr\\u003e  \\\"number\\\": 88,\\u003cbr\\u003e  \\\"values\\\": [\\u003cbr\\u003e    2.7876790165901184,\\u003cbr\\u003e    0.17865020781755447\\u003cbr\\u003e  ],\\u003cbr\\u003e  \\\"params\\\": {\\u003cbr\\u003e    \\\"chain_function_mean\\\": 9.160833224378091,\\u003cbr\\u003e    \\\"chain_function_std\\\": 1.7317050278352588,\\u003cbr\\u003e    \\\"chain_function_constant\\\": 2.987943496104289e-05,\\u003cbr\\u003e    \\\"optimizer\\\": \\\"Adam\\\",\\u003cbr\\u003e    \\\"learning_rate\\\": 0.00962833496648563,\\u003cbr\\u003e    \\\"forecast_distribution\\\": \\\"distr_trunc_normal\\\",\\u003cbr\\u003e    \\\"perform_batching\\\": true,\\u003cbr\\u003e    \\\"batch_size\\\": 128,\\u003cbr\\u003e    \\\"epochs\\\": 297\\u003cbr\\u003e  }\\u003cbr\\u003e}\",\"{\\u003cbr\\u003e  \\\"number\\\": 89,\\u003cbr\\u003e  \\\"values\\\": [\\u003cbr\\u003e    2.8032538890838623,\\u003cbr\\u003e    0.18137653917074203\\u003cbr\\u003e  ],\\u003cbr\\u003e  \\\"params\\\": {\\u003cbr\\u003e    \\\"chain_function_mean\\\": 13.057121551990914,\\u003cbr\\u003e    \\\"chain_function_std\\\": 0.34502917753144663,\\u003cbr\\u003e    \\\"chain_function_constant\\\": 0.004996796614047085,\\u003cbr\\u003e    \\\"optimizer\\\": \\\"Adam\\\",\\u003cbr\\u003e    \\\"learning_rate\\\": 0.003571236034195931,\\u003cbr\\u003e    \\\"forecast_distribution\\\": \\\"distr_mixture_linear\\\",\\u003cbr\\u003e    \\\"distribution_1\\\": \\\"distr_gev\\\",\\u003cbr\\u003e    \\\"distribution_2\\\": \\\"distr_log_normal\\\",\\u003cbr\\u003e    \\\"perform_batching\\\": true,\\u003cbr\\u003e    \\\"batch_size\\\": 128,\\u003cbr\\u003e    \\\"epochs\\\": 494\\u003cbr\\u003e  }\\u003cbr\\u003e}\",\"{\\u003cbr\\u003e  \\\"number\\\": 90,\\u003cbr\\u003e  \\\"values\\\": [\\u003cbr\\u003e    2.929397225379944,\\u003cbr\\u003e    0.1799728162586689\\u003cbr\\u003e  ],\\u003cbr\\u003e  \\\"params\\\": {\\u003cbr\\u003e    \\\"chain_function_mean\\\": 9.761708247858243,\\u003cbr\\u003e    \\\"chain_function_std\\\": 0.07210191178434884,\\u003cbr\\u003e    \\\"chain_function_constant\\\": 0.00037396035316928825,\\u003cbr\\u003e    \\\"optimizer\\\": \\\"Adam\\\",\\u003cbr\\u003e    \\\"learning_rate\\\": 0.006947408405078556,\\u003cbr\\u003e    \\\"forecast_distribution\\\": \\\"distr_gev\\\",\\u003cbr\\u003e    \\\"perform_batching\\\": true,\\u003cbr\\u003e    \\\"batch_size\\\": 128,\\u003cbr\\u003e    \\\"epochs\\\": 331\\u003cbr\\u003e  }\\u003cbr\\u003e}\",\"{\\u003cbr\\u003e  \\\"number\\\": 91,\\u003cbr\\u003e  \\\"values\\\": [\\u003cbr\\u003e    2.755766451358795,\\u003cbr\\u003e    0.17812320590019226\\u003cbr\\u003e  ],\\u003cbr\\u003e  \\\"params\\\": {\\u003cbr\\u003e    \\\"chain_function_mean\\\": 9.980189548409856,\\u003cbr\\u003e    \\\"chain_function_std\\\": 2.973266100744477,\\u003cbr\\u003e    \\\"chain_function_constant\\\": 7.831723751585956e-05,\\u003cbr\\u003e    \\\"optimizer\\\": \\\"Adam\\\",\\u003cbr\\u003e    \\\"learning_rate\\\": 0.007646663824106346,\\u003cbr\\u003e    \\\"forecast_distribution\\\": \\\"distr_trunc_normal\\\",\\u003cbr\\u003e    \\\"perform_batching\\\": true,\\u003cbr\\u003e    \\\"batch_size\\\": 128,\\u003cbr\\u003e    \\\"epochs\\\": 301\\u003cbr\\u003e  }\\u003cbr\\u003e}\",\"{\\u003cbr\\u003e  \\\"number\\\": 92,\\u003cbr\\u003e  \\\"values\\\": [\\u003cbr\\u003e    9.968915939331055,\\u003cbr\\u003e    0.3011695332825184\\u003cbr\\u003e  ],\\u003cbr\\u003e  \\\"params\\\": {\\u003cbr\\u003e    \\\"chain_function_mean\\\": 11.527904724932167,\\u003cbr\\u003e    \\\"chain_function_std\\\": 0.0011865807226086253,\\u003cbr\\u003e    \\\"chain_function_constant\\\": 0.00011570509797709857,\\u003cbr\\u003e    \\\"optimizer\\\": \\\"SGD\\\",\\u003cbr\\u003e    \\\"learning_rate\\\": 0.017204444681903033,\\u003cbr\\u003e    \\\"forecast_distribution\\\": \\\"distr_trunc_normal\\\",\\u003cbr\\u003e    \\\"perform_batching\\\": false,\\u003cbr\\u003e    \\\"epochs\\\": 290\\u003cbr\\u003e  }\\u003cbr\\u003e}\",\"{\\u003cbr\\u003e  \\\"number\\\": 93,\\u003cbr\\u003e  \\\"values\\\": [\\u003cbr\\u003e    3.0574503540992737,\\u003cbr\\u003e    0.18306727707386017\\u003cbr\\u003e  ],\\u003cbr\\u003e  \\\"params\\\": {\\u003cbr\\u003e    \\\"chain_function_mean\\\": 10.718211031248268,\\u003cbr\\u003e    \\\"chain_function_std\\\": 0.00019329476513519082,\\u003cbr\\u003e    \\\"chain_function_constant\\\": 0.0001626358376620245,\\u003cbr\\u003e    \\\"optimizer\\\": \\\"Adam\\\",\\u003cbr\\u003e    \\\"learning_rate\\\": 0.021731208948354785,\\u003cbr\\u003e    \\\"forecast_distribution\\\": \\\"distr_mixture\\\",\\u003cbr\\u003e    \\\"distribution_1\\\": \\\"distr_trunc_normal\\\",\\u003cbr\\u003e    \\\"distribution_2\\\": \\\"distr_gev\\\",\\u003cbr\\u003e    \\\"perform_batching\\\": true,\\u003cbr\\u003e    \\\"batch_size\\\": 32,\\u003cbr\\u003e    \\\"epochs\\\": 260\\u003cbr\\u003e  }\\u003cbr\\u003e}\",\"{\\u003cbr\\u003e  \\\"number\\\": 94,\\u003cbr\\u003e  \\\"values\\\": [\\u003cbr\\u003e    2.7878864407539368,\\u003cbr\\u003e    0.17977550998330116\\u003cbr\\u003e  ],\\u003cbr\\u003e  \\\"params\\\": {\\u003cbr\\u003e    \\\"chain_function_mean\\\": 12.146379431728231,\\u003cbr\\u003e    \\\"chain_function_std\\\": 0.0005418435859847338,\\u003cbr\\u003e    \\\"chain_function_constant\\\": 0.014132567086805558,\\u003cbr\\u003e    \\\"optimizer\\\": \\\"Adam\\\",\\u003cbr\\u003e    \\\"learning_rate\\\": 0.010487739585038177,\\u003cbr\\u003e    \\\"forecast_distribution\\\": \\\"distr_log_normal\\\",\\u003cbr\\u003e    \\\"perform_batching\\\": true,\\u003cbr\\u003e    \\\"batch_size\\\": 1024,\\u003cbr\\u003e    \\\"epochs\\\": 277\\u003cbr\\u003e  }\\u003cbr\\u003e}\",\"{\\u003cbr\\u003e  \\\"number\\\": 95,\\u003cbr\\u003e  \\\"values\\\": [\\u003cbr\\u003e    9.955462455749512,\\u003cbr\\u003e    0.30129745230078697\\u003cbr\\u003e  ],\\u003cbr\\u003e  \\\"params\\\": {\\u003cbr\\u003e    \\\"chain_function_mean\\\": 10.191666217342261,\\u003cbr\\u003e    \\\"chain_function_std\\\": 2.847976643662644,\\u003cbr\\u003e    \\\"chain_function_constant\\\": 0.0006913612511774697,\\u003cbr\\u003e    \\\"optimizer\\\": \\\"SGD\\\",\\u003cbr\\u003e    \\\"learning_rate\\\": 0.002340173778037554,\\u003cbr\\u003e    \\\"forecast_distribution\\\": \\\"distr_trunc_normal\\\",\\u003cbr\\u003e    \\\"perform_batching\\\": false,\\u003cbr\\u003e    \\\"epochs\\\": 315\\u003cbr\\u003e  }\\u003cbr\\u003e}\",\"{\\u003cbr\\u003e  \\\"number\\\": 96,\\u003cbr\\u003e  \\\"values\\\": [\\u003cbr\\u003e    2.923154652118683,\\u003cbr\\u003e    0.1799013651907444\\u003cbr\\u003e  ],\\u003cbr\\u003e  \\\"params\\\": {\\u003cbr\\u003e    \\\"chain_function_mean\\\": 10.926469333465203,\\u003cbr\\u003e    \\\"chain_function_std\\\": 1.242140584771716,\\u003cbr\\u003e    \\\"chain_function_constant\\\": 0.0002508662919256449,\\u003cbr\\u003e    \\\"optimizer\\\": \\\"Adam\\\",\\u003cbr\\u003e    \\\"learning_rate\\\": 0.013249927582952405,\\u003cbr\\u003e    \\\"forecast_distribution\\\": \\\"distr_trunc_normal\\\",\\u003cbr\\u003e    \\\"perform_batching\\\": true,\\u003cbr\\u003e    \\\"batch_size\\\": 256,\\u003cbr\\u003e    \\\"epochs\\\": 270\\u003cbr\\u003e  }\\u003cbr\\u003e}\",\"{\\u003cbr\\u003e  \\\"number\\\": 97,\\u003cbr\\u003e  \\\"values\\\": [\\u003cbr\\u003e    2.803644597530365,\\u003cbr\\u003e    0.17820372804999352\\u003cbr\\u003e  ],\\u003cbr\\u003e  \\\"params\\\": {\\u003cbr\\u003e    \\\"chain_function_mean\\\": 8.607954194598504,\\u003cbr\\u003e    \\\"chain_function_std\\\": 0.7194662362959526,\\u003cbr\\u003e    \\\"chain_function_constant\\\": 7.310474107249406e-05,\\u003cbr\\u003e    \\\"optimizer\\\": \\\"Adam\\\",\\u003cbr\\u003e    \\\"learning_rate\\\": 0.005956309495116038,\\u003cbr\\u003e    \\\"forecast_distribution\\\": \\\"distr_trunc_normal\\\",\\u003cbr\\u003e    \\\"perform_batching\\\": true,\\u003cbr\\u003e    \\\"batch_size\\\": 512,\\u003cbr\\u003e    \\\"epochs\\\": 475\\u003cbr\\u003e  }\\u003cbr\\u003e}\",\"{\\u003cbr\\u003e  \\\"number\\\": 98,\\u003cbr\\u003e  \\\"values\\\": [\\u003cbr\\u003e    3.151771128177643,\\u003cbr\\u003e    0.18164171278476715\\u003cbr\\u003e  ],\\u003cbr\\u003e  \\\"params\\\": {\\u003cbr\\u003e    \\\"chain_function_mean\\\": 13.610826186798525,\\u003cbr\\u003e    \\\"chain_function_std\\\": 0.518600108590806,\\u003cbr\\u003e    \\\"chain_function_constant\\\": 0.0010561795693029552,\\u003cbr\\u003e    \\\"optimizer\\\": \\\"Adam\\\",\\u003cbr\\u003e    \\\"learning_rate\\\": 0.031107586543628017,\\u003cbr\\u003e    \\\"forecast_distribution\\\": \\\"distr_trunc_normal\\\",\\u003cbr\\u003e    \\\"perform_batching\\\": true,\\u003cbr\\u003e    \\\"batch_size\\\": 128,\\u003cbr\\u003e    \\\"epochs\\\": 296\\u003cbr\\u003e  }\\u003cbr\\u003e}\",\"{\\u003cbr\\u003e  \\\"number\\\": 99,\\u003cbr\\u003e  \\\"values\\\": [\\u003cbr\\u003e    10.300528287887573,\\u003cbr\\u003e    0.3003297932446003\\u003cbr\\u003e  ],\\u003cbr\\u003e  \\\"params\\\": {\\u003cbr\\u003e    \\\"chain_function_mean\\\": 12.969673958877458,\\u003cbr\\u003e    \\\"chain_function_std\\\": 1.680107887540375,\\u003cbr\\u003e    \\\"chain_function_constant\\\": 0.0016492529738470288,\\u003cbr\\u003e    \\\"optimizer\\\": \\\"SGD\\\",\\u003cbr\\u003e    \\\"learning_rate\\\": 0.04592283527847497,\\u003cbr\\u003e    \\\"forecast_distribution\\\": \\\"distr_mixture\\\",\\u003cbr\\u003e    \\\"distribution_1\\\": \\\"distr_log_normal\\\",\\u003cbr\\u003e    \\\"distribution_2\\\": \\\"distr_trunc_normal\\\",\\u003cbr\\u003e    \\\"perform_batching\\\": false,\\u003cbr\\u003e    \\\"epochs\\\": 120\\u003cbr\\u003e  }\\u003cbr\\u003e}\",\"{\\u003cbr\\u003e  \\\"number\\\": 100,\\u003cbr\\u003e  \\\"values\\\": [\\u003cbr\\u003e    2.840678334236145,\\u003cbr\\u003e    0.18090004101395607\\u003cbr\\u003e  ],\\u003cbr\\u003e  \\\"params\\\": {\\u003cbr\\u003e    \\\"chain_function_mean\\\": 10.645570329922048,\\u003cbr\\u003e    \\\"chain_function_std\\\": 1.9759972901339626,\\u003cbr\\u003e    \\\"chain_function_constant\\\": 0.00015661247759435324,\\u003cbr\\u003e    \\\"optimizer\\\": \\\"Adam\\\",\\u003cbr\\u003e    \\\"learning_rate\\\": 0.02675754890206228,\\u003cbr\\u003e    \\\"forecast_distribution\\\": \\\"distr_trunc_normal\\\",\\u003cbr\\u003e    \\\"perform_batching\\\": true,\\u003cbr\\u003e    \\\"batch_size\\\": 128,\\u003cbr\\u003e    \\\"epochs\\\": 268\\u003cbr\\u003e  }\\u003cbr\\u003e}\",\"{\\u003cbr\\u003e  \\\"number\\\": 101,\\u003cbr\\u003e  \\\"values\\\": [\\u003cbr\\u003e    2.7283416986465454,\\u003cbr\\u003e    0.17959530279040337\\u003cbr\\u003e  ],\\u003cbr\\u003e  \\\"params\\\": {\\u003cbr\\u003e    \\\"chain_function_mean\\\": 11.783671039274926,\\u003cbr\\u003e    \\\"chain_function_std\\\": 4.845404124807995,\\u003cbr\\u003e    \\\"chain_function_constant\\\": 0.00012384747528056844,\\u003cbr\\u003e    \\\"optimizer\\\": \\\"Adam\\\",\\u003cbr\\u003e    \\\"learning_rate\\\": 0.01844044150078092,\\u003cbr\\u003e    \\\"forecast_distribution\\\": \\\"distr_trunc_normal\\\",\\u003cbr\\u003e    \\\"perform_batching\\\": true,\\u003cbr\\u003e    \\\"batch_size\\\": 128,\\u003cbr\\u003e    \\\"epochs\\\": 284\\u003cbr\\u003e  }\\u003cbr\\u003e}\",\"{\\u003cbr\\u003e  \\\"number\\\": 102,\\u003cbr\\u003e  \\\"values\\\": [\\u003cbr\\u003e    3.0322219729423523,\\u003cbr\\u003e    0.17781221866607666\\u003cbr\\u003e  ],\\u003cbr\\u003e  \\\"params\\\": {\\u003cbr\\u003e    \\\"chain_function_mean\\\": 9.119842305108996,\\u003cbr\\u003e    \\\"chain_function_std\\\": 1.1451475540273643,\\u003cbr\\u003e    \\\"chain_function_constant\\\": 0.00024617655463941406,\\u003cbr\\u003e    \\\"optimizer\\\": \\\"Adam\\\",\\u003cbr\\u003e    \\\"learning_rate\\\": 0.00449962352799353,\\u003cbr\\u003e    \\\"forecast_distribution\\\": \\\"distr_mixture_linear\\\",\\u003cbr\\u003e    \\\"distribution_1\\\": \\\"distr_gev\\\",\\u003cbr\\u003e    \\\"distribution_2\\\": \\\"distr_log_normal\\\",\\u003cbr\\u003e    \\\"perform_batching\\\": true,\\u003cbr\\u003e    \\\"batch_size\\\": 128,\\u003cbr\\u003e    \\\"epochs\\\": 305\\u003cbr\\u003e  }\\u003cbr\\u003e}\",\"{\\u003cbr\\u003e  \\\"number\\\": 103,\\u003cbr\\u003e  \\\"values\\\": [\\u003cbr\\u003e    2.745164215564728,\\u003cbr\\u003e    0.1855997033417225\\u003cbr\\u003e  ],\\u003cbr\\u003e  \\\"params\\\": {\\u003cbr\\u003e    \\\"chain_function_mean\\\": 12.25102096736533,\\u003cbr\\u003e    \\\"chain_function_std\\\": 7.3670386025709815,\\u003cbr\\u003e    \\\"chain_function_constant\\\": 0.0004483553690297197,\\u003cbr\\u003e    \\\"optimizer\\\": \\\"Adam\\\",\\u003cbr\\u003e    \\\"learning_rate\\\": 0.03988637852965464,\\u003cbr\\u003e    \\\"forecast_distribution\\\": \\\"distr_gev\\\",\\u003cbr\\u003e    \\\"perform_batching\\\": true,\\u003cbr\\u003e    \\\"batch_size\\\": 128,\\u003cbr\\u003e    \\\"epochs\\\": 157\\u003cbr\\u003e  }\\u003cbr\\u003e}\",\"{\\u003cbr\\u003e  \\\"number\\\": 104,\\u003cbr\\u003e  \\\"values\\\": [\\u003cbr\\u003e    3.4059996604919434,\\u003cbr\\u003e    0.17854765802621841\\u003cbr\\u003e  ],\\u003cbr\\u003e  \\\"params\\\": {\\u003cbr\\u003e    \\\"chain_function_mean\\\": 11.406841206253151,\\u003cbr\\u003e    \\\"chain_function_std\\\": 0.7065551397668725,\\u003cbr\\u003e    \\\"chain_function_constant\\\": 0.00011160582936836167,\\u003cbr\\u003e    \\\"optimizer\\\": \\\"Adam\\\",\\u003cbr\\u003e    \\\"learning_rate\\\": 0.008566056358914467,\\u003cbr\\u003e    \\\"forecast_distribution\\\": \\\"distr_log_normal\\\",\\u003cbr\\u003e    \\\"perform_batching\\\": true,\\u003cbr\\u003e    \\\"batch_size\\\": 128,\\u003cbr\\u003e    \\\"epochs\\\": 315\\u003cbr\\u003e  }\\u003cbr\\u003e}\",\"{\\u003cbr\\u003e  \\\"number\\\": 105,\\u003cbr\\u003e  \\\"values\\\": [\\u003cbr\\u003e    9.894656658172607,\\u003cbr\\u003e    0.3013542890548706\\u003cbr\\u003e  ],\\u003cbr\\u003e  \\\"params\\\": {\\u003cbr\\u003e    \\\"chain_function_mean\\\": 10.696688286311824,\\u003cbr\\u003e    \\\"chain_function_std\\\": 3.015540317434455,\\u003cbr\\u003e    \\\"chain_function_constant\\\": 0.0005598612660701662,\\u003cbr\\u003e    \\\"optimizer\\\": \\\"SGD\\\",\\u003cbr\\u003e    \\\"learning_rate\\\": 0.014525379863914807,\\u003cbr\\u003e    \\\"forecast_distribution\\\": \\\"distr_trunc_normal\\\",\\u003cbr\\u003e    \\\"perform_batching\\\": false,\\u003cbr\\u003e    \\\"epochs\\\": 326\\u003cbr\\u003e  }\\u003cbr\\u003e}\",\"{\\u003cbr\\u003e  \\\"number\\\": 106,\\u003cbr\\u003e  \\\"values\\\": [\\u003cbr\\u003e    2.7069219946861267,\\u003cbr\\u003e    0.1798439584672451\\u003cbr\\u003e  ],\\u003cbr\\u003e  \\\"params\\\": {\\u003cbr\\u003e    \\\"chain_function_mean\\\": 2.405043899305954,\\u003cbr\\u003e    \\\"chain_function_std\\\": 4.161238034324875,\\u003cbr\\u003e    \\\"chain_function_constant\\\": 0.424219623465808,\\u003cbr\\u003e    \\\"optimizer\\\": \\\"Adam\\\",\\u003cbr\\u003e    \\\"learning_rate\\\": 0.011565773963563921,\\u003cbr\\u003e    \\\"forecast_distribution\\\": \\\"distr_trunc_normal\\\",\\u003cbr\\u003e    \\\"perform_batching\\\": true,\\u003cbr\\u003e    \\\"batch_size\\\": 128,\\u003cbr\\u003e    \\\"epochs\\\": 348\\u003cbr\\u003e  }\\u003cbr\\u003e}\",\"{\\u003cbr\\u003e  \\\"number\\\": 107,\\u003cbr\\u003e  \\\"values\\\": [\\u003cbr\\u003e    2.747617781162262,\\u003cbr\\u003e    0.18057671934366226\\u003cbr\\u003e  ],\\u003cbr\\u003e  \\\"params\\\": {\\u003cbr\\u003e    \\\"chain_function_mean\\\": 3.83054807458699,\\u003cbr\\u003e    \\\"chain_function_std\\\": 0.0040114012720886905,\\u003cbr\\u003e    \\\"chain_function_constant\\\": 8.514942247881567e-05,\\u003cbr\\u003e    \\\"optimizer\\\": \\\"Adam\\\",\\u003cbr\\u003e    \\\"learning_rate\\\": 0.07949158634308087,\\u003cbr\\u003e    \\\"forecast_distribution\\\": \\\"distr_mixture_linear\\\",\\u003cbr\\u003e    \\\"distribution_1\\\": \\\"distr_trunc_normal\\\",\\u003cbr\\u003e    \\\"distribution_2\\\": \\\"distr_gev\\\",\\u003cbr\\u003e    \\\"perform_batching\\\": true,\\u003cbr\\u003e    \\\"batch_size\\\": 256,\\u003cbr\\u003e    \\\"epochs\\\": 453\\u003cbr\\u003e  }\\u003cbr\\u003e}\",\"{\\u003cbr\\u003e  \\\"number\\\": 108,\\u003cbr\\u003e  \\\"values\\\": [\\u003cbr\\u003e    2.7098857760429382,\\u003cbr\\u003e    0.18123814836144447\\u003cbr\\u003e  ],\\u003cbr\\u003e  \\\"params\\\": {\\u003cbr\\u003e    \\\"chain_function_mean\\\": 0.6304639269719479,\\u003cbr\\u003e    \\\"chain_function_std\\\": 1.4378432877854854,\\u003cbr\\u003e    \\\"chain_function_constant\\\": 0.00020474253655780147,\\u003cbr\\u003e    \\\"optimizer\\\": \\\"Adam\\\",\\u003cbr\\u003e    \\\"learning_rate\\\": 0.005776001410671412,\\u003cbr\\u003e    \\\"forecast_distribution\\\": \\\"distr_trunc_normal\\\",\\u003cbr\\u003e    \\\"perform_batching\\\": true,\\u003cbr\\u003e    \\\"batch_size\\\": 32,\\u003cbr\\u003e    \\\"epochs\\\": 296\\u003cbr\\u003e  }\\u003cbr\\u003e}\",\"{\\u003cbr\\u003e  \\\"number\\\": 109,\\u003cbr\\u003e  \\\"values\\\": [\\u003cbr\\u003e    9.75523829460144,\\u003cbr\\u003e    0.30186476185917854\\u003cbr\\u003e  ],\\u003cbr\\u003e  \\\"params\\\": {\\u003cbr\\u003e    \\\"chain_function_mean\\\": 9.973468100574577,\\u003cbr\\u003e    \\\"chain_function_std\\\": 2.234674635134515,\\u003cbr\\u003e    \\\"chain_function_constant\\\": 0.0003889009050325805,\\u003cbr\\u003e    \\\"optimizer\\\": \\\"SGD\\\",\\u003cbr\\u003e    \\\"learning_rate\\\": 0.05612854671637851,\\u003cbr\\u003e    \\\"forecast_distribution\\\": \\\"distr_trunc_normal\\\",\\u003cbr\\u003e    \\\"perform_batching\\\": false,\\u003cbr\\u003e    \\\"epochs\\\": 285\\u003cbr\\u003e  }\\u003cbr\\u003e}\",\"{\\u003cbr\\u003e  \\\"number\\\": 110,\\u003cbr\\u003e  \\\"values\\\": [\\u003cbr\\u003e    2.727758228778839,\\u003cbr\\u003e    0.1782992109656334\\u003cbr\\u003e  ],\\u003cbr\\u003e  \\\"params\\\": {\\u003cbr\\u003e    \\\"chain_function_mean\\\": 10.388574557585727,\\u003cbr\\u003e    \\\"chain_function_std\\\": 3.9555048877127272,\\u003cbr\\u003e    \\\"chain_function_constant\\\": 4.8683141629018715e-05,\\u003cbr\\u003e    \\\"optimizer\\\": \\\"Adam\\\",\\u003cbr\\u003e    \\\"learning_rate\\\": 0.005412290200740172,\\u003cbr\\u003e    \\\"forecast_distribution\\\": \\\"distr_trunc_normal\\\",\\u003cbr\\u003e    \\\"perform_batching\\\": true,\\u003cbr\\u003e    \\\"batch_size\\\": 128,\\u003cbr\\u003e    \\\"epochs\\\": 260\\u003cbr\\u003e  }\\u003cbr\\u003e}\",\"{\\u003cbr\\u003e  \\\"number\\\": 111,\\u003cbr\\u003e  \\\"values\\\": [\\u003cbr\\u003e    3.029498338699341,\\u003cbr\\u003e    0.1768028922379017\\u003cbr\\u003e  ],\\u003cbr\\u003e  \\\"params\\\": {\\u003cbr\\u003e    \\\"chain_function_mean\\\": 10.476086635899428,\\u003cbr\\u003e    \\\"chain_function_std\\\": 0.0004527967374576843,\\u003cbr\\u003e    \\\"chain_function_constant\\\": 0.0003022847132198365,\\u003cbr\\u003e    \\\"optimizer\\\": \\\"Adam\\\",\\u003cbr\\u003e    \\\"learning_rate\\\": 0.009471561992648573,\\u003cbr\\u003e    \\\"forecast_distribution\\\": \\\"distr_trunc_normal\\\",\\u003cbr\\u003e    \\\"perform_batching\\\": true,\\u003cbr\\u003e    \\\"batch_size\\\": 128,\\u003cbr\\u003e    \\\"epochs\\\": 276\\u003cbr\\u003e  }\\u003cbr\\u003e}\",\"{\\u003cbr\\u003e  \\\"number\\\": 112,\\u003cbr\\u003e  \\\"values\\\": [\\u003cbr\\u003e    2.942570388317108,\\u003cbr\\u003e    0.17946439236402512\\u003cbr\\u003e  ],\\u003cbr\\u003e  \\\"params\\\": {\\u003cbr\\u003e    \\\"chain_function_mean\\\": 10.34299528575711,\\u003cbr\\u003e    \\\"chain_function_std\\\": 0.013823228247922403,\\u003cbr\\u003e    \\\"chain_function_constant\\\": 0.000284795115295755,\\u003cbr\\u003e    \\\"optimizer\\\": \\\"Adam\\\",\\u003cbr\\u003e    \\\"learning_rate\\\": 0.014874951639244962,\\u003cbr\\u003e    \\\"forecast_distribution\\\": \\\"distr_mixture_linear\\\",\\u003cbr\\u003e    \\\"distribution_1\\\": \\\"distr_trunc_normal\\\",\\u003cbr\\u003e    \\\"distribution_2\\\": \\\"distr_gev\\\",\\u003cbr\\u003e    \\\"perform_batching\\\": true,\\u003cbr\\u003e    \\\"batch_size\\\": 1024,\\u003cbr\\u003e    \\\"epochs\\\": 277\\u003cbr\\u003e  }\\u003cbr\\u003e}\",\"{\\u003cbr\\u003e  \\\"number\\\": 113,\\u003cbr\\u003e  \\\"values\\\": [\\u003cbr\\u003e    2.853607177734375,\\u003cbr\\u003e    0.18079407140612602\\u003cbr\\u003e  ],\\u003cbr\\u003e  \\\"params\\\": {\\u003cbr\\u003e    \\\"chain_function_mean\\\": 8.205020674643576,\\u003cbr\\u003e    \\\"chain_function_std\\\": 0.000548258307812149,\\u003cbr\\u003e    \\\"chain_function_constant\\\": 4.848911883351734e-05,\\u003cbr\\u003e    \\\"optimizer\\\": \\\"Adam\\\",\\u003cbr\\u003e    \\\"learning_rate\\\": 0.024653814526803916,\\u003cbr\\u003e    \\\"forecast_distribution\\\": \\\"distr_gev\\\",\\u003cbr\\u003e    \\\"perform_batching\\\": true,\\u003cbr\\u003e    \\\"batch_size\\\": 512,\\u003cbr\\u003e    \\\"epochs\\\": 394\\u003cbr\\u003e  }\\u003cbr\\u003e}\",\"{\\u003cbr\\u003e  \\\"number\\\": 114,\\u003cbr\\u003e  \\\"values\\\": [\\u003cbr\\u003e    2.976686477661133,\\u003cbr\\u003e    0.17703116312623024\\u003cbr\\u003e  ],\\u003cbr\\u003e  \\\"params\\\": {\\u003cbr\\u003e    \\\"chain_function_mean\\\": 10.971715126796632,\\u003cbr\\u003e    \\\"chain_function_std\\\": 0.9606934823761093,\\u003cbr\\u003e    \\\"chain_function_constant\\\": 0.00014445881711314858,\\u003cbr\\u003e    \\\"optimizer\\\": \\\"Adam\\\",\\u003cbr\\u003e    \\\"learning_rate\\\": 0.0038021830808490625,\\u003cbr\\u003e    \\\"forecast_distribution\\\": \\\"distr_mixture\\\",\\u003cbr\\u003e    \\\"distribution_1\\\": \\\"distr_log_normal\\\",\\u003cbr\\u003e    \\\"distribution_2\\\": \\\"distr_trunc_normal\\\",\\u003cbr\\u003e    \\\"perform_batching\\\": true,\\u003cbr\\u003e    \\\"batch_size\\\": 128,\\u003cbr\\u003e    \\\"epochs\\\": 255\\u003cbr\\u003e  }\\u003cbr\\u003e}\",\"{\\u003cbr\\u003e  \\\"number\\\": 115,\\u003cbr\\u003e  \\\"values\\\": [\\u003cbr\\u003e    2.7371020317077637,\\u003cbr\\u003e    0.17830289155244827\\u003cbr\\u003e  ],\\u003cbr\\u003e  \\\"params\\\": {\\u003cbr\\u003e    \\\"chain_function_mean\\\": 9.697812215073682,\\u003cbr\\u003e    \\\"chain_function_std\\\": 3.146578053543481,\\u003cbr\\u003e    \\\"chain_function_constant\\\": 0.00018192408981876555,\\u003cbr\\u003e    \\\"optimizer\\\": \\\"Adam\\\",\\u003cbr\\u003e    \\\"learning_rate\\\": 0.0038468808577391154,\\u003cbr\\u003e    \\\"forecast_distribution\\\": \\\"distr_mixture\\\",\\u003cbr\\u003e    \\\"distribution_1\\\": \\\"distr_log_normal\\\",\\u003cbr\\u003e    \\\"distribution_2\\\": \\\"distr_trunc_normal\\\",\\u003cbr\\u003e    \\\"perform_batching\\\": true,\\u003cbr\\u003e    \\\"batch_size\\\": 128,\\u003cbr\\u003e    \\\"epochs\\\": 415\\u003cbr\\u003e  }\\u003cbr\\u003e}\",\"{\\u003cbr\\u003e  \\\"number\\\": 116,\\u003cbr\\u003e  \\\"values\\\": [\\u003cbr\\u003e    9.763550519943237,\\u003cbr\\u003e    0.3003053553402424\\u003cbr\\u003e  ],\\u003cbr\\u003e  \\\"params\\\": {\\u003cbr\\u003e    \\\"chain_function_mean\\\": 11.138032004111379,\\u003cbr\\u003e    \\\"chain_function_std\\\": 7.41287595080088,\\u003cbr\\u003e    \\\"chain_function_constant\\\": 0.0001868225665613443,\\u003cbr\\u003e    \\\"optimizer\\\": \\\"SGD\\\",\\u003cbr\\u003e    \\\"learning_rate\\\": 0.009566975033681539,\\u003cbr\\u003e    \\\"forecast_distribution\\\": \\\"distr_mixture\\\",\\u003cbr\\u003e    \\\"distribution_1\\\": \\\"distr_log_normal\\\",\\u003cbr\\u003e    \\\"distribution_2\\\": \\\"distr_trunc_normal\\\",\\u003cbr\\u003e    \\\"perform_batching\\\": false,\\u003cbr\\u003e    \\\"epochs\\\": 302\\u003cbr\\u003e  }\\u003cbr\\u003e}\",\"{\\u003cbr\\u003e  \\\"number\\\": 117,\\u003cbr\\u003e  \\\"values\\\": [\\u003cbr\\u003e    2.721861243247986,\\u003cbr\\u003e    0.18210676312446594\\u003cbr\\u003e  ],\\u003cbr\\u003e  \\\"params\\\": {\\u003cbr\\u003e    \\\"chain_function_mean\\\": 9.666792325435422,\\u003cbr\\u003e    \\\"chain_function_std\\\": 1.0507417503759817,\\u003cbr\\u003e    \\\"chain_function_constant\\\": 1.1378718974020077,\\u003cbr\\u003e    \\\"optimizer\\\": \\\"Adam\\\",\\u003cbr\\u003e    \\\"learning_rate\\\": 0.022256329725797566,\\u003cbr\\u003e    \\\"forecast_distribution\\\": \\\"distr_log_normal\\\",\\u003cbr\\u003e    \\\"perform_batching\\\": true,\\u003cbr\\u003e    \\\"batch_size\\\": 128,\\u003cbr\\u003e    \\\"epochs\\\": 290\\u003cbr\\u003e  }\\u003cbr\\u003e}\",\"{\\u003cbr\\u003e  \\\"number\\\": 118,\\u003cbr\\u003e  \\\"values\\\": [\\u003cbr\\u003e    3.1684255599975586,\\u003cbr\\u003e    0.17858529835939407\\u003cbr\\u003e  ],\\u003cbr\\u003e  \\\"params\\\": {\\u003cbr\\u003e    \\\"chain_function_mean\\\": 11.6318919483968,\\u003cbr\\u003e    \\\"chain_function_std\\\": 2.0054271513525608,\\u003cbr\\u003e    \\\"chain_function_constant\\\": 0.00014759309793521412,\\u003cbr\\u003e    \\\"optimizer\\\": \\\"Adam\\\",\\u003cbr\\u003e    \\\"learning_rate\\\": 0.0003581336005521052,\\u003cbr\\u003e    \\\"forecast_distribution\\\": \\\"distr_mixture_linear\\\",\\u003cbr\\u003e    \\\"distribution_1\\\": \\\"distr_gev\\\",\\u003cbr\\u003e    \\\"distribution_2\\\": \\\"distr_log_normal\\\",\\u003cbr\\u003e    \\\"perform_batching\\\": true,\\u003cbr\\u003e    \\\"batch_size\\\": 128,\\u003cbr\\u003e    \\\"epochs\\\": 420\\u003cbr\\u003e  }\\u003cbr\\u003e}\",\"{\\u003cbr\\u003e  \\\"number\\\": 119,\\u003cbr\\u003e  \\\"values\\\": [\\u003cbr\\u003e    9.966609239578247,\\u003cbr\\u003e    0.3012638948857784\\u003cbr\\u003e  ],\\u003cbr\\u003e  \\\"params\\\": {\\u003cbr\\u003e    \\\"chain_function_mean\\\": 10.089906348245364,\\u003cbr\\u003e    \\\"chain_function_std\\\": 0.00039042438689167105,\\u003cbr\\u003e    \\\"chain_function_constant\\\": 0.00038014289498940944,\\u003cbr\\u003e    \\\"optimizer\\\": \\\"SGD\\\",\\u003cbr\\u003e    \\\"learning_rate\\\": 0.002235536176011897,\\u003cbr\\u003e    \\\"forecast_distribution\\\": \\\"distr_trunc_normal\\\",\\u003cbr\\u003e    \\\"perform_batching\\\": false,\\u003cbr\\u003e    \\\"epochs\\\": 310\\u003cbr\\u003e  }\\u003cbr\\u003e}\",\"{\\u003cbr\\u003e  \\\"number\\\": 120,\\u003cbr\\u003e  \\\"values\\\": [\\u003cbr\\u003e    2.8593857884407043,\\u003cbr\\u003e    0.1771707721054554\\u003cbr\\u003e  ],\\u003cbr\\u003e  \\\"params\\\": {\\u003cbr\\u003e    \\\"chain_function_mean\\\": 10.775413500989078,\\u003cbr\\u003e    \\\"chain_function_std\\\": 1.6278387440367967,\\u003cbr\\u003e    \\\"chain_function_constant\\\": 0.000228676742389941,\\u003cbr\\u003e    \\\"optimizer\\\": \\\"Adam\\\",\\u003cbr\\u003e    \\\"learning_rate\\\": 0.012979958769154757,\\u003cbr\\u003e    \\\"forecast_distribution\\\": \\\"distr_trunc_normal\\\",\\u003cbr\\u003e    \\\"perform_batching\\\": true,\\u003cbr\\u003e    \\\"batch_size\\\": 128,\\u003cbr\\u003e    \\\"epochs\\\": 141\\u003cbr\\u003e  }\\u003cbr\\u003e}\",\"{\\u003cbr\\u003e  \\\"number\\\": 121,\\u003cbr\\u003e  \\\"values\\\": [\\u003cbr\\u003e    3.047266721725464,\\u003cbr\\u003e    0.17858700081706047\\u003cbr\\u003e  ],\\u003cbr\\u003e  \\\"params\\\": {\\u003cbr\\u003e    \\\"chain_function_mean\\\": 10.989455086207903,\\u003cbr\\u003e    \\\"chain_function_std\\\": 1.6406196904194974,\\u003cbr\\u003e    \\\"chain_function_constant\\\": 0.00010820219142404767,\\u003cbr\\u003e    \\\"optimizer\\\": \\\"Adam\\\",\\u003cbr\\u003e    \\\"learning_rate\\\": 0.0111620664884797,\\u003cbr\\u003e    \\\"forecast_distribution\\\": \\\"distr_mixture_linear\\\",\\u003cbr\\u003e    \\\"distribution_1\\\": \\\"distr_trunc_normal\\\",\\u003cbr\\u003e    \\\"distribution_2\\\": \\\"distr_gev\\\",\\u003cbr\\u003e    \\\"perform_batching\\\": true,\\u003cbr\\u003e    \\\"batch_size\\\": 128,\\u003cbr\\u003e    \\\"epochs\\\": 339\\u003cbr\\u003e  }\\u003cbr\\u003e}\",\"{\\u003cbr\\u003e  \\\"number\\\": 122,\\u003cbr\\u003e  \\\"values\\\": [\\u003cbr\\u003e    2.7140244841575623,\\u003cbr\\u003e    0.17985055223107338\\u003cbr\\u003e  ],\\u003cbr\\u003e  \\\"params\\\": {\\u003cbr\\u003e    \\\"chain_function_mean\\\": -1.4272060532811022,\\u003cbr\\u003e    \\\"chain_function_std\\\": 2.641247207357842,\\u003cbr\\u003e    \\\"chain_function_constant\\\": 0.00013403743328000412,\\u003cbr\\u003e    \\\"optimizer\\\": \\\"Adam\\\",\\u003cbr\\u003e    \\\"learning_rate\\\": 0.013736291584022427,\\u003cbr\\u003e    \\\"forecast_distribution\\\": \\\"distr_trunc_normal\\\",\\u003cbr\\u003e    \\\"perform_batching\\\": true,\\u003cbr\\u003e    \\\"batch_size\\\": 128,\\u003cbr\\u003e    \\\"epochs\\\": 296\\u003cbr\\u003e  }\\u003cbr\\u003e}\",\"{\\u003cbr\\u003e  \\\"number\\\": 123,\\u003cbr\\u003e  \\\"values\\\": [\\u003cbr\\u003e    2.7246435284614563,\\u003cbr\\u003e    0.18049225583672523\\u003cbr\\u003e  ],\\u003cbr\\u003e  \\\"params\\\": {\\u003cbr\\u003e    \\\"chain_function_mean\\\": 10.437602433222027,\\u003cbr\\u003e    \\\"chain_function_std\\\": 3.8657958645224397,\\u003cbr\\u003e    \\\"chain_function_constant\\\": 0.05747402000285979,\\u003cbr\\u003e    \\\"optimizer\\\": \\\"Adam\\\",\\u003cbr\\u003e    \\\"learning_rate\\\": 0.009387110057671741,\\u003cbr\\u003e    \\\"forecast_distribution\\\": \\\"distr_trunc_normal\\\",\\u003cbr\\u003e    \\\"perform_batching\\\": true,\\u003cbr\\u003e    \\\"batch_size\\\": 128,\\u003cbr\\u003e    \\\"epochs\\\": 284\\u003cbr\\u003e  }\\u003cbr\\u003e}\",\"{\\u003cbr\\u003e  \\\"number\\\": 124,\\u003cbr\\u003e  \\\"values\\\": [\\u003cbr\\u003e    2.7102255821228027,\\u003cbr\\u003e    0.17966405674815178\\u003cbr\\u003e  ],\\u003cbr\\u003e  \\\"params\\\": {\\u003cbr\\u003e    \\\"chain_function_mean\\\": 10.755960839316968,\\u003cbr\\u003e    \\\"chain_function_std\\\": 4.955617653489882,\\u003cbr\\u003e    \\\"chain_function_constant\\\": 0.004083684180565529,\\u003cbr\\u003e    \\\"optimizer\\\": \\\"Adam\\\",\\u003cbr\\u003e    \\\"learning_rate\\\": 0.011975993673846554,\\u003cbr\\u003e    \\\"forecast_distribution\\\": \\\"distr_mixture_linear\\\",\\u003cbr\\u003e    \\\"distribution_1\\\": \\\"distr_trunc_normal\\\",\\u003cbr\\u003e    \\\"distribution_2\\\": \\\"distr_gev\\\",\\u003cbr\\u003e    \\\"perform_batching\\\": true,\\u003cbr\\u003e    \\\"batch_size\\\": 1024,\\u003cbr\\u003e    \\\"epochs\\\": 143\\u003cbr\\u003e  }\\u003cbr\\u003e}\",\"{\\u003cbr\\u003e  \\\"number\\\": 125,\\u003cbr\\u003e  \\\"values\\\": [\\u003cbr\\u003e    3.1558706164360046,\\u003cbr\\u003e    0.17935268208384514\\u003cbr\\u003e  ],\\u003cbr\\u003e  \\\"params\\\": {\\u003cbr\\u003e    \\\"chain_function_mean\\\": 11.255626548845445,\\u003cbr\\u003e    \\\"chain_function_std\\\": 0.001408650766608297,\\u003cbr\\u003e    \\\"chain_function_constant\\\": 0.00023137516850927183,\\u003cbr\\u003e    \\\"optimizer\\\": \\\"Adam\\\",\\u003cbr\\u003e    \\\"learning_rate\\\": 0.012795733383781241,\\u003cbr\\u003e    \\\"forecast_distribution\\\": \\\"distr_trunc_normal\\\",\\u003cbr\\u003e    \\\"perform_batching\\\": true,\\u003cbr\\u003e    \\\"batch_size\\\": 256,\\u003cbr\\u003e    \\\"epochs\\\": 251\\u003cbr\\u003e  }\\u003cbr\\u003e}\",\"{\\u003cbr\\u003e  \\\"number\\\": 126,\\u003cbr\\u003e  \\\"values\\\": [\\u003cbr\\u003e    3.884777784347534,\\u003cbr\\u003e    0.27496328949928284\\u003cbr\\u003e  ],\\u003cbr\\u003e  \\\"params\\\": {\\u003cbr\\u003e    \\\"chain_function_mean\\\": -0.402371361994291,\\u003cbr\\u003e    \\\"chain_function_std\\\": 0.0031366672518365222,\\u003cbr\\u003e    \\\"chain_function_constant\\\": 0.002453009865553073,\\u003cbr\\u003e    \\\"optimizer\\\": \\\"SGD\\\",\\u003cbr\\u003e    \\\"learning_rate\\\": 0.017904632120491655,\\u003cbr\\u003e    \\\"forecast_distribution\\\": \\\"distr_gev\\\",\\u003cbr\\u003e    \\\"perform_batching\\\": false,\\u003cbr\\u003e    \\\"epochs\\\": 317\\u003cbr\\u003e  }\\u003cbr\\u003e}\",\"{\\u003cbr\\u003e  \\\"number\\\": 127,\\u003cbr\\u003e  \\\"values\\\": [\\u003cbr\\u003e    3.1558733582496643,\\u003cbr\\u003e    0.17884327471256256\\u003cbr\\u003e  ],\\u003cbr\\u003e  \\\"params\\\": {\\u003cbr\\u003e    \\\"chain_function_mean\\\": 9.873114525943652,\\u003cbr\\u003e    \\\"chain_function_std\\\": 0.031168910910438198,\\u003cbr\\u003e    \\\"chain_function_constant\\\": 0.00017737060313075342,\\u003cbr\\u003e    \\\"optimizer\\\": \\\"Adam\\\",\\u003cbr\\u003e    \\\"learning_rate\\\": 0.009069234388666466,\\u003cbr\\u003e    \\\"forecast_distribution\\\": \\\"distr_log_normal\\\",\\u003cbr\\u003e    \\\"perform_batching\\\": true,\\u003cbr\\u003e    \\\"batch_size\\\": 512,\\u003cbr\\u003e    \\\"epochs\\\": 302\\u003cbr\\u003e  }\\u003cbr\\u003e}\",\"{\\u003cbr\\u003e  \\\"number\\\": 128,\\u003cbr\\u003e  \\\"values\\\": [\\u003cbr\\u003e    2.711425244808197,\\u003cbr\\u003e    0.18099373579025269\\u003cbr\\u003e  ],\\u003cbr\\u003e  \\\"params\\\": {\\u003cbr\\u003e    \\\"chain_function_mean\\\": 7.422303827539329,\\u003cbr\\u003e    \\\"chain_function_std\\\": 0.9038724898630599,\\u003cbr\\u003e    \\\"chain_function_constant\\\": 0.3496879354730502,\\u003cbr\\u003e    \\\"optimizer\\\": \\\"Adam\\\",\\u003cbr\\u003e    \\\"learning_rate\\\": 0.010845333775263548,\\u003cbr\\u003e    \\\"forecast_distribution\\\": \\\"distr_trunc_normal\\\",\\u003cbr\\u003e    \\\"perform_batching\\\": true,\\u003cbr\\u003e    \\\"batch_size\\\": 32,\\u003cbr\\u003e    \\\"epochs\\\": 275\\u003cbr\\u003e  }\\u003cbr\\u003e}\",\"{\\u003cbr\\u003e  \\\"number\\\": 129,\\u003cbr\\u003e  \\\"values\\\": [\\u003cbr\\u003e    2.7266077399253845,\\u003cbr\\u003e    0.1808663308620453\\u003cbr\\u003e  ],\\u003cbr\\u003e  \\\"params\\\": {\\u003cbr\\u003e    \\\"chain_function_mean\\\": 4.470937403088981,\\u003cbr\\u003e    \\\"chain_function_std\\\": 0.09365850641283538,\\u003cbr\\u003e    \\\"chain_function_constant\\\": 0.014127438084360415,\\u003cbr\\u003e    \\\"optimizer\\\": \\\"Adam\\\",\\u003cbr\\u003e    \\\"learning_rate\\\": 0.014874467637404673,\\u003cbr\\u003e    \\\"forecast_distribution\\\": \\\"distr_mixture_linear\\\",\\u003cbr\\u003e    \\\"distribution_1\\\": \\\"distr_gev\\\",\\u003cbr\\u003e    \\\"distribution_2\\\": \\\"distr_log_normal\\\",\\u003cbr\\u003e    \\\"perform_batching\\\": true,\\u003cbr\\u003e    \\\"batch_size\\\": 128,\\u003cbr\\u003e    \\\"epochs\\\": 234\\u003cbr\\u003e  }\\u003cbr\\u003e}\",\"{\\u003cbr\\u003e  \\\"number\\\": 130,\\u003cbr\\u003e  \\\"values\\\": [\\u003cbr\\u003e    2.8197314739227295,\\u003cbr\\u003e    0.1790015660226345\\u003cbr\\u003e  ],\\u003cbr\\u003e  \\\"params\\\": {\\u003cbr\\u003e    \\\"chain_function_mean\\\": 11.644837956237918,\\u003cbr\\u003e    \\\"chain_function_std\\\": 2.5072968351989005,\\u003cbr\\u003e    \\\"chain_function_constant\\\": 0.00028096291045069265,\\u003cbr\\u003e    \\\"optimizer\\\": \\\"Adam\\\",\\u003cbr\\u003e    \\\"learning_rate\\\": 0.010219252084037456,\\u003cbr\\u003e    \\\"forecast_distribution\\\": \\\"distr_trunc_normal\\\",\\u003cbr\\u003e    \\\"perform_batching\\\": true,\\u003cbr\\u003e    \\\"batch_size\\\": 128,\\u003cbr\\u003e    \\\"epochs\\\": 488\\u003cbr\\u003e  }\\u003cbr\\u003e}\",\"{\\u003cbr\\u003e  \\\"number\\\": 131,\\u003cbr\\u003e  \\\"values\\\": [\\u003cbr\\u003e    2.792769432067871,\\u003cbr\\u003e    0.17930911108851433\\u003cbr\\u003e  ],\\u003cbr\\u003e  \\\"params\\\": {\\u003cbr\\u003e    \\\"chain_function_mean\\\": 9.013044992594248,\\u003cbr\\u003e    \\\"chain_function_std\\\": 1.5958617151286658,\\u003cbr\\u003e    \\\"chain_function_constant\\\": 8.029009925824873e-05,\\u003cbr\\u003e    \\\"optimizer\\\": \\\"Adam\\\",\\u003cbr\\u003e    \\\"learning_rate\\\": 0.016056893709569017,\\u003cbr\\u003e    \\\"forecast_distribution\\\": \\\"distr_trunc_normal\\\",\\u003cbr\\u003e    \\\"perform_batching\\\": true,\\u003cbr\\u003e    \\\"batch_size\\\": 128,\\u003cbr\\u003e    \\\"epochs\\\": 278\\u003cbr\\u003e  }\\u003cbr\\u003e}\",\"{\\u003cbr\\u003e  \\\"number\\\": 132,\\u003cbr\\u003e  \\\"values\\\": [\\u003cbr\\u003e    9.840768575668335,\\u003cbr\\u003e    0.3012235015630722\\u003cbr\\u003e  ],\\u003cbr\\u003e  \\\"params\\\": {\\u003cbr\\u003e    \\\"chain_function_mean\\\": 10.861994516250588,\\u003cbr\\u003e    \\\"chain_function_std\\\": 3.4512666148932243,\\u003cbr\\u003e    \\\"chain_function_constant\\\": 0.1305333644373023,\\u003cbr\\u003e    \\\"optimizer\\\": \\\"SGD\\\",\\u003cbr\\u003e    \\\"learning_rate\\\": 0.007709078274933443,\\u003cbr\\u003e    \\\"forecast_distribution\\\": \\\"distr_trunc_normal\\\",\\u003cbr\\u003e    \\\"perform_batching\\\": false,\\u003cbr\\u003e    \\\"epochs\\\": 100\\u003cbr\\u003e  }\\u003cbr\\u003e}\",\"{\\u003cbr\\u003e  \\\"number\\\": 134,\\u003cbr\\u003e  \\\"values\\\": [\\u003cbr\\u003e    9.968802690505981,\\u003cbr\\u003e    0.3012827858328819\\u003cbr\\u003e  ],\\u003cbr\\u003e  \\\"params\\\": {\\u003cbr\\u003e    \\\"chain_function_mean\\\": 10.448846680820141,\\u003cbr\\u003e    \\\"chain_function_std\\\": 0.1609047807140417,\\u003cbr\\u003e    \\\"chain_function_constant\\\": 0.00013165897173261274,\\u003cbr\\u003e    \\\"optimizer\\\": \\\"SGD\\\",\\u003cbr\\u003e    \\\"learning_rate\\\": 0.00013285316413382895,\\u003cbr\\u003e    \\\"forecast_distribution\\\": \\\"distr_trunc_normal\\\",\\u003cbr\\u003e    \\\"perform_batching\\\": false,\\u003cbr\\u003e    \\\"epochs\\\": 308\\u003cbr\\u003e  }\\u003cbr\\u003e}\",\"{\\u003cbr\\u003e  \\\"number\\\": 135,\\u003cbr\\u003e  \\\"values\\\": [\\u003cbr\\u003e    2.849826991558075,\\u003cbr\\u003e    0.17776444926857948\\u003cbr\\u003e  ],\\u003cbr\\u003e  \\\"params\\\": {\\u003cbr\\u003e    \\\"chain_function_mean\\\": 11.310033228781805,\\u003cbr\\u003e    \\\"chain_function_std\\\": 2.0364995323169364,\\u003cbr\\u003e    \\\"chain_function_constant\\\": 0.00019699327371242029,\\u003cbr\\u003e    \\\"optimizer\\\": \\\"Adam\\\",\\u003cbr\\u003e    \\\"learning_rate\\\": 0.012668676400433043,\\u003cbr\\u003e    \\\"forecast_distribution\\\": \\\"distr_trunc_normal\\\",\\u003cbr\\u003e    \\\"perform_batching\\\": true,\\u003cbr\\u003e    \\\"batch_size\\\": 128,\\u003cbr\\u003e    \\\"epochs\\\": 170\\u003cbr\\u003e  }\\u003cbr\\u003e}\",\"{\\u003cbr\\u003e  \\\"number\\\": 136,\\u003cbr\\u003e  \\\"values\\\": [\\u003cbr\\u003e    2.8877017498016357,\\u003cbr\\u003e    0.17882182449102402\\u003cbr\\u003e  ],\\u003cbr\\u003e  \\\"params\\\": {\\u003cbr\\u003e    \\\"chain_function_mean\\\": 12.710577848654792,\\u003cbr\\u003e    \\\"chain_function_std\\\": 2.30480360021571,\\u003cbr\\u003e    \\\"chain_function_constant\\\": 0.00020623331434417268,\\u003cbr\\u003e    \\\"optimizer\\\": \\\"Adam\\\",\\u003cbr\\u003e    \\\"learning_rate\\\": 0.013621335070158246,\\u003cbr\\u003e    \\\"forecast_distribution\\\": \\\"distr_trunc_normal\\\",\\u003cbr\\u003e    \\\"perform_batching\\\": true,\\u003cbr\\u003e    \\\"batch_size\\\": 128,\\u003cbr\\u003e    \\\"epochs\\\": 291\\u003cbr\\u003e  }\\u003cbr\\u003e}\",\"{\\u003cbr\\u003e  \\\"number\\\": 137,\\u003cbr\\u003e  \\\"values\\\": [\\u003cbr\\u003e    3.0975175499916077,\\u003cbr\\u003e    0.17804257199168205\\u003cbr\\u003e  ],\\u003cbr\\u003e  \\\"params\\\": {\\u003cbr\\u003e    \\\"chain_function_mean\\\": 11.403521823045436,\\u003cbr\\u003e    \\\"chain_function_std\\\": 0.00020530273265420202,\\u003cbr\\u003e    \\\"chain_function_constant\\\": 0.00031433178157087144,\\u003cbr\\u003e    \\\"optimizer\\\": \\\"Adam\\\",\\u003cbr\\u003e    \\\"learning_rate\\\": 0.01199569170698449,\\u003cbr\\u003e    \\\"forecast_distribution\\\": \\\"distr_gev\\\",\\u003cbr\\u003e    \\\"perform_batching\\\": true,\\u003cbr\\u003e    \\\"batch_size\\\": 1024,\\u003cbr\\u003e    \\\"epochs\\\": 293\\u003cbr\\u003e  }\\u003cbr\\u003e}\",\"{\\u003cbr\\u003e  \\\"number\\\": 138,\\u003cbr\\u003e  \\\"values\\\": [\\u003cbr\\u003e    9.86608624458313,\\u003cbr\\u003e    0.30037442967295647\\u003cbr\\u003e  ],\\u003cbr\\u003e  \\\"params\\\": {\\u003cbr\\u003e    \\\"chain_function_mean\\\": 4.930214695962604,\\u003cbr\\u003e    \\\"chain_function_std\\\": 0.004963323080217956,\\u003cbr\\u003e    \\\"chain_function_constant\\\": 0.0003751000698034369,\\u003cbr\\u003e    \\\"optimizer\\\": \\\"SGD\\\",\\u003cbr\\u003e    \\\"learning_rate\\\": 0.008548610956701662,\\u003cbr\\u003e    \\\"forecast_distribution\\\": \\\"distr_mixture\\\",\\u003cbr\\u003e    \\\"distribution_1\\\": \\\"distr_log_normal\\\",\\u003cbr\\u003e    \\\"distribution_2\\\": \\\"distr_trunc_normal\\\",\\u003cbr\\u003e    \\\"perform_batching\\\": false,\\u003cbr\\u003e    \\\"epochs\\\": 304\\u003cbr\\u003e  }\\u003cbr\\u003e}\",\"{\\u003cbr\\u003e  \\\"number\\\": 139,\\u003cbr\\u003e  \\\"values\\\": [\\u003cbr\\u003e    2.723280370235443,\\u003cbr\\u003e    0.1829678863286972\\u003cbr\\u003e  ],\\u003cbr\\u003e  \\\"params\\\": {\\u003cbr\\u003e    \\\"chain_function_mean\\\": -3.306990496360239,\\u003cbr\\u003e    \\\"chain_function_std\\\": 1.0188110250743616,\\u003cbr\\u003e    \\\"chain_function_constant\\\": 0.00020385556269674385,\\u003cbr\\u003e    \\\"optimizer\\\": \\\"Adam\\\",\\u003cbr\\u003e    \\\"learning_rate\\\": 0.01917788572558993,\\u003cbr\\u003e    \\\"forecast_distribution\\\": \\\"distr_log_normal\\\",\\u003cbr\\u003e    \\\"perform_batching\\\": true,\\u003cbr\\u003e    \\\"batch_size\\\": 256,\\u003cbr\\u003e    \\\"epochs\\\": 284\\u003cbr\\u003e  }\\u003cbr\\u003e}\",\"{\\u003cbr\\u003e  \\\"number\\\": 140,\\u003cbr\\u003e  \\\"values\\\": [\\u003cbr\\u003e    2.712288796901703,\\u003cbr\\u003e    0.1812252551317215\\u003cbr\\u003e  ],\\u003cbr\\u003e  \\\"params\\\": {\\u003cbr\\u003e    \\\"chain_function_mean\\\": -4.311051788432003,\\u003cbr\\u003e    \\\"chain_function_std\\\": 0.010753790068585347,\\u003cbr\\u003e    \\\"chain_function_constant\\\": 0.00010362078723000447,\\u003cbr\\u003e    \\\"optimizer\\\": \\\"Adam\\\",\\u003cbr\\u003e    \\\"learning_rate\\\": 0.0106637020150799,\\u003cbr\\u003e    \\\"forecast_distribution\\\": \\\"distr_trunc_normal\\\",\\u003cbr\\u003e    \\\"perform_batching\\\": true,\\u003cbr\\u003e    \\\"batch_size\\\": 128,\\u003cbr\\u003e    \\\"epochs\\\": 275\\u003cbr\\u003e  }\\u003cbr\\u003e}\",\"{\\u003cbr\\u003e  \\\"number\\\": 141,\\u003cbr\\u003e  \\\"values\\\": [\\u003cbr\\u003e    2.8483279943466187,\\u003cbr\\u003e    0.17978855222463608\\u003cbr\\u003e  ],\\u003cbr\\u003e  \\\"params\\\": {\\u003cbr\\u003e    \\\"chain_function_mean\\\": 10.763560477916979,\\u003cbr\\u003e    \\\"chain_function_std\\\": 1.7765831442293574,\\u003cbr\\u003e    \\\"chain_function_constant\\\": 0.0001611984595627139,\\u003cbr\\u003e    \\\"optimizer\\\": \\\"Adam\\\",\\u003cbr\\u003e    \\\"learning_rate\\\": 0.013363471728863758,\\u003cbr\\u003e    \\\"forecast_distribution\\\": \\\"distr_trunc_normal\\\",\\u003cbr\\u003e    \\\"perform_batching\\\": true,\\u003cbr\\u003e    \\\"batch_size\\\": 128,\\u003cbr\\u003e    \\\"epochs\\\": 213\\u003cbr\\u003e  }\\u003cbr\\u003e}\",\"{\\u003cbr\\u003e  \\\"number\\\": 142,\\u003cbr\\u003e  \\\"values\\\": [\\u003cbr\\u003e    2.982596695423126,\\u003cbr\\u003e    0.18065466731786728\\u003cbr\\u003e  ],\\u003cbr\\u003e  \\\"params\\\": {\\u003cbr\\u003e    \\\"chain_function_mean\\\": 11.83345663997011,\\u003cbr\\u003e    \\\"chain_function_std\\\": 1.997829816487491,\\u003cbr\\u003e    \\\"chain_function_constant\\\": 0.00023708127869210026,\\u003cbr\\u003e    \\\"optimizer\\\": \\\"Adam\\\",\\u003cbr\\u003e    \\\"learning_rate\\\": 0.0002407532253868768,\\u003cbr\\u003e    \\\"forecast_distribution\\\": \\\"distr_trunc_normal\\\",\\u003cbr\\u003e    \\\"perform_batching\\\": true,\\u003cbr\\u003e    \\\"batch_size\\\": 64,\\u003cbr\\u003e    \\\"epochs\\\": 194\\u003cbr\\u003e  }\\u003cbr\\u003e}\",\"{\\u003cbr\\u003e  \\\"number\\\": 143,\\u003cbr\\u003e  \\\"values\\\": [\\u003cbr\\u003e    2.711312770843506,\\u003cbr\\u003e    0.1799137108027935\\u003cbr\\u003e  ],\\u003cbr\\u003e  \\\"params\\\": {\\u003cbr\\u003e    \\\"chain_function_mean\\\": 3.7704850966674455,\\u003cbr\\u003e    \\\"chain_function_std\\\": 1.2306512617463305,\\u003cbr\\u003e    \\\"chain_function_constant\\\": 0.0005288066787534287,\\u003cbr\\u003e    \\\"optimizer\\\": \\\"Adam\\\",\\u003cbr\\u003e    \\\"learning_rate\\\": 0.007169938845246651,\\u003cbr\\u003e    \\\"forecast_distribution\\\": \\\"distr_trunc_normal\\\",\\u003cbr\\u003e    \\\"perform_batching\\\": true,\\u003cbr\\u003e    \\\"batch_size\\\": 512,\\u003cbr\\u003e    \\\"epochs\\\": 164\\u003cbr\\u003e  }\\u003cbr\\u003e}\",\"{\\u003cbr\\u003e  \\\"number\\\": 144,\\u003cbr\\u003e  \\\"values\\\": [\\u003cbr\\u003e    8.099819660186768,\\u003cbr\\u003e    0.2992013283073902\\u003cbr\\u003e  ],\\u003cbr\\u003e  \\\"params\\\": {\\u003cbr\\u003e    \\\"chain_function_mean\\\": 10.30749462530953,\\u003cbr\\u003e    \\\"chain_function_std\\\": 0.7489551620757331,\\u003cbr\\u003e    \\\"chain_function_constant\\\": 0.5136612391453359,\\u003cbr\\u003e    \\\"optimizer\\\": \\\"SGD\\\",\\u003cbr\\u003e    \\\"learning_rate\\\": 0.009560302902988552,\\u003cbr\\u003e    \\\"forecast_distribution\\\": \\\"distr_trunc_normal\\\",\\u003cbr\\u003e    \\\"perform_batching\\\": false,\\u003cbr\\u003e    \\\"epochs\\\": 300\\u003cbr\\u003e  }\\u003cbr\\u003e}\",\"{\\u003cbr\\u003e  \\\"number\\\": 145,\\u003cbr\\u003e  \\\"values\\\": [\\u003cbr\\u003e    2.8505595922470093,\\u003cbr\\u003e    0.18294862285256386\\u003cbr\\u003e  ],\\u003cbr\\u003e  \\\"params\\\": {\\u003cbr\\u003e    \\\"chain_function_mean\\\": 9.710231784964176,\\u003cbr\\u003e    \\\"chain_function_std\\\": 1.461811850752323,\\u003cbr\\u003e    \\\"chain_function_constant\\\": 0.00014997378561914227,\\u003cbr\\u003e    \\\"optimizer\\\": \\\"Adam\\\",\\u003cbr\\u003e    \\\"learning_rate\\\": 0.09932172694804085,\\u003cbr\\u003e    \\\"forecast_distribution\\\": \\\"distr_trunc_normal\\\",\\u003cbr\\u003e    \\\"perform_batching\\\": true,\\u003cbr\\u003e    \\\"batch_size\\\": 32,\\u003cbr\\u003e    \\\"epochs\\\": 370\\u003cbr\\u003e  }\\u003cbr\\u003e}\",\"{\\u003cbr\\u003e  \\\"number\\\": 146,\\u003cbr\\u003e  \\\"values\\\": [\\u003cbr\\u003e    2.713400363922119,\\u003cbr\\u003e    0.1810213439166546\\u003cbr\\u003e  ],\\u003cbr\\u003e  \\\"params\\\": {\\u003cbr\\u003e    \\\"chain_function_mean\\\": 2.297939992189282,\\u003cbr\\u003e    \\\"chain_function_std\\\": 3.148751183007599,\\u003cbr\\u003e    \\\"chain_function_constant\\\": 0.00011248734331005936,\\u003cbr\\u003e    \\\"optimizer\\\": \\\"Adam\\\",\\u003cbr\\u003e    \\\"learning_rate\\\": 0.0005377628071508547,\\u003cbr\\u003e    \\\"forecast_distribution\\\": \\\"distr_mixture\\\",\\u003cbr\\u003e    \\\"distribution_1\\\": \\\"distr_gev\\\",\\u003cbr\\u003e    \\\"distribution_2\\\": \\\"distr_log_normal\\\",\\u003cbr\\u003e    \\\"perform_batching\\\": true,\\u003cbr\\u003e    \\\"batch_size\\\": 128,\\u003cbr\\u003e    \\\"epochs\\\": 176\\u003cbr\\u003e  }\\u003cbr\\u003e}\",\"{\\u003cbr\\u003e  \\\"number\\\": 147,\\u003cbr\\u003e  \\\"values\\\": [\\u003cbr\\u003e    3.3266011476516724,\\u003cbr\\u003e    0.17905635759234428\\u003cbr\\u003e  ],\\u003cbr\\u003e  \\\"params\\\": {\\u003cbr\\u003e    \\\"chain_function_mean\\\": 11.180321449673055,\\u003cbr\\u003e    \\\"chain_function_std\\\": 0.12765828928417053,\\u003cbr\\u003e    \\\"chain_function_constant\\\": 0.0004151706343547788,\\u003cbr\\u003e    \\\"optimizer\\\": \\\"Adam\\\",\\u003cbr\\u003e    \\\"learning_rate\\\": 0.01610039909162708,\\u003cbr\\u003e    \\\"forecast_distribution\\\": \\\"distr_log_normal\\\",\\u003cbr\\u003e    \\\"perform_batching\\\": true,\\u003cbr\\u003e    \\\"batch_size\\\": 128,\\u003cbr\\u003e    \\\"epochs\\\": 317\\u003cbr\\u003e  }\\u003cbr\\u003e}\",\"{\\u003cbr\\u003e  \\\"number\\\": 148,\\u003cbr\\u003e  \\\"values\\\": [\\u003cbr\\u003e    8.184223413467407,\\u003cbr\\u003e    0.2964539974927902\\u003cbr\\u003e  ],\\u003cbr\\u003e  \\\"params\\\": {\\u003cbr\\u003e    \\\"chain_function_mean\\\": 9.976410410396714,\\u003cbr\\u003e    \\\"chain_function_std\\\": 1.1860329772936435,\\u003cbr\\u003e    \\\"chain_function_constant\\\": 0.15784705098418708,\\u003cbr\\u003e    \\\"optimizer\\\": \\\"SGD\\\",\\u003cbr\\u003e    \\\"learning_rate\\\": 0.0001965530153097321,\\u003cbr\\u003e    \\\"forecast_distribution\\\": \\\"distr_gev\\\",\\u003cbr\\u003e    \\\"perform_batching\\\": false,\\u003cbr\\u003e    \\\"epochs\\\": 269\\u003cbr\\u003e  }\\u003cbr\\u003e}\",\"{\\u003cbr\\u003e  \\\"number\\\": 149,\\u003cbr\\u003e  \\\"values\\\": [\\u003cbr\\u003e    3.220567047595978,\\u003cbr\\u003e    0.17864931747317314\\u003cbr\\u003e  ],\\u003cbr\\u003e  \\\"params\\\": {\\u003cbr\\u003e    \\\"chain_function_mean\\\": 12.304731601638633,\\u003cbr\\u003e    \\\"chain_function_std\\\": 0.030084061687404545,\\u003cbr\\u003e    \\\"chain_function_constant\\\": 7.757147599574616e-05,\\u003cbr\\u003e    \\\"optimizer\\\": \\\"Adam\\\",\\u003cbr\\u003e    \\\"learning_rate\\\": 0.011578904260791221,\\u003cbr\\u003e    \\\"forecast_distribution\\\": \\\"distr_trunc_normal\\\",\\u003cbr\\u003e    \\\"perform_batching\\\": true,\\u003cbr\\u003e    \\\"batch_size\\\": 128,\\u003cbr\\u003e    \\\"epochs\\\": 291\\u003cbr\\u003e  }\\u003cbr\\u003e}\",\"{\\u003cbr\\u003e  \\\"number\\\": 150,\\u003cbr\\u003e  \\\"values\\\": [\\u003cbr\\u003e    2.711347758769989,\\u003cbr\\u003e    0.1811719760298729\\u003cbr\\u003e  ],\\u003cbr\\u003e  \\\"params\\\": {\\u003cbr\\u003e    \\\"chain_function_mean\\\": 0.7252437679487667,\\u003cbr\\u003e    \\\"chain_function_std\\\": 2.9008462716531738,\\u003cbr\\u003e    \\\"chain_function_constant\\\": 0.00024255645689760693,\\u003cbr\\u003e    \\\"optimizer\\\": \\\"Adam\\\",\\u003cbr\\u003e    \\\"learning_rate\\\": 0.014871142846490028,\\u003cbr\\u003e    \\\"forecast_distribution\\\": \\\"distr_trunc_normal\\\",\\u003cbr\\u003e    \\\"perform_batching\\\": true,\\u003cbr\\u003e    \\\"batch_size\\\": 128,\\u003cbr\\u003e    \\\"epochs\\\": 284\\u003cbr\\u003e  }\\u003cbr\\u003e}\",\"{\\u003cbr\\u003e  \\\"number\\\": 151,\\u003cbr\\u003e  \\\"values\\\": [\\u003cbr\\u003e    2.712254583835602,\\u003cbr\\u003e    0.1806502416729927\\u003cbr\\u003e  ],\\u003cbr\\u003e  \\\"params\\\": {\\u003cbr\\u003e    \\\"chain_function_mean\\\": 10.567625776878538,\\u003cbr\\u003e    \\\"chain_function_std\\\": 0.0632580654860266,\\u003cbr\\u003e    \\\"chain_function_constant\\\": 0.2666267694979269,\\u003cbr\\u003e    \\\"optimizer\\\": \\\"Adam\\\",\\u003cbr\\u003e    \\\"learning_rate\\\": 0.012826165501148517,\\u003cbr\\u003e    \\\"forecast_distribution\\\": \\\"distr_trunc_normal\\\",\\u003cbr\\u003e    \\\"perform_batching\\\": true,\\u003cbr\\u003e    \\\"batch_size\\\": 128,\\u003cbr\\u003e    \\\"epochs\\\": 259\\u003cbr\\u003e  }\\u003cbr\\u003e}\",\"{\\u003cbr\\u003e  \\\"number\\\": 152,\\u003cbr\\u003e  \\\"values\\\": [\\u003cbr\\u003e    2.822677254676819,\\u003cbr\\u003e    0.17806517705321312\\u003cbr\\u003e  ],\\u003cbr\\u003e  \\\"params\\\": {\\u003cbr\\u003e    \\\"chain_function_mean\\\": 10.959123530014168,\\u003cbr\\u003e    \\\"chain_function_std\\\": 2.1662548873834866,\\u003cbr\\u003e    \\\"chain_function_constant\\\": 0.00029786543020239093,\\u003cbr\\u003e    \\\"optimizer\\\": \\\"Adam\\\",\\u003cbr\\u003e    \\\"learning_rate\\\": 0.008054288854646747,\\u003cbr\\u003e    \\\"forecast_distribution\\\": \\\"distr_trunc_normal\\\",\\u003cbr\\u003e    \\\"perform_batching\\\": true,\\u003cbr\\u003e    \\\"batch_size\\\": 128,\\u003cbr\\u003e    \\\"epochs\\\": 297\\u003cbr\\u003e  }\\u003cbr\\u003e}\",\"{\\u003cbr\\u003e  \\\"number\\\": 153,\\u003cbr\\u003e  \\\"values\\\": [\\u003cbr\\u003e    3.1670435667037964,\\u003cbr\\u003e    0.18253198266029358\\u003cbr\\u003e  ],\\u003cbr\\u003e  \\\"params\\\": {\\u003cbr\\u003e    \\\"chain_function_mean\\\": 14.944761734847866,\\u003cbr\\u003e    \\\"chain_function_std\\\": 1.6995794743611117,\\u003cbr\\u003e    \\\"chain_function_constant\\\": 0.00020098005598703355,\\u003cbr\\u003e    \\\"optimizer\\\": \\\"Adam\\\",\\u003cbr\\u003e    \\\"learning_rate\\\": 0.01052666586006664,\\u003cbr\\u003e    \\\"forecast_distribution\\\": \\\"distr_trunc_normal\\\",\\u003cbr\\u003e    \\\"perform_batching\\\": true,\\u003cbr\\u003e    \\\"batch_size\\\": 128,\\u003cbr\\u003e    \\\"epochs\\\": 280\\u003cbr\\u003e  }\\u003cbr\\u003e}\",\"{\\u003cbr\\u003e  \\\"number\\\": 154,\\u003cbr\\u003e  \\\"values\\\": [\\u003cbr\\u003e    8.612420558929443,\\u003cbr\\u003e    0.29616157710552216\\u003cbr\\u003e  ],\\u003cbr\\u003e  \\\"params\\\": {\\u003cbr\\u003e    \\\"chain_function_mean\\\": 11.54344904031464,\\u003cbr\\u003e    \\\"chain_function_std\\\": 2.6805723200210547,\\u003cbr\\u003e    \\\"chain_function_constant\\\": 0.0001671487683257326,\\u003cbr\\u003e    \\\"optimizer\\\": \\\"SGD\\\",\\u003cbr\\u003e    \\\"learning_rate\\\": 0.009173726904048336,\\u003cbr\\u003e    \\\"forecast_distribution\\\": \\\"distr_mixture_linear\\\",\\u003cbr\\u003e    \\\"distribution_1\\\": \\\"distr_trunc_normal\\\",\\u003cbr\\u003e    \\\"distribution_2\\\": \\\"distr_gev\\\",\\u003cbr\\u003e    \\\"perform_batching\\\": false,\\u003cbr\\u003e    \\\"epochs\\\": 313\\u003cbr\\u003e  }\\u003cbr\\u003e}\",\"{\\u003cbr\\u003e  \\\"number\\\": 155,\\u003cbr\\u003e  \\\"values\\\": [\\u003cbr\\u003e    2.9853583574295044,\\u003cbr\\u003e    0.17849669978022575\\u003cbr\\u003e  ],\\u003cbr\\u003e  \\\"params\\\": {\\u003cbr\\u003e    \\\"chain_function_mean\\\": 10.143751535442737,\\u003cbr\\u003e    \\\"chain_function_std\\\": 0.0009021369096028598,\\u003cbr\\u003e    \\\"chain_function_constant\\\": 0.00030128467323045735,\\u003cbr\\u003e    \\\"optimizer\\\": \\\"Adam\\\",\\u003cbr\\u003e    \\\"learning_rate\\\": 0.018432092846828146,\\u003cbr\\u003e    \\\"forecast_distribution\\\": \\\"distr_trunc_normal\\\",\\u003cbr\\u003e    \\\"perform_batching\\\": true,\\u003cbr\\u003e    \\\"batch_size\\\": 512,\\u003cbr\\u003e    \\\"epochs\\\": 290\\u003cbr\\u003e  }\\u003cbr\\u003e}\",\"{\\u003cbr\\u003e  \\\"number\\\": 156,\\u003cbr\\u003e  \\\"values\\\": [\\u003cbr\\u003e    2.7046290040016174,\\u003cbr\\u003e    0.180394247174263\\u003cbr\\u003e  ],\\u003cbr\\u003e  \\\"params\\\": {\\u003cbr\\u003e    \\\"chain_function_mean\\\": -0.12878918339323597,\\u003cbr\\u003e    \\\"chain_function_std\\\": 0.005771753312083718,\\u003cbr\\u003e    \\\"chain_function_constant\\\": 0.9863245788183492,\\u003cbr\\u003e    \\\"optimizer\\\": \\\"Adam\\\",\\u003cbr\\u003e    \\\"learning_rate\\\": 0.00034753227032189834,\\u003cbr\\u003e    \\\"forecast_distribution\\\": \\\"distr_mixture\\\",\\u003cbr\\u003e    \\\"distribution_1\\\": \\\"distr_log_normal\\\",\\u003cbr\\u003e    \\\"distribution_2\\\": \\\"distr_trunc_normal\\\",\\u003cbr\\u003e    \\\"perform_batching\\\": true,\\u003cbr\\u003e    \\\"batch_size\\\": 32,\\u003cbr\\u003e    \\\"epochs\\\": 126\\u003cbr\\u003e  }\\u003cbr\\u003e}\",\"{\\u003cbr\\u003e  \\\"number\\\": 157,\\u003cbr\\u003e  \\\"values\\\": [\\u003cbr\\u003e    10.413721799850464,\\u003cbr\\u003e    0.3014184832572937\\u003cbr\\u003e  ],\\u003cbr\\u003e  \\\"params\\\": {\\u003cbr\\u003e    \\\"chain_function_mean\\\": 10.549033202348179,\\u003cbr\\u003e    \\\"chain_function_std\\\": 6.597889660056671,\\u003cbr\\u003e    \\\"chain_function_constant\\\": 0.005234980730176393,\\u003cbr\\u003e    \\\"optimizer\\\": \\\"SGD\\\",\\u003cbr\\u003e    \\\"learning_rate\\\": 0.012972326395645651,\\u003cbr\\u003e    \\\"forecast_distribution\\\": \\\"distr_log_normal\\\",\\u003cbr\\u003e    \\\"perform_batching\\\": false,\\u003cbr\\u003e    \\\"epochs\\\": 307\\u003cbr\\u003e  }\\u003cbr\\u003e}\",\"{\\u003cbr\\u003e  \\\"number\\\": 158,\\u003cbr\\u003e  \\\"values\\\": [\\u003cbr\\u003e    2.7331679463386536,\\u003cbr\\u003e    0.18022100254893303\\u003cbr\\u003e  ],\\u003cbr\\u003e  \\\"params\\\": {\\u003cbr\\u003e    \\\"chain_function_mean\\\": 9.457994002339564,\\u003cbr\\u003e    \\\"chain_function_std\\\": 4.169153481368053,\\u003cbr\\u003e    \\\"chain_function_constant\\\": 0.012921617467037015,\\u003cbr\\u003e    \\\"optimizer\\\": \\\"Adam\\\",\\u003cbr\\u003e    \\\"learning_rate\\\": 0.017383766237388586,\\u003cbr\\u003e    \\\"forecast_distribution\\\": \\\"distr_gev\\\",\\u003cbr\\u003e    \\\"perform_batching\\\": true,\\u003cbr\\u003e    \\\"batch_size\\\": 1024,\\u003cbr\\u003e    \\\"epochs\\\": 439\\u003cbr\\u003e  }\\u003cbr\\u003e}\",\"{\\u003cbr\\u003e  \\\"number\\\": 159,\\u003cbr\\u003e  \\\"values\\\": [\\u003cbr\\u003e    2.7159796357154846,\\u003cbr\\u003e    0.18137720972299576\\u003cbr\\u003e  ],\\u003cbr\\u003e  \\\"params\\\": {\\u003cbr\\u003e    \\\"chain_function_mean\\\": -4.8876867163943025,\\u003cbr\\u003e    \\\"chain_function_std\\\": 1.3737496585492766,\\u003cbr\\u003e    \\\"chain_function_constant\\\": 0.0007319950904967916,\\u003cbr\\u003e    \\\"optimizer\\\": \\\"Adam\\\",\\u003cbr\\u003e    \\\"learning_rate\\\": 0.010523251267338373,\\u003cbr\\u003e    \\\"forecast_distribution\\\": \\\"distr_trunc_normal\\\",\\u003cbr\\u003e    \\\"perform_batching\\\": true,\\u003cbr\\u003e    \\\"batch_size\\\": 64,\\u003cbr\\u003e    \\\"epochs\\\": 330\\u003cbr\\u003e  }\\u003cbr\\u003e}\",\"{\\u003cbr\\u003e  \\\"number\\\": 160,\\u003cbr\\u003e  \\\"values\\\": [\\u003cbr\\u003e    2.6960097551345825,\\u003cbr\\u003e    0.17891404032707214\\u003cbr\\u003e  ],\\u003cbr\\u003e  \\\"params\\\": {\\u003cbr\\u003e    \\\"chain_function_mean\\\": -2.8976267445190835,\\u003cbr\\u003e    \\\"chain_function_std\\\": 3.120845071428464,\\u003cbr\\u003e    \\\"chain_function_constant\\\": 0.0001288837208622161,\\u003cbr\\u003e    \\\"optimizer\\\": \\\"Adam\\\",\\u003cbr\\u003e    \\\"learning_rate\\\": 0.014093682278359165,\\u003cbr\\u003e    \\\"forecast_distribution\\\": \\\"distr_mixture_linear\\\",\\u003cbr\\u003e    \\\"distribution_1\\\": \\\"distr_trunc_normal\\\",\\u003cbr\\u003e    \\\"distribution_2\\\": \\\"distr_gev\\\",\\u003cbr\\u003e    \\\"perform_batching\\\": true,\\u003cbr\\u003e    \\\"batch_size\\\": 128,\\u003cbr\\u003e    \\\"epochs\\\": 420\\u003cbr\\u003e  }\\u003cbr\\u003e}\",\"{\\u003cbr\\u003e  \\\"number\\\": 161,\\u003cbr\\u003e  \\\"values\\\": [\\u003cbr\\u003e    2.7039589285850525,\\u003cbr\\u003e    0.18021008372306824\\u003cbr\\u003e  ],\\u003cbr\\u003e  \\\"params\\\": {\\u003cbr\\u003e    \\\"chain_function_mean\\\": -4.099851049891075,\\u003cbr\\u003e    \\\"chain_function_std\\\": 3.0466011421059944,\\u003cbr\\u003e    \\\"chain_function_constant\\\": 0.00013329919880712934,\\u003cbr\\u003e    \\\"optimizer\\\": \\\"Adam\\\",\\u003cbr\\u003e    \\\"learning_rate\\\": 0.01447567413223038,\\u003cbr\\u003e    \\\"forecast_distribution\\\": \\\"distr_mixture_linear\\\",\\u003cbr\\u003e    \\\"distribution_1\\\": \\\"distr_trunc_normal\\\",\\u003cbr\\u003e    \\\"distribution_2\\\": \\\"distr_gev\\\",\\u003cbr\\u003e    \\\"perform_batching\\\": true,\\u003cbr\\u003e    \\\"batch_size\\\": 128,\\u003cbr\\u003e    \\\"epochs\\\": 425\\u003cbr\\u003e  }\\u003cbr\\u003e}\",\"{\\u003cbr\\u003e  \\\"number\\\": 162,\\u003cbr\\u003e  \\\"values\\\": [\\u003cbr\\u003e    2.7026917338371277,\\u003cbr\\u003e    0.1804777793586254\\u003cbr\\u003e  ],\\u003cbr\\u003e  \\\"params\\\": {\\u003cbr\\u003e    \\\"chain_function_mean\\\": 1.424214656247782,\\u003cbr\\u003e    \\\"chain_function_std\\\": 1.9194697630781221,\\u003cbr\\u003e    \\\"chain_function_constant\\\": 0.00024379038635694104,\\u003cbr\\u003e    \\\"optimizer\\\": \\\"Adam\\\",\\u003cbr\\u003e    \\\"learning_rate\\\": 0.000859220051758799,\\u003cbr\\u003e    \\\"forecast_distribution\\\": \\\"distr_mixture_linear\\\",\\u003cbr\\u003e    \\\"distribution_1\\\": \\\"distr_trunc_normal\\\",\\u003cbr\\u003e    \\\"distribution_2\\\": \\\"distr_gev\\\",\\u003cbr\\u003e    \\\"perform_batching\\\": true,\\u003cbr\\u003e    \\\"batch_size\\\": 128,\\u003cbr\\u003e    \\\"epochs\\\": 456\\u003cbr\\u003e  }\\u003cbr\\u003e}\",\"{\\u003cbr\\u003e  \\\"number\\\": 163,\\u003cbr\\u003e  \\\"values\\\": [\\u003cbr\\u003e    2.7109578251838684,\\u003cbr\\u003e    0.1824987716972828\\u003cbr\\u003e  ],\\u003cbr\\u003e  \\\"params\\\": {\\u003cbr\\u003e    \\\"chain_function_mean\\\": -3.228119737155486,\\u003cbr\\u003e    \\\"chain_function_std\\\": 2.0695242842475223,\\u003cbr\\u003e    \\\"chain_function_constant\\\": 9.956555865250822e-05,\\u003cbr\\u003e    \\\"optimizer\\\": \\\"Adam\\\",\\u003cbr\\u003e    \\\"learning_rate\\\": 0.00014943726668550228,\\u003cbr\\u003e    \\\"forecast_distribution\\\": \\\"distr_mixture_linear\\\",\\u003cbr\\u003e    \\\"distribution_1\\\": \\\"distr_trunc_normal\\\",\\u003cbr\\u003e    \\\"distribution_2\\\": \\\"distr_gev\\\",\\u003cbr\\u003e    \\\"perform_batching\\\": true,\\u003cbr\\u003e    \\\"batch_size\\\": 128,\\u003cbr\\u003e    \\\"epochs\\\": 393\\u003cbr\\u003e  }\\u003cbr\\u003e}\",\"{\\u003cbr\\u003e  \\\"number\\\": 164,\\u003cbr\\u003e  \\\"values\\\": [\\u003cbr\\u003e    2.6984358429908752,\\u003cbr\\u003e    0.17838528752326965\\u003cbr\\u003e  ],\\u003cbr\\u003e  \\\"params\\\": {\\u003cbr\\u003e    \\\"chain_function_mean\\\": -1.0965655205824465,\\u003cbr\\u003e    \\\"chain_function_std\\\": 1.8238624792512823,\\u003cbr\\u003e    \\\"chain_function_constant\\\": 0.0001853292529449933,\\u003cbr\\u003e    \\\"optimizer\\\": \\\"Adam\\\",\\u003cbr\\u003e    \\\"learning_rate\\\": 0.011223575179172012,\\u003cbr\\u003e    \\\"forecast_distribution\\\": \\\"distr_mixture_linear\\\",\\u003cbr\\u003e    \\\"distribution_1\\\": \\\"distr_trunc_normal\\\",\\u003cbr\\u003e    \\\"distribution_2\\\": \\\"distr_gev\\\",\\u003cbr\\u003e    \\\"perform_batching\\\": true,\\u003cbr\\u003e    \\\"batch_size\\\": 128,\\u003cbr\\u003e    \\\"epochs\\\": 417\\u003cbr\\u003e  }\\u003cbr\\u003e}\",\"{\\u003cbr\\u003e  \\\"number\\\": 165,\\u003cbr\\u003e  \\\"values\\\": [\\u003cbr\\u003e    4.13017463684082,\\u003cbr\\u003e    0.26929138973355293\\u003cbr\\u003e  ],\\u003cbr\\u003e  \\\"params\\\": {\\u003cbr\\u003e    \\\"chain_function_mean\\\": -1.4674927298873937,\\u003cbr\\u003e    \\\"chain_function_std\\\": 1.0375667650539748,\\u003cbr\\u003e    \\\"chain_function_constant\\\": 0.00018427723313804945,\\u003cbr\\u003e    \\\"optimizer\\\": \\\"SGD\\\",\\u003cbr\\u003e    \\\"learning_rate\\\": 0.011887712402818528,\\u003cbr\\u003e    \\\"forecast_distribution\\\": \\\"distr_trunc_normal\\\",\\u003cbr\\u003e    \\\"perform_batching\\\": false,\\u003cbr\\u003e    \\\"epochs\\\": 400\\u003cbr\\u003e  }\\u003cbr\\u003e}\",\"{\\u003cbr\\u003e  \\\"number\\\": 166,\\u003cbr\\u003e  \\\"values\\\": [\\u003cbr\\u003e    2.8803624510765076,\\u003cbr\\u003e    0.17645982280373573\\u003cbr\\u003e  ],\\u003cbr\\u003e  \\\"params\\\": {\\u003cbr\\u003e    \\\"chain_function_mean\\\": 11.197615824757044,\\u003cbr\\u003e    \\\"chain_function_std\\\": 1.6621358922822678,\\u003cbr\\u003e    \\\"chain_function_constant\\\": 1.5039719227942876e-05,\\u003cbr\\u003e    \\\"optimizer\\\": \\\"Adam\\\",\\u003cbr\\u003e    \\\"learning_rate\\\": 0.009754012168337616,\\u003cbr\\u003e    \\\"forecast_distribution\\\": \\\"distr_trunc_normal\\\",\\u003cbr\\u003e    \\\"perform_batching\\\": true,\\u003cbr\\u003e    \\\"batch_size\\\": 256,\\u003cbr\\u003e    \\\"epochs\\\": 413\\u003cbr\\u003e  }\\u003cbr\\u003e}\",\"{\\u003cbr\\u003e  \\\"number\\\": 167,\\u003cbr\\u003e  \\\"values\\\": [\\u003cbr\\u003e    2.7086010575294495,\\u003cbr\\u003e    0.17916880548000336\\u003cbr\\u003e  ],\\u003cbr\\u003e  \\\"params\\\": {\\u003cbr\\u003e    \\\"chain_function_mean\\\": -1.0484828464653129,\\u003cbr\\u003e    \\\"chain_function_std\\\": 2.251704495981067,\\u003cbr\\u003e    \\\"chain_function_constant\\\": 0.00012237799035492183,\\u003cbr\\u003e    \\\"optimizer\\\": \\\"Adam\\\",\\u003cbr\\u003e    \\\"learning_rate\\\": 0.02146177808852163,\\u003cbr\\u003e    \\\"forecast_distribution\\\": \\\"distr_mixture_linear\\\",\\u003cbr\\u003e    \\\"distribution_1\\\": \\\"distr_trunc_normal\\\",\\u003cbr\\u003e    \\\"distribution_2\\\": \\\"distr_gev\\\",\\u003cbr\\u003e    \\\"perform_batching\\\": true,\\u003cbr\\u003e    \\\"batch_size\\\": 128,\\u003cbr\\u003e    \\\"epochs\\\": 410\\u003cbr\\u003e  }\\u003cbr\\u003e}\",\"{\\u003cbr\\u003e  \\\"number\\\": 168,\\u003cbr\\u003e  \\\"values\\\": [\\u003cbr\\u003e    2.7021372318267822,\\u003cbr\\u003e    0.17925260961055756\\u003cbr\\u003e  ],\\u003cbr\\u003e  \\\"params\\\": {\\u003cbr\\u003e    \\\"chain_function_mean\\\": -3.2340537469195536,\\u003cbr\\u003e    \\\"chain_function_std\\\": 3.5843735862325223,\\u003cbr\\u003e    \\\"chain_function_constant\\\": 0.00015287976961138598,\\u003cbr\\u003e    \\\"optimizer\\\": \\\"Adam\\\",\\u003cbr\\u003e    \\\"learning_rate\\\": 0.007340084674219662,\\u003cbr\\u003e    \\\"forecast_distribution\\\": \\\"distr_mixture_linear\\\",\\u003cbr\\u003e    \\\"distribution_1\\\": \\\"distr_trunc_normal\\\",\\u003cbr\\u003e    \\\"distribution_2\\\": \\\"distr_gev\\\",\\u003cbr\\u003e    \\\"perform_batching\\\": true,\\u003cbr\\u003e    \\\"batch_size\\\": 128,\\u003cbr\\u003e    \\\"epochs\\\": 424\\u003cbr\\u003e  }\\u003cbr\\u003e}\",\"{\\u003cbr\\u003e  \\\"number\\\": 169,\\u003cbr\\u003e  \\\"values\\\": [\\u003cbr\\u003e    2.7062718272209167,\\u003cbr\\u003e    0.18140697479248047\\u003cbr\\u003e  ],\\u003cbr\\u003e  \\\"params\\\": {\\u003cbr\\u003e    \\\"chain_function_mean\\\": -1.9421444906941319,\\u003cbr\\u003e    \\\"chain_function_std\\\": 2.6462961235890776,\\u003cbr\\u003e    \\\"chain_function_constant\\\": 8.958172813344787e-05,\\u003cbr\\u003e    \\\"optimizer\\\": \\\"Adam\\\",\\u003cbr\\u003e    \\\"learning_rate\\\": 0.01433191192299591,\\u003cbr\\u003e    \\\"forecast_distribution\\\": \\\"distr_mixture_linear\\\",\\u003cbr\\u003e    \\\"distribution_1\\\": \\\"distr_trunc_normal\\\",\\u003cbr\\u003e    \\\"distribution_2\\\": \\\"distr_gev\\\",\\u003cbr\\u003e    \\\"perform_batching\\\": true,\\u003cbr\\u003e    \\\"batch_size\\\": 128,\\u003cbr\\u003e    \\\"epochs\\\": 411\\u003cbr\\u003e  }\\u003cbr\\u003e}\",\"{\\u003cbr\\u003e  \\\"number\\\": 170,\\u003cbr\\u003e  \\\"values\\\": [\\u003cbr\\u003e    2.705824851989746,\\u003cbr\\u003e    0.18070073798298836\\u003cbr\\u003e  ],\\u003cbr\\u003e  \\\"params\\\": {\\u003cbr\\u003e    \\\"chain_function_mean\\\": -2.671767840495556,\\u003cbr\\u003e    \\\"chain_function_std\\\": 1.6811653470107888,\\u003cbr\\u003e    \\\"chain_function_constant\\\": 0.00018615393077546204,\\u003cbr\\u003e    \\\"optimizer\\\": \\\"Adam\\\",\\u003cbr\\u003e    \\\"learning_rate\\\": 0.012356043602746364,\\u003cbr\\u003e    \\\"forecast_distribution\\\": \\\"distr_mixture_linear\\\",\\u003cbr\\u003e    \\\"distribution_1\\\": \\\"distr_trunc_normal\\\",\\u003cbr\\u003e    \\\"distribution_2\\\": \\\"distr_gev\\\",\\u003cbr\\u003e    \\\"perform_batching\\\": true,\\u003cbr\\u003e    \\\"batch_size\\\": 128,\\u003cbr\\u003e    \\\"epochs\\\": 444\\u003cbr\\u003e  }\\u003cbr\\u003e}\",\"{\\u003cbr\\u003e  \\\"number\\\": 172,\\u003cbr\\u003e  \\\"values\\\": [\\u003cbr\\u003e    2.876785099506378,\\u003cbr\\u003e    0.17733144015073776\\u003cbr\\u003e  ],\\u003cbr\\u003e  \\\"params\\\": {\\u003cbr\\u003e    \\\"chain_function_mean\\\": 10.817245394436343,\\u003cbr\\u003e    \\\"chain_function_std\\\": 1.4015932284758317,\\u003cbr\\u003e    \\\"chain_function_constant\\\": 0.0003814401443646158,\\u003cbr\\u003e    \\\"optimizer\\\": \\\"Adam\\\",\\u003cbr\\u003e    \\\"learning_rate\\\": 0.008894853400279599,\\u003cbr\\u003e    \\\"forecast_distribution\\\": \\\"distr_trunc_normal\\\",\\u003cbr\\u003e    \\\"perform_batching\\\": true,\\u003cbr\\u003e    \\\"batch_size\\\": 128,\\u003cbr\\u003e    \\\"epochs\\\": 270\\u003cbr\\u003e  }\\u003cbr\\u003e}\",\"{\\u003cbr\\u003e  \\\"number\\\": 173,\\u003cbr\\u003e  \\\"values\\\": [\\u003cbr\\u003e    2.7083524465560913,\\u003cbr\\u003e    0.180971197783947\\u003cbr\\u003e  ],\\u003cbr\\u003e  \\\"params\\\": {\\u003cbr\\u003e    \\\"chain_function_mean\\\": -2.8237256902437586,\\u003cbr\\u003e    \\\"chain_function_std\\\": 1.524494637673999,\\u003cbr\\u003e    \\\"chain_function_constant\\\": 0.00042021600226347565,\\u003cbr\\u003e    \\\"optimizer\\\": \\\"Adam\\\",\\u003cbr\\u003e    \\\"learning_rate\\\": 0.009176855182464212,\\u003cbr\\u003e    \\\"forecast_distribution\\\": \\\"distr_trunc_normal\\\",\\u003cbr\\u003e    \\\"perform_batching\\\": true,\\u003cbr\\u003e    \\\"batch_size\\\": 256,\\u003cbr\\u003e    \\\"epochs\\\": 484\\u003cbr\\u003e  }\\u003cbr\\u003e}\"],\"x\":[6.857719659805298,2.7068868279457092,2.707387685775757,7.781105995178223,2.712414562702179,7.844149827957153,5.163564205169678,3.2693737745285034,2.707865536212921,3.0313754081726074,10.303478240966797,2.780767560005188,6.279019117355347,3.380695343017578,2.9159937500953674,2.7207736372947693,9.976555585861206,2.7285261154174805,11.437721967697144,2.7918731570243835,2.719066619873047,2.7802626490592957,2.7766727209091187,2.999790906906128,2.7539538741111755,2.7380585074424744,2.7504209876060486,2.8274190425872803,2.7075695395469666,2.7073572278022766,2.7066689133644104,2.717193841934204,2.7086182832717896,2.726343870162964,3.559202194213867,2.710324466228485,2.7086638808250427,4.160776615142822,2.722476303577423,9.872849941253662,2.8216095566749573,2.7417330145835876,9.154417753219604,2.7313432693481445,2.712631583213806,2.716261148452759,11.561511516571045,2.7097208499908447,3.257739782333374,2.787211775779724,3.0351170897483826,3.041444778442383,2.8117628693580627,2.869038701057434,3.0315831899642944,3.1919878721237183,3.52398943901062,2.7979244589805603,3.1855068802833557,2.851145565509796,11.646679401397705,7.592499256134033,5.892446279525757,2.869210720062256,4.491639852523804,9.791269540786743,2.712471604347229,2.7253670692443848,2.7376953959465027,2.7729315757751465,9.914034843444824,2.7453086972236633,2.701168477535248,9951513313017858.0,2.9602457880973816,2.7031825184822083,8.563292503356934,10.28159499168396,2.9764585494995117,2.803935468196869,3.2241461873054504,9.414665460586548,2.724461555480957,2.8436564207077026,2.796791911125183,10.319738864898682,2.7876790165901184,2.8032538890838623,2.929397225379944,2.755766451358795,9.968915939331055,3.0574503540992737,2.7878864407539368,9.955462455749512,2.923154652118683,2.803644597530365,3.151771128177643,10.300528287887573,2.840678334236145,2.7283416986465454,3.0322219729423523,2.745164215564728,3.4059996604919434,9.894656658172607,2.7069219946861267,2.747617781162262,2.7098857760429382,9.75523829460144,2.727758228778839,3.029498338699341,2.942570388317108,2.853607177734375,2.976686477661133,2.7371020317077637,9.763550519943237,2.721861243247986,3.1684255599975586,9.966609239578247,2.8593857884407043,3.047266721725464,2.7140244841575623,2.7246435284614563,2.7102255821228027,3.1558706164360046,3.884777784347534,3.1558733582496643,2.711425244808197,2.7266077399253845,2.8197314739227295,2.792769432067871,9.840768575668335,9.968802690505981,2.849826991558075,2.8877017498016357,3.0975175499916077,9.86608624458313,2.723280370235443,2.712288796901703,2.8483279943466187,2.982596695423126,2.711312770843506,8.099819660186768,2.8505595922470093,2.713400363922119,3.3266011476516724,8.184223413467407,3.220567047595978,2.711347758769989,2.712254583835602,2.822677254676819,3.1670435667037964,8.612420558929443,2.9853583574295044,2.7046290040016174,10.413721799850464,2.7331679463386536,2.7159796357154846,2.6960097551345825,2.7039589285850525,2.7026917338371277,2.7109578251838684,2.6984358429908752,4.13017463684082,2.8803624510765076,2.7086010575294495,2.7021372318267822,2.7062718272209167,2.705824851989746,2.876785099506378,2.7083524465560913],\"y\":[0.24745424091815948,0.18107673153281212,0.18062767386436462,0.2917838990688324,0.18150850385427475,0.2921120226383209,0.3390817642211914,0.1938517466187477,0.18080054223537445,0.22385223954916,0.30033228918910027,0.18001408874988556,0.36110496520996094,0.23045691847801208,0.19983584061264992,0.18145718052983284,0.300634678453207,0.18249428644776344,0.3012692891061306,0.1805586814880371,0.18151003122329712,0.179512158036232,0.17940985783934593,0.1776863932609558,0.1784217208623886,0.17931987345218658,0.17940856888890266,0.17791029810905457,0.18051982298493385,0.1803307607769966,0.18055195733904839,0.1810912862420082,0.17996812611818314,0.17928890883922577,0.19323212653398514,0.1801108494400978,0.18021013587713242,0.204006165266037,0.18093814700841904,0.3013862185180187,0.17792407795786858,0.1784018538892269,0.30080437660217285,0.18551310151815414,0.18171465769410133,0.18121807649731636,0.3012460172176361,0.17972959950566292,0.19533534348011017,0.18803881108760834,0.17757552862167358,0.1778937354683876,0.1799292042851448,0.17856911569833755,0.1770503930747509,0.18332720547914505,0.19447871297597885,0.1791129745543003,0.18584440276026726,0.17946646362543106,0.301001712679863,0.29395490884780884,0.3181852102279663,0.17762825265526772,0.1983233466744423,0.30173320695757866,0.17971305549144745,0.17977959290146828,0.18249138072133064,0.17843223735690117,0.30129194259643555,0.1789550967514515,0.17878421396017075,10.0,0.17854370549321175,0.17908001318573952,0.29542822390794754,0.3002767451107502,0.18248679861426353,0.1820959635078907,0.17833564430475235,0.2951228767633438,0.1793186515569687,0.17859472706913948,0.17816290631890297,0.3003442883491516,0.17865020781755447,0.18137653917074203,0.1799728162586689,0.17812320590019226,0.3011695332825184,0.18306727707386017,0.17977550998330116,0.30129745230078697,0.1799013651907444,0.17820372804999352,0.18164171278476715,0.3003297932446003,0.18090004101395607,0.17959530279040337,0.17781221866607666,0.1855997033417225,0.17854765802621841,0.3013542890548706,0.1798439584672451,0.18057671934366226,0.18123814836144447,0.30186476185917854,0.1782992109656334,0.1768028922379017,0.17946439236402512,0.18079407140612602,0.17703116312623024,0.17830289155244827,0.3003053553402424,0.18210676312446594,0.17858529835939407,0.3012638948857784,0.1771707721054554,0.17858700081706047,0.17985055223107338,0.18049225583672523,0.17966405674815178,0.17935268208384514,0.27496328949928284,0.17884327471256256,0.18099373579025269,0.1808663308620453,0.1790015660226345,0.17930911108851433,0.3012235015630722,0.3012827858328819,0.17776444926857948,0.17882182449102402,0.17804257199168205,0.30037442967295647,0.1829678863286972,0.1812252551317215,0.17978855222463608,0.18065466731786728,0.1799137108027935,0.2992013283073902,0.18294862285256386,0.1810213439166546,0.17905635759234428,0.2964539974927902,0.17864931747317314,0.1811719760298729,0.1806502416729927,0.17806517705321312,0.18253198266029358,0.29616157710552216,0.17849669978022575,0.180394247174263,0.3014184832572937,0.18022100254893303,0.18137720972299576,0.17891404032707214,0.18021008372306824,0.1804777793586254,0.1824987716972828,0.17838528752326965,0.26929138973355293,0.17645982280373573,0.17916880548000336,0.17925260961055756,0.18140697479248047,0.18070073798298836,0.17733144015073776,0.180971197783947],\"type\":\"scatter\"},{\"hovertemplate\":\"%{text}\\u003cextra\\u003eBest Trial\\u003c\\u002fextra\\u003e\",\"marker\":{\"color\":[60,75,133,171],\"colorbar\":{\"title\":{\"text\":\"Best Trial\"},\"x\":1.1,\"xpad\":40},\"colorscale\":[[0.0,\"rgb(255,245,240)\"],[0.125,\"rgb(254,224,210)\"],[0.25,\"rgb(252,187,161)\"],[0.375,\"rgb(252,146,114)\"],[0.5,\"rgb(251,106,74)\"],[0.625,\"rgb(239,59,44)\"],[0.75,\"rgb(203,24,29)\"],[0.875,\"rgb(165,15,21)\"],[1.0,\"rgb(103,0,13)\"]],\"line\":{\"color\":\"Grey\",\"width\":0.5}},\"mode\":\"markers\",\"showlegend\":false,\"text\":[\"{\\u003cbr\\u003e  \\\"number\\\": 60,\\u003cbr\\u003e  \\\"values\\\": [\\u003cbr\\u003e    2.845130443572998,\\u003cbr\\u003e    0.1761699542403221\\u003cbr\\u003e  ],\\u003cbr\\u003e  \\\"params\\\": {\\u003cbr\\u003e    \\\"chain_function_mean\\\": 10.816164399855145,\\u003cbr\\u003e    \\\"chain_function_std\\\": 1.7859319383959147,\\u003cbr\\u003e    \\\"chain_function_constant\\\": 0.0002098891764671806,\\u003cbr\\u003e    \\\"optimizer\\\": \\\"Adam\\\",\\u003cbr\\u003e    \\\"learning_rate\\\": 0.011948837088205922,\\u003cbr\\u003e    \\\"forecast_distribution\\\": \\\"distr_trunc_normal\\\",\\u003cbr\\u003e    \\\"perform_batching\\\": true,\\u003cbr\\u003e    \\\"batch_size\\\": 128,\\u003cbr\\u003e    \\\"epochs\\\": 290\\u003cbr\\u003e  }\\u003cbr\\u003e}\",\"{\\u003cbr\\u003e  \\\"number\\\": 75,\\u003cbr\\u003e  \\\"values\\\": [\\u003cbr\\u003e    2.7332512736320496,\\u003cbr\\u003e    0.17776165530085564\\u003cbr\\u003e  ],\\u003cbr\\u003e  \\\"params\\\": {\\u003cbr\\u003e    \\\"chain_function_mean\\\": 9.19786222823183,\\u003cbr\\u003e    \\\"chain_function_std\\\": 2.9358057381543485,\\u003cbr\\u003e    \\\"chain_function_constant\\\": 0.0008953971292586461,\\u003cbr\\u003e    \\\"optimizer\\\": \\\"Adam\\\",\\u003cbr\\u003e    \\\"learning_rate\\\": 0.0107498927076262,\\u003cbr\\u003e    \\\"forecast_distribution\\\": \\\"distr_mixture_linear\\\",\\u003cbr\\u003e    \\\"distribution_1\\\": \\\"distr_trunc_normal\\\",\\u003cbr\\u003e    \\\"distribution_2\\\": \\\"distr_gev\\\",\\u003cbr\\u003e    \\\"perform_batching\\\": true,\\u003cbr\\u003e    \\\"batch_size\\\": 128,\\u003cbr\\u003e    \\\"epochs\\\": 418\\u003cbr\\u003e  }\\u003cbr\\u003e}\",\"{\\u003cbr\\u003e  \\\"number\\\": 133,\\u003cbr\\u003e  \\\"values\\\": [\\u003cbr\\u003e    2.7571710348129272,\\u003cbr\\u003e    0.17763254418969154\\u003cbr\\u003e  ],\\u003cbr\\u003e  \\\"params\\\": {\\u003cbr\\u003e    \\\"chain_function_mean\\\": 10.426934895766859,\\u003cbr\\u003e    \\\"chain_function_std\\\": 2.9140508694306333,\\u003cbr\\u003e    \\\"chain_function_constant\\\": 0.00020249680596878128,\\u003cbr\\u003e    \\\"optimizer\\\": \\\"Adam\\\",\\u003cbr\\u003e    \\\"learning_rate\\\": 0.013319128546787101,\\u003cbr\\u003e    \\\"forecast_distribution\\\": \\\"distr_trunc_normal\\\",\\u003cbr\\u003e    \\\"perform_batching\\\": true,\\u003cbr\\u003e    \\\"batch_size\\\": 128,\\u003cbr\\u003e    \\\"epochs\\\": 292\\u003cbr\\u003e  }\\u003cbr\\u003e}\",\"{\\u003cbr\\u003e  \\\"number\\\": 171,\\u003cbr\\u003e  \\\"values\\\": [\\u003cbr\\u003e    2.6950167417526245,\\u003cbr\\u003e    0.17815743014216423\\u003cbr\\u003e  ],\\u003cbr\\u003e  \\\"params\\\": {\\u003cbr\\u003e    \\\"chain_function_mean\\\": -3.8286614797215854,\\u003cbr\\u003e    \\\"chain_function_std\\\": 1.4856259272730807,\\u003cbr\\u003e    \\\"chain_function_constant\\\": 0.00020319873200054368,\\u003cbr\\u003e    \\\"optimizer\\\": \\\"Adam\\\",\\u003cbr\\u003e    \\\"learning_rate\\\": 0.008281944399542013,\\u003cbr\\u003e    \\\"forecast_distribution\\\": \\\"distr_mixture_linear\\\",\\u003cbr\\u003e    \\\"distribution_1\\\": \\\"distr_trunc_normal\\\",\\u003cbr\\u003e    \\\"distribution_2\\\": \\\"distr_gev\\\",\\u003cbr\\u003e    \\\"perform_batching\\\": true,\\u003cbr\\u003e    \\\"batch_size\\\": 128,\\u003cbr\\u003e    \\\"epochs\\\": 432\\u003cbr\\u003e  }\\u003cbr\\u003e}\"],\"x\":[2.845130443572998,2.7332512736320496,2.7571710348129272,2.6950167417526245],\"y\":[0.1761699542403221,0.17776165530085564,0.17763254418969154,0.17815743014216423],\"type\":\"scatter\"}],                        {\"title\":{\"text\":\"Pareto-front Plot\"},\"xaxis\":{\"title\":{\"text\":\"CRPS\"}},\"yaxis\":{\"title\":{\"text\":\"twCRPS12\"}},\"template\":{\"data\":{\"histogram2dcontour\":[{\"type\":\"histogram2dcontour\",\"colorbar\":{\"outlinewidth\":0,\"ticks\":\"\"},\"colorscale\":[[0.0,\"#0d0887\"],[0.1111111111111111,\"#46039f\"],[0.2222222222222222,\"#7201a8\"],[0.3333333333333333,\"#9c179e\"],[0.4444444444444444,\"#bd3786\"],[0.5555555555555556,\"#d8576b\"],[0.6666666666666666,\"#ed7953\"],[0.7777777777777778,\"#fb9f3a\"],[0.8888888888888888,\"#fdca26\"],[1.0,\"#f0f921\"]]}],\"choropleth\":[{\"type\":\"choropleth\",\"colorbar\":{\"outlinewidth\":0,\"ticks\":\"\"}}],\"histogram2d\":[{\"type\":\"histogram2d\",\"colorbar\":{\"outlinewidth\":0,\"ticks\":\"\"},\"colorscale\":[[0.0,\"#0d0887\"],[0.1111111111111111,\"#46039f\"],[0.2222222222222222,\"#7201a8\"],[0.3333333333333333,\"#9c179e\"],[0.4444444444444444,\"#bd3786\"],[0.5555555555555556,\"#d8576b\"],[0.6666666666666666,\"#ed7953\"],[0.7777777777777778,\"#fb9f3a\"],[0.8888888888888888,\"#fdca26\"],[1.0,\"#f0f921\"]]}],\"heatmap\":[{\"type\":\"heatmap\",\"colorbar\":{\"outlinewidth\":0,\"ticks\":\"\"},\"colorscale\":[[0.0,\"#0d0887\"],[0.1111111111111111,\"#46039f\"],[0.2222222222222222,\"#7201a8\"],[0.3333333333333333,\"#9c179e\"],[0.4444444444444444,\"#bd3786\"],[0.5555555555555556,\"#d8576b\"],[0.6666666666666666,\"#ed7953\"],[0.7777777777777778,\"#fb9f3a\"],[0.8888888888888888,\"#fdca26\"],[1.0,\"#f0f921\"]]}],\"heatmapgl\":[{\"type\":\"heatmapgl\",\"colorbar\":{\"outlinewidth\":0,\"ticks\":\"\"},\"colorscale\":[[0.0,\"#0d0887\"],[0.1111111111111111,\"#46039f\"],[0.2222222222222222,\"#7201a8\"],[0.3333333333333333,\"#9c179e\"],[0.4444444444444444,\"#bd3786\"],[0.5555555555555556,\"#d8576b\"],[0.6666666666666666,\"#ed7953\"],[0.7777777777777778,\"#fb9f3a\"],[0.8888888888888888,\"#fdca26\"],[1.0,\"#f0f921\"]]}],\"contourcarpet\":[{\"type\":\"contourcarpet\",\"colorbar\":{\"outlinewidth\":0,\"ticks\":\"\"}}],\"contour\":[{\"type\":\"contour\",\"colorbar\":{\"outlinewidth\":0,\"ticks\":\"\"},\"colorscale\":[[0.0,\"#0d0887\"],[0.1111111111111111,\"#46039f\"],[0.2222222222222222,\"#7201a8\"],[0.3333333333333333,\"#9c179e\"],[0.4444444444444444,\"#bd3786\"],[0.5555555555555556,\"#d8576b\"],[0.6666666666666666,\"#ed7953\"],[0.7777777777777778,\"#fb9f3a\"],[0.8888888888888888,\"#fdca26\"],[1.0,\"#f0f921\"]]}],\"surface\":[{\"type\":\"surface\",\"colorbar\":{\"outlinewidth\":0,\"ticks\":\"\"},\"colorscale\":[[0.0,\"#0d0887\"],[0.1111111111111111,\"#46039f\"],[0.2222222222222222,\"#7201a8\"],[0.3333333333333333,\"#9c179e\"],[0.4444444444444444,\"#bd3786\"],[0.5555555555555556,\"#d8576b\"],[0.6666666666666666,\"#ed7953\"],[0.7777777777777778,\"#fb9f3a\"],[0.8888888888888888,\"#fdca26\"],[1.0,\"#f0f921\"]]}],\"mesh3d\":[{\"type\":\"mesh3d\",\"colorbar\":{\"outlinewidth\":0,\"ticks\":\"\"}}],\"scatter\":[{\"fillpattern\":{\"fillmode\":\"overlay\",\"size\":10,\"solidity\":0.2},\"type\":\"scatter\"}],\"parcoords\":[{\"type\":\"parcoords\",\"line\":{\"colorbar\":{\"outlinewidth\":0,\"ticks\":\"\"}}}],\"scatterpolargl\":[{\"type\":\"scatterpolargl\",\"marker\":{\"colorbar\":{\"outlinewidth\":0,\"ticks\":\"\"}}}],\"bar\":[{\"error_x\":{\"color\":\"#2a3f5f\"},\"error_y\":{\"color\":\"#2a3f5f\"},\"marker\":{\"line\":{\"color\":\"#E5ECF6\",\"width\":0.5},\"pattern\":{\"fillmode\":\"overlay\",\"size\":10,\"solidity\":0.2}},\"type\":\"bar\"}],\"scattergeo\":[{\"type\":\"scattergeo\",\"marker\":{\"colorbar\":{\"outlinewidth\":0,\"ticks\":\"\"}}}],\"scatterpolar\":[{\"type\":\"scatterpolar\",\"marker\":{\"colorbar\":{\"outlinewidth\":0,\"ticks\":\"\"}}}],\"histogram\":[{\"marker\":{\"pattern\":{\"fillmode\":\"overlay\",\"size\":10,\"solidity\":0.2}},\"type\":\"histogram\"}],\"scattergl\":[{\"type\":\"scattergl\",\"marker\":{\"colorbar\":{\"outlinewidth\":0,\"ticks\":\"\"}}}],\"scatter3d\":[{\"type\":\"scatter3d\",\"line\":{\"colorbar\":{\"outlinewidth\":0,\"ticks\":\"\"}},\"marker\":{\"colorbar\":{\"outlinewidth\":0,\"ticks\":\"\"}}}],\"scattermapbox\":[{\"type\":\"scattermapbox\",\"marker\":{\"colorbar\":{\"outlinewidth\":0,\"ticks\":\"\"}}}],\"scatterternary\":[{\"type\":\"scatterternary\",\"marker\":{\"colorbar\":{\"outlinewidth\":0,\"ticks\":\"\"}}}],\"scattercarpet\":[{\"type\":\"scattercarpet\",\"marker\":{\"colorbar\":{\"outlinewidth\":0,\"ticks\":\"\"}}}],\"carpet\":[{\"aaxis\":{\"endlinecolor\":\"#2a3f5f\",\"gridcolor\":\"white\",\"linecolor\":\"white\",\"minorgridcolor\":\"white\",\"startlinecolor\":\"#2a3f5f\"},\"baxis\":{\"endlinecolor\":\"#2a3f5f\",\"gridcolor\":\"white\",\"linecolor\":\"white\",\"minorgridcolor\":\"white\",\"startlinecolor\":\"#2a3f5f\"},\"type\":\"carpet\"}],\"table\":[{\"cells\":{\"fill\":{\"color\":\"#EBF0F8\"},\"line\":{\"color\":\"white\"}},\"header\":{\"fill\":{\"color\":\"#C8D4E3\"},\"line\":{\"color\":\"white\"}},\"type\":\"table\"}],\"barpolar\":[{\"marker\":{\"line\":{\"color\":\"#E5ECF6\",\"width\":0.5},\"pattern\":{\"fillmode\":\"overlay\",\"size\":10,\"solidity\":0.2}},\"type\":\"barpolar\"}],\"pie\":[{\"automargin\":true,\"type\":\"pie\"}]},\"layout\":{\"autotypenumbers\":\"strict\",\"colorway\":[\"#636efa\",\"#EF553B\",\"#00cc96\",\"#ab63fa\",\"#FFA15A\",\"#19d3f3\",\"#FF6692\",\"#B6E880\",\"#FF97FF\",\"#FECB52\"],\"font\":{\"color\":\"#2a3f5f\"},\"hovermode\":\"closest\",\"hoverlabel\":{\"align\":\"left\"},\"paper_bgcolor\":\"white\",\"plot_bgcolor\":\"#E5ECF6\",\"polar\":{\"bgcolor\":\"#E5ECF6\",\"angularaxis\":{\"gridcolor\":\"white\",\"linecolor\":\"white\",\"ticks\":\"\"},\"radialaxis\":{\"gridcolor\":\"white\",\"linecolor\":\"white\",\"ticks\":\"\"}},\"ternary\":{\"bgcolor\":\"#E5ECF6\",\"aaxis\":{\"gridcolor\":\"white\",\"linecolor\":\"white\",\"ticks\":\"\"},\"baxis\":{\"gridcolor\":\"white\",\"linecolor\":\"white\",\"ticks\":\"\"},\"caxis\":{\"gridcolor\":\"white\",\"linecolor\":\"white\",\"ticks\":\"\"}},\"coloraxis\":{\"colorbar\":{\"outlinewidth\":0,\"ticks\":\"\"}},\"colorscale\":{\"sequential\":[[0.0,\"#0d0887\"],[0.1111111111111111,\"#46039f\"],[0.2222222222222222,\"#7201a8\"],[0.3333333333333333,\"#9c179e\"],[0.4444444444444444,\"#bd3786\"],[0.5555555555555556,\"#d8576b\"],[0.6666666666666666,\"#ed7953\"],[0.7777777777777778,\"#fb9f3a\"],[0.8888888888888888,\"#fdca26\"],[1.0,\"#f0f921\"]],\"sequentialminus\":[[0.0,\"#0d0887\"],[0.1111111111111111,\"#46039f\"],[0.2222222222222222,\"#7201a8\"],[0.3333333333333333,\"#9c179e\"],[0.4444444444444444,\"#bd3786\"],[0.5555555555555556,\"#d8576b\"],[0.6666666666666666,\"#ed7953\"],[0.7777777777777778,\"#fb9f3a\"],[0.8888888888888888,\"#fdca26\"],[1.0,\"#f0f921\"]],\"diverging\":[[0,\"#8e0152\"],[0.1,\"#c51b7d\"],[0.2,\"#de77ae\"],[0.3,\"#f1b6da\"],[0.4,\"#fde0ef\"],[0.5,\"#f7f7f7\"],[0.6,\"#e6f5d0\"],[0.7,\"#b8e186\"],[0.8,\"#7fbc41\"],[0.9,\"#4d9221\"],[1,\"#276419\"]]},\"xaxis\":{\"gridcolor\":\"white\",\"linecolor\":\"white\",\"ticks\":\"\",\"title\":{\"standoff\":15},\"zerolinecolor\":\"white\",\"automargin\":true,\"zerolinewidth\":2},\"yaxis\":{\"gridcolor\":\"white\",\"linecolor\":\"white\",\"ticks\":\"\",\"title\":{\"standoff\":15},\"zerolinecolor\":\"white\",\"automargin\":true,\"zerolinewidth\":2},\"scene\":{\"xaxis\":{\"backgroundcolor\":\"#E5ECF6\",\"gridcolor\":\"white\",\"linecolor\":\"white\",\"showbackground\":true,\"ticks\":\"\",\"zerolinecolor\":\"white\",\"gridwidth\":2},\"yaxis\":{\"backgroundcolor\":\"#E5ECF6\",\"gridcolor\":\"white\",\"linecolor\":\"white\",\"showbackground\":true,\"ticks\":\"\",\"zerolinecolor\":\"white\",\"gridwidth\":2},\"zaxis\":{\"backgroundcolor\":\"#E5ECF6\",\"gridcolor\":\"white\",\"linecolor\":\"white\",\"showbackground\":true,\"ticks\":\"\",\"zerolinecolor\":\"white\",\"gridwidth\":2}},\"shapedefaults\":{\"line\":{\"color\":\"#2a3f5f\"}},\"annotationdefaults\":{\"arrowcolor\":\"#2a3f5f\",\"arrowhead\":0,\"arrowwidth\":1},\"geo\":{\"bgcolor\":\"white\",\"landcolor\":\"#E5ECF6\",\"subunitcolor\":\"white\",\"showland\":true,\"showlakes\":true,\"lakecolor\":\"white\"},\"title\":{\"x\":0.05},\"mapbox\":{\"style\":\"light\"}}}},                        {\"responsive\": true}                    ).then(function(){\n",
       "                            \n",
       "var gd = document.getElementById('d9a94201-1d31-4cd1-b5cc-c708b971ac2a');\n",
       "var x = new MutationObserver(function (mutations, observer) {{\n",
       "        var display = window.getComputedStyle(gd).display;\n",
       "        if (!display || display === 'none') {{\n",
       "            console.log([gd, 'removed!']);\n",
       "            Plotly.purge(gd);\n",
       "            observer.disconnect();\n",
       "        }}\n",
       "}});\n",
       "\n",
       "// Listen for the removal of the full notebook cells\n",
       "var notebookContainer = gd.closest('#notebook-container');\n",
       "if (notebookContainer) {{\n",
       "    x.observe(notebookContainer, {childList: true});\n",
       "}}\n",
       "\n",
       "// Listen for the clearing of the current output cell\n",
       "var outputEl = gd.closest('.output');\n",
       "if (outputEl) {{\n",
       "    x.observe(outputEl, {childList: true});\n",
       "}}\n",
       "\n",
       "                        })                };                });            </script>        </div>"
      ]
     },
     "metadata": {},
     "output_type": "display_data"
    }
   ],
   "source": [
    "optuna.visualization.plot_pareto_front(study2)"
   ]
  },
  {
   "cell_type": "code",
   "execution_count": 37,
   "metadata": {},
   "outputs": [
    {
     "name": "stdout",
     "output_type": "stream",
     "text": [
      "Index(['number', 'CRPS', 'twCRPS12', 'datetime_start', 'datetime_complete',\n",
      "       'duration', 'batch_size', 'cf_constant', 'cf_mean', 'cf_std',\n",
      "       'distribution_1', 'distribution_2', 'epochs', 'forecast_distribution',\n",
      "       'learning_rate', 'optimizer', 'params_perform_batching', 'state'],\n",
      "      dtype='object')\n"
     ]
    }
   ],
   "source": [
    "df = study2.trials_dataframe()\n",
    "\n",
    "new_column_names = {\n",
    "    'params_chain_function_mean': 'cf_mean',\n",
    "    'params_chain_function_std': 'cf_std',\n",
    "    'params_chain_function_constant': 'cf_constant',\n",
    "    'values_CRPS': 'CRPS',\n",
    "    'values_twCRPS12': 'twCRPS12',\n",
    "    'params_forecast_distribution': 'forecast_distribution',\n",
    "    'params_distribution_1': 'distribution_1',\n",
    "    'params_distribution_2': 'distribution_2',\n",
    "    'params_epochs': 'epochs',\n",
    "    'params_learning_rate': 'learning_rate',\n",
    "    'params_batch_size': 'batch_size',\n",
    "    'params_optimizer': 'optimizer'\n",
    "}\n",
    "\n",
    "df.rename(columns=new_column_names, inplace=True)\n",
    "\n",
    "print(df.columns)"
   ]
  },
  {
   "cell_type": "code",
   "execution_count": 38,
   "metadata": {},
   "outputs": [],
   "source": [
    "top_CRPS = df.sort_values('CRPS').head(12)"
   ]
  },
  {
   "cell_type": "code",
   "execution_count": 39,
   "metadata": {},
   "outputs": [],
   "source": [
    "top_twCRPS12 = df.sort_values('twCRPS12').head(8)"
   ]
  },
  {
   "cell_type": "code",
   "execution_count": 40,
   "metadata": {},
   "outputs": [],
   "source": [
    "\n",
    "pareto_front = study2.best_trials\n",
    "best_runs = [trial.number for trial in pareto_front]\n",
    "\n",
    "pareto_trials = df['number'].isin(best_runs)\n",
    "\n",
    "my_run = df[pareto_trials]\n"
   ]
  },
  {
   "cell_type": "code",
   "execution_count": 41,
   "metadata": {},
   "outputs": [],
   "source": [
    "params = ['cf_mean',\n",
    "           'cf_std', \n",
    "           'cf_constant',\n",
    "             'forecast_distribution', \n",
    "             'CRPS',\n",
    "             'distribution_1',\n",
    "              'distribution_2',\n",
    "             'twCRPS12',\n",
    "             ]"
   ]
  },
  {
   "cell_type": "code",
   "execution_count": 42,
   "metadata": {},
   "outputs": [
    {
     "data": {
      "text/html": [
       "<div>\n",
       "<style scoped>\n",
       "    .dataframe tbody tr th:only-of-type {\n",
       "        vertical-align: middle;\n",
       "    }\n",
       "\n",
       "    .dataframe tbody tr th {\n",
       "        vertical-align: top;\n",
       "    }\n",
       "\n",
       "    .dataframe thead th {\n",
       "        text-align: right;\n",
       "    }\n",
       "</style>\n",
       "<table border=\"1\" class=\"dataframe\">\n",
       "  <thead>\n",
       "    <tr style=\"text-align: right;\">\n",
       "      <th></th>\n",
       "      <th>cf_mean</th>\n",
       "      <th>cf_std</th>\n",
       "      <th>cf_constant</th>\n",
       "      <th>forecast_distribution</th>\n",
       "      <th>CRPS</th>\n",
       "      <th>distribution_1</th>\n",
       "      <th>distribution_2</th>\n",
       "      <th>twCRPS12</th>\n",
       "    </tr>\n",
       "  </thead>\n",
       "  <tbody>\n",
       "    <tr>\n",
       "      <th>171</th>\n",
       "      <td>-3.828661</td>\n",
       "      <td>1.485626</td>\n",
       "      <td>0.000203</td>\n",
       "      <td>distr_mixture_linear</td>\n",
       "      <td>2.695017</td>\n",
       "      <td>distr_trunc_normal</td>\n",
       "      <td>distr_gev</td>\n",
       "      <td>0.178157</td>\n",
       "    </tr>\n",
       "    <tr>\n",
       "      <th>160</th>\n",
       "      <td>-2.897627</td>\n",
       "      <td>3.120845</td>\n",
       "      <td>0.000129</td>\n",
       "      <td>distr_mixture_linear</td>\n",
       "      <td>2.696010</td>\n",
       "      <td>distr_trunc_normal</td>\n",
       "      <td>distr_gev</td>\n",
       "      <td>0.178914</td>\n",
       "    </tr>\n",
       "    <tr>\n",
       "      <th>164</th>\n",
       "      <td>-1.096566</td>\n",
       "      <td>1.823862</td>\n",
       "      <td>0.000185</td>\n",
       "      <td>distr_mixture_linear</td>\n",
       "      <td>2.698436</td>\n",
       "      <td>distr_trunc_normal</td>\n",
       "      <td>distr_gev</td>\n",
       "      <td>0.178385</td>\n",
       "    </tr>\n",
       "    <tr>\n",
       "      <th>73</th>\n",
       "      <td>8.145216</td>\n",
       "      <td>7.913398</td>\n",
       "      <td>0.000104</td>\n",
       "      <td>distr_mixture_linear</td>\n",
       "      <td>2.701168</td>\n",
       "      <td>distr_trunc_normal</td>\n",
       "      <td>distr_gev</td>\n",
       "      <td>0.178784</td>\n",
       "    </tr>\n",
       "    <tr>\n",
       "      <th>168</th>\n",
       "      <td>-3.234054</td>\n",
       "      <td>3.584374</td>\n",
       "      <td>0.000153</td>\n",
       "      <td>distr_mixture_linear</td>\n",
       "      <td>2.702137</td>\n",
       "      <td>distr_trunc_normal</td>\n",
       "      <td>distr_gev</td>\n",
       "      <td>0.179253</td>\n",
       "    </tr>\n",
       "    <tr>\n",
       "      <th>162</th>\n",
       "      <td>1.424215</td>\n",
       "      <td>1.919470</td>\n",
       "      <td>0.000244</td>\n",
       "      <td>distr_mixture_linear</td>\n",
       "      <td>2.702692</td>\n",
       "      <td>distr_trunc_normal</td>\n",
       "      <td>distr_gev</td>\n",
       "      <td>0.180478</td>\n",
       "    </tr>\n",
       "    <tr>\n",
       "      <th>77</th>\n",
       "      <td>11.201177</td>\n",
       "      <td>7.358788</td>\n",
       "      <td>0.000272</td>\n",
       "      <td>distr_mixture_linear</td>\n",
       "      <td>2.703183</td>\n",
       "      <td>distr_trunc_normal</td>\n",
       "      <td>distr_gev</td>\n",
       "      <td>0.179080</td>\n",
       "    </tr>\n",
       "    <tr>\n",
       "      <th>161</th>\n",
       "      <td>-4.099851</td>\n",
       "      <td>3.046601</td>\n",
       "      <td>0.000133</td>\n",
       "      <td>distr_mixture_linear</td>\n",
       "      <td>2.703959</td>\n",
       "      <td>distr_trunc_normal</td>\n",
       "      <td>distr_gev</td>\n",
       "      <td>0.180210</td>\n",
       "    </tr>\n",
       "    <tr>\n",
       "      <th>156</th>\n",
       "      <td>-0.128789</td>\n",
       "      <td>0.005772</td>\n",
       "      <td>0.986325</td>\n",
       "      <td>distr_mixture</td>\n",
       "      <td>2.704629</td>\n",
       "      <td>distr_log_normal</td>\n",
       "      <td>distr_trunc_normal</td>\n",
       "      <td>0.180394</td>\n",
       "    </tr>\n",
       "    <tr>\n",
       "      <th>170</th>\n",
       "      <td>-2.671768</td>\n",
       "      <td>1.681165</td>\n",
       "      <td>0.000186</td>\n",
       "      <td>distr_mixture_linear</td>\n",
       "      <td>2.705825</td>\n",
       "      <td>distr_trunc_normal</td>\n",
       "      <td>distr_gev</td>\n",
       "      <td>0.180701</td>\n",
       "    </tr>\n",
       "    <tr>\n",
       "      <th>169</th>\n",
       "      <td>-1.942144</td>\n",
       "      <td>2.646296</td>\n",
       "      <td>0.000090</td>\n",
       "      <td>distr_mixture_linear</td>\n",
       "      <td>2.706272</td>\n",
       "      <td>distr_trunc_normal</td>\n",
       "      <td>distr_gev</td>\n",
       "      <td>0.181407</td>\n",
       "    </tr>\n",
       "    <tr>\n",
       "      <th>30</th>\n",
       "      <td>-2.596332</td>\n",
       "      <td>9.524594</td>\n",
       "      <td>0.690616</td>\n",
       "      <td>distr_trunc_normal</td>\n",
       "      <td>2.706669</td>\n",
       "      <td>NaN</td>\n",
       "      <td>NaN</td>\n",
       "      <td>0.180552</td>\n",
       "    </tr>\n",
       "  </tbody>\n",
       "</table>\n",
       "</div>"
      ],
      "text/plain": [
       "       cf_mean    cf_std  cf_constant forecast_distribution      CRPS  \\\n",
       "171  -3.828661  1.485626     0.000203  distr_mixture_linear  2.695017   \n",
       "160  -2.897627  3.120845     0.000129  distr_mixture_linear  2.696010   \n",
       "164  -1.096566  1.823862     0.000185  distr_mixture_linear  2.698436   \n",
       "73    8.145216  7.913398     0.000104  distr_mixture_linear  2.701168   \n",
       "168  -3.234054  3.584374     0.000153  distr_mixture_linear  2.702137   \n",
       "162   1.424215  1.919470     0.000244  distr_mixture_linear  2.702692   \n",
       "77   11.201177  7.358788     0.000272  distr_mixture_linear  2.703183   \n",
       "161  -4.099851  3.046601     0.000133  distr_mixture_linear  2.703959   \n",
       "156  -0.128789  0.005772     0.986325         distr_mixture  2.704629   \n",
       "170  -2.671768  1.681165     0.000186  distr_mixture_linear  2.705825   \n",
       "169  -1.942144  2.646296     0.000090  distr_mixture_linear  2.706272   \n",
       "30   -2.596332  9.524594     0.690616    distr_trunc_normal  2.706669   \n",
       "\n",
       "         distribution_1      distribution_2  twCRPS12  \n",
       "171  distr_trunc_normal           distr_gev  0.178157  \n",
       "160  distr_trunc_normal           distr_gev  0.178914  \n",
       "164  distr_trunc_normal           distr_gev  0.178385  \n",
       "73   distr_trunc_normal           distr_gev  0.178784  \n",
       "168  distr_trunc_normal           distr_gev  0.179253  \n",
       "162  distr_trunc_normal           distr_gev  0.180478  \n",
       "77   distr_trunc_normal           distr_gev  0.179080  \n",
       "161  distr_trunc_normal           distr_gev  0.180210  \n",
       "156    distr_log_normal  distr_trunc_normal  0.180394  \n",
       "170  distr_trunc_normal           distr_gev  0.180701  \n",
       "169  distr_trunc_normal           distr_gev  0.181407  \n",
       "30                  NaN                 NaN  0.180552  "
      ]
     },
     "metadata": {},
     "output_type": "display_data"
    }
   ],
   "source": [
    "display(top_CRPS[params])"
   ]
  },
  {
   "cell_type": "code",
   "execution_count": 43,
   "metadata": {},
   "outputs": [
    {
     "data": {
      "text/html": [
       "<div>\n",
       "<style scoped>\n",
       "    .dataframe tbody tr th:only-of-type {\n",
       "        vertical-align: middle;\n",
       "    }\n",
       "\n",
       "    .dataframe tbody tr th {\n",
       "        vertical-align: top;\n",
       "    }\n",
       "\n",
       "    .dataframe thead th {\n",
       "        text-align: right;\n",
       "    }\n",
       "</style>\n",
       "<table border=\"1\" class=\"dataframe\">\n",
       "  <thead>\n",
       "    <tr style=\"text-align: right;\">\n",
       "      <th></th>\n",
       "      <th>cf_mean</th>\n",
       "      <th>cf_std</th>\n",
       "      <th>cf_constant</th>\n",
       "      <th>forecast_distribution</th>\n",
       "      <th>CRPS</th>\n",
       "      <th>distribution_1</th>\n",
       "      <th>distribution_2</th>\n",
       "      <th>twCRPS12</th>\n",
       "    </tr>\n",
       "  </thead>\n",
       "  <tbody>\n",
       "    <tr>\n",
       "      <th>60</th>\n",
       "      <td>10.816164</td>\n",
       "      <td>1.785932</td>\n",
       "      <td>0.000210</td>\n",
       "      <td>distr_trunc_normal</td>\n",
       "      <td>2.845130</td>\n",
       "      <td>NaN</td>\n",
       "      <td>NaN</td>\n",
       "      <td>0.176170</td>\n",
       "    </tr>\n",
       "    <tr>\n",
       "      <th>166</th>\n",
       "      <td>11.197616</td>\n",
       "      <td>1.662136</td>\n",
       "      <td>0.000015</td>\n",
       "      <td>distr_trunc_normal</td>\n",
       "      <td>2.880362</td>\n",
       "      <td>NaN</td>\n",
       "      <td>NaN</td>\n",
       "      <td>0.176460</td>\n",
       "    </tr>\n",
       "    <tr>\n",
       "      <th>111</th>\n",
       "      <td>10.476087</td>\n",
       "      <td>0.000453</td>\n",
       "      <td>0.000302</td>\n",
       "      <td>distr_trunc_normal</td>\n",
       "      <td>3.029498</td>\n",
       "      <td>NaN</td>\n",
       "      <td>NaN</td>\n",
       "      <td>0.176803</td>\n",
       "    </tr>\n",
       "    <tr>\n",
       "      <th>114</th>\n",
       "      <td>10.971715</td>\n",
       "      <td>0.960693</td>\n",
       "      <td>0.000144</td>\n",
       "      <td>distr_mixture</td>\n",
       "      <td>2.976686</td>\n",
       "      <td>distr_log_normal</td>\n",
       "      <td>distr_trunc_normal</td>\n",
       "      <td>0.177031</td>\n",
       "    </tr>\n",
       "    <tr>\n",
       "      <th>54</th>\n",
       "      <td>12.199493</td>\n",
       "      <td>1.329734</td>\n",
       "      <td>0.000066</td>\n",
       "      <td>distr_trunc_normal</td>\n",
       "      <td>3.031583</td>\n",
       "      <td>NaN</td>\n",
       "      <td>NaN</td>\n",
       "      <td>0.177050</td>\n",
       "    </tr>\n",
       "    <tr>\n",
       "      <th>120</th>\n",
       "      <td>10.775414</td>\n",
       "      <td>1.627839</td>\n",
       "      <td>0.000229</td>\n",
       "      <td>distr_trunc_normal</td>\n",
       "      <td>2.859386</td>\n",
       "      <td>NaN</td>\n",
       "      <td>NaN</td>\n",
       "      <td>0.177171</td>\n",
       "    </tr>\n",
       "    <tr>\n",
       "      <th>172</th>\n",
       "      <td>10.817245</td>\n",
       "      <td>1.401593</td>\n",
       "      <td>0.000381</td>\n",
       "      <td>distr_trunc_normal</td>\n",
       "      <td>2.876785</td>\n",
       "      <td>NaN</td>\n",
       "      <td>NaN</td>\n",
       "      <td>0.177331</td>\n",
       "    </tr>\n",
       "    <tr>\n",
       "      <th>50</th>\n",
       "      <td>11.881624</td>\n",
       "      <td>1.164704</td>\n",
       "      <td>0.000083</td>\n",
       "      <td>distr_trunc_normal</td>\n",
       "      <td>3.035117</td>\n",
       "      <td>NaN</td>\n",
       "      <td>NaN</td>\n",
       "      <td>0.177576</td>\n",
       "    </tr>\n",
       "  </tbody>\n",
       "</table>\n",
       "</div>"
      ],
      "text/plain": [
       "       cf_mean    cf_std  cf_constant forecast_distribution      CRPS  \\\n",
       "60   10.816164  1.785932     0.000210    distr_trunc_normal  2.845130   \n",
       "166  11.197616  1.662136     0.000015    distr_trunc_normal  2.880362   \n",
       "111  10.476087  0.000453     0.000302    distr_trunc_normal  3.029498   \n",
       "114  10.971715  0.960693     0.000144         distr_mixture  2.976686   \n",
       "54   12.199493  1.329734     0.000066    distr_trunc_normal  3.031583   \n",
       "120  10.775414  1.627839     0.000229    distr_trunc_normal  2.859386   \n",
       "172  10.817245  1.401593     0.000381    distr_trunc_normal  2.876785   \n",
       "50   11.881624  1.164704     0.000083    distr_trunc_normal  3.035117   \n",
       "\n",
       "       distribution_1      distribution_2  twCRPS12  \n",
       "60                NaN                 NaN  0.176170  \n",
       "166               NaN                 NaN  0.176460  \n",
       "111               NaN                 NaN  0.176803  \n",
       "114  distr_log_normal  distr_trunc_normal  0.177031  \n",
       "54                NaN                 NaN  0.177050  \n",
       "120               NaN                 NaN  0.177171  \n",
       "172               NaN                 NaN  0.177331  \n",
       "50                NaN                 NaN  0.177576  "
      ]
     },
     "metadata": {},
     "output_type": "display_data"
    }
   ],
   "source": [
    "display(top_twCRPS12[params])"
   ]
  },
  {
   "cell_type": "code",
   "execution_count": 20,
   "metadata": {},
   "outputs": [
    {
     "data": {
      "text/html": [
       "<div>\n",
       "<style scoped>\n",
       "    .dataframe tbody tr th:only-of-type {\n",
       "        vertical-align: middle;\n",
       "    }\n",
       "\n",
       "    .dataframe tbody tr th {\n",
       "        vertical-align: top;\n",
       "    }\n",
       "\n",
       "    .dataframe thead th {\n",
       "        text-align: right;\n",
       "    }\n",
       "</style>\n",
       "<table border=\"1\" class=\"dataframe\">\n",
       "  <thead>\n",
       "    <tr style=\"text-align: right;\">\n",
       "      <th></th>\n",
       "      <th>cf_mean</th>\n",
       "      <th>cf_std</th>\n",
       "      <th>cf_constant</th>\n",
       "      <th>forecast_distribution</th>\n",
       "      <th>CRPS</th>\n",
       "      <th>twCRPS12</th>\n",
       "    </tr>\n",
       "  </thead>\n",
       "  <tbody>\n",
       "    <tr>\n",
       "      <th>171</th>\n",
       "      <td>-3.828661</td>\n",
       "      <td>1.485626</td>\n",
       "      <td>0.000203</td>\n",
       "      <td>distr_mixture_linear</td>\n",
       "      <td>2.695017</td>\n",
       "      <td>0.178157</td>\n",
       "    </tr>\n",
       "    <tr>\n",
       "      <th>75</th>\n",
       "      <td>9.197862</td>\n",
       "      <td>2.935806</td>\n",
       "      <td>0.000895</td>\n",
       "      <td>distr_mixture_linear</td>\n",
       "      <td>2.733251</td>\n",
       "      <td>0.177762</td>\n",
       "    </tr>\n",
       "    <tr>\n",
       "      <th>133</th>\n",
       "      <td>10.426935</td>\n",
       "      <td>2.914051</td>\n",
       "      <td>0.000202</td>\n",
       "      <td>distr_trunc_normal</td>\n",
       "      <td>2.757171</td>\n",
       "      <td>0.177633</td>\n",
       "    </tr>\n",
       "    <tr>\n",
       "      <th>60</th>\n",
       "      <td>10.816164</td>\n",
       "      <td>1.785932</td>\n",
       "      <td>0.000210</td>\n",
       "      <td>distr_trunc_normal</td>\n",
       "      <td>2.845130</td>\n",
       "      <td>0.176170</td>\n",
       "    </tr>\n",
       "  </tbody>\n",
       "</table>\n",
       "</div>"
      ],
      "text/plain": [
       "       cf_mean    cf_std  cf_constant forecast_distribution      CRPS  \\\n",
       "171  -3.828661  1.485626     0.000203  distr_mixture_linear  2.695017   \n",
       "75    9.197862  2.935806     0.000895  distr_mixture_linear  2.733251   \n",
       "133  10.426935  2.914051     0.000202    distr_trunc_normal  2.757171   \n",
       "60   10.816164  1.785932     0.000210    distr_trunc_normal  2.845130   \n",
       "\n",
       "     twCRPS12  \n",
       "171  0.178157  \n",
       "75   0.177762  \n",
       "133  0.177633  \n",
       "60   0.176170  "
      ]
     },
     "metadata": {},
     "output_type": "display_data"
    }
   ],
   "source": [
    "my_run = my_run.sort_values('CRPS')\n",
    "display(my_run[params])"
   ]
  }
 ],
 "metadata": {
  "kernelspec": {
   "display_name": "Python 3",
   "language": "python",
   "name": "python3"
  },
  "language_info": {
   "codemirror_mode": {
    "name": "ipython",
    "version": 3
   },
   "file_extension": ".py",
   "mimetype": "text/x-python",
   "name": "python",
   "nbconvert_exporter": "python",
   "pygments_lexer": "ipython3",
   "version": "3.12.3"
  }
 },
 "nbformat": 4,
 "nbformat_minor": 2
}
