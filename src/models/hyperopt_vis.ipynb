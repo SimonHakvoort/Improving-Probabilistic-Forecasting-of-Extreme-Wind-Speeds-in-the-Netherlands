{
 "cells": [
  {
   "cell_type": "code",
   "execution_count": 1,
   "metadata": {},
   "outputs": [
    {
     "name": "stderr",
     "output_type": "stream",
     "text": [
      "2024-06-07 05:34:34.918066: I external/local_tsl/tsl/cuda/cudart_stub.cc:32] Could not find cuda drivers on your machine, GPU will not be used.\n",
      "2024-06-07 05:34:34.920471: I external/local_tsl/tsl/cuda/cudart_stub.cc:32] Could not find cuda drivers on your machine, GPU will not be used.\n",
      "2024-06-07 05:34:34.952583: I tensorflow/core/platform/cpu_feature_guard.cc:210] This TensorFlow binary is optimized to use available CPU instructions in performance-critical operations.\n",
      "To enable the following instructions: AVX2 FMA, in other operations, rebuild TensorFlow with the appropriate compiler flags.\n",
      "2024-06-07 05:34:40.464877: W tensorflow/compiler/tf2tensorrt/utils/py_utils.cc:38] TF-TRT Warning: Could not find TensorRT\n"
     ]
    }
   ],
   "source": [
    "import optuna\n",
    "import pickle\n",
    "import plotly \n",
    "from src.models.hyperopt_emos import Objective"
   ]
  },
  {
   "cell_type": "code",
   "execution_count": 2,
   "metadata": {},
   "outputs": [],
   "source": [
    "features_names = ['wind_speed', 'press', 'kinetic', 'humid', 'geopot']\n",
    "\n",
    "features_names_dict = {name: 1 for name in features_names}\n",
    "\n",
    "features_names_dict['wind_speed'] = 15\n",
    "\n",
    "objectives = ['twCRPS12']\n"
   ]
  },
  {
   "cell_type": "code",
   "execution_count": 3,
   "metadata": {},
   "outputs": [],
   "source": [
    "#study_name = \"crps_obj_CRPS_twCRPS12_MOTPE.pkl\"\n",
    "study_name = \"crps_obj_twCRPS12_TPE.pkl\"\n",
    "filepath = '/net/pc200239/nobackup/users/hakvoort/hyperopt/hyperopt_emos/'\n",
    "\n",
    "# an optuna study\n",
    "study = pickle.load(open(filepath + study_name, 'rb'))"
   ]
  },
  {
   "cell_type": "code",
   "execution_count": 186,
   "metadata": {},
   "outputs": [
    {
     "name": "stderr",
     "output_type": "stream",
     "text": [
      "/tmp/ipykernel_2950728/3646120845.py:2: ExperimentalWarning:\n",
      "\n",
      "set_metric_names is experimental (supported from v3.2.0). The interface can change in the future.\n",
      "\n"
     ]
    }
   ],
   "source": [
    "study2 = optuna.load_study(study_name='twcrps_obj_CRPS_twCRPS12_MOTPE', storage=f'sqlite:///{filepath}/study.db')\n",
    "study2.set_metric_names(['CRPS', 'twCRPS12'])"
   ]
  },
  {
   "cell_type": "code",
   "execution_count": 177,
   "metadata": {},
   "outputs": [
    {
     "data": {
      "application/vnd.plotly.v1+json": {
       "config": {
        "plotlyServerURL": "https://plot.ly"
       },
       "data": [
        {
         "cliponaxis": false,
         "hovertemplate": [
          "learning_rate (FloatDistribution): 0.006972191917517211<extra></extra>",
          "chain_function_constant (FloatDistribution): 0.007751290243797905<extra></extra>",
          "epochs (IntDistribution): 0.009723821289282689<extra></extra>",
          "optimizer (CategoricalDistribution): 0.013946491198530673<extra></extra>",
          "forecast_distribution (CategoricalDistribution): 0.015131808077608258<extra></extra>",
          "chain_function_mean (FloatDistribution): 0.05890954069986617<extra></extra>",
          "perform_batching (CategoricalDistribution): 0.20654984499694218<extra></extra>",
          "chain_function_std (FloatDistribution): 0.6810150115764548<extra></extra>"
         ],
         "name": "CRPS",
         "orientation": "h",
         "text": [
          "<0.01",
          "<0.01",
          "<0.01",
          "0.01",
          "0.02",
          "0.06",
          "0.21",
          "0.68"
         ],
         "textposition": "outside",
         "type": "bar",
         "x": [
          0.006972191917517211,
          0.007751290243797905,
          0.009723821289282689,
          0.013946491198530673,
          0.015131808077608258,
          0.05890954069986617,
          0.20654984499694218,
          0.6810150115764548
         ],
         "y": [
          "learning_rate",
          "chain_function_constant",
          "epochs",
          "optimizer",
          "forecast_distribution",
          "chain_function_mean",
          "perform_batching",
          "chain_function_std"
         ]
        },
        {
         "cliponaxis": false,
         "hovertemplate": [
          "chain_function_constant (FloatDistribution): 0.004846897553643082<extra></extra>",
          "optimizer (CategoricalDistribution): 0.015361532041842653<extra></extra>",
          "epochs (IntDistribution): 0.01838958044251783<extra></extra>",
          "forecast_distribution (CategoricalDistribution): 0.031483150173458985<extra></extra>",
          "learning_rate (FloatDistribution): 0.050086275066033296<extra></extra>",
          "chain_function_std (FloatDistribution): 0.06244736869978778<extra></extra>",
          "chain_function_mean (FloatDistribution): 0.10803435124831476<extra></extra>",
          "perform_batching (CategoricalDistribution): 0.7093508447744018<extra></extra>"
         ],
         "name": "twCRPS12",
         "orientation": "h",
         "text": [
          "<0.01",
          "0.02",
          "0.02",
          "0.03",
          "0.05",
          "0.06",
          "0.11",
          "0.71"
         ],
         "textposition": "outside",
         "type": "bar",
         "x": [
          0.004846897553643082,
          0.015361532041842653,
          0.01838958044251783,
          0.031483150173458985,
          0.050086275066033296,
          0.06244736869978778,
          0.10803435124831476,
          0.7093508447744018
         ],
         "y": [
          "chain_function_constant",
          "optimizer",
          "epochs",
          "forecast_distribution",
          "learning_rate",
          "chain_function_std",
          "chain_function_mean",
          "perform_batching"
         ]
        }
       ],
       "layout": {
        "template": {
         "data": {
          "bar": [
           {
            "error_x": {
             "color": "#2a3f5f"
            },
            "error_y": {
             "color": "#2a3f5f"
            },
            "marker": {
             "line": {
              "color": "#E5ECF6",
              "width": 0.5
             },
             "pattern": {
              "fillmode": "overlay",
              "size": 10,
              "solidity": 0.2
             }
            },
            "type": "bar"
           }
          ],
          "barpolar": [
           {
            "marker": {
             "line": {
              "color": "#E5ECF6",
              "width": 0.5
             },
             "pattern": {
              "fillmode": "overlay",
              "size": 10,
              "solidity": 0.2
             }
            },
            "type": "barpolar"
           }
          ],
          "carpet": [
           {
            "aaxis": {
             "endlinecolor": "#2a3f5f",
             "gridcolor": "white",
             "linecolor": "white",
             "minorgridcolor": "white",
             "startlinecolor": "#2a3f5f"
            },
            "baxis": {
             "endlinecolor": "#2a3f5f",
             "gridcolor": "white",
             "linecolor": "white",
             "minorgridcolor": "white",
             "startlinecolor": "#2a3f5f"
            },
            "type": "carpet"
           }
          ],
          "choropleth": [
           {
            "colorbar": {
             "outlinewidth": 0,
             "ticks": ""
            },
            "type": "choropleth"
           }
          ],
          "contour": [
           {
            "colorbar": {
             "outlinewidth": 0,
             "ticks": ""
            },
            "colorscale": [
             [
              0,
              "#0d0887"
             ],
             [
              0.1111111111111111,
              "#46039f"
             ],
             [
              0.2222222222222222,
              "#7201a8"
             ],
             [
              0.3333333333333333,
              "#9c179e"
             ],
             [
              0.4444444444444444,
              "#bd3786"
             ],
             [
              0.5555555555555556,
              "#d8576b"
             ],
             [
              0.6666666666666666,
              "#ed7953"
             ],
             [
              0.7777777777777778,
              "#fb9f3a"
             ],
             [
              0.8888888888888888,
              "#fdca26"
             ],
             [
              1,
              "#f0f921"
             ]
            ],
            "type": "contour"
           }
          ],
          "contourcarpet": [
           {
            "colorbar": {
             "outlinewidth": 0,
             "ticks": ""
            },
            "type": "contourcarpet"
           }
          ],
          "heatmap": [
           {
            "colorbar": {
             "outlinewidth": 0,
             "ticks": ""
            },
            "colorscale": [
             [
              0,
              "#0d0887"
             ],
             [
              0.1111111111111111,
              "#46039f"
             ],
             [
              0.2222222222222222,
              "#7201a8"
             ],
             [
              0.3333333333333333,
              "#9c179e"
             ],
             [
              0.4444444444444444,
              "#bd3786"
             ],
             [
              0.5555555555555556,
              "#d8576b"
             ],
             [
              0.6666666666666666,
              "#ed7953"
             ],
             [
              0.7777777777777778,
              "#fb9f3a"
             ],
             [
              0.8888888888888888,
              "#fdca26"
             ],
             [
              1,
              "#f0f921"
             ]
            ],
            "type": "heatmap"
           }
          ],
          "heatmapgl": [
           {
            "colorbar": {
             "outlinewidth": 0,
             "ticks": ""
            },
            "colorscale": [
             [
              0,
              "#0d0887"
             ],
             [
              0.1111111111111111,
              "#46039f"
             ],
             [
              0.2222222222222222,
              "#7201a8"
             ],
             [
              0.3333333333333333,
              "#9c179e"
             ],
             [
              0.4444444444444444,
              "#bd3786"
             ],
             [
              0.5555555555555556,
              "#d8576b"
             ],
             [
              0.6666666666666666,
              "#ed7953"
             ],
             [
              0.7777777777777778,
              "#fb9f3a"
             ],
             [
              0.8888888888888888,
              "#fdca26"
             ],
             [
              1,
              "#f0f921"
             ]
            ],
            "type": "heatmapgl"
           }
          ],
          "histogram": [
           {
            "marker": {
             "pattern": {
              "fillmode": "overlay",
              "size": 10,
              "solidity": 0.2
             }
            },
            "type": "histogram"
           }
          ],
          "histogram2d": [
           {
            "colorbar": {
             "outlinewidth": 0,
             "ticks": ""
            },
            "colorscale": [
             [
              0,
              "#0d0887"
             ],
             [
              0.1111111111111111,
              "#46039f"
             ],
             [
              0.2222222222222222,
              "#7201a8"
             ],
             [
              0.3333333333333333,
              "#9c179e"
             ],
             [
              0.4444444444444444,
              "#bd3786"
             ],
             [
              0.5555555555555556,
              "#d8576b"
             ],
             [
              0.6666666666666666,
              "#ed7953"
             ],
             [
              0.7777777777777778,
              "#fb9f3a"
             ],
             [
              0.8888888888888888,
              "#fdca26"
             ],
             [
              1,
              "#f0f921"
             ]
            ],
            "type": "histogram2d"
           }
          ],
          "histogram2dcontour": [
           {
            "colorbar": {
             "outlinewidth": 0,
             "ticks": ""
            },
            "colorscale": [
             [
              0,
              "#0d0887"
             ],
             [
              0.1111111111111111,
              "#46039f"
             ],
             [
              0.2222222222222222,
              "#7201a8"
             ],
             [
              0.3333333333333333,
              "#9c179e"
             ],
             [
              0.4444444444444444,
              "#bd3786"
             ],
             [
              0.5555555555555556,
              "#d8576b"
             ],
             [
              0.6666666666666666,
              "#ed7953"
             ],
             [
              0.7777777777777778,
              "#fb9f3a"
             ],
             [
              0.8888888888888888,
              "#fdca26"
             ],
             [
              1,
              "#f0f921"
             ]
            ],
            "type": "histogram2dcontour"
           }
          ],
          "mesh3d": [
           {
            "colorbar": {
             "outlinewidth": 0,
             "ticks": ""
            },
            "type": "mesh3d"
           }
          ],
          "parcoords": [
           {
            "line": {
             "colorbar": {
              "outlinewidth": 0,
              "ticks": ""
             }
            },
            "type": "parcoords"
           }
          ],
          "pie": [
           {
            "automargin": true,
            "type": "pie"
           }
          ],
          "scatter": [
           {
            "fillpattern": {
             "fillmode": "overlay",
             "size": 10,
             "solidity": 0.2
            },
            "type": "scatter"
           }
          ],
          "scatter3d": [
           {
            "line": {
             "colorbar": {
              "outlinewidth": 0,
              "ticks": ""
             }
            },
            "marker": {
             "colorbar": {
              "outlinewidth": 0,
              "ticks": ""
             }
            },
            "type": "scatter3d"
           }
          ],
          "scattercarpet": [
           {
            "marker": {
             "colorbar": {
              "outlinewidth": 0,
              "ticks": ""
             }
            },
            "type": "scattercarpet"
           }
          ],
          "scattergeo": [
           {
            "marker": {
             "colorbar": {
              "outlinewidth": 0,
              "ticks": ""
             }
            },
            "type": "scattergeo"
           }
          ],
          "scattergl": [
           {
            "marker": {
             "colorbar": {
              "outlinewidth": 0,
              "ticks": ""
             }
            },
            "type": "scattergl"
           }
          ],
          "scattermapbox": [
           {
            "marker": {
             "colorbar": {
              "outlinewidth": 0,
              "ticks": ""
             }
            },
            "type": "scattermapbox"
           }
          ],
          "scatterpolar": [
           {
            "marker": {
             "colorbar": {
              "outlinewidth": 0,
              "ticks": ""
             }
            },
            "type": "scatterpolar"
           }
          ],
          "scatterpolargl": [
           {
            "marker": {
             "colorbar": {
              "outlinewidth": 0,
              "ticks": ""
             }
            },
            "type": "scatterpolargl"
           }
          ],
          "scatterternary": [
           {
            "marker": {
             "colorbar": {
              "outlinewidth": 0,
              "ticks": ""
             }
            },
            "type": "scatterternary"
           }
          ],
          "surface": [
           {
            "colorbar": {
             "outlinewidth": 0,
             "ticks": ""
            },
            "colorscale": [
             [
              0,
              "#0d0887"
             ],
             [
              0.1111111111111111,
              "#46039f"
             ],
             [
              0.2222222222222222,
              "#7201a8"
             ],
             [
              0.3333333333333333,
              "#9c179e"
             ],
             [
              0.4444444444444444,
              "#bd3786"
             ],
             [
              0.5555555555555556,
              "#d8576b"
             ],
             [
              0.6666666666666666,
              "#ed7953"
             ],
             [
              0.7777777777777778,
              "#fb9f3a"
             ],
             [
              0.8888888888888888,
              "#fdca26"
             ],
             [
              1,
              "#f0f921"
             ]
            ],
            "type": "surface"
           }
          ],
          "table": [
           {
            "cells": {
             "fill": {
              "color": "#EBF0F8"
             },
             "line": {
              "color": "white"
             }
            },
            "header": {
             "fill": {
              "color": "#C8D4E3"
             },
             "line": {
              "color": "white"
             }
            },
            "type": "table"
           }
          ]
         },
         "layout": {
          "annotationdefaults": {
           "arrowcolor": "#2a3f5f",
           "arrowhead": 0,
           "arrowwidth": 1
          },
          "autotypenumbers": "strict",
          "coloraxis": {
           "colorbar": {
            "outlinewidth": 0,
            "ticks": ""
           }
          },
          "colorscale": {
           "diverging": [
            [
             0,
             "#8e0152"
            ],
            [
             0.1,
             "#c51b7d"
            ],
            [
             0.2,
             "#de77ae"
            ],
            [
             0.3,
             "#f1b6da"
            ],
            [
             0.4,
             "#fde0ef"
            ],
            [
             0.5,
             "#f7f7f7"
            ],
            [
             0.6,
             "#e6f5d0"
            ],
            [
             0.7,
             "#b8e186"
            ],
            [
             0.8,
             "#7fbc41"
            ],
            [
             0.9,
             "#4d9221"
            ],
            [
             1,
             "#276419"
            ]
           ],
           "sequential": [
            [
             0,
             "#0d0887"
            ],
            [
             0.1111111111111111,
             "#46039f"
            ],
            [
             0.2222222222222222,
             "#7201a8"
            ],
            [
             0.3333333333333333,
             "#9c179e"
            ],
            [
             0.4444444444444444,
             "#bd3786"
            ],
            [
             0.5555555555555556,
             "#d8576b"
            ],
            [
             0.6666666666666666,
             "#ed7953"
            ],
            [
             0.7777777777777778,
             "#fb9f3a"
            ],
            [
             0.8888888888888888,
             "#fdca26"
            ],
            [
             1,
             "#f0f921"
            ]
           ],
           "sequentialminus": [
            [
             0,
             "#0d0887"
            ],
            [
             0.1111111111111111,
             "#46039f"
            ],
            [
             0.2222222222222222,
             "#7201a8"
            ],
            [
             0.3333333333333333,
             "#9c179e"
            ],
            [
             0.4444444444444444,
             "#bd3786"
            ],
            [
             0.5555555555555556,
             "#d8576b"
            ],
            [
             0.6666666666666666,
             "#ed7953"
            ],
            [
             0.7777777777777778,
             "#fb9f3a"
            ],
            [
             0.8888888888888888,
             "#fdca26"
            ],
            [
             1,
             "#f0f921"
            ]
           ]
          },
          "colorway": [
           "#636efa",
           "#EF553B",
           "#00cc96",
           "#ab63fa",
           "#FFA15A",
           "#19d3f3",
           "#FF6692",
           "#B6E880",
           "#FF97FF",
           "#FECB52"
          ],
          "font": {
           "color": "#2a3f5f"
          },
          "geo": {
           "bgcolor": "white",
           "lakecolor": "white",
           "landcolor": "#E5ECF6",
           "showlakes": true,
           "showland": true,
           "subunitcolor": "white"
          },
          "hoverlabel": {
           "align": "left"
          },
          "hovermode": "closest",
          "mapbox": {
           "style": "light"
          },
          "paper_bgcolor": "white",
          "plot_bgcolor": "#E5ECF6",
          "polar": {
           "angularaxis": {
            "gridcolor": "white",
            "linecolor": "white",
            "ticks": ""
           },
           "bgcolor": "#E5ECF6",
           "radialaxis": {
            "gridcolor": "white",
            "linecolor": "white",
            "ticks": ""
           }
          },
          "scene": {
           "xaxis": {
            "backgroundcolor": "#E5ECF6",
            "gridcolor": "white",
            "gridwidth": 2,
            "linecolor": "white",
            "showbackground": true,
            "ticks": "",
            "zerolinecolor": "white"
           },
           "yaxis": {
            "backgroundcolor": "#E5ECF6",
            "gridcolor": "white",
            "gridwidth": 2,
            "linecolor": "white",
            "showbackground": true,
            "ticks": "",
            "zerolinecolor": "white"
           },
           "zaxis": {
            "backgroundcolor": "#E5ECF6",
            "gridcolor": "white",
            "gridwidth": 2,
            "linecolor": "white",
            "showbackground": true,
            "ticks": "",
            "zerolinecolor": "white"
           }
          },
          "shapedefaults": {
           "line": {
            "color": "#2a3f5f"
           }
          },
          "ternary": {
           "aaxis": {
            "gridcolor": "white",
            "linecolor": "white",
            "ticks": ""
           },
           "baxis": {
            "gridcolor": "white",
            "linecolor": "white",
            "ticks": ""
           },
           "bgcolor": "#E5ECF6",
           "caxis": {
            "gridcolor": "white",
            "linecolor": "white",
            "ticks": ""
           }
          },
          "title": {
           "x": 0.05
          },
          "xaxis": {
           "automargin": true,
           "gridcolor": "white",
           "linecolor": "white",
           "ticks": "",
           "title": {
            "standoff": 15
           },
           "zerolinecolor": "white",
           "zerolinewidth": 2
          },
          "yaxis": {
           "automargin": true,
           "gridcolor": "white",
           "linecolor": "white",
           "ticks": "",
           "title": {
            "standoff": 15
           },
           "zerolinecolor": "white",
           "zerolinewidth": 2
          }
         }
        },
        "title": {
         "text": "Hyperparameter Importances"
        },
        "xaxis": {
         "title": {
          "text": "Hyperparameter Importance"
         }
        },
        "yaxis": {
         "title": {
          "text": "Hyperparameter"
         }
        }
       }
      },
      "text/html": [
       "<div>                            <div id=\"1551e7ec-a702-460f-93b3-b64a433c0302\" class=\"plotly-graph-div\" style=\"height:525px; width:100%;\"></div>            <script type=\"text/javascript\">                require([\"plotly\"], function(Plotly) {                    window.PLOTLYENV=window.PLOTLYENV || {};                                    if (document.getElementById(\"1551e7ec-a702-460f-93b3-b64a433c0302\")) {                    Plotly.newPlot(                        \"1551e7ec-a702-460f-93b3-b64a433c0302\",                        [{\"cliponaxis\":false,\"hovertemplate\":[\"learning_rate (FloatDistribution): 0.006972191917517211\\u003cextra\\u003e\\u003c\\u002fextra\\u003e\",\"chain_function_constant (FloatDistribution): 0.007751290243797905\\u003cextra\\u003e\\u003c\\u002fextra\\u003e\",\"epochs (IntDistribution): 0.009723821289282689\\u003cextra\\u003e\\u003c\\u002fextra\\u003e\",\"optimizer (CategoricalDistribution): 0.013946491198530673\\u003cextra\\u003e\\u003c\\u002fextra\\u003e\",\"forecast_distribution (CategoricalDistribution): 0.015131808077608258\\u003cextra\\u003e\\u003c\\u002fextra\\u003e\",\"chain_function_mean (FloatDistribution): 0.05890954069986617\\u003cextra\\u003e\\u003c\\u002fextra\\u003e\",\"perform_batching (CategoricalDistribution): 0.20654984499694218\\u003cextra\\u003e\\u003c\\u002fextra\\u003e\",\"chain_function_std (FloatDistribution): 0.6810150115764548\\u003cextra\\u003e\\u003c\\u002fextra\\u003e\"],\"name\":\"CRPS\",\"orientation\":\"h\",\"text\":[\"\\u003c0.01\",\"\\u003c0.01\",\"\\u003c0.01\",\"0.01\",\"0.02\",\"0.06\",\"0.21\",\"0.68\"],\"textposition\":\"outside\",\"x\":[0.006972191917517211,0.007751290243797905,0.009723821289282689,0.013946491198530673,0.015131808077608258,0.05890954069986617,0.20654984499694218,0.6810150115764548],\"y\":[\"learning_rate\",\"chain_function_constant\",\"epochs\",\"optimizer\",\"forecast_distribution\",\"chain_function_mean\",\"perform_batching\",\"chain_function_std\"],\"type\":\"bar\"},{\"cliponaxis\":false,\"hovertemplate\":[\"chain_function_constant (FloatDistribution): 0.004846897553643082\\u003cextra\\u003e\\u003c\\u002fextra\\u003e\",\"optimizer (CategoricalDistribution): 0.015361532041842653\\u003cextra\\u003e\\u003c\\u002fextra\\u003e\",\"epochs (IntDistribution): 0.01838958044251783\\u003cextra\\u003e\\u003c\\u002fextra\\u003e\",\"forecast_distribution (CategoricalDistribution): 0.031483150173458985\\u003cextra\\u003e\\u003c\\u002fextra\\u003e\",\"learning_rate (FloatDistribution): 0.050086275066033296\\u003cextra\\u003e\\u003c\\u002fextra\\u003e\",\"chain_function_std (FloatDistribution): 0.06244736869978778\\u003cextra\\u003e\\u003c\\u002fextra\\u003e\",\"chain_function_mean (FloatDistribution): 0.10803435124831476\\u003cextra\\u003e\\u003c\\u002fextra\\u003e\",\"perform_batching (CategoricalDistribution): 0.7093508447744018\\u003cextra\\u003e\\u003c\\u002fextra\\u003e\"],\"name\":\"twCRPS12\",\"orientation\":\"h\",\"text\":[\"\\u003c0.01\",\"0.02\",\"0.02\",\"0.03\",\"0.05\",\"0.06\",\"0.11\",\"0.71\"],\"textposition\":\"outside\",\"x\":[0.004846897553643082,0.015361532041842653,0.01838958044251783,0.031483150173458985,0.050086275066033296,0.06244736869978778,0.10803435124831476,0.7093508447744018],\"y\":[\"chain_function_constant\",\"optimizer\",\"epochs\",\"forecast_distribution\",\"learning_rate\",\"chain_function_std\",\"chain_function_mean\",\"perform_batching\"],\"type\":\"bar\"}],                        {\"title\":{\"text\":\"Hyperparameter Importances\"},\"xaxis\":{\"title\":{\"text\":\"Hyperparameter Importance\"}},\"yaxis\":{\"title\":{\"text\":\"Hyperparameter\"}},\"template\":{\"data\":{\"histogram2dcontour\":[{\"type\":\"histogram2dcontour\",\"colorbar\":{\"outlinewidth\":0,\"ticks\":\"\"},\"colorscale\":[[0.0,\"#0d0887\"],[0.1111111111111111,\"#46039f\"],[0.2222222222222222,\"#7201a8\"],[0.3333333333333333,\"#9c179e\"],[0.4444444444444444,\"#bd3786\"],[0.5555555555555556,\"#d8576b\"],[0.6666666666666666,\"#ed7953\"],[0.7777777777777778,\"#fb9f3a\"],[0.8888888888888888,\"#fdca26\"],[1.0,\"#f0f921\"]]}],\"choropleth\":[{\"type\":\"choropleth\",\"colorbar\":{\"outlinewidth\":0,\"ticks\":\"\"}}],\"histogram2d\":[{\"type\":\"histogram2d\",\"colorbar\":{\"outlinewidth\":0,\"ticks\":\"\"},\"colorscale\":[[0.0,\"#0d0887\"],[0.1111111111111111,\"#46039f\"],[0.2222222222222222,\"#7201a8\"],[0.3333333333333333,\"#9c179e\"],[0.4444444444444444,\"#bd3786\"],[0.5555555555555556,\"#d8576b\"],[0.6666666666666666,\"#ed7953\"],[0.7777777777777778,\"#fb9f3a\"],[0.8888888888888888,\"#fdca26\"],[1.0,\"#f0f921\"]]}],\"heatmap\":[{\"type\":\"heatmap\",\"colorbar\":{\"outlinewidth\":0,\"ticks\":\"\"},\"colorscale\":[[0.0,\"#0d0887\"],[0.1111111111111111,\"#46039f\"],[0.2222222222222222,\"#7201a8\"],[0.3333333333333333,\"#9c179e\"],[0.4444444444444444,\"#bd3786\"],[0.5555555555555556,\"#d8576b\"],[0.6666666666666666,\"#ed7953\"],[0.7777777777777778,\"#fb9f3a\"],[0.8888888888888888,\"#fdca26\"],[1.0,\"#f0f921\"]]}],\"heatmapgl\":[{\"type\":\"heatmapgl\",\"colorbar\":{\"outlinewidth\":0,\"ticks\":\"\"},\"colorscale\":[[0.0,\"#0d0887\"],[0.1111111111111111,\"#46039f\"],[0.2222222222222222,\"#7201a8\"],[0.3333333333333333,\"#9c179e\"],[0.4444444444444444,\"#bd3786\"],[0.5555555555555556,\"#d8576b\"],[0.6666666666666666,\"#ed7953\"],[0.7777777777777778,\"#fb9f3a\"],[0.8888888888888888,\"#fdca26\"],[1.0,\"#f0f921\"]]}],\"contourcarpet\":[{\"type\":\"contourcarpet\",\"colorbar\":{\"outlinewidth\":0,\"ticks\":\"\"}}],\"contour\":[{\"type\":\"contour\",\"colorbar\":{\"outlinewidth\":0,\"ticks\":\"\"},\"colorscale\":[[0.0,\"#0d0887\"],[0.1111111111111111,\"#46039f\"],[0.2222222222222222,\"#7201a8\"],[0.3333333333333333,\"#9c179e\"],[0.4444444444444444,\"#bd3786\"],[0.5555555555555556,\"#d8576b\"],[0.6666666666666666,\"#ed7953\"],[0.7777777777777778,\"#fb9f3a\"],[0.8888888888888888,\"#fdca26\"],[1.0,\"#f0f921\"]]}],\"surface\":[{\"type\":\"surface\",\"colorbar\":{\"outlinewidth\":0,\"ticks\":\"\"},\"colorscale\":[[0.0,\"#0d0887\"],[0.1111111111111111,\"#46039f\"],[0.2222222222222222,\"#7201a8\"],[0.3333333333333333,\"#9c179e\"],[0.4444444444444444,\"#bd3786\"],[0.5555555555555556,\"#d8576b\"],[0.6666666666666666,\"#ed7953\"],[0.7777777777777778,\"#fb9f3a\"],[0.8888888888888888,\"#fdca26\"],[1.0,\"#f0f921\"]]}],\"mesh3d\":[{\"type\":\"mesh3d\",\"colorbar\":{\"outlinewidth\":0,\"ticks\":\"\"}}],\"scatter\":[{\"fillpattern\":{\"fillmode\":\"overlay\",\"size\":10,\"solidity\":0.2},\"type\":\"scatter\"}],\"parcoords\":[{\"type\":\"parcoords\",\"line\":{\"colorbar\":{\"outlinewidth\":0,\"ticks\":\"\"}}}],\"scatterpolargl\":[{\"type\":\"scatterpolargl\",\"marker\":{\"colorbar\":{\"outlinewidth\":0,\"ticks\":\"\"}}}],\"bar\":[{\"error_x\":{\"color\":\"#2a3f5f\"},\"error_y\":{\"color\":\"#2a3f5f\"},\"marker\":{\"line\":{\"color\":\"#E5ECF6\",\"width\":0.5},\"pattern\":{\"fillmode\":\"overlay\",\"size\":10,\"solidity\":0.2}},\"type\":\"bar\"}],\"scattergeo\":[{\"type\":\"scattergeo\",\"marker\":{\"colorbar\":{\"outlinewidth\":0,\"ticks\":\"\"}}}],\"scatterpolar\":[{\"type\":\"scatterpolar\",\"marker\":{\"colorbar\":{\"outlinewidth\":0,\"ticks\":\"\"}}}],\"histogram\":[{\"marker\":{\"pattern\":{\"fillmode\":\"overlay\",\"size\":10,\"solidity\":0.2}},\"type\":\"histogram\"}],\"scattergl\":[{\"type\":\"scattergl\",\"marker\":{\"colorbar\":{\"outlinewidth\":0,\"ticks\":\"\"}}}],\"scatter3d\":[{\"type\":\"scatter3d\",\"line\":{\"colorbar\":{\"outlinewidth\":0,\"ticks\":\"\"}},\"marker\":{\"colorbar\":{\"outlinewidth\":0,\"ticks\":\"\"}}}],\"scattermapbox\":[{\"type\":\"scattermapbox\",\"marker\":{\"colorbar\":{\"outlinewidth\":0,\"ticks\":\"\"}}}],\"scatterternary\":[{\"type\":\"scatterternary\",\"marker\":{\"colorbar\":{\"outlinewidth\":0,\"ticks\":\"\"}}}],\"scattercarpet\":[{\"type\":\"scattercarpet\",\"marker\":{\"colorbar\":{\"outlinewidth\":0,\"ticks\":\"\"}}}],\"carpet\":[{\"aaxis\":{\"endlinecolor\":\"#2a3f5f\",\"gridcolor\":\"white\",\"linecolor\":\"white\",\"minorgridcolor\":\"white\",\"startlinecolor\":\"#2a3f5f\"},\"baxis\":{\"endlinecolor\":\"#2a3f5f\",\"gridcolor\":\"white\",\"linecolor\":\"white\",\"minorgridcolor\":\"white\",\"startlinecolor\":\"#2a3f5f\"},\"type\":\"carpet\"}],\"table\":[{\"cells\":{\"fill\":{\"color\":\"#EBF0F8\"},\"line\":{\"color\":\"white\"}},\"header\":{\"fill\":{\"color\":\"#C8D4E3\"},\"line\":{\"color\":\"white\"}},\"type\":\"table\"}],\"barpolar\":[{\"marker\":{\"line\":{\"color\":\"#E5ECF6\",\"width\":0.5},\"pattern\":{\"fillmode\":\"overlay\",\"size\":10,\"solidity\":0.2}},\"type\":\"barpolar\"}],\"pie\":[{\"automargin\":true,\"type\":\"pie\"}]},\"layout\":{\"autotypenumbers\":\"strict\",\"colorway\":[\"#636efa\",\"#EF553B\",\"#00cc96\",\"#ab63fa\",\"#FFA15A\",\"#19d3f3\",\"#FF6692\",\"#B6E880\",\"#FF97FF\",\"#FECB52\"],\"font\":{\"color\":\"#2a3f5f\"},\"hovermode\":\"closest\",\"hoverlabel\":{\"align\":\"left\"},\"paper_bgcolor\":\"white\",\"plot_bgcolor\":\"#E5ECF6\",\"polar\":{\"bgcolor\":\"#E5ECF6\",\"angularaxis\":{\"gridcolor\":\"white\",\"linecolor\":\"white\",\"ticks\":\"\"},\"radialaxis\":{\"gridcolor\":\"white\",\"linecolor\":\"white\",\"ticks\":\"\"}},\"ternary\":{\"bgcolor\":\"#E5ECF6\",\"aaxis\":{\"gridcolor\":\"white\",\"linecolor\":\"white\",\"ticks\":\"\"},\"baxis\":{\"gridcolor\":\"white\",\"linecolor\":\"white\",\"ticks\":\"\"},\"caxis\":{\"gridcolor\":\"white\",\"linecolor\":\"white\",\"ticks\":\"\"}},\"coloraxis\":{\"colorbar\":{\"outlinewidth\":0,\"ticks\":\"\"}},\"colorscale\":{\"sequential\":[[0.0,\"#0d0887\"],[0.1111111111111111,\"#46039f\"],[0.2222222222222222,\"#7201a8\"],[0.3333333333333333,\"#9c179e\"],[0.4444444444444444,\"#bd3786\"],[0.5555555555555556,\"#d8576b\"],[0.6666666666666666,\"#ed7953\"],[0.7777777777777778,\"#fb9f3a\"],[0.8888888888888888,\"#fdca26\"],[1.0,\"#f0f921\"]],\"sequentialminus\":[[0.0,\"#0d0887\"],[0.1111111111111111,\"#46039f\"],[0.2222222222222222,\"#7201a8\"],[0.3333333333333333,\"#9c179e\"],[0.4444444444444444,\"#bd3786\"],[0.5555555555555556,\"#d8576b\"],[0.6666666666666666,\"#ed7953\"],[0.7777777777777778,\"#fb9f3a\"],[0.8888888888888888,\"#fdca26\"],[1.0,\"#f0f921\"]],\"diverging\":[[0,\"#8e0152\"],[0.1,\"#c51b7d\"],[0.2,\"#de77ae\"],[0.3,\"#f1b6da\"],[0.4,\"#fde0ef\"],[0.5,\"#f7f7f7\"],[0.6,\"#e6f5d0\"],[0.7,\"#b8e186\"],[0.8,\"#7fbc41\"],[0.9,\"#4d9221\"],[1,\"#276419\"]]},\"xaxis\":{\"gridcolor\":\"white\",\"linecolor\":\"white\",\"ticks\":\"\",\"title\":{\"standoff\":15},\"zerolinecolor\":\"white\",\"automargin\":true,\"zerolinewidth\":2},\"yaxis\":{\"gridcolor\":\"white\",\"linecolor\":\"white\",\"ticks\":\"\",\"title\":{\"standoff\":15},\"zerolinecolor\":\"white\",\"automargin\":true,\"zerolinewidth\":2},\"scene\":{\"xaxis\":{\"backgroundcolor\":\"#E5ECF6\",\"gridcolor\":\"white\",\"linecolor\":\"white\",\"showbackground\":true,\"ticks\":\"\",\"zerolinecolor\":\"white\",\"gridwidth\":2},\"yaxis\":{\"backgroundcolor\":\"#E5ECF6\",\"gridcolor\":\"white\",\"linecolor\":\"white\",\"showbackground\":true,\"ticks\":\"\",\"zerolinecolor\":\"white\",\"gridwidth\":2},\"zaxis\":{\"backgroundcolor\":\"#E5ECF6\",\"gridcolor\":\"white\",\"linecolor\":\"white\",\"showbackground\":true,\"ticks\":\"\",\"zerolinecolor\":\"white\",\"gridwidth\":2}},\"shapedefaults\":{\"line\":{\"color\":\"#2a3f5f\"}},\"annotationdefaults\":{\"arrowcolor\":\"#2a3f5f\",\"arrowhead\":0,\"arrowwidth\":1},\"geo\":{\"bgcolor\":\"white\",\"landcolor\":\"#E5ECF6\",\"subunitcolor\":\"white\",\"showland\":true,\"showlakes\":true,\"lakecolor\":\"white\"},\"title\":{\"x\":0.05},\"mapbox\":{\"style\":\"light\"}}}},                        {\"responsive\": true}                    ).then(function(){\n",
       "                            \n",
       "var gd = document.getElementById('1551e7ec-a702-460f-93b3-b64a433c0302');\n",
       "var x = new MutationObserver(function (mutations, observer) {{\n",
       "        var display = window.getComputedStyle(gd).display;\n",
       "        if (!display || display === 'none') {{\n",
       "            console.log([gd, 'removed!']);\n",
       "            Plotly.purge(gd);\n",
       "            observer.disconnect();\n",
       "        }}\n",
       "}});\n",
       "\n",
       "// Listen for the removal of the full notebook cells\n",
       "var notebookContainer = gd.closest('#notebook-container');\n",
       "if (notebookContainer) {{\n",
       "    x.observe(notebookContainer, {childList: true});\n",
       "}}\n",
       "\n",
       "// Listen for the clearing of the current output cell\n",
       "var outputEl = gd.closest('.output');\n",
       "if (outputEl) {{\n",
       "    x.observe(outputEl, {childList: true});\n",
       "}}\n",
       "\n",
       "                        })                };                });            </script>        </div>"
      ]
     },
     "metadata": {},
     "output_type": "display_data"
    }
   ],
   "source": [
    "#give hyperparameter importances\n",
    "\n",
    "optuna.visualization.plot_param_importances(study2).show()"
   ]
  },
  {
   "cell_type": "code",
   "execution_count": 169,
   "metadata": {},
   "outputs": [
    {
     "data": {
      "application/vnd.plotly.v1+json": {
       "config": {
        "plotlyServerURL": "https://plot.ly"
       },
       "data": [
        {
         "hovertemplate": "%{text}<extra>Trial</extra>",
         "marker": {
          "color": [
           0,
           1,
           2,
           3,
           4,
           5,
           6,
           7,
           8,
           9,
           10,
           11,
           12,
           13,
           14,
           15,
           16,
           17,
           18,
           19,
           20,
           21,
           22,
           23,
           24,
           25,
           26,
           28,
           29,
           30,
           31,
           32,
           33,
           34,
           35,
           36,
           37,
           38,
           39,
           42,
           43,
           44,
           45,
           46,
           47,
           48,
           49,
           50,
           51,
           52,
           53,
           54,
           55,
           56,
           57,
           58,
           59,
           61,
           62,
           63,
           64,
           65,
           66,
           67,
           68,
           69,
           70,
           71,
           72,
           74
          ],
          "colorbar": {
           "title": {
            "text": "Trial"
           }
          },
          "colorscale": [
           [
            0,
            "rgb(247,251,255)"
           ],
           [
            0.125,
            "rgb(222,235,247)"
           ],
           [
            0.25,
            "rgb(198,219,239)"
           ],
           [
            0.375,
            "rgb(158,202,225)"
           ],
           [
            0.5,
            "rgb(107,174,214)"
           ],
           [
            0.625,
            "rgb(66,146,198)"
           ],
           [
            0.75,
            "rgb(33,113,181)"
           ],
           [
            0.875,
            "rgb(8,81,156)"
           ],
           [
            1,
            "rgb(8,48,107)"
           ]
          ],
          "line": {
           "color": "Grey",
           "width": 0.5
          }
         },
         "mode": "markers",
         "showlegend": false,
         "text": [
          "{<br>  \"number\": 0,<br>  \"values\": [<br>    6.857719659805298,<br>    0.24745424091815948<br>  ],<br>  \"params\": {<br>    \"chain_function_mean\": 8.92768804408959,<br>    \"chain_function_std\": 0.9519280572386348,<br>    \"chain_function_constant\": 0.00030999914997151474,<br>    \"optimizer\": \"SGD\",<br>    \"learning_rate\": 0.0012923231234461274,<br>    \"forecast_distribution\": \"distr_mixture\",<br>    \"distribution_1\": \"distr_log_normal\",<br>    \"distribution_2\": \"distr_trunc_normal\",<br>    \"perform_batching\": true,<br>    \"batch_size\": 32,<br>    \"epochs\": 207<br>  }<br>}",
          "{<br>  \"number\": 1,<br>  \"values\": [<br>    2.7068868279457092,<br>    0.18107673153281212<br>  ],<br>  \"params\": {<br>    \"chain_function_mean\": -3.1589325703210713,<br>    \"chain_function_std\": 0.0002759704550778344,<br>    \"chain_function_constant\": 0.009416006510129638,<br>    \"optimizer\": \"SGD\",<br>    \"learning_rate\": 0.010304157454824651,<br>    \"forecast_distribution\": \"distr_mixture_linear\",<br>    \"distribution_1\": \"distr_gev\",<br>    \"distribution_2\": \"distr_log_normal\",<br>    \"perform_batching\": true,<br>    \"batch_size\": 256,<br>    \"epochs\": 277<br>  }<br>}",
          "{<br>  \"number\": 2,<br>  \"values\": [<br>    2.707387685775757,<br>    0.18062767386436462<br>  ],<br>  \"params\": {<br>    \"chain_function_mean\": -4.373060661832781,<br>    \"chain_function_std\": 0.5624119227090846,<br>    \"chain_function_constant\": 0.0035755008744056713,<br>    \"optimizer\": \"Adam\",<br>    \"learning_rate\": 0.000809743317291191,<br>    \"forecast_distribution\": \"distr_trunc_normal\",<br>    \"perform_batching\": true,<br>    \"batch_size\": 64,<br>    \"epochs\": 157<br>  }<br>}",
          "{<br>  \"number\": 3,<br>  \"values\": [<br>    7.781105995178223,<br>    0.2917838990688324<br>  ],<br>  \"params\": {<br>    \"chain_function_mean\": 8.459079658136577,<br>    \"chain_function_std\": 0.0068746188786876355,<br>    \"chain_function_constant\": 5.770406498265465e-05,<br>    \"optimizer\": \"Adam\",<br>    \"learning_rate\": 0.00029435142674010364,<br>    \"forecast_distribution\": \"distr_gev\",<br>    \"perform_batching\": false,<br>    \"epochs\": 149<br>  }<br>}",
          "{<br>  \"number\": 4,<br>  \"values\": [<br>    2.712414562702179,<br>    0.18150850385427475<br>  ],<br>  \"params\": {<br>    \"chain_function_mean\": 1.59831766360778,<br>    \"chain_function_std\": 2.133936326220745,<br>    \"chain_function_constant\": 0.11411669613359093,<br>    \"optimizer\": \"Adam\",<br>    \"learning_rate\": 0.06866510555399127,<br>    \"forecast_distribution\": \"distr_trunc_normal\",<br>    \"perform_batching\": true,<br>    \"batch_size\": 1024,<br>    \"epochs\": 363<br>  }<br>}",
          "{<br>  \"number\": 5,<br>  \"values\": [<br>    7.844149827957153,<br>    0.2921120226383209<br>  ],<br>  \"params\": {<br>    \"chain_function_mean\": 1.1872374775533823,<br>    \"chain_function_std\": 6.058958689840486,<br>    \"chain_function_constant\": 0.0014935094370555173,<br>    \"optimizer\": \"Adam\",<br>    \"learning_rate\": 0.00015398417506987154,<br>    \"forecast_distribution\": \"distr_mixture\",<br>    \"distribution_1\": \"distr_gev\",<br>    \"distribution_2\": \"distr_gev\",<br>    \"perform_batching\": false,<br>    \"epochs\": 467<br>  }<br>}",
          "{<br>  \"number\": 6,<br>  \"values\": [<br>    5.163564205169678,<br>    0.3390817642211914<br>  ],<br>  \"params\": {<br>    \"chain_function_mean\": 0.31544437675777814,<br>    \"chain_function_std\": 0.0018098079519817225,<br>    \"chain_function_constant\": 0.024545358062812783,<br>    \"optimizer\": \"Adam\",<br>    \"learning_rate\": 0.001947641337878647,<br>    \"forecast_distribution\": \"distr_gev\",<br>    \"perform_batching\": false,<br>    \"epochs\": 483<br>  }<br>}",
          "{<br>  \"number\": 7,<br>  \"values\": [<br>    3.2693737745285034,<br>    0.1938517466187477<br>  ],<br>  \"params\": {<br>    \"chain_function_mean\": 3.725059129932742,<br>    \"chain_function_std\": 0.000291982405019289,<br>    \"chain_function_constant\": 3.1532489378432935e-05,<br>    \"optimizer\": \"Adam\",<br>    \"learning_rate\": 0.006631834893464393,<br>    \"forecast_distribution\": \"distr_gev\",<br>    \"perform_batching\": false,<br>    \"epochs\": 431<br>  }<br>}",
          "{<br>  \"number\": 8,<br>  \"values\": [<br>    2.707865536212921,<br>    0.18080054223537445<br>  ],<br>  \"params\": {<br>    \"chain_function_mean\": 1.7160921604353652,<br>    \"chain_function_std\": 0.018294126947100645,<br>    \"chain_function_constant\": 0.09112866659471801,<br>    \"optimizer\": \"SGD\",<br>    \"learning_rate\": 0.016570618048122886,<br>    \"forecast_distribution\": \"distr_trunc_normal\",<br>    \"perform_batching\": true,<br>    \"batch_size\": 256,<br>    \"epochs\": 286<br>  }<br>}",
          "{<br>  \"number\": 9,<br>  \"values\": [<br>    3.0313754081726074,<br>    0.22385223954916<br>  ],<br>  \"params\": {<br>    \"chain_function_mean\": -1.0164546431871968,<br>    \"chain_function_std\": 0.04884355898127172,<br>    \"chain_function_constant\": 0.007064492551314908,<br>    \"optimizer\": \"SGD\",<br>    \"learning_rate\": 0.04751733636192285,<br>    \"forecast_distribution\": \"distr_mixture_linear\",<br>    \"distribution_1\": \"distr_log_normal\",<br>    \"distribution_2\": \"distr_trunc_normal\",<br>    \"perform_batching\": false,<br>    \"epochs\": 342<br>  }<br>}",
          "{<br>  \"number\": 10,<br>  \"values\": [<br>    10.303478240966797,<br>    0.30033228918910027<br>  ],<br>  \"params\": {<br>    \"chain_function_mean\": 13.425384929167091,<br>    \"chain_function_std\": 1.3952032625719306,<br>    \"chain_function_constant\": 0.0029465332931491997,<br>    \"optimizer\": \"SGD\",<br>    \"learning_rate\": 0.02295288058824968,<br>    \"forecast_distribution\": \"distr_mixture_linear\",<br>    \"distribution_1\": \"distr_trunc_normal\",<br>    \"distribution_2\": \"distr_log_normal\",<br>    \"perform_batching\": false,<br>    \"epochs\": 189<br>  }<br>}",
          "{<br>  \"number\": 11,<br>  \"values\": [<br>    2.780767560005188,<br>    0.18001408874988556<br>  ],<br>  \"params\": {<br>    \"chain_function_mean\": 13.319151605820721,<br>    \"chain_function_std\": 4.077458736407382,<br>    \"chain_function_constant\": 1.1527732096401132e-05,<br>    \"optimizer\": \"Adam\",<br>    \"learning_rate\": 0.003926910944166578,<br>    \"forecast_distribution\": \"distr_log_normal\",<br>    \"perform_batching\": true,<br>    \"batch_size\": 128,<br>    \"epochs\": 435<br>  }<br>}",
          "{<br>  \"number\": 12,<br>  \"values\": [<br>    6.279019117355347,<br>    0.36110496520996094<br>  ],<br>  \"params\": {<br>    \"chain_function_mean\": 3.06228602477578,<br>    \"chain_function_std\": 0.01899031307273979,<br>    \"chain_function_constant\": 0.07376955088119357,<br>    \"optimizer\": \"SGD\",<br>    \"learning_rate\": 0.004426485780137288,<br>    \"forecast_distribution\": \"distr_gev\",<br>    \"perform_batching\": false,<br>    \"epochs\": 341<br>  }<br>}",
          "{<br>  \"number\": 13,<br>  \"values\": [<br>    3.380695343017578,<br>    0.23045691847801208<br>  ],<br>  \"params\": {<br>    \"chain_function_mean\": -2.3003295166613302,<br>    \"chain_function_std\": 0.07834967299665604,<br>    \"chain_function_constant\": 0.08666154410230384,<br>    \"optimizer\": \"Adam\",<br>    \"learning_rate\": 0.013834668028561667,<br>    \"forecast_distribution\": \"distr_mixture_linear\",<br>    \"distribution_1\": \"distr_gev\",<br>    \"distribution_2\": \"distr_trunc_normal\",<br>    \"perform_batching\": false,<br>    \"epochs\": 205<br>  }<br>}",
          "{<br>  \"number\": 14,<br>  \"values\": [<br>    2.9159937500953674,<br>    0.19983584061264992<br>  ],<br>  \"params\": {<br>    \"chain_function_mean\": 3.0275447251546694,<br>    \"chain_function_std\": 0.00010630418763146408,<br>    \"chain_function_constant\": 0.6581913409199802,<br>    \"optimizer\": \"SGD\",<br>    \"learning_rate\": 0.0009910215227800436,<br>    \"forecast_distribution\": \"distr_gev\",<br>    \"perform_batching\": true,<br>    \"batch_size\": 512,<br>    \"epochs\": 350<br>  }<br>}",
          "{<br>  \"number\": 15,<br>  \"values\": [<br>    2.7207736372947693,<br>    0.18145718052983284<br>  ],<br>  \"params\": {<br>    \"chain_function_mean\": 2.2218780683038775,<br>    \"chain_function_std\": 0.024028090433787286,<br>    \"chain_function_constant\": 0.39264817113054545,<br>    \"optimizer\": \"Adam\",<br>    \"learning_rate\": 0.016203109067420094,<br>    \"forecast_distribution\": \"distr_log_normal\",<br>    \"perform_batching\": true,<br>    \"batch_size\": 1024,<br>    \"epochs\": 200<br>  }<br>}",
          "{<br>  \"number\": 16,<br>  \"values\": [<br>    9.976555585861206,<br>    0.300634678453207<br>  ],<br>  \"params\": {<br>    \"chain_function_mean\": 12.725753452221163,<br>    \"chain_function_std\": 0.8564132514408164,<br>    \"chain_function_constant\": 3.633506098119116e-05,<br>    \"optimizer\": \"SGD\",<br>    \"learning_rate\": 0.01619305117853118,<br>    \"forecast_distribution\": \"distr_trunc_normal\",<br>    \"perform_batching\": true,<br>    \"batch_size\": 512,<br>    \"epochs\": 410<br>  }<br>}",
          "{<br>  \"number\": 17,<br>  \"values\": [<br>    2.7285261154174805,<br>    0.18249428644776344<br>  ],<br>  \"params\": {<br>    \"chain_function_mean\": 5.299386744983046,<br>    \"chain_function_std\": 0.000318729472766609,<br>    \"chain_function_constant\": 1.3018416582466503,<br>    \"optimizer\": \"SGD\",<br>    \"learning_rate\": 0.006490413573910863,<br>    \"forecast_distribution\": \"distr_mixture\",<br>    \"distribution_1\": \"distr_gev\",<br>    \"distribution_2\": \"distr_trunc_normal\",<br>    \"perform_batching\": true,<br>    \"batch_size\": 256,<br>    \"epochs\": 445<br>  }<br>}",
          "{<br>  \"number\": 18,<br>  \"values\": [<br>    11.437721967697144,<br>    0.3012692891061306<br>  ],<br>  \"params\": {<br>    \"chain_function_mean\": 3.24553004082272,<br>    \"chain_function_std\": 5.406281434379213,<br>    \"chain_function_constant\": 0.20547356851433216,<br>    \"optimizer\": \"Adam\",<br>    \"learning_rate\": 0.00011758608382975349,<br>    \"forecast_distribution\": \"distr_mixture\",<br>    \"distribution_1\": \"distr_log_normal\",<br>    \"distribution_2\": \"distr_log_normal\",<br>    \"perform_batching\": false,<br>    \"epochs\": 451<br>  }<br>}",
          "{<br>  \"number\": 19,<br>  \"values\": [<br>    2.7918731570243835,<br>    0.1805586814880371<br>  ],<br>  \"params\": {<br>    \"chain_function_mean\": 5.330043520721144,<br>    \"chain_function_std\": 2.4621679087484023,<br>    \"chain_function_constant\": 4.110978456548582e-05,<br>    \"optimizer\": \"SGD\",<br>    \"learning_rate\": 0.0058234861922892055,<br>    \"forecast_distribution\": \"distr_mixture_linear\",<br>    \"distribution_1\": \"distr_log_normal\",<br>    \"distribution_2\": \"distr_log_normal\",<br>    \"perform_batching\": true,<br>    \"batch_size\": 512,<br>    \"epochs\": 403<br>  }<br>}",
          "{<br>  \"number\": 20,<br>  \"values\": [<br>    2.719066619873047,<br>    0.18151003122329712<br>  ],<br>  \"params\": {<br>    \"chain_function_mean\": -4.854861178152421,<br>    \"chain_function_std\": 0.17159341243829102,<br>    \"chain_function_constant\": 0.00034374699552860256,<br>    \"optimizer\": \"Adam\",<br>    \"learning_rate\": 0.0006331140704964706,<br>    \"forecast_distribution\": \"distr_log_normal\",<br>    \"perform_batching\": true,<br>    \"batch_size\": 64,<br>    \"epochs\": 136<br>  }<br>}",
          "{<br>  \"number\": 21,<br>  \"values\": [<br>    2.7802626490592957,<br>    0.179512158036232<br>  ],<br>  \"params\": {<br>    \"chain_function_mean\": 7.876906349237393,<br>    \"chain_function_std\": 0.3177089451709854,<br>    \"chain_function_constant\": 0.0009423588895167703,<br>    \"optimizer\": \"Adam\",<br>    \"learning_rate\": 0.0004008182372297023,<br>    \"forecast_distribution\": \"distr_trunc_normal\",<br>    \"perform_batching\": true,<br>    \"batch_size\": 64,<br>    \"epochs\": 111<br>  }<br>}",
          "{<br>  \"number\": 22,<br>  \"values\": [<br>    2.7766727209091187,<br>    0.17940985783934593<br>  ],<br>  \"params\": {<br>    \"chain_function_mean\": 7.8340584504276976,<br>    \"chain_function_std\": 0.23982745338443026,<br>    \"chain_function_constant\": 0.0008012591145669031,<br>    \"optimizer\": \"Adam\",<br>    \"learning_rate\": 0.0004489382998864519,<br>    \"forecast_distribution\": \"distr_trunc_normal\",<br>    \"perform_batching\": true,<br>    \"batch_size\": 64,<br>    \"epochs\": 103<br>  }<br>}",
          "{<br>  \"number\": 23,<br>  \"values\": [<br>    2.999790906906128,<br>    0.1776863932609558<br>  ],<br>  \"params\": {<br>    \"chain_function_mean\": 10.560683075342443,<br>    \"chain_function_std\": 0.4149682445294126,<br>    \"chain_function_constant\": 0.00020231775926459996,<br>    \"optimizer\": \"Adam\",<br>    \"learning_rate\": 0.0018956077050642478,<br>    \"forecast_distribution\": \"distr_trunc_normal\",<br>    \"perform_batching\": true,<br>    \"batch_size\": 64,<br>    \"epochs\": 252<br>  }<br>}",
          "{<br>  \"number\": 24,<br>  \"values\": [<br>    2.7539538741111755,<br>    0.1784217208623886<br>  ],<br>  \"params\": {<br>    \"chain_function_mean\": 10.13905077771497,<br>    \"chain_function_std\": 0.45492724089784053,<br>    \"chain_function_constant\": 0.02643669781834482,<br>    \"optimizer\": \"Adam\",<br>    \"learning_rate\": 0.0018386537728955277,<br>    \"forecast_distribution\": \"distr_trunc_normal\",<br>    \"perform_batching\": true,<br>    \"batch_size\": 64,<br>    \"epochs\": 247<br>  }<br>}",
          "{<br>  \"number\": 25,<br>  \"values\": [<br>    2.7380585074424744,<br>    0.17931987345218658<br>  ],<br>  \"params\": {<br>    \"chain_function_mean\": 10.564047487329841,<br>    \"chain_function_std\": 0.10935749964080561,<br>    \"chain_function_constant\": 0.019437866083625376,<br>    \"optimizer\": \"Adam\",<br>    \"learning_rate\": 0.00021237420711068522,<br>    \"forecast_distribution\": \"distr_trunc_normal\",<br>    \"perform_batching\": true,<br>    \"batch_size\": 64,<br>    \"epochs\": 242<br>  }<br>}",
          "{<br>  \"number\": 26,<br>  \"values\": [<br>    2.7504209876060486,<br>    0.17940856888890266<br>  ],<br>  \"params\": {<br>    \"chain_function_mean\": 6.171263677550304,<br>    \"chain_function_std\": 0.00690593958062783,<br>    \"chain_function_constant\": 0.019109818353743032,<br>    \"optimizer\": \"Adam\",<br>    \"learning_rate\": 0.0026111372705716947,<br>    \"forecast_distribution\": \"distr_trunc_normal\",<br>    \"perform_batching\": true,<br>    \"batch_size\": 32,<br>    \"epochs\": 170<br>  }<br>}",
          "{<br>  \"number\": 28,<br>  \"values\": [<br>    2.7075695395469666,<br>    0.18051982298493385<br>  ],<br>  \"params\": {<br>    \"chain_function_mean\": -0.8039960321192279,<br>    \"chain_function_std\": 9.807808002687812,<br>    \"chain_function_constant\": 1.9447125197502784,<br>    \"optimizer\": \"Adam\",<br>    \"learning_rate\": 0.0006341044934620053,<br>    \"forecast_distribution\": \"distr_trunc_normal\",<br>    \"perform_batching\": true,<br>    \"batch_size\": 64,<br>    \"epochs\": 321<br>  }<br>}",
          "{<br>  \"number\": 29,<br>  \"values\": [<br>    2.7073572278022766,<br>    0.1803307607769966<br>  ],<br>  \"params\": {<br>    \"chain_function_mean\": -0.4823919291062815,<br>    \"chain_function_std\": 5.689482636004607,<br>    \"chain_function_constant\": 1.6337040586380491,<br>    \"optimizer\": \"Adam\",<br>    \"learning_rate\": 0.0016027584352587261,<br>    \"forecast_distribution\": \"distr_trunc_normal\",<br>    \"perform_batching\": true,<br>    \"batch_size\": 64,<br>    \"epochs\": 307<br>  }<br>}",
          "{<br>  \"number\": 30,<br>  \"values\": [<br>    2.7066689133644104,<br>    0.18055195733904839<br>  ],<br>  \"params\": {<br>    \"chain_function_mean\": -2.59633235269148,<br>    \"chain_function_std\": 9.524594386046262,<br>    \"chain_function_constant\": 0.6906163237885832,<br>    \"optimizer\": \"Adam\",<br>    \"learning_rate\": 0.0013836122148049347,<br>    \"forecast_distribution\": \"distr_trunc_normal\",<br>    \"perform_batching\": true,<br>    \"batch_size\": 128,<br>    \"epochs\": 241<br>  }<br>}",
          "{<br>  \"number\": 31,<br>  \"values\": [<br>    2.717193841934204,<br>    0.1810912862420082<br>  ],<br>  \"params\": {<br>    \"chain_function_mean\": -2.3420390422512645,<br>    \"chain_function_std\": 2.2792811070584054,<br>    \"chain_function_constant\": 0.6963960616781889,<br>    \"optimizer\": \"Adam\",<br>    \"learning_rate\": 0.002761505327675819,<br>    \"forecast_distribution\": \"distr_log_normal\",<br>    \"perform_batching\": true,<br>    \"batch_size\": 128,<br>    \"epochs\": 231<br>  }<br>}",
          "{<br>  \"number\": 32,<br>  \"values\": [<br>    2.7086182832717896,<br>    0.17996812611818314<br>  ],<br>  \"params\": {<br>    \"chain_function_mean\": 10.240469520814901,<br>    \"chain_function_std\": 9.315080084675353,<br>    \"chain_function_constant\": 0.044509025952921694,<br>    \"optimizer\": \"Adam\",<br>    \"learning_rate\": 0.0010676866865113133,<br>    \"forecast_distribution\": \"distr_trunc_normal\",<br>    \"perform_batching\": true,<br>    \"batch_size\": 128,<br>    \"epochs\": 253<br>  }<br>}",
          "{<br>  \"number\": 33,<br>  \"values\": [<br>    2.726343870162964,<br>    0.17928890883922577<br>  ],<br>  \"params\": {<br>    \"chain_function_mean\": 10.373817378379536,<br>    \"chain_function_std\": 0.002536808061131474,<br>    \"chain_function_constant\": 0.04349028238442353,<br>    \"optimizer\": \"Adam\",<br>    \"learning_rate\": 0.0002886701906384498,<br>    \"forecast_distribution\": \"distr_trunc_normal\",<br>    \"perform_batching\": true,<br>    \"batch_size\": 128,<br>    \"epochs\": 269<br>  }<br>}",
          "{<br>  \"number\": 34,<br>  \"values\": [<br>    3.559202194213867,<br>    0.19323212653398514<br>  ],<br>  \"params\": {<br>    \"chain_function_mean\": 14.516646773619645,<br>    \"chain_function_std\": 0.0008532717086658874,<br>    \"chain_function_constant\": 0.00013053316755875323,<br>    \"optimizer\": \"Adam\",<br>    \"learning_rate\": 0.0002661964439924912,<br>    \"forecast_distribution\": \"distr_trunc_normal\",<br>    \"perform_batching\": true,<br>    \"batch_size\": 128,<br>    \"epochs\": 279<br>  }<br>}",
          "{<br>  \"number\": 35,<br>  \"values\": [<br>    2.710324466228485,<br>    0.1801108494400978<br>  ],<br>  \"params\": {<br>    \"chain_function_mean\": 11.902279776628218,<br>    \"chain_function_std\": 0.008580420749984418,<br>    \"chain_function_constant\": 0.24697118668453513,<br>    \"optimizer\": \"Adam\",<br>    \"learning_rate\": 0.00042043849544187305,<br>    \"forecast_distribution\": \"distr_trunc_normal\",<br>    \"perform_batching\": true,<br>    \"batch_size\": 128,<br>    \"epochs\": 381<br>  }<br>}",
          "{<br>  \"number\": 36,<br>  \"values\": [<br>    2.7086638808250427,<br>    0.18021013587713242<br>  ],<br>  \"params\": {<br>    \"chain_function_mean\": 6.656810234111182,<br>    \"chain_function_std\": 0.002017015555979516,<br>    \"chain_function_constant\": 0.7637300109522457,<br>    \"optimizer\": \"Adam\",<br>    \"learning_rate\": 0.0007173313215058371,<br>    \"forecast_distribution\": \"distr_trunc_normal\",<br>    \"perform_batching\": true,<br>    \"batch_size\": 128,<br>    \"epochs\": 222<br>  }<br>}",
          "{<br>  \"number\": 37,<br>  \"values\": [<br>    4.160776615142822,<br>    0.204006165266037<br>  ],<br>  \"params\": {<br>    \"chain_function_mean\": 14.888166598164922,<br>    \"chain_function_std\": 0.15265064472419898,<br>    \"chain_function_constant\": 1.5998194173025635e-05,<br>    \"optimizer\": \"Adam\",<br>    \"learning_rate\": 0.0004984635311728094,<br>    \"forecast_distribution\": \"distr_mixture\",<br>    \"distribution_1\": \"distr_trunc_normal\",<br>    \"distribution_2\": \"distr_gev\",<br>    \"perform_batching\": true,<br>    \"batch_size\": 128,<br>    \"epochs\": 312<br>  }<br>}",
          "{<br>  \"number\": 38,<br>  \"values\": [<br>    2.722476303577423,<br>    0.18093814700841904<br>  ],<br>  \"params\": {<br>    \"chain_function_mean\": 11.298937413432196,<br>    \"chain_function_std\": 0.048592095973926525,<br>    \"chain_function_constant\": 0.18518350731410022,<br>    \"optimizer\": \"Adam\",<br>    \"learning_rate\": 0.0002885122481223993,<br>    \"forecast_distribution\": \"distr_log_normal\",<br>    \"perform_batching\": true,<br>    \"batch_size\": 128,<br>    \"epochs\": 271<br>  }<br>}",
          "{<br>  \"number\": 39,<br>  \"values\": [<br>    9.872849941253662,<br>    0.3013862185180187<br>  ],<br>  \"params\": {<br>    \"chain_function_mean\": 4.610509126450495,<br>    \"chain_function_std\": 1.526947969457224,<br>    \"chain_function_constant\": 0.008895543536327256,<br>    \"optimizer\": \"Adam\",<br>    \"learning_rate\": 0.0001769659774930297,<br>    \"forecast_distribution\": \"distr_trunc_normal\",<br>    \"perform_batching\": false,<br>    \"epochs\": 182<br>  }<br>}",
          "{<br>  \"number\": 42,<br>  \"values\": [<br>    9.154417753219604,<br>    0.30080437660217285<br>  ],<br>  \"params\": {<br>    \"chain_function_mean\": -3.723696474924429,<br>    \"chain_function_std\": 3.509669265883265,<br>    \"chain_function_constant\": 0.00028217727723517497,<br>    \"optimizer\": \"SGD\",<br>    \"learning_rate\": 0.0033354603702919713,<br>    \"forecast_distribution\": \"distr_trunc_normal\",<br>    \"perform_batching\": false,<br>    \"epochs\": 224<br>  }<br>}",
          "{<br>  \"number\": 43,<br>  \"values\": [<br>    2.7313432693481445,<br>    0.18551310151815414<br>  ],<br>  \"params\": {<br>    \"chain_function_mean\": 7.190016445499221,<br>    \"chain_function_std\": 3.481014033833056,<br>    \"chain_function_constant\": 0.0022682442063423416,<br>    \"optimizer\": \"Adam\",<br>    \"learning_rate\": 0.03131767628527161,<br>    \"forecast_distribution\": \"distr_mixture_linear\",<br>    \"distribution_1\": \"distr_trunc_normal\",<br>    \"distribution_2\": \"distr_gev\",<br>    \"perform_batching\": true,<br>    \"batch_size\": 32,<br>    \"epochs\": 292<br>  }<br>}",
          "{<br>  \"number\": 44,<br>  \"values\": [<br>    2.712631583213806,<br>    0.18171465769410133<br>  ],<br>  \"params\": {<br>    \"chain_function_mean\": 0.29584064011888866,<br>    \"chain_function_std\": 1.3344231021424866,<br>    \"chain_function_constant\": 0.0001744761934047865,<br>    \"optimizer\": \"Adam\",<br>    \"learning_rate\": 0.0013246706592001467,<br>    \"forecast_distribution\": \"distr_gev\",<br>    \"perform_batching\": true,<br>    \"batch_size\": 1024,<br>    \"epochs\": 500<br>  }<br>}",
          "{<br>  \"number\": 45,<br>  \"values\": [<br>    2.716261148452759,<br>    0.18121807649731636<br>  ],<br>  \"params\": {<br>    \"chain_function_mean\": -1.9999817274795735,<br>    \"chain_function_std\": 9.900007242073144,<br>    \"chain_function_constant\": 0.0004807466688223968,<br>    \"optimizer\": \"Adam\",<br>    \"learning_rate\": 0.009349752676990739,<br>    \"forecast_distribution\": \"distr_mixture\",<br>    \"distribution_1\": \"distr_trunc_normal\",<br>    \"distribution_2\": \"distr_gev\",<br>    \"perform_batching\": true,<br>    \"batch_size\": 128,<br>    \"epochs\": 323<br>  }<br>}",
          "{<br>  \"number\": 46,<br>  \"values\": [<br>    11.561511516571045,<br>    0.3012460172176361<br>  ],<br>  \"params\": {<br>    \"chain_function_mean\": 4.416903945811047,<br>    \"chain_function_std\": 0.392533744662121,<br>    \"chain_function_constant\": 0.000651349595378835,<br>    \"optimizer\": \"SGD\",<br>    \"learning_rate\": 0.0029022831261545897,<br>    \"forecast_distribution\": \"distr_log_normal\",<br>    \"perform_batching\": false,<br>    \"epochs\": 127<br>  }<br>}",
          "{<br>  \"number\": 47,<br>  \"values\": [<br>    2.7097208499908447,<br>    0.17972959950566292<br>  ],<br>  \"params\": {<br>    \"chain_function_mean\": 5.780882602452529,<br>    \"chain_function_std\": 3.8102072044536834,<br>    \"chain_function_constant\": 1.9715938418806834e-05,<br>    \"optimizer\": \"Adam\",<br>    \"learning_rate\": 0.005373162265266414,<br>    \"forecast_distribution\": \"distr_trunc_normal\",<br>    \"perform_batching\": true,<br>    \"batch_size\": 128,<br>    \"epochs\": 261<br>  }<br>}",
          "{<br>  \"number\": 48,<br>  \"values\": [<br>    3.257739782333374,<br>    0.19533534348011017<br>  ],<br>  \"params\": {<br>    \"chain_function_mean\": -3.6502635256201015,<br>    \"chain_function_std\": 2.204003554836899,<br>    \"chain_function_constant\": 0.0013508917772554112,<br>    \"optimizer\": \"Adam\",<br>    \"learning_rate\": 0.0009389960363456353,<br>    \"forecast_distribution\": \"distr_trunc_normal\",<br>    \"perform_batching\": true,<br>    \"batch_size\": 1024,<br>    \"epochs\": 218<br>  }<br>}",
          "{<br>  \"number\": 49,<br>  \"values\": [<br>    2.787211775779724,<br>    0.18803881108760834<br>  ],<br>  \"params\": {<br>    \"chain_function_mean\": -1.6858721336810212,<br>    \"chain_function_std\": 5.569114525421915,<br>    \"chain_function_constant\": 0.006558323885324709,<br>    \"optimizer\": \"SGD\",<br>    \"learning_rate\": 0.09172022404456802,<br>    \"forecast_distribution\": \"distr_trunc_normal\",<br>    \"perform_batching\": false,<br>    \"epochs\": 183<br>  }<br>}",
          "{<br>  \"number\": 50,<br>  \"values\": [<br>    3.0351170897483826,<br>    0.17757552862167358<br>  ],<br>  \"params\": {<br>    \"chain_function_mean\": 11.881624131563795,<br>    \"chain_function_std\": 1.1647043495929712,<br>    \"chain_function_constant\": 8.256142521312025e-05,<br>    \"optimizer\": \"Adam\",<br>    \"learning_rate\": 0.005036368017960842,<br>    \"forecast_distribution\": \"distr_trunc_normal\",<br>    \"perform_batching\": true,<br>    \"batch_size\": 128,<br>    \"epochs\": 264<br>  }<br>}",
          "{<br>  \"number\": 51,<br>  \"values\": [<br>    3.041444778442383,<br>    0.1778937354683876<br>  ],<br>  \"params\": {<br>    \"chain_function_mean\": 11.621917128947272,<br>    \"chain_function_std\": 1.0743901425599707,<br>    \"chain_function_constant\": 2.1782597986679765e-05,<br>    \"optimizer\": \"Adam\",<br>    \"learning_rate\": 0.004146764333199188,<br>    \"forecast_distribution\": \"distr_trunc_normal\",<br>    \"perform_batching\": true,<br>    \"batch_size\": 128,<br>    \"epochs\": 262<br>  }<br>}",
          "{<br>  \"number\": 52,<br>  \"values\": [<br>    2.8117628693580627,<br>    0.1799292042851448<br>  ],<br>  \"params\": {<br>    \"chain_function_mean\": 13.111191332968959,<br>    \"chain_function_std\": 3.366420489297056,<br>    \"chain_function_constant\": 9.985360187915689e-05,<br>    \"optimizer\": \"Adam\",<br>    \"learning_rate\": 0.008661288691457856,<br>    \"forecast_distribution\": \"distr_trunc_normal\",<br>    \"perform_batching\": true,<br>    \"batch_size\": 128,<br>    \"epochs\": 297<br>  }<br>}",
          "{<br>  \"number\": 53,<br>  \"values\": [<br>    2.869038701057434,<br>    0.17856911569833755<br>  ],<br>  \"params\": {<br>    \"chain_function_mean\": 9.597020878755286,<br>    \"chain_function_std\": 0.5971834075574216,<br>    \"chain_function_constant\": 6.107203372590895e-05,<br>    \"optimizer\": \"Adam\",<br>    \"learning_rate\": 0.004857679040167723,<br>    \"forecast_distribution\": \"distr_trunc_normal\",<br>    \"perform_batching\": true,<br>    \"batch_size\": 128,<br>    \"epochs\": 234<br>  }<br>}",
          "{<br>  \"number\": 54,<br>  \"values\": [<br>    3.0315831899642944,<br>    0.1770503930747509<br>  ],<br>  \"params\": {<br>    \"chain_function_mean\": 12.199492901614367,<br>    \"chain_function_std\": 1.329734286646739,<br>    \"chain_function_constant\": 6.649897768876984e-05,<br>    \"optimizer\": \"Adam\",<br>    \"learning_rate\": 0.0076268631346109814,<br>    \"forecast_distribution\": \"distr_trunc_normal\",<br>    \"perform_batching\": true,<br>    \"batch_size\": 128,<br>    \"epochs\": 324<br>  }<br>}",
          "{<br>  \"number\": 55,<br>  \"values\": [<br>    3.1919878721237183,<br>    0.18332720547914505<br>  ],<br>  \"params\": {<br>    \"chain_function_mean\": 12.595901303840797,<br>    \"chain_function_std\": 0.24550653421311186,<br>    \"chain_function_constant\": 1.0247649759336376e-05,<br>    \"optimizer\": \"Adam\",<br>    \"learning_rate\": 0.027112290363681835,<br>    \"forecast_distribution\": \"distr_trunc_normal\",<br>    \"perform_batching\": true,<br>    \"batch_size\": 128,<br>    \"epochs\": 382<br>  }<br>}",
          "{<br>  \"number\": 56,<br>  \"values\": [<br>    3.52398943901062,<br>    0.19447871297597885<br>  ],<br>  \"params\": {<br>    \"chain_function_mean\": 13.900952776197332,<br>    \"chain_function_std\": 0.6525865245374846,<br>    \"chain_function_constant\": 2.225948560279072e-05,<br>    \"optimizer\": \"Adam\",<br>    \"learning_rate\": 0.06149937008524027,<br>    \"forecast_distribution\": \"distr_trunc_normal\",<br>    \"perform_batching\": true,<br>    \"batch_size\": 256,<br>    \"epochs\": 405<br>  }<br>}",
          "{<br>  \"number\": 57,<br>  \"values\": [<br>    2.7979244589805603,<br>    0.1791129745543003<br>  ],<br>  \"params\": {<br>    \"chain_function_mean\": 11.153742349025437,<br>    \"chain_function_std\": 2.5232032618574185,<br>    \"chain_function_constant\": 0.00016904567914954334,<br>    \"optimizer\": \"Adam\",<br>    \"learning_rate\": 0.00010506475305309502,<br>    \"forecast_distribution\": \"distr_mixture\",<br>    \"distribution_1\": \"distr_gev\",<br>    \"distribution_2\": \"distr_log_normal\",<br>    \"perform_batching\": true,<br>    \"batch_size\": 32,<br>    \"epochs\": 336<br>  }<br>}",
          "{<br>  \"number\": 58,<br>  \"values\": [<br>    3.1855068802833557,<br>    0.18584440276026726<br>  ],<br>  \"params\": {<br>    \"chain_function_mean\": 12.552648420428309,<br>    \"chain_function_std\": 1.501473065177978,<br>    \"chain_function_constant\": 5.3354313084462237e-05,<br>    \"optimizer\": \"Adam\",<br>    \"learning_rate\": 0.03941201429366007,<br>    \"forecast_distribution\": \"distr_gev\",<br>    \"perform_batching\": true,<br>    \"batch_size\": 512,<br>    \"epochs\": 361<br>  }<br>}",
          "{<br>  \"number\": 59,<br>  \"values\": [<br>    2.851145565509796,<br>    0.17946646362543106<br>  ],<br>  \"params\": {<br>    \"chain_function_mean\": 8.425543046135243,<br>    \"chain_function_std\": 0.23961019322736068,<br>    \"chain_function_constant\": 0.00044694658465757196,<br>    \"optimizer\": \"Adam\",<br>    \"learning_rate\": 0.008110459967417407,<br>    \"forecast_distribution\": \"distr_mixture_linear\",<br>    \"distribution_1\": \"distr_log_normal\",<br>    \"distribution_2\": \"distr_trunc_normal\",<br>    \"perform_batching\": true,<br>    \"batch_size\": 128,<br>    \"epochs\": 381<br>  }<br>}",
          "{<br>  \"number\": 61,<br>  \"values\": [<br>    11.646679401397705,<br>    0.301001712679863<br>  ],<br>  \"params\": {<br>    \"chain_function_mean\": 8.784788027238651,<br>    \"chain_function_std\": 0.8531788453189313,<br>    \"chain_function_constant\": 0.0002529415469706046,<br>    \"optimizer\": \"SGD\",<br>    \"learning_rate\": 0.0858530910068446,<br>    \"forecast_distribution\": \"distr_log_normal\",<br>    \"perform_batching\": false,<br>    \"epochs\": 299<br>  }<br>}",
          "{<br>  \"number\": 62,<br>  \"values\": [<br>    7.592499256134033,<br>    0.29395490884780884<br>  ],<br>  \"params\": {<br>    \"chain_function_mean\": 7.016526172502608,<br>    \"chain_function_std\": 0.003676980640255586,<br>    \"chain_function_constant\": 0.0005206961432286028,<br>    \"optimizer\": \"SGD\",<br>    \"learning_rate\": 0.024595690190317116,<br>    \"forecast_distribution\": \"distr_mixture_linear\",<br>    \"distribution_1\": \"distr_trunc_normal\",<br>    \"distribution_2\": \"distr_gev\",<br>    \"perform_batching\": false,<br>    \"epochs\": 308<br>  }<br>}",
          "{<br>  \"number\": 63,<br>  \"values\": [<br>    5.892446279525757,<br>    0.3181852102279663<br>  ],<br>  \"params\": {<br>    \"chain_function_mean\": 6.085868290820297,<br>    \"chain_function_std\": 6.871879116230903,<br>    \"chain_function_constant\": 0.002010057159178468,<br>    \"optimizer\": \"SGD\",<br>    \"learning_rate\": 0.011990169170800133,<br>    \"forecast_distribution\": \"distr_gev\",<br>    \"perform_batching\": false,<br>    \"epochs\": 290<br>  }<br>}",
          "{<br>  \"number\": 64,<br>  \"values\": [<br>    2.869210720062256,<br>    0.17762825265526772<br>  ],<br>  \"params\": {<br>    \"chain_function_mean\": 9.448121965144338,<br>    \"chain_function_std\": 0.00011680319222954649,<br>    \"chain_function_constant\": 0.001008766625168047,<br>    \"optimizer\": \"Adam\",<br>    \"learning_rate\": 0.036810589599220324,<br>    \"forecast_distribution\": \"distr_mixture\",<br>    \"distribution_1\": \"distr_log_normal\",<br>    \"distribution_2\": \"distr_trunc_normal\",<br>    \"perform_batching\": true,<br>    \"batch_size\": 128,<br>    \"epochs\": 266<br>  }<br>}",
          "{<br>  \"number\": 65,<br>  \"values\": [<br>    4.491639852523804,<br>    0.1983233466744423<br>  ],<br>  \"params\": {<br>    \"chain_function_mean\": 14.150399116602802,<br>    \"chain_function_std\": 0.0008977886271834937,<br>    \"chain_function_constant\": 0.0001453328134740706,<br>    \"optimizer\": \"Adam\",<br>    \"learning_rate\": 0.019732708756603462,<br>    \"forecast_distribution\": \"distr_log_normal\",<br>    \"perform_batching\": true,<br>    \"batch_size\": 32,<br>    \"epochs\": 280<br>  }<br>}",
          "{<br>  \"number\": 66,<br>  \"values\": [<br>    9.791269540786743,<br>    0.30173320695757866<br>  ],<br>  \"params\": {<br>    \"chain_function_mean\": 9.887851467914269,<br>    \"chain_function_std\": 1.8345498201724835,<br>    \"chain_function_constant\": 9.843488240808248e-05,<br>    \"optimizer\": \"SGD\",<br>    \"learning_rate\": 0.05414055907201862,<br>    \"forecast_distribution\": \"distr_trunc_normal\",<br>    \"perform_batching\": false,<br>    \"epochs\": 328<br>  }<br>}",
          "{<br>  \"number\": 67,<br>  \"values\": [<br>    2.712471604347229,<br>    0.17971305549144745<br>  ],<br>  \"params\": {<br>    \"chain_function_mean\": 7.48747843174213,<br>    \"chain_function_std\": 4.455557296311494,<br>    \"chain_function_constant\": 0.0004089547179793198,<br>    \"optimizer\": \"Adam\",<br>    \"learning_rate\": 0.012727206248024007,<br>    \"forecast_distribution\": \"distr_trunc_normal\",<br>    \"perform_batching\": true,<br>    \"batch_size\": 1024,<br>    \"epochs\": 310<br>  }<br>}",
          "{<br>  \"number\": 68,<br>  \"values\": [<br>    2.7253670692443848,<br>    0.17977959290146828<br>  ],<br>  \"params\": {<br>    \"chain_function_mean\": 5.9666949533874325,<br>    \"chain_function_std\": 2.7212811284828438,<br>    \"chain_function_constant\": 0.00021749971902001897,<br>    \"optimizer\": \"Adam\",<br>    \"learning_rate\": 0.03704254910947077,<br>    \"forecast_distribution\": \"distr_trunc_normal\",<br>    \"perform_batching\": true,<br>    \"batch_size\": 256,<br>    \"epochs\": 358<br>  }<br>}",
          "{<br>  \"number\": 69,<br>  \"values\": [<br>    2.7376953959465027,<br>    0.18249138072133064<br>  ],<br>  \"params\": {<br>    \"chain_function_mean\": 11.200602771621623,<br>    \"chain_function_std\": 7.2273859330895,<br>    \"chain_function_constant\": 0.0006327445692194254,<br>    \"optimizer\": \"Adam\",<br>    \"learning_rate\": 0.07233991872118883,<br>    \"forecast_distribution\": \"distr_log_normal\",<br>    \"perform_batching\": true,<br>    \"batch_size\": 512,<br>    \"epochs\": 255<br>  }<br>}",
          "{<br>  \"number\": 70,<br>  \"values\": [<br>    2.7729315757751465,<br>    0.17843223735690117<br>  ],<br>  \"params\": {<br>    \"chain_function_mean\": 8.845243830976894,<br>    \"chain_function_std\": 1.7577753074735336,<br>    \"chain_function_constant\": 0.0012968668143959964,<br>    \"optimizer\": \"Adam\",<br>    \"learning_rate\": 0.0023525963370434476,<br>    \"forecast_distribution\": \"distr_trunc_normal\",<br>    \"perform_batching\": true,<br>    \"batch_size\": 128,<br>    \"epochs\": 242<br>  }<br>}",
          "{<br>  \"number\": 71,<br>  \"values\": [<br>    9.914034843444824,<br>    0.30129194259643555<br>  ],<br>  \"params\": {<br>    \"chain_function_mean\": 6.5526115856977425,<br>    \"chain_function_std\": 3.4288281893135797,<br>    \"chain_function_constant\": 0.03484285008456916,<br>    \"optimizer\": \"SGD\",<br>    \"learning_rate\": 0.00111705514319503,<br>    \"forecast_distribution\": \"distr_trunc_normal\",<br>    \"perform_batching\": false,<br>    \"epochs\": 273<br>  }<br>}",
          "{<br>  \"number\": 72,<br>  \"values\": [<br>    2.7453086972236633,<br>    0.1789550967514515<br>  ],<br>  \"params\": {<br>    \"chain_function_mean\": 9.316355539662897,<br>    \"chain_function_std\": 0.8686985266870408,<br>    \"chain_function_constant\": 0.04193137605394362,<br>    \"optimizer\": \"Adam\",<br>    \"learning_rate\": 0.0014471065324864751,<br>    \"forecast_distribution\": \"distr_gev\",<br>    \"perform_batching\": true,<br>    \"batch_size\": 128,<br>    \"epochs\": 288<br>  }<br>}",
          "{<br>  \"number\": 74,<br>  \"values\": [<br>    9951513313017858.0,<br>    10.0<br>  ],<br>  \"params\": {<br>    \"chain_function_mean\": 7.858317404339937,<br>    \"chain_function_std\": 0.00011439138190686483,<br>    \"chain_function_constant\": 9.791226314960639e-05,<br>    \"optimizer\": \"Adam\",<br>    \"learning_rate\": 0.019649078135596982,<br>    \"forecast_distribution\": \"distr_mixture_linear\",<br>    \"distribution_1\": \"distr_trunc_normal\",<br>    \"distribution_2\": \"distr_gev\",<br>    \"perform_batching\": true,<br>    \"batch_size\": 128,<br>    \"epochs\": 372<br>  }<br>}"
         ],
         "type": "scatter",
         "x": [
          6.857719659805298,
          2.7068868279457092,
          2.707387685775757,
          7.781105995178223,
          2.712414562702179,
          7.844149827957153,
          5.163564205169678,
          3.2693737745285034,
          2.707865536212921,
          3.0313754081726074,
          10.303478240966797,
          2.780767560005188,
          6.279019117355347,
          3.380695343017578,
          2.9159937500953674,
          2.7207736372947693,
          9.976555585861206,
          2.7285261154174805,
          11.437721967697144,
          2.7918731570243835,
          2.719066619873047,
          2.7802626490592957,
          2.7766727209091187,
          2.999790906906128,
          2.7539538741111755,
          2.7380585074424744,
          2.7504209876060486,
          2.7075695395469666,
          2.7073572278022766,
          2.7066689133644104,
          2.717193841934204,
          2.7086182832717896,
          2.726343870162964,
          3.559202194213867,
          2.710324466228485,
          2.7086638808250427,
          4.160776615142822,
          2.722476303577423,
          9.872849941253662,
          9.154417753219604,
          2.7313432693481445,
          2.712631583213806,
          2.716261148452759,
          11.561511516571045,
          2.7097208499908447,
          3.257739782333374,
          2.787211775779724,
          3.0351170897483826,
          3.041444778442383,
          2.8117628693580627,
          2.869038701057434,
          3.0315831899642944,
          3.1919878721237183,
          3.52398943901062,
          2.7979244589805603,
          3.1855068802833557,
          2.851145565509796,
          11.646679401397705,
          7.592499256134033,
          5.892446279525757,
          2.869210720062256,
          4.491639852523804,
          9.791269540786743,
          2.712471604347229,
          2.7253670692443848,
          2.7376953959465027,
          2.7729315757751465,
          9.914034843444824,
          2.7453086972236633,
          9951513313017858
         ],
         "y": [
          0.24745424091815948,
          0.18107673153281212,
          0.18062767386436462,
          0.2917838990688324,
          0.18150850385427475,
          0.2921120226383209,
          0.3390817642211914,
          0.1938517466187477,
          0.18080054223537445,
          0.22385223954916,
          0.30033228918910027,
          0.18001408874988556,
          0.36110496520996094,
          0.23045691847801208,
          0.19983584061264992,
          0.18145718052983284,
          0.300634678453207,
          0.18249428644776344,
          0.3012692891061306,
          0.1805586814880371,
          0.18151003122329712,
          0.179512158036232,
          0.17940985783934593,
          0.1776863932609558,
          0.1784217208623886,
          0.17931987345218658,
          0.17940856888890266,
          0.18051982298493385,
          0.1803307607769966,
          0.18055195733904839,
          0.1810912862420082,
          0.17996812611818314,
          0.17928890883922577,
          0.19323212653398514,
          0.1801108494400978,
          0.18021013587713242,
          0.204006165266037,
          0.18093814700841904,
          0.3013862185180187,
          0.30080437660217285,
          0.18551310151815414,
          0.18171465769410133,
          0.18121807649731636,
          0.3012460172176361,
          0.17972959950566292,
          0.19533534348011017,
          0.18803881108760834,
          0.17757552862167358,
          0.1778937354683876,
          0.1799292042851448,
          0.17856911569833755,
          0.1770503930747509,
          0.18332720547914505,
          0.19447871297597885,
          0.1791129745543003,
          0.18584440276026726,
          0.17946646362543106,
          0.301001712679863,
          0.29395490884780884,
          0.3181852102279663,
          0.17762825265526772,
          0.1983233466744423,
          0.30173320695757866,
          0.17971305549144745,
          0.17977959290146828,
          0.18249138072133064,
          0.17843223735690117,
          0.30129194259643555,
          0.1789550967514515,
          10
         ]
        },
        {
         "hovertemplate": "%{text}<extra>Best Trial</extra>",
         "marker": {
          "color": [
           27,
           40,
           41,
           60,
           73
          ],
          "colorbar": {
           "title": {
            "text": "Best Trial"
           },
           "x": 1.1,
           "xpad": 40
          },
          "colorscale": [
           [
            0,
            "rgb(255,245,240)"
           ],
           [
            0.125,
            "rgb(254,224,210)"
           ],
           [
            0.25,
            "rgb(252,187,161)"
           ],
           [
            0.375,
            "rgb(252,146,114)"
           ],
           [
            0.5,
            "rgb(251,106,74)"
           ],
           [
            0.625,
            "rgb(239,59,44)"
           ],
           [
            0.75,
            "rgb(203,24,29)"
           ],
           [
            0.875,
            "rgb(165,15,21)"
           ],
           [
            1,
            "rgb(103,0,13)"
           ]
          ],
          "line": {
           "color": "Grey",
           "width": 0.5
          }
         },
         "mode": "markers",
         "showlegend": false,
         "text": [
          "{<br>  \"number\": 27,<br>  \"values\": [<br>    2.8274190425872803,<br>    0.17791029810905457<br>  ],<br>  \"params\": {<br>    \"chain_function_mean\": 10.682448662405733,<br>    \"chain_function_std\": 0.5561631130804957,<br>    \"chain_function_constant\": 0.00012523480475042816,<br>    \"optimizer\": \"Adam\",<br>    \"learning_rate\": 0.0009076767860821696,<br>    \"forecast_distribution\": \"distr_trunc_normal\",<br>    \"perform_batching\": true,<br>    \"batch_size\": 128,<br>    \"epochs\": 230<br>  }<br>}",
          "{<br>  \"number\": 40,<br>  \"values\": [<br>    2.8216095566749573,<br>    0.17792407795786858<br>  ],<br>  \"params\": {<br>    \"chain_function_mean\": 9.295510900883679,<br>    \"chain_function_std\": 0.7405279129371941,<br>    \"chain_function_constant\": 8.967404388622808e-05,<br>    \"optimizer\": \"Adam\",<br>    \"learning_rate\": 0.001972206194570844,<br>    \"forecast_distribution\": \"distr_trunc_normal\",<br>    \"perform_batching\": true,<br>    \"batch_size\": 128,<br>    \"epochs\": 254<br>  }<br>}",
          "{<br>  \"number\": 41,<br>  \"values\": [<br>    2.7417330145835876,<br>    0.1784018538892269<br>  ],<br>  \"params\": {<br>    \"chain_function_mean\": 9.003602626306296,<br>    \"chain_function_std\": 2.8153878110701513,<br>    \"chain_function_constant\": 0.0002701356249901794,<br>    \"optimizer\": \"Adam\",<br>    \"learning_rate\": 0.003140937676345873,<br>    \"forecast_distribution\": \"distr_trunc_normal\",<br>    \"perform_batching\": true,<br>    \"batch_size\": 128,<br>    \"epochs\": 261<br>  }<br>}",
          "{<br>  \"number\": 60,<br>  \"values\": [<br>    2.845130443572998,<br>    0.1761699542403221<br>  ],<br>  \"params\": {<br>    \"chain_function_mean\": 10.816164399855145,<br>    \"chain_function_std\": 1.7859319383959147,<br>    \"chain_function_constant\": 0.0002098891764671806,<br>    \"optimizer\": \"Adam\",<br>    \"learning_rate\": 0.011948837088205922,<br>    \"forecast_distribution\": \"distr_trunc_normal\",<br>    \"perform_batching\": true,<br>    \"batch_size\": 128,<br>    \"epochs\": 290<br>  }<br>}",
          "{<br>  \"number\": 73,<br>  \"values\": [<br>    2.701168477535248,<br>    0.17878421396017075<br>  ],<br>  \"params\": {<br>    \"chain_function_mean\": 8.145216272635377,<br>    \"chain_function_std\": 7.913397737903944,<br>    \"chain_function_constant\": 0.00010370746942155904,<br>    \"optimizer\": \"Adam\",<br>    \"learning_rate\": 0.011093586363027527,<br>    \"forecast_distribution\": \"distr_mixture_linear\",<br>    \"distribution_1\": \"distr_trunc_normal\",<br>    \"distribution_2\": \"distr_gev\",<br>    \"perform_batching\": true,<br>    \"batch_size\": 128,<br>    \"epochs\": 315<br>  }<br>}"
         ],
         "type": "scatter",
         "x": [
          2.8274190425872803,
          2.8216095566749573,
          2.7417330145835876,
          2.845130443572998,
          2.701168477535248
         ],
         "y": [
          0.17791029810905457,
          0.17792407795786858,
          0.1784018538892269,
          0.1761699542403221,
          0.17878421396017075
         ]
        }
       ],
       "layout": {
        "template": {
         "data": {
          "bar": [
           {
            "error_x": {
             "color": "#2a3f5f"
            },
            "error_y": {
             "color": "#2a3f5f"
            },
            "marker": {
             "line": {
              "color": "#E5ECF6",
              "width": 0.5
             },
             "pattern": {
              "fillmode": "overlay",
              "size": 10,
              "solidity": 0.2
             }
            },
            "type": "bar"
           }
          ],
          "barpolar": [
           {
            "marker": {
             "line": {
              "color": "#E5ECF6",
              "width": 0.5
             },
             "pattern": {
              "fillmode": "overlay",
              "size": 10,
              "solidity": 0.2
             }
            },
            "type": "barpolar"
           }
          ],
          "carpet": [
           {
            "aaxis": {
             "endlinecolor": "#2a3f5f",
             "gridcolor": "white",
             "linecolor": "white",
             "minorgridcolor": "white",
             "startlinecolor": "#2a3f5f"
            },
            "baxis": {
             "endlinecolor": "#2a3f5f",
             "gridcolor": "white",
             "linecolor": "white",
             "minorgridcolor": "white",
             "startlinecolor": "#2a3f5f"
            },
            "type": "carpet"
           }
          ],
          "choropleth": [
           {
            "colorbar": {
             "outlinewidth": 0,
             "ticks": ""
            },
            "type": "choropleth"
           }
          ],
          "contour": [
           {
            "colorbar": {
             "outlinewidth": 0,
             "ticks": ""
            },
            "colorscale": [
             [
              0,
              "#0d0887"
             ],
             [
              0.1111111111111111,
              "#46039f"
             ],
             [
              0.2222222222222222,
              "#7201a8"
             ],
             [
              0.3333333333333333,
              "#9c179e"
             ],
             [
              0.4444444444444444,
              "#bd3786"
             ],
             [
              0.5555555555555556,
              "#d8576b"
             ],
             [
              0.6666666666666666,
              "#ed7953"
             ],
             [
              0.7777777777777778,
              "#fb9f3a"
             ],
             [
              0.8888888888888888,
              "#fdca26"
             ],
             [
              1,
              "#f0f921"
             ]
            ],
            "type": "contour"
           }
          ],
          "contourcarpet": [
           {
            "colorbar": {
             "outlinewidth": 0,
             "ticks": ""
            },
            "type": "contourcarpet"
           }
          ],
          "heatmap": [
           {
            "colorbar": {
             "outlinewidth": 0,
             "ticks": ""
            },
            "colorscale": [
             [
              0,
              "#0d0887"
             ],
             [
              0.1111111111111111,
              "#46039f"
             ],
             [
              0.2222222222222222,
              "#7201a8"
             ],
             [
              0.3333333333333333,
              "#9c179e"
             ],
             [
              0.4444444444444444,
              "#bd3786"
             ],
             [
              0.5555555555555556,
              "#d8576b"
             ],
             [
              0.6666666666666666,
              "#ed7953"
             ],
             [
              0.7777777777777778,
              "#fb9f3a"
             ],
             [
              0.8888888888888888,
              "#fdca26"
             ],
             [
              1,
              "#f0f921"
             ]
            ],
            "type": "heatmap"
           }
          ],
          "heatmapgl": [
           {
            "colorbar": {
             "outlinewidth": 0,
             "ticks": ""
            },
            "colorscale": [
             [
              0,
              "#0d0887"
             ],
             [
              0.1111111111111111,
              "#46039f"
             ],
             [
              0.2222222222222222,
              "#7201a8"
             ],
             [
              0.3333333333333333,
              "#9c179e"
             ],
             [
              0.4444444444444444,
              "#bd3786"
             ],
             [
              0.5555555555555556,
              "#d8576b"
             ],
             [
              0.6666666666666666,
              "#ed7953"
             ],
             [
              0.7777777777777778,
              "#fb9f3a"
             ],
             [
              0.8888888888888888,
              "#fdca26"
             ],
             [
              1,
              "#f0f921"
             ]
            ],
            "type": "heatmapgl"
           }
          ],
          "histogram": [
           {
            "marker": {
             "pattern": {
              "fillmode": "overlay",
              "size": 10,
              "solidity": 0.2
             }
            },
            "type": "histogram"
           }
          ],
          "histogram2d": [
           {
            "colorbar": {
             "outlinewidth": 0,
             "ticks": ""
            },
            "colorscale": [
             [
              0,
              "#0d0887"
             ],
             [
              0.1111111111111111,
              "#46039f"
             ],
             [
              0.2222222222222222,
              "#7201a8"
             ],
             [
              0.3333333333333333,
              "#9c179e"
             ],
             [
              0.4444444444444444,
              "#bd3786"
             ],
             [
              0.5555555555555556,
              "#d8576b"
             ],
             [
              0.6666666666666666,
              "#ed7953"
             ],
             [
              0.7777777777777778,
              "#fb9f3a"
             ],
             [
              0.8888888888888888,
              "#fdca26"
             ],
             [
              1,
              "#f0f921"
             ]
            ],
            "type": "histogram2d"
           }
          ],
          "histogram2dcontour": [
           {
            "colorbar": {
             "outlinewidth": 0,
             "ticks": ""
            },
            "colorscale": [
             [
              0,
              "#0d0887"
             ],
             [
              0.1111111111111111,
              "#46039f"
             ],
             [
              0.2222222222222222,
              "#7201a8"
             ],
             [
              0.3333333333333333,
              "#9c179e"
             ],
             [
              0.4444444444444444,
              "#bd3786"
             ],
             [
              0.5555555555555556,
              "#d8576b"
             ],
             [
              0.6666666666666666,
              "#ed7953"
             ],
             [
              0.7777777777777778,
              "#fb9f3a"
             ],
             [
              0.8888888888888888,
              "#fdca26"
             ],
             [
              1,
              "#f0f921"
             ]
            ],
            "type": "histogram2dcontour"
           }
          ],
          "mesh3d": [
           {
            "colorbar": {
             "outlinewidth": 0,
             "ticks": ""
            },
            "type": "mesh3d"
           }
          ],
          "parcoords": [
           {
            "line": {
             "colorbar": {
              "outlinewidth": 0,
              "ticks": ""
             }
            },
            "type": "parcoords"
           }
          ],
          "pie": [
           {
            "automargin": true,
            "type": "pie"
           }
          ],
          "scatter": [
           {
            "fillpattern": {
             "fillmode": "overlay",
             "size": 10,
             "solidity": 0.2
            },
            "type": "scatter"
           }
          ],
          "scatter3d": [
           {
            "line": {
             "colorbar": {
              "outlinewidth": 0,
              "ticks": ""
             }
            },
            "marker": {
             "colorbar": {
              "outlinewidth": 0,
              "ticks": ""
             }
            },
            "type": "scatter3d"
           }
          ],
          "scattercarpet": [
           {
            "marker": {
             "colorbar": {
              "outlinewidth": 0,
              "ticks": ""
             }
            },
            "type": "scattercarpet"
           }
          ],
          "scattergeo": [
           {
            "marker": {
             "colorbar": {
              "outlinewidth": 0,
              "ticks": ""
             }
            },
            "type": "scattergeo"
           }
          ],
          "scattergl": [
           {
            "marker": {
             "colorbar": {
              "outlinewidth": 0,
              "ticks": ""
             }
            },
            "type": "scattergl"
           }
          ],
          "scattermapbox": [
           {
            "marker": {
             "colorbar": {
              "outlinewidth": 0,
              "ticks": ""
             }
            },
            "type": "scattermapbox"
           }
          ],
          "scatterpolar": [
           {
            "marker": {
             "colorbar": {
              "outlinewidth": 0,
              "ticks": ""
             }
            },
            "type": "scatterpolar"
           }
          ],
          "scatterpolargl": [
           {
            "marker": {
             "colorbar": {
              "outlinewidth": 0,
              "ticks": ""
             }
            },
            "type": "scatterpolargl"
           }
          ],
          "scatterternary": [
           {
            "marker": {
             "colorbar": {
              "outlinewidth": 0,
              "ticks": ""
             }
            },
            "type": "scatterternary"
           }
          ],
          "surface": [
           {
            "colorbar": {
             "outlinewidth": 0,
             "ticks": ""
            },
            "colorscale": [
             [
              0,
              "#0d0887"
             ],
             [
              0.1111111111111111,
              "#46039f"
             ],
             [
              0.2222222222222222,
              "#7201a8"
             ],
             [
              0.3333333333333333,
              "#9c179e"
             ],
             [
              0.4444444444444444,
              "#bd3786"
             ],
             [
              0.5555555555555556,
              "#d8576b"
             ],
             [
              0.6666666666666666,
              "#ed7953"
             ],
             [
              0.7777777777777778,
              "#fb9f3a"
             ],
             [
              0.8888888888888888,
              "#fdca26"
             ],
             [
              1,
              "#f0f921"
             ]
            ],
            "type": "surface"
           }
          ],
          "table": [
           {
            "cells": {
             "fill": {
              "color": "#EBF0F8"
             },
             "line": {
              "color": "white"
             }
            },
            "header": {
             "fill": {
              "color": "#C8D4E3"
             },
             "line": {
              "color": "white"
             }
            },
            "type": "table"
           }
          ]
         },
         "layout": {
          "annotationdefaults": {
           "arrowcolor": "#2a3f5f",
           "arrowhead": 0,
           "arrowwidth": 1
          },
          "autotypenumbers": "strict",
          "coloraxis": {
           "colorbar": {
            "outlinewidth": 0,
            "ticks": ""
           }
          },
          "colorscale": {
           "diverging": [
            [
             0,
             "#8e0152"
            ],
            [
             0.1,
             "#c51b7d"
            ],
            [
             0.2,
             "#de77ae"
            ],
            [
             0.3,
             "#f1b6da"
            ],
            [
             0.4,
             "#fde0ef"
            ],
            [
             0.5,
             "#f7f7f7"
            ],
            [
             0.6,
             "#e6f5d0"
            ],
            [
             0.7,
             "#b8e186"
            ],
            [
             0.8,
             "#7fbc41"
            ],
            [
             0.9,
             "#4d9221"
            ],
            [
             1,
             "#276419"
            ]
           ],
           "sequential": [
            [
             0,
             "#0d0887"
            ],
            [
             0.1111111111111111,
             "#46039f"
            ],
            [
             0.2222222222222222,
             "#7201a8"
            ],
            [
             0.3333333333333333,
             "#9c179e"
            ],
            [
             0.4444444444444444,
             "#bd3786"
            ],
            [
             0.5555555555555556,
             "#d8576b"
            ],
            [
             0.6666666666666666,
             "#ed7953"
            ],
            [
             0.7777777777777778,
             "#fb9f3a"
            ],
            [
             0.8888888888888888,
             "#fdca26"
            ],
            [
             1,
             "#f0f921"
            ]
           ],
           "sequentialminus": [
            [
             0,
             "#0d0887"
            ],
            [
             0.1111111111111111,
             "#46039f"
            ],
            [
             0.2222222222222222,
             "#7201a8"
            ],
            [
             0.3333333333333333,
             "#9c179e"
            ],
            [
             0.4444444444444444,
             "#bd3786"
            ],
            [
             0.5555555555555556,
             "#d8576b"
            ],
            [
             0.6666666666666666,
             "#ed7953"
            ],
            [
             0.7777777777777778,
             "#fb9f3a"
            ],
            [
             0.8888888888888888,
             "#fdca26"
            ],
            [
             1,
             "#f0f921"
            ]
           ]
          },
          "colorway": [
           "#636efa",
           "#EF553B",
           "#00cc96",
           "#ab63fa",
           "#FFA15A",
           "#19d3f3",
           "#FF6692",
           "#B6E880",
           "#FF97FF",
           "#FECB52"
          ],
          "font": {
           "color": "#2a3f5f"
          },
          "geo": {
           "bgcolor": "white",
           "lakecolor": "white",
           "landcolor": "#E5ECF6",
           "showlakes": true,
           "showland": true,
           "subunitcolor": "white"
          },
          "hoverlabel": {
           "align": "left"
          },
          "hovermode": "closest",
          "mapbox": {
           "style": "light"
          },
          "paper_bgcolor": "white",
          "plot_bgcolor": "#E5ECF6",
          "polar": {
           "angularaxis": {
            "gridcolor": "white",
            "linecolor": "white",
            "ticks": ""
           },
           "bgcolor": "#E5ECF6",
           "radialaxis": {
            "gridcolor": "white",
            "linecolor": "white",
            "ticks": ""
           }
          },
          "scene": {
           "xaxis": {
            "backgroundcolor": "#E5ECF6",
            "gridcolor": "white",
            "gridwidth": 2,
            "linecolor": "white",
            "showbackground": true,
            "ticks": "",
            "zerolinecolor": "white"
           },
           "yaxis": {
            "backgroundcolor": "#E5ECF6",
            "gridcolor": "white",
            "gridwidth": 2,
            "linecolor": "white",
            "showbackground": true,
            "ticks": "",
            "zerolinecolor": "white"
           },
           "zaxis": {
            "backgroundcolor": "#E5ECF6",
            "gridcolor": "white",
            "gridwidth": 2,
            "linecolor": "white",
            "showbackground": true,
            "ticks": "",
            "zerolinecolor": "white"
           }
          },
          "shapedefaults": {
           "line": {
            "color": "#2a3f5f"
           }
          },
          "ternary": {
           "aaxis": {
            "gridcolor": "white",
            "linecolor": "white",
            "ticks": ""
           },
           "baxis": {
            "gridcolor": "white",
            "linecolor": "white",
            "ticks": ""
           },
           "bgcolor": "#E5ECF6",
           "caxis": {
            "gridcolor": "white",
            "linecolor": "white",
            "ticks": ""
           }
          },
          "title": {
           "x": 0.05
          },
          "xaxis": {
           "automargin": true,
           "gridcolor": "white",
           "linecolor": "white",
           "ticks": "",
           "title": {
            "standoff": 15
           },
           "zerolinecolor": "white",
           "zerolinewidth": 2
          },
          "yaxis": {
           "automargin": true,
           "gridcolor": "white",
           "linecolor": "white",
           "ticks": "",
           "title": {
            "standoff": 15
           },
           "zerolinecolor": "white",
           "zerolinewidth": 2
          }
         }
        },
        "title": {
         "text": "Pareto-front Plot"
        },
        "xaxis": {
         "title": {
          "text": "CRPS"
         }
        },
        "yaxis": {
         "title": {
          "text": "twCRPS12"
         }
        }
       }
      },
      "text/html": [
       "<div>                            <div id=\"91d8fc7d-874c-4bb1-9e83-f4d63dfa9356\" class=\"plotly-graph-div\" style=\"height:525px; width:100%;\"></div>            <script type=\"text/javascript\">                require([\"plotly\"], function(Plotly) {                    window.PLOTLYENV=window.PLOTLYENV || {};                                    if (document.getElementById(\"91d8fc7d-874c-4bb1-9e83-f4d63dfa9356\")) {                    Plotly.newPlot(                        \"91d8fc7d-874c-4bb1-9e83-f4d63dfa9356\",                        [{\"hovertemplate\":\"%{text}\\u003cextra\\u003eTrial\\u003c\\u002fextra\\u003e\",\"marker\":{\"color\":[0,1,2,3,4,5,6,7,8,9,10,11,12,13,14,15,16,17,18,19,20,21,22,23,24,25,26,28,29,30,31,32,33,34,35,36,37,38,39,42,43,44,45,46,47,48,49,50,51,52,53,54,55,56,57,58,59,61,62,63,64,65,66,67,68,69,70,71,72,74],\"colorbar\":{\"title\":{\"text\":\"Trial\"}},\"colorscale\":[[0.0,\"rgb(247,251,255)\"],[0.125,\"rgb(222,235,247)\"],[0.25,\"rgb(198,219,239)\"],[0.375,\"rgb(158,202,225)\"],[0.5,\"rgb(107,174,214)\"],[0.625,\"rgb(66,146,198)\"],[0.75,\"rgb(33,113,181)\"],[0.875,\"rgb(8,81,156)\"],[1.0,\"rgb(8,48,107)\"]],\"line\":{\"color\":\"Grey\",\"width\":0.5}},\"mode\":\"markers\",\"showlegend\":false,\"text\":[\"{\\u003cbr\\u003e  \\\"number\\\": 0,\\u003cbr\\u003e  \\\"values\\\": [\\u003cbr\\u003e    6.857719659805298,\\u003cbr\\u003e    0.24745424091815948\\u003cbr\\u003e  ],\\u003cbr\\u003e  \\\"params\\\": {\\u003cbr\\u003e    \\\"chain_function_mean\\\": 8.92768804408959,\\u003cbr\\u003e    \\\"chain_function_std\\\": 0.9519280572386348,\\u003cbr\\u003e    \\\"chain_function_constant\\\": 0.00030999914997151474,\\u003cbr\\u003e    \\\"optimizer\\\": \\\"SGD\\\",\\u003cbr\\u003e    \\\"learning_rate\\\": 0.0012923231234461274,\\u003cbr\\u003e    \\\"forecast_distribution\\\": \\\"distr_mixture\\\",\\u003cbr\\u003e    \\\"distribution_1\\\": \\\"distr_log_normal\\\",\\u003cbr\\u003e    \\\"distribution_2\\\": \\\"distr_trunc_normal\\\",\\u003cbr\\u003e    \\\"perform_batching\\\": true,\\u003cbr\\u003e    \\\"batch_size\\\": 32,\\u003cbr\\u003e    \\\"epochs\\\": 207\\u003cbr\\u003e  }\\u003cbr\\u003e}\",\"{\\u003cbr\\u003e  \\\"number\\\": 1,\\u003cbr\\u003e  \\\"values\\\": [\\u003cbr\\u003e    2.7068868279457092,\\u003cbr\\u003e    0.18107673153281212\\u003cbr\\u003e  ],\\u003cbr\\u003e  \\\"params\\\": {\\u003cbr\\u003e    \\\"chain_function_mean\\\": -3.1589325703210713,\\u003cbr\\u003e    \\\"chain_function_std\\\": 0.0002759704550778344,\\u003cbr\\u003e    \\\"chain_function_constant\\\": 0.009416006510129638,\\u003cbr\\u003e    \\\"optimizer\\\": \\\"SGD\\\",\\u003cbr\\u003e    \\\"learning_rate\\\": 0.010304157454824651,\\u003cbr\\u003e    \\\"forecast_distribution\\\": \\\"distr_mixture_linear\\\",\\u003cbr\\u003e    \\\"distribution_1\\\": \\\"distr_gev\\\",\\u003cbr\\u003e    \\\"distribution_2\\\": \\\"distr_log_normal\\\",\\u003cbr\\u003e    \\\"perform_batching\\\": true,\\u003cbr\\u003e    \\\"batch_size\\\": 256,\\u003cbr\\u003e    \\\"epochs\\\": 277\\u003cbr\\u003e  }\\u003cbr\\u003e}\",\"{\\u003cbr\\u003e  \\\"number\\\": 2,\\u003cbr\\u003e  \\\"values\\\": [\\u003cbr\\u003e    2.707387685775757,\\u003cbr\\u003e    0.18062767386436462\\u003cbr\\u003e  ],\\u003cbr\\u003e  \\\"params\\\": {\\u003cbr\\u003e    \\\"chain_function_mean\\\": -4.373060661832781,\\u003cbr\\u003e    \\\"chain_function_std\\\": 0.5624119227090846,\\u003cbr\\u003e    \\\"chain_function_constant\\\": 0.0035755008744056713,\\u003cbr\\u003e    \\\"optimizer\\\": \\\"Adam\\\",\\u003cbr\\u003e    \\\"learning_rate\\\": 0.000809743317291191,\\u003cbr\\u003e    \\\"forecast_distribution\\\": \\\"distr_trunc_normal\\\",\\u003cbr\\u003e    \\\"perform_batching\\\": true,\\u003cbr\\u003e    \\\"batch_size\\\": 64,\\u003cbr\\u003e    \\\"epochs\\\": 157\\u003cbr\\u003e  }\\u003cbr\\u003e}\",\"{\\u003cbr\\u003e  \\\"number\\\": 3,\\u003cbr\\u003e  \\\"values\\\": [\\u003cbr\\u003e    7.781105995178223,\\u003cbr\\u003e    0.2917838990688324\\u003cbr\\u003e  ],\\u003cbr\\u003e  \\\"params\\\": {\\u003cbr\\u003e    \\\"chain_function_mean\\\": 8.459079658136577,\\u003cbr\\u003e    \\\"chain_function_std\\\": 0.0068746188786876355,\\u003cbr\\u003e    \\\"chain_function_constant\\\": 5.770406498265465e-05,\\u003cbr\\u003e    \\\"optimizer\\\": \\\"Adam\\\",\\u003cbr\\u003e    \\\"learning_rate\\\": 0.00029435142674010364,\\u003cbr\\u003e    \\\"forecast_distribution\\\": \\\"distr_gev\\\",\\u003cbr\\u003e    \\\"perform_batching\\\": false,\\u003cbr\\u003e    \\\"epochs\\\": 149\\u003cbr\\u003e  }\\u003cbr\\u003e}\",\"{\\u003cbr\\u003e  \\\"number\\\": 4,\\u003cbr\\u003e  \\\"values\\\": [\\u003cbr\\u003e    2.712414562702179,\\u003cbr\\u003e    0.18150850385427475\\u003cbr\\u003e  ],\\u003cbr\\u003e  \\\"params\\\": {\\u003cbr\\u003e    \\\"chain_function_mean\\\": 1.59831766360778,\\u003cbr\\u003e    \\\"chain_function_std\\\": 2.133936326220745,\\u003cbr\\u003e    \\\"chain_function_constant\\\": 0.11411669613359093,\\u003cbr\\u003e    \\\"optimizer\\\": \\\"Adam\\\",\\u003cbr\\u003e    \\\"learning_rate\\\": 0.06866510555399127,\\u003cbr\\u003e    \\\"forecast_distribution\\\": \\\"distr_trunc_normal\\\",\\u003cbr\\u003e    \\\"perform_batching\\\": true,\\u003cbr\\u003e    \\\"batch_size\\\": 1024,\\u003cbr\\u003e    \\\"epochs\\\": 363\\u003cbr\\u003e  }\\u003cbr\\u003e}\",\"{\\u003cbr\\u003e  \\\"number\\\": 5,\\u003cbr\\u003e  \\\"values\\\": [\\u003cbr\\u003e    7.844149827957153,\\u003cbr\\u003e    0.2921120226383209\\u003cbr\\u003e  ],\\u003cbr\\u003e  \\\"params\\\": {\\u003cbr\\u003e    \\\"chain_function_mean\\\": 1.1872374775533823,\\u003cbr\\u003e    \\\"chain_function_std\\\": 6.058958689840486,\\u003cbr\\u003e    \\\"chain_function_constant\\\": 0.0014935094370555173,\\u003cbr\\u003e    \\\"optimizer\\\": \\\"Adam\\\",\\u003cbr\\u003e    \\\"learning_rate\\\": 0.00015398417506987154,\\u003cbr\\u003e    \\\"forecast_distribution\\\": \\\"distr_mixture\\\",\\u003cbr\\u003e    \\\"distribution_1\\\": \\\"distr_gev\\\",\\u003cbr\\u003e    \\\"distribution_2\\\": \\\"distr_gev\\\",\\u003cbr\\u003e    \\\"perform_batching\\\": false,\\u003cbr\\u003e    \\\"epochs\\\": 467\\u003cbr\\u003e  }\\u003cbr\\u003e}\",\"{\\u003cbr\\u003e  \\\"number\\\": 6,\\u003cbr\\u003e  \\\"values\\\": [\\u003cbr\\u003e    5.163564205169678,\\u003cbr\\u003e    0.3390817642211914\\u003cbr\\u003e  ],\\u003cbr\\u003e  \\\"params\\\": {\\u003cbr\\u003e    \\\"chain_function_mean\\\": 0.31544437675777814,\\u003cbr\\u003e    \\\"chain_function_std\\\": 0.0018098079519817225,\\u003cbr\\u003e    \\\"chain_function_constant\\\": 0.024545358062812783,\\u003cbr\\u003e    \\\"optimizer\\\": \\\"Adam\\\",\\u003cbr\\u003e    \\\"learning_rate\\\": 0.001947641337878647,\\u003cbr\\u003e    \\\"forecast_distribution\\\": \\\"distr_gev\\\",\\u003cbr\\u003e    \\\"perform_batching\\\": false,\\u003cbr\\u003e    \\\"epochs\\\": 483\\u003cbr\\u003e  }\\u003cbr\\u003e}\",\"{\\u003cbr\\u003e  \\\"number\\\": 7,\\u003cbr\\u003e  \\\"values\\\": [\\u003cbr\\u003e    3.2693737745285034,\\u003cbr\\u003e    0.1938517466187477\\u003cbr\\u003e  ],\\u003cbr\\u003e  \\\"params\\\": {\\u003cbr\\u003e    \\\"chain_function_mean\\\": 3.725059129932742,\\u003cbr\\u003e    \\\"chain_function_std\\\": 0.000291982405019289,\\u003cbr\\u003e    \\\"chain_function_constant\\\": 3.1532489378432935e-05,\\u003cbr\\u003e    \\\"optimizer\\\": \\\"Adam\\\",\\u003cbr\\u003e    \\\"learning_rate\\\": 0.006631834893464393,\\u003cbr\\u003e    \\\"forecast_distribution\\\": \\\"distr_gev\\\",\\u003cbr\\u003e    \\\"perform_batching\\\": false,\\u003cbr\\u003e    \\\"epochs\\\": 431\\u003cbr\\u003e  }\\u003cbr\\u003e}\",\"{\\u003cbr\\u003e  \\\"number\\\": 8,\\u003cbr\\u003e  \\\"values\\\": [\\u003cbr\\u003e    2.707865536212921,\\u003cbr\\u003e    0.18080054223537445\\u003cbr\\u003e  ],\\u003cbr\\u003e  \\\"params\\\": {\\u003cbr\\u003e    \\\"chain_function_mean\\\": 1.7160921604353652,\\u003cbr\\u003e    \\\"chain_function_std\\\": 0.018294126947100645,\\u003cbr\\u003e    \\\"chain_function_constant\\\": 0.09112866659471801,\\u003cbr\\u003e    \\\"optimizer\\\": \\\"SGD\\\",\\u003cbr\\u003e    \\\"learning_rate\\\": 0.016570618048122886,\\u003cbr\\u003e    \\\"forecast_distribution\\\": \\\"distr_trunc_normal\\\",\\u003cbr\\u003e    \\\"perform_batching\\\": true,\\u003cbr\\u003e    \\\"batch_size\\\": 256,\\u003cbr\\u003e    \\\"epochs\\\": 286\\u003cbr\\u003e  }\\u003cbr\\u003e}\",\"{\\u003cbr\\u003e  \\\"number\\\": 9,\\u003cbr\\u003e  \\\"values\\\": [\\u003cbr\\u003e    3.0313754081726074,\\u003cbr\\u003e    0.22385223954916\\u003cbr\\u003e  ],\\u003cbr\\u003e  \\\"params\\\": {\\u003cbr\\u003e    \\\"chain_function_mean\\\": -1.0164546431871968,\\u003cbr\\u003e    \\\"chain_function_std\\\": 0.04884355898127172,\\u003cbr\\u003e    \\\"chain_function_constant\\\": 0.007064492551314908,\\u003cbr\\u003e    \\\"optimizer\\\": \\\"SGD\\\",\\u003cbr\\u003e    \\\"learning_rate\\\": 0.04751733636192285,\\u003cbr\\u003e    \\\"forecast_distribution\\\": \\\"distr_mixture_linear\\\",\\u003cbr\\u003e    \\\"distribution_1\\\": \\\"distr_log_normal\\\",\\u003cbr\\u003e    \\\"distribution_2\\\": \\\"distr_trunc_normal\\\",\\u003cbr\\u003e    \\\"perform_batching\\\": false,\\u003cbr\\u003e    \\\"epochs\\\": 342\\u003cbr\\u003e  }\\u003cbr\\u003e}\",\"{\\u003cbr\\u003e  \\\"number\\\": 10,\\u003cbr\\u003e  \\\"values\\\": [\\u003cbr\\u003e    10.303478240966797,\\u003cbr\\u003e    0.30033228918910027\\u003cbr\\u003e  ],\\u003cbr\\u003e  \\\"params\\\": {\\u003cbr\\u003e    \\\"chain_function_mean\\\": 13.425384929167091,\\u003cbr\\u003e    \\\"chain_function_std\\\": 1.3952032625719306,\\u003cbr\\u003e    \\\"chain_function_constant\\\": 0.0029465332931491997,\\u003cbr\\u003e    \\\"optimizer\\\": \\\"SGD\\\",\\u003cbr\\u003e    \\\"learning_rate\\\": 0.02295288058824968,\\u003cbr\\u003e    \\\"forecast_distribution\\\": \\\"distr_mixture_linear\\\",\\u003cbr\\u003e    \\\"distribution_1\\\": \\\"distr_trunc_normal\\\",\\u003cbr\\u003e    \\\"distribution_2\\\": \\\"distr_log_normal\\\",\\u003cbr\\u003e    \\\"perform_batching\\\": false,\\u003cbr\\u003e    \\\"epochs\\\": 189\\u003cbr\\u003e  }\\u003cbr\\u003e}\",\"{\\u003cbr\\u003e  \\\"number\\\": 11,\\u003cbr\\u003e  \\\"values\\\": [\\u003cbr\\u003e    2.780767560005188,\\u003cbr\\u003e    0.18001408874988556\\u003cbr\\u003e  ],\\u003cbr\\u003e  \\\"params\\\": {\\u003cbr\\u003e    \\\"chain_function_mean\\\": 13.319151605820721,\\u003cbr\\u003e    \\\"chain_function_std\\\": 4.077458736407382,\\u003cbr\\u003e    \\\"chain_function_constant\\\": 1.1527732096401132e-05,\\u003cbr\\u003e    \\\"optimizer\\\": \\\"Adam\\\",\\u003cbr\\u003e    \\\"learning_rate\\\": 0.003926910944166578,\\u003cbr\\u003e    \\\"forecast_distribution\\\": \\\"distr_log_normal\\\",\\u003cbr\\u003e    \\\"perform_batching\\\": true,\\u003cbr\\u003e    \\\"batch_size\\\": 128,\\u003cbr\\u003e    \\\"epochs\\\": 435\\u003cbr\\u003e  }\\u003cbr\\u003e}\",\"{\\u003cbr\\u003e  \\\"number\\\": 12,\\u003cbr\\u003e  \\\"values\\\": [\\u003cbr\\u003e    6.279019117355347,\\u003cbr\\u003e    0.36110496520996094\\u003cbr\\u003e  ],\\u003cbr\\u003e  \\\"params\\\": {\\u003cbr\\u003e    \\\"chain_function_mean\\\": 3.06228602477578,\\u003cbr\\u003e    \\\"chain_function_std\\\": 0.01899031307273979,\\u003cbr\\u003e    \\\"chain_function_constant\\\": 0.07376955088119357,\\u003cbr\\u003e    \\\"optimizer\\\": \\\"SGD\\\",\\u003cbr\\u003e    \\\"learning_rate\\\": 0.004426485780137288,\\u003cbr\\u003e    \\\"forecast_distribution\\\": \\\"distr_gev\\\",\\u003cbr\\u003e    \\\"perform_batching\\\": false,\\u003cbr\\u003e    \\\"epochs\\\": 341\\u003cbr\\u003e  }\\u003cbr\\u003e}\",\"{\\u003cbr\\u003e  \\\"number\\\": 13,\\u003cbr\\u003e  \\\"values\\\": [\\u003cbr\\u003e    3.380695343017578,\\u003cbr\\u003e    0.23045691847801208\\u003cbr\\u003e  ],\\u003cbr\\u003e  \\\"params\\\": {\\u003cbr\\u003e    \\\"chain_function_mean\\\": -2.3003295166613302,\\u003cbr\\u003e    \\\"chain_function_std\\\": 0.07834967299665604,\\u003cbr\\u003e    \\\"chain_function_constant\\\": 0.08666154410230384,\\u003cbr\\u003e    \\\"optimizer\\\": \\\"Adam\\\",\\u003cbr\\u003e    \\\"learning_rate\\\": 0.013834668028561667,\\u003cbr\\u003e    \\\"forecast_distribution\\\": \\\"distr_mixture_linear\\\",\\u003cbr\\u003e    \\\"distribution_1\\\": \\\"distr_gev\\\",\\u003cbr\\u003e    \\\"distribution_2\\\": \\\"distr_trunc_normal\\\",\\u003cbr\\u003e    \\\"perform_batching\\\": false,\\u003cbr\\u003e    \\\"epochs\\\": 205\\u003cbr\\u003e  }\\u003cbr\\u003e}\",\"{\\u003cbr\\u003e  \\\"number\\\": 14,\\u003cbr\\u003e  \\\"values\\\": [\\u003cbr\\u003e    2.9159937500953674,\\u003cbr\\u003e    0.19983584061264992\\u003cbr\\u003e  ],\\u003cbr\\u003e  \\\"params\\\": {\\u003cbr\\u003e    \\\"chain_function_mean\\\": 3.0275447251546694,\\u003cbr\\u003e    \\\"chain_function_std\\\": 0.00010630418763146408,\\u003cbr\\u003e    \\\"chain_function_constant\\\": 0.6581913409199802,\\u003cbr\\u003e    \\\"optimizer\\\": \\\"SGD\\\",\\u003cbr\\u003e    \\\"learning_rate\\\": 0.0009910215227800436,\\u003cbr\\u003e    \\\"forecast_distribution\\\": \\\"distr_gev\\\",\\u003cbr\\u003e    \\\"perform_batching\\\": true,\\u003cbr\\u003e    \\\"batch_size\\\": 512,\\u003cbr\\u003e    \\\"epochs\\\": 350\\u003cbr\\u003e  }\\u003cbr\\u003e}\",\"{\\u003cbr\\u003e  \\\"number\\\": 15,\\u003cbr\\u003e  \\\"values\\\": [\\u003cbr\\u003e    2.7207736372947693,\\u003cbr\\u003e    0.18145718052983284\\u003cbr\\u003e  ],\\u003cbr\\u003e  \\\"params\\\": {\\u003cbr\\u003e    \\\"chain_function_mean\\\": 2.2218780683038775,\\u003cbr\\u003e    \\\"chain_function_std\\\": 0.024028090433787286,\\u003cbr\\u003e    \\\"chain_function_constant\\\": 0.39264817113054545,\\u003cbr\\u003e    \\\"optimizer\\\": \\\"Adam\\\",\\u003cbr\\u003e    \\\"learning_rate\\\": 0.016203109067420094,\\u003cbr\\u003e    \\\"forecast_distribution\\\": \\\"distr_log_normal\\\",\\u003cbr\\u003e    \\\"perform_batching\\\": true,\\u003cbr\\u003e    \\\"batch_size\\\": 1024,\\u003cbr\\u003e    \\\"epochs\\\": 200\\u003cbr\\u003e  }\\u003cbr\\u003e}\",\"{\\u003cbr\\u003e  \\\"number\\\": 16,\\u003cbr\\u003e  \\\"values\\\": [\\u003cbr\\u003e    9.976555585861206,\\u003cbr\\u003e    0.300634678453207\\u003cbr\\u003e  ],\\u003cbr\\u003e  \\\"params\\\": {\\u003cbr\\u003e    \\\"chain_function_mean\\\": 12.725753452221163,\\u003cbr\\u003e    \\\"chain_function_std\\\": 0.8564132514408164,\\u003cbr\\u003e    \\\"chain_function_constant\\\": 3.633506098119116e-05,\\u003cbr\\u003e    \\\"optimizer\\\": \\\"SGD\\\",\\u003cbr\\u003e    \\\"learning_rate\\\": 0.01619305117853118,\\u003cbr\\u003e    \\\"forecast_distribution\\\": \\\"distr_trunc_normal\\\",\\u003cbr\\u003e    \\\"perform_batching\\\": true,\\u003cbr\\u003e    \\\"batch_size\\\": 512,\\u003cbr\\u003e    \\\"epochs\\\": 410\\u003cbr\\u003e  }\\u003cbr\\u003e}\",\"{\\u003cbr\\u003e  \\\"number\\\": 17,\\u003cbr\\u003e  \\\"values\\\": [\\u003cbr\\u003e    2.7285261154174805,\\u003cbr\\u003e    0.18249428644776344\\u003cbr\\u003e  ],\\u003cbr\\u003e  \\\"params\\\": {\\u003cbr\\u003e    \\\"chain_function_mean\\\": 5.299386744983046,\\u003cbr\\u003e    \\\"chain_function_std\\\": 0.000318729472766609,\\u003cbr\\u003e    \\\"chain_function_constant\\\": 1.3018416582466503,\\u003cbr\\u003e    \\\"optimizer\\\": \\\"SGD\\\",\\u003cbr\\u003e    \\\"learning_rate\\\": 0.006490413573910863,\\u003cbr\\u003e    \\\"forecast_distribution\\\": \\\"distr_mixture\\\",\\u003cbr\\u003e    \\\"distribution_1\\\": \\\"distr_gev\\\",\\u003cbr\\u003e    \\\"distribution_2\\\": \\\"distr_trunc_normal\\\",\\u003cbr\\u003e    \\\"perform_batching\\\": true,\\u003cbr\\u003e    \\\"batch_size\\\": 256,\\u003cbr\\u003e    \\\"epochs\\\": 445\\u003cbr\\u003e  }\\u003cbr\\u003e}\",\"{\\u003cbr\\u003e  \\\"number\\\": 18,\\u003cbr\\u003e  \\\"values\\\": [\\u003cbr\\u003e    11.437721967697144,\\u003cbr\\u003e    0.3012692891061306\\u003cbr\\u003e  ],\\u003cbr\\u003e  \\\"params\\\": {\\u003cbr\\u003e    \\\"chain_function_mean\\\": 3.24553004082272,\\u003cbr\\u003e    \\\"chain_function_std\\\": 5.406281434379213,\\u003cbr\\u003e    \\\"chain_function_constant\\\": 0.20547356851433216,\\u003cbr\\u003e    \\\"optimizer\\\": \\\"Adam\\\",\\u003cbr\\u003e    \\\"learning_rate\\\": 0.00011758608382975349,\\u003cbr\\u003e    \\\"forecast_distribution\\\": \\\"distr_mixture\\\",\\u003cbr\\u003e    \\\"distribution_1\\\": \\\"distr_log_normal\\\",\\u003cbr\\u003e    \\\"distribution_2\\\": \\\"distr_log_normal\\\",\\u003cbr\\u003e    \\\"perform_batching\\\": false,\\u003cbr\\u003e    \\\"epochs\\\": 451\\u003cbr\\u003e  }\\u003cbr\\u003e}\",\"{\\u003cbr\\u003e  \\\"number\\\": 19,\\u003cbr\\u003e  \\\"values\\\": [\\u003cbr\\u003e    2.7918731570243835,\\u003cbr\\u003e    0.1805586814880371\\u003cbr\\u003e  ],\\u003cbr\\u003e  \\\"params\\\": {\\u003cbr\\u003e    \\\"chain_function_mean\\\": 5.330043520721144,\\u003cbr\\u003e    \\\"chain_function_std\\\": 2.4621679087484023,\\u003cbr\\u003e    \\\"chain_function_constant\\\": 4.110978456548582e-05,\\u003cbr\\u003e    \\\"optimizer\\\": \\\"SGD\\\",\\u003cbr\\u003e    \\\"learning_rate\\\": 0.0058234861922892055,\\u003cbr\\u003e    \\\"forecast_distribution\\\": \\\"distr_mixture_linear\\\",\\u003cbr\\u003e    \\\"distribution_1\\\": \\\"distr_log_normal\\\",\\u003cbr\\u003e    \\\"distribution_2\\\": \\\"distr_log_normal\\\",\\u003cbr\\u003e    \\\"perform_batching\\\": true,\\u003cbr\\u003e    \\\"batch_size\\\": 512,\\u003cbr\\u003e    \\\"epochs\\\": 403\\u003cbr\\u003e  }\\u003cbr\\u003e}\",\"{\\u003cbr\\u003e  \\\"number\\\": 20,\\u003cbr\\u003e  \\\"values\\\": [\\u003cbr\\u003e    2.719066619873047,\\u003cbr\\u003e    0.18151003122329712\\u003cbr\\u003e  ],\\u003cbr\\u003e  \\\"params\\\": {\\u003cbr\\u003e    \\\"chain_function_mean\\\": -4.854861178152421,\\u003cbr\\u003e    \\\"chain_function_std\\\": 0.17159341243829102,\\u003cbr\\u003e    \\\"chain_function_constant\\\": 0.00034374699552860256,\\u003cbr\\u003e    \\\"optimizer\\\": \\\"Adam\\\",\\u003cbr\\u003e    \\\"learning_rate\\\": 0.0006331140704964706,\\u003cbr\\u003e    \\\"forecast_distribution\\\": \\\"distr_log_normal\\\",\\u003cbr\\u003e    \\\"perform_batching\\\": true,\\u003cbr\\u003e    \\\"batch_size\\\": 64,\\u003cbr\\u003e    \\\"epochs\\\": 136\\u003cbr\\u003e  }\\u003cbr\\u003e}\",\"{\\u003cbr\\u003e  \\\"number\\\": 21,\\u003cbr\\u003e  \\\"values\\\": [\\u003cbr\\u003e    2.7802626490592957,\\u003cbr\\u003e    0.179512158036232\\u003cbr\\u003e  ],\\u003cbr\\u003e  \\\"params\\\": {\\u003cbr\\u003e    \\\"chain_function_mean\\\": 7.876906349237393,\\u003cbr\\u003e    \\\"chain_function_std\\\": 0.3177089451709854,\\u003cbr\\u003e    \\\"chain_function_constant\\\": 0.0009423588895167703,\\u003cbr\\u003e    \\\"optimizer\\\": \\\"Adam\\\",\\u003cbr\\u003e    \\\"learning_rate\\\": 0.0004008182372297023,\\u003cbr\\u003e    \\\"forecast_distribution\\\": \\\"distr_trunc_normal\\\",\\u003cbr\\u003e    \\\"perform_batching\\\": true,\\u003cbr\\u003e    \\\"batch_size\\\": 64,\\u003cbr\\u003e    \\\"epochs\\\": 111\\u003cbr\\u003e  }\\u003cbr\\u003e}\",\"{\\u003cbr\\u003e  \\\"number\\\": 22,\\u003cbr\\u003e  \\\"values\\\": [\\u003cbr\\u003e    2.7766727209091187,\\u003cbr\\u003e    0.17940985783934593\\u003cbr\\u003e  ],\\u003cbr\\u003e  \\\"params\\\": {\\u003cbr\\u003e    \\\"chain_function_mean\\\": 7.8340584504276976,\\u003cbr\\u003e    \\\"chain_function_std\\\": 0.23982745338443026,\\u003cbr\\u003e    \\\"chain_function_constant\\\": 0.0008012591145669031,\\u003cbr\\u003e    \\\"optimizer\\\": \\\"Adam\\\",\\u003cbr\\u003e    \\\"learning_rate\\\": 0.0004489382998864519,\\u003cbr\\u003e    \\\"forecast_distribution\\\": \\\"distr_trunc_normal\\\",\\u003cbr\\u003e    \\\"perform_batching\\\": true,\\u003cbr\\u003e    \\\"batch_size\\\": 64,\\u003cbr\\u003e    \\\"epochs\\\": 103\\u003cbr\\u003e  }\\u003cbr\\u003e}\",\"{\\u003cbr\\u003e  \\\"number\\\": 23,\\u003cbr\\u003e  \\\"values\\\": [\\u003cbr\\u003e    2.999790906906128,\\u003cbr\\u003e    0.1776863932609558\\u003cbr\\u003e  ],\\u003cbr\\u003e  \\\"params\\\": {\\u003cbr\\u003e    \\\"chain_function_mean\\\": 10.560683075342443,\\u003cbr\\u003e    \\\"chain_function_std\\\": 0.4149682445294126,\\u003cbr\\u003e    \\\"chain_function_constant\\\": 0.00020231775926459996,\\u003cbr\\u003e    \\\"optimizer\\\": \\\"Adam\\\",\\u003cbr\\u003e    \\\"learning_rate\\\": 0.0018956077050642478,\\u003cbr\\u003e    \\\"forecast_distribution\\\": \\\"distr_trunc_normal\\\",\\u003cbr\\u003e    \\\"perform_batching\\\": true,\\u003cbr\\u003e    \\\"batch_size\\\": 64,\\u003cbr\\u003e    \\\"epochs\\\": 252\\u003cbr\\u003e  }\\u003cbr\\u003e}\",\"{\\u003cbr\\u003e  \\\"number\\\": 24,\\u003cbr\\u003e  \\\"values\\\": [\\u003cbr\\u003e    2.7539538741111755,\\u003cbr\\u003e    0.1784217208623886\\u003cbr\\u003e  ],\\u003cbr\\u003e  \\\"params\\\": {\\u003cbr\\u003e    \\\"chain_function_mean\\\": 10.13905077771497,\\u003cbr\\u003e    \\\"chain_function_std\\\": 0.45492724089784053,\\u003cbr\\u003e    \\\"chain_function_constant\\\": 0.02643669781834482,\\u003cbr\\u003e    \\\"optimizer\\\": \\\"Adam\\\",\\u003cbr\\u003e    \\\"learning_rate\\\": 0.0018386537728955277,\\u003cbr\\u003e    \\\"forecast_distribution\\\": \\\"distr_trunc_normal\\\",\\u003cbr\\u003e    \\\"perform_batching\\\": true,\\u003cbr\\u003e    \\\"batch_size\\\": 64,\\u003cbr\\u003e    \\\"epochs\\\": 247\\u003cbr\\u003e  }\\u003cbr\\u003e}\",\"{\\u003cbr\\u003e  \\\"number\\\": 25,\\u003cbr\\u003e  \\\"values\\\": [\\u003cbr\\u003e    2.7380585074424744,\\u003cbr\\u003e    0.17931987345218658\\u003cbr\\u003e  ],\\u003cbr\\u003e  \\\"params\\\": {\\u003cbr\\u003e    \\\"chain_function_mean\\\": 10.564047487329841,\\u003cbr\\u003e    \\\"chain_function_std\\\": 0.10935749964080561,\\u003cbr\\u003e    \\\"chain_function_constant\\\": 0.019437866083625376,\\u003cbr\\u003e    \\\"optimizer\\\": \\\"Adam\\\",\\u003cbr\\u003e    \\\"learning_rate\\\": 0.00021237420711068522,\\u003cbr\\u003e    \\\"forecast_distribution\\\": \\\"distr_trunc_normal\\\",\\u003cbr\\u003e    \\\"perform_batching\\\": true,\\u003cbr\\u003e    \\\"batch_size\\\": 64,\\u003cbr\\u003e    \\\"epochs\\\": 242\\u003cbr\\u003e  }\\u003cbr\\u003e}\",\"{\\u003cbr\\u003e  \\\"number\\\": 26,\\u003cbr\\u003e  \\\"values\\\": [\\u003cbr\\u003e    2.7504209876060486,\\u003cbr\\u003e    0.17940856888890266\\u003cbr\\u003e  ],\\u003cbr\\u003e  \\\"params\\\": {\\u003cbr\\u003e    \\\"chain_function_mean\\\": 6.171263677550304,\\u003cbr\\u003e    \\\"chain_function_std\\\": 0.00690593958062783,\\u003cbr\\u003e    \\\"chain_function_constant\\\": 0.019109818353743032,\\u003cbr\\u003e    \\\"optimizer\\\": \\\"Adam\\\",\\u003cbr\\u003e    \\\"learning_rate\\\": 0.0026111372705716947,\\u003cbr\\u003e    \\\"forecast_distribution\\\": \\\"distr_trunc_normal\\\",\\u003cbr\\u003e    \\\"perform_batching\\\": true,\\u003cbr\\u003e    \\\"batch_size\\\": 32,\\u003cbr\\u003e    \\\"epochs\\\": 170\\u003cbr\\u003e  }\\u003cbr\\u003e}\",\"{\\u003cbr\\u003e  \\\"number\\\": 28,\\u003cbr\\u003e  \\\"values\\\": [\\u003cbr\\u003e    2.7075695395469666,\\u003cbr\\u003e    0.18051982298493385\\u003cbr\\u003e  ],\\u003cbr\\u003e  \\\"params\\\": {\\u003cbr\\u003e    \\\"chain_function_mean\\\": -0.8039960321192279,\\u003cbr\\u003e    \\\"chain_function_std\\\": 9.807808002687812,\\u003cbr\\u003e    \\\"chain_function_constant\\\": 1.9447125197502784,\\u003cbr\\u003e    \\\"optimizer\\\": \\\"Adam\\\",\\u003cbr\\u003e    \\\"learning_rate\\\": 0.0006341044934620053,\\u003cbr\\u003e    \\\"forecast_distribution\\\": \\\"distr_trunc_normal\\\",\\u003cbr\\u003e    \\\"perform_batching\\\": true,\\u003cbr\\u003e    \\\"batch_size\\\": 64,\\u003cbr\\u003e    \\\"epochs\\\": 321\\u003cbr\\u003e  }\\u003cbr\\u003e}\",\"{\\u003cbr\\u003e  \\\"number\\\": 29,\\u003cbr\\u003e  \\\"values\\\": [\\u003cbr\\u003e    2.7073572278022766,\\u003cbr\\u003e    0.1803307607769966\\u003cbr\\u003e  ],\\u003cbr\\u003e  \\\"params\\\": {\\u003cbr\\u003e    \\\"chain_function_mean\\\": -0.4823919291062815,\\u003cbr\\u003e    \\\"chain_function_std\\\": 5.689482636004607,\\u003cbr\\u003e    \\\"chain_function_constant\\\": 1.6337040586380491,\\u003cbr\\u003e    \\\"optimizer\\\": \\\"Adam\\\",\\u003cbr\\u003e    \\\"learning_rate\\\": 0.0016027584352587261,\\u003cbr\\u003e    \\\"forecast_distribution\\\": \\\"distr_trunc_normal\\\",\\u003cbr\\u003e    \\\"perform_batching\\\": true,\\u003cbr\\u003e    \\\"batch_size\\\": 64,\\u003cbr\\u003e    \\\"epochs\\\": 307\\u003cbr\\u003e  }\\u003cbr\\u003e}\",\"{\\u003cbr\\u003e  \\\"number\\\": 30,\\u003cbr\\u003e  \\\"values\\\": [\\u003cbr\\u003e    2.7066689133644104,\\u003cbr\\u003e    0.18055195733904839\\u003cbr\\u003e  ],\\u003cbr\\u003e  \\\"params\\\": {\\u003cbr\\u003e    \\\"chain_function_mean\\\": -2.59633235269148,\\u003cbr\\u003e    \\\"chain_function_std\\\": 9.524594386046262,\\u003cbr\\u003e    \\\"chain_function_constant\\\": 0.6906163237885832,\\u003cbr\\u003e    \\\"optimizer\\\": \\\"Adam\\\",\\u003cbr\\u003e    \\\"learning_rate\\\": 0.0013836122148049347,\\u003cbr\\u003e    \\\"forecast_distribution\\\": \\\"distr_trunc_normal\\\",\\u003cbr\\u003e    \\\"perform_batching\\\": true,\\u003cbr\\u003e    \\\"batch_size\\\": 128,\\u003cbr\\u003e    \\\"epochs\\\": 241\\u003cbr\\u003e  }\\u003cbr\\u003e}\",\"{\\u003cbr\\u003e  \\\"number\\\": 31,\\u003cbr\\u003e  \\\"values\\\": [\\u003cbr\\u003e    2.717193841934204,\\u003cbr\\u003e    0.1810912862420082\\u003cbr\\u003e  ],\\u003cbr\\u003e  \\\"params\\\": {\\u003cbr\\u003e    \\\"chain_function_mean\\\": -2.3420390422512645,\\u003cbr\\u003e    \\\"chain_function_std\\\": 2.2792811070584054,\\u003cbr\\u003e    \\\"chain_function_constant\\\": 0.6963960616781889,\\u003cbr\\u003e    \\\"optimizer\\\": \\\"Adam\\\",\\u003cbr\\u003e    \\\"learning_rate\\\": 0.002761505327675819,\\u003cbr\\u003e    \\\"forecast_distribution\\\": \\\"distr_log_normal\\\",\\u003cbr\\u003e    \\\"perform_batching\\\": true,\\u003cbr\\u003e    \\\"batch_size\\\": 128,\\u003cbr\\u003e    \\\"epochs\\\": 231\\u003cbr\\u003e  }\\u003cbr\\u003e}\",\"{\\u003cbr\\u003e  \\\"number\\\": 32,\\u003cbr\\u003e  \\\"values\\\": [\\u003cbr\\u003e    2.7086182832717896,\\u003cbr\\u003e    0.17996812611818314\\u003cbr\\u003e  ],\\u003cbr\\u003e  \\\"params\\\": {\\u003cbr\\u003e    \\\"chain_function_mean\\\": 10.240469520814901,\\u003cbr\\u003e    \\\"chain_function_std\\\": 9.315080084675353,\\u003cbr\\u003e    \\\"chain_function_constant\\\": 0.044509025952921694,\\u003cbr\\u003e    \\\"optimizer\\\": \\\"Adam\\\",\\u003cbr\\u003e    \\\"learning_rate\\\": 0.0010676866865113133,\\u003cbr\\u003e    \\\"forecast_distribution\\\": \\\"distr_trunc_normal\\\",\\u003cbr\\u003e    \\\"perform_batching\\\": true,\\u003cbr\\u003e    \\\"batch_size\\\": 128,\\u003cbr\\u003e    \\\"epochs\\\": 253\\u003cbr\\u003e  }\\u003cbr\\u003e}\",\"{\\u003cbr\\u003e  \\\"number\\\": 33,\\u003cbr\\u003e  \\\"values\\\": [\\u003cbr\\u003e    2.726343870162964,\\u003cbr\\u003e    0.17928890883922577\\u003cbr\\u003e  ],\\u003cbr\\u003e  \\\"params\\\": {\\u003cbr\\u003e    \\\"chain_function_mean\\\": 10.373817378379536,\\u003cbr\\u003e    \\\"chain_function_std\\\": 0.002536808061131474,\\u003cbr\\u003e    \\\"chain_function_constant\\\": 0.04349028238442353,\\u003cbr\\u003e    \\\"optimizer\\\": \\\"Adam\\\",\\u003cbr\\u003e    \\\"learning_rate\\\": 0.0002886701906384498,\\u003cbr\\u003e    \\\"forecast_distribution\\\": \\\"distr_trunc_normal\\\",\\u003cbr\\u003e    \\\"perform_batching\\\": true,\\u003cbr\\u003e    \\\"batch_size\\\": 128,\\u003cbr\\u003e    \\\"epochs\\\": 269\\u003cbr\\u003e  }\\u003cbr\\u003e}\",\"{\\u003cbr\\u003e  \\\"number\\\": 34,\\u003cbr\\u003e  \\\"values\\\": [\\u003cbr\\u003e    3.559202194213867,\\u003cbr\\u003e    0.19323212653398514\\u003cbr\\u003e  ],\\u003cbr\\u003e  \\\"params\\\": {\\u003cbr\\u003e    \\\"chain_function_mean\\\": 14.516646773619645,\\u003cbr\\u003e    \\\"chain_function_std\\\": 0.0008532717086658874,\\u003cbr\\u003e    \\\"chain_function_constant\\\": 0.00013053316755875323,\\u003cbr\\u003e    \\\"optimizer\\\": \\\"Adam\\\",\\u003cbr\\u003e    \\\"learning_rate\\\": 0.0002661964439924912,\\u003cbr\\u003e    \\\"forecast_distribution\\\": \\\"distr_trunc_normal\\\",\\u003cbr\\u003e    \\\"perform_batching\\\": true,\\u003cbr\\u003e    \\\"batch_size\\\": 128,\\u003cbr\\u003e    \\\"epochs\\\": 279\\u003cbr\\u003e  }\\u003cbr\\u003e}\",\"{\\u003cbr\\u003e  \\\"number\\\": 35,\\u003cbr\\u003e  \\\"values\\\": [\\u003cbr\\u003e    2.710324466228485,\\u003cbr\\u003e    0.1801108494400978\\u003cbr\\u003e  ],\\u003cbr\\u003e  \\\"params\\\": {\\u003cbr\\u003e    \\\"chain_function_mean\\\": 11.902279776628218,\\u003cbr\\u003e    \\\"chain_function_std\\\": 0.008580420749984418,\\u003cbr\\u003e    \\\"chain_function_constant\\\": 0.24697118668453513,\\u003cbr\\u003e    \\\"optimizer\\\": \\\"Adam\\\",\\u003cbr\\u003e    \\\"learning_rate\\\": 0.00042043849544187305,\\u003cbr\\u003e    \\\"forecast_distribution\\\": \\\"distr_trunc_normal\\\",\\u003cbr\\u003e    \\\"perform_batching\\\": true,\\u003cbr\\u003e    \\\"batch_size\\\": 128,\\u003cbr\\u003e    \\\"epochs\\\": 381\\u003cbr\\u003e  }\\u003cbr\\u003e}\",\"{\\u003cbr\\u003e  \\\"number\\\": 36,\\u003cbr\\u003e  \\\"values\\\": [\\u003cbr\\u003e    2.7086638808250427,\\u003cbr\\u003e    0.18021013587713242\\u003cbr\\u003e  ],\\u003cbr\\u003e  \\\"params\\\": {\\u003cbr\\u003e    \\\"chain_function_mean\\\": 6.656810234111182,\\u003cbr\\u003e    \\\"chain_function_std\\\": 0.002017015555979516,\\u003cbr\\u003e    \\\"chain_function_constant\\\": 0.7637300109522457,\\u003cbr\\u003e    \\\"optimizer\\\": \\\"Adam\\\",\\u003cbr\\u003e    \\\"learning_rate\\\": 0.0007173313215058371,\\u003cbr\\u003e    \\\"forecast_distribution\\\": \\\"distr_trunc_normal\\\",\\u003cbr\\u003e    \\\"perform_batching\\\": true,\\u003cbr\\u003e    \\\"batch_size\\\": 128,\\u003cbr\\u003e    \\\"epochs\\\": 222\\u003cbr\\u003e  }\\u003cbr\\u003e}\",\"{\\u003cbr\\u003e  \\\"number\\\": 37,\\u003cbr\\u003e  \\\"values\\\": [\\u003cbr\\u003e    4.160776615142822,\\u003cbr\\u003e    0.204006165266037\\u003cbr\\u003e  ],\\u003cbr\\u003e  \\\"params\\\": {\\u003cbr\\u003e    \\\"chain_function_mean\\\": 14.888166598164922,\\u003cbr\\u003e    \\\"chain_function_std\\\": 0.15265064472419898,\\u003cbr\\u003e    \\\"chain_function_constant\\\": 1.5998194173025635e-05,\\u003cbr\\u003e    \\\"optimizer\\\": \\\"Adam\\\",\\u003cbr\\u003e    \\\"learning_rate\\\": 0.0004984635311728094,\\u003cbr\\u003e    \\\"forecast_distribution\\\": \\\"distr_mixture\\\",\\u003cbr\\u003e    \\\"distribution_1\\\": \\\"distr_trunc_normal\\\",\\u003cbr\\u003e    \\\"distribution_2\\\": \\\"distr_gev\\\",\\u003cbr\\u003e    \\\"perform_batching\\\": true,\\u003cbr\\u003e    \\\"batch_size\\\": 128,\\u003cbr\\u003e    \\\"epochs\\\": 312\\u003cbr\\u003e  }\\u003cbr\\u003e}\",\"{\\u003cbr\\u003e  \\\"number\\\": 38,\\u003cbr\\u003e  \\\"values\\\": [\\u003cbr\\u003e    2.722476303577423,\\u003cbr\\u003e    0.18093814700841904\\u003cbr\\u003e  ],\\u003cbr\\u003e  \\\"params\\\": {\\u003cbr\\u003e    \\\"chain_function_mean\\\": 11.298937413432196,\\u003cbr\\u003e    \\\"chain_function_std\\\": 0.048592095973926525,\\u003cbr\\u003e    \\\"chain_function_constant\\\": 0.18518350731410022,\\u003cbr\\u003e    \\\"optimizer\\\": \\\"Adam\\\",\\u003cbr\\u003e    \\\"learning_rate\\\": 0.0002885122481223993,\\u003cbr\\u003e    \\\"forecast_distribution\\\": \\\"distr_log_normal\\\",\\u003cbr\\u003e    \\\"perform_batching\\\": true,\\u003cbr\\u003e    \\\"batch_size\\\": 128,\\u003cbr\\u003e    \\\"epochs\\\": 271\\u003cbr\\u003e  }\\u003cbr\\u003e}\",\"{\\u003cbr\\u003e  \\\"number\\\": 39,\\u003cbr\\u003e  \\\"values\\\": [\\u003cbr\\u003e    9.872849941253662,\\u003cbr\\u003e    0.3013862185180187\\u003cbr\\u003e  ],\\u003cbr\\u003e  \\\"params\\\": {\\u003cbr\\u003e    \\\"chain_function_mean\\\": 4.610509126450495,\\u003cbr\\u003e    \\\"chain_function_std\\\": 1.526947969457224,\\u003cbr\\u003e    \\\"chain_function_constant\\\": 0.008895543536327256,\\u003cbr\\u003e    \\\"optimizer\\\": \\\"Adam\\\",\\u003cbr\\u003e    \\\"learning_rate\\\": 0.0001769659774930297,\\u003cbr\\u003e    \\\"forecast_distribution\\\": \\\"distr_trunc_normal\\\",\\u003cbr\\u003e    \\\"perform_batching\\\": false,\\u003cbr\\u003e    \\\"epochs\\\": 182\\u003cbr\\u003e  }\\u003cbr\\u003e}\",\"{\\u003cbr\\u003e  \\\"number\\\": 42,\\u003cbr\\u003e  \\\"values\\\": [\\u003cbr\\u003e    9.154417753219604,\\u003cbr\\u003e    0.30080437660217285\\u003cbr\\u003e  ],\\u003cbr\\u003e  \\\"params\\\": {\\u003cbr\\u003e    \\\"chain_function_mean\\\": -3.723696474924429,\\u003cbr\\u003e    \\\"chain_function_std\\\": 3.509669265883265,\\u003cbr\\u003e    \\\"chain_function_constant\\\": 0.00028217727723517497,\\u003cbr\\u003e    \\\"optimizer\\\": \\\"SGD\\\",\\u003cbr\\u003e    \\\"learning_rate\\\": 0.0033354603702919713,\\u003cbr\\u003e    \\\"forecast_distribution\\\": \\\"distr_trunc_normal\\\",\\u003cbr\\u003e    \\\"perform_batching\\\": false,\\u003cbr\\u003e    \\\"epochs\\\": 224\\u003cbr\\u003e  }\\u003cbr\\u003e}\",\"{\\u003cbr\\u003e  \\\"number\\\": 43,\\u003cbr\\u003e  \\\"values\\\": [\\u003cbr\\u003e    2.7313432693481445,\\u003cbr\\u003e    0.18551310151815414\\u003cbr\\u003e  ],\\u003cbr\\u003e  \\\"params\\\": {\\u003cbr\\u003e    \\\"chain_function_mean\\\": 7.190016445499221,\\u003cbr\\u003e    \\\"chain_function_std\\\": 3.481014033833056,\\u003cbr\\u003e    \\\"chain_function_constant\\\": 0.0022682442063423416,\\u003cbr\\u003e    \\\"optimizer\\\": \\\"Adam\\\",\\u003cbr\\u003e    \\\"learning_rate\\\": 0.03131767628527161,\\u003cbr\\u003e    \\\"forecast_distribution\\\": \\\"distr_mixture_linear\\\",\\u003cbr\\u003e    \\\"distribution_1\\\": \\\"distr_trunc_normal\\\",\\u003cbr\\u003e    \\\"distribution_2\\\": \\\"distr_gev\\\",\\u003cbr\\u003e    \\\"perform_batching\\\": true,\\u003cbr\\u003e    \\\"batch_size\\\": 32,\\u003cbr\\u003e    \\\"epochs\\\": 292\\u003cbr\\u003e  }\\u003cbr\\u003e}\",\"{\\u003cbr\\u003e  \\\"number\\\": 44,\\u003cbr\\u003e  \\\"values\\\": [\\u003cbr\\u003e    2.712631583213806,\\u003cbr\\u003e    0.18171465769410133\\u003cbr\\u003e  ],\\u003cbr\\u003e  \\\"params\\\": {\\u003cbr\\u003e    \\\"chain_function_mean\\\": 0.29584064011888866,\\u003cbr\\u003e    \\\"chain_function_std\\\": 1.3344231021424866,\\u003cbr\\u003e    \\\"chain_function_constant\\\": 0.0001744761934047865,\\u003cbr\\u003e    \\\"optimizer\\\": \\\"Adam\\\",\\u003cbr\\u003e    \\\"learning_rate\\\": 0.0013246706592001467,\\u003cbr\\u003e    \\\"forecast_distribution\\\": \\\"distr_gev\\\",\\u003cbr\\u003e    \\\"perform_batching\\\": true,\\u003cbr\\u003e    \\\"batch_size\\\": 1024,\\u003cbr\\u003e    \\\"epochs\\\": 500\\u003cbr\\u003e  }\\u003cbr\\u003e}\",\"{\\u003cbr\\u003e  \\\"number\\\": 45,\\u003cbr\\u003e  \\\"values\\\": [\\u003cbr\\u003e    2.716261148452759,\\u003cbr\\u003e    0.18121807649731636\\u003cbr\\u003e  ],\\u003cbr\\u003e  \\\"params\\\": {\\u003cbr\\u003e    \\\"chain_function_mean\\\": -1.9999817274795735,\\u003cbr\\u003e    \\\"chain_function_std\\\": 9.900007242073144,\\u003cbr\\u003e    \\\"chain_function_constant\\\": 0.0004807466688223968,\\u003cbr\\u003e    \\\"optimizer\\\": \\\"Adam\\\",\\u003cbr\\u003e    \\\"learning_rate\\\": 0.009349752676990739,\\u003cbr\\u003e    \\\"forecast_distribution\\\": \\\"distr_mixture\\\",\\u003cbr\\u003e    \\\"distribution_1\\\": \\\"distr_trunc_normal\\\",\\u003cbr\\u003e    \\\"distribution_2\\\": \\\"distr_gev\\\",\\u003cbr\\u003e    \\\"perform_batching\\\": true,\\u003cbr\\u003e    \\\"batch_size\\\": 128,\\u003cbr\\u003e    \\\"epochs\\\": 323\\u003cbr\\u003e  }\\u003cbr\\u003e}\",\"{\\u003cbr\\u003e  \\\"number\\\": 46,\\u003cbr\\u003e  \\\"values\\\": [\\u003cbr\\u003e    11.561511516571045,\\u003cbr\\u003e    0.3012460172176361\\u003cbr\\u003e  ],\\u003cbr\\u003e  \\\"params\\\": {\\u003cbr\\u003e    \\\"chain_function_mean\\\": 4.416903945811047,\\u003cbr\\u003e    \\\"chain_function_std\\\": 0.392533744662121,\\u003cbr\\u003e    \\\"chain_function_constant\\\": 0.000651349595378835,\\u003cbr\\u003e    \\\"optimizer\\\": \\\"SGD\\\",\\u003cbr\\u003e    \\\"learning_rate\\\": 0.0029022831261545897,\\u003cbr\\u003e    \\\"forecast_distribution\\\": \\\"distr_log_normal\\\",\\u003cbr\\u003e    \\\"perform_batching\\\": false,\\u003cbr\\u003e    \\\"epochs\\\": 127\\u003cbr\\u003e  }\\u003cbr\\u003e}\",\"{\\u003cbr\\u003e  \\\"number\\\": 47,\\u003cbr\\u003e  \\\"values\\\": [\\u003cbr\\u003e    2.7097208499908447,\\u003cbr\\u003e    0.17972959950566292\\u003cbr\\u003e  ],\\u003cbr\\u003e  \\\"params\\\": {\\u003cbr\\u003e    \\\"chain_function_mean\\\": 5.780882602452529,\\u003cbr\\u003e    \\\"chain_function_std\\\": 3.8102072044536834,\\u003cbr\\u003e    \\\"chain_function_constant\\\": 1.9715938418806834e-05,\\u003cbr\\u003e    \\\"optimizer\\\": \\\"Adam\\\",\\u003cbr\\u003e    \\\"learning_rate\\\": 0.005373162265266414,\\u003cbr\\u003e    \\\"forecast_distribution\\\": \\\"distr_trunc_normal\\\",\\u003cbr\\u003e    \\\"perform_batching\\\": true,\\u003cbr\\u003e    \\\"batch_size\\\": 128,\\u003cbr\\u003e    \\\"epochs\\\": 261\\u003cbr\\u003e  }\\u003cbr\\u003e}\",\"{\\u003cbr\\u003e  \\\"number\\\": 48,\\u003cbr\\u003e  \\\"values\\\": [\\u003cbr\\u003e    3.257739782333374,\\u003cbr\\u003e    0.19533534348011017\\u003cbr\\u003e  ],\\u003cbr\\u003e  \\\"params\\\": {\\u003cbr\\u003e    \\\"chain_function_mean\\\": -3.6502635256201015,\\u003cbr\\u003e    \\\"chain_function_std\\\": 2.204003554836899,\\u003cbr\\u003e    \\\"chain_function_constant\\\": 0.0013508917772554112,\\u003cbr\\u003e    \\\"optimizer\\\": \\\"Adam\\\",\\u003cbr\\u003e    \\\"learning_rate\\\": 0.0009389960363456353,\\u003cbr\\u003e    \\\"forecast_distribution\\\": \\\"distr_trunc_normal\\\",\\u003cbr\\u003e    \\\"perform_batching\\\": true,\\u003cbr\\u003e    \\\"batch_size\\\": 1024,\\u003cbr\\u003e    \\\"epochs\\\": 218\\u003cbr\\u003e  }\\u003cbr\\u003e}\",\"{\\u003cbr\\u003e  \\\"number\\\": 49,\\u003cbr\\u003e  \\\"values\\\": [\\u003cbr\\u003e    2.787211775779724,\\u003cbr\\u003e    0.18803881108760834\\u003cbr\\u003e  ],\\u003cbr\\u003e  \\\"params\\\": {\\u003cbr\\u003e    \\\"chain_function_mean\\\": -1.6858721336810212,\\u003cbr\\u003e    \\\"chain_function_std\\\": 5.569114525421915,\\u003cbr\\u003e    \\\"chain_function_constant\\\": 0.006558323885324709,\\u003cbr\\u003e    \\\"optimizer\\\": \\\"SGD\\\",\\u003cbr\\u003e    \\\"learning_rate\\\": 0.09172022404456802,\\u003cbr\\u003e    \\\"forecast_distribution\\\": \\\"distr_trunc_normal\\\",\\u003cbr\\u003e    \\\"perform_batching\\\": false,\\u003cbr\\u003e    \\\"epochs\\\": 183\\u003cbr\\u003e  }\\u003cbr\\u003e}\",\"{\\u003cbr\\u003e  \\\"number\\\": 50,\\u003cbr\\u003e  \\\"values\\\": [\\u003cbr\\u003e    3.0351170897483826,\\u003cbr\\u003e    0.17757552862167358\\u003cbr\\u003e  ],\\u003cbr\\u003e  \\\"params\\\": {\\u003cbr\\u003e    \\\"chain_function_mean\\\": 11.881624131563795,\\u003cbr\\u003e    \\\"chain_function_std\\\": 1.1647043495929712,\\u003cbr\\u003e    \\\"chain_function_constant\\\": 8.256142521312025e-05,\\u003cbr\\u003e    \\\"optimizer\\\": \\\"Adam\\\",\\u003cbr\\u003e    \\\"learning_rate\\\": 0.005036368017960842,\\u003cbr\\u003e    \\\"forecast_distribution\\\": \\\"distr_trunc_normal\\\",\\u003cbr\\u003e    \\\"perform_batching\\\": true,\\u003cbr\\u003e    \\\"batch_size\\\": 128,\\u003cbr\\u003e    \\\"epochs\\\": 264\\u003cbr\\u003e  }\\u003cbr\\u003e}\",\"{\\u003cbr\\u003e  \\\"number\\\": 51,\\u003cbr\\u003e  \\\"values\\\": [\\u003cbr\\u003e    3.041444778442383,\\u003cbr\\u003e    0.1778937354683876\\u003cbr\\u003e  ],\\u003cbr\\u003e  \\\"params\\\": {\\u003cbr\\u003e    \\\"chain_function_mean\\\": 11.621917128947272,\\u003cbr\\u003e    \\\"chain_function_std\\\": 1.0743901425599707,\\u003cbr\\u003e    \\\"chain_function_constant\\\": 2.1782597986679765e-05,\\u003cbr\\u003e    \\\"optimizer\\\": \\\"Adam\\\",\\u003cbr\\u003e    \\\"learning_rate\\\": 0.004146764333199188,\\u003cbr\\u003e    \\\"forecast_distribution\\\": \\\"distr_trunc_normal\\\",\\u003cbr\\u003e    \\\"perform_batching\\\": true,\\u003cbr\\u003e    \\\"batch_size\\\": 128,\\u003cbr\\u003e    \\\"epochs\\\": 262\\u003cbr\\u003e  }\\u003cbr\\u003e}\",\"{\\u003cbr\\u003e  \\\"number\\\": 52,\\u003cbr\\u003e  \\\"values\\\": [\\u003cbr\\u003e    2.8117628693580627,\\u003cbr\\u003e    0.1799292042851448\\u003cbr\\u003e  ],\\u003cbr\\u003e  \\\"params\\\": {\\u003cbr\\u003e    \\\"chain_function_mean\\\": 13.111191332968959,\\u003cbr\\u003e    \\\"chain_function_std\\\": 3.366420489297056,\\u003cbr\\u003e    \\\"chain_function_constant\\\": 9.985360187915689e-05,\\u003cbr\\u003e    \\\"optimizer\\\": \\\"Adam\\\",\\u003cbr\\u003e    \\\"learning_rate\\\": 0.008661288691457856,\\u003cbr\\u003e    \\\"forecast_distribution\\\": \\\"distr_trunc_normal\\\",\\u003cbr\\u003e    \\\"perform_batching\\\": true,\\u003cbr\\u003e    \\\"batch_size\\\": 128,\\u003cbr\\u003e    \\\"epochs\\\": 297\\u003cbr\\u003e  }\\u003cbr\\u003e}\",\"{\\u003cbr\\u003e  \\\"number\\\": 53,\\u003cbr\\u003e  \\\"values\\\": [\\u003cbr\\u003e    2.869038701057434,\\u003cbr\\u003e    0.17856911569833755\\u003cbr\\u003e  ],\\u003cbr\\u003e  \\\"params\\\": {\\u003cbr\\u003e    \\\"chain_function_mean\\\": 9.597020878755286,\\u003cbr\\u003e    \\\"chain_function_std\\\": 0.5971834075574216,\\u003cbr\\u003e    \\\"chain_function_constant\\\": 6.107203372590895e-05,\\u003cbr\\u003e    \\\"optimizer\\\": \\\"Adam\\\",\\u003cbr\\u003e    \\\"learning_rate\\\": 0.004857679040167723,\\u003cbr\\u003e    \\\"forecast_distribution\\\": \\\"distr_trunc_normal\\\",\\u003cbr\\u003e    \\\"perform_batching\\\": true,\\u003cbr\\u003e    \\\"batch_size\\\": 128,\\u003cbr\\u003e    \\\"epochs\\\": 234\\u003cbr\\u003e  }\\u003cbr\\u003e}\",\"{\\u003cbr\\u003e  \\\"number\\\": 54,\\u003cbr\\u003e  \\\"values\\\": [\\u003cbr\\u003e    3.0315831899642944,\\u003cbr\\u003e    0.1770503930747509\\u003cbr\\u003e  ],\\u003cbr\\u003e  \\\"params\\\": {\\u003cbr\\u003e    \\\"chain_function_mean\\\": 12.199492901614367,\\u003cbr\\u003e    \\\"chain_function_std\\\": 1.329734286646739,\\u003cbr\\u003e    \\\"chain_function_constant\\\": 6.649897768876984e-05,\\u003cbr\\u003e    \\\"optimizer\\\": \\\"Adam\\\",\\u003cbr\\u003e    \\\"learning_rate\\\": 0.0076268631346109814,\\u003cbr\\u003e    \\\"forecast_distribution\\\": \\\"distr_trunc_normal\\\",\\u003cbr\\u003e    \\\"perform_batching\\\": true,\\u003cbr\\u003e    \\\"batch_size\\\": 128,\\u003cbr\\u003e    \\\"epochs\\\": 324\\u003cbr\\u003e  }\\u003cbr\\u003e}\",\"{\\u003cbr\\u003e  \\\"number\\\": 55,\\u003cbr\\u003e  \\\"values\\\": [\\u003cbr\\u003e    3.1919878721237183,\\u003cbr\\u003e    0.18332720547914505\\u003cbr\\u003e  ],\\u003cbr\\u003e  \\\"params\\\": {\\u003cbr\\u003e    \\\"chain_function_mean\\\": 12.595901303840797,\\u003cbr\\u003e    \\\"chain_function_std\\\": 0.24550653421311186,\\u003cbr\\u003e    \\\"chain_function_constant\\\": 1.0247649759336376e-05,\\u003cbr\\u003e    \\\"optimizer\\\": \\\"Adam\\\",\\u003cbr\\u003e    \\\"learning_rate\\\": 0.027112290363681835,\\u003cbr\\u003e    \\\"forecast_distribution\\\": \\\"distr_trunc_normal\\\",\\u003cbr\\u003e    \\\"perform_batching\\\": true,\\u003cbr\\u003e    \\\"batch_size\\\": 128,\\u003cbr\\u003e    \\\"epochs\\\": 382\\u003cbr\\u003e  }\\u003cbr\\u003e}\",\"{\\u003cbr\\u003e  \\\"number\\\": 56,\\u003cbr\\u003e  \\\"values\\\": [\\u003cbr\\u003e    3.52398943901062,\\u003cbr\\u003e    0.19447871297597885\\u003cbr\\u003e  ],\\u003cbr\\u003e  \\\"params\\\": {\\u003cbr\\u003e    \\\"chain_function_mean\\\": 13.900952776197332,\\u003cbr\\u003e    \\\"chain_function_std\\\": 0.6525865245374846,\\u003cbr\\u003e    \\\"chain_function_constant\\\": 2.225948560279072e-05,\\u003cbr\\u003e    \\\"optimizer\\\": \\\"Adam\\\",\\u003cbr\\u003e    \\\"learning_rate\\\": 0.06149937008524027,\\u003cbr\\u003e    \\\"forecast_distribution\\\": \\\"distr_trunc_normal\\\",\\u003cbr\\u003e    \\\"perform_batching\\\": true,\\u003cbr\\u003e    \\\"batch_size\\\": 256,\\u003cbr\\u003e    \\\"epochs\\\": 405\\u003cbr\\u003e  }\\u003cbr\\u003e}\",\"{\\u003cbr\\u003e  \\\"number\\\": 57,\\u003cbr\\u003e  \\\"values\\\": [\\u003cbr\\u003e    2.7979244589805603,\\u003cbr\\u003e    0.1791129745543003\\u003cbr\\u003e  ],\\u003cbr\\u003e  \\\"params\\\": {\\u003cbr\\u003e    \\\"chain_function_mean\\\": 11.153742349025437,\\u003cbr\\u003e    \\\"chain_function_std\\\": 2.5232032618574185,\\u003cbr\\u003e    \\\"chain_function_constant\\\": 0.00016904567914954334,\\u003cbr\\u003e    \\\"optimizer\\\": \\\"Adam\\\",\\u003cbr\\u003e    \\\"learning_rate\\\": 0.00010506475305309502,\\u003cbr\\u003e    \\\"forecast_distribution\\\": \\\"distr_mixture\\\",\\u003cbr\\u003e    \\\"distribution_1\\\": \\\"distr_gev\\\",\\u003cbr\\u003e    \\\"distribution_2\\\": \\\"distr_log_normal\\\",\\u003cbr\\u003e    \\\"perform_batching\\\": true,\\u003cbr\\u003e    \\\"batch_size\\\": 32,\\u003cbr\\u003e    \\\"epochs\\\": 336\\u003cbr\\u003e  }\\u003cbr\\u003e}\",\"{\\u003cbr\\u003e  \\\"number\\\": 58,\\u003cbr\\u003e  \\\"values\\\": [\\u003cbr\\u003e    3.1855068802833557,\\u003cbr\\u003e    0.18584440276026726\\u003cbr\\u003e  ],\\u003cbr\\u003e  \\\"params\\\": {\\u003cbr\\u003e    \\\"chain_function_mean\\\": 12.552648420428309,\\u003cbr\\u003e    \\\"chain_function_std\\\": 1.501473065177978,\\u003cbr\\u003e    \\\"chain_function_constant\\\": 5.3354313084462237e-05,\\u003cbr\\u003e    \\\"optimizer\\\": \\\"Adam\\\",\\u003cbr\\u003e    \\\"learning_rate\\\": 0.03941201429366007,\\u003cbr\\u003e    \\\"forecast_distribution\\\": \\\"distr_gev\\\",\\u003cbr\\u003e    \\\"perform_batching\\\": true,\\u003cbr\\u003e    \\\"batch_size\\\": 512,\\u003cbr\\u003e    \\\"epochs\\\": 361\\u003cbr\\u003e  }\\u003cbr\\u003e}\",\"{\\u003cbr\\u003e  \\\"number\\\": 59,\\u003cbr\\u003e  \\\"values\\\": [\\u003cbr\\u003e    2.851145565509796,\\u003cbr\\u003e    0.17946646362543106\\u003cbr\\u003e  ],\\u003cbr\\u003e  \\\"params\\\": {\\u003cbr\\u003e    \\\"chain_function_mean\\\": 8.425543046135243,\\u003cbr\\u003e    \\\"chain_function_std\\\": 0.23961019322736068,\\u003cbr\\u003e    \\\"chain_function_constant\\\": 0.00044694658465757196,\\u003cbr\\u003e    \\\"optimizer\\\": \\\"Adam\\\",\\u003cbr\\u003e    \\\"learning_rate\\\": 0.008110459967417407,\\u003cbr\\u003e    \\\"forecast_distribution\\\": \\\"distr_mixture_linear\\\",\\u003cbr\\u003e    \\\"distribution_1\\\": \\\"distr_log_normal\\\",\\u003cbr\\u003e    \\\"distribution_2\\\": \\\"distr_trunc_normal\\\",\\u003cbr\\u003e    \\\"perform_batching\\\": true,\\u003cbr\\u003e    \\\"batch_size\\\": 128,\\u003cbr\\u003e    \\\"epochs\\\": 381\\u003cbr\\u003e  }\\u003cbr\\u003e}\",\"{\\u003cbr\\u003e  \\\"number\\\": 61,\\u003cbr\\u003e  \\\"values\\\": [\\u003cbr\\u003e    11.646679401397705,\\u003cbr\\u003e    0.301001712679863\\u003cbr\\u003e  ],\\u003cbr\\u003e  \\\"params\\\": {\\u003cbr\\u003e    \\\"chain_function_mean\\\": 8.784788027238651,\\u003cbr\\u003e    \\\"chain_function_std\\\": 0.8531788453189313,\\u003cbr\\u003e    \\\"chain_function_constant\\\": 0.0002529415469706046,\\u003cbr\\u003e    \\\"optimizer\\\": \\\"SGD\\\",\\u003cbr\\u003e    \\\"learning_rate\\\": 0.0858530910068446,\\u003cbr\\u003e    \\\"forecast_distribution\\\": \\\"distr_log_normal\\\",\\u003cbr\\u003e    \\\"perform_batching\\\": false,\\u003cbr\\u003e    \\\"epochs\\\": 299\\u003cbr\\u003e  }\\u003cbr\\u003e}\",\"{\\u003cbr\\u003e  \\\"number\\\": 62,\\u003cbr\\u003e  \\\"values\\\": [\\u003cbr\\u003e    7.592499256134033,\\u003cbr\\u003e    0.29395490884780884\\u003cbr\\u003e  ],\\u003cbr\\u003e  \\\"params\\\": {\\u003cbr\\u003e    \\\"chain_function_mean\\\": 7.016526172502608,\\u003cbr\\u003e    \\\"chain_function_std\\\": 0.003676980640255586,\\u003cbr\\u003e    \\\"chain_function_constant\\\": 0.0005206961432286028,\\u003cbr\\u003e    \\\"optimizer\\\": \\\"SGD\\\",\\u003cbr\\u003e    \\\"learning_rate\\\": 0.024595690190317116,\\u003cbr\\u003e    \\\"forecast_distribution\\\": \\\"distr_mixture_linear\\\",\\u003cbr\\u003e    \\\"distribution_1\\\": \\\"distr_trunc_normal\\\",\\u003cbr\\u003e    \\\"distribution_2\\\": \\\"distr_gev\\\",\\u003cbr\\u003e    \\\"perform_batching\\\": false,\\u003cbr\\u003e    \\\"epochs\\\": 308\\u003cbr\\u003e  }\\u003cbr\\u003e}\",\"{\\u003cbr\\u003e  \\\"number\\\": 63,\\u003cbr\\u003e  \\\"values\\\": [\\u003cbr\\u003e    5.892446279525757,\\u003cbr\\u003e    0.3181852102279663\\u003cbr\\u003e  ],\\u003cbr\\u003e  \\\"params\\\": {\\u003cbr\\u003e    \\\"chain_function_mean\\\": 6.085868290820297,\\u003cbr\\u003e    \\\"chain_function_std\\\": 6.871879116230903,\\u003cbr\\u003e    \\\"chain_function_constant\\\": 0.002010057159178468,\\u003cbr\\u003e    \\\"optimizer\\\": \\\"SGD\\\",\\u003cbr\\u003e    \\\"learning_rate\\\": 0.011990169170800133,\\u003cbr\\u003e    \\\"forecast_distribution\\\": \\\"distr_gev\\\",\\u003cbr\\u003e    \\\"perform_batching\\\": false,\\u003cbr\\u003e    \\\"epochs\\\": 290\\u003cbr\\u003e  }\\u003cbr\\u003e}\",\"{\\u003cbr\\u003e  \\\"number\\\": 64,\\u003cbr\\u003e  \\\"values\\\": [\\u003cbr\\u003e    2.869210720062256,\\u003cbr\\u003e    0.17762825265526772\\u003cbr\\u003e  ],\\u003cbr\\u003e  \\\"params\\\": {\\u003cbr\\u003e    \\\"chain_function_mean\\\": 9.448121965144338,\\u003cbr\\u003e    \\\"chain_function_std\\\": 0.00011680319222954649,\\u003cbr\\u003e    \\\"chain_function_constant\\\": 0.001008766625168047,\\u003cbr\\u003e    \\\"optimizer\\\": \\\"Adam\\\",\\u003cbr\\u003e    \\\"learning_rate\\\": 0.036810589599220324,\\u003cbr\\u003e    \\\"forecast_distribution\\\": \\\"distr_mixture\\\",\\u003cbr\\u003e    \\\"distribution_1\\\": \\\"distr_log_normal\\\",\\u003cbr\\u003e    \\\"distribution_2\\\": \\\"distr_trunc_normal\\\",\\u003cbr\\u003e    \\\"perform_batching\\\": true,\\u003cbr\\u003e    \\\"batch_size\\\": 128,\\u003cbr\\u003e    \\\"epochs\\\": 266\\u003cbr\\u003e  }\\u003cbr\\u003e}\",\"{\\u003cbr\\u003e  \\\"number\\\": 65,\\u003cbr\\u003e  \\\"values\\\": [\\u003cbr\\u003e    4.491639852523804,\\u003cbr\\u003e    0.1983233466744423\\u003cbr\\u003e  ],\\u003cbr\\u003e  \\\"params\\\": {\\u003cbr\\u003e    \\\"chain_function_mean\\\": 14.150399116602802,\\u003cbr\\u003e    \\\"chain_function_std\\\": 0.0008977886271834937,\\u003cbr\\u003e    \\\"chain_function_constant\\\": 0.0001453328134740706,\\u003cbr\\u003e    \\\"optimizer\\\": \\\"Adam\\\",\\u003cbr\\u003e    \\\"learning_rate\\\": 0.019732708756603462,\\u003cbr\\u003e    \\\"forecast_distribution\\\": \\\"distr_log_normal\\\",\\u003cbr\\u003e    \\\"perform_batching\\\": true,\\u003cbr\\u003e    \\\"batch_size\\\": 32,\\u003cbr\\u003e    \\\"epochs\\\": 280\\u003cbr\\u003e  }\\u003cbr\\u003e}\",\"{\\u003cbr\\u003e  \\\"number\\\": 66,\\u003cbr\\u003e  \\\"values\\\": [\\u003cbr\\u003e    9.791269540786743,\\u003cbr\\u003e    0.30173320695757866\\u003cbr\\u003e  ],\\u003cbr\\u003e  \\\"params\\\": {\\u003cbr\\u003e    \\\"chain_function_mean\\\": 9.887851467914269,\\u003cbr\\u003e    \\\"chain_function_std\\\": 1.8345498201724835,\\u003cbr\\u003e    \\\"chain_function_constant\\\": 9.843488240808248e-05,\\u003cbr\\u003e    \\\"optimizer\\\": \\\"SGD\\\",\\u003cbr\\u003e    \\\"learning_rate\\\": 0.05414055907201862,\\u003cbr\\u003e    \\\"forecast_distribution\\\": \\\"distr_trunc_normal\\\",\\u003cbr\\u003e    \\\"perform_batching\\\": false,\\u003cbr\\u003e    \\\"epochs\\\": 328\\u003cbr\\u003e  }\\u003cbr\\u003e}\",\"{\\u003cbr\\u003e  \\\"number\\\": 67,\\u003cbr\\u003e  \\\"values\\\": [\\u003cbr\\u003e    2.712471604347229,\\u003cbr\\u003e    0.17971305549144745\\u003cbr\\u003e  ],\\u003cbr\\u003e  \\\"params\\\": {\\u003cbr\\u003e    \\\"chain_function_mean\\\": 7.48747843174213,\\u003cbr\\u003e    \\\"chain_function_std\\\": 4.455557296311494,\\u003cbr\\u003e    \\\"chain_function_constant\\\": 0.0004089547179793198,\\u003cbr\\u003e    \\\"optimizer\\\": \\\"Adam\\\",\\u003cbr\\u003e    \\\"learning_rate\\\": 0.012727206248024007,\\u003cbr\\u003e    \\\"forecast_distribution\\\": \\\"distr_trunc_normal\\\",\\u003cbr\\u003e    \\\"perform_batching\\\": true,\\u003cbr\\u003e    \\\"batch_size\\\": 1024,\\u003cbr\\u003e    \\\"epochs\\\": 310\\u003cbr\\u003e  }\\u003cbr\\u003e}\",\"{\\u003cbr\\u003e  \\\"number\\\": 68,\\u003cbr\\u003e  \\\"values\\\": [\\u003cbr\\u003e    2.7253670692443848,\\u003cbr\\u003e    0.17977959290146828\\u003cbr\\u003e  ],\\u003cbr\\u003e  \\\"params\\\": {\\u003cbr\\u003e    \\\"chain_function_mean\\\": 5.9666949533874325,\\u003cbr\\u003e    \\\"chain_function_std\\\": 2.7212811284828438,\\u003cbr\\u003e    \\\"chain_function_constant\\\": 0.00021749971902001897,\\u003cbr\\u003e    \\\"optimizer\\\": \\\"Adam\\\",\\u003cbr\\u003e    \\\"learning_rate\\\": 0.03704254910947077,\\u003cbr\\u003e    \\\"forecast_distribution\\\": \\\"distr_trunc_normal\\\",\\u003cbr\\u003e    \\\"perform_batching\\\": true,\\u003cbr\\u003e    \\\"batch_size\\\": 256,\\u003cbr\\u003e    \\\"epochs\\\": 358\\u003cbr\\u003e  }\\u003cbr\\u003e}\",\"{\\u003cbr\\u003e  \\\"number\\\": 69,\\u003cbr\\u003e  \\\"values\\\": [\\u003cbr\\u003e    2.7376953959465027,\\u003cbr\\u003e    0.18249138072133064\\u003cbr\\u003e  ],\\u003cbr\\u003e  \\\"params\\\": {\\u003cbr\\u003e    \\\"chain_function_mean\\\": 11.200602771621623,\\u003cbr\\u003e    \\\"chain_function_std\\\": 7.2273859330895,\\u003cbr\\u003e    \\\"chain_function_constant\\\": 0.0006327445692194254,\\u003cbr\\u003e    \\\"optimizer\\\": \\\"Adam\\\",\\u003cbr\\u003e    \\\"learning_rate\\\": 0.07233991872118883,\\u003cbr\\u003e    \\\"forecast_distribution\\\": \\\"distr_log_normal\\\",\\u003cbr\\u003e    \\\"perform_batching\\\": true,\\u003cbr\\u003e    \\\"batch_size\\\": 512,\\u003cbr\\u003e    \\\"epochs\\\": 255\\u003cbr\\u003e  }\\u003cbr\\u003e}\",\"{\\u003cbr\\u003e  \\\"number\\\": 70,\\u003cbr\\u003e  \\\"values\\\": [\\u003cbr\\u003e    2.7729315757751465,\\u003cbr\\u003e    0.17843223735690117\\u003cbr\\u003e  ],\\u003cbr\\u003e  \\\"params\\\": {\\u003cbr\\u003e    \\\"chain_function_mean\\\": 8.845243830976894,\\u003cbr\\u003e    \\\"chain_function_std\\\": 1.7577753074735336,\\u003cbr\\u003e    \\\"chain_function_constant\\\": 0.0012968668143959964,\\u003cbr\\u003e    \\\"optimizer\\\": \\\"Adam\\\",\\u003cbr\\u003e    \\\"learning_rate\\\": 0.0023525963370434476,\\u003cbr\\u003e    \\\"forecast_distribution\\\": \\\"distr_trunc_normal\\\",\\u003cbr\\u003e    \\\"perform_batching\\\": true,\\u003cbr\\u003e    \\\"batch_size\\\": 128,\\u003cbr\\u003e    \\\"epochs\\\": 242\\u003cbr\\u003e  }\\u003cbr\\u003e}\",\"{\\u003cbr\\u003e  \\\"number\\\": 71,\\u003cbr\\u003e  \\\"values\\\": [\\u003cbr\\u003e    9.914034843444824,\\u003cbr\\u003e    0.30129194259643555\\u003cbr\\u003e  ],\\u003cbr\\u003e  \\\"params\\\": {\\u003cbr\\u003e    \\\"chain_function_mean\\\": 6.5526115856977425,\\u003cbr\\u003e    \\\"chain_function_std\\\": 3.4288281893135797,\\u003cbr\\u003e    \\\"chain_function_constant\\\": 0.03484285008456916,\\u003cbr\\u003e    \\\"optimizer\\\": \\\"SGD\\\",\\u003cbr\\u003e    \\\"learning_rate\\\": 0.00111705514319503,\\u003cbr\\u003e    \\\"forecast_distribution\\\": \\\"distr_trunc_normal\\\",\\u003cbr\\u003e    \\\"perform_batching\\\": false,\\u003cbr\\u003e    \\\"epochs\\\": 273\\u003cbr\\u003e  }\\u003cbr\\u003e}\",\"{\\u003cbr\\u003e  \\\"number\\\": 72,\\u003cbr\\u003e  \\\"values\\\": [\\u003cbr\\u003e    2.7453086972236633,\\u003cbr\\u003e    0.1789550967514515\\u003cbr\\u003e  ],\\u003cbr\\u003e  \\\"params\\\": {\\u003cbr\\u003e    \\\"chain_function_mean\\\": 9.316355539662897,\\u003cbr\\u003e    \\\"chain_function_std\\\": 0.8686985266870408,\\u003cbr\\u003e    \\\"chain_function_constant\\\": 0.04193137605394362,\\u003cbr\\u003e    \\\"optimizer\\\": \\\"Adam\\\",\\u003cbr\\u003e    \\\"learning_rate\\\": 0.0014471065324864751,\\u003cbr\\u003e    \\\"forecast_distribution\\\": \\\"distr_gev\\\",\\u003cbr\\u003e    \\\"perform_batching\\\": true,\\u003cbr\\u003e    \\\"batch_size\\\": 128,\\u003cbr\\u003e    \\\"epochs\\\": 288\\u003cbr\\u003e  }\\u003cbr\\u003e}\",\"{\\u003cbr\\u003e  \\\"number\\\": 74,\\u003cbr\\u003e  \\\"values\\\": [\\u003cbr\\u003e    9951513313017858.0,\\u003cbr\\u003e    10.0\\u003cbr\\u003e  ],\\u003cbr\\u003e  \\\"params\\\": {\\u003cbr\\u003e    \\\"chain_function_mean\\\": 7.858317404339937,\\u003cbr\\u003e    \\\"chain_function_std\\\": 0.00011439138190686483,\\u003cbr\\u003e    \\\"chain_function_constant\\\": 9.791226314960639e-05,\\u003cbr\\u003e    \\\"optimizer\\\": \\\"Adam\\\",\\u003cbr\\u003e    \\\"learning_rate\\\": 0.019649078135596982,\\u003cbr\\u003e    \\\"forecast_distribution\\\": \\\"distr_mixture_linear\\\",\\u003cbr\\u003e    \\\"distribution_1\\\": \\\"distr_trunc_normal\\\",\\u003cbr\\u003e    \\\"distribution_2\\\": \\\"distr_gev\\\",\\u003cbr\\u003e    \\\"perform_batching\\\": true,\\u003cbr\\u003e    \\\"batch_size\\\": 128,\\u003cbr\\u003e    \\\"epochs\\\": 372\\u003cbr\\u003e  }\\u003cbr\\u003e}\"],\"x\":[6.857719659805298,2.7068868279457092,2.707387685775757,7.781105995178223,2.712414562702179,7.844149827957153,5.163564205169678,3.2693737745285034,2.707865536212921,3.0313754081726074,10.303478240966797,2.780767560005188,6.279019117355347,3.380695343017578,2.9159937500953674,2.7207736372947693,9.976555585861206,2.7285261154174805,11.437721967697144,2.7918731570243835,2.719066619873047,2.7802626490592957,2.7766727209091187,2.999790906906128,2.7539538741111755,2.7380585074424744,2.7504209876060486,2.7075695395469666,2.7073572278022766,2.7066689133644104,2.717193841934204,2.7086182832717896,2.726343870162964,3.559202194213867,2.710324466228485,2.7086638808250427,4.160776615142822,2.722476303577423,9.872849941253662,9.154417753219604,2.7313432693481445,2.712631583213806,2.716261148452759,11.561511516571045,2.7097208499908447,3.257739782333374,2.787211775779724,3.0351170897483826,3.041444778442383,2.8117628693580627,2.869038701057434,3.0315831899642944,3.1919878721237183,3.52398943901062,2.7979244589805603,3.1855068802833557,2.851145565509796,11.646679401397705,7.592499256134033,5.892446279525757,2.869210720062256,4.491639852523804,9.791269540786743,2.712471604347229,2.7253670692443848,2.7376953959465027,2.7729315757751465,9.914034843444824,2.7453086972236633,9951513313017858.0],\"y\":[0.24745424091815948,0.18107673153281212,0.18062767386436462,0.2917838990688324,0.18150850385427475,0.2921120226383209,0.3390817642211914,0.1938517466187477,0.18080054223537445,0.22385223954916,0.30033228918910027,0.18001408874988556,0.36110496520996094,0.23045691847801208,0.19983584061264992,0.18145718052983284,0.300634678453207,0.18249428644776344,0.3012692891061306,0.1805586814880371,0.18151003122329712,0.179512158036232,0.17940985783934593,0.1776863932609558,0.1784217208623886,0.17931987345218658,0.17940856888890266,0.18051982298493385,0.1803307607769966,0.18055195733904839,0.1810912862420082,0.17996812611818314,0.17928890883922577,0.19323212653398514,0.1801108494400978,0.18021013587713242,0.204006165266037,0.18093814700841904,0.3013862185180187,0.30080437660217285,0.18551310151815414,0.18171465769410133,0.18121807649731636,0.3012460172176361,0.17972959950566292,0.19533534348011017,0.18803881108760834,0.17757552862167358,0.1778937354683876,0.1799292042851448,0.17856911569833755,0.1770503930747509,0.18332720547914505,0.19447871297597885,0.1791129745543003,0.18584440276026726,0.17946646362543106,0.301001712679863,0.29395490884780884,0.3181852102279663,0.17762825265526772,0.1983233466744423,0.30173320695757866,0.17971305549144745,0.17977959290146828,0.18249138072133064,0.17843223735690117,0.30129194259643555,0.1789550967514515,10.0],\"type\":\"scatter\"},{\"hovertemplate\":\"%{text}\\u003cextra\\u003eBest Trial\\u003c\\u002fextra\\u003e\",\"marker\":{\"color\":[27,40,41,60,73],\"colorbar\":{\"title\":{\"text\":\"Best Trial\"},\"x\":1.1,\"xpad\":40},\"colorscale\":[[0.0,\"rgb(255,245,240)\"],[0.125,\"rgb(254,224,210)\"],[0.25,\"rgb(252,187,161)\"],[0.375,\"rgb(252,146,114)\"],[0.5,\"rgb(251,106,74)\"],[0.625,\"rgb(239,59,44)\"],[0.75,\"rgb(203,24,29)\"],[0.875,\"rgb(165,15,21)\"],[1.0,\"rgb(103,0,13)\"]],\"line\":{\"color\":\"Grey\",\"width\":0.5}},\"mode\":\"markers\",\"showlegend\":false,\"text\":[\"{\\u003cbr\\u003e  \\\"number\\\": 27,\\u003cbr\\u003e  \\\"values\\\": [\\u003cbr\\u003e    2.8274190425872803,\\u003cbr\\u003e    0.17791029810905457\\u003cbr\\u003e  ],\\u003cbr\\u003e  \\\"params\\\": {\\u003cbr\\u003e    \\\"chain_function_mean\\\": 10.682448662405733,\\u003cbr\\u003e    \\\"chain_function_std\\\": 0.5561631130804957,\\u003cbr\\u003e    \\\"chain_function_constant\\\": 0.00012523480475042816,\\u003cbr\\u003e    \\\"optimizer\\\": \\\"Adam\\\",\\u003cbr\\u003e    \\\"learning_rate\\\": 0.0009076767860821696,\\u003cbr\\u003e    \\\"forecast_distribution\\\": \\\"distr_trunc_normal\\\",\\u003cbr\\u003e    \\\"perform_batching\\\": true,\\u003cbr\\u003e    \\\"batch_size\\\": 128,\\u003cbr\\u003e    \\\"epochs\\\": 230\\u003cbr\\u003e  }\\u003cbr\\u003e}\",\"{\\u003cbr\\u003e  \\\"number\\\": 40,\\u003cbr\\u003e  \\\"values\\\": [\\u003cbr\\u003e    2.8216095566749573,\\u003cbr\\u003e    0.17792407795786858\\u003cbr\\u003e  ],\\u003cbr\\u003e  \\\"params\\\": {\\u003cbr\\u003e    \\\"chain_function_mean\\\": 9.295510900883679,\\u003cbr\\u003e    \\\"chain_function_std\\\": 0.7405279129371941,\\u003cbr\\u003e    \\\"chain_function_constant\\\": 8.967404388622808e-05,\\u003cbr\\u003e    \\\"optimizer\\\": \\\"Adam\\\",\\u003cbr\\u003e    \\\"learning_rate\\\": 0.001972206194570844,\\u003cbr\\u003e    \\\"forecast_distribution\\\": \\\"distr_trunc_normal\\\",\\u003cbr\\u003e    \\\"perform_batching\\\": true,\\u003cbr\\u003e    \\\"batch_size\\\": 128,\\u003cbr\\u003e    \\\"epochs\\\": 254\\u003cbr\\u003e  }\\u003cbr\\u003e}\",\"{\\u003cbr\\u003e  \\\"number\\\": 41,\\u003cbr\\u003e  \\\"values\\\": [\\u003cbr\\u003e    2.7417330145835876,\\u003cbr\\u003e    0.1784018538892269\\u003cbr\\u003e  ],\\u003cbr\\u003e  \\\"params\\\": {\\u003cbr\\u003e    \\\"chain_function_mean\\\": 9.003602626306296,\\u003cbr\\u003e    \\\"chain_function_std\\\": 2.8153878110701513,\\u003cbr\\u003e    \\\"chain_function_constant\\\": 0.0002701356249901794,\\u003cbr\\u003e    \\\"optimizer\\\": \\\"Adam\\\",\\u003cbr\\u003e    \\\"learning_rate\\\": 0.003140937676345873,\\u003cbr\\u003e    \\\"forecast_distribution\\\": \\\"distr_trunc_normal\\\",\\u003cbr\\u003e    \\\"perform_batching\\\": true,\\u003cbr\\u003e    \\\"batch_size\\\": 128,\\u003cbr\\u003e    \\\"epochs\\\": 261\\u003cbr\\u003e  }\\u003cbr\\u003e}\",\"{\\u003cbr\\u003e  \\\"number\\\": 60,\\u003cbr\\u003e  \\\"values\\\": [\\u003cbr\\u003e    2.845130443572998,\\u003cbr\\u003e    0.1761699542403221\\u003cbr\\u003e  ],\\u003cbr\\u003e  \\\"params\\\": {\\u003cbr\\u003e    \\\"chain_function_mean\\\": 10.816164399855145,\\u003cbr\\u003e    \\\"chain_function_std\\\": 1.7859319383959147,\\u003cbr\\u003e    \\\"chain_function_constant\\\": 0.0002098891764671806,\\u003cbr\\u003e    \\\"optimizer\\\": \\\"Adam\\\",\\u003cbr\\u003e    \\\"learning_rate\\\": 0.011948837088205922,\\u003cbr\\u003e    \\\"forecast_distribution\\\": \\\"distr_trunc_normal\\\",\\u003cbr\\u003e    \\\"perform_batching\\\": true,\\u003cbr\\u003e    \\\"batch_size\\\": 128,\\u003cbr\\u003e    \\\"epochs\\\": 290\\u003cbr\\u003e  }\\u003cbr\\u003e}\",\"{\\u003cbr\\u003e  \\\"number\\\": 73,\\u003cbr\\u003e  \\\"values\\\": [\\u003cbr\\u003e    2.701168477535248,\\u003cbr\\u003e    0.17878421396017075\\u003cbr\\u003e  ],\\u003cbr\\u003e  \\\"params\\\": {\\u003cbr\\u003e    \\\"chain_function_mean\\\": 8.145216272635377,\\u003cbr\\u003e    \\\"chain_function_std\\\": 7.913397737903944,\\u003cbr\\u003e    \\\"chain_function_constant\\\": 0.00010370746942155904,\\u003cbr\\u003e    \\\"optimizer\\\": \\\"Adam\\\",\\u003cbr\\u003e    \\\"learning_rate\\\": 0.011093586363027527,\\u003cbr\\u003e    \\\"forecast_distribution\\\": \\\"distr_mixture_linear\\\",\\u003cbr\\u003e    \\\"distribution_1\\\": \\\"distr_trunc_normal\\\",\\u003cbr\\u003e    \\\"distribution_2\\\": \\\"distr_gev\\\",\\u003cbr\\u003e    \\\"perform_batching\\\": true,\\u003cbr\\u003e    \\\"batch_size\\\": 128,\\u003cbr\\u003e    \\\"epochs\\\": 315\\u003cbr\\u003e  }\\u003cbr\\u003e}\"],\"x\":[2.8274190425872803,2.8216095566749573,2.7417330145835876,2.845130443572998,2.701168477535248],\"y\":[0.17791029810905457,0.17792407795786858,0.1784018538892269,0.1761699542403221,0.17878421396017075],\"type\":\"scatter\"}],                        {\"title\":{\"text\":\"Pareto-front Plot\"},\"xaxis\":{\"title\":{\"text\":\"CRPS\"}},\"yaxis\":{\"title\":{\"text\":\"twCRPS12\"}},\"template\":{\"data\":{\"histogram2dcontour\":[{\"type\":\"histogram2dcontour\",\"colorbar\":{\"outlinewidth\":0,\"ticks\":\"\"},\"colorscale\":[[0.0,\"#0d0887\"],[0.1111111111111111,\"#46039f\"],[0.2222222222222222,\"#7201a8\"],[0.3333333333333333,\"#9c179e\"],[0.4444444444444444,\"#bd3786\"],[0.5555555555555556,\"#d8576b\"],[0.6666666666666666,\"#ed7953\"],[0.7777777777777778,\"#fb9f3a\"],[0.8888888888888888,\"#fdca26\"],[1.0,\"#f0f921\"]]}],\"choropleth\":[{\"type\":\"choropleth\",\"colorbar\":{\"outlinewidth\":0,\"ticks\":\"\"}}],\"histogram2d\":[{\"type\":\"histogram2d\",\"colorbar\":{\"outlinewidth\":0,\"ticks\":\"\"},\"colorscale\":[[0.0,\"#0d0887\"],[0.1111111111111111,\"#46039f\"],[0.2222222222222222,\"#7201a8\"],[0.3333333333333333,\"#9c179e\"],[0.4444444444444444,\"#bd3786\"],[0.5555555555555556,\"#d8576b\"],[0.6666666666666666,\"#ed7953\"],[0.7777777777777778,\"#fb9f3a\"],[0.8888888888888888,\"#fdca26\"],[1.0,\"#f0f921\"]]}],\"heatmap\":[{\"type\":\"heatmap\",\"colorbar\":{\"outlinewidth\":0,\"ticks\":\"\"},\"colorscale\":[[0.0,\"#0d0887\"],[0.1111111111111111,\"#46039f\"],[0.2222222222222222,\"#7201a8\"],[0.3333333333333333,\"#9c179e\"],[0.4444444444444444,\"#bd3786\"],[0.5555555555555556,\"#d8576b\"],[0.6666666666666666,\"#ed7953\"],[0.7777777777777778,\"#fb9f3a\"],[0.8888888888888888,\"#fdca26\"],[1.0,\"#f0f921\"]]}],\"heatmapgl\":[{\"type\":\"heatmapgl\",\"colorbar\":{\"outlinewidth\":0,\"ticks\":\"\"},\"colorscale\":[[0.0,\"#0d0887\"],[0.1111111111111111,\"#46039f\"],[0.2222222222222222,\"#7201a8\"],[0.3333333333333333,\"#9c179e\"],[0.4444444444444444,\"#bd3786\"],[0.5555555555555556,\"#d8576b\"],[0.6666666666666666,\"#ed7953\"],[0.7777777777777778,\"#fb9f3a\"],[0.8888888888888888,\"#fdca26\"],[1.0,\"#f0f921\"]]}],\"contourcarpet\":[{\"type\":\"contourcarpet\",\"colorbar\":{\"outlinewidth\":0,\"ticks\":\"\"}}],\"contour\":[{\"type\":\"contour\",\"colorbar\":{\"outlinewidth\":0,\"ticks\":\"\"},\"colorscale\":[[0.0,\"#0d0887\"],[0.1111111111111111,\"#46039f\"],[0.2222222222222222,\"#7201a8\"],[0.3333333333333333,\"#9c179e\"],[0.4444444444444444,\"#bd3786\"],[0.5555555555555556,\"#d8576b\"],[0.6666666666666666,\"#ed7953\"],[0.7777777777777778,\"#fb9f3a\"],[0.8888888888888888,\"#fdca26\"],[1.0,\"#f0f921\"]]}],\"surface\":[{\"type\":\"surface\",\"colorbar\":{\"outlinewidth\":0,\"ticks\":\"\"},\"colorscale\":[[0.0,\"#0d0887\"],[0.1111111111111111,\"#46039f\"],[0.2222222222222222,\"#7201a8\"],[0.3333333333333333,\"#9c179e\"],[0.4444444444444444,\"#bd3786\"],[0.5555555555555556,\"#d8576b\"],[0.6666666666666666,\"#ed7953\"],[0.7777777777777778,\"#fb9f3a\"],[0.8888888888888888,\"#fdca26\"],[1.0,\"#f0f921\"]]}],\"mesh3d\":[{\"type\":\"mesh3d\",\"colorbar\":{\"outlinewidth\":0,\"ticks\":\"\"}}],\"scatter\":[{\"fillpattern\":{\"fillmode\":\"overlay\",\"size\":10,\"solidity\":0.2},\"type\":\"scatter\"}],\"parcoords\":[{\"type\":\"parcoords\",\"line\":{\"colorbar\":{\"outlinewidth\":0,\"ticks\":\"\"}}}],\"scatterpolargl\":[{\"type\":\"scatterpolargl\",\"marker\":{\"colorbar\":{\"outlinewidth\":0,\"ticks\":\"\"}}}],\"bar\":[{\"error_x\":{\"color\":\"#2a3f5f\"},\"error_y\":{\"color\":\"#2a3f5f\"},\"marker\":{\"line\":{\"color\":\"#E5ECF6\",\"width\":0.5},\"pattern\":{\"fillmode\":\"overlay\",\"size\":10,\"solidity\":0.2}},\"type\":\"bar\"}],\"scattergeo\":[{\"type\":\"scattergeo\",\"marker\":{\"colorbar\":{\"outlinewidth\":0,\"ticks\":\"\"}}}],\"scatterpolar\":[{\"type\":\"scatterpolar\",\"marker\":{\"colorbar\":{\"outlinewidth\":0,\"ticks\":\"\"}}}],\"histogram\":[{\"marker\":{\"pattern\":{\"fillmode\":\"overlay\",\"size\":10,\"solidity\":0.2}},\"type\":\"histogram\"}],\"scattergl\":[{\"type\":\"scattergl\",\"marker\":{\"colorbar\":{\"outlinewidth\":0,\"ticks\":\"\"}}}],\"scatter3d\":[{\"type\":\"scatter3d\",\"line\":{\"colorbar\":{\"outlinewidth\":0,\"ticks\":\"\"}},\"marker\":{\"colorbar\":{\"outlinewidth\":0,\"ticks\":\"\"}}}],\"scattermapbox\":[{\"type\":\"scattermapbox\",\"marker\":{\"colorbar\":{\"outlinewidth\":0,\"ticks\":\"\"}}}],\"scatterternary\":[{\"type\":\"scatterternary\",\"marker\":{\"colorbar\":{\"outlinewidth\":0,\"ticks\":\"\"}}}],\"scattercarpet\":[{\"type\":\"scattercarpet\",\"marker\":{\"colorbar\":{\"outlinewidth\":0,\"ticks\":\"\"}}}],\"carpet\":[{\"aaxis\":{\"endlinecolor\":\"#2a3f5f\",\"gridcolor\":\"white\",\"linecolor\":\"white\",\"minorgridcolor\":\"white\",\"startlinecolor\":\"#2a3f5f\"},\"baxis\":{\"endlinecolor\":\"#2a3f5f\",\"gridcolor\":\"white\",\"linecolor\":\"white\",\"minorgridcolor\":\"white\",\"startlinecolor\":\"#2a3f5f\"},\"type\":\"carpet\"}],\"table\":[{\"cells\":{\"fill\":{\"color\":\"#EBF0F8\"},\"line\":{\"color\":\"white\"}},\"header\":{\"fill\":{\"color\":\"#C8D4E3\"},\"line\":{\"color\":\"white\"}},\"type\":\"table\"}],\"barpolar\":[{\"marker\":{\"line\":{\"color\":\"#E5ECF6\",\"width\":0.5},\"pattern\":{\"fillmode\":\"overlay\",\"size\":10,\"solidity\":0.2}},\"type\":\"barpolar\"}],\"pie\":[{\"automargin\":true,\"type\":\"pie\"}]},\"layout\":{\"autotypenumbers\":\"strict\",\"colorway\":[\"#636efa\",\"#EF553B\",\"#00cc96\",\"#ab63fa\",\"#FFA15A\",\"#19d3f3\",\"#FF6692\",\"#B6E880\",\"#FF97FF\",\"#FECB52\"],\"font\":{\"color\":\"#2a3f5f\"},\"hovermode\":\"closest\",\"hoverlabel\":{\"align\":\"left\"},\"paper_bgcolor\":\"white\",\"plot_bgcolor\":\"#E5ECF6\",\"polar\":{\"bgcolor\":\"#E5ECF6\",\"angularaxis\":{\"gridcolor\":\"white\",\"linecolor\":\"white\",\"ticks\":\"\"},\"radialaxis\":{\"gridcolor\":\"white\",\"linecolor\":\"white\",\"ticks\":\"\"}},\"ternary\":{\"bgcolor\":\"#E5ECF6\",\"aaxis\":{\"gridcolor\":\"white\",\"linecolor\":\"white\",\"ticks\":\"\"},\"baxis\":{\"gridcolor\":\"white\",\"linecolor\":\"white\",\"ticks\":\"\"},\"caxis\":{\"gridcolor\":\"white\",\"linecolor\":\"white\",\"ticks\":\"\"}},\"coloraxis\":{\"colorbar\":{\"outlinewidth\":0,\"ticks\":\"\"}},\"colorscale\":{\"sequential\":[[0.0,\"#0d0887\"],[0.1111111111111111,\"#46039f\"],[0.2222222222222222,\"#7201a8\"],[0.3333333333333333,\"#9c179e\"],[0.4444444444444444,\"#bd3786\"],[0.5555555555555556,\"#d8576b\"],[0.6666666666666666,\"#ed7953\"],[0.7777777777777778,\"#fb9f3a\"],[0.8888888888888888,\"#fdca26\"],[1.0,\"#f0f921\"]],\"sequentialminus\":[[0.0,\"#0d0887\"],[0.1111111111111111,\"#46039f\"],[0.2222222222222222,\"#7201a8\"],[0.3333333333333333,\"#9c179e\"],[0.4444444444444444,\"#bd3786\"],[0.5555555555555556,\"#d8576b\"],[0.6666666666666666,\"#ed7953\"],[0.7777777777777778,\"#fb9f3a\"],[0.8888888888888888,\"#fdca26\"],[1.0,\"#f0f921\"]],\"diverging\":[[0,\"#8e0152\"],[0.1,\"#c51b7d\"],[0.2,\"#de77ae\"],[0.3,\"#f1b6da\"],[0.4,\"#fde0ef\"],[0.5,\"#f7f7f7\"],[0.6,\"#e6f5d0\"],[0.7,\"#b8e186\"],[0.8,\"#7fbc41\"],[0.9,\"#4d9221\"],[1,\"#276419\"]]},\"xaxis\":{\"gridcolor\":\"white\",\"linecolor\":\"white\",\"ticks\":\"\",\"title\":{\"standoff\":15},\"zerolinecolor\":\"white\",\"automargin\":true,\"zerolinewidth\":2},\"yaxis\":{\"gridcolor\":\"white\",\"linecolor\":\"white\",\"ticks\":\"\",\"title\":{\"standoff\":15},\"zerolinecolor\":\"white\",\"automargin\":true,\"zerolinewidth\":2},\"scene\":{\"xaxis\":{\"backgroundcolor\":\"#E5ECF6\",\"gridcolor\":\"white\",\"linecolor\":\"white\",\"showbackground\":true,\"ticks\":\"\",\"zerolinecolor\":\"white\",\"gridwidth\":2},\"yaxis\":{\"backgroundcolor\":\"#E5ECF6\",\"gridcolor\":\"white\",\"linecolor\":\"white\",\"showbackground\":true,\"ticks\":\"\",\"zerolinecolor\":\"white\",\"gridwidth\":2},\"zaxis\":{\"backgroundcolor\":\"#E5ECF6\",\"gridcolor\":\"white\",\"linecolor\":\"white\",\"showbackground\":true,\"ticks\":\"\",\"zerolinecolor\":\"white\",\"gridwidth\":2}},\"shapedefaults\":{\"line\":{\"color\":\"#2a3f5f\"}},\"annotationdefaults\":{\"arrowcolor\":\"#2a3f5f\",\"arrowhead\":0,\"arrowwidth\":1},\"geo\":{\"bgcolor\":\"white\",\"landcolor\":\"#E5ECF6\",\"subunitcolor\":\"white\",\"showland\":true,\"showlakes\":true,\"lakecolor\":\"white\"},\"title\":{\"x\":0.05},\"mapbox\":{\"style\":\"light\"}}}},                        {\"responsive\": true}                    ).then(function(){\n",
       "                            \n",
       "var gd = document.getElementById('91d8fc7d-874c-4bb1-9e83-f4d63dfa9356');\n",
       "var x = new MutationObserver(function (mutations, observer) {{\n",
       "        var display = window.getComputedStyle(gd).display;\n",
       "        if (!display || display === 'none') {{\n",
       "            console.log([gd, 'removed!']);\n",
       "            Plotly.purge(gd);\n",
       "            observer.disconnect();\n",
       "        }}\n",
       "}});\n",
       "\n",
       "// Listen for the removal of the full notebook cells\n",
       "var notebookContainer = gd.closest('#notebook-container');\n",
       "if (notebookContainer) {{\n",
       "    x.observe(notebookContainer, {childList: true});\n",
       "}}\n",
       "\n",
       "// Listen for the clearing of the current output cell\n",
       "var outputEl = gd.closest('.output');\n",
       "if (outputEl) {{\n",
       "    x.observe(outputEl, {childList: true});\n",
       "}}\n",
       "\n",
       "                        })                };                });            </script>        </div>"
      ]
     },
     "metadata": {},
     "output_type": "display_data"
    }
   ],
   "source": [
    "optuna.visualization.plot_pareto_front(study2)"
   ]
  },
  {
   "cell_type": "code",
   "execution_count": 187,
   "metadata": {},
   "outputs": [
    {
     "name": "stdout",
     "output_type": "stream",
     "text": [
      "Index(['number', 'CRPS', 'twCRPS12', 'datetime_start', 'datetime_complete',\n",
      "       'duration', 'batch_size', 'cf_constant', 'cf_mean', 'cf_std',\n",
      "       'distribution_1', 'distribution_2', 'epochs', 'forecast_distribution',\n",
      "       'learning_rate', 'optimizer', 'params_perform_batching', 'state'],\n",
      "      dtype='object')\n"
     ]
    }
   ],
   "source": [
    "df = study2.trials_dataframe()\n",
    "\n",
    "new_column_names = {\n",
    "    'params_chain_function_mean': 'cf_mean',\n",
    "    'params_chain_function_std': 'cf_std',\n",
    "    'params_chain_function_constant': 'cf_constant',\n",
    "    'values_CRPS': 'CRPS',\n",
    "    'values_twCRPS12': 'twCRPS12',\n",
    "    'params_forecast_distribution': 'forecast_distribution',\n",
    "    'params_distribution_1': 'distribution_1',\n",
    "    'params_distribution_2': 'distribution_2',\n",
    "    'params_epochs': 'epochs',\n",
    "    'params_learning_rate': 'learning_rate',\n",
    "    'params_batch_size': 'batch_size',\n",
    "    'params_optimizer': 'optimizer'\n",
    "}\n",
    "\n",
    "df.rename(columns=new_column_names, inplace=True)\n",
    "\n",
    "print(df.columns)"
   ]
  },
  {
   "cell_type": "code",
   "execution_count": 188,
   "metadata": {},
   "outputs": [],
   "source": [
    "top_CRPS = df.sort_values('CRPS').head(5)"
   ]
  },
  {
   "cell_type": "code",
   "execution_count": 189,
   "metadata": {},
   "outputs": [],
   "source": [
    "top_twCRPS12 = df.sort_values('twCRPS12').head(5)"
   ]
  },
  {
   "cell_type": "code",
   "execution_count": 190,
   "metadata": {},
   "outputs": [],
   "source": [
    "\n",
    "pareto_front = study2.best_trials\n",
    "best_runs = [trial.number for trial in pareto_front]\n",
    "\n",
    "pareto_trials = df['number'].isin(best_runs)\n",
    "\n",
    "my_run = df[pareto_trials]\n"
   ]
  },
  {
   "cell_type": "code",
   "execution_count": 191,
   "metadata": {},
   "outputs": [],
   "source": [
    "params = ['cf_mean',\n",
    "           'cf_std', \n",
    "           'cf_constant',\n",
    "             'forecast_distribution', \n",
    "             'CRPS', \n",
    "             'twCRPS12',\n",
    "             ]"
   ]
  },
  {
   "cell_type": "code",
   "execution_count": 192,
   "metadata": {},
   "outputs": [
    {
     "data": {
      "text/html": [
       "<div>\n",
       "<style scoped>\n",
       "    .dataframe tbody tr th:only-of-type {\n",
       "        vertical-align: middle;\n",
       "    }\n",
       "\n",
       "    .dataframe tbody tr th {\n",
       "        vertical-align: top;\n",
       "    }\n",
       "\n",
       "    .dataframe thead th {\n",
       "        text-align: right;\n",
       "    }\n",
       "</style>\n",
       "<table border=\"1\" class=\"dataframe\">\n",
       "  <thead>\n",
       "    <tr style=\"text-align: right;\">\n",
       "      <th></th>\n",
       "      <th>cf_mean</th>\n",
       "      <th>cf_std</th>\n",
       "      <th>cf_constant</th>\n",
       "      <th>forecast_distribution</th>\n",
       "      <th>CRPS</th>\n",
       "      <th>twCRPS12</th>\n",
       "    </tr>\n",
       "  </thead>\n",
       "  <tbody>\n",
       "    <tr>\n",
       "      <th>73</th>\n",
       "      <td>8.145216</td>\n",
       "      <td>7.913398</td>\n",
       "      <td>0.000104</td>\n",
       "      <td>distr_mixture_linear</td>\n",
       "      <td>2.701168</td>\n",
       "      <td>0.178784</td>\n",
       "    </tr>\n",
       "    <tr>\n",
       "      <th>77</th>\n",
       "      <td>11.201177</td>\n",
       "      <td>7.358788</td>\n",
       "      <td>0.000272</td>\n",
       "      <td>distr_mixture_linear</td>\n",
       "      <td>2.703183</td>\n",
       "      <td>0.179080</td>\n",
       "    </tr>\n",
       "    <tr>\n",
       "      <th>30</th>\n",
       "      <td>-2.596332</td>\n",
       "      <td>9.524594</td>\n",
       "      <td>0.690616</td>\n",
       "      <td>distr_trunc_normal</td>\n",
       "      <td>2.706669</td>\n",
       "      <td>0.180552</td>\n",
       "    </tr>\n",
       "    <tr>\n",
       "      <th>1</th>\n",
       "      <td>-3.158933</td>\n",
       "      <td>0.000276</td>\n",
       "      <td>0.009416</td>\n",
       "      <td>distr_mixture_linear</td>\n",
       "      <td>2.706887</td>\n",
       "      <td>0.181077</td>\n",
       "    </tr>\n",
       "    <tr>\n",
       "      <th>29</th>\n",
       "      <td>-0.482392</td>\n",
       "      <td>5.689483</td>\n",
       "      <td>1.633704</td>\n",
       "      <td>distr_trunc_normal</td>\n",
       "      <td>2.707357</td>\n",
       "      <td>0.180331</td>\n",
       "    </tr>\n",
       "  </tbody>\n",
       "</table>\n",
       "</div>"
      ],
      "text/plain": [
       "      cf_mean    cf_std  cf_constant forecast_distribution      CRPS  twCRPS12\n",
       "73   8.145216  7.913398     0.000104  distr_mixture_linear  2.701168  0.178784\n",
       "77  11.201177  7.358788     0.000272  distr_mixture_linear  2.703183  0.179080\n",
       "30  -2.596332  9.524594     0.690616    distr_trunc_normal  2.706669  0.180552\n",
       "1   -3.158933  0.000276     0.009416  distr_mixture_linear  2.706887  0.181077\n",
       "29  -0.482392  5.689483     1.633704    distr_trunc_normal  2.707357  0.180331"
      ]
     },
     "metadata": {},
     "output_type": "display_data"
    }
   ],
   "source": [
    "display(top_CRPS[params])"
   ]
  },
  {
   "cell_type": "code",
   "execution_count": 193,
   "metadata": {},
   "outputs": [
    {
     "data": {
      "text/html": [
       "<div>\n",
       "<style scoped>\n",
       "    .dataframe tbody tr th:only-of-type {\n",
       "        vertical-align: middle;\n",
       "    }\n",
       "\n",
       "    .dataframe tbody tr th {\n",
       "        vertical-align: top;\n",
       "    }\n",
       "\n",
       "    .dataframe thead th {\n",
       "        text-align: right;\n",
       "    }\n",
       "</style>\n",
       "<table border=\"1\" class=\"dataframe\">\n",
       "  <thead>\n",
       "    <tr style=\"text-align: right;\">\n",
       "      <th></th>\n",
       "      <th>cf_mean</th>\n",
       "      <th>cf_std</th>\n",
       "      <th>cf_constant</th>\n",
       "      <th>forecast_distribution</th>\n",
       "      <th>CRPS</th>\n",
       "      <th>twCRPS12</th>\n",
       "    </tr>\n",
       "  </thead>\n",
       "  <tbody>\n",
       "    <tr>\n",
       "      <th>60</th>\n",
       "      <td>10.816164</td>\n",
       "      <td>1.785932</td>\n",
       "      <td>0.000210</td>\n",
       "      <td>distr_trunc_normal</td>\n",
       "      <td>2.845130</td>\n",
       "      <td>0.176170</td>\n",
       "    </tr>\n",
       "    <tr>\n",
       "      <th>54</th>\n",
       "      <td>12.199493</td>\n",
       "      <td>1.329734</td>\n",
       "      <td>0.000066</td>\n",
       "      <td>distr_trunc_normal</td>\n",
       "      <td>3.031583</td>\n",
       "      <td>0.177050</td>\n",
       "    </tr>\n",
       "    <tr>\n",
       "      <th>50</th>\n",
       "      <td>11.881624</td>\n",
       "      <td>1.164704</td>\n",
       "      <td>0.000083</td>\n",
       "      <td>distr_trunc_normal</td>\n",
       "      <td>3.035117</td>\n",
       "      <td>0.177576</td>\n",
       "    </tr>\n",
       "    <tr>\n",
       "      <th>64</th>\n",
       "      <td>9.448122</td>\n",
       "      <td>0.000117</td>\n",
       "      <td>0.001009</td>\n",
       "      <td>distr_mixture</td>\n",
       "      <td>2.869211</td>\n",
       "      <td>0.177628</td>\n",
       "    </tr>\n",
       "    <tr>\n",
       "      <th>23</th>\n",
       "      <td>10.560683</td>\n",
       "      <td>0.414968</td>\n",
       "      <td>0.000202</td>\n",
       "      <td>distr_trunc_normal</td>\n",
       "      <td>2.999791</td>\n",
       "      <td>0.177686</td>\n",
       "    </tr>\n",
       "  </tbody>\n",
       "</table>\n",
       "</div>"
      ],
      "text/plain": [
       "      cf_mean    cf_std  cf_constant forecast_distribution      CRPS  twCRPS12\n",
       "60  10.816164  1.785932     0.000210    distr_trunc_normal  2.845130  0.176170\n",
       "54  12.199493  1.329734     0.000066    distr_trunc_normal  3.031583  0.177050\n",
       "50  11.881624  1.164704     0.000083    distr_trunc_normal  3.035117  0.177576\n",
       "64   9.448122  0.000117     0.001009         distr_mixture  2.869211  0.177628\n",
       "23  10.560683  0.414968     0.000202    distr_trunc_normal  2.999791  0.177686"
      ]
     },
     "metadata": {},
     "output_type": "display_data"
    }
   ],
   "source": [
    "display(top_twCRPS12[params])"
   ]
  },
  {
   "cell_type": "code",
   "execution_count": 194,
   "metadata": {},
   "outputs": [
    {
     "data": {
      "text/html": [
       "<div>\n",
       "<style scoped>\n",
       "    .dataframe tbody tr th:only-of-type {\n",
       "        vertical-align: middle;\n",
       "    }\n",
       "\n",
       "    .dataframe tbody tr th {\n",
       "        vertical-align: top;\n",
       "    }\n",
       "\n",
       "    .dataframe thead th {\n",
       "        text-align: right;\n",
       "    }\n",
       "</style>\n",
       "<table border=\"1\" class=\"dataframe\">\n",
       "  <thead>\n",
       "    <tr style=\"text-align: right;\">\n",
       "      <th></th>\n",
       "      <th>cf_mean</th>\n",
       "      <th>cf_std</th>\n",
       "      <th>cf_constant</th>\n",
       "      <th>forecast_distribution</th>\n",
       "      <th>CRPS</th>\n",
       "      <th>twCRPS12</th>\n",
       "    </tr>\n",
       "  </thead>\n",
       "  <tbody>\n",
       "    <tr>\n",
       "      <th>73</th>\n",
       "      <td>8.145216</td>\n",
       "      <td>7.913398</td>\n",
       "      <td>0.000104</td>\n",
       "      <td>distr_mixture_linear</td>\n",
       "      <td>2.701168</td>\n",
       "      <td>0.178784</td>\n",
       "    </tr>\n",
       "    <tr>\n",
       "      <th>75</th>\n",
       "      <td>9.197862</td>\n",
       "      <td>2.935806</td>\n",
       "      <td>0.000895</td>\n",
       "      <td>distr_mixture_linear</td>\n",
       "      <td>2.733251</td>\n",
       "      <td>0.177762</td>\n",
       "    </tr>\n",
       "    <tr>\n",
       "      <th>60</th>\n",
       "      <td>10.816164</td>\n",
       "      <td>1.785932</td>\n",
       "      <td>0.000210</td>\n",
       "      <td>distr_trunc_normal</td>\n",
       "      <td>2.845130</td>\n",
       "      <td>0.176170</td>\n",
       "    </tr>\n",
       "  </tbody>\n",
       "</table>\n",
       "</div>"
      ],
      "text/plain": [
       "      cf_mean    cf_std  cf_constant forecast_distribution      CRPS  twCRPS12\n",
       "73   8.145216  7.913398     0.000104  distr_mixture_linear  2.701168  0.178784\n",
       "75   9.197862  2.935806     0.000895  distr_mixture_linear  2.733251  0.177762\n",
       "60  10.816164  1.785932     0.000210    distr_trunc_normal  2.845130  0.176170"
      ]
     },
     "metadata": {},
     "output_type": "display_data"
    }
   ],
   "source": [
    "my_run = my_run.sort_values('CRPS')\n",
    "display(my_run[params])"
   ]
  }
 ],
 "metadata": {
  "kernelspec": {
   "display_name": "Python 3",
   "language": "python",
   "name": "python3"
  },
  "language_info": {
   "codemirror_mode": {
    "name": "ipython",
    "version": 3
   },
   "file_extension": ".py",
   "mimetype": "text/x-python",
   "name": "python",
   "nbconvert_exporter": "python",
   "pygments_lexer": "ipython3",
   "version": "3.12.3"
  }
 },
 "nbformat": 4,
 "nbformat_minor": 2
}
