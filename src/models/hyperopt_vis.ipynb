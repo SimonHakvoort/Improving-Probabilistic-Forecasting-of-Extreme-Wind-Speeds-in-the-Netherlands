{
 "cells": [
  {
   "cell_type": "code",
   "execution_count": 1,
   "metadata": {},
   "outputs": [],
   "source": [
    "import optuna\n",
    "import pickle\n",
    "import plotly "
   ]
  },
  {
   "cell_type": "code",
   "execution_count": 2,
   "metadata": {},
   "outputs": [],
   "source": [
    "study_name = \"crps_obj_CRPS_twCRPS12_MOTPE.pkl\"\n",
    "filepath = '/net/pc200239/nobackup/users/hakvoort/hyperopt/hyperopt_emos/'\n",
    "\n",
    "study = pickle.load(open(filepath + study_name, 'rb'))"
   ]
  },
  {
   "cell_type": "code",
   "execution_count": 3,
   "metadata": {},
   "outputs": [
    {
     "name": "stdout",
     "output_type": "stream",
     "text": [
      "{'chain_function_mean': 9.740838762394072, 'chain_function_std': 2.2525553280046933, 'chain_function_constant': 0.3614450801580585, 'optimizer': 'Adam', 'learning_rate': 0.06543755067006281, 'forecast_distribution': 'distr_trunc_normal', 'perform_batching': False, 'epochs': 511}\n",
      "[0.8872740864753723, 0.06216616928577423]\n",
      "\n",
      "{'chain_function_mean': 8.86543346748238, 'chain_function_std': 0.0153188130495292, 'chain_function_constant': 0.12907501096642482, 'optimizer': 'SGD', 'learning_rate': 0.050750550753121924, 'forecast_distribution': 'distr_trunc_normal', 'perform_batching': True, 'batch_size': 111, 'epochs': 570}\n",
      "[0.8876388669013977, 0.061799779534339905]\n",
      "\n",
      "{'chain_function_mean': 8.961787428122632, 'chain_function_std': 1.5232658267824235, 'chain_function_constant': 0.0009608066730378219, 'optimizer': 'SGD', 'learning_rate': 0.07228549130694825, 'forecast_distribution': 'distr_gev', 'perform_batching': True, 'batch_size': 93, 'epochs': 59}\n",
      "[0.9566889405250549, 0.061194151639938354]\n",
      "\n",
      "{'chain_function_mean': 9.213001357346492, 'chain_function_std': 2.032203641711151, 'chain_function_constant': 0.04632118073236255, 'optimizer': 'SGD', 'learning_rate': 0.06633984261929472, 'forecast_distribution': 'distr_trunc_normal', 'perform_batching': True, 'batch_size': 166, 'epochs': 318}\n",
      "[0.8894206881523132, 0.06172030419111252]\n",
      "\n",
      "{'chain_function_mean': 10.251658446413959, 'chain_function_std': 2.4453591339972425, 'chain_function_constant': 0.028573999970733795, 'optimizer': 'Adam', 'learning_rate': 0.0706928922299608, 'forecast_distribution': 'distr_mixture', 'distribution_1': 'distr_trunc_normal', 'distribution_2': 'distr_gev', 'perform_batching': False, 'epochs': 145}\n",
      "[0.8999050259590149, 0.061430491507053375]\n",
      "\n",
      "{'chain_function_mean': 10.396100346338926, 'chain_function_std': 2.8081555303410437, 'chain_function_constant': 0.06712697107462073, 'optimizer': 'Adam', 'learning_rate': 0.07384253646569386, 'forecast_distribution': 'distr_mixture', 'distribution_1': 'distr_trunc_normal', 'distribution_2': 'distr_gev', 'perform_batching': False, 'epochs': 149}\n",
      "[0.8887482285499573, 0.061731331050395966]\n",
      "\n",
      "{'chain_function_mean': 10.396499921476815, 'chain_function_std': 2.792503190937354, 'chain_function_constant': 0.037497659855031854, 'optimizer': 'Adam', 'learning_rate': 0.07432634803988825, 'forecast_distribution': 'distr_mixture', 'distribution_1': 'distr_trunc_normal', 'distribution_2': 'distr_gev', 'perform_batching': False, 'epochs': 250}\n",
      "[0.8932486176490784, 0.06171266734600067]\n",
      "\n",
      "{'chain_function_mean': 11.256053803209028, 'chain_function_std': 2.772554701758939, 'chain_function_constant': 0.026183239771406686, 'optimizer': 'Adam', 'learning_rate': 0.07138518361961059, 'forecast_distribution': 'distr_mixture', 'distribution_1': 'distr_trunc_normal', 'distribution_2': 'distr_gev', 'perform_batching': False, 'epochs': 247}\n",
      "[0.8974748253822327, 0.061704471707344055]\n",
      "\n",
      "{'chain_function_mean': 9.723680383860225, 'chain_function_std': 2.271575703495183, 'chain_function_constant': 0.023013102328618504, 'optimizer': 'Adam', 'learning_rate': 0.07633902097197792, 'forecast_distribution': 'distr_mixture', 'distribution_1': 'distr_trunc_normal', 'distribution_2': 'distr_gev', 'perform_batching': False, 'epochs': 146}\n",
      "[0.9003955721855164, 0.061403125524520874]\n",
      "\n"
     ]
    }
   ],
   "source": [
    "best_trials = study.best_trials\n",
    "\n",
    "for trial in best_trials:\n",
    "    print(trial.params)\n",
    "    print(trial.values)\n",
    "    print()\n"
   ]
  },
  {
   "cell_type": "code",
   "execution_count": 5,
   "metadata": {},
   "outputs": [
    {
     "data": {
      "application/vnd.plotly.v1+json": {
       "config": {
        "plotlyServerURL": "https://plot.ly"
       },
       "data": [
        {
         "hovertemplate": "%{text}<extra>Trial</extra>",
         "marker": {
          "color": [
           0,
           1,
           2,
           4,
           5,
           6,
           7,
           8,
           9,
           10,
           11,
           12,
           13,
           14,
           15,
           17,
           18,
           19,
           20,
           25,
           26,
           27,
           28,
           29,
           30,
           31,
           32,
           33,
           34,
           35,
           38,
           39,
           40,
           41,
           42,
           43,
           44,
           45,
           46,
           47,
           48,
           49,
           50,
           51,
           52,
           53,
           54,
           55,
           57,
           59,
           60,
           61,
           62,
           64,
           65,
           66,
           68,
           69,
           70,
           71,
           72,
           73,
           74,
           75,
           76,
           77,
           78,
           79,
           82,
           83,
           85,
           86,
           87,
           89,
           90,
           92,
           94,
           96,
           97,
           98,
           99,
           100,
           101,
           102,
           103,
           104,
           110,
           114,
           115,
           116,
           117,
           118,
           120,
           122,
           123,
           124,
           125,
           127,
           131,
           132,
           138,
           142,
           143,
           144,
           146,
           147,
           148,
           150,
           151,
           152,
           153,
           155,
           156,
           157,
           158,
           162,
           163,
           164,
           165,
           166,
           168,
           169,
           170,
           172,
           173,
           176,
           178,
           179,
           180,
           181,
           183,
           184,
           186,
           187,
           188,
           189,
           190,
           191,
           192,
           193,
           194,
           195,
           196,
           197,
           198,
           199,
           201,
           203,
           204,
           205,
           206,
           207,
           208,
           209,
           210,
           211,
           213,
           214,
           215,
           216,
           217,
           219,
           220,
           221,
           222,
           223,
           224,
           225,
           226,
           227,
           228,
           229,
           230,
           231,
           232,
           233,
           234,
           235,
           236,
           238,
           240,
           241,
           242,
           243,
           244,
           245,
           246,
           247,
           248,
           249
          ],
          "colorbar": {
           "title": {
            "text": "Trial"
           }
          },
          "colorscale": [
           [
            0,
            "rgb(247,251,255)"
           ],
           [
            0.125,
            "rgb(222,235,247)"
           ],
           [
            0.25,
            "rgb(198,219,239)"
           ],
           [
            0.375,
            "rgb(158,202,225)"
           ],
           [
            0.5,
            "rgb(107,174,214)"
           ],
           [
            0.625,
            "rgb(66,146,198)"
           ],
           [
            0.75,
            "rgb(33,113,181)"
           ],
           [
            0.875,
            "rgb(8,81,156)"
           ],
           [
            1,
            "rgb(8,48,107)"
           ]
          ],
          "line": {
           "color": "Grey",
           "width": 0.5
          }
         },
         "mode": "markers",
         "showlegend": false,
         "text": [
          "{<br>  \"number\": 0,<br>  \"values\": [<br>    0.8939164280891418,<br>    0.06313100457191467<br>  ],<br>  \"params\": {<br>    \"chain_function_mean\": 2.0641131627587725,<br>    \"chain_function_std\": 0.4154682921260948,<br>    \"chain_function_constant\": 0.28369589483228863,<br>    \"optimizer\": \"Adam\",<br>    \"learning_rate\": 0.04273965078749279,<br>    \"forecast_distribution\": \"distr_log_normal\",<br>    \"perform_batching\": true,<br>    \"batch_size\": 617,<br>    \"epochs\": 307<br>  }<br>}",
          "{<br>  \"number\": 1,<br>  \"values\": [<br>    0.8894176483154297,<br>    0.06329651176929474<br>  ],<br>  \"params\": {<br>    \"chain_function_mean\": 1.555597482689219,<br>    \"chain_function_std\": 0.8255488714281788,<br>    \"chain_function_constant\": 0.7748485949333132,<br>    \"optimizer\": \"SGD\",<br>    \"learning_rate\": 0.023112566889074055,<br>    \"forecast_distribution\": \"distr_mixture\",<br>    \"distribution_1\": \"distr_trunc_normal\",<br>    \"distribution_2\": \"distr_gev\",<br>    \"perform_batching\": true,<br>    \"batch_size\": 635,<br>    \"epochs\": 82<br>  }<br>}",
          "{<br>  \"number\": 2,<br>  \"values\": [<br>    0.9069005846977234,<br>    0.06330331414937973<br>  ],<br>  \"params\": {<br>    \"chain_function_mean\": 4.265955940205421,<br>    \"chain_function_std\": 3.524490742625158,<br>    \"chain_function_constant\": 0.7815168131691753,<br>    \"optimizer\": \"SGD\",<br>    \"learning_rate\": 0.04603537949556522,<br>    \"forecast_distribution\": \"distr_mixture\",<br>    \"distribution_1\": \"distr_trunc_normal\",<br>    \"distribution_2\": \"distr_log_normal\",<br>    \"perform_batching\": false,<br>    \"epochs\": 366<br>  }<br>}",
          "{<br>  \"number\": 4,<br>  \"values\": [<br>    0.8899415731430054,<br>    0.06396393477916718<br>  ],<br>  \"params\": {<br>    \"chain_function_mean\": 3.241534915374551,<br>    \"chain_function_std\": 2.707171851127277,<br>    \"chain_function_constant\": 0.9192419880850593,<br>    \"optimizer\": \"SGD\",<br>    \"learning_rate\": 0.07890417372748003,<br>    \"forecast_distribution\": \"distr_gev\",<br>    \"perform_batching\": false,<br>    \"epochs\": 362<br>  }<br>}",
          "{<br>  \"number\": 5,<br>  \"values\": [<br>    0.8900049924850464,<br>    0.0622970387339592<br>  ],<br>  \"params\": {<br>    \"chain_function_mean\": 8.197514801249932,<br>    \"chain_function_std\": 0.12070600279597514,<br>    \"chain_function_constant\": 0.15600074161376992,<br>    \"optimizer\": \"Adam\",<br>    \"learning_rate\": 0.0029617066843963522,<br>    \"forecast_distribution\": \"distr_log_normal\",<br>    \"perform_batching\": true,<br>    \"batch_size\": 710,<br>    \"epochs\": 582<br>  }<br>}",
          "{<br>  \"number\": 6,<br>  \"values\": [<br>    0.8885961771011353,<br>    0.062454961240291595<br>  ],<br>  \"params\": {<br>    \"chain_function_mean\": 0.16173500572061883,<br>    \"chain_function_std\": 2.594906847012356,<br>    \"chain_function_constant\": 0.8134175397175094,<br>    \"optimizer\": \"Adam\",<br>    \"learning_rate\": 0.060766748351343075,<br>    \"forecast_distribution\": \"distr_mixture\",<br>    \"distribution_1\": \"distr_trunc_normal\",<br>    \"distribution_2\": \"distr_log_normal\",<br>    \"perform_batching\": false,<br>    \"epochs\": 469<br>  }<br>}",
          "{<br>  \"number\": 7,<br>  \"values\": [<br>    0.8879302144050598,<br>    0.06235683709383011<br>  ],<br>  \"params\": {<br>    \"chain_function_mean\": 12.61801849683028,<br>    \"chain_function_std\": 3.4457937264686698,<br>    \"chain_function_constant\": 0.5335781345899268,<br>    \"optimizer\": \"Adam\",<br>    \"learning_rate\": 0.07927300443081227,<br>    \"forecast_distribution\": \"distr_trunc_normal\",<br>    \"perform_batching\": false,<br>    \"epochs\": 236<br>  }<br>}",
          "{<br>  \"number\": 8,<br>  \"values\": [<br>    0.8921669721603394,<br>    0.06295806914567947<br>  ],<br>  \"params\": {<br>    \"chain_function_mean\": 7.120121799816163,<br>    \"chain_function_std\": 4.306511912701236,<br>    \"chain_function_constant\": 0.1097541009833735,<br>    \"optimizer\": \"Adam\",<br>    \"learning_rate\": 0.05543013093560948,<br>    \"forecast_distribution\": \"distr_mixture_linear\",<br>    \"distribution_1\": \"distr_log_normal\",<br>    \"distribution_2\": \"distr_log_normal\",<br>    \"perform_batching\": true,<br>    \"batch_size\": 869,<br>    \"epochs\": 234<br>  }<br>}",
          "{<br>  \"number\": 9,<br>  \"values\": [<br>    0.8911253809928894,<br>    0.06235826760530472<br>  ],<br>  \"params\": {<br>    \"chain_function_mean\": 10.17867982106603,<br>    \"chain_function_std\": 0.3872800318312687,<br>    \"chain_function_constant\": 0.8209463726665085,<br>    \"optimizer\": \"SGD\",<br>    \"learning_rate\": 0.05506117496377776,<br>    \"forecast_distribution\": \"distr_mixture_linear\",<br>    \"distribution_1\": \"distr_trunc_normal\",<br>    \"distribution_2\": \"distr_log_normal\",<br>    \"perform_batching\": true,<br>    \"batch_size\": 832,<br>    \"epochs\": 232<br>  }<br>}",
          "{<br>  \"number\": 10,<br>  \"values\": [<br>    1.0026330947875977,<br>    0.06607867032289505<br>  ],<br>  \"params\": {<br>    \"chain_function_mean\": 2.1414392382245566,<br>    \"chain_function_std\": 1.4033141603856205,<br>    \"chain_function_constant\": 0.1330490938581129,<br>    \"optimizer\": \"Adam\",<br>    \"learning_rate\": 0.08935933846066674,<br>    \"forecast_distribution\": \"distr_mixture\",<br>    \"distribution_1\": \"distr_trunc_normal\",<br>    \"distribution_2\": \"distr_log_normal\",<br>    \"perform_batching\": false,<br>    \"epochs\": 37<br>  }<br>}",
          "{<br>  \"number\": 11,<br>  \"values\": [<br>    0.8921949863433838,<br>    0.06296825408935547<br>  ],<br>  \"params\": {<br>    \"chain_function_mean\": 14.903825141203617,<br>    \"chain_function_std\": 4.659921819284413,<br>    \"chain_function_constant\": 0.5253319104363229,<br>    \"optimizer\": \"Adam\",<br>    \"learning_rate\": 0.0743608201247726,<br>    \"forecast_distribution\": \"distr_trunc_normal\",<br>    \"perform_batching\": false,<br>    \"epochs\": 146<br>  }<br>}",
          "{<br>  \"number\": 12,<br>  \"values\": [<br>    0.8874222636222839,<br>    0.06234855204820633<br>  ],<br>  \"params\": {<br>    \"chain_function_mean\": 14.347408510518969,<br>    \"chain_function_std\": 3.625703481996873,<br>    \"chain_function_constant\": 0.5210254672424394,<br>    \"optimizer\": \"Adam\",<br>    \"learning_rate\": 0.09226408935438198,<br>    \"forecast_distribution\": \"distr_trunc_normal\",<br>    \"perform_batching\": false,<br>    \"epochs\": 488<br>  }<br>}",
          "{<br>  \"number\": 13,<br>  \"values\": [<br>    0.8882594704627991,<br>    0.062265828251838684<br>  ],<br>  \"params\": {<br>    \"chain_function_mean\": 14.892324677872535,<br>    \"chain_function_std\": 1.5964434484514802,<br>    \"chain_function_constant\": 0.3484198805601991,<br>    \"optimizer\": \"Adam\",<br>    \"learning_rate\": 0.09435040615071237,<br>    \"forecast_distribution\": \"distr_trunc_normal\",<br>    \"perform_batching\": false,<br>    \"epochs\": 595<br>  }<br>}",
          "{<br>  \"number\": 14,<br>  \"values\": [<br>    1.142411708831787,<br>    0.08192676305770874<br>  ],<br>  \"params\": {<br>    \"chain_function_mean\": 10.947524383332013,<br>    \"chain_function_std\": 1.8229016828181446,<br>    \"chain_function_constant\": 0.3791864408423256,<br>    \"optimizer\": \"SGD\",<br>    \"learning_rate\": 0.0305958815384517,<br>    \"forecast_distribution\": \"distr_gev\",<br>    \"perform_batching\": false,<br>    \"epochs\": 594<br>  }<br>}",
          "{<br>  \"number\": 15,<br>  \"values\": [<br>    0.8873712420463562,<br>    0.062399908900260925<br>  ],<br>  \"params\": {<br>    \"chain_function_mean\": 5.290958577059072,<br>    \"chain_function_std\": 1.3633595481091279,<br>    \"chain_function_constant\": 0.6450062256992439,<br>    \"optimizer\": \"Adam\",<br>    \"learning_rate\": 0.0998019772242226,<br>    \"forecast_distribution\": \"distr_trunc_normal\",<br>    \"perform_batching\": false,<br>    \"epochs\": 456<br>  }<br>}",
          "{<br>  \"number\": 17,<br>  \"values\": [<br>    0.9210930466651917,<br>    0.061606019735336304<br>  ],<br>  \"params\": {<br>    \"chain_function_mean\": 9.156973853500537,<br>    \"chain_function_std\": 2.047413542045709,<br>    \"chain_function_constant\": 0.0035731853498202626,<br>    \"optimizer\": \"SGD\",<br>    \"learning_rate\": 0.06782091930437235,<br>    \"forecast_distribution\": \"distr_gev\",<br>    \"perform_batching\": true,<br>    \"batch_size\": 38,<br>    \"epochs\": 521<br>  }<br>}",
          "{<br>  \"number\": 18,<br>  \"values\": [<br>    1.1570937633514404,<br>    0.07903000712394714<br>  ],<br>  \"params\": {<br>    \"chain_function_mean\": 6.013354911814476,<br>    \"chain_function_std\": 3.1211456365370776,<br>    \"chain_function_constant\": 0.6356840294879161,<br>    \"optimizer\": \"Adam\",<br>    \"learning_rate\": 0.005743949593617563,<br>    \"forecast_distribution\": \"distr_mixture_linear\",<br>    \"distribution_1\": \"distr_gev\",<br>    \"distribution_2\": \"distr_trunc_normal\",<br>    \"perform_batching\": false,<br>    \"epochs\": 401<br>  }<br>}",
          "{<br>  \"number\": 19,<br>  \"values\": [<br>    0.892382800579071,<br>    0.06266500055789948<br>  ],<br>  \"params\": {<br>    \"chain_function_mean\": 12.075403107301614,<br>    \"chain_function_std\": 0.9791691330143255,<br>    \"chain_function_constant\": 0.9901604549042864,<br>    \"optimizer\": \"Adam\",<br>    \"learning_rate\": 0.029226409549400992,<br>    \"forecast_distribution\": \"distr_log_normal\",<br>    \"perform_batching\": false,<br>    \"epochs\": 417<br>  }<br>}",
          "{<br>  \"number\": 20,<br>  \"values\": [<br>    0.8882105350494385,<br>    0.06253289431333542<br>  ],<br>  \"params\": {<br>    \"chain_function_mean\": -0.9495654797101558,<br>    \"chain_function_std\": 4.0930415064595875,<br>    \"chain_function_constant\": 0.40651091655965965,<br>    \"optimizer\": \"SGD\",<br>    \"learning_rate\": 0.015985731618929085,<br>    \"forecast_distribution\": \"distr_trunc_normal\",<br>    \"perform_batching\": true,<br>    \"batch_size\": 233,<br>    \"epochs\": 533<br>  }<br>}",
          "{<br>  \"number\": 25,<br>  \"values\": [<br>    0.8982536792755127,<br>    0.061889901757240295<br>  ],<br>  \"params\": {<br>    \"chain_function_mean\": 8.058042344576247,<br>    \"chain_function_std\": 2.17685373026288,<br>    \"chain_function_constant\": 0.01147438558542957,<br>    \"optimizer\": \"SGD\",<br>    \"learning_rate\": 0.06919045608943032,<br>    \"forecast_distribution\": \"distr_gev\",<br>    \"perform_batching\": true,<br>    \"batch_size\": 15,<br>    \"epochs\": 511<br>  }<br>}",
          "{<br>  \"number\": 26,<br>  \"values\": [<br>    0.888512134552002,<br>    0.062370218336582184<br>  ],<br>  \"params\": {<br>    \"chain_function_mean\": 9.264214278689328,<br>    \"chain_function_std\": 2.1868894174742946,<br>    \"chain_function_constant\": 0.2670577267195898,<br>    \"optimizer\": \"SGD\",<br>    \"learning_rate\": 0.06697386718102112,<br>    \"forecast_distribution\": \"distr_gev\",<br>    \"perform_batching\": true,<br>    \"batch_size\": 370,<br>    \"epochs\": 303<br>  }<br>}",
          "{<br>  \"number\": 27,<br>  \"values\": [<br>    0.906369149684906,<br>    0.06180950254201889<br>  ],<br>  \"params\": {<br>    \"chain_function_mean\": 13.07365736950287,<br>    \"chain_function_std\": 3.00437232904294,<br>    \"chain_function_constant\": 0.01822288729155047,<br>    \"optimizer\": \"Adam\",<br>    \"learning_rate\": 0.036972218166687706,<br>    \"forecast_distribution\": \"distr_trunc_normal\",<br>    \"perform_batching\": false,<br>    \"epochs\": 149<br>  }<br>}",
          "{<br>  \"number\": 28,<br>  \"values\": [<br>    0.8938837647438049,<br>    0.062477290630340576<br>  ],<br>  \"params\": {<br>    \"chain_function_mean\": 10.940212187214506,<br>    \"chain_function_std\": 2.1242747538019042,<br>    \"chain_function_constant\": 0.641599246109019,<br>    \"optimizer\": \"SGD\",<br>    \"learning_rate\": 0.0843689182186888,<br>    \"forecast_distribution\": \"distr_trunc_normal\",<br>    \"perform_batching\": true,<br>    \"batch_size\": 9,<br>    \"epochs\": 538<br>  }<br>}",
          "{<br>  \"number\": 29,<br>  \"values\": [<br>    0.8888605237007141,<br>    0.06258339434862137<br>  ],<br>  \"params\": {<br>    \"chain_function_mean\": 6.355964974438073,<br>    \"chain_function_std\": 4.000389449139531,<br>    \"chain_function_constant\": 0.22958451064454943,<br>    \"optimizer\": \"Adam\",<br>    \"learning_rate\": 0.06287733413015997,<br>    \"forecast_distribution\": \"distr_gev\",<br>    \"perform_batching\": false,<br>    \"epochs\": 421<br>  }<br>}",
          "{<br>  \"number\": 30,<br>  \"values\": [<br>    0.8912376761436462,<br>    0.06258247792720795<br>  ],<br>  \"params\": {<br>    \"chain_function_mean\": 9.116358711167239,<br>    \"chain_function_std\": 4.950495229548892,<br>    \"chain_function_constant\": 0.444813370266058,<br>    \"optimizer\": \"Adam\",<br>    \"learning_rate\": 0.05109304434994045,<br>    \"forecast_distribution\": \"distr_log_normal\",<br>    \"perform_batching\": false,<br>    \"epochs\": 329<br>  }<br>}",
          "{<br>  \"number\": 31,<br>  \"values\": [<br>    0.8920921683311462,<br>    0.06233343482017517<br>  ],<br>  \"params\": {<br>    \"chain_function_mean\": 3.803037607640337,<br>    \"chain_function_std\": 1.06284578148449,<br>    \"chain_function_constant\": 0.20205814868639227,<br>    \"optimizer\": \"SGD\",<br>    \"learning_rate\": 0.07143920812872705,<br>    \"forecast_distribution\": \"distr_mixture_linear\",<br>    \"distribution_1\": \"distr_log_normal\",<br>    \"distribution_2\": \"distr_trunc_normal\",<br>    \"perform_batching\": true,<br>    \"batch_size\": 363,<br>    \"epochs\": 179<br>  }<br>}",
          "{<br>  \"number\": 32,<br>  \"values\": [<br>    0.8874105215072632,<br>    0.06218014657497406<br>  ],<br>  \"params\": {<br>    \"chain_function_mean\": 7.469559181763526,<br>    \"chain_function_std\": 3.0021951625112213,<br>    \"chain_function_constant\": 0.3329430430329341,<br>    \"optimizer\": \"Adam\",<br>    \"learning_rate\": 0.03872206728253434,<br>    \"forecast_distribution\": \"distr_trunc_normal\",<br>    \"perform_batching\": false,<br>    \"epochs\": 551<br>  }<br>}",
          "{<br>  \"number\": 33,<br>  \"values\": [<br>    0.8911073207855225,<br>    0.0625515803694725<br>  ],<br>  \"params\": {<br>    \"chain_function_mean\": 5.073834177810475,<br>    \"chain_function_std\": 1.8058168441331224,<br>    \"chain_function_constant\": 0.08759631758790642,<br>    \"optimizer\": \"SGD\",<br>    \"learning_rate\": 0.060804164429021444,<br>    \"forecast_distribution\": \"distr_gev\",<br>    \"perform_batching\": true,<br>    \"batch_size\": 995,<br>    \"epochs\": 455<br>  }<br>}",
          "{<br>  \"number\": 34,<br>  \"values\": [<br>    0.9233694672584534,<br>    0.062498413026332855<br>  ],<br>  \"params\": {<br>    \"chain_function_mean\": 9.330565513666995,<br>    \"chain_function_std\": 2.5086403873290863,<br>    \"chain_function_constant\": 0.46665907094137293,<br>    \"optimizer\": \"Adam\",<br>    \"learning_rate\": 0.012797477792332451,<br>    \"forecast_distribution\": \"distr_trunc_normal\",<br>    \"perform_batching\": false,<br>    \"epochs\": 360<br>  }<br>}",
          "{<br>  \"number\": 35,<br>  \"values\": [<br>    0.911353588104248,<br>    0.06187348812818527<br>  ],<br>  \"params\": {<br>    \"chain_function_mean\": 8.069333632309558,<br>    \"chain_function_std\": 1.9717547132170292,<br>    \"chain_function_constant\": 0.0004224230777846753,<br>    \"optimizer\": \"SGD\",<br>    \"learning_rate\": 0.07495063443180713,<br>    \"forecast_distribution\": \"distr_gev\",<br>    \"perform_batching\": true,<br>    \"batch_size\": 278,<br>    \"epochs\": 541<br>  }<br>}",
          "{<br>  \"number\": 38,<br>  \"values\": [<br>    0.8893210291862488,<br>    0.062160126864910126<br>  ],<br>  \"params\": {<br>    \"chain_function_mean\": 11.79697989223162,<br>    \"chain_function_std\": 2.3146566030122773,<br>    \"chain_function_constant\": 0.07306165254748392,<br>    \"optimizer\": \"SGD\",<br>    \"learning_rate\": 0.06577195756374407,<br>    \"forecast_distribution\": \"distr_gev\",<br>    \"perform_batching\": true,<br>    \"batch_size\": 18,<br>    \"epochs\": 499<br>  }<br>}",
          "{<br>  \"number\": 39,<br>  \"values\": [<br>    0.8879016041755676,<br>    0.062372222542762756<br>  ],<br>  \"params\": {<br>    \"chain_function_mean\": 13.389172835098961,<br>    \"chain_function_std\": 2.8137875137639496,<br>    \"chain_function_constant\": 0.7084511544871405,<br>    \"optimizer\": \"SGD\",<br>    \"learning_rate\": 0.08600078508890956,<br>    \"forecast_distribution\": \"distr_trunc_normal\",<br>    \"perform_batching\": true,<br>    \"batch_size\": 166,<br>    \"epochs\": 512<br>  }<br>}",
          "{<br>  \"number\": 40,<br>  \"values\": [<br>    0.8881772756576538,<br>    0.0622391477227211<br>  ],<br>  \"params\": {<br>    \"chain_function_mean\": 10.963329413141395,<br>    \"chain_function_std\": 3.2442419714533446,<br>    \"chain_function_constant\": 0.19854714396431072,<br>    \"optimizer\": \"Adam\",<br>    \"learning_rate\": 0.05364082140047984,<br>    \"forecast_distribution\": \"distr_gev\",<br>    \"perform_batching\": false,<br>    \"epochs\": 397<br>  }<br>}",
          "{<br>  \"number\": 41,<br>  \"values\": [<br>    0.8884633183479309,<br>    0.06264831870794296<br>  ],<br>  \"params\": {<br>    \"chain_function_mean\": 8.404516135687556,<br>    \"chain_function_std\": 2.3828048791092002,<br>    \"chain_function_constant\": 0.6000571881325195,<br>    \"optimizer\": \"SGD\",<br>    \"learning_rate\": 0.07030465383733743,<br>    \"forecast_distribution\": \"distr_mixture\",<br>    \"distribution_1\": \"distr_gev\",<br>    \"distribution_2\": \"distr_gev\",<br>    \"perform_batching\": true,<br>    \"batch_size\": 500,<br>    \"epochs\": 266<br>  }<br>}",
          "{<br>  \"number\": 42,<br>  \"values\": [<br>    1.0195064544677734,<br>    0.06777004897594452<br>  ],<br>  \"params\": {<br>    \"chain_function_mean\": 6.171180393719304,<br>    \"chain_function_std\": 1.3197901710068667,<br>    \"chain_function_constant\": 0.05366629634420067,<br>    \"optimizer\": \"Adam\",<br>    \"learning_rate\": 0.04679011723962645,<br>    \"forecast_distribution\": \"distr_log_normal\",<br>    \"perform_batching\": false,<br>    \"epochs\": 82<br>  }<br>}",
          "{<br>  \"number\": 43,<br>  \"values\": [<br>    0.8894411325454712,<br>    0.06213126331567764<br>  ],<br>  \"params\": {<br>    \"chain_function_mean\": 10.101803440404497,<br>    \"chain_function_std\": 1.6252297957103163,<br>    \"chain_function_constant\": 0.3075586962291912,<br>    \"optimizer\": \"Adam\",<br>    \"learning_rate\": 0.08064369651826991,<br>    \"forecast_distribution\": \"distr_mixture_linear\",<br>    \"distribution_1\": \"distr_log_normal\",<br>    \"distribution_2\": \"distr_trunc_normal\",<br>    \"perform_batching\": false,<br>    \"epochs\": 470<br>  }<br>}",
          "{<br>  \"number\": 44,<br>  \"values\": [<br>    0.9188860058784485,<br>    0.06461924314498901<br>  ],<br>  \"params\": {<br>    \"chain_function_mean\": 10.025407643233466,<br>    \"chain_function_std\": 0.7564127852205191,<br>    \"chain_function_constant\": 0.2489154410746588,<br>    \"optimizer\": \"SGD\",<br>    \"learning_rate\": 0.056134411443843096,<br>    \"forecast_distribution\": \"distr_trunc_normal\",<br>    \"perform_batching\": true,<br>    \"batch_size\": 140,<br>    \"epochs\": 6<br>  }<br>}",
          "{<br>  \"number\": 45,<br>  \"values\": [<br>    0.8888887166976929,<br>    0.06247524172067642<br>  ],<br>  \"params\": {<br>    \"chain_function_mean\": 13.790043802864123,<br>    \"chain_function_std\": 3.872245688317732,<br>    \"chain_function_constant\": 0.5767163882789368,<br>    \"optimizer\": \"Adam\",<br>    \"learning_rate\": 0.06777111652773364,<br>    \"forecast_distribution\": \"distr_gev\",<br>    \"perform_batching\": false,<br>    \"epochs\": 563<br>  }<br>}",
          "{<br>  \"number\": 46,<br>  \"values\": [<br>    0.8878798484802246,<br>    0.06230784207582474<br>  ],<br>  \"params\": {<br>    \"chain_function_mean\": 11.659815264890138,<br>    \"chain_function_std\": 2.828697792392004,<br>    \"chain_function_constant\": 0.15847620945987698,<br>    \"optimizer\": \"SGD\",<br>    \"learning_rate\": 0.059685392062086236,<br>    \"forecast_distribution\": \"distr_trunc_normal\",<br>    \"perform_batching\": true,<br>    \"batch_size\": 468,<br>    \"epochs\": 428<br>  }<br>}",
          "{<br>  \"number\": 47,<br>  \"values\": [<br>    0.9004535675048828,<br>    0.06193888932466507<br>  ],<br>  \"params\": {<br>    \"chain_function_mean\": 12.95588900851378,<br>    \"chain_function_std\": 2.004392882183746,<br>    \"chain_function_constant\": 0.028755898079493646,<br>    \"optimizer\": \"Adam\",<br>    \"learning_rate\": 0.040626666092945345,<br>    \"forecast_distribution\": \"distr_trunc_normal\",<br>    \"perform_batching\": false,<br>    \"epochs\": 156<br>  }<br>}",
          "{<br>  \"number\": 48,<br>  \"values\": [<br>    0.8876460790634155,<br>    0.062323637306690216<br>  ],<br>  \"params\": {<br>    \"chain_function_mean\": 7.392555963152075,<br>    \"chain_function_std\": 2.3575121497594793,<br>    \"chain_function_constant\": 0.4285565679841557,<br>    \"optimizer\": \"Adam\",<br>    \"learning_rate\": 0.07452847178875044,<br>    \"forecast_distribution\": \"distr_trunc_normal\",<br>    \"perform_batching\": false,<br>    \"epochs\": 511<br>  }<br>}",
          "{<br>  \"number\": 49,<br>  \"values\": [<br>    0.8946037888526917,<br>    0.06296848505735397<br>  ],<br>  \"params\": {<br>    \"chain_function_mean\": 8.650564427906655,<br>    \"chain_function_std\": 3.3499712944213385,<br>    \"chain_function_constant\": 0.9417281455696096,<br>    \"optimizer\": \"Adam\",<br>    \"learning_rate\": 0.032749662710321474,<br>    \"forecast_distribution\": \"distr_trunc_normal\",<br>    \"perform_batching\": false,<br>    \"epochs\": 197<br>  }<br>}",
          "{<br>  \"number\": 50,<br>  \"values\": [<br>    0.8879709243774414,<br>    0.06296524405479431<br>  ],<br>  \"params\": {<br>    \"chain_function_mean\": 9.819001785856788,<br>    \"chain_function_std\": 1.6396502913623425,<br>    \"chain_function_constant\": 0.7067158367001984,<br>    \"optimizer\": \"Adam\",<br>    \"learning_rate\": 0.04756864713086692,<br>    \"forecast_distribution\": \"distr_mixture_linear\",<br>    \"distribution_1\": \"distr_gev\",<br>    \"distribution_2\": \"distr_gev\",<br>    \"perform_batching\": false,<br>    \"epochs\": 441<br>  }<br>}",
          "{<br>  \"number\": 51,<br>  \"values\": [<br>    0.8887636065483093,<br>    0.06290054321289062<br>  ],<br>  \"params\": {<br>    \"chain_function_mean\": 11.084504744439013,<br>    \"chain_function_std\": 3.0200351458364443,<br>    \"chain_function_constant\": 0.8622299755415792,<br>    \"optimizer\": \"Adam\",<br>    \"learning_rate\": 0.035695238532782975,<br>    \"forecast_distribution\": \"distr_mixture\",<br>    \"distribution_1\": \"distr_gev\",<br>    \"distribution_2\": \"distr_gev\",<br>    \"perform_batching\": false,<br>    \"epochs\": 271<br>  }<br>}",
          "{<br>  \"number\": 52,<br>  \"values\": [<br>    0.8911202549934387,<br>    0.06267756968736649<br>  ],<br>  \"params\": {<br>    \"chain_function_mean\": 5.213594482886865,<br>    \"chain_function_std\": 3.760145672398156,<br>    \"chain_function_constant\": 0.46863061963540414,<br>    \"optimizer\": \"Adam\",<br>    \"learning_rate\": 0.020544440088885355,<br>    \"forecast_distribution\": \"distr_log_normal\",<br>    \"perform_batching\": false,<br>    \"epochs\": 340<br>  }<br>}",
          "{<br>  \"number\": 53,<br>  \"values\": [<br>    1.2717740535736084,<br>    0.06876403093338013<br>  ],<br>  \"params\": {<br>    \"chain_function_mean\": 12.58034361049016,<br>    \"chain_function_std\": 4.274367475659592,<br>    \"chain_function_constant\": 0.016215941533561096,<br>    \"optimizer\": \"SGD\",<br>    \"learning_rate\": 0.06453128525135339,<br>    \"forecast_distribution\": \"distr_trunc_normal\",<br>    \"perform_batching\": true,<br>    \"batch_size\": 999,<br>    \"epochs\": 116<br>  }<br>}",
          "{<br>  \"number\": 54,<br>  \"values\": [<br>    0.8874606490135193,<br>    0.06234538555145264<br>  ],<br>  \"params\": {<br>    \"chain_function_mean\": 7.0355658109674595,<br>    \"chain_function_std\": 2.562686159330249,<br>    \"chain_function_constant\": 0.3761661405331642,<br>    \"optimizer\": \"Adam\",<br>    \"learning_rate\": 0.08452863958254006,<br>    \"forecast_distribution\": \"distr_trunc_normal\",<br>    \"perform_batching\": false,<br>    \"epochs\": 386<br>  }<br>}",
          "{<br>  \"number\": 55,<br>  \"values\": [<br>    0.8891041874885559,<br>    0.062292151153087616<br>  ],<br>  \"params\": {<br>    \"chain_function_mean\": 7.851761174969187,<br>    \"chain_function_std\": 2.1590424043158754,<br>    \"chain_function_constant\": 0.2020756784203515,<br>    \"optimizer\": \"Adam\",<br>    \"learning_rate\": 0.0701366093719151,<br>    \"forecast_distribution\": \"distr_gev\",<br>    \"perform_batching\": false,<br>    \"epochs\": 282<br>  }<br>}",
          "{<br>  \"number\": 57,<br>  \"values\": [<br>    0.889360785484314,<br>    0.06195603311061859<br>  ],<br>  \"params\": {<br>    \"chain_function_mean\": 8.696719094158865,<br>    \"chain_function_std\": 0.1909734470445288,<br>    \"chain_function_constant\": 0.10534172917620334,<br>    \"optimizer\": \"SGD\",<br>    \"learning_rate\": 0.0381339920904033,<br>    \"forecast_distribution\": \"distr_gev\",<br>    \"perform_batching\": true,<br>    \"batch_size\": 123,<br>    \"epochs\": 564<br>  }<br>}",
          "{<br>  \"number\": 59,<br>  \"values\": [<br>    0.8903694152832031,<br>    0.0621834471821785<br>  ],<br>  \"params\": {<br>    \"chain_function_mean\": 8.638212729063163,<br>    \"chain_function_std\": 0.31863657199721507,<br>    \"chain_function_constant\": 0.08920838718590324,<br>    \"optimizer\": \"SGD\",<br>    \"learning_rate\": 0.009400777839885084,<br>    \"forecast_distribution\": \"distr_gev\",<br>    \"perform_batching\": true,<br>    \"batch_size\": 93,<br>    \"epochs\": 568<br>  }<br>}",
          "{<br>  \"number\": 60,<br>  \"values\": [<br>    0.8956279158592224,<br>    0.06200002133846283<br>  ],<br>  \"params\": {<br>    \"chain_function_mean\": 9.444575949453892,<br>    \"chain_function_std\": 0.5840474187618272,<br>    \"chain_function_constant\": 0.05385218491015434,<br>    \"optimizer\": \"SGD\",<br>    \"learning_rate\": 0.04359080944516745,<br>    \"forecast_distribution\": \"distr_gev\",<br>    \"perform_batching\": true,<br>    \"batch_size\": 228,<br>    \"epochs\": 487<br>  }<br>}",
          "{<br>  \"number\": 61,<br>  \"values\": [<br>    0.8879058957099915,<br>    0.062101975083351135<br>  ],<br>  \"params\": {<br>    \"chain_function_mean\": 10.490408699627014,<br>    \"chain_function_std\": 0.1475001232495856,<br>    \"chain_function_constant\": 0.1420748278853563,<br>    \"optimizer\": \"SGD\",<br>    \"learning_rate\": 0.023593261045357247,<br>    \"forecast_distribution\": \"distr_gev\",<br>    \"perform_batching\": true,<br>    \"batch_size\": 114,<br>    \"epochs\": 521<br>  }<br>}",
          "{<br>  \"number\": 62,<br>  \"values\": [<br>    0.8975528478622437,<br>    0.062236487865448<br>  ],<br>  \"params\": {<br>    \"chain_function_mean\": 6.250679773241582,<br>    \"chain_function_std\": 1.1094554439600888,<br>    \"chain_function_constant\": 0.048081564867478464,<br>    \"optimizer\": \"SGD\",<br>    \"learning_rate\": 0.09999792672016974,<br>    \"forecast_distribution\": \"distr_gev\",<br>    \"perform_batching\": true,<br>    \"batch_size\": 296,<br>    \"epochs\": 573<br>  }<br>}",
          "{<br>  \"number\": 64,<br>  \"values\": [<br>    0.8892119526863098,<br>    0.06229622662067413<br>  ],<br>  \"params\": {<br>    \"chain_function_mean\": 8.931317084839545,<br>    \"chain_function_std\": 0.053866101848708214,<br>    \"chain_function_constant\": 0.11848924034848482,<br>    \"optimizer\": \"SGD\",<br>    \"learning_rate\": 0.05820535077005596,<br>    \"forecast_distribution\": \"distr_gev\",<br>    \"perform_batching\": true,<br>    \"batch_size\": 82,<br>    \"epochs\": 482<br>  }<br>}",
          "{<br>  \"number\": 65,<br>  \"values\": [<br>    0.8916662931442261,<br>    0.06328253448009491<br>  ],<br>  \"params\": {<br>    \"chain_function_mean\": 6.732052485494709,<br>    \"chain_function_std\": 4.6043168805656425,<br>    \"chain_function_constant\": 0.1690640506503019,<br>    \"optimizer\": \"SGD\",<br>    \"learning_rate\": 0.05090860397286002,<br>    \"forecast_distribution\": \"distr_gev\",<br>    \"perform_batching\": true,<br>    \"batch_size\": 171,<br>    \"epochs\": 557<br>  }<br>}",
          "{<br>  \"number\": 66,<br>  \"values\": [<br>    0.8901100158691406,<br>    0.06331577897071838<br>  ],<br>  \"params\": {<br>    \"chain_function_mean\": 0.41191083202872214,<br>    \"chain_function_std\": 0.609425816628389,<br>    \"chain_function_constant\": 0.09385137798688427,<br>    \"optimizer\": \"SGD\",<br>    \"learning_rate\": 0.03671506765191936,<br>    \"forecast_distribution\": \"distr_gev\",<br>    \"perform_batching\": true,<br>    \"batch_size\": 394,<br>    \"epochs\": 527<br>  }<br>}",
          "{<br>  \"number\": 68,<br>  \"values\": [<br>    1.7750576734542847,<br>    0.09185591340065002<br>  ],<br>  \"params\": {<br>    \"chain_function_mean\": 11.446142390448715,<br>    \"chain_function_std\": 1.2128332021335428,<br>    \"chain_function_constant\": 0.0409047438584636,<br>    \"optimizer\": \"SGD\",<br>    \"learning_rate\": 0.00023790225833981993,<br>    \"forecast_distribution\": \"distr_gev\",<br>    \"perform_batching\": true,<br>    \"batch_size\": 55,<br>    \"epochs\": 600<br>  }<br>}",
          "{<br>  \"number\": 69,<br>  \"values\": [<br>    0.8897167444229126,<br>    0.06228988617658615<br>  ],<br>  \"params\": {<br>    \"chain_function_mean\": 10.634870623130785,<br>    \"chain_function_std\": 0.7909462510861711,<br>    \"chain_function_constant\": 0.06656192847014941,<br>    \"optimizer\": \"SGD\",<br>    \"learning_rate\": 0.026954152887810095,<br>    \"forecast_distribution\": \"distr_mixture\",<br>    \"distribution_1\": \"distr_log_normal\",<br>    \"distribution_2\": \"distr_trunc_normal\",<br>    \"perform_batching\": true,<br>    \"batch_size\": 215,<br>    \"epochs\": 445<br>  }<br>}",
          "{<br>  \"number\": 70,<br>  \"values\": [<br>    0.8939259648323059,<br>    0.062005311250686646<br>  ],<br>  \"params\": {<br>    \"chain_function_mean\": 7.612608334738788,<br>    \"chain_function_std\": 3.0083727983417887,<br>    \"chain_function_constant\": 0.0121834191022877,<br>    \"optimizer\": \"SGD\",<br>    \"learning_rate\": 0.03949925170249912,<br>    \"forecast_distribution\": \"distr_gev\",<br>    \"perform_batching\": true,<br>    \"batch_size\": 322,<br>    \"epochs\": 558<br>  }<br>}",
          "{<br>  \"number\": 71,<br>  \"values\": [<br>    0.8922821879386902,<br>    0.062477149069309235<br>  ],<br>  \"params\": {<br>    \"chain_function_mean\": 9.417172618626076,<br>    \"chain_function_std\": 4.95289100987187,<br>    \"chain_function_constant\": 0.3326939170552484,<br>    \"optimizer\": \"SGD\",<br>    \"learning_rate\": 0.0959832886901151,<br>    \"forecast_distribution\": \"distr_log_normal\",<br>    \"perform_batching\": true,<br>    \"batch_size\": 164,<br>    \"epochs\": 541<br>  }<br>}",
          "{<br>  \"number\": 72,<br>  \"values\": [<br>    0.8925604224205017,<br>    0.062345296144485474<br>  ],<br>  \"params\": {<br>    \"chain_function_mean\": 9.716241091103742,<br>    \"chain_function_std\": 4.667367321518849,<br>    \"chain_function_constant\": 0.11667620152547897,<br>    \"optimizer\": \"SGD\",<br>    \"learning_rate\": 0.08891529575201543,<br>    \"forecast_distribution\": \"distr_mixture_linear\",<br>    \"distribution_1\": \"distr_gev\",<br>    \"distribution_2\": \"distr_gev\",<br>    \"perform_batching\": true,<br>    \"batch_size\": 69,<br>    \"epochs\": 546<br>  }<br>}",
          "{<br>  \"number\": 73,<br>  \"values\": [<br>    0.8882468342781067,<br>    0.06251125037670135<br>  ],<br>  \"params\": {<br>    \"chain_function_mean\": 8.657637992810738,<br>    \"chain_function_std\": 0.303572667874307,<br>    \"chain_function_constant\": 0.18398600356904465,<br>    \"optimizer\": \"SGD\",<br>    \"learning_rate\": 0.0175483832000171,<br>    \"forecast_distribution\": \"distr_gev\",<br>    \"perform_batching\": true,<br>    \"batch_size\": 560,<br>    \"epochs\": 492<br>  }<br>}",
          "{<br>  \"number\": 74,<br>  \"values\": [<br>    0.8979740738868713,<br>    0.06185063719749451<br>  ],<br>  \"params\": {<br>    \"chain_function_mean\": 7.646011396002068,<br>    \"chain_function_std\": 0.6386707004734411,<br>    \"chain_function_constant\": 0.044777787002388054,<br>    \"optimizer\": \"SGD\",<br>    \"learning_rate\": 0.08118244029115679,<br>    \"forecast_distribution\": \"distr_gev\",<br>    \"perform_batching\": true,<br>    \"batch_size\": 794,<br>    \"epochs\": 473<br>  }<br>}",
          "{<br>  \"number\": 75,<br>  \"values\": [<br>    0.8902387022972107,<br>    0.06259102374315262<br>  ],<br>  \"params\": {<br>    \"chain_function_mean\": 5.719277291774801,<br>    \"chain_function_std\": 0.9257086570987942,<br>    \"chain_function_constant\": 0.22706858913140526,<br>    \"optimizer\": \"SGD\",<br>    \"learning_rate\": 0.03703750944249976,<br>    \"forecast_distribution\": \"distr_gev\",<br>    \"perform_batching\": true,<br>    \"batch_size\": 216,<br>    \"epochs\": 502<br>  }<br>}",
          "{<br>  \"number\": 76,<br>  \"values\": [<br>    0.9078944325447083,<br>    0.06205678731203079<br>  ],<br>  \"params\": {<br>    \"chain_function_mean\": 6.72149552161126,<br>    \"chain_function_std\": 0.4870350754401333,<br>    \"chain_function_constant\": 0.0006905154826801307,<br>    \"optimizer\": \"SGD\",<br>    \"learning_rate\": 0.0521084960588531,<br>    \"forecast_distribution\": \"distr_mixture\",<br>    \"distribution_1\": \"distr_log_normal\",<br>    \"distribution_2\": \"distr_trunc_normal\",<br>    \"perform_batching\": true,<br>    \"batch_size\": 425,<br>    \"epochs\": 579<br>  }<br>}",
          "{<br>  \"number\": 77,<br>  \"values\": [<br>    0.89058518409729,<br>    0.0620221272110939<br>  ],<br>  \"params\": {<br>    \"chain_function_mean\": 10.498607569812757,<br>    \"chain_function_std\": 0.015782783100063775,<br>    \"chain_function_constant\": 0.08156652402398737,<br>    \"optimizer\": \"SGD\",<br>    \"learning_rate\": 0.06392482642450442,<br>    \"forecast_distribution\": \"distr_log_normal\",<br>    \"perform_batching\": true,<br>    \"batch_size\": 129,<br>    \"epochs\": 517<br>  }<br>}",
          "{<br>  \"number\": 78,<br>  \"values\": [<br>    0.8916311860084534,<br>    0.062087155878543854<br>  ],<br>  \"params\": {<br>    \"chain_function_mean\": 12.184564886216487,<br>    \"chain_function_std\": 4.372026116689426,<br>    \"chain_function_constant\": 0.11508970961941532,<br>    \"optimizer\": \"SGD\",<br>    \"learning_rate\": 0.04827774647885913,<br>    \"forecast_distribution\": \"distr_mixture_linear\",<br>    \"distribution_1\": \"distr_log_normal\",<br>    \"distribution_2\": \"distr_log_normal\",<br>    \"perform_batching\": true,<br>    \"batch_size\": 49,<br>    \"epochs\": 457<br>  }<br>}",
          "{<br>  \"number\": 79,<br>  \"values\": [<br>    1.5619944334030151,<br>    0.1087225079536438<br>  ],<br>  \"params\": {<br>    \"chain_function_mean\": 4.145875435888428,<br>    \"chain_function_std\": 0.19607699710854787,<br>    \"chain_function_constant\": 0.039761799602807006,<br>    \"optimizer\": \"SGD\",<br>    \"learning_rate\": 0.03343159602794938,<br>    \"forecast_distribution\": \"distr_gev\",<br>    \"perform_batching\": true,<br>    \"batch_size\": 270,<br>    \"epochs\": 5<br>  }<br>}",
          "{<br>  \"number\": 82,<br>  \"values\": [<br>    0.8971110582351685,<br>    0.061811283230781555<br>  ],<br>  \"params\": {<br>    \"chain_function_mean\": 8.882731252216018,<br>    \"chain_function_std\": 1.8328213716111983,<br>    \"chain_function_constant\": 0.0394894013945532,<br>    \"optimizer\": \"SGD\",<br>    \"learning_rate\": 0.07718001836280913,<br>    \"forecast_distribution\": \"distr_gev\",<br>    \"perform_batching\": true,<br>    \"batch_size\": 754,<br>    \"epochs\": 469<br>  }<br>}",
          "{<br>  \"number\": 83,<br>  \"values\": [<br>    0.9098653793334961,<br>    0.06661849468946457<br>  ],<br>  \"params\": {<br>    \"chain_function_mean\": -0.5836071638097042,<br>    \"chain_function_std\": 1.849509834805036,<br>    \"chain_function_constant\": 0.06966616760697612,<br>    \"optimizer\": \"SGD\",<br>    \"learning_rate\": 0.07673336678597417,<br>    \"forecast_distribution\": \"distr_gev\",<br>    \"perform_batching\": true,<br>    \"batch_size\": 3,<br>    \"epochs\": 553<br>  }<br>}",
          "{<br>  \"number\": 85,<br>  \"values\": [<br>    0.8902373909950256,<br>    0.06236499547958374<br>  ],<br>  \"params\": {<br>    \"chain_function_mean\": 8.997150947099467,<br>    \"chain_function_std\": 1.568588498793377,<br>    \"chain_function_constant\": 0.10311986315767284,<br>    \"optimizer\": \"SGD\",<br>    \"learning_rate\": 0.07778659763827568,<br>    \"forecast_distribution\": \"distr_gev\",<br>    \"perform_batching\": true,<br>    \"batch_size\": 118,<br>    \"epochs\": 54<br>  }<br>}",
          "{<br>  \"number\": 86,<br>  \"values\": [<br>    0.925289511680603,<br>    0.06386557221412659<br>  ],<br>  \"params\": {<br>    \"chain_function_mean\": 8.364880688910961,<br>    \"chain_function_std\": 1.9675759615879544,<br>    \"chain_function_constant\": 0.03855807995946198,<br>    \"optimizer\": \"SGD\",<br>    \"learning_rate\": 0.07242531349974841,<br>    \"forecast_distribution\": \"distr_gev\",<br>    \"perform_batching\": true,<br>    \"batch_size\": 921,<br>    \"epochs\": 111<br>  }<br>}",
          "{<br>  \"number\": 87,<br>  \"values\": [<br>    0.8886202573776245,<br>    0.06243525445461273<br>  ],<br>  \"params\": {<br>    \"chain_function_mean\": 9.697826023536484,<br>    \"chain_function_std\": 2.712360978180163,<br>    \"chain_function_constant\": 0.1449483082268379,<br>    \"optimizer\": \"SGD\",<br>    \"learning_rate\": 0.07253792938306293,<br>    \"forecast_distribution\": \"distr_gev\",<br>    \"perform_batching\": true,<br>    \"batch_size\": 195,<br>    \"epochs\": 204<br>  }<br>}",
          "{<br>  \"number\": 89,<br>  \"values\": [<br>    0.8900171518325806,<br>    0.06233824044466019<br>  ],<br>  \"params\": {<br>    \"chain_function_mean\": 2.962253379854788,<br>    \"chain_function_std\": 1.2024952964888163,<br>    \"chain_function_constant\": 0.06785421933722796,<br>    \"optimizer\": \"SGD\",<br>    \"learning_rate\": 0.08224316039119003,<br>    \"forecast_distribution\": \"distr_gev\",<br>    \"perform_batching\": true,<br>    \"batch_size\": 70,<br>    \"epochs\": 121<br>  }<br>}",
          "{<br>  \"number\": 90,<br>  \"values\": [<br>    1.6096148490905762,<br>    0.09865641593933105<br>  ],<br>  \"params\": {<br>    \"chain_function_mean\": 7.505321227527002,<br>    \"chain_function_std\": 1.4181361743735716,<br>    \"chain_function_constant\": 0.02257781557219809,<br>    \"optimizer\": \"SGD\",<br>    \"learning_rate\": 0.06696215969458139,<br>    \"forecast_distribution\": \"distr_gev\",<br>    \"perform_batching\": true,<br>    \"batch_size\": 706,<br>    \"epochs\": 26<br>  }<br>}",
          "{<br>  \"number\": 92,<br>  \"values\": [<br>    0.889353334903717,<br>    0.06317198276519775<br>  ],<br>  \"params\": {<br>    \"chain_function_mean\": 0.779531366852817,<br>    \"chain_function_std\": 1.783813858370121,<br>    \"chain_function_constant\": 0.1244383078452226,<br>    \"optimizer\": \"SGD\",<br>    \"learning_rate\": 0.07698668612298692,<br>    \"forecast_distribution\": \"distr_gev\",<br>    \"perform_batching\": true,<br>    \"batch_size\": 131,<br>    \"epochs\": 80<br>  }<br>}",
          "{<br>  \"number\": 94,<br>  \"values\": [<br>    1.0279114246368408,<br>    0.061343077570199966<br>  ],<br>  \"params\": {<br>    \"chain_function_mean\": 10.315399843804691,<br>    \"chain_function_std\": 2.3717299312074194,<br>    \"chain_function_constant\": 0.0027092118496142613,<br>    \"optimizer\": \"SGD\",<br>    \"learning_rate\": 0.0626660880866232,<br>    \"forecast_distribution\": \"distr_mixture_linear\",<br>    \"distribution_1\": \"distr_gev\",<br>    \"distribution_2\": \"distr_trunc_normal\",<br>    \"perform_batching\": true,<br>    \"batch_size\": 49,<br>    \"epochs\": 58<br>  }<br>}",
          "{<br>  \"number\": 96,<br>  \"values\": [<br>    0.9088723659515381,<br>    0.061734236776828766<br>  ],<br>  \"params\": {<br>    \"chain_function_mean\": 8.868210591103836,<br>    \"chain_function_std\": 2.3930945132996047,<br>    \"chain_function_constant\": 0.005729305797212493,<br>    \"optimizer\": \"SGD\",<br>    \"learning_rate\": 0.06934001583531875,<br>    \"forecast_distribution\": \"distr_gev\",<br>    \"perform_batching\": true,<br>    \"batch_size\": 48,<br>    \"epochs\": 63<br>  }<br>}",
          "{<br>  \"number\": 97,<br>  \"values\": [<br>    0.9070626497268677,<br>    0.062171608209609985<br>  ],<br>  \"params\": {<br>    \"chain_function_mean\": 8.855467299987032,<br>    \"chain_function_std\": 1.523479047395687,<br>    \"chain_function_constant\": 0.029385452254843118,<br>    \"optimizer\": \"SGD\",<br>    \"learning_rate\": 0.06350290369527711,<br>    \"forecast_distribution\": \"distr_gev\",<br>    \"perform_batching\": true,<br>    \"batch_size\": 49,<br>    \"epochs\": 59<br>  }<br>}",
          "{<br>  \"number\": 98,<br>  \"values\": [<br>    0.9082488417625427,<br>    0.06286561489105225<br>  ],<br>  \"params\": {<br>    \"chain_function_mean\": 10.424557930357562,<br>    \"chain_function_std\": 3.235715212504653,<br>    \"chain_function_constant\": 0.00016398112900473105,<br>    \"optimizer\": \"SGD\",<br>    \"learning_rate\": 0.07382691223276097,<br>    \"forecast_distribution\": \"distr_mixture_linear\",<br>    \"distribution_1\": \"distr_gev\",<br>    \"distribution_2\": \"distr_trunc_normal\",<br>    \"perform_batching\": true,<br>    \"batch_size\": 152,<br>    \"epochs\": 101<br>  }<br>}",
          "{<br>  \"number\": 99,<br>  \"values\": [<br>    0.8935203552246094,<br>    0.06239175796508789<br>  ],<br>  \"params\": {<br>    \"chain_function_mean\": 9.528051979410025,<br>    \"chain_function_std\": 1.2057576501109808,<br>    \"chain_function_constant\": 0.8959456285076897,<br>    \"optimizer\": \"SGD\",<br>    \"learning_rate\": 0.07604389836913898,<br>    \"forecast_distribution\": \"distr_log_normal\",<br>    \"perform_batching\": true,<br>    \"batch_size\": 99,<br>    \"epochs\": 57<br>  }<br>}",
          "{<br>  \"number\": 100,<br>  \"values\": [<br>    0.9321588277816772,<br>    0.06507017463445663<br>  ],<br>  \"params\": {<br>    \"chain_function_mean\": 11.2433891309132,<br>    \"chain_function_std\": 1.7010187765123788,<br>    \"chain_function_constant\": 0.06261771174025375,<br>    \"optimizer\": \"SGD\",<br>    \"learning_rate\": 0.07015341744104157,<br>    \"forecast_distribution\": \"distr_mixture\",<br>    \"distribution_1\": \"distr_trunc_normal\",<br>    \"distribution_2\": \"distr_gev\",<br>    \"perform_batching\": true,<br>    \"batch_size\": 187,<br>    \"epochs\": 30<br>  }<br>}",
          "{<br>  \"number\": 101,<br>  \"values\": [<br>    0.8889183402061462,<br>    0.06295359879732132<br>  ],<br>  \"params\": {<br>    \"chain_function_mean\": 8.384142799837019,<br>    \"chain_function_std\": 2.286652434516019,<br>    \"chain_function_constant\": 0.7369306983484591,<br>    \"optimizer\": \"SGD\",<br>    \"learning_rate\": 0.08704075734770503,<br>    \"forecast_distribution\": \"distr_gev\",<br>    \"perform_batching\": true,<br>    \"batch_size\": 751,<br>    \"epochs\": 40<br>  }<br>}",
          "{<br>  \"number\": 102,<br>  \"values\": [<br>    0.8898117542266846,<br>    0.061935290694236755<br>  ],<br>  \"params\": {<br>    \"chain_function_mean\": 9.974414858726904,<br>    \"chain_function_std\": 1.4906604475766816,<br>    \"chain_function_constant\": 0.0851387085597522,<br>    \"optimizer\": \"SGD\",<br>    \"learning_rate\": 0.06842811160025529,<br>    \"forecast_distribution\": \"distr_gev\",<br>    \"perform_batching\": true,<br>    \"batch_size\": 53,<br>    \"epochs\": 96<br>  }<br>}",
          "{<br>  \"number\": 103,<br>  \"values\": [<br>    1.4834558963775635,<br>    0.08927500247955322<br>  ],<br>  \"params\": {<br>    \"chain_function_mean\": 9.81033445963242,<br>    \"chain_function_std\": 1.4895411466120294,<br>    \"chain_function_constant\": 0.08412631399716775,<br>    \"optimizer\": \"SGD\",<br>    \"learning_rate\": 0.05845078786903487,<br>    \"forecast_distribution\": \"distr_gev\",<br>    \"perform_batching\": true,<br>    \"batch_size\": 592,<br>    \"epochs\": 20<br>  }<br>}",
          "{<br>  \"number\": 104,<br>  \"values\": [<br>    0.9762683510780334,<br>    0.06155037879943848<br>  ],<br>  \"params\": {<br>    \"chain_function_mean\": 9.124564546172863,<br>    \"chain_function_std\": 1.261130228289884,<br>    \"chain_function_constant\": 0.0030718976015092214,<br>    \"optimizer\": \"SGD\",<br>    \"learning_rate\": 0.062418937280561804,<br>    \"forecast_distribution\": \"distr_mixture_linear\",<br>    \"distribution_1\": \"distr_gev\",<br>    \"distribution_2\": \"distr_trunc_normal\",<br>    \"perform_batching\": true,<br>    \"batch_size\": 31,<br>    \"epochs\": 95<br>  }<br>}",
          "{<br>  \"number\": 110,<br>  \"values\": [<br>    0.8969157338142395,<br>    0.06179817020893097<br>  ],<br>  \"params\": {<br>    \"chain_function_mean\": 7.852500595818123,<br>    \"chain_function_std\": 1.2553139272259897,<br>    \"chain_function_constant\": 0.00043837123452883375,<br>    \"optimizer\": \"SGD\",<br>    \"learning_rate\": 0.09232979487566673,<br>    \"forecast_distribution\": \"distr_mixture_linear\",<br>    \"distribution_1\": \"distr_gev\",<br>    \"distribution_2\": \"distr_trunc_normal\",<br>    \"perform_batching\": true,<br>    \"batch_size\": 41,<br>    \"epochs\": 132<br>  }<br>}",
          "{<br>  \"number\": 114,<br>  \"values\": [<br>    0.88923579454422,<br>    0.06303691864013672<br>  ],<br>  \"params\": {<br>    \"chain_function_mean\": 7.805973812033871,<br>    \"chain_function_std\": 1.2675183157150074,<br>    \"chain_function_constant\": 0.9897318859758824,<br>    \"optimizer\": \"SGD\",<br>    \"learning_rate\": 0.08288862848750563,<br>    \"forecast_distribution\": \"distr_gev\",<br>    \"perform_batching\": true,<br>    \"batch_size\": 44,<br>    \"epochs\": 95<br>  }<br>}",
          "{<br>  \"number\": 115,<br>  \"values\": [<br>    0.8888293504714966,<br>    0.062487803399562836<br>  ],<br>  \"params\": {<br>    \"chain_function_mean\": 6.732965529678205,<br>    \"chain_function_std\": 0.9519232458041191,<br>    \"chain_function_constant\": 0.559675972079405,<br>    \"optimizer\": \"SGD\",<br>    \"learning_rate\": 0.09364081136604271,<br>    \"forecast_distribution\": \"distr_mixture_linear\",<br>    \"distribution_1\": \"distr_gev\",<br>    \"distribution_2\": \"distr_trunc_normal\",<br>    \"perform_batching\": true,<br>    \"batch_size\": 89,<br>    \"epochs\": 66<br>  }<br>}",
          "{<br>  \"number\": 116,<br>  \"values\": [<br>    0.891418993473053,<br>    0.06240938603878021<br>  ],<br>  \"params\": {<br>    \"chain_function_mean\": 10.186793511540182,<br>    \"chain_function_std\": 1.4700490919752573,<br>    \"chain_function_constant\": 0.6740736262663555,<br>    \"optimizer\": \"SGD\",<br>    \"learning_rate\": 0.09032798792057031,<br>    \"forecast_distribution\": \"distr_log_normal\",<br>    \"perform_batching\": true,<br>    \"batch_size\": 942,<br>    \"epochs\": 126<br>  }<br>}",
          "{<br>  \"number\": 117,<br>  \"values\": [<br>    0.8966472148895264,<br>    0.06204590946435928<br>  ],<br>  \"params\": {<br>    \"chain_function_mean\": 9.173397937872725,<br>    \"chain_function_std\": 2.0404935599879144,<br>    \"chain_function_constant\": 0.023339867246039696,<br>    \"optimizer\": \"SGD\",<br>    \"learning_rate\": 0.09782401081409656,<br>    \"forecast_distribution\": \"distr_mixture\",<br>    \"distribution_1\": \"distr_trunc_normal\",<br>    \"distribution_2\": \"distr_log_normal\",<br>    \"perform_batching\": true,<br>    \"batch_size\": 38,<br>    \"epochs\": 44<br>  }<br>}",
          "{<br>  \"number\": 118,<br>  \"values\": [<br>    0.8931614756584167,<br>    0.0621941015124321<br>  ],<br>  \"params\": {<br>    \"chain_function_mean\": 8.081852814068505,<br>    \"chain_function_std\": 1.7355806849215583,<br>    \"chain_function_constant\": 0.05898987474892701,<br>    \"optimizer\": \"SGD\",<br>    \"learning_rate\": 0.061032134085643945,<br>    \"forecast_distribution\": \"distr_gev\",<br>    \"perform_batching\": true,<br>    \"batch_size\": 95,<br>    \"epochs\": 71<br>  }<br>}",
          "{<br>  \"number\": 120,<br>  \"values\": [<br>    0.8885165452957153,<br>    0.06275948137044907<br>  ],<br>  \"params\": {<br>    \"chain_function_mean\": 9.916346471380498,<br>    \"chain_function_std\": 1.8730277998619707,<br>    \"chain_function_constant\": 0.4882398574854323,<br>    \"optimizer\": \"SGD\",<br>    \"learning_rate\": 0.04332564057938055,<br>    \"forecast_distribution\": \"distr_gev\",<br>    \"perform_batching\": true,<br>    \"batch_size\": 673,<br>    \"epochs\": 95<br>  }<br>}",
          "{<br>  \"number\": 122,<br>  \"values\": [<br>    0.9037171602249146,<br>    0.061881162226200104<br>  ],<br>  \"params\": {<br>    \"chain_function_mean\": 7.12349242777051,<br>    \"chain_function_std\": 1.0534364574341375,<br>    \"chain_function_constant\": 0.02357932408576241,<br>    \"optimizer\": \"SGD\",<br>    \"learning_rate\": 0.08673120482143387,<br>    \"forecast_distribution\": \"distr_gev\",<br>    \"perform_batching\": true,<br>    \"batch_size\": 250,<br>    \"epochs\": 132<br>  }<br>}",
          "{<br>  \"number\": 123,<br>  \"values\": [<br>    0.8978154063224792,<br>    0.06358549743890762<br>  ],<br>  \"params\": {<br>    \"chain_function_mean\": 4.78324631261683,<br>    \"chain_function_std\": 1.6668258405717487,<br>    \"chain_function_constant\": 0.855879534867368,<br>    \"optimizer\": \"SGD\",<br>    \"learning_rate\": 0.05642629899623797,<br>    \"forecast_distribution\": \"distr_mixture_linear\",<br>    \"distribution_1\": \"distr_log_normal\",<br>    \"distribution_2\": \"distr_gev\",<br>    \"perform_batching\": true,<br>    \"batch_size\": 555,<br>    \"epochs\": 16<br>  }<br>}",
          "{<br>  \"number\": 124,<br>  \"values\": [<br>    1.062208890914917,<br>    0.06394900381565094<br>  ],<br>  \"params\": {<br>    \"chain_function_mean\": 9.48510004070829,<br>    \"chain_function_std\": 1.3083241802474486,<br>    \"chain_function_constant\": 0.0075836012865517,<br>    \"optimizer\": \"SGD\",<br>    \"learning_rate\": 0.09150633914458495,<br>    \"forecast_distribution\": \"distr_mixture\",<br>    \"distribution_1\": \"distr_gev\",<br>    \"distribution_2\": \"distr_trunc_normal\",<br>    \"perform_batching\": true,<br>    \"batch_size\": 201,<br>    \"epochs\": 46<br>  }<br>}",
          "{<br>  \"number\": 125,<br>  \"values\": [<br>    0.9050768613815308,<br>    0.06412430107593536<br>  ],<br>  \"params\": {<br>    \"chain_function_mean\": 8.505595124847556,<br>    \"chain_function_std\": 2.443597094821146,<br>    \"chain_function_constant\": 0.09304172910207593,<br>    \"optimizer\": \"SGD\",<br>    \"learning_rate\": 0.007626633916591415,<br>    \"forecast_distribution\": \"distr_log_normal\",<br>    \"perform_batching\": true,<br>    \"batch_size\": 152,<br>    \"epochs\": 71<br>  }<br>}",
          "{<br>  \"number\": 127,<br>  \"values\": [<br>    0.8953449130058289,<br>    0.06183896213769913<br>  ],<br>  \"params\": {<br>    \"chain_function_mean\": 7.359248276869529,<br>    \"chain_function_std\": 2.0477576003806006,<br>    \"chain_function_constant\": 0.049501313391030845,<br>    \"optimizer\": \"SGD\",<br>    \"learning_rate\": 0.053583068911946086,<br>    \"forecast_distribution\": \"distr_gev\",<br>    \"perform_batching\": true,<br>    \"batch_size\": 79,<br>    \"epochs\": 96<br>  }<br>}",
          "{<br>  \"number\": 131,<br>  \"values\": [<br>    2.515634059906006,<br>    0.1055038571357727<br>  ],<br>  \"params\": {<br>    \"chain_function_mean\": 9.102501148105803,<br>    \"chain_function_std\": 1.4661825163613564,<br>    \"chain_function_constant\": 0.03217469629553208,<br>    \"optimizer\": \"SGD\",<br>    \"learning_rate\": 0.058020385604179284,<br>    \"forecast_distribution\": \"distr_gev\",<br>    \"perform_batching\": true,<br>    \"batch_size\": 306,<br>    \"epochs\": 1<br>  }<br>}",
          "{<br>  \"number\": 132,<br>  \"values\": [<br>    0.8896198272705078,<br>    0.06301561743021011<br>  ],<br>  \"params\": {<br>    \"chain_function_mean\": 1.2154518890010024,<br>    \"chain_function_std\": 1.1190651438899426,<br>    \"chain_function_constant\": 0.0019036669091258849,<br>    \"optimizer\": \"SGD\",<br>    \"learning_rate\": 0.06772612669786186,<br>    \"forecast_distribution\": \"distr_gev\",<br>    \"perform_batching\": true,<br>    \"batch_size\": 179,<br>    \"epochs\": 84<br>  }<br>}",
          "{<br>  \"number\": 138,<br>  \"values\": [<br>    0.8943147659301758,<br>    0.06253887712955475<br>  ],<br>  \"params\": {<br>    \"chain_function_mean\": 8.012484093804382,<br>    \"chain_function_std\": 1.9552420581355958,<br>    \"chain_function_constant\": 0.06975725040728617,<br>    \"optimizer\": \"SGD\",<br>    \"learning_rate\": 0.06536115207806548,<br>    \"forecast_distribution\": \"distr_gev\",<br>    \"perform_batching\": true,<br>    \"batch_size\": 36,<br>    \"epochs\": 54<br>  }<br>}",
          "{<br>  \"number\": 142,<br>  \"values\": [<br>    0.889410674571991,<br>    0.06296852976083755<br>  ],<br>  \"params\": {<br>    \"chain_function_mean\": 2.572099452845741,<br>    \"chain_function_std\": 0.8896020105803653,<br>    \"chain_function_constant\": 0.6039439990336036,<br>    \"optimizer\": \"SGD\",<br>    \"learning_rate\": 0.061742495977403535,<br>    \"forecast_distribution\": \"distr_gev\",<br>    \"perform_batching\": true,<br>    \"batch_size\": 433,<br>    \"epochs\": 106<br>  }<br>}",
          "{<br>  \"number\": 143,<br>  \"values\": [<br>    0.961358904838562,<br>    0.06516764312982559<br>  ],<br>  \"params\": {<br>    \"chain_function_mean\": 10.59233706226846,<br>    \"chain_function_std\": 1.557005833899104,<br>    \"chain_function_constant\": 0.022673024173488158,<br>    \"optimizer\": \"SGD\",<br>    \"learning_rate\": 0.012832932987178587,<br>    \"forecast_distribution\": \"distr_gev\",<br>    \"perform_batching\": true,<br>    \"batch_size\": 112,<br>    \"epochs\": 136<br>  }<br>}",
          "{<br>  \"number\": 144,<br>  \"values\": [<br>    3.7531816959381104,<br>    0.11003082245588303<br>  ],<br>  \"params\": {<br>    \"chain_function_mean\": 14.285474844320863,<br>    \"chain_function_std\": 2.2751153039787053,<br>    \"chain_function_constant\": 0.0021874089756415997,<br>    \"optimizer\": \"SGD\",<br>    \"learning_rate\": 0.04988578291147953,<br>    \"forecast_distribution\": \"distr_mixture_linear\",<br>    \"distribution_1\": \"distr_log_normal\",<br>    \"distribution_2\": \"distr_log_normal\",<br>    \"perform_batching\": true,<br>    \"batch_size\": 61,<br>    \"epochs\": 32<br>  }<br>}",
          "{<br>  \"number\": 146,<br>  \"values\": [<br>    0.8933019042015076,<br>    0.06286414712667465<br>  ],<br>  \"params\": {<br>    \"chain_function_mean\": -0.1419249009637813,<br>    \"chain_function_std\": 0.7109817766605937,<br>    \"chain_function_constant\": 0.9682018056302563,<br>    \"optimizer\": \"SGD\",<br>    \"learning_rate\": 0.08014495120621398,<br>    \"forecast_distribution\": \"distr_mixture\",<br>    \"distribution_1\": \"distr_trunc_normal\",<br>    \"distribution_2\": \"distr_gev\",<br>    \"perform_batching\": true,<br>    \"batch_size\": 35,<br>    \"epochs\": 68<br>  }<br>}",
          "{<br>  \"number\": 147,<br>  \"values\": [<br>    2.900442361831665,<br>    0.11010586470365524<br>  ],<br>  \"params\": {<br>    \"chain_function_mean\": 8.309250673929487,<br>    \"chain_function_std\": 1.3729014300864049,<br>    \"chain_function_constant\": 0.17544256015866078,<br>    \"optimizer\": \"SGD\",<br>    \"learning_rate\": 0.026383726798025826,<br>    \"forecast_distribution\": \"distr_log_normal\",<br>    \"perform_batching\": true,<br>    \"batch_size\": 874,<br>    \"epochs\": 15<br>  }<br>}",
          "{<br>  \"number\": 148,<br>  \"values\": [<br>    0.9274780750274658,<br>    0.06481373310089111<br>  ],<br>  \"params\": {<br>    \"chain_function_mean\": 9.016427626616673,<br>    \"chain_function_std\": 1.7150309257730691,<br>    \"chain_function_constant\": 0.05967861154397502,<br>    \"optimizer\": \"SGD\",<br>    \"learning_rate\": 0.08789383681987242,<br>    \"forecast_distribution\": \"distr_gev\",<br>    \"perform_batching\": true,<br>    \"batch_size\": 529,<br>    \"epochs\": 49<br>  }<br>}",
          "{<br>  \"number\": 150,<br>  \"values\": [<br>    0.8959908485412598,<br>    0.06184663623571396<br>  ],<br>  \"params\": {<br>    \"chain_function_mean\": 8.638038521044445,<br>    \"chain_function_std\": 1.8724014677823655,<br>    \"chain_function_constant\": 0.04183951010714849,<br>    \"optimizer\": \"SGD\",<br>    \"learning_rate\": 0.07265144658393767,<br>    \"forecast_distribution\": \"distr_gev\",<br>    \"perform_batching\": true,<br>    \"batch_size\": 108,<br>    \"epochs\": 168<br>  }<br>}",
          "{<br>  \"number\": 151,<br>  \"values\": [<br>    0.9234844446182251,<br>    0.0641126036643982<br>  ],<br>  \"params\": {<br>    \"chain_function_mean\": 9.622737542842787,<br>    \"chain_function_std\": 1.1627318812280265,<br>    \"chain_function_constant\": 0.03617132077674787,<br>    \"optimizer\": \"SGD\",<br>    \"learning_rate\": 0.07271811429912109,<br>    \"forecast_distribution\": \"distr_gev\",<br>    \"perform_batching\": true,<br>    \"batch_size\": 334,<br>    \"epochs\": 64<br>  }<br>}",
          "{<br>  \"number\": 152,<br>  \"values\": [<br>    0.890654444694519,<br>    0.06288901716470718<br>  ],<br>  \"params\": {<br>    \"chain_function_mean\": 3.3952231501528383,<br>    \"chain_function_std\": 1.558287946667837,<br>    \"chain_function_constant\": 0.0751013767198406,<br>    \"optimizer\": \"SGD\",<br>    \"learning_rate\": 0.06934393819488556,<br>    \"forecast_distribution\": \"distr_gev\",<br>    \"perform_batching\": true,<br>    \"batch_size\": 145,<br>    \"epochs\": 87<br>  }<br>}",
          "{<br>  \"number\": 153,<br>  \"values\": [<br>    1.4062246084213257,<br>    0.0813368558883667<br>  ],<br>  \"params\": {<br>    \"chain_function_mean\": 8.92203933692755,<br>    \"chain_function_std\": 1.695184172260047,<br>    \"chain_function_constant\": 0.029936225823441416,<br>    \"optimizer\": \"SGD\",<br>    \"learning_rate\": 0.07584021694269653,<br>    \"forecast_distribution\": \"distr_gev\",<br>    \"perform_batching\": true,<br>    \"batch_size\": 747,<br>    \"epochs\": 33<br>  }<br>}",
          "{<br>  \"number\": 155,<br>  \"values\": [<br>    0.9608001708984375,<br>    0.061280641704797745<br>  ],<br>  \"params\": {<br>    \"chain_function_mean\": 10.303645117922436,<br>    \"chain_function_std\": 1.2889763619207142,<br>    \"chain_function_constant\": 0.0015863622238470522,<br>    \"optimizer\": \"SGD\",<br>    \"learning_rate\": 0.07883223082261465,<br>    \"forecast_distribution\": \"distr_gev\",<br>    \"perform_batching\": true,<br>    \"batch_size\": 73,<br>    \"epochs\": 66<br>  }<br>}",
          "{<br>  \"number\": 156,<br>  \"values\": [<br>    0.8896496891975403,<br>    0.06206654757261276<br>  ],<br>  \"params\": {<br>    \"chain_function_mean\": 7.820317296713474,<br>    \"chain_function_std\": 1.912459846105143,<br>    \"chain_function_constant\": 0.050511669955710894,<br>    \"optimizer\": \"SGD\",<br>    \"learning_rate\": 0.06578909036201226,<br>    \"forecast_distribution\": \"distr_trunc_normal\",<br>    \"perform_batching\": true,<br>    \"batch_size\": 257,<br>    \"epochs\": 191<br>  }<br>}",
          "{<br>  \"number\": 157,<br>  \"values\": [<br>    0.9014092087745667,<br>    0.061570391058921814<br>  ],<br>  \"params\": {<br>    \"chain_function_mean\": 9.35281942382267,<br>    \"chain_function_std\": 2.0891846413586403,<br>    \"chain_function_constant\": 0.028039770184294727,<br>    \"optimizer\": \"SGD\",<br>    \"learning_rate\": 0.06800372156137748,<br>    \"forecast_distribution\": \"distr_gev\",<br>    \"perform_batching\": true,<br>    \"batch_size\": 77,<br>    \"epochs\": 160<br>  }<br>}",
          "{<br>  \"number\": 158,<br>  \"values\": [<br>    0.8886426687240601,<br>    0.06279639899730682<br>  ],<br>  \"params\": {<br>    \"chain_function_mean\": 10.016445494334725,<br>    \"chain_function_std\": 2.1057871881082066,<br>    \"chain_function_constant\": 0.2966383208047883,<br>    \"optimizer\": \"SGD\",<br>    \"learning_rate\": 0.06820975467922354,<br>    \"forecast_distribution\": \"distr_gev\",<br>    \"perform_batching\": true,<br>    \"batch_size\": 80,<br>    \"epochs\": 209<br>  }<br>}",
          "{<br>  \"number\": 162,<br>  \"values\": [<br>    0.8892707228660583,<br>    0.06278844177722931<br>  ],<br>  \"params\": {<br>    \"chain_function_mean\": 9.401690376799667,<br>    \"chain_function_std\": 2.181228727318569,<br>    \"chain_function_constant\": 0.1406512450746255,<br>    \"optimizer\": \"SGD\",<br>    \"learning_rate\": 0.07760772830099177,<br>    \"forecast_distribution\": \"distr_gev\",<br>    \"perform_batching\": true,<br>    \"batch_size\": 139,<br>    \"epochs\": 163<br>  }<br>}",
          "{<br>  \"number\": 163,<br>  \"values\": [<br>    0.8897851705551147,<br>    0.06200406700372696<br>  ],<br>  \"params\": {<br>    \"chain_function_mean\": 8.841747980325957,<br>    \"chain_function_std\": 1.7756848746366052,<br>    \"chain_function_constant\": 0.09983253259684038,<br>    \"optimizer\": \"SGD\",<br>    \"learning_rate\": 0.07062725085474708,<br>    \"forecast_distribution\": \"distr_gev\",<br>    \"perform_batching\": true,<br>    \"batch_size\": 198,<br>    \"epochs\": 135<br>  }<br>}",
          "{<br>  \"number\": 164,<br>  \"values\": [<br>    0.8930496573448181,<br>    0.06340416520833969<br>  ],<br>  \"params\": {<br>    \"chain_function_mean\": 9.738794563784204,<br>    \"chain_function_std\": 1.3591142476185143,<br>    \"chain_function_constant\": 0.32168739530321855,<br>    \"optimizer\": \"SGD\",<br>    \"learning_rate\": 0.06819914273062161,<br>    \"forecast_distribution\": \"distr_trunc_normal\",<br>    \"perform_batching\": true,<br>    \"batch_size\": 3,<br>    \"epochs\": 223<br>  }<br>}",
          "{<br>  \"number\": 165,<br>  \"values\": [<br>    0.8894932270050049,<br>    0.06215747445821762<br>  ],<br>  \"params\": {<br>    \"chain_function_mean\": 10.76734169007829,<br>    \"chain_function_std\": 1.3691371484234551,<br>    \"chain_function_constant\": 0.08153649489191737,<br>    \"optimizer\": \"SGD\",<br>    \"learning_rate\": 0.07151943631444592,<br>    \"forecast_distribution\": \"distr_gev\",<br>    \"perform_batching\": true,<br>    \"batch_size\": 74,<br>    \"epochs\": 253<br>  }<br>}",
          "{<br>  \"number\": 166,<br>  \"values\": [<br>    0.9070369601249695,<br>    0.0669948160648346<br>  ],<br>  \"params\": {<br>    \"chain_function_mean\": 8.378489449447933,<br>    \"chain_function_std\": 1.4629631766773685,<br>    \"chain_function_constant\": 0.024320067964420673,<br>    \"optimizer\": \"SGD\",<br>    \"learning_rate\": 0.07541560443869307,<br>    \"forecast_distribution\": \"distr_gev\",<br>    \"perform_batching\": true,<br>    \"batch_size\": 114,<br>    \"epochs\": 112<br>  }<br>}",
          "{<br>  \"number\": 168,<br>  \"values\": [<br>    0.8917734622955322,<br>    0.06175415217876434<br>  ],<br>  \"params\": {<br>    \"chain_function_mean\": 9.413015070115051,<br>    \"chain_function_std\": 2.2366846320366904,<br>    \"chain_function_constant\": 0.06058430294341945,<br>    \"optimizer\": \"Adam\",<br>    \"learning_rate\": 0.07416043201063358,<br>    \"forecast_distribution\": \"distr_trunc_normal\",<br>    \"perform_batching\": false,<br>    \"epochs\": 288<br>  }<br>}",
          "{<br>  \"number\": 169,<br>  \"values\": [<br>    0.88837730884552,<br>    0.0625687688589096<br>  ],<br>  \"params\": {<br>    \"chain_function_mean\": 9.409599278942174,<br>    \"chain_function_std\": 2.070069623565504,<br>    \"chain_function_constant\": 0.36070916091664834,<br>    \"optimizer\": \"Adam\",<br>    \"learning_rate\": 0.06515616580287949,<br>    \"forecast_distribution\": \"distr_gev\",<br>    \"perform_batching\": false,<br>    \"epochs\": 174<br>  }<br>}",
          "{<br>  \"number\": 170,<br>  \"values\": [<br>    0.8904653191566467,<br>    0.06217951327562332<br>  ],<br>  \"params\": {<br>    \"chain_function_mean\": 8.597251566255206,<br>    \"chain_function_std\": 2.2271260356656133,<br>    \"chain_function_constant\": 0.09953443970683139,<br>    \"optimizer\": \"Adam\",<br>    \"learning_rate\": 0.07224348377108276,<br>    \"forecast_distribution\": \"distr_gev\",<br>    \"perform_batching\": false,<br>    \"epochs\": 217<br>  }<br>}",
          "{<br>  \"number\": 172,<br>  \"values\": [<br>    0.8926184177398682,<br>    0.062103934586048126<br>  ],<br>  \"params\": {<br>    \"chain_function_mean\": 8.777471394518415,<br>    \"chain_function_std\": 2.654833334212287,<br>    \"chain_function_constant\": 0.05201452850506149,<br>    \"optimizer\": \"SGD\",<br>    \"learning_rate\": 0.07369799784380845,<br>    \"forecast_distribution\": \"distr_gev\",<br>    \"perform_batching\": true,<br>    \"batch_size\": 166,<br>    \"epochs\": 286<br>  }<br>}",
          "{<br>  \"number\": 173,<br>  \"values\": [<br>    0.8887767195701599,<br>    0.06282711029052734<br>  ],<br>  \"params\": {<br>    \"chain_function_mean\": 9.272552290167017,<br>    \"chain_function_std\": 1.9725737030462835,<br>    \"chain_function_constant\": 0.41568831056426325,<br>    \"optimizer\": \"SGD\",<br>    \"learning_rate\": 0.06686831026109503,<br>    \"forecast_distribution\": \"distr_gev\",<br>    \"perform_batching\": true,<br>    \"batch_size\": 102,<br>    \"epochs\": 321<br>  }<br>}",
          "{<br>  \"number\": 176,<br>  \"values\": [<br>    0.8892902135848999,<br>    0.06203865259885788<br>  ],<br>  \"params\": {<br>    \"chain_function_mean\": 11.397020004988814,<br>    \"chain_function_std\": 2.5395457934377363,<br>    \"chain_function_constant\": 0.06813066574050868,<br>    \"optimizer\": \"Adam\",<br>    \"learning_rate\": 0.07846068073434855,<br>    \"forecast_distribution\": \"distr_mixture\",<br>    \"distribution_1\": \"distr_trunc_normal\",<br>    \"distribution_2\": \"distr_gev\",<br>    \"perform_batching\": false,<br>    \"epochs\": 177<br>  }<br>}",
          "{<br>  \"number\": 178,<br>  \"values\": [<br>    0.8939133286476135,<br>    0.06176123023033142<br>  ],<br>  \"params\": {<br>    \"chain_function_mean\": 10.2448376782202,<br>    \"chain_function_std\": 2.8256408751688835,<br>    \"chain_function_constant\": 0.03439490976863137,<br>    \"optimizer\": \"Adam\",<br>    \"learning_rate\": 0.07465836377834048,<br>    \"forecast_distribution\": \"distr_mixture\",<br>    \"distribution_1\": \"distr_trunc_normal\",<br>    \"distribution_2\": \"distr_gev\",<br>    \"perform_batching\": false,<br>    \"epochs\": 145<br>  }<br>}",
          "{<br>  \"number\": 179,<br>  \"values\": [<br>    0.8969019651412964,<br>    0.061713896691799164<br>  ],<br>  \"params\": {<br>    \"chain_function_mean\": 10.737531027774587,<br>    \"chain_function_std\": 2.4800394036169457,<br>    \"chain_function_constant\": 0.027090410645937226,<br>    \"optimizer\": \"Adam\",<br>    \"learning_rate\": 0.07097876239228859,<br>    \"forecast_distribution\": \"distr_mixture\",<br>    \"distribution_1\": \"distr_trunc_normal\",<br>    \"distribution_2\": \"distr_gev\",<br>    \"perform_batching\": false,<br>    \"epochs\": 191<br>  }<br>}",
          "{<br>  \"number\": 180,<br>  \"values\": [<br>    0.893990159034729,<br>    0.061915017664432526<br>  ],<br>  \"params\": {<br>    \"chain_function_mean\": 10.357525911282744,<br>    \"chain_function_std\": 2.6662665692894105,<br>    \"chain_function_constant\": 0.055044397529735306,<br>    \"optimizer\": \"Adam\",<br>    \"learning_rate\": 0.0738924536204005,<br>    \"forecast_distribution\": \"distr_mixture\",<br>    \"distribution_1\": \"distr_trunc_normal\",<br>    \"distribution_2\": \"distr_gev\",<br>    \"perform_batching\": false,<br>    \"epochs\": 117<br>  }<br>}",
          "{<br>  \"number\": 181,<br>  \"values\": [<br>    0.8887014389038086,<br>    0.061884790658950806<br>  ],<br>  \"params\": {<br>    \"chain_function_mean\": 11.313435722664408,<br>    \"chain_function_std\": 2.808245148343113,<br>    \"chain_function_constant\": 0.10589683393165908,<br>    \"optimizer\": \"Adam\",<br>    \"learning_rate\": 0.07200486303185627,<br>    \"forecast_distribution\": \"distr_mixture\",<br>    \"distribution_1\": \"distr_trunc_normal\",<br>    \"distribution_2\": \"distr_gev\",<br>    \"perform_batching\": false,<br>    \"epochs\": 247<br>  }<br>}",
          "{<br>  \"number\": 183,<br>  \"values\": [<br>    0.8977801203727722,<br>    0.06170792877674103<br>  ],<br>  \"params\": {<br>    \"chain_function_mean\": 11.355208373315095,<br>    \"chain_function_std\": 2.470831893101625,<br>    \"chain_function_constant\": 0.024257723404986976,<br>    \"optimizer\": \"Adam\",<br>    \"learning_rate\": 0.0713660804849413,<br>    \"forecast_distribution\": \"distr_mixture\",<br>    \"distribution_1\": \"distr_trunc_normal\",<br>    \"distribution_2\": \"distr_gev\",<br>    \"perform_batching\": false,<br>    \"epochs\": 245<br>  }<br>}",
          "{<br>  \"number\": 184,<br>  \"values\": [<br>    0.8924611210823059,<br>    0.062125205993652344<br>  ],<br>  \"params\": {<br>    \"chain_function_mean\": 11.751501780620025,<br>    \"chain_function_std\": 2.8654395443186917,<br>    \"chain_function_constant\": 0.05896813961064309,<br>    \"optimizer\": \"Adam\",<br>    \"learning_rate\": 0.0822166281029806,<br>    \"forecast_distribution\": \"distr_mixture\",<br>    \"distribution_1\": \"distr_trunc_normal\",<br>    \"distribution_2\": \"distr_gev\",<br>    \"perform_batching\": false,<br>    \"epochs\": 161<br>  }<br>}",
          "{<br>  \"number\": 186,<br>  \"values\": [<br>    2.1063950061798096,<br>    0.12236781418323517<br>  ],<br>  \"params\": {<br>    \"chain_function_mean\": 9.772978094252741,<br>    \"chain_function_std\": 4.8118259698000525,<br>    \"chain_function_constant\": 0.7708909062135072,<br>    \"optimizer\": \"Adam\",<br>    \"learning_rate\": 0.07996840118918765,<br>    \"forecast_distribution\": \"distr_mixture\",<br>    \"distribution_1\": \"distr_log_normal\",<br>    \"distribution_2\": \"distr_log_normal\",<br>    \"perform_batching\": false,<br>    \"epochs\": 19<br>  }<br>}",
          "{<br>  \"number\": 187,<br>  \"values\": [<br>    0.9035094380378723,<br>    0.06560014933347702<br>  ],<br>  \"params\": {<br>    \"chain_function_mean\": 4.591331740710812,<br>    \"chain_function_std\": 0.8579345459775933,<br>    \"chain_function_constant\": 0.26406639709302504,<br>    \"optimizer\": \"Adam\",<br>    \"learning_rate\": 0.07691180293513987,<br>    \"forecast_distribution\": \"distr_mixture\",<br>    \"distribution_1\": \"distr_log_normal\",<br>    \"distribution_2\": \"distr_log_normal\",<br>    \"perform_batching\": false,<br>    \"epochs\": 79<br>  }<br>}",
          "{<br>  \"number\": 188,<br>  \"values\": [<br>    1.1334537267684937,<br>    0.0707678496837616<br>  ],<br>  \"params\": {<br>    \"chain_function_mean\": 1.3504591691737087,<br>    \"chain_function_std\": 4.517075249767327,<br>    \"chain_function_constant\": 0.7262135359004349,<br>    \"optimizer\": \"Adam\",<br>    \"learning_rate\": 0.08367544657837914,<br>    \"forecast_distribution\": \"distr_log_normal\",<br>    \"perform_batching\": false,<br>    \"epochs\": 39<br>  }<br>}",
          "{<br>  \"number\": 189,<br>  \"values\": [<br>    0.92734694480896,<br>    0.06909239292144775<br>  ],<br>  \"params\": {<br>    \"chain_function_mean\": 5.614330974148743,<br>    \"chain_function_std\": 1.062516244272309,<br>    \"chain_function_constant\": 0.9029152818923702,<br>    \"optimizer\": \"Adam\",<br>    \"learning_rate\": 0.07940387889612752,<br>    \"forecast_distribution\": \"distr_mixture\",<br>    \"distribution_1\": \"distr_trunc_normal\",<br>    \"distribution_2\": \"distr_gev\",<br>    \"perform_batching\": false,<br>    \"epochs\": 105<br>  }<br>}",
          "{<br>  \"number\": 190,<br>  \"values\": [<br>    0.8919409513473511,<br>    0.06271540373563766<br>  ],<br>  \"params\": {<br>    \"chain_function_mean\": 8.263521445681596,<br>    \"chain_function_std\": 4.139840955215646,<br>    \"chain_function_constant\": 0.5569187292553829,<br>    \"optimizer\": \"Adam\",<br>    \"learning_rate\": 0.07573488269145623,<br>    \"forecast_distribution\": \"distr_log_normal\",<br>    \"perform_batching\": false,<br>    \"epochs\": 140<br>  }<br>}",
          "{<br>  \"number\": 191,<br>  \"values\": [<br>    2.446683406829834,<br>    0.10386265814304352<br>  ],<br>  \"params\": {<br>    \"chain_function_mean\": 9.61733541907909,<br>    \"chain_function_std\": 3.8477692633449365,<br>    \"chain_function_constant\": 0.836033325668111,<br>    \"optimizer\": \"Adam\",<br>    \"learning_rate\": 0.07331729872979043,<br>    \"forecast_distribution\": \"distr_mixture\",<br>    \"distribution_1\": \"distr_log_normal\",<br>    \"distribution_2\": \"distr_log_normal\",<br>    \"perform_batching\": false,<br>    \"epochs\": 12<br>  }<br>}",
          "{<br>  \"number\": 192,<br>  \"values\": [<br>    1.2138087749481201,<br>    0.07387175410985947<br>  ],<br>  \"params\": {<br>    \"chain_function_mean\": 2.6071301135156197,<br>    \"chain_function_std\": 3.6640703110224577,<br>    \"chain_function_constant\": 0.6713589432078191,<br>    \"optimizer\": \"Adam\",<br>    \"learning_rate\": 0.01957875136178846,<br>    \"forecast_distribution\": \"distr_trunc_normal\",<br>    \"perform_batching\": false,<br>    \"epochs\": 121<br>  }<br>}",
          "{<br>  \"number\": 193,<br>  \"values\": [<br>    0.8906142115592957,<br>    0.06276684999465942<br>  ],<br>  \"params\": {<br>    \"chain_function_mean\": 8.47433755379109,<br>    \"chain_function_std\": 1.644509099881525,<br>    \"chain_function_constant\": 0.5001086793806573,<br>    \"optimizer\": \"Adam\",<br>    \"learning_rate\": 0.07078213388956583,<br>    \"forecast_distribution\": \"distr_mixture\",<br>    \"distribution_1\": \"distr_trunc_normal\",<br>    \"distribution_2\": \"distr_gev\",<br>    \"perform_batching\": false,<br>    \"epochs\": 74<br>  }<br>}",
          "{<br>  \"number\": 194,<br>  \"values\": [<br>    0.8931555151939392,<br>    0.06345701962709427<br>  ],<br>  \"params\": {<br>    \"chain_function_mean\": 0.9593784283599582,<br>    \"chain_function_std\": 1.007302891399664,<br>    \"chain_function_constant\": 0.021755097060089067,<br>    \"optimizer\": \"Adam\",<br>    \"learning_rate\": 0.07848156744352283,<br>    \"forecast_distribution\": \"distr_trunc_normal\",<br>    \"perform_batching\": false,<br>    \"epochs\": 154<br>  }<br>}",
          "{<br>  \"number\": 195,<br>  \"values\": [<br>    1.018057942390442,<br>    0.06664898246526718<br>  ],<br>  \"params\": {<br>    \"chain_function_mean\": 9.28730593390603,<br>    \"chain_function_std\": 0.517661468218676,<br>    \"chain_function_constant\": 0.4036604029005647,<br>    \"optimizer\": \"Adam\",<br>    \"learning_rate\": 0.07527115000575244,<br>    \"forecast_distribution\": \"distr_log_normal\",<br>    \"perform_batching\": false,<br>    \"epochs\": 50<br>  }<br>}",
          "{<br>  \"number\": 196,<br>  \"values\": [<br>    0.8905094861984253,<br>    0.06336434185504913<br>  ],<br>  \"params\": {<br>    \"chain_function_mean\": -0.47888085775283074,<br>    \"chain_function_std\": 1.893993816050844,<br>    \"chain_function_constant\": 0.03913716025063962,<br>    \"optimizer\": \"Adam\",<br>    \"learning_rate\": 0.07269538334831827,<br>    \"forecast_distribution\": \"distr_mixture\",<br>    \"distribution_1\": \"distr_gev\",<br>    \"distribution_2\": \"distr_trunc_normal\",<br>    \"perform_batching\": false,<br>    \"epochs\": 344<br>  }<br>}",
          "{<br>  \"number\": 197,<br>  \"values\": [<br>    3.653153419494629,<br>    0.10980472713708878<br>  ],<br>  \"params\": {<br>    \"chain_function_mean\": 9.612214434496648,<br>    \"chain_function_std\": 2.2316546150442953,<br>    \"chain_function_constant\": 0.021854721183338678,<br>    \"optimizer\": \"Adam\",<br>    \"learning_rate\": 0.00024367539108839653,<br>    \"forecast_distribution\": \"distr_trunc_normal\",<br>    \"perform_batching\": false,<br>    \"epochs\": 23<br>  }<br>}",
          "{<br>  \"number\": 198,<br>  \"values\": [<br>    0.8910238742828369,<br>    0.06258007884025574<br>  ],<br>  \"params\": {<br>    \"chain_function_mean\": 9.219681660104733,<br>    \"chain_function_std\": 1.338386818594611,<br>    \"chain_function_constant\": 0.7535771962788891,<br>    \"optimizer\": \"Adam\",<br>    \"learning_rate\": 0.06900348638552187,<br>    \"forecast_distribution\": \"distr_mixture\",<br>    \"distribution_1\": \"distr_log_normal\",<br>    \"distribution_2\": \"distr_log_normal\",<br>    \"perform_batching\": false,<br>    \"epochs\": 379<br>  }<br>}",
          "{<br>  \"number\": 199,<br>  \"values\": [<br>    2.10598087310791,<br>    0.09954342246055603<br>  ],<br>  \"params\": {<br>    \"chain_function_mean\": 3.7630431114142766,<br>    \"chain_function_std\": 0.9266620186374177,<br>    \"chain_function_constant\": 0.8784398520198535,<br>    \"optimizer\": \"Adam\",<br>    \"learning_rate\": 0.012808311576531402,<br>    \"forecast_distribution\": \"distr_log_normal\",<br>    \"perform_batching\": false,<br>    \"epochs\": 110<br>  }<br>}",
          "{<br>  \"number\": 201,<br>  \"values\": [<br>    0.8966854810714722,<br>    0.06497050821781158<br>  ],<br>  \"params\": {<br>    \"chain_function_mean\": 8.255475403612797,<br>    \"chain_function_std\": 4.847702442254025,<br>    \"chain_function_constant\": 0.6809462301166216,<br>    \"optimizer\": \"SGD\",<br>    \"learning_rate\": 0.07526888850325866,<br>    \"forecast_distribution\": \"distr_mixture_linear\",<br>    \"distribution_1\": \"distr_trunc_normal\",<br>    \"distribution_2\": \"distr_gev\",<br>    \"perform_batching\": true,<br>    \"batch_size\": 243,<br>    \"epochs\": 185<br>  }<br>}",
          "{<br>  \"number\": 203,<br>  \"values\": [<br>    2.6475014686584473,<br>    0.10474592447280884<br>  ],<br>  \"params\": {<br>    \"chain_function_mean\": 9.00034566567481,<br>    \"chain_function_std\": 0.6972335770012815,<br>    \"chain_function_constant\": 0.0006576945206416844,<br>    \"optimizer\": \"SGD\",<br>    \"learning_rate\": 0.07165415472556615,<br>    \"forecast_distribution\": \"distr_gev\",<br>    \"perform_batching\": true,<br>    \"batch_size\": 285,<br>    \"epochs\": 1<br>  }<br>}",
          "{<br>  \"number\": 204,<br>  \"values\": [<br>    0.8972417712211609,<br>    0.06390256434679031<br>  ],<br>  \"params\": {<br>    \"chain_function_mean\": 1.792601187166662,<br>    \"chain_function_std\": 1.119612763348485,<br>    \"chain_function_constant\": 0.02488633721285091,<br>    \"optimizer\": \"Adam\",<br>    \"learning_rate\": 0.06563644308533166,<br>    \"forecast_distribution\": \"distr_trunc_normal\",<br>    \"perform_batching\": false,<br>    \"epochs\": 127<br>  }<br>}",
          "{<br>  \"number\": 205,<br>  \"values\": [<br>    0.8884879946708679,<br>    0.06273024529218674<br>  ],<br>  \"params\": {<br>    \"chain_function_mean\": 14.077863815992375,<br>    \"chain_function_std\": 1.745880936987006,<br>    \"chain_function_constant\": 0.6126983713440429,<br>    \"optimizer\": \"SGD\",<br>    \"learning_rate\": 0.07744835182583858,<br>    \"forecast_distribution\": \"distr_gev\",<br>    \"perform_batching\": true,<br>    \"batch_size\": 333,<br>    \"epochs\": 28<br>  }<br>}",
          "{<br>  \"number\": 206,<br>  \"values\": [<br>    0.9115565419197083,<br>    0.06339651346206665<br>  ],<br>  \"params\": {<br>    \"chain_function_mean\": 9.887685592604313,<br>    \"chain_function_std\": 2.2863308333787336,<br>    \"chain_function_constant\": 0.04267439096260655,<br>    \"optimizer\": \"SGD\",<br>    \"learning_rate\": 0.07328327074164602,<br>    \"forecast_distribution\": \"distr_mixture\",<br>    \"distribution_1\": \"distr_trunc_normal\",<br>    \"distribution_2\": \"distr_gev\",<br>    \"perform_batching\": true,<br>    \"batch_size\": 470,<br>    \"epochs\": 90<br>  }<br>}",
          "{<br>  \"number\": 207,<br>  \"values\": [<br>    0.9034703969955444,<br>    0.06188112497329712<br>  ],<br>  \"params\": {<br>    \"chain_function_mean\": 8.51674472236115,<br>    \"chain_function_std\": 2.0840181977581054,<br>    \"chain_function_constant\": 0.023980392185558207,<br>    \"optimizer\": \"Adam\",<br>    \"learning_rate\": 0.06995267158908873,<br>    \"forecast_distribution\": \"distr_mixture\",<br>    \"distribution_1\": \"distr_trunc_normal\",<br>    \"distribution_2\": \"distr_gev\",<br>    \"perform_batching\": false,<br>    \"epochs\": 73<br>  }<br>}",
          "{<br>  \"number\": 208,<br>  \"values\": [<br>    1.024091124534607,<br>    0.07153917849063873<br>  ],<br>  \"params\": {<br>    \"chain_function_mean\": 9.4568390986762,<br>    \"chain_function_std\": 4.478001139041185,<br>    \"chain_function_constant\": 0.02411380215190688,<br>    \"optimizer\": \"Adam\",<br>    \"learning_rate\": 0.07172329531381914,<br>    \"forecast_distribution\": \"distr_gev\",<br>    \"perform_batching\": false,<br>    \"epochs\": 39<br>  }<br>}",
          "{<br>  \"number\": 209,<br>  \"values\": [<br>    0.8904293179512024,<br>    0.06345252692699432<br>  ],<br>  \"params\": {<br>    \"chain_function_mean\": -0.99178278941835,<br>    \"chain_function_std\": 1.5873444600094444,<br>    \"chain_function_constant\": 0.7945544283518,<br>    \"optimizer\": \"SGD\",<br>    \"learning_rate\": 0.0807635379604349,<br>    \"forecast_distribution\": \"distr_gev\",<br>    \"perform_batching\": true,<br>    \"batch_size\": 370,<br>    \"epochs\": 47<br>  }<br>}",
          "{<br>  \"number\": 210,<br>  \"values\": [<br>    1.3064154386520386,<br>    0.0916324257850647<br>  ],<br>  \"params\": {<br>    \"chain_function_mean\": 8.829299404162228,<br>    \"chain_function_std\": 1.2815936186541437,<br>    \"chain_function_constant\": 0.4469431459526285,<br>    \"optimizer\": \"SGD\",<br>    \"learning_rate\": 0.004064827569910633,<br>    \"forecast_distribution\": \"distr_gev\",<br>    \"perform_batching\": true,<br>    \"batch_size\": 944,<br>    \"epochs\": 152<br>  }<br>}",
          "{<br>  \"number\": 211,<br>  \"values\": [<br>    0.8947734832763672,<br>    0.06331904977560043<br>  ],<br>  \"params\": {<br>    \"chain_function_mean\": 8.105575420206426,<br>    \"chain_function_std\": 2.4540537541071474,<br>    \"chain_function_constant\": 0.9420187440644618,<br>    \"optimizer\": \"Adam\",<br>    \"learning_rate\": 0.07407496014459818,<br>    \"forecast_distribution\": \"distr_trunc_normal\",<br>    \"perform_batching\": false,<br>    \"epochs\": 123<br>  }<br>}",
          "{<br>  \"number\": 213,<br>  \"values\": [<br>    3.4478213787078857,<br>    0.11049050092697144<br>  ],<br>  \"params\": {<br>    \"chain_function_mean\": 10.0333031569317,<br>    \"chain_function_std\": 2.158123443075759,<br>    \"chain_function_constant\": 0.001214631746934131,<br>    \"optimizer\": \"SGD\",<br>    \"learning_rate\": 0.010655033809668611,<br>    \"forecast_distribution\": \"distr_mixture_linear\",<br>    \"distribution_1\": \"distr_log_normal\",<br>    \"distribution_2\": \"distr_trunc_normal\",<br>    \"perform_batching\": true,<br>    \"batch_size\": 407,<br>    \"epochs\": 108<br>  }<br>}",
          "{<br>  \"number\": 214,<br>  \"values\": [<br>    0.8961193561553955,<br>    0.06215757131576538<br>  ],<br>  \"params\": {<br>    \"chain_function_mean\": 9.153233333595644,<br>    \"chain_function_std\": 1.1360955355604572,<br>    \"chain_function_constant\": 0.047031983323706235,<br>    \"optimizer\": \"SGD\",<br>    \"learning_rate\": 0.07033994286758688,<br>    \"forecast_distribution\": \"distr_log_normal\",<br>    \"perform_batching\": true,<br>    \"batch_size\": 797,<br>    \"epochs\": 171<br>  }<br>}",
          "{<br>  \"number\": 215,<br>  \"values\": [<br>    0.8889749646186829,<br>    0.06251213699579239<br>  ],<br>  \"params\": {<br>    \"chain_function_mean\": 8.66913628821911,<br>    \"chain_function_std\": 3.9914339223407964,<br>    \"chain_function_constant\": 0.3784581459948918,<br>    \"optimizer\": \"Adam\",<br>    \"learning_rate\": 0.033717066573382,<br>    \"forecast_distribution\": \"distr_mixture\",<br>    \"distribution_1\": \"distr_gev\",<br>    \"distribution_2\": \"distr_log_normal\",<br>    \"perform_batching\": false,<br>    \"epochs\": 317<br>  }<br>}",
          "{<br>  \"number\": 216,<br>  \"values\": [<br>    0.8879878520965576,<br>    0.06227658689022064<br>  ],<br>  \"params\": {<br>    \"chain_function_mean\": 9.6099204168008,<br>    \"chain_function_std\": 1.4501939191992739,<br>    \"chain_function_constant\": 0.22400022412949083,<br>    \"optimizer\": \"SGD\",<br>    \"learning_rate\": 0.07547395734231874,<br>    \"forecast_distribution\": \"distr_gev\",<br>    \"perform_batching\": true,<br>    \"batch_size\": 211,<br>    \"epochs\": 140<br>  }<br>}",
          "{<br>  \"number\": 217,<br>  \"values\": [<br>    0.8896257877349854,<br>    0.06329622864723206<br>  ],<br>  \"params\": {<br>    \"chain_function_mean\": 0.5310393041542802,<br>    \"chain_function_std\": 1.8960050635521017,<br>    \"chain_function_constant\": 0.02507963146950114,<br>    \"optimizer\": \"SGD\",<br>    \"learning_rate\": 0.07859784017574452,<br>    \"forecast_distribution\": \"distr_gev\",<br>    \"perform_batching\": true,<br>    \"batch_size\": 257,<br>    \"epochs\": 290<br>  }<br>}",
          "{<br>  \"number\": 219,<br>  \"values\": [<br>    0.9421870708465576,<br>    0.0653642788529396<br>  ],<br>  \"params\": {<br>    \"chain_function_mean\": 9.01847224065577,<br>    \"chain_function_std\": 3.4261628421947803,<br>    \"chain_function_constant\": 0.04032703924150184,<br>    \"optimizer\": \"SGD\",<br>    \"learning_rate\": 0.015825101515026134,<br>    \"forecast_distribution\": \"distr_gev\",<br>    \"perform_batching\": true,<br>    \"batch_size\": 229,<br>    \"epochs\": 85<br>  }<br>}",
          "{<br>  \"number\": 220,<br>  \"values\": [<br>    1.4598910808563232,<br>    0.09449082612991333<br>  ],<br>  \"params\": {<br>    \"chain_function_mean\": 10.510832951369343,<br>    \"chain_function_std\": 2.35523157052838,<br>    \"chain_function_constant\": 0.6517287896801236,<br>    \"optimizer\": \"Adam\",<br>    \"learning_rate\": 0.02266655171109828,<br>    \"forecast_distribution\": \"distr_gev\",<br>    \"perform_batching\": false,<br>    \"epochs\": 61<br>  }<br>}",
          "{<br>  \"number\": 221,<br>  \"values\": [<br>    2.8370189666748047,<br>    0.10343849658966064<br>  ],<br>  \"params\": {<br>    \"chain_function_mean\": 9.42026234989521,<br>    \"chain_function_std\": 2.241723920108945,<br>    \"chain_function_constant\": 0.022771857853895138,<br>    \"optimizer\": \"SGD\",<br>    \"learning_rate\": 0.025549471201264693,<br>    \"forecast_distribution\": \"distr_mixture\",<br>    \"distribution_1\": \"distr_trunc_normal\",<br>    \"distribution_2\": \"distr_gev\",<br>    \"perform_batching\": true,<br>    \"batch_size\": 646,<br>    \"epochs\": 14<br>  }<br>}",
          "{<br>  \"number\": 222,<br>  \"values\": [<br>    1.7821166515350342,<br>    0.09488809108734131<br>  ],<br>  \"params\": {<br>    \"chain_function_mean\": 13.750791137379748,<br>    \"chain_function_std\": 1.021050319052172,<br>    \"chain_function_constant\": 0.06346965319536245,<br>    \"optimizer\": \"SGD\",<br>    \"learning_rate\": 0.07115711246872808,<br>    \"forecast_distribution\": \"distr_gev\",<br>    \"perform_batching\": true,<br>    \"batch_size\": 894,<br>    \"epochs\": 26<br>  }<br>}",
          "{<br>  \"number\": 223,<br>  \"values\": [<br>    1.1003472805023193,<br>    0.07001577317714691<br>  ],<br>  \"params\": {<br>    \"chain_function_mean\": 8.652226928595063,<br>    \"chain_function_std\": 1.5599736195681804,<br>    \"chain_function_constant\": 0.0017675699758887553,<br>    \"optimizer\": \"Adam\",<br>    \"learning_rate\": 0.07344229640826644,<br>    \"forecast_distribution\": \"distr_trunc_normal\",<br>    \"perform_batching\": false,<br>    \"epochs\": 45<br>  }<br>}",
          "{<br>  \"number\": 224,<br>  \"values\": [<br>    0.8894948959350586,<br>    0.06266069412231445<br>  ],<br>  \"params\": {<br>    \"chain_function_mean\": 2.4863262031550786,<br>    \"chain_function_std\": 1.762999903591224,<br>    \"chain_function_constant\": 0.014208302932060136,<br>    \"optimizer\": \"SGD\",<br>    \"learning_rate\": 0.06900704904511477,<br>    \"forecast_distribution\": \"distr_gev\",<br>    \"perform_batching\": true,<br>    \"batch_size\": 186,<br>    \"epochs\": 265<br>  }<br>}",
          "{<br>  \"number\": 225,<br>  \"values\": [<br>    0.8917103409767151,<br>    0.062418676912784576<br>  ],<br>  \"params\": {<br>    \"chain_function_mean\": 9.18471306795619,<br>    \"chain_function_std\": 0.17024899817110503,<br>    \"chain_function_constant\": 0.49952469760023427,<br>    \"optimizer\": \"SGD\",<br>    \"learning_rate\": 0.076971339939166,<br>    \"forecast_distribution\": \"distr_log_normal\",<br>    \"perform_batching\": true,<br>    \"batch_size\": 458,<br>    \"epochs\": 71<br>  }<br>}",
          "{<br>  \"number\": 226,<br>  \"values\": [<br>    0.9012332558631897,<br>    0.06308286637067795<br>  ],<br>  \"params\": {<br>    \"chain_function_mean\": 5.4515192813642885,<br>    \"chain_function_std\": 0.7883487619005134,<br>    \"chain_function_constant\": 0.046058189612668,<br>    \"optimizer\": \"Adam\",<br>    \"learning_rate\": 0.07151384983159283,<br>    \"forecast_distribution\": \"distr_mixture_linear\",<br>    \"distribution_1\": \"distr_log_normal\",<br>    \"distribution_2\": \"distr_trunc_normal\",<br>    \"perform_batching\": false,<br>    \"epochs\": 165<br>  }<br>}",
          "{<br>  \"number\": 227,<br>  \"values\": [<br>    0.8882160782814026,<br>    0.06283815950155258<br>  ],<br>  \"params\": {<br>    \"chain_function_mean\": 9.814015824589847,<br>    \"chain_function_std\": 2.5676470311449915,<br>    \"chain_function_constant\": 0.5730233193058752,<br>    \"optimizer\": \"SGD\",<br>    \"learning_rate\": 0.04524512453847332,<br>    \"forecast_distribution\": \"distr_gev\",<br>    \"perform_batching\": true,<br>    \"batch_size\": 832,<br>    \"epochs\": 98<br>  }<br>}",
          "{<br>  \"number\": 228,<br>  \"values\": [<br>    1.0364234447479248,<br>    0.06412135064601898<br>  ],<br>  \"params\": {<br>    \"chain_function_mean\": 8.228031242845008,<br>    \"chain_function_std\": 1.9819919320797985,<br>    \"chain_function_constant\": 0.0008509557381025891,<br>    \"optimizer\": \"SGD\",<br>    \"learning_rate\": 0.0663110504702354,<br>    \"forecast_distribution\": \"distr_mixture\",<br>    \"distribution_1\": \"distr_gev\",<br>    \"distribution_2\": \"distr_log_normal\",<br>    \"perform_batching\": true,<br>    \"batch_size\": 966,<br>    \"epochs\": 193<br>  }<br>}",
          "{<br>  \"number\": 229,<br>  \"values\": [<br>    0.8899034261703491,<br>    0.06211203336715698<br>  ],<br>  \"params\": {<br>    \"chain_function_mean\": 8.90704817505067,<br>    \"chain_function_std\": 4.170792165634046,<br>    \"chain_function_constant\": 0.029369636000999403,<br>    \"optimizer\": \"Adam\",<br>    \"learning_rate\": 0.07133872089000003,<br>    \"forecast_distribution\": \"distr_mixture\",<br>    \"distribution_1\": \"distr_trunc_normal\",<br>    \"distribution_2\": \"distr_gev\",<br>    \"perform_batching\": false,<br>    \"epochs\": 412<br>  }<br>}",
          "{<br>  \"number\": 230,<br>  \"values\": [<br>    0.913423478603363,<br>    0.06160201132297516<br>  ],<br>  \"params\": {<br>    \"chain_function_mean\": 9.546670802386373,<br>    \"chain_function_std\": 0.31164935466272015,<br>    \"chain_function_constant\": 0.017003806456948163,<br>    \"optimizer\": \"Adam\",<br>    \"learning_rate\": 0.07429577151682205,<br>    \"forecast_distribution\": \"distr_gev\",<br>    \"perform_batching\": false,<br>    \"epochs\": 245<br>  }<br>}",
          "{<br>  \"number\": 231,<br>  \"values\": [<br>    0.8935087323188782,<br>    0.06209360808134079<br>  ],<br>  \"params\": {<br>    \"chain_function_mean\": 8.562149435802494,<br>    \"chain_function_std\": 3.151195784600804,<br>    \"chain_function_constant\": 0.029352489996736005,<br>    \"optimizer\": \"SGD\",<br>    \"learning_rate\": 0.07569934046587751,<br>    \"forecast_distribution\": \"distr_gev\",<br>    \"perform_batching\": true,<br>    \"batch_size\": 313,<br>    \"epochs\": 120<br>  }<br>}",
          "{<br>  \"number\": 232,<br>  \"values\": [<br>    0.9477542042732239,<br>    0.06463596224784851<br>  ],<br>  \"params\": {<br>    \"chain_function_mean\": 14.561208200291976,<br>    \"chain_function_std\": 2.444150497495129,<br>    \"chain_function_constant\": 0.01710032767914056,<br>    \"optimizer\": \"SGD\",<br>    \"learning_rate\": 0.07297107997964193,<br>    \"forecast_distribution\": \"distr_trunc_normal\",<br>    \"perform_batching\": true,<br>    \"batch_size\": 498,<br>    \"epochs\": 153<br>  }<br>}",
          "{<br>  \"number\": 233,<br>  \"values\": [<br>    0.8954616189002991,<br>    0.06188662350177765<br>  ],<br>  \"params\": {<br>    \"chain_function_mean\": 9.242119810747408,<br>    \"chain_function_std\": 1.6866622061863135,<br>    \"chain_function_constant\": 0.051523581885720295,<br>    \"optimizer\": \"Adam\",<br>    \"learning_rate\": 0.06980162395701606,<br>    \"forecast_distribution\": \"distr_gev\",<br>    \"perform_batching\": false,<br>    \"epochs\": 139<br>  }<br>}",
          "{<br>  \"number\": 234,<br>  \"values\": [<br>    0.889549970626831,<br>    0.0628620907664299<br>  ],<br>  \"params\": {<br>    \"chain_function_mean\": 10.214531786506381,<br>    \"chain_function_std\": 2.490938094992237,<br>    \"chain_function_constant\": 0.9559907648848603,<br>    \"optimizer\": \"SGD\",<br>    \"learning_rate\": 0.06770572751881154,<br>    \"forecast_distribution\": \"distr_mixture\",<br>    \"distribution_1\": \"distr_trunc_normal\",<br>    \"distribution_2\": \"distr_gev\",<br>    \"perform_batching\": true,<br>    \"batch_size\": 352,<br>    \"epochs\": 76<br>  }<br>}",
          "{<br>  \"number\": 235,<br>  \"values\": [<br>    1.0788674354553223,<br>    0.07136445492506027<br>  ],<br>  \"params\": {<br>    \"chain_function_mean\": 13.332309132525536,<br>    \"chain_function_std\": 1.1931624107704217,<br>    \"chain_function_constant\": 0.018859199595662964,<br>    \"optimizer\": \"SGD\",<br>    \"learning_rate\": 0.03066538244941986,<br>    \"forecast_distribution\": \"distr_gev\",<br>    \"perform_batching\": true,<br>    \"batch_size\": 547,<br>    \"epochs\": 346<br>  }<br>}",
          "{<br>  \"number\": 236,<br>  \"values\": [<br>    0.8909825086593628,<br>    0.06265490502119064<br>  ],<br>  \"params\": {<br>    \"chain_function_mean\": 4.711543790683562,<br>    \"chain_function_std\": 4.770380219329322,<br>    \"chain_function_constant\": 0.3444316656523343,<br>    \"optimizer\": \"Adam\",<br>    \"learning_rate\": 0.04072526458273443,<br>    \"forecast_distribution\": \"distr_log_normal\",<br>    \"perform_batching\": false,<br>    \"epochs\": 435<br>  }<br>}",
          "{<br>  \"number\": 238,<br>  \"values\": [<br>    1.829628348350525,<br>    0.07589460909366608<br>  ],<br>  \"params\": {<br>    \"chain_function_mean\": 8.929459321950517,<br>    \"chain_function_std\": 1.3916507195211145,<br>    \"chain_function_constant\": 0.0004943784689723854,<br>    \"optimizer\": \"SGD\",<br>    \"learning_rate\": 0.0715149231563009,<br>    \"forecast_distribution\": \"distr_gev\",<br>    \"perform_batching\": true,<br>    \"batch_size\": 683,<br>    \"epochs\": 55<br>  }<br>}",
          "{<br>  \"number\": 240,<br>  \"values\": [<br>    0.9026257395744324,<br>    0.06232931464910507<br>  ],<br>  \"params\": {<br>    \"chain_function_mean\": 7.9205056181678275,<br>    \"chain_function_std\": 2.263113115853036,<br>    \"chain_function_constant\": 0.07536514967915964,<br>    \"optimizer\": \"SGD\",<br>    \"learning_rate\": 0.07351380094134782,<br>    \"forecast_distribution\": \"distr_mixture_linear\",<br>    \"distribution_1\": \"distr_trunc_normal\",<br>    \"distribution_2\": \"distr_gev\",<br>    \"perform_batching\": true,<br>    \"batch_size\": 126,<br>    \"epochs\": 33<br>  }<br>}",
          "{<br>  \"number\": 241,<br>  \"values\": [<br>    0.8901374936103821,<br>    0.06212040036916733<br>  ],<br>  \"params\": {<br>    \"chain_function_mean\": 9.258039867762701,<br>    \"chain_function_std\": 4.418547230240671,<br>    \"chain_function_constant\": 0.03862344206885839,<br>    \"optimizer\": \"Adam\",<br>    \"learning_rate\": 0.07550198625848688,<br>    \"forecast_distribution\": \"distr_mixture\",<br>    \"distribution_1\": \"distr_trunc_normal\",<br>    \"distribution_2\": \"distr_gev\",<br>    \"perform_batching\": false,<br>    \"epochs\": 108<br>  }<br>}",
          "{<br>  \"number\": 242,<br>  \"values\": [<br>    0.9681522846221924,<br>    0.07236889004707336<br>  ],<br>  \"params\": {<br>    \"chain_function_mean\": 0.10098475213792746,<br>    \"chain_function_std\": 2.087587076729646,<br>    \"chain_function_constant\": 0.03624294106759183,<br>    \"optimizer\": \"Adam\",<br>    \"learning_rate\": 0.024025493174383065,<br>    \"forecast_distribution\": \"distr_gev\",<br>    \"perform_batching\": false,<br>    \"epochs\": 147<br>  }<br>}",
          "{<br>  \"number\": 243,<br>  \"values\": [<br>    0.8885273933410645,<br>    0.06264232844114304<br>  ],<br>  \"params\": {<br>    \"chain_function_mean\": 10.22668854824088,<br>    \"chain_function_std\": 1.6365500880536437,<br>    \"chain_function_constant\": 0.622362543420455,<br>    \"optimizer\": \"SGD\",<br>    \"learning_rate\": 0.09973630035617659,<br>    \"forecast_distribution\": \"distr_trunc_normal\",<br>    \"perform_batching\": true,<br>    \"batch_size\": 609,<br>    \"epochs\": 88<br>  }<br>}",
          "{<br>  \"number\": 244,<br>  \"values\": [<br>    0.8974801301956177,<br>    0.06318369507789612<br>  ],<br>  \"params\": {<br>    \"chain_function_mean\": 12.509682977170298,<br>    \"chain_function_std\": 0.8590753746817835,<br>    \"chain_function_constant\": 0.7006158114163306,<br>    \"optimizer\": \"SGD\",<br>    \"learning_rate\": 0.0743373545224814,<br>    \"forecast_distribution\": \"distr_mixture\",<br>    \"distribution_1\": \"distr_log_normal\",<br>    \"distribution_2\": \"distr_log_normal\",<br>    \"perform_batching\": true,<br>    \"batch_size\": 588,<br>    \"epochs\": 14<br>  }<br>}",
          "{<br>  \"number\": 245,<br>  \"values\": [<br>    0.8961551189422607,<br>    0.061930425465106964<br>  ],<br>  \"params\": {<br>    \"chain_function_mean\": 8.668213030195371,<br>    \"chain_function_std\": 2.7616871546016424,<br>    \"chain_function_constant\": 0.020823793573711794,<br>    \"optimizer\": \"Adam\",<br>    \"learning_rate\": 0.06949446544807471,<br>    \"forecast_distribution\": \"distr_gev\",<br>    \"perform_batching\": false,<br>    \"epochs\": 254<br>  }<br>}",
          "{<br>  \"number\": 246,<br>  \"values\": [<br>    0.8889704346656799,<br>    0.06294409185647964<br>  ],<br>  \"params\": {<br>    \"chain_function_mean\": 3.056575863803915,<br>    \"chain_function_std\": 3.7080295914045385,<br>    \"chain_function_constant\": 0.018160648325556878,<br>    \"optimizer\": \"SGD\",<br>    \"learning_rate\": 0.07636767400729415,<br>    \"forecast_distribution\": \"distr_gev\",<br>    \"perform_batching\": true,<br>    \"batch_size\": 179,<br>    \"epochs\": 376<br>  }<br>}",
          "{<br>  \"number\": 247,<br>  \"values\": [<br>    0.9366075992584229,<br>    0.061762891709804535<br>  ],<br>  \"params\": {<br>    \"chain_function_mean\": 9.686380776954083,<br>    \"chain_function_std\": 2.9054952434273864,<br>    \"chain_function_constant\": 0.0008055857303437278,<br>    \"optimizer\": \"SGD\",<br>    \"learning_rate\": 0.028350268857480834,<br>    \"forecast_distribution\": \"distr_gev\",<br>    \"perform_batching\": true,<br>    \"batch_size\": 145,<br>    \"epochs\": 142<br>  }<br>}",
          "{<br>  \"number\": 248,<br>  \"values\": [<br>    0.895254373550415,<br>    0.06384120881557465<br>  ],<br>  \"params\": {<br>    \"chain_function_mean\": 3.6869811276533966,<br>    \"chain_function_std\": 0.4810021530404289,<br>    \"chain_function_constant\": 0.040925596071442485,<br>    \"optimizer\": \"Adam\",<br>    \"learning_rate\": 0.07172879344303992,<br>    \"forecast_distribution\": \"distr_mixture\",<br>    \"distribution_1\": \"distr_gev\",<br>    \"distribution_2\": \"distr_trunc_normal\",<br>    \"perform_batching\": false,<br>    \"epochs\": 128<br>  }<br>}",
          "{<br>  \"number\": 249,<br>  \"values\": [<br>    0.9803636074066162,<br>    0.06375496089458466<br>  ],<br>  \"params\": {<br>    \"chain_function_mean\": 8.392818906162127,<br>    \"chain_function_std\": 0.6675679710041854,<br>    \"chain_function_constant\": 0.05476154509788096,<br>    \"optimizer\": \"SGD\",<br>    \"learning_rate\": 0.07881018110460883,<br>    \"forecast_distribution\": \"distr_trunc_normal\",<br>    \"perform_batching\": true,<br>    \"batch_size\": 795,<br>    \"epochs\": 50<br>  }<br>}"
         ],
         "type": "scatter",
         "x": [
          0.8939164280891418,
          0.8894176483154297,
          0.9069005846977234,
          0.8899415731430054,
          0.8900049924850464,
          0.8885961771011353,
          0.8879302144050598,
          0.8921669721603394,
          0.8911253809928894,
          1.0026330947875977,
          0.8921949863433838,
          0.8874222636222839,
          0.8882594704627991,
          1.142411708831787,
          0.8873712420463562,
          0.9210930466651917,
          1.1570937633514404,
          0.892382800579071,
          0.8882105350494385,
          0.8982536792755127,
          0.888512134552002,
          0.906369149684906,
          0.8938837647438049,
          0.8888605237007141,
          0.8912376761436462,
          0.8920921683311462,
          0.8874105215072632,
          0.8911073207855225,
          0.9233694672584534,
          0.911353588104248,
          0.8893210291862488,
          0.8879016041755676,
          0.8881772756576538,
          0.8884633183479309,
          1.0195064544677734,
          0.8894411325454712,
          0.9188860058784485,
          0.8888887166976929,
          0.8878798484802246,
          0.9004535675048828,
          0.8876460790634155,
          0.8946037888526917,
          0.8879709243774414,
          0.8887636065483093,
          0.8911202549934387,
          1.2717740535736084,
          0.8874606490135193,
          0.8891041874885559,
          0.889360785484314,
          0.8903694152832031,
          0.8956279158592224,
          0.8879058957099915,
          0.8975528478622437,
          0.8892119526863098,
          0.8916662931442261,
          0.8901100158691406,
          1.7750576734542847,
          0.8897167444229126,
          0.8939259648323059,
          0.8922821879386902,
          0.8925604224205017,
          0.8882468342781067,
          0.8979740738868713,
          0.8902387022972107,
          0.9078944325447083,
          0.89058518409729,
          0.8916311860084534,
          1.5619944334030151,
          0.8971110582351685,
          0.9098653793334961,
          0.8902373909950256,
          0.925289511680603,
          0.8886202573776245,
          0.8900171518325806,
          1.6096148490905762,
          0.889353334903717,
          1.0279114246368408,
          0.9088723659515381,
          0.9070626497268677,
          0.9082488417625427,
          0.8935203552246094,
          0.9321588277816772,
          0.8889183402061462,
          0.8898117542266846,
          1.4834558963775635,
          0.9762683510780334,
          0.8969157338142395,
          0.88923579454422,
          0.8888293504714966,
          0.891418993473053,
          0.8966472148895264,
          0.8931614756584167,
          0.8885165452957153,
          0.9037171602249146,
          0.8978154063224792,
          1.062208890914917,
          0.9050768613815308,
          0.8953449130058289,
          2.515634059906006,
          0.8896198272705078,
          0.8943147659301758,
          0.889410674571991,
          0.961358904838562,
          3.7531816959381104,
          0.8933019042015076,
          2.900442361831665,
          0.9274780750274658,
          0.8959908485412598,
          0.9234844446182251,
          0.890654444694519,
          1.4062246084213257,
          0.9608001708984375,
          0.8896496891975403,
          0.9014092087745667,
          0.8886426687240601,
          0.8892707228660583,
          0.8897851705551147,
          0.8930496573448181,
          0.8894932270050049,
          0.9070369601249695,
          0.8917734622955322,
          0.88837730884552,
          0.8904653191566467,
          0.8926184177398682,
          0.8887767195701599,
          0.8892902135848999,
          0.8939133286476135,
          0.8969019651412964,
          0.893990159034729,
          0.8887014389038086,
          0.8977801203727722,
          0.8924611210823059,
          2.1063950061798096,
          0.9035094380378723,
          1.1334537267684937,
          0.92734694480896,
          0.8919409513473511,
          2.446683406829834,
          1.2138087749481201,
          0.8906142115592957,
          0.8931555151939392,
          1.018057942390442,
          0.8905094861984253,
          3.653153419494629,
          0.8910238742828369,
          2.10598087310791,
          0.8966854810714722,
          2.6475014686584473,
          0.8972417712211609,
          0.8884879946708679,
          0.9115565419197083,
          0.9034703969955444,
          1.024091124534607,
          0.8904293179512024,
          1.3064154386520386,
          0.8947734832763672,
          3.4478213787078857,
          0.8961193561553955,
          0.8889749646186829,
          0.8879878520965576,
          0.8896257877349854,
          0.9421870708465576,
          1.4598910808563232,
          2.8370189666748047,
          1.7821166515350342,
          1.1003472805023193,
          0.8894948959350586,
          0.8917103409767151,
          0.9012332558631897,
          0.8882160782814026,
          1.0364234447479248,
          0.8899034261703491,
          0.913423478603363,
          0.8935087323188782,
          0.9477542042732239,
          0.8954616189002991,
          0.889549970626831,
          1.0788674354553223,
          0.8909825086593628,
          1.829628348350525,
          0.9026257395744324,
          0.8901374936103821,
          0.9681522846221924,
          0.8885273933410645,
          0.8974801301956177,
          0.8961551189422607,
          0.8889704346656799,
          0.9366075992584229,
          0.895254373550415,
          0.9803636074066162
         ],
         "y": [
          0.06313100457191467,
          0.06329651176929474,
          0.06330331414937973,
          0.06396393477916718,
          0.0622970387339592,
          0.062454961240291595,
          0.06235683709383011,
          0.06295806914567947,
          0.06235826760530472,
          0.06607867032289505,
          0.06296825408935547,
          0.06234855204820633,
          0.062265828251838684,
          0.08192676305770874,
          0.062399908900260925,
          0.061606019735336304,
          0.07903000712394714,
          0.06266500055789948,
          0.06253289431333542,
          0.061889901757240295,
          0.062370218336582184,
          0.06180950254201889,
          0.062477290630340576,
          0.06258339434862137,
          0.06258247792720795,
          0.06233343482017517,
          0.06218014657497406,
          0.0625515803694725,
          0.062498413026332855,
          0.06187348812818527,
          0.062160126864910126,
          0.062372222542762756,
          0.0622391477227211,
          0.06264831870794296,
          0.06777004897594452,
          0.06213126331567764,
          0.06461924314498901,
          0.06247524172067642,
          0.06230784207582474,
          0.06193888932466507,
          0.062323637306690216,
          0.06296848505735397,
          0.06296524405479431,
          0.06290054321289062,
          0.06267756968736649,
          0.06876403093338013,
          0.06234538555145264,
          0.062292151153087616,
          0.06195603311061859,
          0.0621834471821785,
          0.06200002133846283,
          0.062101975083351135,
          0.062236487865448,
          0.06229622662067413,
          0.06328253448009491,
          0.06331577897071838,
          0.09185591340065002,
          0.06228988617658615,
          0.062005311250686646,
          0.062477149069309235,
          0.062345296144485474,
          0.06251125037670135,
          0.06185063719749451,
          0.06259102374315262,
          0.06205678731203079,
          0.0620221272110939,
          0.062087155878543854,
          0.1087225079536438,
          0.061811283230781555,
          0.06661849468946457,
          0.06236499547958374,
          0.06386557221412659,
          0.06243525445461273,
          0.06233824044466019,
          0.09865641593933105,
          0.06317198276519775,
          0.061343077570199966,
          0.061734236776828766,
          0.062171608209609985,
          0.06286561489105225,
          0.06239175796508789,
          0.06507017463445663,
          0.06295359879732132,
          0.061935290694236755,
          0.08927500247955322,
          0.06155037879943848,
          0.06179817020893097,
          0.06303691864013672,
          0.062487803399562836,
          0.06240938603878021,
          0.06204590946435928,
          0.0621941015124321,
          0.06275948137044907,
          0.061881162226200104,
          0.06358549743890762,
          0.06394900381565094,
          0.06412430107593536,
          0.06183896213769913,
          0.1055038571357727,
          0.06301561743021011,
          0.06253887712955475,
          0.06296852976083755,
          0.06516764312982559,
          0.11003082245588303,
          0.06286414712667465,
          0.11010586470365524,
          0.06481373310089111,
          0.06184663623571396,
          0.0641126036643982,
          0.06288901716470718,
          0.0813368558883667,
          0.061280641704797745,
          0.06206654757261276,
          0.061570391058921814,
          0.06279639899730682,
          0.06278844177722931,
          0.06200406700372696,
          0.06340416520833969,
          0.06215747445821762,
          0.0669948160648346,
          0.06175415217876434,
          0.0625687688589096,
          0.06217951327562332,
          0.062103934586048126,
          0.06282711029052734,
          0.06203865259885788,
          0.06176123023033142,
          0.061713896691799164,
          0.061915017664432526,
          0.061884790658950806,
          0.06170792877674103,
          0.062125205993652344,
          0.12236781418323517,
          0.06560014933347702,
          0.0707678496837616,
          0.06909239292144775,
          0.06271540373563766,
          0.10386265814304352,
          0.07387175410985947,
          0.06276684999465942,
          0.06345701962709427,
          0.06664898246526718,
          0.06336434185504913,
          0.10980472713708878,
          0.06258007884025574,
          0.09954342246055603,
          0.06497050821781158,
          0.10474592447280884,
          0.06390256434679031,
          0.06273024529218674,
          0.06339651346206665,
          0.06188112497329712,
          0.07153917849063873,
          0.06345252692699432,
          0.0916324257850647,
          0.06331904977560043,
          0.11049050092697144,
          0.06215757131576538,
          0.06251213699579239,
          0.06227658689022064,
          0.06329622864723206,
          0.0653642788529396,
          0.09449082612991333,
          0.10343849658966064,
          0.09488809108734131,
          0.07001577317714691,
          0.06266069412231445,
          0.062418676912784576,
          0.06308286637067795,
          0.06283815950155258,
          0.06412135064601898,
          0.06211203336715698,
          0.06160201132297516,
          0.06209360808134079,
          0.06463596224784851,
          0.06188662350177765,
          0.0628620907664299,
          0.07136445492506027,
          0.06265490502119064,
          0.07589460909366608,
          0.06232931464910507,
          0.06212040036916733,
          0.07236889004707336,
          0.06264232844114304,
          0.06318369507789612,
          0.061930425465106964,
          0.06294409185647964,
          0.061762891709804535,
          0.06384120881557465,
          0.06375496089458466
         ]
        },
        {
         "hovertemplate": "%{text}<extra>Best Trial</extra>",
         "marker": {
          "color": [
           16,
           56,
           84,
           167,
           174,
           175,
           177,
           182,
           185
          ],
          "colorbar": {
           "title": {
            "text": "Best Trial"
           },
           "x": 1.1,
           "xpad": 40
          },
          "colorscale": [
           [
            0,
            "rgb(255,245,240)"
           ],
           [
            0.125,
            "rgb(254,224,210)"
           ],
           [
            0.25,
            "rgb(252,187,161)"
           ],
           [
            0.375,
            "rgb(252,146,114)"
           ],
           [
            0.5,
            "rgb(251,106,74)"
           ],
           [
            0.625,
            "rgb(239,59,44)"
           ],
           [
            0.75,
            "rgb(203,24,29)"
           ],
           [
            0.875,
            "rgb(165,15,21)"
           ],
           [
            1,
            "rgb(103,0,13)"
           ]
          ],
          "line": {
           "color": "Grey",
           "width": 0.5
          }
         },
         "mode": "markers",
         "showlegend": false,
         "text": [
          "{<br>  \"number\": 16,<br>  \"values\": [<br>    0.8872740864753723,<br>    0.06216616928577423<br>  ],<br>  \"params\": {<br>    \"chain_function_mean\": 9.740838762394072,<br>    \"chain_function_std\": 2.2525553280046933,<br>    \"chain_function_constant\": 0.3614450801580585,<br>    \"optimizer\": \"Adam\",<br>    \"learning_rate\": 0.06543755067006281,<br>    \"forecast_distribution\": \"distr_trunc_normal\",<br>    \"perform_batching\": false,<br>    \"epochs\": 511<br>  }<br>}",
          "{<br>  \"number\": 56,<br>  \"values\": [<br>    0.8876388669013977,<br>    0.061799779534339905<br>  ],<br>  \"params\": {<br>    \"chain_function_mean\": 8.86543346748238,<br>    \"chain_function_std\": 0.0153188130495292,<br>    \"chain_function_constant\": 0.12907501096642482,<br>    \"optimizer\": \"SGD\",<br>    \"learning_rate\": 0.050750550753121924,<br>    \"forecast_distribution\": \"distr_trunc_normal\",<br>    \"perform_batching\": true,<br>    \"batch_size\": 111,<br>    \"epochs\": 570<br>  }<br>}",
          "{<br>  \"number\": 84,<br>  \"values\": [<br>    0.9566889405250549,<br>    0.061194151639938354<br>  ],<br>  \"params\": {<br>    \"chain_function_mean\": 8.961787428122632,<br>    \"chain_function_std\": 1.5232658267824235,<br>    \"chain_function_constant\": 0.0009608066730378219,<br>    \"optimizer\": \"SGD\",<br>    \"learning_rate\": 0.07228549130694825,<br>    \"forecast_distribution\": \"distr_gev\",<br>    \"perform_batching\": true,<br>    \"batch_size\": 93,<br>    \"epochs\": 59<br>  }<br>}",
          "{<br>  \"number\": 167,<br>  \"values\": [<br>    0.8894206881523132,<br>    0.06172030419111252<br>  ],<br>  \"params\": {<br>    \"chain_function_mean\": 9.213001357346492,<br>    \"chain_function_std\": 2.032203641711151,<br>    \"chain_function_constant\": 0.04632118073236255,<br>    \"optimizer\": \"SGD\",<br>    \"learning_rate\": 0.06633984261929472,<br>    \"forecast_distribution\": \"distr_trunc_normal\",<br>    \"perform_batching\": true,<br>    \"batch_size\": 166,<br>    \"epochs\": 318<br>  }<br>}",
          "{<br>  \"number\": 174,<br>  \"values\": [<br>    0.8999050259590149,<br>    0.061430491507053375<br>  ],<br>  \"params\": {<br>    \"chain_function_mean\": 10.251658446413959,<br>    \"chain_function_std\": 2.4453591339972425,<br>    \"chain_function_constant\": 0.028573999970733795,<br>    \"optimizer\": \"Adam\",<br>    \"learning_rate\": 0.0706928922299608,<br>    \"forecast_distribution\": \"distr_mixture\",<br>    \"distribution_1\": \"distr_trunc_normal\",<br>    \"distribution_2\": \"distr_gev\",<br>    \"perform_batching\": false,<br>    \"epochs\": 145<br>  }<br>}",
          "{<br>  \"number\": 175,<br>  \"values\": [<br>    0.8887482285499573,<br>    0.061731331050395966<br>  ],<br>  \"params\": {<br>    \"chain_function_mean\": 10.396100346338926,<br>    \"chain_function_std\": 2.8081555303410437,<br>    \"chain_function_constant\": 0.06712697107462073,<br>    \"optimizer\": \"Adam\",<br>    \"learning_rate\": 0.07384253646569386,<br>    \"forecast_distribution\": \"distr_mixture\",<br>    \"distribution_1\": \"distr_trunc_normal\",<br>    \"distribution_2\": \"distr_gev\",<br>    \"perform_batching\": false,<br>    \"epochs\": 149<br>  }<br>}",
          "{<br>  \"number\": 177,<br>  \"values\": [<br>    0.8932486176490784,<br>    0.06171266734600067<br>  ],<br>  \"params\": {<br>    \"chain_function_mean\": 10.396499921476815,<br>    \"chain_function_std\": 2.792503190937354,<br>    \"chain_function_constant\": 0.037497659855031854,<br>    \"optimizer\": \"Adam\",<br>    \"learning_rate\": 0.07432634803988825,<br>    \"forecast_distribution\": \"distr_mixture\",<br>    \"distribution_1\": \"distr_trunc_normal\",<br>    \"distribution_2\": \"distr_gev\",<br>    \"perform_batching\": false,<br>    \"epochs\": 250<br>  }<br>}",
          "{<br>  \"number\": 182,<br>  \"values\": [<br>    0.8974748253822327,<br>    0.061704471707344055<br>  ],<br>  \"params\": {<br>    \"chain_function_mean\": 11.256053803209028,<br>    \"chain_function_std\": 2.772554701758939,<br>    \"chain_function_constant\": 0.026183239771406686,<br>    \"optimizer\": \"Adam\",<br>    \"learning_rate\": 0.07138518361961059,<br>    \"forecast_distribution\": \"distr_mixture\",<br>    \"distribution_1\": \"distr_trunc_normal\",<br>    \"distribution_2\": \"distr_gev\",<br>    \"perform_batching\": false,<br>    \"epochs\": 247<br>  }<br>}",
          "{<br>  \"number\": 185,<br>  \"values\": [<br>    0.9003955721855164,<br>    0.061403125524520874<br>  ],<br>  \"params\": {<br>    \"chain_function_mean\": 9.723680383860225,<br>    \"chain_function_std\": 2.271575703495183,<br>    \"chain_function_constant\": 0.023013102328618504,<br>    \"optimizer\": \"Adam\",<br>    \"learning_rate\": 0.07633902097197792,<br>    \"forecast_distribution\": \"distr_mixture\",<br>    \"distribution_1\": \"distr_trunc_normal\",<br>    \"distribution_2\": \"distr_gev\",<br>    \"perform_batching\": false,<br>    \"epochs\": 146<br>  }<br>}"
         ],
         "type": "scatter",
         "x": [
          0.8872740864753723,
          0.8876388669013977,
          0.9566889405250549,
          0.8894206881523132,
          0.8999050259590149,
          0.8887482285499573,
          0.8932486176490784,
          0.8974748253822327,
          0.9003955721855164
         ],
         "y": [
          0.06216616928577423,
          0.061799779534339905,
          0.061194151639938354,
          0.06172030419111252,
          0.061430491507053375,
          0.061731331050395966,
          0.06171266734600067,
          0.061704471707344055,
          0.061403125524520874
         ]
        }
       ],
       "layout": {
        "template": {
         "data": {
          "bar": [
           {
            "error_x": {
             "color": "#2a3f5f"
            },
            "error_y": {
             "color": "#2a3f5f"
            },
            "marker": {
             "line": {
              "color": "#E5ECF6",
              "width": 0.5
             },
             "pattern": {
              "fillmode": "overlay",
              "size": 10,
              "solidity": 0.2
             }
            },
            "type": "bar"
           }
          ],
          "barpolar": [
           {
            "marker": {
             "line": {
              "color": "#E5ECF6",
              "width": 0.5
             },
             "pattern": {
              "fillmode": "overlay",
              "size": 10,
              "solidity": 0.2
             }
            },
            "type": "barpolar"
           }
          ],
          "carpet": [
           {
            "aaxis": {
             "endlinecolor": "#2a3f5f",
             "gridcolor": "white",
             "linecolor": "white",
             "minorgridcolor": "white",
             "startlinecolor": "#2a3f5f"
            },
            "baxis": {
             "endlinecolor": "#2a3f5f",
             "gridcolor": "white",
             "linecolor": "white",
             "minorgridcolor": "white",
             "startlinecolor": "#2a3f5f"
            },
            "type": "carpet"
           }
          ],
          "choropleth": [
           {
            "colorbar": {
             "outlinewidth": 0,
             "ticks": ""
            },
            "type": "choropleth"
           }
          ],
          "contour": [
           {
            "colorbar": {
             "outlinewidth": 0,
             "ticks": ""
            },
            "colorscale": [
             [
              0,
              "#0d0887"
             ],
             [
              0.1111111111111111,
              "#46039f"
             ],
             [
              0.2222222222222222,
              "#7201a8"
             ],
             [
              0.3333333333333333,
              "#9c179e"
             ],
             [
              0.4444444444444444,
              "#bd3786"
             ],
             [
              0.5555555555555556,
              "#d8576b"
             ],
             [
              0.6666666666666666,
              "#ed7953"
             ],
             [
              0.7777777777777778,
              "#fb9f3a"
             ],
             [
              0.8888888888888888,
              "#fdca26"
             ],
             [
              1,
              "#f0f921"
             ]
            ],
            "type": "contour"
           }
          ],
          "contourcarpet": [
           {
            "colorbar": {
             "outlinewidth": 0,
             "ticks": ""
            },
            "type": "contourcarpet"
           }
          ],
          "heatmap": [
           {
            "colorbar": {
             "outlinewidth": 0,
             "ticks": ""
            },
            "colorscale": [
             [
              0,
              "#0d0887"
             ],
             [
              0.1111111111111111,
              "#46039f"
             ],
             [
              0.2222222222222222,
              "#7201a8"
             ],
             [
              0.3333333333333333,
              "#9c179e"
             ],
             [
              0.4444444444444444,
              "#bd3786"
             ],
             [
              0.5555555555555556,
              "#d8576b"
             ],
             [
              0.6666666666666666,
              "#ed7953"
             ],
             [
              0.7777777777777778,
              "#fb9f3a"
             ],
             [
              0.8888888888888888,
              "#fdca26"
             ],
             [
              1,
              "#f0f921"
             ]
            ],
            "type": "heatmap"
           }
          ],
          "heatmapgl": [
           {
            "colorbar": {
             "outlinewidth": 0,
             "ticks": ""
            },
            "colorscale": [
             [
              0,
              "#0d0887"
             ],
             [
              0.1111111111111111,
              "#46039f"
             ],
             [
              0.2222222222222222,
              "#7201a8"
             ],
             [
              0.3333333333333333,
              "#9c179e"
             ],
             [
              0.4444444444444444,
              "#bd3786"
             ],
             [
              0.5555555555555556,
              "#d8576b"
             ],
             [
              0.6666666666666666,
              "#ed7953"
             ],
             [
              0.7777777777777778,
              "#fb9f3a"
             ],
             [
              0.8888888888888888,
              "#fdca26"
             ],
             [
              1,
              "#f0f921"
             ]
            ],
            "type": "heatmapgl"
           }
          ],
          "histogram": [
           {
            "marker": {
             "pattern": {
              "fillmode": "overlay",
              "size": 10,
              "solidity": 0.2
             }
            },
            "type": "histogram"
           }
          ],
          "histogram2d": [
           {
            "colorbar": {
             "outlinewidth": 0,
             "ticks": ""
            },
            "colorscale": [
             [
              0,
              "#0d0887"
             ],
             [
              0.1111111111111111,
              "#46039f"
             ],
             [
              0.2222222222222222,
              "#7201a8"
             ],
             [
              0.3333333333333333,
              "#9c179e"
             ],
             [
              0.4444444444444444,
              "#bd3786"
             ],
             [
              0.5555555555555556,
              "#d8576b"
             ],
             [
              0.6666666666666666,
              "#ed7953"
             ],
             [
              0.7777777777777778,
              "#fb9f3a"
             ],
             [
              0.8888888888888888,
              "#fdca26"
             ],
             [
              1,
              "#f0f921"
             ]
            ],
            "type": "histogram2d"
           }
          ],
          "histogram2dcontour": [
           {
            "colorbar": {
             "outlinewidth": 0,
             "ticks": ""
            },
            "colorscale": [
             [
              0,
              "#0d0887"
             ],
             [
              0.1111111111111111,
              "#46039f"
             ],
             [
              0.2222222222222222,
              "#7201a8"
             ],
             [
              0.3333333333333333,
              "#9c179e"
             ],
             [
              0.4444444444444444,
              "#bd3786"
             ],
             [
              0.5555555555555556,
              "#d8576b"
             ],
             [
              0.6666666666666666,
              "#ed7953"
             ],
             [
              0.7777777777777778,
              "#fb9f3a"
             ],
             [
              0.8888888888888888,
              "#fdca26"
             ],
             [
              1,
              "#f0f921"
             ]
            ],
            "type": "histogram2dcontour"
           }
          ],
          "mesh3d": [
           {
            "colorbar": {
             "outlinewidth": 0,
             "ticks": ""
            },
            "type": "mesh3d"
           }
          ],
          "parcoords": [
           {
            "line": {
             "colorbar": {
              "outlinewidth": 0,
              "ticks": ""
             }
            },
            "type": "parcoords"
           }
          ],
          "pie": [
           {
            "automargin": true,
            "type": "pie"
           }
          ],
          "scatter": [
           {
            "fillpattern": {
             "fillmode": "overlay",
             "size": 10,
             "solidity": 0.2
            },
            "type": "scatter"
           }
          ],
          "scatter3d": [
           {
            "line": {
             "colorbar": {
              "outlinewidth": 0,
              "ticks": ""
             }
            },
            "marker": {
             "colorbar": {
              "outlinewidth": 0,
              "ticks": ""
             }
            },
            "type": "scatter3d"
           }
          ],
          "scattercarpet": [
           {
            "marker": {
             "colorbar": {
              "outlinewidth": 0,
              "ticks": ""
             }
            },
            "type": "scattercarpet"
           }
          ],
          "scattergeo": [
           {
            "marker": {
             "colorbar": {
              "outlinewidth": 0,
              "ticks": ""
             }
            },
            "type": "scattergeo"
           }
          ],
          "scattergl": [
           {
            "marker": {
             "colorbar": {
              "outlinewidth": 0,
              "ticks": ""
             }
            },
            "type": "scattergl"
           }
          ],
          "scattermapbox": [
           {
            "marker": {
             "colorbar": {
              "outlinewidth": 0,
              "ticks": ""
             }
            },
            "type": "scattermapbox"
           }
          ],
          "scatterpolar": [
           {
            "marker": {
             "colorbar": {
              "outlinewidth": 0,
              "ticks": ""
             }
            },
            "type": "scatterpolar"
           }
          ],
          "scatterpolargl": [
           {
            "marker": {
             "colorbar": {
              "outlinewidth": 0,
              "ticks": ""
             }
            },
            "type": "scatterpolargl"
           }
          ],
          "scatterternary": [
           {
            "marker": {
             "colorbar": {
              "outlinewidth": 0,
              "ticks": ""
             }
            },
            "type": "scatterternary"
           }
          ],
          "surface": [
           {
            "colorbar": {
             "outlinewidth": 0,
             "ticks": ""
            },
            "colorscale": [
             [
              0,
              "#0d0887"
             ],
             [
              0.1111111111111111,
              "#46039f"
             ],
             [
              0.2222222222222222,
              "#7201a8"
             ],
             [
              0.3333333333333333,
              "#9c179e"
             ],
             [
              0.4444444444444444,
              "#bd3786"
             ],
             [
              0.5555555555555556,
              "#d8576b"
             ],
             [
              0.6666666666666666,
              "#ed7953"
             ],
             [
              0.7777777777777778,
              "#fb9f3a"
             ],
             [
              0.8888888888888888,
              "#fdca26"
             ],
             [
              1,
              "#f0f921"
             ]
            ],
            "type": "surface"
           }
          ],
          "table": [
           {
            "cells": {
             "fill": {
              "color": "#EBF0F8"
             },
             "line": {
              "color": "white"
             }
            },
            "header": {
             "fill": {
              "color": "#C8D4E3"
             },
             "line": {
              "color": "white"
             }
            },
            "type": "table"
           }
          ]
         },
         "layout": {
          "annotationdefaults": {
           "arrowcolor": "#2a3f5f",
           "arrowhead": 0,
           "arrowwidth": 1
          },
          "autotypenumbers": "strict",
          "coloraxis": {
           "colorbar": {
            "outlinewidth": 0,
            "ticks": ""
           }
          },
          "colorscale": {
           "diverging": [
            [
             0,
             "#8e0152"
            ],
            [
             0.1,
             "#c51b7d"
            ],
            [
             0.2,
             "#de77ae"
            ],
            [
             0.3,
             "#f1b6da"
            ],
            [
             0.4,
             "#fde0ef"
            ],
            [
             0.5,
             "#f7f7f7"
            ],
            [
             0.6,
             "#e6f5d0"
            ],
            [
             0.7,
             "#b8e186"
            ],
            [
             0.8,
             "#7fbc41"
            ],
            [
             0.9,
             "#4d9221"
            ],
            [
             1,
             "#276419"
            ]
           ],
           "sequential": [
            [
             0,
             "#0d0887"
            ],
            [
             0.1111111111111111,
             "#46039f"
            ],
            [
             0.2222222222222222,
             "#7201a8"
            ],
            [
             0.3333333333333333,
             "#9c179e"
            ],
            [
             0.4444444444444444,
             "#bd3786"
            ],
            [
             0.5555555555555556,
             "#d8576b"
            ],
            [
             0.6666666666666666,
             "#ed7953"
            ],
            [
             0.7777777777777778,
             "#fb9f3a"
            ],
            [
             0.8888888888888888,
             "#fdca26"
            ],
            [
             1,
             "#f0f921"
            ]
           ],
           "sequentialminus": [
            [
             0,
             "#0d0887"
            ],
            [
             0.1111111111111111,
             "#46039f"
            ],
            [
             0.2222222222222222,
             "#7201a8"
            ],
            [
             0.3333333333333333,
             "#9c179e"
            ],
            [
             0.4444444444444444,
             "#bd3786"
            ],
            [
             0.5555555555555556,
             "#d8576b"
            ],
            [
             0.6666666666666666,
             "#ed7953"
            ],
            [
             0.7777777777777778,
             "#fb9f3a"
            ],
            [
             0.8888888888888888,
             "#fdca26"
            ],
            [
             1,
             "#f0f921"
            ]
           ]
          },
          "colorway": [
           "#636efa",
           "#EF553B",
           "#00cc96",
           "#ab63fa",
           "#FFA15A",
           "#19d3f3",
           "#FF6692",
           "#B6E880",
           "#FF97FF",
           "#FECB52"
          ],
          "font": {
           "color": "#2a3f5f"
          },
          "geo": {
           "bgcolor": "white",
           "lakecolor": "white",
           "landcolor": "#E5ECF6",
           "showlakes": true,
           "showland": true,
           "subunitcolor": "white"
          },
          "hoverlabel": {
           "align": "left"
          },
          "hovermode": "closest",
          "mapbox": {
           "style": "light"
          },
          "paper_bgcolor": "white",
          "plot_bgcolor": "#E5ECF6",
          "polar": {
           "angularaxis": {
            "gridcolor": "white",
            "linecolor": "white",
            "ticks": ""
           },
           "bgcolor": "#E5ECF6",
           "radialaxis": {
            "gridcolor": "white",
            "linecolor": "white",
            "ticks": ""
           }
          },
          "scene": {
           "xaxis": {
            "backgroundcolor": "#E5ECF6",
            "gridcolor": "white",
            "gridwidth": 2,
            "linecolor": "white",
            "showbackground": true,
            "ticks": "",
            "zerolinecolor": "white"
           },
           "yaxis": {
            "backgroundcolor": "#E5ECF6",
            "gridcolor": "white",
            "gridwidth": 2,
            "linecolor": "white",
            "showbackground": true,
            "ticks": "",
            "zerolinecolor": "white"
           },
           "zaxis": {
            "backgroundcolor": "#E5ECF6",
            "gridcolor": "white",
            "gridwidth": 2,
            "linecolor": "white",
            "showbackground": true,
            "ticks": "",
            "zerolinecolor": "white"
           }
          },
          "shapedefaults": {
           "line": {
            "color": "#2a3f5f"
           }
          },
          "ternary": {
           "aaxis": {
            "gridcolor": "white",
            "linecolor": "white",
            "ticks": ""
           },
           "baxis": {
            "gridcolor": "white",
            "linecolor": "white",
            "ticks": ""
           },
           "bgcolor": "#E5ECF6",
           "caxis": {
            "gridcolor": "white",
            "linecolor": "white",
            "ticks": ""
           }
          },
          "title": {
           "x": 0.05
          },
          "xaxis": {
           "automargin": true,
           "gridcolor": "white",
           "linecolor": "white",
           "ticks": "",
           "title": {
            "standoff": 15
           },
           "zerolinecolor": "white",
           "zerolinewidth": 2
          },
          "yaxis": {
           "automargin": true,
           "gridcolor": "white",
           "linecolor": "white",
           "ticks": "",
           "title": {
            "standoff": 15
           },
           "zerolinecolor": "white",
           "zerolinewidth": 2
          }
         }
        },
        "title": {
         "text": "Pareto-front Plot"
        },
        "xaxis": {
         "title": {
          "text": "CRPS"
         }
        },
        "yaxis": {
         "title": {
          "text": "twCRPS12"
         }
        }
       }
      },
      "text/html": [
       "<div>                            <div id=\"0245c7e5-6511-47bb-a018-41a71311bbd9\" class=\"plotly-graph-div\" style=\"height:525px; width:100%;\"></div>            <script type=\"text/javascript\">                require([\"plotly\"], function(Plotly) {                    window.PLOTLYENV=window.PLOTLYENV || {};                                    if (document.getElementById(\"0245c7e5-6511-47bb-a018-41a71311bbd9\")) {                    Plotly.newPlot(                        \"0245c7e5-6511-47bb-a018-41a71311bbd9\",                        [{\"hovertemplate\":\"%{text}\\u003cextra\\u003eTrial\\u003c\\u002fextra\\u003e\",\"marker\":{\"color\":[0,1,2,4,5,6,7,8,9,10,11,12,13,14,15,17,18,19,20,25,26,27,28,29,30,31,32,33,34,35,38,39,40,41,42,43,44,45,46,47,48,49,50,51,52,53,54,55,57,59,60,61,62,64,65,66,68,69,70,71,72,73,74,75,76,77,78,79,82,83,85,86,87,89,90,92,94,96,97,98,99,100,101,102,103,104,110,114,115,116,117,118,120,122,123,124,125,127,131,132,138,142,143,144,146,147,148,150,151,152,153,155,156,157,158,162,163,164,165,166,168,169,170,172,173,176,178,179,180,181,183,184,186,187,188,189,190,191,192,193,194,195,196,197,198,199,201,203,204,205,206,207,208,209,210,211,213,214,215,216,217,219,220,221,222,223,224,225,226,227,228,229,230,231,232,233,234,235,236,238,240,241,242,243,244,245,246,247,248,249],\"colorbar\":{\"title\":{\"text\":\"Trial\"}},\"colorscale\":[[0.0,\"rgb(247,251,255)\"],[0.125,\"rgb(222,235,247)\"],[0.25,\"rgb(198,219,239)\"],[0.375,\"rgb(158,202,225)\"],[0.5,\"rgb(107,174,214)\"],[0.625,\"rgb(66,146,198)\"],[0.75,\"rgb(33,113,181)\"],[0.875,\"rgb(8,81,156)\"],[1.0,\"rgb(8,48,107)\"]],\"line\":{\"color\":\"Grey\",\"width\":0.5}},\"mode\":\"markers\",\"showlegend\":false,\"text\":[\"{\\u003cbr\\u003e  \\\"number\\\": 0,\\u003cbr\\u003e  \\\"values\\\": [\\u003cbr\\u003e    0.8939164280891418,\\u003cbr\\u003e    0.06313100457191467\\u003cbr\\u003e  ],\\u003cbr\\u003e  \\\"params\\\": {\\u003cbr\\u003e    \\\"chain_function_mean\\\": 2.0641131627587725,\\u003cbr\\u003e    \\\"chain_function_std\\\": 0.4154682921260948,\\u003cbr\\u003e    \\\"chain_function_constant\\\": 0.28369589483228863,\\u003cbr\\u003e    \\\"optimizer\\\": \\\"Adam\\\",\\u003cbr\\u003e    \\\"learning_rate\\\": 0.04273965078749279,\\u003cbr\\u003e    \\\"forecast_distribution\\\": \\\"distr_log_normal\\\",\\u003cbr\\u003e    \\\"perform_batching\\\": true,\\u003cbr\\u003e    \\\"batch_size\\\": 617,\\u003cbr\\u003e    \\\"epochs\\\": 307\\u003cbr\\u003e  }\\u003cbr\\u003e}\",\"{\\u003cbr\\u003e  \\\"number\\\": 1,\\u003cbr\\u003e  \\\"values\\\": [\\u003cbr\\u003e    0.8894176483154297,\\u003cbr\\u003e    0.06329651176929474\\u003cbr\\u003e  ],\\u003cbr\\u003e  \\\"params\\\": {\\u003cbr\\u003e    \\\"chain_function_mean\\\": 1.555597482689219,\\u003cbr\\u003e    \\\"chain_function_std\\\": 0.8255488714281788,\\u003cbr\\u003e    \\\"chain_function_constant\\\": 0.7748485949333132,\\u003cbr\\u003e    \\\"optimizer\\\": \\\"SGD\\\",\\u003cbr\\u003e    \\\"learning_rate\\\": 0.023112566889074055,\\u003cbr\\u003e    \\\"forecast_distribution\\\": \\\"distr_mixture\\\",\\u003cbr\\u003e    \\\"distribution_1\\\": \\\"distr_trunc_normal\\\",\\u003cbr\\u003e    \\\"distribution_2\\\": \\\"distr_gev\\\",\\u003cbr\\u003e    \\\"perform_batching\\\": true,\\u003cbr\\u003e    \\\"batch_size\\\": 635,\\u003cbr\\u003e    \\\"epochs\\\": 82\\u003cbr\\u003e  }\\u003cbr\\u003e}\",\"{\\u003cbr\\u003e  \\\"number\\\": 2,\\u003cbr\\u003e  \\\"values\\\": [\\u003cbr\\u003e    0.9069005846977234,\\u003cbr\\u003e    0.06330331414937973\\u003cbr\\u003e  ],\\u003cbr\\u003e  \\\"params\\\": {\\u003cbr\\u003e    \\\"chain_function_mean\\\": 4.265955940205421,\\u003cbr\\u003e    \\\"chain_function_std\\\": 3.524490742625158,\\u003cbr\\u003e    \\\"chain_function_constant\\\": 0.7815168131691753,\\u003cbr\\u003e    \\\"optimizer\\\": \\\"SGD\\\",\\u003cbr\\u003e    \\\"learning_rate\\\": 0.04603537949556522,\\u003cbr\\u003e    \\\"forecast_distribution\\\": \\\"distr_mixture\\\",\\u003cbr\\u003e    \\\"distribution_1\\\": \\\"distr_trunc_normal\\\",\\u003cbr\\u003e    \\\"distribution_2\\\": \\\"distr_log_normal\\\",\\u003cbr\\u003e    \\\"perform_batching\\\": false,\\u003cbr\\u003e    \\\"epochs\\\": 366\\u003cbr\\u003e  }\\u003cbr\\u003e}\",\"{\\u003cbr\\u003e  \\\"number\\\": 4,\\u003cbr\\u003e  \\\"values\\\": [\\u003cbr\\u003e    0.8899415731430054,\\u003cbr\\u003e    0.06396393477916718\\u003cbr\\u003e  ],\\u003cbr\\u003e  \\\"params\\\": {\\u003cbr\\u003e    \\\"chain_function_mean\\\": 3.241534915374551,\\u003cbr\\u003e    \\\"chain_function_std\\\": 2.707171851127277,\\u003cbr\\u003e    \\\"chain_function_constant\\\": 0.9192419880850593,\\u003cbr\\u003e    \\\"optimizer\\\": \\\"SGD\\\",\\u003cbr\\u003e    \\\"learning_rate\\\": 0.07890417372748003,\\u003cbr\\u003e    \\\"forecast_distribution\\\": \\\"distr_gev\\\",\\u003cbr\\u003e    \\\"perform_batching\\\": false,\\u003cbr\\u003e    \\\"epochs\\\": 362\\u003cbr\\u003e  }\\u003cbr\\u003e}\",\"{\\u003cbr\\u003e  \\\"number\\\": 5,\\u003cbr\\u003e  \\\"values\\\": [\\u003cbr\\u003e    0.8900049924850464,\\u003cbr\\u003e    0.0622970387339592\\u003cbr\\u003e  ],\\u003cbr\\u003e  \\\"params\\\": {\\u003cbr\\u003e    \\\"chain_function_mean\\\": 8.197514801249932,\\u003cbr\\u003e    \\\"chain_function_std\\\": 0.12070600279597514,\\u003cbr\\u003e    \\\"chain_function_constant\\\": 0.15600074161376992,\\u003cbr\\u003e    \\\"optimizer\\\": \\\"Adam\\\",\\u003cbr\\u003e    \\\"learning_rate\\\": 0.0029617066843963522,\\u003cbr\\u003e    \\\"forecast_distribution\\\": \\\"distr_log_normal\\\",\\u003cbr\\u003e    \\\"perform_batching\\\": true,\\u003cbr\\u003e    \\\"batch_size\\\": 710,\\u003cbr\\u003e    \\\"epochs\\\": 582\\u003cbr\\u003e  }\\u003cbr\\u003e}\",\"{\\u003cbr\\u003e  \\\"number\\\": 6,\\u003cbr\\u003e  \\\"values\\\": [\\u003cbr\\u003e    0.8885961771011353,\\u003cbr\\u003e    0.062454961240291595\\u003cbr\\u003e  ],\\u003cbr\\u003e  \\\"params\\\": {\\u003cbr\\u003e    \\\"chain_function_mean\\\": 0.16173500572061883,\\u003cbr\\u003e    \\\"chain_function_std\\\": 2.594906847012356,\\u003cbr\\u003e    \\\"chain_function_constant\\\": 0.8134175397175094,\\u003cbr\\u003e    \\\"optimizer\\\": \\\"Adam\\\",\\u003cbr\\u003e    \\\"learning_rate\\\": 0.060766748351343075,\\u003cbr\\u003e    \\\"forecast_distribution\\\": \\\"distr_mixture\\\",\\u003cbr\\u003e    \\\"distribution_1\\\": \\\"distr_trunc_normal\\\",\\u003cbr\\u003e    \\\"distribution_2\\\": \\\"distr_log_normal\\\",\\u003cbr\\u003e    \\\"perform_batching\\\": false,\\u003cbr\\u003e    \\\"epochs\\\": 469\\u003cbr\\u003e  }\\u003cbr\\u003e}\",\"{\\u003cbr\\u003e  \\\"number\\\": 7,\\u003cbr\\u003e  \\\"values\\\": [\\u003cbr\\u003e    0.8879302144050598,\\u003cbr\\u003e    0.06235683709383011\\u003cbr\\u003e  ],\\u003cbr\\u003e  \\\"params\\\": {\\u003cbr\\u003e    \\\"chain_function_mean\\\": 12.61801849683028,\\u003cbr\\u003e    \\\"chain_function_std\\\": 3.4457937264686698,\\u003cbr\\u003e    \\\"chain_function_constant\\\": 0.5335781345899268,\\u003cbr\\u003e    \\\"optimizer\\\": \\\"Adam\\\",\\u003cbr\\u003e    \\\"learning_rate\\\": 0.07927300443081227,\\u003cbr\\u003e    \\\"forecast_distribution\\\": \\\"distr_trunc_normal\\\",\\u003cbr\\u003e    \\\"perform_batching\\\": false,\\u003cbr\\u003e    \\\"epochs\\\": 236\\u003cbr\\u003e  }\\u003cbr\\u003e}\",\"{\\u003cbr\\u003e  \\\"number\\\": 8,\\u003cbr\\u003e  \\\"values\\\": [\\u003cbr\\u003e    0.8921669721603394,\\u003cbr\\u003e    0.06295806914567947\\u003cbr\\u003e  ],\\u003cbr\\u003e  \\\"params\\\": {\\u003cbr\\u003e    \\\"chain_function_mean\\\": 7.120121799816163,\\u003cbr\\u003e    \\\"chain_function_std\\\": 4.306511912701236,\\u003cbr\\u003e    \\\"chain_function_constant\\\": 0.1097541009833735,\\u003cbr\\u003e    \\\"optimizer\\\": \\\"Adam\\\",\\u003cbr\\u003e    \\\"learning_rate\\\": 0.05543013093560948,\\u003cbr\\u003e    \\\"forecast_distribution\\\": \\\"distr_mixture_linear\\\",\\u003cbr\\u003e    \\\"distribution_1\\\": \\\"distr_log_normal\\\",\\u003cbr\\u003e    \\\"distribution_2\\\": \\\"distr_log_normal\\\",\\u003cbr\\u003e    \\\"perform_batching\\\": true,\\u003cbr\\u003e    \\\"batch_size\\\": 869,\\u003cbr\\u003e    \\\"epochs\\\": 234\\u003cbr\\u003e  }\\u003cbr\\u003e}\",\"{\\u003cbr\\u003e  \\\"number\\\": 9,\\u003cbr\\u003e  \\\"values\\\": [\\u003cbr\\u003e    0.8911253809928894,\\u003cbr\\u003e    0.06235826760530472\\u003cbr\\u003e  ],\\u003cbr\\u003e  \\\"params\\\": {\\u003cbr\\u003e    \\\"chain_function_mean\\\": 10.17867982106603,\\u003cbr\\u003e    \\\"chain_function_std\\\": 0.3872800318312687,\\u003cbr\\u003e    \\\"chain_function_constant\\\": 0.8209463726665085,\\u003cbr\\u003e    \\\"optimizer\\\": \\\"SGD\\\",\\u003cbr\\u003e    \\\"learning_rate\\\": 0.05506117496377776,\\u003cbr\\u003e    \\\"forecast_distribution\\\": \\\"distr_mixture_linear\\\",\\u003cbr\\u003e    \\\"distribution_1\\\": \\\"distr_trunc_normal\\\",\\u003cbr\\u003e    \\\"distribution_2\\\": \\\"distr_log_normal\\\",\\u003cbr\\u003e    \\\"perform_batching\\\": true,\\u003cbr\\u003e    \\\"batch_size\\\": 832,\\u003cbr\\u003e    \\\"epochs\\\": 232\\u003cbr\\u003e  }\\u003cbr\\u003e}\",\"{\\u003cbr\\u003e  \\\"number\\\": 10,\\u003cbr\\u003e  \\\"values\\\": [\\u003cbr\\u003e    1.0026330947875977,\\u003cbr\\u003e    0.06607867032289505\\u003cbr\\u003e  ],\\u003cbr\\u003e  \\\"params\\\": {\\u003cbr\\u003e    \\\"chain_function_mean\\\": 2.1414392382245566,\\u003cbr\\u003e    \\\"chain_function_std\\\": 1.4033141603856205,\\u003cbr\\u003e    \\\"chain_function_constant\\\": 0.1330490938581129,\\u003cbr\\u003e    \\\"optimizer\\\": \\\"Adam\\\",\\u003cbr\\u003e    \\\"learning_rate\\\": 0.08935933846066674,\\u003cbr\\u003e    \\\"forecast_distribution\\\": \\\"distr_mixture\\\",\\u003cbr\\u003e    \\\"distribution_1\\\": \\\"distr_trunc_normal\\\",\\u003cbr\\u003e    \\\"distribution_2\\\": \\\"distr_log_normal\\\",\\u003cbr\\u003e    \\\"perform_batching\\\": false,\\u003cbr\\u003e    \\\"epochs\\\": 37\\u003cbr\\u003e  }\\u003cbr\\u003e}\",\"{\\u003cbr\\u003e  \\\"number\\\": 11,\\u003cbr\\u003e  \\\"values\\\": [\\u003cbr\\u003e    0.8921949863433838,\\u003cbr\\u003e    0.06296825408935547\\u003cbr\\u003e  ],\\u003cbr\\u003e  \\\"params\\\": {\\u003cbr\\u003e    \\\"chain_function_mean\\\": 14.903825141203617,\\u003cbr\\u003e    \\\"chain_function_std\\\": 4.659921819284413,\\u003cbr\\u003e    \\\"chain_function_constant\\\": 0.5253319104363229,\\u003cbr\\u003e    \\\"optimizer\\\": \\\"Adam\\\",\\u003cbr\\u003e    \\\"learning_rate\\\": 0.0743608201247726,\\u003cbr\\u003e    \\\"forecast_distribution\\\": \\\"distr_trunc_normal\\\",\\u003cbr\\u003e    \\\"perform_batching\\\": false,\\u003cbr\\u003e    \\\"epochs\\\": 146\\u003cbr\\u003e  }\\u003cbr\\u003e}\",\"{\\u003cbr\\u003e  \\\"number\\\": 12,\\u003cbr\\u003e  \\\"values\\\": [\\u003cbr\\u003e    0.8874222636222839,\\u003cbr\\u003e    0.06234855204820633\\u003cbr\\u003e  ],\\u003cbr\\u003e  \\\"params\\\": {\\u003cbr\\u003e    \\\"chain_function_mean\\\": 14.347408510518969,\\u003cbr\\u003e    \\\"chain_function_std\\\": 3.625703481996873,\\u003cbr\\u003e    \\\"chain_function_constant\\\": 0.5210254672424394,\\u003cbr\\u003e    \\\"optimizer\\\": \\\"Adam\\\",\\u003cbr\\u003e    \\\"learning_rate\\\": 0.09226408935438198,\\u003cbr\\u003e    \\\"forecast_distribution\\\": \\\"distr_trunc_normal\\\",\\u003cbr\\u003e    \\\"perform_batching\\\": false,\\u003cbr\\u003e    \\\"epochs\\\": 488\\u003cbr\\u003e  }\\u003cbr\\u003e}\",\"{\\u003cbr\\u003e  \\\"number\\\": 13,\\u003cbr\\u003e  \\\"values\\\": [\\u003cbr\\u003e    0.8882594704627991,\\u003cbr\\u003e    0.062265828251838684\\u003cbr\\u003e  ],\\u003cbr\\u003e  \\\"params\\\": {\\u003cbr\\u003e    \\\"chain_function_mean\\\": 14.892324677872535,\\u003cbr\\u003e    \\\"chain_function_std\\\": 1.5964434484514802,\\u003cbr\\u003e    \\\"chain_function_constant\\\": 0.3484198805601991,\\u003cbr\\u003e    \\\"optimizer\\\": \\\"Adam\\\",\\u003cbr\\u003e    \\\"learning_rate\\\": 0.09435040615071237,\\u003cbr\\u003e    \\\"forecast_distribution\\\": \\\"distr_trunc_normal\\\",\\u003cbr\\u003e    \\\"perform_batching\\\": false,\\u003cbr\\u003e    \\\"epochs\\\": 595\\u003cbr\\u003e  }\\u003cbr\\u003e}\",\"{\\u003cbr\\u003e  \\\"number\\\": 14,\\u003cbr\\u003e  \\\"values\\\": [\\u003cbr\\u003e    1.142411708831787,\\u003cbr\\u003e    0.08192676305770874\\u003cbr\\u003e  ],\\u003cbr\\u003e  \\\"params\\\": {\\u003cbr\\u003e    \\\"chain_function_mean\\\": 10.947524383332013,\\u003cbr\\u003e    \\\"chain_function_std\\\": 1.8229016828181446,\\u003cbr\\u003e    \\\"chain_function_constant\\\": 0.3791864408423256,\\u003cbr\\u003e    \\\"optimizer\\\": \\\"SGD\\\",\\u003cbr\\u003e    \\\"learning_rate\\\": 0.0305958815384517,\\u003cbr\\u003e    \\\"forecast_distribution\\\": \\\"distr_gev\\\",\\u003cbr\\u003e    \\\"perform_batching\\\": false,\\u003cbr\\u003e    \\\"epochs\\\": 594\\u003cbr\\u003e  }\\u003cbr\\u003e}\",\"{\\u003cbr\\u003e  \\\"number\\\": 15,\\u003cbr\\u003e  \\\"values\\\": [\\u003cbr\\u003e    0.8873712420463562,\\u003cbr\\u003e    0.062399908900260925\\u003cbr\\u003e  ],\\u003cbr\\u003e  \\\"params\\\": {\\u003cbr\\u003e    \\\"chain_function_mean\\\": 5.290958577059072,\\u003cbr\\u003e    \\\"chain_function_std\\\": 1.3633595481091279,\\u003cbr\\u003e    \\\"chain_function_constant\\\": 0.6450062256992439,\\u003cbr\\u003e    \\\"optimizer\\\": \\\"Adam\\\",\\u003cbr\\u003e    \\\"learning_rate\\\": 0.0998019772242226,\\u003cbr\\u003e    \\\"forecast_distribution\\\": \\\"distr_trunc_normal\\\",\\u003cbr\\u003e    \\\"perform_batching\\\": false,\\u003cbr\\u003e    \\\"epochs\\\": 456\\u003cbr\\u003e  }\\u003cbr\\u003e}\",\"{\\u003cbr\\u003e  \\\"number\\\": 17,\\u003cbr\\u003e  \\\"values\\\": [\\u003cbr\\u003e    0.9210930466651917,\\u003cbr\\u003e    0.061606019735336304\\u003cbr\\u003e  ],\\u003cbr\\u003e  \\\"params\\\": {\\u003cbr\\u003e    \\\"chain_function_mean\\\": 9.156973853500537,\\u003cbr\\u003e    \\\"chain_function_std\\\": 2.047413542045709,\\u003cbr\\u003e    \\\"chain_function_constant\\\": 0.0035731853498202626,\\u003cbr\\u003e    \\\"optimizer\\\": \\\"SGD\\\",\\u003cbr\\u003e    \\\"learning_rate\\\": 0.06782091930437235,\\u003cbr\\u003e    \\\"forecast_distribution\\\": \\\"distr_gev\\\",\\u003cbr\\u003e    \\\"perform_batching\\\": true,\\u003cbr\\u003e    \\\"batch_size\\\": 38,\\u003cbr\\u003e    \\\"epochs\\\": 521\\u003cbr\\u003e  }\\u003cbr\\u003e}\",\"{\\u003cbr\\u003e  \\\"number\\\": 18,\\u003cbr\\u003e  \\\"values\\\": [\\u003cbr\\u003e    1.1570937633514404,\\u003cbr\\u003e    0.07903000712394714\\u003cbr\\u003e  ],\\u003cbr\\u003e  \\\"params\\\": {\\u003cbr\\u003e    \\\"chain_function_mean\\\": 6.013354911814476,\\u003cbr\\u003e    \\\"chain_function_std\\\": 3.1211456365370776,\\u003cbr\\u003e    \\\"chain_function_constant\\\": 0.6356840294879161,\\u003cbr\\u003e    \\\"optimizer\\\": \\\"Adam\\\",\\u003cbr\\u003e    \\\"learning_rate\\\": 0.005743949593617563,\\u003cbr\\u003e    \\\"forecast_distribution\\\": \\\"distr_mixture_linear\\\",\\u003cbr\\u003e    \\\"distribution_1\\\": \\\"distr_gev\\\",\\u003cbr\\u003e    \\\"distribution_2\\\": \\\"distr_trunc_normal\\\",\\u003cbr\\u003e    \\\"perform_batching\\\": false,\\u003cbr\\u003e    \\\"epochs\\\": 401\\u003cbr\\u003e  }\\u003cbr\\u003e}\",\"{\\u003cbr\\u003e  \\\"number\\\": 19,\\u003cbr\\u003e  \\\"values\\\": [\\u003cbr\\u003e    0.892382800579071,\\u003cbr\\u003e    0.06266500055789948\\u003cbr\\u003e  ],\\u003cbr\\u003e  \\\"params\\\": {\\u003cbr\\u003e    \\\"chain_function_mean\\\": 12.075403107301614,\\u003cbr\\u003e    \\\"chain_function_std\\\": 0.9791691330143255,\\u003cbr\\u003e    \\\"chain_function_constant\\\": 0.9901604549042864,\\u003cbr\\u003e    \\\"optimizer\\\": \\\"Adam\\\",\\u003cbr\\u003e    \\\"learning_rate\\\": 0.029226409549400992,\\u003cbr\\u003e    \\\"forecast_distribution\\\": \\\"distr_log_normal\\\",\\u003cbr\\u003e    \\\"perform_batching\\\": false,\\u003cbr\\u003e    \\\"epochs\\\": 417\\u003cbr\\u003e  }\\u003cbr\\u003e}\",\"{\\u003cbr\\u003e  \\\"number\\\": 20,\\u003cbr\\u003e  \\\"values\\\": [\\u003cbr\\u003e    0.8882105350494385,\\u003cbr\\u003e    0.06253289431333542\\u003cbr\\u003e  ],\\u003cbr\\u003e  \\\"params\\\": {\\u003cbr\\u003e    \\\"chain_function_mean\\\": -0.9495654797101558,\\u003cbr\\u003e    \\\"chain_function_std\\\": 4.0930415064595875,\\u003cbr\\u003e    \\\"chain_function_constant\\\": 0.40651091655965965,\\u003cbr\\u003e    \\\"optimizer\\\": \\\"SGD\\\",\\u003cbr\\u003e    \\\"learning_rate\\\": 0.015985731618929085,\\u003cbr\\u003e    \\\"forecast_distribution\\\": \\\"distr_trunc_normal\\\",\\u003cbr\\u003e    \\\"perform_batching\\\": true,\\u003cbr\\u003e    \\\"batch_size\\\": 233,\\u003cbr\\u003e    \\\"epochs\\\": 533\\u003cbr\\u003e  }\\u003cbr\\u003e}\",\"{\\u003cbr\\u003e  \\\"number\\\": 25,\\u003cbr\\u003e  \\\"values\\\": [\\u003cbr\\u003e    0.8982536792755127,\\u003cbr\\u003e    0.061889901757240295\\u003cbr\\u003e  ],\\u003cbr\\u003e  \\\"params\\\": {\\u003cbr\\u003e    \\\"chain_function_mean\\\": 8.058042344576247,\\u003cbr\\u003e    \\\"chain_function_std\\\": 2.17685373026288,\\u003cbr\\u003e    \\\"chain_function_constant\\\": 0.01147438558542957,\\u003cbr\\u003e    \\\"optimizer\\\": \\\"SGD\\\",\\u003cbr\\u003e    \\\"learning_rate\\\": 0.06919045608943032,\\u003cbr\\u003e    \\\"forecast_distribution\\\": \\\"distr_gev\\\",\\u003cbr\\u003e    \\\"perform_batching\\\": true,\\u003cbr\\u003e    \\\"batch_size\\\": 15,\\u003cbr\\u003e    \\\"epochs\\\": 511\\u003cbr\\u003e  }\\u003cbr\\u003e}\",\"{\\u003cbr\\u003e  \\\"number\\\": 26,\\u003cbr\\u003e  \\\"values\\\": [\\u003cbr\\u003e    0.888512134552002,\\u003cbr\\u003e    0.062370218336582184\\u003cbr\\u003e  ],\\u003cbr\\u003e  \\\"params\\\": {\\u003cbr\\u003e    \\\"chain_function_mean\\\": 9.264214278689328,\\u003cbr\\u003e    \\\"chain_function_std\\\": 2.1868894174742946,\\u003cbr\\u003e    \\\"chain_function_constant\\\": 0.2670577267195898,\\u003cbr\\u003e    \\\"optimizer\\\": \\\"SGD\\\",\\u003cbr\\u003e    \\\"learning_rate\\\": 0.06697386718102112,\\u003cbr\\u003e    \\\"forecast_distribution\\\": \\\"distr_gev\\\",\\u003cbr\\u003e    \\\"perform_batching\\\": true,\\u003cbr\\u003e    \\\"batch_size\\\": 370,\\u003cbr\\u003e    \\\"epochs\\\": 303\\u003cbr\\u003e  }\\u003cbr\\u003e}\",\"{\\u003cbr\\u003e  \\\"number\\\": 27,\\u003cbr\\u003e  \\\"values\\\": [\\u003cbr\\u003e    0.906369149684906,\\u003cbr\\u003e    0.06180950254201889\\u003cbr\\u003e  ],\\u003cbr\\u003e  \\\"params\\\": {\\u003cbr\\u003e    \\\"chain_function_mean\\\": 13.07365736950287,\\u003cbr\\u003e    \\\"chain_function_std\\\": 3.00437232904294,\\u003cbr\\u003e    \\\"chain_function_constant\\\": 0.01822288729155047,\\u003cbr\\u003e    \\\"optimizer\\\": \\\"Adam\\\",\\u003cbr\\u003e    \\\"learning_rate\\\": 0.036972218166687706,\\u003cbr\\u003e    \\\"forecast_distribution\\\": \\\"distr_trunc_normal\\\",\\u003cbr\\u003e    \\\"perform_batching\\\": false,\\u003cbr\\u003e    \\\"epochs\\\": 149\\u003cbr\\u003e  }\\u003cbr\\u003e}\",\"{\\u003cbr\\u003e  \\\"number\\\": 28,\\u003cbr\\u003e  \\\"values\\\": [\\u003cbr\\u003e    0.8938837647438049,\\u003cbr\\u003e    0.062477290630340576\\u003cbr\\u003e  ],\\u003cbr\\u003e  \\\"params\\\": {\\u003cbr\\u003e    \\\"chain_function_mean\\\": 10.940212187214506,\\u003cbr\\u003e    \\\"chain_function_std\\\": 2.1242747538019042,\\u003cbr\\u003e    \\\"chain_function_constant\\\": 0.641599246109019,\\u003cbr\\u003e    \\\"optimizer\\\": \\\"SGD\\\",\\u003cbr\\u003e    \\\"learning_rate\\\": 0.0843689182186888,\\u003cbr\\u003e    \\\"forecast_distribution\\\": \\\"distr_trunc_normal\\\",\\u003cbr\\u003e    \\\"perform_batching\\\": true,\\u003cbr\\u003e    \\\"batch_size\\\": 9,\\u003cbr\\u003e    \\\"epochs\\\": 538\\u003cbr\\u003e  }\\u003cbr\\u003e}\",\"{\\u003cbr\\u003e  \\\"number\\\": 29,\\u003cbr\\u003e  \\\"values\\\": [\\u003cbr\\u003e    0.8888605237007141,\\u003cbr\\u003e    0.06258339434862137\\u003cbr\\u003e  ],\\u003cbr\\u003e  \\\"params\\\": {\\u003cbr\\u003e    \\\"chain_function_mean\\\": 6.355964974438073,\\u003cbr\\u003e    \\\"chain_function_std\\\": 4.000389449139531,\\u003cbr\\u003e    \\\"chain_function_constant\\\": 0.22958451064454943,\\u003cbr\\u003e    \\\"optimizer\\\": \\\"Adam\\\",\\u003cbr\\u003e    \\\"learning_rate\\\": 0.06287733413015997,\\u003cbr\\u003e    \\\"forecast_distribution\\\": \\\"distr_gev\\\",\\u003cbr\\u003e    \\\"perform_batching\\\": false,\\u003cbr\\u003e    \\\"epochs\\\": 421\\u003cbr\\u003e  }\\u003cbr\\u003e}\",\"{\\u003cbr\\u003e  \\\"number\\\": 30,\\u003cbr\\u003e  \\\"values\\\": [\\u003cbr\\u003e    0.8912376761436462,\\u003cbr\\u003e    0.06258247792720795\\u003cbr\\u003e  ],\\u003cbr\\u003e  \\\"params\\\": {\\u003cbr\\u003e    \\\"chain_function_mean\\\": 9.116358711167239,\\u003cbr\\u003e    \\\"chain_function_std\\\": 4.950495229548892,\\u003cbr\\u003e    \\\"chain_function_constant\\\": 0.444813370266058,\\u003cbr\\u003e    \\\"optimizer\\\": \\\"Adam\\\",\\u003cbr\\u003e    \\\"learning_rate\\\": 0.05109304434994045,\\u003cbr\\u003e    \\\"forecast_distribution\\\": \\\"distr_log_normal\\\",\\u003cbr\\u003e    \\\"perform_batching\\\": false,\\u003cbr\\u003e    \\\"epochs\\\": 329\\u003cbr\\u003e  }\\u003cbr\\u003e}\",\"{\\u003cbr\\u003e  \\\"number\\\": 31,\\u003cbr\\u003e  \\\"values\\\": [\\u003cbr\\u003e    0.8920921683311462,\\u003cbr\\u003e    0.06233343482017517\\u003cbr\\u003e  ],\\u003cbr\\u003e  \\\"params\\\": {\\u003cbr\\u003e    \\\"chain_function_mean\\\": 3.803037607640337,\\u003cbr\\u003e    \\\"chain_function_std\\\": 1.06284578148449,\\u003cbr\\u003e    \\\"chain_function_constant\\\": 0.20205814868639227,\\u003cbr\\u003e    \\\"optimizer\\\": \\\"SGD\\\",\\u003cbr\\u003e    \\\"learning_rate\\\": 0.07143920812872705,\\u003cbr\\u003e    \\\"forecast_distribution\\\": \\\"distr_mixture_linear\\\",\\u003cbr\\u003e    \\\"distribution_1\\\": \\\"distr_log_normal\\\",\\u003cbr\\u003e    \\\"distribution_2\\\": \\\"distr_trunc_normal\\\",\\u003cbr\\u003e    \\\"perform_batching\\\": true,\\u003cbr\\u003e    \\\"batch_size\\\": 363,\\u003cbr\\u003e    \\\"epochs\\\": 179\\u003cbr\\u003e  }\\u003cbr\\u003e}\",\"{\\u003cbr\\u003e  \\\"number\\\": 32,\\u003cbr\\u003e  \\\"values\\\": [\\u003cbr\\u003e    0.8874105215072632,\\u003cbr\\u003e    0.06218014657497406\\u003cbr\\u003e  ],\\u003cbr\\u003e  \\\"params\\\": {\\u003cbr\\u003e    \\\"chain_function_mean\\\": 7.469559181763526,\\u003cbr\\u003e    \\\"chain_function_std\\\": 3.0021951625112213,\\u003cbr\\u003e    \\\"chain_function_constant\\\": 0.3329430430329341,\\u003cbr\\u003e    \\\"optimizer\\\": \\\"Adam\\\",\\u003cbr\\u003e    \\\"learning_rate\\\": 0.03872206728253434,\\u003cbr\\u003e    \\\"forecast_distribution\\\": \\\"distr_trunc_normal\\\",\\u003cbr\\u003e    \\\"perform_batching\\\": false,\\u003cbr\\u003e    \\\"epochs\\\": 551\\u003cbr\\u003e  }\\u003cbr\\u003e}\",\"{\\u003cbr\\u003e  \\\"number\\\": 33,\\u003cbr\\u003e  \\\"values\\\": [\\u003cbr\\u003e    0.8911073207855225,\\u003cbr\\u003e    0.0625515803694725\\u003cbr\\u003e  ],\\u003cbr\\u003e  \\\"params\\\": {\\u003cbr\\u003e    \\\"chain_function_mean\\\": 5.073834177810475,\\u003cbr\\u003e    \\\"chain_function_std\\\": 1.8058168441331224,\\u003cbr\\u003e    \\\"chain_function_constant\\\": 0.08759631758790642,\\u003cbr\\u003e    \\\"optimizer\\\": \\\"SGD\\\",\\u003cbr\\u003e    \\\"learning_rate\\\": 0.060804164429021444,\\u003cbr\\u003e    \\\"forecast_distribution\\\": \\\"distr_gev\\\",\\u003cbr\\u003e    \\\"perform_batching\\\": true,\\u003cbr\\u003e    \\\"batch_size\\\": 995,\\u003cbr\\u003e    \\\"epochs\\\": 455\\u003cbr\\u003e  }\\u003cbr\\u003e}\",\"{\\u003cbr\\u003e  \\\"number\\\": 34,\\u003cbr\\u003e  \\\"values\\\": [\\u003cbr\\u003e    0.9233694672584534,\\u003cbr\\u003e    0.062498413026332855\\u003cbr\\u003e  ],\\u003cbr\\u003e  \\\"params\\\": {\\u003cbr\\u003e    \\\"chain_function_mean\\\": 9.330565513666995,\\u003cbr\\u003e    \\\"chain_function_std\\\": 2.5086403873290863,\\u003cbr\\u003e    \\\"chain_function_constant\\\": 0.46665907094137293,\\u003cbr\\u003e    \\\"optimizer\\\": \\\"Adam\\\",\\u003cbr\\u003e    \\\"learning_rate\\\": 0.012797477792332451,\\u003cbr\\u003e    \\\"forecast_distribution\\\": \\\"distr_trunc_normal\\\",\\u003cbr\\u003e    \\\"perform_batching\\\": false,\\u003cbr\\u003e    \\\"epochs\\\": 360\\u003cbr\\u003e  }\\u003cbr\\u003e}\",\"{\\u003cbr\\u003e  \\\"number\\\": 35,\\u003cbr\\u003e  \\\"values\\\": [\\u003cbr\\u003e    0.911353588104248,\\u003cbr\\u003e    0.06187348812818527\\u003cbr\\u003e  ],\\u003cbr\\u003e  \\\"params\\\": {\\u003cbr\\u003e    \\\"chain_function_mean\\\": 8.069333632309558,\\u003cbr\\u003e    \\\"chain_function_std\\\": 1.9717547132170292,\\u003cbr\\u003e    \\\"chain_function_constant\\\": 0.0004224230777846753,\\u003cbr\\u003e    \\\"optimizer\\\": \\\"SGD\\\",\\u003cbr\\u003e    \\\"learning_rate\\\": 0.07495063443180713,\\u003cbr\\u003e    \\\"forecast_distribution\\\": \\\"distr_gev\\\",\\u003cbr\\u003e    \\\"perform_batching\\\": true,\\u003cbr\\u003e    \\\"batch_size\\\": 278,\\u003cbr\\u003e    \\\"epochs\\\": 541\\u003cbr\\u003e  }\\u003cbr\\u003e}\",\"{\\u003cbr\\u003e  \\\"number\\\": 38,\\u003cbr\\u003e  \\\"values\\\": [\\u003cbr\\u003e    0.8893210291862488,\\u003cbr\\u003e    0.062160126864910126\\u003cbr\\u003e  ],\\u003cbr\\u003e  \\\"params\\\": {\\u003cbr\\u003e    \\\"chain_function_mean\\\": 11.79697989223162,\\u003cbr\\u003e    \\\"chain_function_std\\\": 2.3146566030122773,\\u003cbr\\u003e    \\\"chain_function_constant\\\": 0.07306165254748392,\\u003cbr\\u003e    \\\"optimizer\\\": \\\"SGD\\\",\\u003cbr\\u003e    \\\"learning_rate\\\": 0.06577195756374407,\\u003cbr\\u003e    \\\"forecast_distribution\\\": \\\"distr_gev\\\",\\u003cbr\\u003e    \\\"perform_batching\\\": true,\\u003cbr\\u003e    \\\"batch_size\\\": 18,\\u003cbr\\u003e    \\\"epochs\\\": 499\\u003cbr\\u003e  }\\u003cbr\\u003e}\",\"{\\u003cbr\\u003e  \\\"number\\\": 39,\\u003cbr\\u003e  \\\"values\\\": [\\u003cbr\\u003e    0.8879016041755676,\\u003cbr\\u003e    0.062372222542762756\\u003cbr\\u003e  ],\\u003cbr\\u003e  \\\"params\\\": {\\u003cbr\\u003e    \\\"chain_function_mean\\\": 13.389172835098961,\\u003cbr\\u003e    \\\"chain_function_std\\\": 2.8137875137639496,\\u003cbr\\u003e    \\\"chain_function_constant\\\": 0.7084511544871405,\\u003cbr\\u003e    \\\"optimizer\\\": \\\"SGD\\\",\\u003cbr\\u003e    \\\"learning_rate\\\": 0.08600078508890956,\\u003cbr\\u003e    \\\"forecast_distribution\\\": \\\"distr_trunc_normal\\\",\\u003cbr\\u003e    \\\"perform_batching\\\": true,\\u003cbr\\u003e    \\\"batch_size\\\": 166,\\u003cbr\\u003e    \\\"epochs\\\": 512\\u003cbr\\u003e  }\\u003cbr\\u003e}\",\"{\\u003cbr\\u003e  \\\"number\\\": 40,\\u003cbr\\u003e  \\\"values\\\": [\\u003cbr\\u003e    0.8881772756576538,\\u003cbr\\u003e    0.0622391477227211\\u003cbr\\u003e  ],\\u003cbr\\u003e  \\\"params\\\": {\\u003cbr\\u003e    \\\"chain_function_mean\\\": 10.963329413141395,\\u003cbr\\u003e    \\\"chain_function_std\\\": 3.2442419714533446,\\u003cbr\\u003e    \\\"chain_function_constant\\\": 0.19854714396431072,\\u003cbr\\u003e    \\\"optimizer\\\": \\\"Adam\\\",\\u003cbr\\u003e    \\\"learning_rate\\\": 0.05364082140047984,\\u003cbr\\u003e    \\\"forecast_distribution\\\": \\\"distr_gev\\\",\\u003cbr\\u003e    \\\"perform_batching\\\": false,\\u003cbr\\u003e    \\\"epochs\\\": 397\\u003cbr\\u003e  }\\u003cbr\\u003e}\",\"{\\u003cbr\\u003e  \\\"number\\\": 41,\\u003cbr\\u003e  \\\"values\\\": [\\u003cbr\\u003e    0.8884633183479309,\\u003cbr\\u003e    0.06264831870794296\\u003cbr\\u003e  ],\\u003cbr\\u003e  \\\"params\\\": {\\u003cbr\\u003e    \\\"chain_function_mean\\\": 8.404516135687556,\\u003cbr\\u003e    \\\"chain_function_std\\\": 2.3828048791092002,\\u003cbr\\u003e    \\\"chain_function_constant\\\": 0.6000571881325195,\\u003cbr\\u003e    \\\"optimizer\\\": \\\"SGD\\\",\\u003cbr\\u003e    \\\"learning_rate\\\": 0.07030465383733743,\\u003cbr\\u003e    \\\"forecast_distribution\\\": \\\"distr_mixture\\\",\\u003cbr\\u003e    \\\"distribution_1\\\": \\\"distr_gev\\\",\\u003cbr\\u003e    \\\"distribution_2\\\": \\\"distr_gev\\\",\\u003cbr\\u003e    \\\"perform_batching\\\": true,\\u003cbr\\u003e    \\\"batch_size\\\": 500,\\u003cbr\\u003e    \\\"epochs\\\": 266\\u003cbr\\u003e  }\\u003cbr\\u003e}\",\"{\\u003cbr\\u003e  \\\"number\\\": 42,\\u003cbr\\u003e  \\\"values\\\": [\\u003cbr\\u003e    1.0195064544677734,\\u003cbr\\u003e    0.06777004897594452\\u003cbr\\u003e  ],\\u003cbr\\u003e  \\\"params\\\": {\\u003cbr\\u003e    \\\"chain_function_mean\\\": 6.171180393719304,\\u003cbr\\u003e    \\\"chain_function_std\\\": 1.3197901710068667,\\u003cbr\\u003e    \\\"chain_function_constant\\\": 0.05366629634420067,\\u003cbr\\u003e    \\\"optimizer\\\": \\\"Adam\\\",\\u003cbr\\u003e    \\\"learning_rate\\\": 0.04679011723962645,\\u003cbr\\u003e    \\\"forecast_distribution\\\": \\\"distr_log_normal\\\",\\u003cbr\\u003e    \\\"perform_batching\\\": false,\\u003cbr\\u003e    \\\"epochs\\\": 82\\u003cbr\\u003e  }\\u003cbr\\u003e}\",\"{\\u003cbr\\u003e  \\\"number\\\": 43,\\u003cbr\\u003e  \\\"values\\\": [\\u003cbr\\u003e    0.8894411325454712,\\u003cbr\\u003e    0.06213126331567764\\u003cbr\\u003e  ],\\u003cbr\\u003e  \\\"params\\\": {\\u003cbr\\u003e    \\\"chain_function_mean\\\": 10.101803440404497,\\u003cbr\\u003e    \\\"chain_function_std\\\": 1.6252297957103163,\\u003cbr\\u003e    \\\"chain_function_constant\\\": 0.3075586962291912,\\u003cbr\\u003e    \\\"optimizer\\\": \\\"Adam\\\",\\u003cbr\\u003e    \\\"learning_rate\\\": 0.08064369651826991,\\u003cbr\\u003e    \\\"forecast_distribution\\\": \\\"distr_mixture_linear\\\",\\u003cbr\\u003e    \\\"distribution_1\\\": \\\"distr_log_normal\\\",\\u003cbr\\u003e    \\\"distribution_2\\\": \\\"distr_trunc_normal\\\",\\u003cbr\\u003e    \\\"perform_batching\\\": false,\\u003cbr\\u003e    \\\"epochs\\\": 470\\u003cbr\\u003e  }\\u003cbr\\u003e}\",\"{\\u003cbr\\u003e  \\\"number\\\": 44,\\u003cbr\\u003e  \\\"values\\\": [\\u003cbr\\u003e    0.9188860058784485,\\u003cbr\\u003e    0.06461924314498901\\u003cbr\\u003e  ],\\u003cbr\\u003e  \\\"params\\\": {\\u003cbr\\u003e    \\\"chain_function_mean\\\": 10.025407643233466,\\u003cbr\\u003e    \\\"chain_function_std\\\": 0.7564127852205191,\\u003cbr\\u003e    \\\"chain_function_constant\\\": 0.2489154410746588,\\u003cbr\\u003e    \\\"optimizer\\\": \\\"SGD\\\",\\u003cbr\\u003e    \\\"learning_rate\\\": 0.056134411443843096,\\u003cbr\\u003e    \\\"forecast_distribution\\\": \\\"distr_trunc_normal\\\",\\u003cbr\\u003e    \\\"perform_batching\\\": true,\\u003cbr\\u003e    \\\"batch_size\\\": 140,\\u003cbr\\u003e    \\\"epochs\\\": 6\\u003cbr\\u003e  }\\u003cbr\\u003e}\",\"{\\u003cbr\\u003e  \\\"number\\\": 45,\\u003cbr\\u003e  \\\"values\\\": [\\u003cbr\\u003e    0.8888887166976929,\\u003cbr\\u003e    0.06247524172067642\\u003cbr\\u003e  ],\\u003cbr\\u003e  \\\"params\\\": {\\u003cbr\\u003e    \\\"chain_function_mean\\\": 13.790043802864123,\\u003cbr\\u003e    \\\"chain_function_std\\\": 3.872245688317732,\\u003cbr\\u003e    \\\"chain_function_constant\\\": 0.5767163882789368,\\u003cbr\\u003e    \\\"optimizer\\\": \\\"Adam\\\",\\u003cbr\\u003e    \\\"learning_rate\\\": 0.06777111652773364,\\u003cbr\\u003e    \\\"forecast_distribution\\\": \\\"distr_gev\\\",\\u003cbr\\u003e    \\\"perform_batching\\\": false,\\u003cbr\\u003e    \\\"epochs\\\": 563\\u003cbr\\u003e  }\\u003cbr\\u003e}\",\"{\\u003cbr\\u003e  \\\"number\\\": 46,\\u003cbr\\u003e  \\\"values\\\": [\\u003cbr\\u003e    0.8878798484802246,\\u003cbr\\u003e    0.06230784207582474\\u003cbr\\u003e  ],\\u003cbr\\u003e  \\\"params\\\": {\\u003cbr\\u003e    \\\"chain_function_mean\\\": 11.659815264890138,\\u003cbr\\u003e    \\\"chain_function_std\\\": 2.828697792392004,\\u003cbr\\u003e    \\\"chain_function_constant\\\": 0.15847620945987698,\\u003cbr\\u003e    \\\"optimizer\\\": \\\"SGD\\\",\\u003cbr\\u003e    \\\"learning_rate\\\": 0.059685392062086236,\\u003cbr\\u003e    \\\"forecast_distribution\\\": \\\"distr_trunc_normal\\\",\\u003cbr\\u003e    \\\"perform_batching\\\": true,\\u003cbr\\u003e    \\\"batch_size\\\": 468,\\u003cbr\\u003e    \\\"epochs\\\": 428\\u003cbr\\u003e  }\\u003cbr\\u003e}\",\"{\\u003cbr\\u003e  \\\"number\\\": 47,\\u003cbr\\u003e  \\\"values\\\": [\\u003cbr\\u003e    0.9004535675048828,\\u003cbr\\u003e    0.06193888932466507\\u003cbr\\u003e  ],\\u003cbr\\u003e  \\\"params\\\": {\\u003cbr\\u003e    \\\"chain_function_mean\\\": 12.95588900851378,\\u003cbr\\u003e    \\\"chain_function_std\\\": 2.004392882183746,\\u003cbr\\u003e    \\\"chain_function_constant\\\": 0.028755898079493646,\\u003cbr\\u003e    \\\"optimizer\\\": \\\"Adam\\\",\\u003cbr\\u003e    \\\"learning_rate\\\": 0.040626666092945345,\\u003cbr\\u003e    \\\"forecast_distribution\\\": \\\"distr_trunc_normal\\\",\\u003cbr\\u003e    \\\"perform_batching\\\": false,\\u003cbr\\u003e    \\\"epochs\\\": 156\\u003cbr\\u003e  }\\u003cbr\\u003e}\",\"{\\u003cbr\\u003e  \\\"number\\\": 48,\\u003cbr\\u003e  \\\"values\\\": [\\u003cbr\\u003e    0.8876460790634155,\\u003cbr\\u003e    0.062323637306690216\\u003cbr\\u003e  ],\\u003cbr\\u003e  \\\"params\\\": {\\u003cbr\\u003e    \\\"chain_function_mean\\\": 7.392555963152075,\\u003cbr\\u003e    \\\"chain_function_std\\\": 2.3575121497594793,\\u003cbr\\u003e    \\\"chain_function_constant\\\": 0.4285565679841557,\\u003cbr\\u003e    \\\"optimizer\\\": \\\"Adam\\\",\\u003cbr\\u003e    \\\"learning_rate\\\": 0.07452847178875044,\\u003cbr\\u003e    \\\"forecast_distribution\\\": \\\"distr_trunc_normal\\\",\\u003cbr\\u003e    \\\"perform_batching\\\": false,\\u003cbr\\u003e    \\\"epochs\\\": 511\\u003cbr\\u003e  }\\u003cbr\\u003e}\",\"{\\u003cbr\\u003e  \\\"number\\\": 49,\\u003cbr\\u003e  \\\"values\\\": [\\u003cbr\\u003e    0.8946037888526917,\\u003cbr\\u003e    0.06296848505735397\\u003cbr\\u003e  ],\\u003cbr\\u003e  \\\"params\\\": {\\u003cbr\\u003e    \\\"chain_function_mean\\\": 8.650564427906655,\\u003cbr\\u003e    \\\"chain_function_std\\\": 3.3499712944213385,\\u003cbr\\u003e    \\\"chain_function_constant\\\": 0.9417281455696096,\\u003cbr\\u003e    \\\"optimizer\\\": \\\"Adam\\\",\\u003cbr\\u003e    \\\"learning_rate\\\": 0.032749662710321474,\\u003cbr\\u003e    \\\"forecast_distribution\\\": \\\"distr_trunc_normal\\\",\\u003cbr\\u003e    \\\"perform_batching\\\": false,\\u003cbr\\u003e    \\\"epochs\\\": 197\\u003cbr\\u003e  }\\u003cbr\\u003e}\",\"{\\u003cbr\\u003e  \\\"number\\\": 50,\\u003cbr\\u003e  \\\"values\\\": [\\u003cbr\\u003e    0.8879709243774414,\\u003cbr\\u003e    0.06296524405479431\\u003cbr\\u003e  ],\\u003cbr\\u003e  \\\"params\\\": {\\u003cbr\\u003e    \\\"chain_function_mean\\\": 9.819001785856788,\\u003cbr\\u003e    \\\"chain_function_std\\\": 1.6396502913623425,\\u003cbr\\u003e    \\\"chain_function_constant\\\": 0.7067158367001984,\\u003cbr\\u003e    \\\"optimizer\\\": \\\"Adam\\\",\\u003cbr\\u003e    \\\"learning_rate\\\": 0.04756864713086692,\\u003cbr\\u003e    \\\"forecast_distribution\\\": \\\"distr_mixture_linear\\\",\\u003cbr\\u003e    \\\"distribution_1\\\": \\\"distr_gev\\\",\\u003cbr\\u003e    \\\"distribution_2\\\": \\\"distr_gev\\\",\\u003cbr\\u003e    \\\"perform_batching\\\": false,\\u003cbr\\u003e    \\\"epochs\\\": 441\\u003cbr\\u003e  }\\u003cbr\\u003e}\",\"{\\u003cbr\\u003e  \\\"number\\\": 51,\\u003cbr\\u003e  \\\"values\\\": [\\u003cbr\\u003e    0.8887636065483093,\\u003cbr\\u003e    0.06290054321289062\\u003cbr\\u003e  ],\\u003cbr\\u003e  \\\"params\\\": {\\u003cbr\\u003e    \\\"chain_function_mean\\\": 11.084504744439013,\\u003cbr\\u003e    \\\"chain_function_std\\\": 3.0200351458364443,\\u003cbr\\u003e    \\\"chain_function_constant\\\": 0.8622299755415792,\\u003cbr\\u003e    \\\"optimizer\\\": \\\"Adam\\\",\\u003cbr\\u003e    \\\"learning_rate\\\": 0.035695238532782975,\\u003cbr\\u003e    \\\"forecast_distribution\\\": \\\"distr_mixture\\\",\\u003cbr\\u003e    \\\"distribution_1\\\": \\\"distr_gev\\\",\\u003cbr\\u003e    \\\"distribution_2\\\": \\\"distr_gev\\\",\\u003cbr\\u003e    \\\"perform_batching\\\": false,\\u003cbr\\u003e    \\\"epochs\\\": 271\\u003cbr\\u003e  }\\u003cbr\\u003e}\",\"{\\u003cbr\\u003e  \\\"number\\\": 52,\\u003cbr\\u003e  \\\"values\\\": [\\u003cbr\\u003e    0.8911202549934387,\\u003cbr\\u003e    0.06267756968736649\\u003cbr\\u003e  ],\\u003cbr\\u003e  \\\"params\\\": {\\u003cbr\\u003e    \\\"chain_function_mean\\\": 5.213594482886865,\\u003cbr\\u003e    \\\"chain_function_std\\\": 3.760145672398156,\\u003cbr\\u003e    \\\"chain_function_constant\\\": 0.46863061963540414,\\u003cbr\\u003e    \\\"optimizer\\\": \\\"Adam\\\",\\u003cbr\\u003e    \\\"learning_rate\\\": 0.020544440088885355,\\u003cbr\\u003e    \\\"forecast_distribution\\\": \\\"distr_log_normal\\\",\\u003cbr\\u003e    \\\"perform_batching\\\": false,\\u003cbr\\u003e    \\\"epochs\\\": 340\\u003cbr\\u003e  }\\u003cbr\\u003e}\",\"{\\u003cbr\\u003e  \\\"number\\\": 53,\\u003cbr\\u003e  \\\"values\\\": [\\u003cbr\\u003e    1.2717740535736084,\\u003cbr\\u003e    0.06876403093338013\\u003cbr\\u003e  ],\\u003cbr\\u003e  \\\"params\\\": {\\u003cbr\\u003e    \\\"chain_function_mean\\\": 12.58034361049016,\\u003cbr\\u003e    \\\"chain_function_std\\\": 4.274367475659592,\\u003cbr\\u003e    \\\"chain_function_constant\\\": 0.016215941533561096,\\u003cbr\\u003e    \\\"optimizer\\\": \\\"SGD\\\",\\u003cbr\\u003e    \\\"learning_rate\\\": 0.06453128525135339,\\u003cbr\\u003e    \\\"forecast_distribution\\\": \\\"distr_trunc_normal\\\",\\u003cbr\\u003e    \\\"perform_batching\\\": true,\\u003cbr\\u003e    \\\"batch_size\\\": 999,\\u003cbr\\u003e    \\\"epochs\\\": 116\\u003cbr\\u003e  }\\u003cbr\\u003e}\",\"{\\u003cbr\\u003e  \\\"number\\\": 54,\\u003cbr\\u003e  \\\"values\\\": [\\u003cbr\\u003e    0.8874606490135193,\\u003cbr\\u003e    0.06234538555145264\\u003cbr\\u003e  ],\\u003cbr\\u003e  \\\"params\\\": {\\u003cbr\\u003e    \\\"chain_function_mean\\\": 7.0355658109674595,\\u003cbr\\u003e    \\\"chain_function_std\\\": 2.562686159330249,\\u003cbr\\u003e    \\\"chain_function_constant\\\": 0.3761661405331642,\\u003cbr\\u003e    \\\"optimizer\\\": \\\"Adam\\\",\\u003cbr\\u003e    \\\"learning_rate\\\": 0.08452863958254006,\\u003cbr\\u003e    \\\"forecast_distribution\\\": \\\"distr_trunc_normal\\\",\\u003cbr\\u003e    \\\"perform_batching\\\": false,\\u003cbr\\u003e    \\\"epochs\\\": 386\\u003cbr\\u003e  }\\u003cbr\\u003e}\",\"{\\u003cbr\\u003e  \\\"number\\\": 55,\\u003cbr\\u003e  \\\"values\\\": [\\u003cbr\\u003e    0.8891041874885559,\\u003cbr\\u003e    0.062292151153087616\\u003cbr\\u003e  ],\\u003cbr\\u003e  \\\"params\\\": {\\u003cbr\\u003e    \\\"chain_function_mean\\\": 7.851761174969187,\\u003cbr\\u003e    \\\"chain_function_std\\\": 2.1590424043158754,\\u003cbr\\u003e    \\\"chain_function_constant\\\": 0.2020756784203515,\\u003cbr\\u003e    \\\"optimizer\\\": \\\"Adam\\\",\\u003cbr\\u003e    \\\"learning_rate\\\": 0.0701366093719151,\\u003cbr\\u003e    \\\"forecast_distribution\\\": \\\"distr_gev\\\",\\u003cbr\\u003e    \\\"perform_batching\\\": false,\\u003cbr\\u003e    \\\"epochs\\\": 282\\u003cbr\\u003e  }\\u003cbr\\u003e}\",\"{\\u003cbr\\u003e  \\\"number\\\": 57,\\u003cbr\\u003e  \\\"values\\\": [\\u003cbr\\u003e    0.889360785484314,\\u003cbr\\u003e    0.06195603311061859\\u003cbr\\u003e  ],\\u003cbr\\u003e  \\\"params\\\": {\\u003cbr\\u003e    \\\"chain_function_mean\\\": 8.696719094158865,\\u003cbr\\u003e    \\\"chain_function_std\\\": 0.1909734470445288,\\u003cbr\\u003e    \\\"chain_function_constant\\\": 0.10534172917620334,\\u003cbr\\u003e    \\\"optimizer\\\": \\\"SGD\\\",\\u003cbr\\u003e    \\\"learning_rate\\\": 0.0381339920904033,\\u003cbr\\u003e    \\\"forecast_distribution\\\": \\\"distr_gev\\\",\\u003cbr\\u003e    \\\"perform_batching\\\": true,\\u003cbr\\u003e    \\\"batch_size\\\": 123,\\u003cbr\\u003e    \\\"epochs\\\": 564\\u003cbr\\u003e  }\\u003cbr\\u003e}\",\"{\\u003cbr\\u003e  \\\"number\\\": 59,\\u003cbr\\u003e  \\\"values\\\": [\\u003cbr\\u003e    0.8903694152832031,\\u003cbr\\u003e    0.0621834471821785\\u003cbr\\u003e  ],\\u003cbr\\u003e  \\\"params\\\": {\\u003cbr\\u003e    \\\"chain_function_mean\\\": 8.638212729063163,\\u003cbr\\u003e    \\\"chain_function_std\\\": 0.31863657199721507,\\u003cbr\\u003e    \\\"chain_function_constant\\\": 0.08920838718590324,\\u003cbr\\u003e    \\\"optimizer\\\": \\\"SGD\\\",\\u003cbr\\u003e    \\\"learning_rate\\\": 0.009400777839885084,\\u003cbr\\u003e    \\\"forecast_distribution\\\": \\\"distr_gev\\\",\\u003cbr\\u003e    \\\"perform_batching\\\": true,\\u003cbr\\u003e    \\\"batch_size\\\": 93,\\u003cbr\\u003e    \\\"epochs\\\": 568\\u003cbr\\u003e  }\\u003cbr\\u003e}\",\"{\\u003cbr\\u003e  \\\"number\\\": 60,\\u003cbr\\u003e  \\\"values\\\": [\\u003cbr\\u003e    0.8956279158592224,\\u003cbr\\u003e    0.06200002133846283\\u003cbr\\u003e  ],\\u003cbr\\u003e  \\\"params\\\": {\\u003cbr\\u003e    \\\"chain_function_mean\\\": 9.444575949453892,\\u003cbr\\u003e    \\\"chain_function_std\\\": 0.5840474187618272,\\u003cbr\\u003e    \\\"chain_function_constant\\\": 0.05385218491015434,\\u003cbr\\u003e    \\\"optimizer\\\": \\\"SGD\\\",\\u003cbr\\u003e    \\\"learning_rate\\\": 0.04359080944516745,\\u003cbr\\u003e    \\\"forecast_distribution\\\": \\\"distr_gev\\\",\\u003cbr\\u003e    \\\"perform_batching\\\": true,\\u003cbr\\u003e    \\\"batch_size\\\": 228,\\u003cbr\\u003e    \\\"epochs\\\": 487\\u003cbr\\u003e  }\\u003cbr\\u003e}\",\"{\\u003cbr\\u003e  \\\"number\\\": 61,\\u003cbr\\u003e  \\\"values\\\": [\\u003cbr\\u003e    0.8879058957099915,\\u003cbr\\u003e    0.062101975083351135\\u003cbr\\u003e  ],\\u003cbr\\u003e  \\\"params\\\": {\\u003cbr\\u003e    \\\"chain_function_mean\\\": 10.490408699627014,\\u003cbr\\u003e    \\\"chain_function_std\\\": 0.1475001232495856,\\u003cbr\\u003e    \\\"chain_function_constant\\\": 0.1420748278853563,\\u003cbr\\u003e    \\\"optimizer\\\": \\\"SGD\\\",\\u003cbr\\u003e    \\\"learning_rate\\\": 0.023593261045357247,\\u003cbr\\u003e    \\\"forecast_distribution\\\": \\\"distr_gev\\\",\\u003cbr\\u003e    \\\"perform_batching\\\": true,\\u003cbr\\u003e    \\\"batch_size\\\": 114,\\u003cbr\\u003e    \\\"epochs\\\": 521\\u003cbr\\u003e  }\\u003cbr\\u003e}\",\"{\\u003cbr\\u003e  \\\"number\\\": 62,\\u003cbr\\u003e  \\\"values\\\": [\\u003cbr\\u003e    0.8975528478622437,\\u003cbr\\u003e    0.062236487865448\\u003cbr\\u003e  ],\\u003cbr\\u003e  \\\"params\\\": {\\u003cbr\\u003e    \\\"chain_function_mean\\\": 6.250679773241582,\\u003cbr\\u003e    \\\"chain_function_std\\\": 1.1094554439600888,\\u003cbr\\u003e    \\\"chain_function_constant\\\": 0.048081564867478464,\\u003cbr\\u003e    \\\"optimizer\\\": \\\"SGD\\\",\\u003cbr\\u003e    \\\"learning_rate\\\": 0.09999792672016974,\\u003cbr\\u003e    \\\"forecast_distribution\\\": \\\"distr_gev\\\",\\u003cbr\\u003e    \\\"perform_batching\\\": true,\\u003cbr\\u003e    \\\"batch_size\\\": 296,\\u003cbr\\u003e    \\\"epochs\\\": 573\\u003cbr\\u003e  }\\u003cbr\\u003e}\",\"{\\u003cbr\\u003e  \\\"number\\\": 64,\\u003cbr\\u003e  \\\"values\\\": [\\u003cbr\\u003e    0.8892119526863098,\\u003cbr\\u003e    0.06229622662067413\\u003cbr\\u003e  ],\\u003cbr\\u003e  \\\"params\\\": {\\u003cbr\\u003e    \\\"chain_function_mean\\\": 8.931317084839545,\\u003cbr\\u003e    \\\"chain_function_std\\\": 0.053866101848708214,\\u003cbr\\u003e    \\\"chain_function_constant\\\": 0.11848924034848482,\\u003cbr\\u003e    \\\"optimizer\\\": \\\"SGD\\\",\\u003cbr\\u003e    \\\"learning_rate\\\": 0.05820535077005596,\\u003cbr\\u003e    \\\"forecast_distribution\\\": \\\"distr_gev\\\",\\u003cbr\\u003e    \\\"perform_batching\\\": true,\\u003cbr\\u003e    \\\"batch_size\\\": 82,\\u003cbr\\u003e    \\\"epochs\\\": 482\\u003cbr\\u003e  }\\u003cbr\\u003e}\",\"{\\u003cbr\\u003e  \\\"number\\\": 65,\\u003cbr\\u003e  \\\"values\\\": [\\u003cbr\\u003e    0.8916662931442261,\\u003cbr\\u003e    0.06328253448009491\\u003cbr\\u003e  ],\\u003cbr\\u003e  \\\"params\\\": {\\u003cbr\\u003e    \\\"chain_function_mean\\\": 6.732052485494709,\\u003cbr\\u003e    \\\"chain_function_std\\\": 4.6043168805656425,\\u003cbr\\u003e    \\\"chain_function_constant\\\": 0.1690640506503019,\\u003cbr\\u003e    \\\"optimizer\\\": \\\"SGD\\\",\\u003cbr\\u003e    \\\"learning_rate\\\": 0.05090860397286002,\\u003cbr\\u003e    \\\"forecast_distribution\\\": \\\"distr_gev\\\",\\u003cbr\\u003e    \\\"perform_batching\\\": true,\\u003cbr\\u003e    \\\"batch_size\\\": 171,\\u003cbr\\u003e    \\\"epochs\\\": 557\\u003cbr\\u003e  }\\u003cbr\\u003e}\",\"{\\u003cbr\\u003e  \\\"number\\\": 66,\\u003cbr\\u003e  \\\"values\\\": [\\u003cbr\\u003e    0.8901100158691406,\\u003cbr\\u003e    0.06331577897071838\\u003cbr\\u003e  ],\\u003cbr\\u003e  \\\"params\\\": {\\u003cbr\\u003e    \\\"chain_function_mean\\\": 0.41191083202872214,\\u003cbr\\u003e    \\\"chain_function_std\\\": 0.609425816628389,\\u003cbr\\u003e    \\\"chain_function_constant\\\": 0.09385137798688427,\\u003cbr\\u003e    \\\"optimizer\\\": \\\"SGD\\\",\\u003cbr\\u003e    \\\"learning_rate\\\": 0.03671506765191936,\\u003cbr\\u003e    \\\"forecast_distribution\\\": \\\"distr_gev\\\",\\u003cbr\\u003e    \\\"perform_batching\\\": true,\\u003cbr\\u003e    \\\"batch_size\\\": 394,\\u003cbr\\u003e    \\\"epochs\\\": 527\\u003cbr\\u003e  }\\u003cbr\\u003e}\",\"{\\u003cbr\\u003e  \\\"number\\\": 68,\\u003cbr\\u003e  \\\"values\\\": [\\u003cbr\\u003e    1.7750576734542847,\\u003cbr\\u003e    0.09185591340065002\\u003cbr\\u003e  ],\\u003cbr\\u003e  \\\"params\\\": {\\u003cbr\\u003e    \\\"chain_function_mean\\\": 11.446142390448715,\\u003cbr\\u003e    \\\"chain_function_std\\\": 1.2128332021335428,\\u003cbr\\u003e    \\\"chain_function_constant\\\": 0.0409047438584636,\\u003cbr\\u003e    \\\"optimizer\\\": \\\"SGD\\\",\\u003cbr\\u003e    \\\"learning_rate\\\": 0.00023790225833981993,\\u003cbr\\u003e    \\\"forecast_distribution\\\": \\\"distr_gev\\\",\\u003cbr\\u003e    \\\"perform_batching\\\": true,\\u003cbr\\u003e    \\\"batch_size\\\": 55,\\u003cbr\\u003e    \\\"epochs\\\": 600\\u003cbr\\u003e  }\\u003cbr\\u003e}\",\"{\\u003cbr\\u003e  \\\"number\\\": 69,\\u003cbr\\u003e  \\\"values\\\": [\\u003cbr\\u003e    0.8897167444229126,\\u003cbr\\u003e    0.06228988617658615\\u003cbr\\u003e  ],\\u003cbr\\u003e  \\\"params\\\": {\\u003cbr\\u003e    \\\"chain_function_mean\\\": 10.634870623130785,\\u003cbr\\u003e    \\\"chain_function_std\\\": 0.7909462510861711,\\u003cbr\\u003e    \\\"chain_function_constant\\\": 0.06656192847014941,\\u003cbr\\u003e    \\\"optimizer\\\": \\\"SGD\\\",\\u003cbr\\u003e    \\\"learning_rate\\\": 0.026954152887810095,\\u003cbr\\u003e    \\\"forecast_distribution\\\": \\\"distr_mixture\\\",\\u003cbr\\u003e    \\\"distribution_1\\\": \\\"distr_log_normal\\\",\\u003cbr\\u003e    \\\"distribution_2\\\": \\\"distr_trunc_normal\\\",\\u003cbr\\u003e    \\\"perform_batching\\\": true,\\u003cbr\\u003e    \\\"batch_size\\\": 215,\\u003cbr\\u003e    \\\"epochs\\\": 445\\u003cbr\\u003e  }\\u003cbr\\u003e}\",\"{\\u003cbr\\u003e  \\\"number\\\": 70,\\u003cbr\\u003e  \\\"values\\\": [\\u003cbr\\u003e    0.8939259648323059,\\u003cbr\\u003e    0.062005311250686646\\u003cbr\\u003e  ],\\u003cbr\\u003e  \\\"params\\\": {\\u003cbr\\u003e    \\\"chain_function_mean\\\": 7.612608334738788,\\u003cbr\\u003e    \\\"chain_function_std\\\": 3.0083727983417887,\\u003cbr\\u003e    \\\"chain_function_constant\\\": 0.0121834191022877,\\u003cbr\\u003e    \\\"optimizer\\\": \\\"SGD\\\",\\u003cbr\\u003e    \\\"learning_rate\\\": 0.03949925170249912,\\u003cbr\\u003e    \\\"forecast_distribution\\\": \\\"distr_gev\\\",\\u003cbr\\u003e    \\\"perform_batching\\\": true,\\u003cbr\\u003e    \\\"batch_size\\\": 322,\\u003cbr\\u003e    \\\"epochs\\\": 558\\u003cbr\\u003e  }\\u003cbr\\u003e}\",\"{\\u003cbr\\u003e  \\\"number\\\": 71,\\u003cbr\\u003e  \\\"values\\\": [\\u003cbr\\u003e    0.8922821879386902,\\u003cbr\\u003e    0.062477149069309235\\u003cbr\\u003e  ],\\u003cbr\\u003e  \\\"params\\\": {\\u003cbr\\u003e    \\\"chain_function_mean\\\": 9.417172618626076,\\u003cbr\\u003e    \\\"chain_function_std\\\": 4.95289100987187,\\u003cbr\\u003e    \\\"chain_function_constant\\\": 0.3326939170552484,\\u003cbr\\u003e    \\\"optimizer\\\": \\\"SGD\\\",\\u003cbr\\u003e    \\\"learning_rate\\\": 0.0959832886901151,\\u003cbr\\u003e    \\\"forecast_distribution\\\": \\\"distr_log_normal\\\",\\u003cbr\\u003e    \\\"perform_batching\\\": true,\\u003cbr\\u003e    \\\"batch_size\\\": 164,\\u003cbr\\u003e    \\\"epochs\\\": 541\\u003cbr\\u003e  }\\u003cbr\\u003e}\",\"{\\u003cbr\\u003e  \\\"number\\\": 72,\\u003cbr\\u003e  \\\"values\\\": [\\u003cbr\\u003e    0.8925604224205017,\\u003cbr\\u003e    0.062345296144485474\\u003cbr\\u003e  ],\\u003cbr\\u003e  \\\"params\\\": {\\u003cbr\\u003e    \\\"chain_function_mean\\\": 9.716241091103742,\\u003cbr\\u003e    \\\"chain_function_std\\\": 4.667367321518849,\\u003cbr\\u003e    \\\"chain_function_constant\\\": 0.11667620152547897,\\u003cbr\\u003e    \\\"optimizer\\\": \\\"SGD\\\",\\u003cbr\\u003e    \\\"learning_rate\\\": 0.08891529575201543,\\u003cbr\\u003e    \\\"forecast_distribution\\\": \\\"distr_mixture_linear\\\",\\u003cbr\\u003e    \\\"distribution_1\\\": \\\"distr_gev\\\",\\u003cbr\\u003e    \\\"distribution_2\\\": \\\"distr_gev\\\",\\u003cbr\\u003e    \\\"perform_batching\\\": true,\\u003cbr\\u003e    \\\"batch_size\\\": 69,\\u003cbr\\u003e    \\\"epochs\\\": 546\\u003cbr\\u003e  }\\u003cbr\\u003e}\",\"{\\u003cbr\\u003e  \\\"number\\\": 73,\\u003cbr\\u003e  \\\"values\\\": [\\u003cbr\\u003e    0.8882468342781067,\\u003cbr\\u003e    0.06251125037670135\\u003cbr\\u003e  ],\\u003cbr\\u003e  \\\"params\\\": {\\u003cbr\\u003e    \\\"chain_function_mean\\\": 8.657637992810738,\\u003cbr\\u003e    \\\"chain_function_std\\\": 0.303572667874307,\\u003cbr\\u003e    \\\"chain_function_constant\\\": 0.18398600356904465,\\u003cbr\\u003e    \\\"optimizer\\\": \\\"SGD\\\",\\u003cbr\\u003e    \\\"learning_rate\\\": 0.0175483832000171,\\u003cbr\\u003e    \\\"forecast_distribution\\\": \\\"distr_gev\\\",\\u003cbr\\u003e    \\\"perform_batching\\\": true,\\u003cbr\\u003e    \\\"batch_size\\\": 560,\\u003cbr\\u003e    \\\"epochs\\\": 492\\u003cbr\\u003e  }\\u003cbr\\u003e}\",\"{\\u003cbr\\u003e  \\\"number\\\": 74,\\u003cbr\\u003e  \\\"values\\\": [\\u003cbr\\u003e    0.8979740738868713,\\u003cbr\\u003e    0.06185063719749451\\u003cbr\\u003e  ],\\u003cbr\\u003e  \\\"params\\\": {\\u003cbr\\u003e    \\\"chain_function_mean\\\": 7.646011396002068,\\u003cbr\\u003e    \\\"chain_function_std\\\": 0.6386707004734411,\\u003cbr\\u003e    \\\"chain_function_constant\\\": 0.044777787002388054,\\u003cbr\\u003e    \\\"optimizer\\\": \\\"SGD\\\",\\u003cbr\\u003e    \\\"learning_rate\\\": 0.08118244029115679,\\u003cbr\\u003e    \\\"forecast_distribution\\\": \\\"distr_gev\\\",\\u003cbr\\u003e    \\\"perform_batching\\\": true,\\u003cbr\\u003e    \\\"batch_size\\\": 794,\\u003cbr\\u003e    \\\"epochs\\\": 473\\u003cbr\\u003e  }\\u003cbr\\u003e}\",\"{\\u003cbr\\u003e  \\\"number\\\": 75,\\u003cbr\\u003e  \\\"values\\\": [\\u003cbr\\u003e    0.8902387022972107,\\u003cbr\\u003e    0.06259102374315262\\u003cbr\\u003e  ],\\u003cbr\\u003e  \\\"params\\\": {\\u003cbr\\u003e    \\\"chain_function_mean\\\": 5.719277291774801,\\u003cbr\\u003e    \\\"chain_function_std\\\": 0.9257086570987942,\\u003cbr\\u003e    \\\"chain_function_constant\\\": 0.22706858913140526,\\u003cbr\\u003e    \\\"optimizer\\\": \\\"SGD\\\",\\u003cbr\\u003e    \\\"learning_rate\\\": 0.03703750944249976,\\u003cbr\\u003e    \\\"forecast_distribution\\\": \\\"distr_gev\\\",\\u003cbr\\u003e    \\\"perform_batching\\\": true,\\u003cbr\\u003e    \\\"batch_size\\\": 216,\\u003cbr\\u003e    \\\"epochs\\\": 502\\u003cbr\\u003e  }\\u003cbr\\u003e}\",\"{\\u003cbr\\u003e  \\\"number\\\": 76,\\u003cbr\\u003e  \\\"values\\\": [\\u003cbr\\u003e    0.9078944325447083,\\u003cbr\\u003e    0.06205678731203079\\u003cbr\\u003e  ],\\u003cbr\\u003e  \\\"params\\\": {\\u003cbr\\u003e    \\\"chain_function_mean\\\": 6.72149552161126,\\u003cbr\\u003e    \\\"chain_function_std\\\": 0.4870350754401333,\\u003cbr\\u003e    \\\"chain_function_constant\\\": 0.0006905154826801307,\\u003cbr\\u003e    \\\"optimizer\\\": \\\"SGD\\\",\\u003cbr\\u003e    \\\"learning_rate\\\": 0.0521084960588531,\\u003cbr\\u003e    \\\"forecast_distribution\\\": \\\"distr_mixture\\\",\\u003cbr\\u003e    \\\"distribution_1\\\": \\\"distr_log_normal\\\",\\u003cbr\\u003e    \\\"distribution_2\\\": \\\"distr_trunc_normal\\\",\\u003cbr\\u003e    \\\"perform_batching\\\": true,\\u003cbr\\u003e    \\\"batch_size\\\": 425,\\u003cbr\\u003e    \\\"epochs\\\": 579\\u003cbr\\u003e  }\\u003cbr\\u003e}\",\"{\\u003cbr\\u003e  \\\"number\\\": 77,\\u003cbr\\u003e  \\\"values\\\": [\\u003cbr\\u003e    0.89058518409729,\\u003cbr\\u003e    0.0620221272110939\\u003cbr\\u003e  ],\\u003cbr\\u003e  \\\"params\\\": {\\u003cbr\\u003e    \\\"chain_function_mean\\\": 10.498607569812757,\\u003cbr\\u003e    \\\"chain_function_std\\\": 0.015782783100063775,\\u003cbr\\u003e    \\\"chain_function_constant\\\": 0.08156652402398737,\\u003cbr\\u003e    \\\"optimizer\\\": \\\"SGD\\\",\\u003cbr\\u003e    \\\"learning_rate\\\": 0.06392482642450442,\\u003cbr\\u003e    \\\"forecast_distribution\\\": \\\"distr_log_normal\\\",\\u003cbr\\u003e    \\\"perform_batching\\\": true,\\u003cbr\\u003e    \\\"batch_size\\\": 129,\\u003cbr\\u003e    \\\"epochs\\\": 517\\u003cbr\\u003e  }\\u003cbr\\u003e}\",\"{\\u003cbr\\u003e  \\\"number\\\": 78,\\u003cbr\\u003e  \\\"values\\\": [\\u003cbr\\u003e    0.8916311860084534,\\u003cbr\\u003e    0.062087155878543854\\u003cbr\\u003e  ],\\u003cbr\\u003e  \\\"params\\\": {\\u003cbr\\u003e    \\\"chain_function_mean\\\": 12.184564886216487,\\u003cbr\\u003e    \\\"chain_function_std\\\": 4.372026116689426,\\u003cbr\\u003e    \\\"chain_function_constant\\\": 0.11508970961941532,\\u003cbr\\u003e    \\\"optimizer\\\": \\\"SGD\\\",\\u003cbr\\u003e    \\\"learning_rate\\\": 0.04827774647885913,\\u003cbr\\u003e    \\\"forecast_distribution\\\": \\\"distr_mixture_linear\\\",\\u003cbr\\u003e    \\\"distribution_1\\\": \\\"distr_log_normal\\\",\\u003cbr\\u003e    \\\"distribution_2\\\": \\\"distr_log_normal\\\",\\u003cbr\\u003e    \\\"perform_batching\\\": true,\\u003cbr\\u003e    \\\"batch_size\\\": 49,\\u003cbr\\u003e    \\\"epochs\\\": 457\\u003cbr\\u003e  }\\u003cbr\\u003e}\",\"{\\u003cbr\\u003e  \\\"number\\\": 79,\\u003cbr\\u003e  \\\"values\\\": [\\u003cbr\\u003e    1.5619944334030151,\\u003cbr\\u003e    0.1087225079536438\\u003cbr\\u003e  ],\\u003cbr\\u003e  \\\"params\\\": {\\u003cbr\\u003e    \\\"chain_function_mean\\\": 4.145875435888428,\\u003cbr\\u003e    \\\"chain_function_std\\\": 0.19607699710854787,\\u003cbr\\u003e    \\\"chain_function_constant\\\": 0.039761799602807006,\\u003cbr\\u003e    \\\"optimizer\\\": \\\"SGD\\\",\\u003cbr\\u003e    \\\"learning_rate\\\": 0.03343159602794938,\\u003cbr\\u003e    \\\"forecast_distribution\\\": \\\"distr_gev\\\",\\u003cbr\\u003e    \\\"perform_batching\\\": true,\\u003cbr\\u003e    \\\"batch_size\\\": 270,\\u003cbr\\u003e    \\\"epochs\\\": 5\\u003cbr\\u003e  }\\u003cbr\\u003e}\",\"{\\u003cbr\\u003e  \\\"number\\\": 82,\\u003cbr\\u003e  \\\"values\\\": [\\u003cbr\\u003e    0.8971110582351685,\\u003cbr\\u003e    0.061811283230781555\\u003cbr\\u003e  ],\\u003cbr\\u003e  \\\"params\\\": {\\u003cbr\\u003e    \\\"chain_function_mean\\\": 8.882731252216018,\\u003cbr\\u003e    \\\"chain_function_std\\\": 1.8328213716111983,\\u003cbr\\u003e    \\\"chain_function_constant\\\": 0.0394894013945532,\\u003cbr\\u003e    \\\"optimizer\\\": \\\"SGD\\\",\\u003cbr\\u003e    \\\"learning_rate\\\": 0.07718001836280913,\\u003cbr\\u003e    \\\"forecast_distribution\\\": \\\"distr_gev\\\",\\u003cbr\\u003e    \\\"perform_batching\\\": true,\\u003cbr\\u003e    \\\"batch_size\\\": 754,\\u003cbr\\u003e    \\\"epochs\\\": 469\\u003cbr\\u003e  }\\u003cbr\\u003e}\",\"{\\u003cbr\\u003e  \\\"number\\\": 83,\\u003cbr\\u003e  \\\"values\\\": [\\u003cbr\\u003e    0.9098653793334961,\\u003cbr\\u003e    0.06661849468946457\\u003cbr\\u003e  ],\\u003cbr\\u003e  \\\"params\\\": {\\u003cbr\\u003e    \\\"chain_function_mean\\\": -0.5836071638097042,\\u003cbr\\u003e    \\\"chain_function_std\\\": 1.849509834805036,\\u003cbr\\u003e    \\\"chain_function_constant\\\": 0.06966616760697612,\\u003cbr\\u003e    \\\"optimizer\\\": \\\"SGD\\\",\\u003cbr\\u003e    \\\"learning_rate\\\": 0.07673336678597417,\\u003cbr\\u003e    \\\"forecast_distribution\\\": \\\"distr_gev\\\",\\u003cbr\\u003e    \\\"perform_batching\\\": true,\\u003cbr\\u003e    \\\"batch_size\\\": 3,\\u003cbr\\u003e    \\\"epochs\\\": 553\\u003cbr\\u003e  }\\u003cbr\\u003e}\",\"{\\u003cbr\\u003e  \\\"number\\\": 85,\\u003cbr\\u003e  \\\"values\\\": [\\u003cbr\\u003e    0.8902373909950256,\\u003cbr\\u003e    0.06236499547958374\\u003cbr\\u003e  ],\\u003cbr\\u003e  \\\"params\\\": {\\u003cbr\\u003e    \\\"chain_function_mean\\\": 8.997150947099467,\\u003cbr\\u003e    \\\"chain_function_std\\\": 1.568588498793377,\\u003cbr\\u003e    \\\"chain_function_constant\\\": 0.10311986315767284,\\u003cbr\\u003e    \\\"optimizer\\\": \\\"SGD\\\",\\u003cbr\\u003e    \\\"learning_rate\\\": 0.07778659763827568,\\u003cbr\\u003e    \\\"forecast_distribution\\\": \\\"distr_gev\\\",\\u003cbr\\u003e    \\\"perform_batching\\\": true,\\u003cbr\\u003e    \\\"batch_size\\\": 118,\\u003cbr\\u003e    \\\"epochs\\\": 54\\u003cbr\\u003e  }\\u003cbr\\u003e}\",\"{\\u003cbr\\u003e  \\\"number\\\": 86,\\u003cbr\\u003e  \\\"values\\\": [\\u003cbr\\u003e    0.925289511680603,\\u003cbr\\u003e    0.06386557221412659\\u003cbr\\u003e  ],\\u003cbr\\u003e  \\\"params\\\": {\\u003cbr\\u003e    \\\"chain_function_mean\\\": 8.364880688910961,\\u003cbr\\u003e    \\\"chain_function_std\\\": 1.9675759615879544,\\u003cbr\\u003e    \\\"chain_function_constant\\\": 0.03855807995946198,\\u003cbr\\u003e    \\\"optimizer\\\": \\\"SGD\\\",\\u003cbr\\u003e    \\\"learning_rate\\\": 0.07242531349974841,\\u003cbr\\u003e    \\\"forecast_distribution\\\": \\\"distr_gev\\\",\\u003cbr\\u003e    \\\"perform_batching\\\": true,\\u003cbr\\u003e    \\\"batch_size\\\": 921,\\u003cbr\\u003e    \\\"epochs\\\": 111\\u003cbr\\u003e  }\\u003cbr\\u003e}\",\"{\\u003cbr\\u003e  \\\"number\\\": 87,\\u003cbr\\u003e  \\\"values\\\": [\\u003cbr\\u003e    0.8886202573776245,\\u003cbr\\u003e    0.06243525445461273\\u003cbr\\u003e  ],\\u003cbr\\u003e  \\\"params\\\": {\\u003cbr\\u003e    \\\"chain_function_mean\\\": 9.697826023536484,\\u003cbr\\u003e    \\\"chain_function_std\\\": 2.712360978180163,\\u003cbr\\u003e    \\\"chain_function_constant\\\": 0.1449483082268379,\\u003cbr\\u003e    \\\"optimizer\\\": \\\"SGD\\\",\\u003cbr\\u003e    \\\"learning_rate\\\": 0.07253792938306293,\\u003cbr\\u003e    \\\"forecast_distribution\\\": \\\"distr_gev\\\",\\u003cbr\\u003e    \\\"perform_batching\\\": true,\\u003cbr\\u003e    \\\"batch_size\\\": 195,\\u003cbr\\u003e    \\\"epochs\\\": 204\\u003cbr\\u003e  }\\u003cbr\\u003e}\",\"{\\u003cbr\\u003e  \\\"number\\\": 89,\\u003cbr\\u003e  \\\"values\\\": [\\u003cbr\\u003e    0.8900171518325806,\\u003cbr\\u003e    0.06233824044466019\\u003cbr\\u003e  ],\\u003cbr\\u003e  \\\"params\\\": {\\u003cbr\\u003e    \\\"chain_function_mean\\\": 2.962253379854788,\\u003cbr\\u003e    \\\"chain_function_std\\\": 1.2024952964888163,\\u003cbr\\u003e    \\\"chain_function_constant\\\": 0.06785421933722796,\\u003cbr\\u003e    \\\"optimizer\\\": \\\"SGD\\\",\\u003cbr\\u003e    \\\"learning_rate\\\": 0.08224316039119003,\\u003cbr\\u003e    \\\"forecast_distribution\\\": \\\"distr_gev\\\",\\u003cbr\\u003e    \\\"perform_batching\\\": true,\\u003cbr\\u003e    \\\"batch_size\\\": 70,\\u003cbr\\u003e    \\\"epochs\\\": 121\\u003cbr\\u003e  }\\u003cbr\\u003e}\",\"{\\u003cbr\\u003e  \\\"number\\\": 90,\\u003cbr\\u003e  \\\"values\\\": [\\u003cbr\\u003e    1.6096148490905762,\\u003cbr\\u003e    0.09865641593933105\\u003cbr\\u003e  ],\\u003cbr\\u003e  \\\"params\\\": {\\u003cbr\\u003e    \\\"chain_function_mean\\\": 7.505321227527002,\\u003cbr\\u003e    \\\"chain_function_std\\\": 1.4181361743735716,\\u003cbr\\u003e    \\\"chain_function_constant\\\": 0.02257781557219809,\\u003cbr\\u003e    \\\"optimizer\\\": \\\"SGD\\\",\\u003cbr\\u003e    \\\"learning_rate\\\": 0.06696215969458139,\\u003cbr\\u003e    \\\"forecast_distribution\\\": \\\"distr_gev\\\",\\u003cbr\\u003e    \\\"perform_batching\\\": true,\\u003cbr\\u003e    \\\"batch_size\\\": 706,\\u003cbr\\u003e    \\\"epochs\\\": 26\\u003cbr\\u003e  }\\u003cbr\\u003e}\",\"{\\u003cbr\\u003e  \\\"number\\\": 92,\\u003cbr\\u003e  \\\"values\\\": [\\u003cbr\\u003e    0.889353334903717,\\u003cbr\\u003e    0.06317198276519775\\u003cbr\\u003e  ],\\u003cbr\\u003e  \\\"params\\\": {\\u003cbr\\u003e    \\\"chain_function_mean\\\": 0.779531366852817,\\u003cbr\\u003e    \\\"chain_function_std\\\": 1.783813858370121,\\u003cbr\\u003e    \\\"chain_function_constant\\\": 0.1244383078452226,\\u003cbr\\u003e    \\\"optimizer\\\": \\\"SGD\\\",\\u003cbr\\u003e    \\\"learning_rate\\\": 0.07698668612298692,\\u003cbr\\u003e    \\\"forecast_distribution\\\": \\\"distr_gev\\\",\\u003cbr\\u003e    \\\"perform_batching\\\": true,\\u003cbr\\u003e    \\\"batch_size\\\": 131,\\u003cbr\\u003e    \\\"epochs\\\": 80\\u003cbr\\u003e  }\\u003cbr\\u003e}\",\"{\\u003cbr\\u003e  \\\"number\\\": 94,\\u003cbr\\u003e  \\\"values\\\": [\\u003cbr\\u003e    1.0279114246368408,\\u003cbr\\u003e    0.061343077570199966\\u003cbr\\u003e  ],\\u003cbr\\u003e  \\\"params\\\": {\\u003cbr\\u003e    \\\"chain_function_mean\\\": 10.315399843804691,\\u003cbr\\u003e    \\\"chain_function_std\\\": 2.3717299312074194,\\u003cbr\\u003e    \\\"chain_function_constant\\\": 0.0027092118496142613,\\u003cbr\\u003e    \\\"optimizer\\\": \\\"SGD\\\",\\u003cbr\\u003e    \\\"learning_rate\\\": 0.0626660880866232,\\u003cbr\\u003e    \\\"forecast_distribution\\\": \\\"distr_mixture_linear\\\",\\u003cbr\\u003e    \\\"distribution_1\\\": \\\"distr_gev\\\",\\u003cbr\\u003e    \\\"distribution_2\\\": \\\"distr_trunc_normal\\\",\\u003cbr\\u003e    \\\"perform_batching\\\": true,\\u003cbr\\u003e    \\\"batch_size\\\": 49,\\u003cbr\\u003e    \\\"epochs\\\": 58\\u003cbr\\u003e  }\\u003cbr\\u003e}\",\"{\\u003cbr\\u003e  \\\"number\\\": 96,\\u003cbr\\u003e  \\\"values\\\": [\\u003cbr\\u003e    0.9088723659515381,\\u003cbr\\u003e    0.061734236776828766\\u003cbr\\u003e  ],\\u003cbr\\u003e  \\\"params\\\": {\\u003cbr\\u003e    \\\"chain_function_mean\\\": 8.868210591103836,\\u003cbr\\u003e    \\\"chain_function_std\\\": 2.3930945132996047,\\u003cbr\\u003e    \\\"chain_function_constant\\\": 0.005729305797212493,\\u003cbr\\u003e    \\\"optimizer\\\": \\\"SGD\\\",\\u003cbr\\u003e    \\\"learning_rate\\\": 0.06934001583531875,\\u003cbr\\u003e    \\\"forecast_distribution\\\": \\\"distr_gev\\\",\\u003cbr\\u003e    \\\"perform_batching\\\": true,\\u003cbr\\u003e    \\\"batch_size\\\": 48,\\u003cbr\\u003e    \\\"epochs\\\": 63\\u003cbr\\u003e  }\\u003cbr\\u003e}\",\"{\\u003cbr\\u003e  \\\"number\\\": 97,\\u003cbr\\u003e  \\\"values\\\": [\\u003cbr\\u003e    0.9070626497268677,\\u003cbr\\u003e    0.062171608209609985\\u003cbr\\u003e  ],\\u003cbr\\u003e  \\\"params\\\": {\\u003cbr\\u003e    \\\"chain_function_mean\\\": 8.855467299987032,\\u003cbr\\u003e    \\\"chain_function_std\\\": 1.523479047395687,\\u003cbr\\u003e    \\\"chain_function_constant\\\": 0.029385452254843118,\\u003cbr\\u003e    \\\"optimizer\\\": \\\"SGD\\\",\\u003cbr\\u003e    \\\"learning_rate\\\": 0.06350290369527711,\\u003cbr\\u003e    \\\"forecast_distribution\\\": \\\"distr_gev\\\",\\u003cbr\\u003e    \\\"perform_batching\\\": true,\\u003cbr\\u003e    \\\"batch_size\\\": 49,\\u003cbr\\u003e    \\\"epochs\\\": 59\\u003cbr\\u003e  }\\u003cbr\\u003e}\",\"{\\u003cbr\\u003e  \\\"number\\\": 98,\\u003cbr\\u003e  \\\"values\\\": [\\u003cbr\\u003e    0.9082488417625427,\\u003cbr\\u003e    0.06286561489105225\\u003cbr\\u003e  ],\\u003cbr\\u003e  \\\"params\\\": {\\u003cbr\\u003e    \\\"chain_function_mean\\\": 10.424557930357562,\\u003cbr\\u003e    \\\"chain_function_std\\\": 3.235715212504653,\\u003cbr\\u003e    \\\"chain_function_constant\\\": 0.00016398112900473105,\\u003cbr\\u003e    \\\"optimizer\\\": \\\"SGD\\\",\\u003cbr\\u003e    \\\"learning_rate\\\": 0.07382691223276097,\\u003cbr\\u003e    \\\"forecast_distribution\\\": \\\"distr_mixture_linear\\\",\\u003cbr\\u003e    \\\"distribution_1\\\": \\\"distr_gev\\\",\\u003cbr\\u003e    \\\"distribution_2\\\": \\\"distr_trunc_normal\\\",\\u003cbr\\u003e    \\\"perform_batching\\\": true,\\u003cbr\\u003e    \\\"batch_size\\\": 152,\\u003cbr\\u003e    \\\"epochs\\\": 101\\u003cbr\\u003e  }\\u003cbr\\u003e}\",\"{\\u003cbr\\u003e  \\\"number\\\": 99,\\u003cbr\\u003e  \\\"values\\\": [\\u003cbr\\u003e    0.8935203552246094,\\u003cbr\\u003e    0.06239175796508789\\u003cbr\\u003e  ],\\u003cbr\\u003e  \\\"params\\\": {\\u003cbr\\u003e    \\\"chain_function_mean\\\": 9.528051979410025,\\u003cbr\\u003e    \\\"chain_function_std\\\": 1.2057576501109808,\\u003cbr\\u003e    \\\"chain_function_constant\\\": 0.8959456285076897,\\u003cbr\\u003e    \\\"optimizer\\\": \\\"SGD\\\",\\u003cbr\\u003e    \\\"learning_rate\\\": 0.07604389836913898,\\u003cbr\\u003e    \\\"forecast_distribution\\\": \\\"distr_log_normal\\\",\\u003cbr\\u003e    \\\"perform_batching\\\": true,\\u003cbr\\u003e    \\\"batch_size\\\": 99,\\u003cbr\\u003e    \\\"epochs\\\": 57\\u003cbr\\u003e  }\\u003cbr\\u003e}\",\"{\\u003cbr\\u003e  \\\"number\\\": 100,\\u003cbr\\u003e  \\\"values\\\": [\\u003cbr\\u003e    0.9321588277816772,\\u003cbr\\u003e    0.06507017463445663\\u003cbr\\u003e  ],\\u003cbr\\u003e  \\\"params\\\": {\\u003cbr\\u003e    \\\"chain_function_mean\\\": 11.2433891309132,\\u003cbr\\u003e    \\\"chain_function_std\\\": 1.7010187765123788,\\u003cbr\\u003e    \\\"chain_function_constant\\\": 0.06261771174025375,\\u003cbr\\u003e    \\\"optimizer\\\": \\\"SGD\\\",\\u003cbr\\u003e    \\\"learning_rate\\\": 0.07015341744104157,\\u003cbr\\u003e    \\\"forecast_distribution\\\": \\\"distr_mixture\\\",\\u003cbr\\u003e    \\\"distribution_1\\\": \\\"distr_trunc_normal\\\",\\u003cbr\\u003e    \\\"distribution_2\\\": \\\"distr_gev\\\",\\u003cbr\\u003e    \\\"perform_batching\\\": true,\\u003cbr\\u003e    \\\"batch_size\\\": 187,\\u003cbr\\u003e    \\\"epochs\\\": 30\\u003cbr\\u003e  }\\u003cbr\\u003e}\",\"{\\u003cbr\\u003e  \\\"number\\\": 101,\\u003cbr\\u003e  \\\"values\\\": [\\u003cbr\\u003e    0.8889183402061462,\\u003cbr\\u003e    0.06295359879732132\\u003cbr\\u003e  ],\\u003cbr\\u003e  \\\"params\\\": {\\u003cbr\\u003e    \\\"chain_function_mean\\\": 8.384142799837019,\\u003cbr\\u003e    \\\"chain_function_std\\\": 2.286652434516019,\\u003cbr\\u003e    \\\"chain_function_constant\\\": 0.7369306983484591,\\u003cbr\\u003e    \\\"optimizer\\\": \\\"SGD\\\",\\u003cbr\\u003e    \\\"learning_rate\\\": 0.08704075734770503,\\u003cbr\\u003e    \\\"forecast_distribution\\\": \\\"distr_gev\\\",\\u003cbr\\u003e    \\\"perform_batching\\\": true,\\u003cbr\\u003e    \\\"batch_size\\\": 751,\\u003cbr\\u003e    \\\"epochs\\\": 40\\u003cbr\\u003e  }\\u003cbr\\u003e}\",\"{\\u003cbr\\u003e  \\\"number\\\": 102,\\u003cbr\\u003e  \\\"values\\\": [\\u003cbr\\u003e    0.8898117542266846,\\u003cbr\\u003e    0.061935290694236755\\u003cbr\\u003e  ],\\u003cbr\\u003e  \\\"params\\\": {\\u003cbr\\u003e    \\\"chain_function_mean\\\": 9.974414858726904,\\u003cbr\\u003e    \\\"chain_function_std\\\": 1.4906604475766816,\\u003cbr\\u003e    \\\"chain_function_constant\\\": 0.0851387085597522,\\u003cbr\\u003e    \\\"optimizer\\\": \\\"SGD\\\",\\u003cbr\\u003e    \\\"learning_rate\\\": 0.06842811160025529,\\u003cbr\\u003e    \\\"forecast_distribution\\\": \\\"distr_gev\\\",\\u003cbr\\u003e    \\\"perform_batching\\\": true,\\u003cbr\\u003e    \\\"batch_size\\\": 53,\\u003cbr\\u003e    \\\"epochs\\\": 96\\u003cbr\\u003e  }\\u003cbr\\u003e}\",\"{\\u003cbr\\u003e  \\\"number\\\": 103,\\u003cbr\\u003e  \\\"values\\\": [\\u003cbr\\u003e    1.4834558963775635,\\u003cbr\\u003e    0.08927500247955322\\u003cbr\\u003e  ],\\u003cbr\\u003e  \\\"params\\\": {\\u003cbr\\u003e    \\\"chain_function_mean\\\": 9.81033445963242,\\u003cbr\\u003e    \\\"chain_function_std\\\": 1.4895411466120294,\\u003cbr\\u003e    \\\"chain_function_constant\\\": 0.08412631399716775,\\u003cbr\\u003e    \\\"optimizer\\\": \\\"SGD\\\",\\u003cbr\\u003e    \\\"learning_rate\\\": 0.05845078786903487,\\u003cbr\\u003e    \\\"forecast_distribution\\\": \\\"distr_gev\\\",\\u003cbr\\u003e    \\\"perform_batching\\\": true,\\u003cbr\\u003e    \\\"batch_size\\\": 592,\\u003cbr\\u003e    \\\"epochs\\\": 20\\u003cbr\\u003e  }\\u003cbr\\u003e}\",\"{\\u003cbr\\u003e  \\\"number\\\": 104,\\u003cbr\\u003e  \\\"values\\\": [\\u003cbr\\u003e    0.9762683510780334,\\u003cbr\\u003e    0.06155037879943848\\u003cbr\\u003e  ],\\u003cbr\\u003e  \\\"params\\\": {\\u003cbr\\u003e    \\\"chain_function_mean\\\": 9.124564546172863,\\u003cbr\\u003e    \\\"chain_function_std\\\": 1.261130228289884,\\u003cbr\\u003e    \\\"chain_function_constant\\\": 0.0030718976015092214,\\u003cbr\\u003e    \\\"optimizer\\\": \\\"SGD\\\",\\u003cbr\\u003e    \\\"learning_rate\\\": 0.062418937280561804,\\u003cbr\\u003e    \\\"forecast_distribution\\\": \\\"distr_mixture_linear\\\",\\u003cbr\\u003e    \\\"distribution_1\\\": \\\"distr_gev\\\",\\u003cbr\\u003e    \\\"distribution_2\\\": \\\"distr_trunc_normal\\\",\\u003cbr\\u003e    \\\"perform_batching\\\": true,\\u003cbr\\u003e    \\\"batch_size\\\": 31,\\u003cbr\\u003e    \\\"epochs\\\": 95\\u003cbr\\u003e  }\\u003cbr\\u003e}\",\"{\\u003cbr\\u003e  \\\"number\\\": 110,\\u003cbr\\u003e  \\\"values\\\": [\\u003cbr\\u003e    0.8969157338142395,\\u003cbr\\u003e    0.06179817020893097\\u003cbr\\u003e  ],\\u003cbr\\u003e  \\\"params\\\": {\\u003cbr\\u003e    \\\"chain_function_mean\\\": 7.852500595818123,\\u003cbr\\u003e    \\\"chain_function_std\\\": 1.2553139272259897,\\u003cbr\\u003e    \\\"chain_function_constant\\\": 0.00043837123452883375,\\u003cbr\\u003e    \\\"optimizer\\\": \\\"SGD\\\",\\u003cbr\\u003e    \\\"learning_rate\\\": 0.09232979487566673,\\u003cbr\\u003e    \\\"forecast_distribution\\\": \\\"distr_mixture_linear\\\",\\u003cbr\\u003e    \\\"distribution_1\\\": \\\"distr_gev\\\",\\u003cbr\\u003e    \\\"distribution_2\\\": \\\"distr_trunc_normal\\\",\\u003cbr\\u003e    \\\"perform_batching\\\": true,\\u003cbr\\u003e    \\\"batch_size\\\": 41,\\u003cbr\\u003e    \\\"epochs\\\": 132\\u003cbr\\u003e  }\\u003cbr\\u003e}\",\"{\\u003cbr\\u003e  \\\"number\\\": 114,\\u003cbr\\u003e  \\\"values\\\": [\\u003cbr\\u003e    0.88923579454422,\\u003cbr\\u003e    0.06303691864013672\\u003cbr\\u003e  ],\\u003cbr\\u003e  \\\"params\\\": {\\u003cbr\\u003e    \\\"chain_function_mean\\\": 7.805973812033871,\\u003cbr\\u003e    \\\"chain_function_std\\\": 1.2675183157150074,\\u003cbr\\u003e    \\\"chain_function_constant\\\": 0.9897318859758824,\\u003cbr\\u003e    \\\"optimizer\\\": \\\"SGD\\\",\\u003cbr\\u003e    \\\"learning_rate\\\": 0.08288862848750563,\\u003cbr\\u003e    \\\"forecast_distribution\\\": \\\"distr_gev\\\",\\u003cbr\\u003e    \\\"perform_batching\\\": true,\\u003cbr\\u003e    \\\"batch_size\\\": 44,\\u003cbr\\u003e    \\\"epochs\\\": 95\\u003cbr\\u003e  }\\u003cbr\\u003e}\",\"{\\u003cbr\\u003e  \\\"number\\\": 115,\\u003cbr\\u003e  \\\"values\\\": [\\u003cbr\\u003e    0.8888293504714966,\\u003cbr\\u003e    0.062487803399562836\\u003cbr\\u003e  ],\\u003cbr\\u003e  \\\"params\\\": {\\u003cbr\\u003e    \\\"chain_function_mean\\\": 6.732965529678205,\\u003cbr\\u003e    \\\"chain_function_std\\\": 0.9519232458041191,\\u003cbr\\u003e    \\\"chain_function_constant\\\": 0.559675972079405,\\u003cbr\\u003e    \\\"optimizer\\\": \\\"SGD\\\",\\u003cbr\\u003e    \\\"learning_rate\\\": 0.09364081136604271,\\u003cbr\\u003e    \\\"forecast_distribution\\\": \\\"distr_mixture_linear\\\",\\u003cbr\\u003e    \\\"distribution_1\\\": \\\"distr_gev\\\",\\u003cbr\\u003e    \\\"distribution_2\\\": \\\"distr_trunc_normal\\\",\\u003cbr\\u003e    \\\"perform_batching\\\": true,\\u003cbr\\u003e    \\\"batch_size\\\": 89,\\u003cbr\\u003e    \\\"epochs\\\": 66\\u003cbr\\u003e  }\\u003cbr\\u003e}\",\"{\\u003cbr\\u003e  \\\"number\\\": 116,\\u003cbr\\u003e  \\\"values\\\": [\\u003cbr\\u003e    0.891418993473053,\\u003cbr\\u003e    0.06240938603878021\\u003cbr\\u003e  ],\\u003cbr\\u003e  \\\"params\\\": {\\u003cbr\\u003e    \\\"chain_function_mean\\\": 10.186793511540182,\\u003cbr\\u003e    \\\"chain_function_std\\\": 1.4700490919752573,\\u003cbr\\u003e    \\\"chain_function_constant\\\": 0.6740736262663555,\\u003cbr\\u003e    \\\"optimizer\\\": \\\"SGD\\\",\\u003cbr\\u003e    \\\"learning_rate\\\": 0.09032798792057031,\\u003cbr\\u003e    \\\"forecast_distribution\\\": \\\"distr_log_normal\\\",\\u003cbr\\u003e    \\\"perform_batching\\\": true,\\u003cbr\\u003e    \\\"batch_size\\\": 942,\\u003cbr\\u003e    \\\"epochs\\\": 126\\u003cbr\\u003e  }\\u003cbr\\u003e}\",\"{\\u003cbr\\u003e  \\\"number\\\": 117,\\u003cbr\\u003e  \\\"values\\\": [\\u003cbr\\u003e    0.8966472148895264,\\u003cbr\\u003e    0.06204590946435928\\u003cbr\\u003e  ],\\u003cbr\\u003e  \\\"params\\\": {\\u003cbr\\u003e    \\\"chain_function_mean\\\": 9.173397937872725,\\u003cbr\\u003e    \\\"chain_function_std\\\": 2.0404935599879144,\\u003cbr\\u003e    \\\"chain_function_constant\\\": 0.023339867246039696,\\u003cbr\\u003e    \\\"optimizer\\\": \\\"SGD\\\",\\u003cbr\\u003e    \\\"learning_rate\\\": 0.09782401081409656,\\u003cbr\\u003e    \\\"forecast_distribution\\\": \\\"distr_mixture\\\",\\u003cbr\\u003e    \\\"distribution_1\\\": \\\"distr_trunc_normal\\\",\\u003cbr\\u003e    \\\"distribution_2\\\": \\\"distr_log_normal\\\",\\u003cbr\\u003e    \\\"perform_batching\\\": true,\\u003cbr\\u003e    \\\"batch_size\\\": 38,\\u003cbr\\u003e    \\\"epochs\\\": 44\\u003cbr\\u003e  }\\u003cbr\\u003e}\",\"{\\u003cbr\\u003e  \\\"number\\\": 118,\\u003cbr\\u003e  \\\"values\\\": [\\u003cbr\\u003e    0.8931614756584167,\\u003cbr\\u003e    0.0621941015124321\\u003cbr\\u003e  ],\\u003cbr\\u003e  \\\"params\\\": {\\u003cbr\\u003e    \\\"chain_function_mean\\\": 8.081852814068505,\\u003cbr\\u003e    \\\"chain_function_std\\\": 1.7355806849215583,\\u003cbr\\u003e    \\\"chain_function_constant\\\": 0.05898987474892701,\\u003cbr\\u003e    \\\"optimizer\\\": \\\"SGD\\\",\\u003cbr\\u003e    \\\"learning_rate\\\": 0.061032134085643945,\\u003cbr\\u003e    \\\"forecast_distribution\\\": \\\"distr_gev\\\",\\u003cbr\\u003e    \\\"perform_batching\\\": true,\\u003cbr\\u003e    \\\"batch_size\\\": 95,\\u003cbr\\u003e    \\\"epochs\\\": 71\\u003cbr\\u003e  }\\u003cbr\\u003e}\",\"{\\u003cbr\\u003e  \\\"number\\\": 120,\\u003cbr\\u003e  \\\"values\\\": [\\u003cbr\\u003e    0.8885165452957153,\\u003cbr\\u003e    0.06275948137044907\\u003cbr\\u003e  ],\\u003cbr\\u003e  \\\"params\\\": {\\u003cbr\\u003e    \\\"chain_function_mean\\\": 9.916346471380498,\\u003cbr\\u003e    \\\"chain_function_std\\\": 1.8730277998619707,\\u003cbr\\u003e    \\\"chain_function_constant\\\": 0.4882398574854323,\\u003cbr\\u003e    \\\"optimizer\\\": \\\"SGD\\\",\\u003cbr\\u003e    \\\"learning_rate\\\": 0.04332564057938055,\\u003cbr\\u003e    \\\"forecast_distribution\\\": \\\"distr_gev\\\",\\u003cbr\\u003e    \\\"perform_batching\\\": true,\\u003cbr\\u003e    \\\"batch_size\\\": 673,\\u003cbr\\u003e    \\\"epochs\\\": 95\\u003cbr\\u003e  }\\u003cbr\\u003e}\",\"{\\u003cbr\\u003e  \\\"number\\\": 122,\\u003cbr\\u003e  \\\"values\\\": [\\u003cbr\\u003e    0.9037171602249146,\\u003cbr\\u003e    0.061881162226200104\\u003cbr\\u003e  ],\\u003cbr\\u003e  \\\"params\\\": {\\u003cbr\\u003e    \\\"chain_function_mean\\\": 7.12349242777051,\\u003cbr\\u003e    \\\"chain_function_std\\\": 1.0534364574341375,\\u003cbr\\u003e    \\\"chain_function_constant\\\": 0.02357932408576241,\\u003cbr\\u003e    \\\"optimizer\\\": \\\"SGD\\\",\\u003cbr\\u003e    \\\"learning_rate\\\": 0.08673120482143387,\\u003cbr\\u003e    \\\"forecast_distribution\\\": \\\"distr_gev\\\",\\u003cbr\\u003e    \\\"perform_batching\\\": true,\\u003cbr\\u003e    \\\"batch_size\\\": 250,\\u003cbr\\u003e    \\\"epochs\\\": 132\\u003cbr\\u003e  }\\u003cbr\\u003e}\",\"{\\u003cbr\\u003e  \\\"number\\\": 123,\\u003cbr\\u003e  \\\"values\\\": [\\u003cbr\\u003e    0.8978154063224792,\\u003cbr\\u003e    0.06358549743890762\\u003cbr\\u003e  ],\\u003cbr\\u003e  \\\"params\\\": {\\u003cbr\\u003e    \\\"chain_function_mean\\\": 4.78324631261683,\\u003cbr\\u003e    \\\"chain_function_std\\\": 1.6668258405717487,\\u003cbr\\u003e    \\\"chain_function_constant\\\": 0.855879534867368,\\u003cbr\\u003e    \\\"optimizer\\\": \\\"SGD\\\",\\u003cbr\\u003e    \\\"learning_rate\\\": 0.05642629899623797,\\u003cbr\\u003e    \\\"forecast_distribution\\\": \\\"distr_mixture_linear\\\",\\u003cbr\\u003e    \\\"distribution_1\\\": \\\"distr_log_normal\\\",\\u003cbr\\u003e    \\\"distribution_2\\\": \\\"distr_gev\\\",\\u003cbr\\u003e    \\\"perform_batching\\\": true,\\u003cbr\\u003e    \\\"batch_size\\\": 555,\\u003cbr\\u003e    \\\"epochs\\\": 16\\u003cbr\\u003e  }\\u003cbr\\u003e}\",\"{\\u003cbr\\u003e  \\\"number\\\": 124,\\u003cbr\\u003e  \\\"values\\\": [\\u003cbr\\u003e    1.062208890914917,\\u003cbr\\u003e    0.06394900381565094\\u003cbr\\u003e  ],\\u003cbr\\u003e  \\\"params\\\": {\\u003cbr\\u003e    \\\"chain_function_mean\\\": 9.48510004070829,\\u003cbr\\u003e    \\\"chain_function_std\\\": 1.3083241802474486,\\u003cbr\\u003e    \\\"chain_function_constant\\\": 0.0075836012865517,\\u003cbr\\u003e    \\\"optimizer\\\": \\\"SGD\\\",\\u003cbr\\u003e    \\\"learning_rate\\\": 0.09150633914458495,\\u003cbr\\u003e    \\\"forecast_distribution\\\": \\\"distr_mixture\\\",\\u003cbr\\u003e    \\\"distribution_1\\\": \\\"distr_gev\\\",\\u003cbr\\u003e    \\\"distribution_2\\\": \\\"distr_trunc_normal\\\",\\u003cbr\\u003e    \\\"perform_batching\\\": true,\\u003cbr\\u003e    \\\"batch_size\\\": 201,\\u003cbr\\u003e    \\\"epochs\\\": 46\\u003cbr\\u003e  }\\u003cbr\\u003e}\",\"{\\u003cbr\\u003e  \\\"number\\\": 125,\\u003cbr\\u003e  \\\"values\\\": [\\u003cbr\\u003e    0.9050768613815308,\\u003cbr\\u003e    0.06412430107593536\\u003cbr\\u003e  ],\\u003cbr\\u003e  \\\"params\\\": {\\u003cbr\\u003e    \\\"chain_function_mean\\\": 8.505595124847556,\\u003cbr\\u003e    \\\"chain_function_std\\\": 2.443597094821146,\\u003cbr\\u003e    \\\"chain_function_constant\\\": 0.09304172910207593,\\u003cbr\\u003e    \\\"optimizer\\\": \\\"SGD\\\",\\u003cbr\\u003e    \\\"learning_rate\\\": 0.007626633916591415,\\u003cbr\\u003e    \\\"forecast_distribution\\\": \\\"distr_log_normal\\\",\\u003cbr\\u003e    \\\"perform_batching\\\": true,\\u003cbr\\u003e    \\\"batch_size\\\": 152,\\u003cbr\\u003e    \\\"epochs\\\": 71\\u003cbr\\u003e  }\\u003cbr\\u003e}\",\"{\\u003cbr\\u003e  \\\"number\\\": 127,\\u003cbr\\u003e  \\\"values\\\": [\\u003cbr\\u003e    0.8953449130058289,\\u003cbr\\u003e    0.06183896213769913\\u003cbr\\u003e  ],\\u003cbr\\u003e  \\\"params\\\": {\\u003cbr\\u003e    \\\"chain_function_mean\\\": 7.359248276869529,\\u003cbr\\u003e    \\\"chain_function_std\\\": 2.0477576003806006,\\u003cbr\\u003e    \\\"chain_function_constant\\\": 0.049501313391030845,\\u003cbr\\u003e    \\\"optimizer\\\": \\\"SGD\\\",\\u003cbr\\u003e    \\\"learning_rate\\\": 0.053583068911946086,\\u003cbr\\u003e    \\\"forecast_distribution\\\": \\\"distr_gev\\\",\\u003cbr\\u003e    \\\"perform_batching\\\": true,\\u003cbr\\u003e    \\\"batch_size\\\": 79,\\u003cbr\\u003e    \\\"epochs\\\": 96\\u003cbr\\u003e  }\\u003cbr\\u003e}\",\"{\\u003cbr\\u003e  \\\"number\\\": 131,\\u003cbr\\u003e  \\\"values\\\": [\\u003cbr\\u003e    2.515634059906006,\\u003cbr\\u003e    0.1055038571357727\\u003cbr\\u003e  ],\\u003cbr\\u003e  \\\"params\\\": {\\u003cbr\\u003e    \\\"chain_function_mean\\\": 9.102501148105803,\\u003cbr\\u003e    \\\"chain_function_std\\\": 1.4661825163613564,\\u003cbr\\u003e    \\\"chain_function_constant\\\": 0.03217469629553208,\\u003cbr\\u003e    \\\"optimizer\\\": \\\"SGD\\\",\\u003cbr\\u003e    \\\"learning_rate\\\": 0.058020385604179284,\\u003cbr\\u003e    \\\"forecast_distribution\\\": \\\"distr_gev\\\",\\u003cbr\\u003e    \\\"perform_batching\\\": true,\\u003cbr\\u003e    \\\"batch_size\\\": 306,\\u003cbr\\u003e    \\\"epochs\\\": 1\\u003cbr\\u003e  }\\u003cbr\\u003e}\",\"{\\u003cbr\\u003e  \\\"number\\\": 132,\\u003cbr\\u003e  \\\"values\\\": [\\u003cbr\\u003e    0.8896198272705078,\\u003cbr\\u003e    0.06301561743021011\\u003cbr\\u003e  ],\\u003cbr\\u003e  \\\"params\\\": {\\u003cbr\\u003e    \\\"chain_function_mean\\\": 1.2154518890010024,\\u003cbr\\u003e    \\\"chain_function_std\\\": 1.1190651438899426,\\u003cbr\\u003e    \\\"chain_function_constant\\\": 0.0019036669091258849,\\u003cbr\\u003e    \\\"optimizer\\\": \\\"SGD\\\",\\u003cbr\\u003e    \\\"learning_rate\\\": 0.06772612669786186,\\u003cbr\\u003e    \\\"forecast_distribution\\\": \\\"distr_gev\\\",\\u003cbr\\u003e    \\\"perform_batching\\\": true,\\u003cbr\\u003e    \\\"batch_size\\\": 179,\\u003cbr\\u003e    \\\"epochs\\\": 84\\u003cbr\\u003e  }\\u003cbr\\u003e}\",\"{\\u003cbr\\u003e  \\\"number\\\": 138,\\u003cbr\\u003e  \\\"values\\\": [\\u003cbr\\u003e    0.8943147659301758,\\u003cbr\\u003e    0.06253887712955475\\u003cbr\\u003e  ],\\u003cbr\\u003e  \\\"params\\\": {\\u003cbr\\u003e    \\\"chain_function_mean\\\": 8.012484093804382,\\u003cbr\\u003e    \\\"chain_function_std\\\": 1.9552420581355958,\\u003cbr\\u003e    \\\"chain_function_constant\\\": 0.06975725040728617,\\u003cbr\\u003e    \\\"optimizer\\\": \\\"SGD\\\",\\u003cbr\\u003e    \\\"learning_rate\\\": 0.06536115207806548,\\u003cbr\\u003e    \\\"forecast_distribution\\\": \\\"distr_gev\\\",\\u003cbr\\u003e    \\\"perform_batching\\\": true,\\u003cbr\\u003e    \\\"batch_size\\\": 36,\\u003cbr\\u003e    \\\"epochs\\\": 54\\u003cbr\\u003e  }\\u003cbr\\u003e}\",\"{\\u003cbr\\u003e  \\\"number\\\": 142,\\u003cbr\\u003e  \\\"values\\\": [\\u003cbr\\u003e    0.889410674571991,\\u003cbr\\u003e    0.06296852976083755\\u003cbr\\u003e  ],\\u003cbr\\u003e  \\\"params\\\": {\\u003cbr\\u003e    \\\"chain_function_mean\\\": 2.572099452845741,\\u003cbr\\u003e    \\\"chain_function_std\\\": 0.8896020105803653,\\u003cbr\\u003e    \\\"chain_function_constant\\\": 0.6039439990336036,\\u003cbr\\u003e    \\\"optimizer\\\": \\\"SGD\\\",\\u003cbr\\u003e    \\\"learning_rate\\\": 0.061742495977403535,\\u003cbr\\u003e    \\\"forecast_distribution\\\": \\\"distr_gev\\\",\\u003cbr\\u003e    \\\"perform_batching\\\": true,\\u003cbr\\u003e    \\\"batch_size\\\": 433,\\u003cbr\\u003e    \\\"epochs\\\": 106\\u003cbr\\u003e  }\\u003cbr\\u003e}\",\"{\\u003cbr\\u003e  \\\"number\\\": 143,\\u003cbr\\u003e  \\\"values\\\": [\\u003cbr\\u003e    0.961358904838562,\\u003cbr\\u003e    0.06516764312982559\\u003cbr\\u003e  ],\\u003cbr\\u003e  \\\"params\\\": {\\u003cbr\\u003e    \\\"chain_function_mean\\\": 10.59233706226846,\\u003cbr\\u003e    \\\"chain_function_std\\\": 1.557005833899104,\\u003cbr\\u003e    \\\"chain_function_constant\\\": 0.022673024173488158,\\u003cbr\\u003e    \\\"optimizer\\\": \\\"SGD\\\",\\u003cbr\\u003e    \\\"learning_rate\\\": 0.012832932987178587,\\u003cbr\\u003e    \\\"forecast_distribution\\\": \\\"distr_gev\\\",\\u003cbr\\u003e    \\\"perform_batching\\\": true,\\u003cbr\\u003e    \\\"batch_size\\\": 112,\\u003cbr\\u003e    \\\"epochs\\\": 136\\u003cbr\\u003e  }\\u003cbr\\u003e}\",\"{\\u003cbr\\u003e  \\\"number\\\": 144,\\u003cbr\\u003e  \\\"values\\\": [\\u003cbr\\u003e    3.7531816959381104,\\u003cbr\\u003e    0.11003082245588303\\u003cbr\\u003e  ],\\u003cbr\\u003e  \\\"params\\\": {\\u003cbr\\u003e    \\\"chain_function_mean\\\": 14.285474844320863,\\u003cbr\\u003e    \\\"chain_function_std\\\": 2.2751153039787053,\\u003cbr\\u003e    \\\"chain_function_constant\\\": 0.0021874089756415997,\\u003cbr\\u003e    \\\"optimizer\\\": \\\"SGD\\\",\\u003cbr\\u003e    \\\"learning_rate\\\": 0.04988578291147953,\\u003cbr\\u003e    \\\"forecast_distribution\\\": \\\"distr_mixture_linear\\\",\\u003cbr\\u003e    \\\"distribution_1\\\": \\\"distr_log_normal\\\",\\u003cbr\\u003e    \\\"distribution_2\\\": \\\"distr_log_normal\\\",\\u003cbr\\u003e    \\\"perform_batching\\\": true,\\u003cbr\\u003e    \\\"batch_size\\\": 61,\\u003cbr\\u003e    \\\"epochs\\\": 32\\u003cbr\\u003e  }\\u003cbr\\u003e}\",\"{\\u003cbr\\u003e  \\\"number\\\": 146,\\u003cbr\\u003e  \\\"values\\\": [\\u003cbr\\u003e    0.8933019042015076,\\u003cbr\\u003e    0.06286414712667465\\u003cbr\\u003e  ],\\u003cbr\\u003e  \\\"params\\\": {\\u003cbr\\u003e    \\\"chain_function_mean\\\": -0.1419249009637813,\\u003cbr\\u003e    \\\"chain_function_std\\\": 0.7109817766605937,\\u003cbr\\u003e    \\\"chain_function_constant\\\": 0.9682018056302563,\\u003cbr\\u003e    \\\"optimizer\\\": \\\"SGD\\\",\\u003cbr\\u003e    \\\"learning_rate\\\": 0.08014495120621398,\\u003cbr\\u003e    \\\"forecast_distribution\\\": \\\"distr_mixture\\\",\\u003cbr\\u003e    \\\"distribution_1\\\": \\\"distr_trunc_normal\\\",\\u003cbr\\u003e    \\\"distribution_2\\\": \\\"distr_gev\\\",\\u003cbr\\u003e    \\\"perform_batching\\\": true,\\u003cbr\\u003e    \\\"batch_size\\\": 35,\\u003cbr\\u003e    \\\"epochs\\\": 68\\u003cbr\\u003e  }\\u003cbr\\u003e}\",\"{\\u003cbr\\u003e  \\\"number\\\": 147,\\u003cbr\\u003e  \\\"values\\\": [\\u003cbr\\u003e    2.900442361831665,\\u003cbr\\u003e    0.11010586470365524\\u003cbr\\u003e  ],\\u003cbr\\u003e  \\\"params\\\": {\\u003cbr\\u003e    \\\"chain_function_mean\\\": 8.309250673929487,\\u003cbr\\u003e    \\\"chain_function_std\\\": 1.3729014300864049,\\u003cbr\\u003e    \\\"chain_function_constant\\\": 0.17544256015866078,\\u003cbr\\u003e    \\\"optimizer\\\": \\\"SGD\\\",\\u003cbr\\u003e    \\\"learning_rate\\\": 0.026383726798025826,\\u003cbr\\u003e    \\\"forecast_distribution\\\": \\\"distr_log_normal\\\",\\u003cbr\\u003e    \\\"perform_batching\\\": true,\\u003cbr\\u003e    \\\"batch_size\\\": 874,\\u003cbr\\u003e    \\\"epochs\\\": 15\\u003cbr\\u003e  }\\u003cbr\\u003e}\",\"{\\u003cbr\\u003e  \\\"number\\\": 148,\\u003cbr\\u003e  \\\"values\\\": [\\u003cbr\\u003e    0.9274780750274658,\\u003cbr\\u003e    0.06481373310089111\\u003cbr\\u003e  ],\\u003cbr\\u003e  \\\"params\\\": {\\u003cbr\\u003e    \\\"chain_function_mean\\\": 9.016427626616673,\\u003cbr\\u003e    \\\"chain_function_std\\\": 1.7150309257730691,\\u003cbr\\u003e    \\\"chain_function_constant\\\": 0.05967861154397502,\\u003cbr\\u003e    \\\"optimizer\\\": \\\"SGD\\\",\\u003cbr\\u003e    \\\"learning_rate\\\": 0.08789383681987242,\\u003cbr\\u003e    \\\"forecast_distribution\\\": \\\"distr_gev\\\",\\u003cbr\\u003e    \\\"perform_batching\\\": true,\\u003cbr\\u003e    \\\"batch_size\\\": 529,\\u003cbr\\u003e    \\\"epochs\\\": 49\\u003cbr\\u003e  }\\u003cbr\\u003e}\",\"{\\u003cbr\\u003e  \\\"number\\\": 150,\\u003cbr\\u003e  \\\"values\\\": [\\u003cbr\\u003e    0.8959908485412598,\\u003cbr\\u003e    0.06184663623571396\\u003cbr\\u003e  ],\\u003cbr\\u003e  \\\"params\\\": {\\u003cbr\\u003e    \\\"chain_function_mean\\\": 8.638038521044445,\\u003cbr\\u003e    \\\"chain_function_std\\\": 1.8724014677823655,\\u003cbr\\u003e    \\\"chain_function_constant\\\": 0.04183951010714849,\\u003cbr\\u003e    \\\"optimizer\\\": \\\"SGD\\\",\\u003cbr\\u003e    \\\"learning_rate\\\": 0.07265144658393767,\\u003cbr\\u003e    \\\"forecast_distribution\\\": \\\"distr_gev\\\",\\u003cbr\\u003e    \\\"perform_batching\\\": true,\\u003cbr\\u003e    \\\"batch_size\\\": 108,\\u003cbr\\u003e    \\\"epochs\\\": 168\\u003cbr\\u003e  }\\u003cbr\\u003e}\",\"{\\u003cbr\\u003e  \\\"number\\\": 151,\\u003cbr\\u003e  \\\"values\\\": [\\u003cbr\\u003e    0.9234844446182251,\\u003cbr\\u003e    0.0641126036643982\\u003cbr\\u003e  ],\\u003cbr\\u003e  \\\"params\\\": {\\u003cbr\\u003e    \\\"chain_function_mean\\\": 9.622737542842787,\\u003cbr\\u003e    \\\"chain_function_std\\\": 1.1627318812280265,\\u003cbr\\u003e    \\\"chain_function_constant\\\": 0.03617132077674787,\\u003cbr\\u003e    \\\"optimizer\\\": \\\"SGD\\\",\\u003cbr\\u003e    \\\"learning_rate\\\": 0.07271811429912109,\\u003cbr\\u003e    \\\"forecast_distribution\\\": \\\"distr_gev\\\",\\u003cbr\\u003e    \\\"perform_batching\\\": true,\\u003cbr\\u003e    \\\"batch_size\\\": 334,\\u003cbr\\u003e    \\\"epochs\\\": 64\\u003cbr\\u003e  }\\u003cbr\\u003e}\",\"{\\u003cbr\\u003e  \\\"number\\\": 152,\\u003cbr\\u003e  \\\"values\\\": [\\u003cbr\\u003e    0.890654444694519,\\u003cbr\\u003e    0.06288901716470718\\u003cbr\\u003e  ],\\u003cbr\\u003e  \\\"params\\\": {\\u003cbr\\u003e    \\\"chain_function_mean\\\": 3.3952231501528383,\\u003cbr\\u003e    \\\"chain_function_std\\\": 1.558287946667837,\\u003cbr\\u003e    \\\"chain_function_constant\\\": 0.0751013767198406,\\u003cbr\\u003e    \\\"optimizer\\\": \\\"SGD\\\",\\u003cbr\\u003e    \\\"learning_rate\\\": 0.06934393819488556,\\u003cbr\\u003e    \\\"forecast_distribution\\\": \\\"distr_gev\\\",\\u003cbr\\u003e    \\\"perform_batching\\\": true,\\u003cbr\\u003e    \\\"batch_size\\\": 145,\\u003cbr\\u003e    \\\"epochs\\\": 87\\u003cbr\\u003e  }\\u003cbr\\u003e}\",\"{\\u003cbr\\u003e  \\\"number\\\": 153,\\u003cbr\\u003e  \\\"values\\\": [\\u003cbr\\u003e    1.4062246084213257,\\u003cbr\\u003e    0.0813368558883667\\u003cbr\\u003e  ],\\u003cbr\\u003e  \\\"params\\\": {\\u003cbr\\u003e    \\\"chain_function_mean\\\": 8.92203933692755,\\u003cbr\\u003e    \\\"chain_function_std\\\": 1.695184172260047,\\u003cbr\\u003e    \\\"chain_function_constant\\\": 0.029936225823441416,\\u003cbr\\u003e    \\\"optimizer\\\": \\\"SGD\\\",\\u003cbr\\u003e    \\\"learning_rate\\\": 0.07584021694269653,\\u003cbr\\u003e    \\\"forecast_distribution\\\": \\\"distr_gev\\\",\\u003cbr\\u003e    \\\"perform_batching\\\": true,\\u003cbr\\u003e    \\\"batch_size\\\": 747,\\u003cbr\\u003e    \\\"epochs\\\": 33\\u003cbr\\u003e  }\\u003cbr\\u003e}\",\"{\\u003cbr\\u003e  \\\"number\\\": 155,\\u003cbr\\u003e  \\\"values\\\": [\\u003cbr\\u003e    0.9608001708984375,\\u003cbr\\u003e    0.061280641704797745\\u003cbr\\u003e  ],\\u003cbr\\u003e  \\\"params\\\": {\\u003cbr\\u003e    \\\"chain_function_mean\\\": 10.303645117922436,\\u003cbr\\u003e    \\\"chain_function_std\\\": 1.2889763619207142,\\u003cbr\\u003e    \\\"chain_function_constant\\\": 0.0015863622238470522,\\u003cbr\\u003e    \\\"optimizer\\\": \\\"SGD\\\",\\u003cbr\\u003e    \\\"learning_rate\\\": 0.07883223082261465,\\u003cbr\\u003e    \\\"forecast_distribution\\\": \\\"distr_gev\\\",\\u003cbr\\u003e    \\\"perform_batching\\\": true,\\u003cbr\\u003e    \\\"batch_size\\\": 73,\\u003cbr\\u003e    \\\"epochs\\\": 66\\u003cbr\\u003e  }\\u003cbr\\u003e}\",\"{\\u003cbr\\u003e  \\\"number\\\": 156,\\u003cbr\\u003e  \\\"values\\\": [\\u003cbr\\u003e    0.8896496891975403,\\u003cbr\\u003e    0.06206654757261276\\u003cbr\\u003e  ],\\u003cbr\\u003e  \\\"params\\\": {\\u003cbr\\u003e    \\\"chain_function_mean\\\": 7.820317296713474,\\u003cbr\\u003e    \\\"chain_function_std\\\": 1.912459846105143,\\u003cbr\\u003e    \\\"chain_function_constant\\\": 0.050511669955710894,\\u003cbr\\u003e    \\\"optimizer\\\": \\\"SGD\\\",\\u003cbr\\u003e    \\\"learning_rate\\\": 0.06578909036201226,\\u003cbr\\u003e    \\\"forecast_distribution\\\": \\\"distr_trunc_normal\\\",\\u003cbr\\u003e    \\\"perform_batching\\\": true,\\u003cbr\\u003e    \\\"batch_size\\\": 257,\\u003cbr\\u003e    \\\"epochs\\\": 191\\u003cbr\\u003e  }\\u003cbr\\u003e}\",\"{\\u003cbr\\u003e  \\\"number\\\": 157,\\u003cbr\\u003e  \\\"values\\\": [\\u003cbr\\u003e    0.9014092087745667,\\u003cbr\\u003e    0.061570391058921814\\u003cbr\\u003e  ],\\u003cbr\\u003e  \\\"params\\\": {\\u003cbr\\u003e    \\\"chain_function_mean\\\": 9.35281942382267,\\u003cbr\\u003e    \\\"chain_function_std\\\": 2.0891846413586403,\\u003cbr\\u003e    \\\"chain_function_constant\\\": 0.028039770184294727,\\u003cbr\\u003e    \\\"optimizer\\\": \\\"SGD\\\",\\u003cbr\\u003e    \\\"learning_rate\\\": 0.06800372156137748,\\u003cbr\\u003e    \\\"forecast_distribution\\\": \\\"distr_gev\\\",\\u003cbr\\u003e    \\\"perform_batching\\\": true,\\u003cbr\\u003e    \\\"batch_size\\\": 77,\\u003cbr\\u003e    \\\"epochs\\\": 160\\u003cbr\\u003e  }\\u003cbr\\u003e}\",\"{\\u003cbr\\u003e  \\\"number\\\": 158,\\u003cbr\\u003e  \\\"values\\\": [\\u003cbr\\u003e    0.8886426687240601,\\u003cbr\\u003e    0.06279639899730682\\u003cbr\\u003e  ],\\u003cbr\\u003e  \\\"params\\\": {\\u003cbr\\u003e    \\\"chain_function_mean\\\": 10.016445494334725,\\u003cbr\\u003e    \\\"chain_function_std\\\": 2.1057871881082066,\\u003cbr\\u003e    \\\"chain_function_constant\\\": 0.2966383208047883,\\u003cbr\\u003e    \\\"optimizer\\\": \\\"SGD\\\",\\u003cbr\\u003e    \\\"learning_rate\\\": 0.06820975467922354,\\u003cbr\\u003e    \\\"forecast_distribution\\\": \\\"distr_gev\\\",\\u003cbr\\u003e    \\\"perform_batching\\\": true,\\u003cbr\\u003e    \\\"batch_size\\\": 80,\\u003cbr\\u003e    \\\"epochs\\\": 209\\u003cbr\\u003e  }\\u003cbr\\u003e}\",\"{\\u003cbr\\u003e  \\\"number\\\": 162,\\u003cbr\\u003e  \\\"values\\\": [\\u003cbr\\u003e    0.8892707228660583,\\u003cbr\\u003e    0.06278844177722931\\u003cbr\\u003e  ],\\u003cbr\\u003e  \\\"params\\\": {\\u003cbr\\u003e    \\\"chain_function_mean\\\": 9.401690376799667,\\u003cbr\\u003e    \\\"chain_function_std\\\": 2.181228727318569,\\u003cbr\\u003e    \\\"chain_function_constant\\\": 0.1406512450746255,\\u003cbr\\u003e    \\\"optimizer\\\": \\\"SGD\\\",\\u003cbr\\u003e    \\\"learning_rate\\\": 0.07760772830099177,\\u003cbr\\u003e    \\\"forecast_distribution\\\": \\\"distr_gev\\\",\\u003cbr\\u003e    \\\"perform_batching\\\": true,\\u003cbr\\u003e    \\\"batch_size\\\": 139,\\u003cbr\\u003e    \\\"epochs\\\": 163\\u003cbr\\u003e  }\\u003cbr\\u003e}\",\"{\\u003cbr\\u003e  \\\"number\\\": 163,\\u003cbr\\u003e  \\\"values\\\": [\\u003cbr\\u003e    0.8897851705551147,\\u003cbr\\u003e    0.06200406700372696\\u003cbr\\u003e  ],\\u003cbr\\u003e  \\\"params\\\": {\\u003cbr\\u003e    \\\"chain_function_mean\\\": 8.841747980325957,\\u003cbr\\u003e    \\\"chain_function_std\\\": 1.7756848746366052,\\u003cbr\\u003e    \\\"chain_function_constant\\\": 0.09983253259684038,\\u003cbr\\u003e    \\\"optimizer\\\": \\\"SGD\\\",\\u003cbr\\u003e    \\\"learning_rate\\\": 0.07062725085474708,\\u003cbr\\u003e    \\\"forecast_distribution\\\": \\\"distr_gev\\\",\\u003cbr\\u003e    \\\"perform_batching\\\": true,\\u003cbr\\u003e    \\\"batch_size\\\": 198,\\u003cbr\\u003e    \\\"epochs\\\": 135\\u003cbr\\u003e  }\\u003cbr\\u003e}\",\"{\\u003cbr\\u003e  \\\"number\\\": 164,\\u003cbr\\u003e  \\\"values\\\": [\\u003cbr\\u003e    0.8930496573448181,\\u003cbr\\u003e    0.06340416520833969\\u003cbr\\u003e  ],\\u003cbr\\u003e  \\\"params\\\": {\\u003cbr\\u003e    \\\"chain_function_mean\\\": 9.738794563784204,\\u003cbr\\u003e    \\\"chain_function_std\\\": 1.3591142476185143,\\u003cbr\\u003e    \\\"chain_function_constant\\\": 0.32168739530321855,\\u003cbr\\u003e    \\\"optimizer\\\": \\\"SGD\\\",\\u003cbr\\u003e    \\\"learning_rate\\\": 0.06819914273062161,\\u003cbr\\u003e    \\\"forecast_distribution\\\": \\\"distr_trunc_normal\\\",\\u003cbr\\u003e    \\\"perform_batching\\\": true,\\u003cbr\\u003e    \\\"batch_size\\\": 3,\\u003cbr\\u003e    \\\"epochs\\\": 223\\u003cbr\\u003e  }\\u003cbr\\u003e}\",\"{\\u003cbr\\u003e  \\\"number\\\": 165,\\u003cbr\\u003e  \\\"values\\\": [\\u003cbr\\u003e    0.8894932270050049,\\u003cbr\\u003e    0.06215747445821762\\u003cbr\\u003e  ],\\u003cbr\\u003e  \\\"params\\\": {\\u003cbr\\u003e    \\\"chain_function_mean\\\": 10.76734169007829,\\u003cbr\\u003e    \\\"chain_function_std\\\": 1.3691371484234551,\\u003cbr\\u003e    \\\"chain_function_constant\\\": 0.08153649489191737,\\u003cbr\\u003e    \\\"optimizer\\\": \\\"SGD\\\",\\u003cbr\\u003e    \\\"learning_rate\\\": 0.07151943631444592,\\u003cbr\\u003e    \\\"forecast_distribution\\\": \\\"distr_gev\\\",\\u003cbr\\u003e    \\\"perform_batching\\\": true,\\u003cbr\\u003e    \\\"batch_size\\\": 74,\\u003cbr\\u003e    \\\"epochs\\\": 253\\u003cbr\\u003e  }\\u003cbr\\u003e}\",\"{\\u003cbr\\u003e  \\\"number\\\": 166,\\u003cbr\\u003e  \\\"values\\\": [\\u003cbr\\u003e    0.9070369601249695,\\u003cbr\\u003e    0.0669948160648346\\u003cbr\\u003e  ],\\u003cbr\\u003e  \\\"params\\\": {\\u003cbr\\u003e    \\\"chain_function_mean\\\": 8.378489449447933,\\u003cbr\\u003e    \\\"chain_function_std\\\": 1.4629631766773685,\\u003cbr\\u003e    \\\"chain_function_constant\\\": 0.024320067964420673,\\u003cbr\\u003e    \\\"optimizer\\\": \\\"SGD\\\",\\u003cbr\\u003e    \\\"learning_rate\\\": 0.07541560443869307,\\u003cbr\\u003e    \\\"forecast_distribution\\\": \\\"distr_gev\\\",\\u003cbr\\u003e    \\\"perform_batching\\\": true,\\u003cbr\\u003e    \\\"batch_size\\\": 114,\\u003cbr\\u003e    \\\"epochs\\\": 112\\u003cbr\\u003e  }\\u003cbr\\u003e}\",\"{\\u003cbr\\u003e  \\\"number\\\": 168,\\u003cbr\\u003e  \\\"values\\\": [\\u003cbr\\u003e    0.8917734622955322,\\u003cbr\\u003e    0.06175415217876434\\u003cbr\\u003e  ],\\u003cbr\\u003e  \\\"params\\\": {\\u003cbr\\u003e    \\\"chain_function_mean\\\": 9.413015070115051,\\u003cbr\\u003e    \\\"chain_function_std\\\": 2.2366846320366904,\\u003cbr\\u003e    \\\"chain_function_constant\\\": 0.06058430294341945,\\u003cbr\\u003e    \\\"optimizer\\\": \\\"Adam\\\",\\u003cbr\\u003e    \\\"learning_rate\\\": 0.07416043201063358,\\u003cbr\\u003e    \\\"forecast_distribution\\\": \\\"distr_trunc_normal\\\",\\u003cbr\\u003e    \\\"perform_batching\\\": false,\\u003cbr\\u003e    \\\"epochs\\\": 288\\u003cbr\\u003e  }\\u003cbr\\u003e}\",\"{\\u003cbr\\u003e  \\\"number\\\": 169,\\u003cbr\\u003e  \\\"values\\\": [\\u003cbr\\u003e    0.88837730884552,\\u003cbr\\u003e    0.0625687688589096\\u003cbr\\u003e  ],\\u003cbr\\u003e  \\\"params\\\": {\\u003cbr\\u003e    \\\"chain_function_mean\\\": 9.409599278942174,\\u003cbr\\u003e    \\\"chain_function_std\\\": 2.070069623565504,\\u003cbr\\u003e    \\\"chain_function_constant\\\": 0.36070916091664834,\\u003cbr\\u003e    \\\"optimizer\\\": \\\"Adam\\\",\\u003cbr\\u003e    \\\"learning_rate\\\": 0.06515616580287949,\\u003cbr\\u003e    \\\"forecast_distribution\\\": \\\"distr_gev\\\",\\u003cbr\\u003e    \\\"perform_batching\\\": false,\\u003cbr\\u003e    \\\"epochs\\\": 174\\u003cbr\\u003e  }\\u003cbr\\u003e}\",\"{\\u003cbr\\u003e  \\\"number\\\": 170,\\u003cbr\\u003e  \\\"values\\\": [\\u003cbr\\u003e    0.8904653191566467,\\u003cbr\\u003e    0.06217951327562332\\u003cbr\\u003e  ],\\u003cbr\\u003e  \\\"params\\\": {\\u003cbr\\u003e    \\\"chain_function_mean\\\": 8.597251566255206,\\u003cbr\\u003e    \\\"chain_function_std\\\": 2.2271260356656133,\\u003cbr\\u003e    \\\"chain_function_constant\\\": 0.09953443970683139,\\u003cbr\\u003e    \\\"optimizer\\\": \\\"Adam\\\",\\u003cbr\\u003e    \\\"learning_rate\\\": 0.07224348377108276,\\u003cbr\\u003e    \\\"forecast_distribution\\\": \\\"distr_gev\\\",\\u003cbr\\u003e    \\\"perform_batching\\\": false,\\u003cbr\\u003e    \\\"epochs\\\": 217\\u003cbr\\u003e  }\\u003cbr\\u003e}\",\"{\\u003cbr\\u003e  \\\"number\\\": 172,\\u003cbr\\u003e  \\\"values\\\": [\\u003cbr\\u003e    0.8926184177398682,\\u003cbr\\u003e    0.062103934586048126\\u003cbr\\u003e  ],\\u003cbr\\u003e  \\\"params\\\": {\\u003cbr\\u003e    \\\"chain_function_mean\\\": 8.777471394518415,\\u003cbr\\u003e    \\\"chain_function_std\\\": 2.654833334212287,\\u003cbr\\u003e    \\\"chain_function_constant\\\": 0.05201452850506149,\\u003cbr\\u003e    \\\"optimizer\\\": \\\"SGD\\\",\\u003cbr\\u003e    \\\"learning_rate\\\": 0.07369799784380845,\\u003cbr\\u003e    \\\"forecast_distribution\\\": \\\"distr_gev\\\",\\u003cbr\\u003e    \\\"perform_batching\\\": true,\\u003cbr\\u003e    \\\"batch_size\\\": 166,\\u003cbr\\u003e    \\\"epochs\\\": 286\\u003cbr\\u003e  }\\u003cbr\\u003e}\",\"{\\u003cbr\\u003e  \\\"number\\\": 173,\\u003cbr\\u003e  \\\"values\\\": [\\u003cbr\\u003e    0.8887767195701599,\\u003cbr\\u003e    0.06282711029052734\\u003cbr\\u003e  ],\\u003cbr\\u003e  \\\"params\\\": {\\u003cbr\\u003e    \\\"chain_function_mean\\\": 9.272552290167017,\\u003cbr\\u003e    \\\"chain_function_std\\\": 1.9725737030462835,\\u003cbr\\u003e    \\\"chain_function_constant\\\": 0.41568831056426325,\\u003cbr\\u003e    \\\"optimizer\\\": \\\"SGD\\\",\\u003cbr\\u003e    \\\"learning_rate\\\": 0.06686831026109503,\\u003cbr\\u003e    \\\"forecast_distribution\\\": \\\"distr_gev\\\",\\u003cbr\\u003e    \\\"perform_batching\\\": true,\\u003cbr\\u003e    \\\"batch_size\\\": 102,\\u003cbr\\u003e    \\\"epochs\\\": 321\\u003cbr\\u003e  }\\u003cbr\\u003e}\",\"{\\u003cbr\\u003e  \\\"number\\\": 176,\\u003cbr\\u003e  \\\"values\\\": [\\u003cbr\\u003e    0.8892902135848999,\\u003cbr\\u003e    0.06203865259885788\\u003cbr\\u003e  ],\\u003cbr\\u003e  \\\"params\\\": {\\u003cbr\\u003e    \\\"chain_function_mean\\\": 11.397020004988814,\\u003cbr\\u003e    \\\"chain_function_std\\\": 2.5395457934377363,\\u003cbr\\u003e    \\\"chain_function_constant\\\": 0.06813066574050868,\\u003cbr\\u003e    \\\"optimizer\\\": \\\"Adam\\\",\\u003cbr\\u003e    \\\"learning_rate\\\": 0.07846068073434855,\\u003cbr\\u003e    \\\"forecast_distribution\\\": \\\"distr_mixture\\\",\\u003cbr\\u003e    \\\"distribution_1\\\": \\\"distr_trunc_normal\\\",\\u003cbr\\u003e    \\\"distribution_2\\\": \\\"distr_gev\\\",\\u003cbr\\u003e    \\\"perform_batching\\\": false,\\u003cbr\\u003e    \\\"epochs\\\": 177\\u003cbr\\u003e  }\\u003cbr\\u003e}\",\"{\\u003cbr\\u003e  \\\"number\\\": 178,\\u003cbr\\u003e  \\\"values\\\": [\\u003cbr\\u003e    0.8939133286476135,\\u003cbr\\u003e    0.06176123023033142\\u003cbr\\u003e  ],\\u003cbr\\u003e  \\\"params\\\": {\\u003cbr\\u003e    \\\"chain_function_mean\\\": 10.2448376782202,\\u003cbr\\u003e    \\\"chain_function_std\\\": 2.8256408751688835,\\u003cbr\\u003e    \\\"chain_function_constant\\\": 0.03439490976863137,\\u003cbr\\u003e    \\\"optimizer\\\": \\\"Adam\\\",\\u003cbr\\u003e    \\\"learning_rate\\\": 0.07465836377834048,\\u003cbr\\u003e    \\\"forecast_distribution\\\": \\\"distr_mixture\\\",\\u003cbr\\u003e    \\\"distribution_1\\\": \\\"distr_trunc_normal\\\",\\u003cbr\\u003e    \\\"distribution_2\\\": \\\"distr_gev\\\",\\u003cbr\\u003e    \\\"perform_batching\\\": false,\\u003cbr\\u003e    \\\"epochs\\\": 145\\u003cbr\\u003e  }\\u003cbr\\u003e}\",\"{\\u003cbr\\u003e  \\\"number\\\": 179,\\u003cbr\\u003e  \\\"values\\\": [\\u003cbr\\u003e    0.8969019651412964,\\u003cbr\\u003e    0.061713896691799164\\u003cbr\\u003e  ],\\u003cbr\\u003e  \\\"params\\\": {\\u003cbr\\u003e    \\\"chain_function_mean\\\": 10.737531027774587,\\u003cbr\\u003e    \\\"chain_function_std\\\": 2.4800394036169457,\\u003cbr\\u003e    \\\"chain_function_constant\\\": 0.027090410645937226,\\u003cbr\\u003e    \\\"optimizer\\\": \\\"Adam\\\",\\u003cbr\\u003e    \\\"learning_rate\\\": 0.07097876239228859,\\u003cbr\\u003e    \\\"forecast_distribution\\\": \\\"distr_mixture\\\",\\u003cbr\\u003e    \\\"distribution_1\\\": \\\"distr_trunc_normal\\\",\\u003cbr\\u003e    \\\"distribution_2\\\": \\\"distr_gev\\\",\\u003cbr\\u003e    \\\"perform_batching\\\": false,\\u003cbr\\u003e    \\\"epochs\\\": 191\\u003cbr\\u003e  }\\u003cbr\\u003e}\",\"{\\u003cbr\\u003e  \\\"number\\\": 180,\\u003cbr\\u003e  \\\"values\\\": [\\u003cbr\\u003e    0.893990159034729,\\u003cbr\\u003e    0.061915017664432526\\u003cbr\\u003e  ],\\u003cbr\\u003e  \\\"params\\\": {\\u003cbr\\u003e    \\\"chain_function_mean\\\": 10.357525911282744,\\u003cbr\\u003e    \\\"chain_function_std\\\": 2.6662665692894105,\\u003cbr\\u003e    \\\"chain_function_constant\\\": 0.055044397529735306,\\u003cbr\\u003e    \\\"optimizer\\\": \\\"Adam\\\",\\u003cbr\\u003e    \\\"learning_rate\\\": 0.0738924536204005,\\u003cbr\\u003e    \\\"forecast_distribution\\\": \\\"distr_mixture\\\",\\u003cbr\\u003e    \\\"distribution_1\\\": \\\"distr_trunc_normal\\\",\\u003cbr\\u003e    \\\"distribution_2\\\": \\\"distr_gev\\\",\\u003cbr\\u003e    \\\"perform_batching\\\": false,\\u003cbr\\u003e    \\\"epochs\\\": 117\\u003cbr\\u003e  }\\u003cbr\\u003e}\",\"{\\u003cbr\\u003e  \\\"number\\\": 181,\\u003cbr\\u003e  \\\"values\\\": [\\u003cbr\\u003e    0.8887014389038086,\\u003cbr\\u003e    0.061884790658950806\\u003cbr\\u003e  ],\\u003cbr\\u003e  \\\"params\\\": {\\u003cbr\\u003e    \\\"chain_function_mean\\\": 11.313435722664408,\\u003cbr\\u003e    \\\"chain_function_std\\\": 2.808245148343113,\\u003cbr\\u003e    \\\"chain_function_constant\\\": 0.10589683393165908,\\u003cbr\\u003e    \\\"optimizer\\\": \\\"Adam\\\",\\u003cbr\\u003e    \\\"learning_rate\\\": 0.07200486303185627,\\u003cbr\\u003e    \\\"forecast_distribution\\\": \\\"distr_mixture\\\",\\u003cbr\\u003e    \\\"distribution_1\\\": \\\"distr_trunc_normal\\\",\\u003cbr\\u003e    \\\"distribution_2\\\": \\\"distr_gev\\\",\\u003cbr\\u003e    \\\"perform_batching\\\": false,\\u003cbr\\u003e    \\\"epochs\\\": 247\\u003cbr\\u003e  }\\u003cbr\\u003e}\",\"{\\u003cbr\\u003e  \\\"number\\\": 183,\\u003cbr\\u003e  \\\"values\\\": [\\u003cbr\\u003e    0.8977801203727722,\\u003cbr\\u003e    0.06170792877674103\\u003cbr\\u003e  ],\\u003cbr\\u003e  \\\"params\\\": {\\u003cbr\\u003e    \\\"chain_function_mean\\\": 11.355208373315095,\\u003cbr\\u003e    \\\"chain_function_std\\\": 2.470831893101625,\\u003cbr\\u003e    \\\"chain_function_constant\\\": 0.024257723404986976,\\u003cbr\\u003e    \\\"optimizer\\\": \\\"Adam\\\",\\u003cbr\\u003e    \\\"learning_rate\\\": 0.0713660804849413,\\u003cbr\\u003e    \\\"forecast_distribution\\\": \\\"distr_mixture\\\",\\u003cbr\\u003e    \\\"distribution_1\\\": \\\"distr_trunc_normal\\\",\\u003cbr\\u003e    \\\"distribution_2\\\": \\\"distr_gev\\\",\\u003cbr\\u003e    \\\"perform_batching\\\": false,\\u003cbr\\u003e    \\\"epochs\\\": 245\\u003cbr\\u003e  }\\u003cbr\\u003e}\",\"{\\u003cbr\\u003e  \\\"number\\\": 184,\\u003cbr\\u003e  \\\"values\\\": [\\u003cbr\\u003e    0.8924611210823059,\\u003cbr\\u003e    0.062125205993652344\\u003cbr\\u003e  ],\\u003cbr\\u003e  \\\"params\\\": {\\u003cbr\\u003e    \\\"chain_function_mean\\\": 11.751501780620025,\\u003cbr\\u003e    \\\"chain_function_std\\\": 2.8654395443186917,\\u003cbr\\u003e    \\\"chain_function_constant\\\": 0.05896813961064309,\\u003cbr\\u003e    \\\"optimizer\\\": \\\"Adam\\\",\\u003cbr\\u003e    \\\"learning_rate\\\": 0.0822166281029806,\\u003cbr\\u003e    \\\"forecast_distribution\\\": \\\"distr_mixture\\\",\\u003cbr\\u003e    \\\"distribution_1\\\": \\\"distr_trunc_normal\\\",\\u003cbr\\u003e    \\\"distribution_2\\\": \\\"distr_gev\\\",\\u003cbr\\u003e    \\\"perform_batching\\\": false,\\u003cbr\\u003e    \\\"epochs\\\": 161\\u003cbr\\u003e  }\\u003cbr\\u003e}\",\"{\\u003cbr\\u003e  \\\"number\\\": 186,\\u003cbr\\u003e  \\\"values\\\": [\\u003cbr\\u003e    2.1063950061798096,\\u003cbr\\u003e    0.12236781418323517\\u003cbr\\u003e  ],\\u003cbr\\u003e  \\\"params\\\": {\\u003cbr\\u003e    \\\"chain_function_mean\\\": 9.772978094252741,\\u003cbr\\u003e    \\\"chain_function_std\\\": 4.8118259698000525,\\u003cbr\\u003e    \\\"chain_function_constant\\\": 0.7708909062135072,\\u003cbr\\u003e    \\\"optimizer\\\": \\\"Adam\\\",\\u003cbr\\u003e    \\\"learning_rate\\\": 0.07996840118918765,\\u003cbr\\u003e    \\\"forecast_distribution\\\": \\\"distr_mixture\\\",\\u003cbr\\u003e    \\\"distribution_1\\\": \\\"distr_log_normal\\\",\\u003cbr\\u003e    \\\"distribution_2\\\": \\\"distr_log_normal\\\",\\u003cbr\\u003e    \\\"perform_batching\\\": false,\\u003cbr\\u003e    \\\"epochs\\\": 19\\u003cbr\\u003e  }\\u003cbr\\u003e}\",\"{\\u003cbr\\u003e  \\\"number\\\": 187,\\u003cbr\\u003e  \\\"values\\\": [\\u003cbr\\u003e    0.9035094380378723,\\u003cbr\\u003e    0.06560014933347702\\u003cbr\\u003e  ],\\u003cbr\\u003e  \\\"params\\\": {\\u003cbr\\u003e    \\\"chain_function_mean\\\": 4.591331740710812,\\u003cbr\\u003e    \\\"chain_function_std\\\": 0.8579345459775933,\\u003cbr\\u003e    \\\"chain_function_constant\\\": 0.26406639709302504,\\u003cbr\\u003e    \\\"optimizer\\\": \\\"Adam\\\",\\u003cbr\\u003e    \\\"learning_rate\\\": 0.07691180293513987,\\u003cbr\\u003e    \\\"forecast_distribution\\\": \\\"distr_mixture\\\",\\u003cbr\\u003e    \\\"distribution_1\\\": \\\"distr_log_normal\\\",\\u003cbr\\u003e    \\\"distribution_2\\\": \\\"distr_log_normal\\\",\\u003cbr\\u003e    \\\"perform_batching\\\": false,\\u003cbr\\u003e    \\\"epochs\\\": 79\\u003cbr\\u003e  }\\u003cbr\\u003e}\",\"{\\u003cbr\\u003e  \\\"number\\\": 188,\\u003cbr\\u003e  \\\"values\\\": [\\u003cbr\\u003e    1.1334537267684937,\\u003cbr\\u003e    0.0707678496837616\\u003cbr\\u003e  ],\\u003cbr\\u003e  \\\"params\\\": {\\u003cbr\\u003e    \\\"chain_function_mean\\\": 1.3504591691737087,\\u003cbr\\u003e    \\\"chain_function_std\\\": 4.517075249767327,\\u003cbr\\u003e    \\\"chain_function_constant\\\": 0.7262135359004349,\\u003cbr\\u003e    \\\"optimizer\\\": \\\"Adam\\\",\\u003cbr\\u003e    \\\"learning_rate\\\": 0.08367544657837914,\\u003cbr\\u003e    \\\"forecast_distribution\\\": \\\"distr_log_normal\\\",\\u003cbr\\u003e    \\\"perform_batching\\\": false,\\u003cbr\\u003e    \\\"epochs\\\": 39\\u003cbr\\u003e  }\\u003cbr\\u003e}\",\"{\\u003cbr\\u003e  \\\"number\\\": 189,\\u003cbr\\u003e  \\\"values\\\": [\\u003cbr\\u003e    0.92734694480896,\\u003cbr\\u003e    0.06909239292144775\\u003cbr\\u003e  ],\\u003cbr\\u003e  \\\"params\\\": {\\u003cbr\\u003e    \\\"chain_function_mean\\\": 5.614330974148743,\\u003cbr\\u003e    \\\"chain_function_std\\\": 1.062516244272309,\\u003cbr\\u003e    \\\"chain_function_constant\\\": 0.9029152818923702,\\u003cbr\\u003e    \\\"optimizer\\\": \\\"Adam\\\",\\u003cbr\\u003e    \\\"learning_rate\\\": 0.07940387889612752,\\u003cbr\\u003e    \\\"forecast_distribution\\\": \\\"distr_mixture\\\",\\u003cbr\\u003e    \\\"distribution_1\\\": \\\"distr_trunc_normal\\\",\\u003cbr\\u003e    \\\"distribution_2\\\": \\\"distr_gev\\\",\\u003cbr\\u003e    \\\"perform_batching\\\": false,\\u003cbr\\u003e    \\\"epochs\\\": 105\\u003cbr\\u003e  }\\u003cbr\\u003e}\",\"{\\u003cbr\\u003e  \\\"number\\\": 190,\\u003cbr\\u003e  \\\"values\\\": [\\u003cbr\\u003e    0.8919409513473511,\\u003cbr\\u003e    0.06271540373563766\\u003cbr\\u003e  ],\\u003cbr\\u003e  \\\"params\\\": {\\u003cbr\\u003e    \\\"chain_function_mean\\\": 8.263521445681596,\\u003cbr\\u003e    \\\"chain_function_std\\\": 4.139840955215646,\\u003cbr\\u003e    \\\"chain_function_constant\\\": 0.5569187292553829,\\u003cbr\\u003e    \\\"optimizer\\\": \\\"Adam\\\",\\u003cbr\\u003e    \\\"learning_rate\\\": 0.07573488269145623,\\u003cbr\\u003e    \\\"forecast_distribution\\\": \\\"distr_log_normal\\\",\\u003cbr\\u003e    \\\"perform_batching\\\": false,\\u003cbr\\u003e    \\\"epochs\\\": 140\\u003cbr\\u003e  }\\u003cbr\\u003e}\",\"{\\u003cbr\\u003e  \\\"number\\\": 191,\\u003cbr\\u003e  \\\"values\\\": [\\u003cbr\\u003e    2.446683406829834,\\u003cbr\\u003e    0.10386265814304352\\u003cbr\\u003e  ],\\u003cbr\\u003e  \\\"params\\\": {\\u003cbr\\u003e    \\\"chain_function_mean\\\": 9.61733541907909,\\u003cbr\\u003e    \\\"chain_function_std\\\": 3.8477692633449365,\\u003cbr\\u003e    \\\"chain_function_constant\\\": 0.836033325668111,\\u003cbr\\u003e    \\\"optimizer\\\": \\\"Adam\\\",\\u003cbr\\u003e    \\\"learning_rate\\\": 0.07331729872979043,\\u003cbr\\u003e    \\\"forecast_distribution\\\": \\\"distr_mixture\\\",\\u003cbr\\u003e    \\\"distribution_1\\\": \\\"distr_log_normal\\\",\\u003cbr\\u003e    \\\"distribution_2\\\": \\\"distr_log_normal\\\",\\u003cbr\\u003e    \\\"perform_batching\\\": false,\\u003cbr\\u003e    \\\"epochs\\\": 12\\u003cbr\\u003e  }\\u003cbr\\u003e}\",\"{\\u003cbr\\u003e  \\\"number\\\": 192,\\u003cbr\\u003e  \\\"values\\\": [\\u003cbr\\u003e    1.2138087749481201,\\u003cbr\\u003e    0.07387175410985947\\u003cbr\\u003e  ],\\u003cbr\\u003e  \\\"params\\\": {\\u003cbr\\u003e    \\\"chain_function_mean\\\": 2.6071301135156197,\\u003cbr\\u003e    \\\"chain_function_std\\\": 3.6640703110224577,\\u003cbr\\u003e    \\\"chain_function_constant\\\": 0.6713589432078191,\\u003cbr\\u003e    \\\"optimizer\\\": \\\"Adam\\\",\\u003cbr\\u003e    \\\"learning_rate\\\": 0.01957875136178846,\\u003cbr\\u003e    \\\"forecast_distribution\\\": \\\"distr_trunc_normal\\\",\\u003cbr\\u003e    \\\"perform_batching\\\": false,\\u003cbr\\u003e    \\\"epochs\\\": 121\\u003cbr\\u003e  }\\u003cbr\\u003e}\",\"{\\u003cbr\\u003e  \\\"number\\\": 193,\\u003cbr\\u003e  \\\"values\\\": [\\u003cbr\\u003e    0.8906142115592957,\\u003cbr\\u003e    0.06276684999465942\\u003cbr\\u003e  ],\\u003cbr\\u003e  \\\"params\\\": {\\u003cbr\\u003e    \\\"chain_function_mean\\\": 8.47433755379109,\\u003cbr\\u003e    \\\"chain_function_std\\\": 1.644509099881525,\\u003cbr\\u003e    \\\"chain_function_constant\\\": 0.5001086793806573,\\u003cbr\\u003e    \\\"optimizer\\\": \\\"Adam\\\",\\u003cbr\\u003e    \\\"learning_rate\\\": 0.07078213388956583,\\u003cbr\\u003e    \\\"forecast_distribution\\\": \\\"distr_mixture\\\",\\u003cbr\\u003e    \\\"distribution_1\\\": \\\"distr_trunc_normal\\\",\\u003cbr\\u003e    \\\"distribution_2\\\": \\\"distr_gev\\\",\\u003cbr\\u003e    \\\"perform_batching\\\": false,\\u003cbr\\u003e    \\\"epochs\\\": 74\\u003cbr\\u003e  }\\u003cbr\\u003e}\",\"{\\u003cbr\\u003e  \\\"number\\\": 194,\\u003cbr\\u003e  \\\"values\\\": [\\u003cbr\\u003e    0.8931555151939392,\\u003cbr\\u003e    0.06345701962709427\\u003cbr\\u003e  ],\\u003cbr\\u003e  \\\"params\\\": {\\u003cbr\\u003e    \\\"chain_function_mean\\\": 0.9593784283599582,\\u003cbr\\u003e    \\\"chain_function_std\\\": 1.007302891399664,\\u003cbr\\u003e    \\\"chain_function_constant\\\": 0.021755097060089067,\\u003cbr\\u003e    \\\"optimizer\\\": \\\"Adam\\\",\\u003cbr\\u003e    \\\"learning_rate\\\": 0.07848156744352283,\\u003cbr\\u003e    \\\"forecast_distribution\\\": \\\"distr_trunc_normal\\\",\\u003cbr\\u003e    \\\"perform_batching\\\": false,\\u003cbr\\u003e    \\\"epochs\\\": 154\\u003cbr\\u003e  }\\u003cbr\\u003e}\",\"{\\u003cbr\\u003e  \\\"number\\\": 195,\\u003cbr\\u003e  \\\"values\\\": [\\u003cbr\\u003e    1.018057942390442,\\u003cbr\\u003e    0.06664898246526718\\u003cbr\\u003e  ],\\u003cbr\\u003e  \\\"params\\\": {\\u003cbr\\u003e    \\\"chain_function_mean\\\": 9.28730593390603,\\u003cbr\\u003e    \\\"chain_function_std\\\": 0.517661468218676,\\u003cbr\\u003e    \\\"chain_function_constant\\\": 0.4036604029005647,\\u003cbr\\u003e    \\\"optimizer\\\": \\\"Adam\\\",\\u003cbr\\u003e    \\\"learning_rate\\\": 0.07527115000575244,\\u003cbr\\u003e    \\\"forecast_distribution\\\": \\\"distr_log_normal\\\",\\u003cbr\\u003e    \\\"perform_batching\\\": false,\\u003cbr\\u003e    \\\"epochs\\\": 50\\u003cbr\\u003e  }\\u003cbr\\u003e}\",\"{\\u003cbr\\u003e  \\\"number\\\": 196,\\u003cbr\\u003e  \\\"values\\\": [\\u003cbr\\u003e    0.8905094861984253,\\u003cbr\\u003e    0.06336434185504913\\u003cbr\\u003e  ],\\u003cbr\\u003e  \\\"params\\\": {\\u003cbr\\u003e    \\\"chain_function_mean\\\": -0.47888085775283074,\\u003cbr\\u003e    \\\"chain_function_std\\\": 1.893993816050844,\\u003cbr\\u003e    \\\"chain_function_constant\\\": 0.03913716025063962,\\u003cbr\\u003e    \\\"optimizer\\\": \\\"Adam\\\",\\u003cbr\\u003e    \\\"learning_rate\\\": 0.07269538334831827,\\u003cbr\\u003e    \\\"forecast_distribution\\\": \\\"distr_mixture\\\",\\u003cbr\\u003e    \\\"distribution_1\\\": \\\"distr_gev\\\",\\u003cbr\\u003e    \\\"distribution_2\\\": \\\"distr_trunc_normal\\\",\\u003cbr\\u003e    \\\"perform_batching\\\": false,\\u003cbr\\u003e    \\\"epochs\\\": 344\\u003cbr\\u003e  }\\u003cbr\\u003e}\",\"{\\u003cbr\\u003e  \\\"number\\\": 197,\\u003cbr\\u003e  \\\"values\\\": [\\u003cbr\\u003e    3.653153419494629,\\u003cbr\\u003e    0.10980472713708878\\u003cbr\\u003e  ],\\u003cbr\\u003e  \\\"params\\\": {\\u003cbr\\u003e    \\\"chain_function_mean\\\": 9.612214434496648,\\u003cbr\\u003e    \\\"chain_function_std\\\": 2.2316546150442953,\\u003cbr\\u003e    \\\"chain_function_constant\\\": 0.021854721183338678,\\u003cbr\\u003e    \\\"optimizer\\\": \\\"Adam\\\",\\u003cbr\\u003e    \\\"learning_rate\\\": 0.00024367539108839653,\\u003cbr\\u003e    \\\"forecast_distribution\\\": \\\"distr_trunc_normal\\\",\\u003cbr\\u003e    \\\"perform_batching\\\": false,\\u003cbr\\u003e    \\\"epochs\\\": 23\\u003cbr\\u003e  }\\u003cbr\\u003e}\",\"{\\u003cbr\\u003e  \\\"number\\\": 198,\\u003cbr\\u003e  \\\"values\\\": [\\u003cbr\\u003e    0.8910238742828369,\\u003cbr\\u003e    0.06258007884025574\\u003cbr\\u003e  ],\\u003cbr\\u003e  \\\"params\\\": {\\u003cbr\\u003e    \\\"chain_function_mean\\\": 9.219681660104733,\\u003cbr\\u003e    \\\"chain_function_std\\\": 1.338386818594611,\\u003cbr\\u003e    \\\"chain_function_constant\\\": 0.7535771962788891,\\u003cbr\\u003e    \\\"optimizer\\\": \\\"Adam\\\",\\u003cbr\\u003e    \\\"learning_rate\\\": 0.06900348638552187,\\u003cbr\\u003e    \\\"forecast_distribution\\\": \\\"distr_mixture\\\",\\u003cbr\\u003e    \\\"distribution_1\\\": \\\"distr_log_normal\\\",\\u003cbr\\u003e    \\\"distribution_2\\\": \\\"distr_log_normal\\\",\\u003cbr\\u003e    \\\"perform_batching\\\": false,\\u003cbr\\u003e    \\\"epochs\\\": 379\\u003cbr\\u003e  }\\u003cbr\\u003e}\",\"{\\u003cbr\\u003e  \\\"number\\\": 199,\\u003cbr\\u003e  \\\"values\\\": [\\u003cbr\\u003e    2.10598087310791,\\u003cbr\\u003e    0.09954342246055603\\u003cbr\\u003e  ],\\u003cbr\\u003e  \\\"params\\\": {\\u003cbr\\u003e    \\\"chain_function_mean\\\": 3.7630431114142766,\\u003cbr\\u003e    \\\"chain_function_std\\\": 0.9266620186374177,\\u003cbr\\u003e    \\\"chain_function_constant\\\": 0.8784398520198535,\\u003cbr\\u003e    \\\"optimizer\\\": \\\"Adam\\\",\\u003cbr\\u003e    \\\"learning_rate\\\": 0.012808311576531402,\\u003cbr\\u003e    \\\"forecast_distribution\\\": \\\"distr_log_normal\\\",\\u003cbr\\u003e    \\\"perform_batching\\\": false,\\u003cbr\\u003e    \\\"epochs\\\": 110\\u003cbr\\u003e  }\\u003cbr\\u003e}\",\"{\\u003cbr\\u003e  \\\"number\\\": 201,\\u003cbr\\u003e  \\\"values\\\": [\\u003cbr\\u003e    0.8966854810714722,\\u003cbr\\u003e    0.06497050821781158\\u003cbr\\u003e  ],\\u003cbr\\u003e  \\\"params\\\": {\\u003cbr\\u003e    \\\"chain_function_mean\\\": 8.255475403612797,\\u003cbr\\u003e    \\\"chain_function_std\\\": 4.847702442254025,\\u003cbr\\u003e    \\\"chain_function_constant\\\": 0.6809462301166216,\\u003cbr\\u003e    \\\"optimizer\\\": \\\"SGD\\\",\\u003cbr\\u003e    \\\"learning_rate\\\": 0.07526888850325866,\\u003cbr\\u003e    \\\"forecast_distribution\\\": \\\"distr_mixture_linear\\\",\\u003cbr\\u003e    \\\"distribution_1\\\": \\\"distr_trunc_normal\\\",\\u003cbr\\u003e    \\\"distribution_2\\\": \\\"distr_gev\\\",\\u003cbr\\u003e    \\\"perform_batching\\\": true,\\u003cbr\\u003e    \\\"batch_size\\\": 243,\\u003cbr\\u003e    \\\"epochs\\\": 185\\u003cbr\\u003e  }\\u003cbr\\u003e}\",\"{\\u003cbr\\u003e  \\\"number\\\": 203,\\u003cbr\\u003e  \\\"values\\\": [\\u003cbr\\u003e    2.6475014686584473,\\u003cbr\\u003e    0.10474592447280884\\u003cbr\\u003e  ],\\u003cbr\\u003e  \\\"params\\\": {\\u003cbr\\u003e    \\\"chain_function_mean\\\": 9.00034566567481,\\u003cbr\\u003e    \\\"chain_function_std\\\": 0.6972335770012815,\\u003cbr\\u003e    \\\"chain_function_constant\\\": 0.0006576945206416844,\\u003cbr\\u003e    \\\"optimizer\\\": \\\"SGD\\\",\\u003cbr\\u003e    \\\"learning_rate\\\": 0.07165415472556615,\\u003cbr\\u003e    \\\"forecast_distribution\\\": \\\"distr_gev\\\",\\u003cbr\\u003e    \\\"perform_batching\\\": true,\\u003cbr\\u003e    \\\"batch_size\\\": 285,\\u003cbr\\u003e    \\\"epochs\\\": 1\\u003cbr\\u003e  }\\u003cbr\\u003e}\",\"{\\u003cbr\\u003e  \\\"number\\\": 204,\\u003cbr\\u003e  \\\"values\\\": [\\u003cbr\\u003e    0.8972417712211609,\\u003cbr\\u003e    0.06390256434679031\\u003cbr\\u003e  ],\\u003cbr\\u003e  \\\"params\\\": {\\u003cbr\\u003e    \\\"chain_function_mean\\\": 1.792601187166662,\\u003cbr\\u003e    \\\"chain_function_std\\\": 1.119612763348485,\\u003cbr\\u003e    \\\"chain_function_constant\\\": 0.02488633721285091,\\u003cbr\\u003e    \\\"optimizer\\\": \\\"Adam\\\",\\u003cbr\\u003e    \\\"learning_rate\\\": 0.06563644308533166,\\u003cbr\\u003e    \\\"forecast_distribution\\\": \\\"distr_trunc_normal\\\",\\u003cbr\\u003e    \\\"perform_batching\\\": false,\\u003cbr\\u003e    \\\"epochs\\\": 127\\u003cbr\\u003e  }\\u003cbr\\u003e}\",\"{\\u003cbr\\u003e  \\\"number\\\": 205,\\u003cbr\\u003e  \\\"values\\\": [\\u003cbr\\u003e    0.8884879946708679,\\u003cbr\\u003e    0.06273024529218674\\u003cbr\\u003e  ],\\u003cbr\\u003e  \\\"params\\\": {\\u003cbr\\u003e    \\\"chain_function_mean\\\": 14.077863815992375,\\u003cbr\\u003e    \\\"chain_function_std\\\": 1.745880936987006,\\u003cbr\\u003e    \\\"chain_function_constant\\\": 0.6126983713440429,\\u003cbr\\u003e    \\\"optimizer\\\": \\\"SGD\\\",\\u003cbr\\u003e    \\\"learning_rate\\\": 0.07744835182583858,\\u003cbr\\u003e    \\\"forecast_distribution\\\": \\\"distr_gev\\\",\\u003cbr\\u003e    \\\"perform_batching\\\": true,\\u003cbr\\u003e    \\\"batch_size\\\": 333,\\u003cbr\\u003e    \\\"epochs\\\": 28\\u003cbr\\u003e  }\\u003cbr\\u003e}\",\"{\\u003cbr\\u003e  \\\"number\\\": 206,\\u003cbr\\u003e  \\\"values\\\": [\\u003cbr\\u003e    0.9115565419197083,\\u003cbr\\u003e    0.06339651346206665\\u003cbr\\u003e  ],\\u003cbr\\u003e  \\\"params\\\": {\\u003cbr\\u003e    \\\"chain_function_mean\\\": 9.887685592604313,\\u003cbr\\u003e    \\\"chain_function_std\\\": 2.2863308333787336,\\u003cbr\\u003e    \\\"chain_function_constant\\\": 0.04267439096260655,\\u003cbr\\u003e    \\\"optimizer\\\": \\\"SGD\\\",\\u003cbr\\u003e    \\\"learning_rate\\\": 0.07328327074164602,\\u003cbr\\u003e    \\\"forecast_distribution\\\": \\\"distr_mixture\\\",\\u003cbr\\u003e    \\\"distribution_1\\\": \\\"distr_trunc_normal\\\",\\u003cbr\\u003e    \\\"distribution_2\\\": \\\"distr_gev\\\",\\u003cbr\\u003e    \\\"perform_batching\\\": true,\\u003cbr\\u003e    \\\"batch_size\\\": 470,\\u003cbr\\u003e    \\\"epochs\\\": 90\\u003cbr\\u003e  }\\u003cbr\\u003e}\",\"{\\u003cbr\\u003e  \\\"number\\\": 207,\\u003cbr\\u003e  \\\"values\\\": [\\u003cbr\\u003e    0.9034703969955444,\\u003cbr\\u003e    0.06188112497329712\\u003cbr\\u003e  ],\\u003cbr\\u003e  \\\"params\\\": {\\u003cbr\\u003e    \\\"chain_function_mean\\\": 8.51674472236115,\\u003cbr\\u003e    \\\"chain_function_std\\\": 2.0840181977581054,\\u003cbr\\u003e    \\\"chain_function_constant\\\": 0.023980392185558207,\\u003cbr\\u003e    \\\"optimizer\\\": \\\"Adam\\\",\\u003cbr\\u003e    \\\"learning_rate\\\": 0.06995267158908873,\\u003cbr\\u003e    \\\"forecast_distribution\\\": \\\"distr_mixture\\\",\\u003cbr\\u003e    \\\"distribution_1\\\": \\\"distr_trunc_normal\\\",\\u003cbr\\u003e    \\\"distribution_2\\\": \\\"distr_gev\\\",\\u003cbr\\u003e    \\\"perform_batching\\\": false,\\u003cbr\\u003e    \\\"epochs\\\": 73\\u003cbr\\u003e  }\\u003cbr\\u003e}\",\"{\\u003cbr\\u003e  \\\"number\\\": 208,\\u003cbr\\u003e  \\\"values\\\": [\\u003cbr\\u003e    1.024091124534607,\\u003cbr\\u003e    0.07153917849063873\\u003cbr\\u003e  ],\\u003cbr\\u003e  \\\"params\\\": {\\u003cbr\\u003e    \\\"chain_function_mean\\\": 9.4568390986762,\\u003cbr\\u003e    \\\"chain_function_std\\\": 4.478001139041185,\\u003cbr\\u003e    \\\"chain_function_constant\\\": 0.02411380215190688,\\u003cbr\\u003e    \\\"optimizer\\\": \\\"Adam\\\",\\u003cbr\\u003e    \\\"learning_rate\\\": 0.07172329531381914,\\u003cbr\\u003e    \\\"forecast_distribution\\\": \\\"distr_gev\\\",\\u003cbr\\u003e    \\\"perform_batching\\\": false,\\u003cbr\\u003e    \\\"epochs\\\": 39\\u003cbr\\u003e  }\\u003cbr\\u003e}\",\"{\\u003cbr\\u003e  \\\"number\\\": 209,\\u003cbr\\u003e  \\\"values\\\": [\\u003cbr\\u003e    0.8904293179512024,\\u003cbr\\u003e    0.06345252692699432\\u003cbr\\u003e  ],\\u003cbr\\u003e  \\\"params\\\": {\\u003cbr\\u003e    \\\"chain_function_mean\\\": -0.99178278941835,\\u003cbr\\u003e    \\\"chain_function_std\\\": 1.5873444600094444,\\u003cbr\\u003e    \\\"chain_function_constant\\\": 0.7945544283518,\\u003cbr\\u003e    \\\"optimizer\\\": \\\"SGD\\\",\\u003cbr\\u003e    \\\"learning_rate\\\": 0.0807635379604349,\\u003cbr\\u003e    \\\"forecast_distribution\\\": \\\"distr_gev\\\",\\u003cbr\\u003e    \\\"perform_batching\\\": true,\\u003cbr\\u003e    \\\"batch_size\\\": 370,\\u003cbr\\u003e    \\\"epochs\\\": 47\\u003cbr\\u003e  }\\u003cbr\\u003e}\",\"{\\u003cbr\\u003e  \\\"number\\\": 210,\\u003cbr\\u003e  \\\"values\\\": [\\u003cbr\\u003e    1.3064154386520386,\\u003cbr\\u003e    0.0916324257850647\\u003cbr\\u003e  ],\\u003cbr\\u003e  \\\"params\\\": {\\u003cbr\\u003e    \\\"chain_function_mean\\\": 8.829299404162228,\\u003cbr\\u003e    \\\"chain_function_std\\\": 1.2815936186541437,\\u003cbr\\u003e    \\\"chain_function_constant\\\": 0.4469431459526285,\\u003cbr\\u003e    \\\"optimizer\\\": \\\"SGD\\\",\\u003cbr\\u003e    \\\"learning_rate\\\": 0.004064827569910633,\\u003cbr\\u003e    \\\"forecast_distribution\\\": \\\"distr_gev\\\",\\u003cbr\\u003e    \\\"perform_batching\\\": true,\\u003cbr\\u003e    \\\"batch_size\\\": 944,\\u003cbr\\u003e    \\\"epochs\\\": 152\\u003cbr\\u003e  }\\u003cbr\\u003e}\",\"{\\u003cbr\\u003e  \\\"number\\\": 211,\\u003cbr\\u003e  \\\"values\\\": [\\u003cbr\\u003e    0.8947734832763672,\\u003cbr\\u003e    0.06331904977560043\\u003cbr\\u003e  ],\\u003cbr\\u003e  \\\"params\\\": {\\u003cbr\\u003e    \\\"chain_function_mean\\\": 8.105575420206426,\\u003cbr\\u003e    \\\"chain_function_std\\\": 2.4540537541071474,\\u003cbr\\u003e    \\\"chain_function_constant\\\": 0.9420187440644618,\\u003cbr\\u003e    \\\"optimizer\\\": \\\"Adam\\\",\\u003cbr\\u003e    \\\"learning_rate\\\": 0.07407496014459818,\\u003cbr\\u003e    \\\"forecast_distribution\\\": \\\"distr_trunc_normal\\\",\\u003cbr\\u003e    \\\"perform_batching\\\": false,\\u003cbr\\u003e    \\\"epochs\\\": 123\\u003cbr\\u003e  }\\u003cbr\\u003e}\",\"{\\u003cbr\\u003e  \\\"number\\\": 213,\\u003cbr\\u003e  \\\"values\\\": [\\u003cbr\\u003e    3.4478213787078857,\\u003cbr\\u003e    0.11049050092697144\\u003cbr\\u003e  ],\\u003cbr\\u003e  \\\"params\\\": {\\u003cbr\\u003e    \\\"chain_function_mean\\\": 10.0333031569317,\\u003cbr\\u003e    \\\"chain_function_std\\\": 2.158123443075759,\\u003cbr\\u003e    \\\"chain_function_constant\\\": 0.001214631746934131,\\u003cbr\\u003e    \\\"optimizer\\\": \\\"SGD\\\",\\u003cbr\\u003e    \\\"learning_rate\\\": 0.010655033809668611,\\u003cbr\\u003e    \\\"forecast_distribution\\\": \\\"distr_mixture_linear\\\",\\u003cbr\\u003e    \\\"distribution_1\\\": \\\"distr_log_normal\\\",\\u003cbr\\u003e    \\\"distribution_2\\\": \\\"distr_trunc_normal\\\",\\u003cbr\\u003e    \\\"perform_batching\\\": true,\\u003cbr\\u003e    \\\"batch_size\\\": 407,\\u003cbr\\u003e    \\\"epochs\\\": 108\\u003cbr\\u003e  }\\u003cbr\\u003e}\",\"{\\u003cbr\\u003e  \\\"number\\\": 214,\\u003cbr\\u003e  \\\"values\\\": [\\u003cbr\\u003e    0.8961193561553955,\\u003cbr\\u003e    0.06215757131576538\\u003cbr\\u003e  ],\\u003cbr\\u003e  \\\"params\\\": {\\u003cbr\\u003e    \\\"chain_function_mean\\\": 9.153233333595644,\\u003cbr\\u003e    \\\"chain_function_std\\\": 1.1360955355604572,\\u003cbr\\u003e    \\\"chain_function_constant\\\": 0.047031983323706235,\\u003cbr\\u003e    \\\"optimizer\\\": \\\"SGD\\\",\\u003cbr\\u003e    \\\"learning_rate\\\": 0.07033994286758688,\\u003cbr\\u003e    \\\"forecast_distribution\\\": \\\"distr_log_normal\\\",\\u003cbr\\u003e    \\\"perform_batching\\\": true,\\u003cbr\\u003e    \\\"batch_size\\\": 797,\\u003cbr\\u003e    \\\"epochs\\\": 171\\u003cbr\\u003e  }\\u003cbr\\u003e}\",\"{\\u003cbr\\u003e  \\\"number\\\": 215,\\u003cbr\\u003e  \\\"values\\\": [\\u003cbr\\u003e    0.8889749646186829,\\u003cbr\\u003e    0.06251213699579239\\u003cbr\\u003e  ],\\u003cbr\\u003e  \\\"params\\\": {\\u003cbr\\u003e    \\\"chain_function_mean\\\": 8.66913628821911,\\u003cbr\\u003e    \\\"chain_function_std\\\": 3.9914339223407964,\\u003cbr\\u003e    \\\"chain_function_constant\\\": 0.3784581459948918,\\u003cbr\\u003e    \\\"optimizer\\\": \\\"Adam\\\",\\u003cbr\\u003e    \\\"learning_rate\\\": 0.033717066573382,\\u003cbr\\u003e    \\\"forecast_distribution\\\": \\\"distr_mixture\\\",\\u003cbr\\u003e    \\\"distribution_1\\\": \\\"distr_gev\\\",\\u003cbr\\u003e    \\\"distribution_2\\\": \\\"distr_log_normal\\\",\\u003cbr\\u003e    \\\"perform_batching\\\": false,\\u003cbr\\u003e    \\\"epochs\\\": 317\\u003cbr\\u003e  }\\u003cbr\\u003e}\",\"{\\u003cbr\\u003e  \\\"number\\\": 216,\\u003cbr\\u003e  \\\"values\\\": [\\u003cbr\\u003e    0.8879878520965576,\\u003cbr\\u003e    0.06227658689022064\\u003cbr\\u003e  ],\\u003cbr\\u003e  \\\"params\\\": {\\u003cbr\\u003e    \\\"chain_function_mean\\\": 9.6099204168008,\\u003cbr\\u003e    \\\"chain_function_std\\\": 1.4501939191992739,\\u003cbr\\u003e    \\\"chain_function_constant\\\": 0.22400022412949083,\\u003cbr\\u003e    \\\"optimizer\\\": \\\"SGD\\\",\\u003cbr\\u003e    \\\"learning_rate\\\": 0.07547395734231874,\\u003cbr\\u003e    \\\"forecast_distribution\\\": \\\"distr_gev\\\",\\u003cbr\\u003e    \\\"perform_batching\\\": true,\\u003cbr\\u003e    \\\"batch_size\\\": 211,\\u003cbr\\u003e    \\\"epochs\\\": 140\\u003cbr\\u003e  }\\u003cbr\\u003e}\",\"{\\u003cbr\\u003e  \\\"number\\\": 217,\\u003cbr\\u003e  \\\"values\\\": [\\u003cbr\\u003e    0.8896257877349854,\\u003cbr\\u003e    0.06329622864723206\\u003cbr\\u003e  ],\\u003cbr\\u003e  \\\"params\\\": {\\u003cbr\\u003e    \\\"chain_function_mean\\\": 0.5310393041542802,\\u003cbr\\u003e    \\\"chain_function_std\\\": 1.8960050635521017,\\u003cbr\\u003e    \\\"chain_function_constant\\\": 0.02507963146950114,\\u003cbr\\u003e    \\\"optimizer\\\": \\\"SGD\\\",\\u003cbr\\u003e    \\\"learning_rate\\\": 0.07859784017574452,\\u003cbr\\u003e    \\\"forecast_distribution\\\": \\\"distr_gev\\\",\\u003cbr\\u003e    \\\"perform_batching\\\": true,\\u003cbr\\u003e    \\\"batch_size\\\": 257,\\u003cbr\\u003e    \\\"epochs\\\": 290\\u003cbr\\u003e  }\\u003cbr\\u003e}\",\"{\\u003cbr\\u003e  \\\"number\\\": 219,\\u003cbr\\u003e  \\\"values\\\": [\\u003cbr\\u003e    0.9421870708465576,\\u003cbr\\u003e    0.0653642788529396\\u003cbr\\u003e  ],\\u003cbr\\u003e  \\\"params\\\": {\\u003cbr\\u003e    \\\"chain_function_mean\\\": 9.01847224065577,\\u003cbr\\u003e    \\\"chain_function_std\\\": 3.4261628421947803,\\u003cbr\\u003e    \\\"chain_function_constant\\\": 0.04032703924150184,\\u003cbr\\u003e    \\\"optimizer\\\": \\\"SGD\\\",\\u003cbr\\u003e    \\\"learning_rate\\\": 0.015825101515026134,\\u003cbr\\u003e    \\\"forecast_distribution\\\": \\\"distr_gev\\\",\\u003cbr\\u003e    \\\"perform_batching\\\": true,\\u003cbr\\u003e    \\\"batch_size\\\": 229,\\u003cbr\\u003e    \\\"epochs\\\": 85\\u003cbr\\u003e  }\\u003cbr\\u003e}\",\"{\\u003cbr\\u003e  \\\"number\\\": 220,\\u003cbr\\u003e  \\\"values\\\": [\\u003cbr\\u003e    1.4598910808563232,\\u003cbr\\u003e    0.09449082612991333\\u003cbr\\u003e  ],\\u003cbr\\u003e  \\\"params\\\": {\\u003cbr\\u003e    \\\"chain_function_mean\\\": 10.510832951369343,\\u003cbr\\u003e    \\\"chain_function_std\\\": 2.35523157052838,\\u003cbr\\u003e    \\\"chain_function_constant\\\": 0.6517287896801236,\\u003cbr\\u003e    \\\"optimizer\\\": \\\"Adam\\\",\\u003cbr\\u003e    \\\"learning_rate\\\": 0.02266655171109828,\\u003cbr\\u003e    \\\"forecast_distribution\\\": \\\"distr_gev\\\",\\u003cbr\\u003e    \\\"perform_batching\\\": false,\\u003cbr\\u003e    \\\"epochs\\\": 61\\u003cbr\\u003e  }\\u003cbr\\u003e}\",\"{\\u003cbr\\u003e  \\\"number\\\": 221,\\u003cbr\\u003e  \\\"values\\\": [\\u003cbr\\u003e    2.8370189666748047,\\u003cbr\\u003e    0.10343849658966064\\u003cbr\\u003e  ],\\u003cbr\\u003e  \\\"params\\\": {\\u003cbr\\u003e    \\\"chain_function_mean\\\": 9.42026234989521,\\u003cbr\\u003e    \\\"chain_function_std\\\": 2.241723920108945,\\u003cbr\\u003e    \\\"chain_function_constant\\\": 0.022771857853895138,\\u003cbr\\u003e    \\\"optimizer\\\": \\\"SGD\\\",\\u003cbr\\u003e    \\\"learning_rate\\\": 0.025549471201264693,\\u003cbr\\u003e    \\\"forecast_distribution\\\": \\\"distr_mixture\\\",\\u003cbr\\u003e    \\\"distribution_1\\\": \\\"distr_trunc_normal\\\",\\u003cbr\\u003e    \\\"distribution_2\\\": \\\"distr_gev\\\",\\u003cbr\\u003e    \\\"perform_batching\\\": true,\\u003cbr\\u003e    \\\"batch_size\\\": 646,\\u003cbr\\u003e    \\\"epochs\\\": 14\\u003cbr\\u003e  }\\u003cbr\\u003e}\",\"{\\u003cbr\\u003e  \\\"number\\\": 222,\\u003cbr\\u003e  \\\"values\\\": [\\u003cbr\\u003e    1.7821166515350342,\\u003cbr\\u003e    0.09488809108734131\\u003cbr\\u003e  ],\\u003cbr\\u003e  \\\"params\\\": {\\u003cbr\\u003e    \\\"chain_function_mean\\\": 13.750791137379748,\\u003cbr\\u003e    \\\"chain_function_std\\\": 1.021050319052172,\\u003cbr\\u003e    \\\"chain_function_constant\\\": 0.06346965319536245,\\u003cbr\\u003e    \\\"optimizer\\\": \\\"SGD\\\",\\u003cbr\\u003e    \\\"learning_rate\\\": 0.07115711246872808,\\u003cbr\\u003e    \\\"forecast_distribution\\\": \\\"distr_gev\\\",\\u003cbr\\u003e    \\\"perform_batching\\\": true,\\u003cbr\\u003e    \\\"batch_size\\\": 894,\\u003cbr\\u003e    \\\"epochs\\\": 26\\u003cbr\\u003e  }\\u003cbr\\u003e}\",\"{\\u003cbr\\u003e  \\\"number\\\": 223,\\u003cbr\\u003e  \\\"values\\\": [\\u003cbr\\u003e    1.1003472805023193,\\u003cbr\\u003e    0.07001577317714691\\u003cbr\\u003e  ],\\u003cbr\\u003e  \\\"params\\\": {\\u003cbr\\u003e    \\\"chain_function_mean\\\": 8.652226928595063,\\u003cbr\\u003e    \\\"chain_function_std\\\": 1.5599736195681804,\\u003cbr\\u003e    \\\"chain_function_constant\\\": 0.0017675699758887553,\\u003cbr\\u003e    \\\"optimizer\\\": \\\"Adam\\\",\\u003cbr\\u003e    \\\"learning_rate\\\": 0.07344229640826644,\\u003cbr\\u003e    \\\"forecast_distribution\\\": \\\"distr_trunc_normal\\\",\\u003cbr\\u003e    \\\"perform_batching\\\": false,\\u003cbr\\u003e    \\\"epochs\\\": 45\\u003cbr\\u003e  }\\u003cbr\\u003e}\",\"{\\u003cbr\\u003e  \\\"number\\\": 224,\\u003cbr\\u003e  \\\"values\\\": [\\u003cbr\\u003e    0.8894948959350586,\\u003cbr\\u003e    0.06266069412231445\\u003cbr\\u003e  ],\\u003cbr\\u003e  \\\"params\\\": {\\u003cbr\\u003e    \\\"chain_function_mean\\\": 2.4863262031550786,\\u003cbr\\u003e    \\\"chain_function_std\\\": 1.762999903591224,\\u003cbr\\u003e    \\\"chain_function_constant\\\": 0.014208302932060136,\\u003cbr\\u003e    \\\"optimizer\\\": \\\"SGD\\\",\\u003cbr\\u003e    \\\"learning_rate\\\": 0.06900704904511477,\\u003cbr\\u003e    \\\"forecast_distribution\\\": \\\"distr_gev\\\",\\u003cbr\\u003e    \\\"perform_batching\\\": true,\\u003cbr\\u003e    \\\"batch_size\\\": 186,\\u003cbr\\u003e    \\\"epochs\\\": 265\\u003cbr\\u003e  }\\u003cbr\\u003e}\",\"{\\u003cbr\\u003e  \\\"number\\\": 225,\\u003cbr\\u003e  \\\"values\\\": [\\u003cbr\\u003e    0.8917103409767151,\\u003cbr\\u003e    0.062418676912784576\\u003cbr\\u003e  ],\\u003cbr\\u003e  \\\"params\\\": {\\u003cbr\\u003e    \\\"chain_function_mean\\\": 9.18471306795619,\\u003cbr\\u003e    \\\"chain_function_std\\\": 0.17024899817110503,\\u003cbr\\u003e    \\\"chain_function_constant\\\": 0.49952469760023427,\\u003cbr\\u003e    \\\"optimizer\\\": \\\"SGD\\\",\\u003cbr\\u003e    \\\"learning_rate\\\": 0.076971339939166,\\u003cbr\\u003e    \\\"forecast_distribution\\\": \\\"distr_log_normal\\\",\\u003cbr\\u003e    \\\"perform_batching\\\": true,\\u003cbr\\u003e    \\\"batch_size\\\": 458,\\u003cbr\\u003e    \\\"epochs\\\": 71\\u003cbr\\u003e  }\\u003cbr\\u003e}\",\"{\\u003cbr\\u003e  \\\"number\\\": 226,\\u003cbr\\u003e  \\\"values\\\": [\\u003cbr\\u003e    0.9012332558631897,\\u003cbr\\u003e    0.06308286637067795\\u003cbr\\u003e  ],\\u003cbr\\u003e  \\\"params\\\": {\\u003cbr\\u003e    \\\"chain_function_mean\\\": 5.4515192813642885,\\u003cbr\\u003e    \\\"chain_function_std\\\": 0.7883487619005134,\\u003cbr\\u003e    \\\"chain_function_constant\\\": 0.046058189612668,\\u003cbr\\u003e    \\\"optimizer\\\": \\\"Adam\\\",\\u003cbr\\u003e    \\\"learning_rate\\\": 0.07151384983159283,\\u003cbr\\u003e    \\\"forecast_distribution\\\": \\\"distr_mixture_linear\\\",\\u003cbr\\u003e    \\\"distribution_1\\\": \\\"distr_log_normal\\\",\\u003cbr\\u003e    \\\"distribution_2\\\": \\\"distr_trunc_normal\\\",\\u003cbr\\u003e    \\\"perform_batching\\\": false,\\u003cbr\\u003e    \\\"epochs\\\": 165\\u003cbr\\u003e  }\\u003cbr\\u003e}\",\"{\\u003cbr\\u003e  \\\"number\\\": 227,\\u003cbr\\u003e  \\\"values\\\": [\\u003cbr\\u003e    0.8882160782814026,\\u003cbr\\u003e    0.06283815950155258\\u003cbr\\u003e  ],\\u003cbr\\u003e  \\\"params\\\": {\\u003cbr\\u003e    \\\"chain_function_mean\\\": 9.814015824589847,\\u003cbr\\u003e    \\\"chain_function_std\\\": 2.5676470311449915,\\u003cbr\\u003e    \\\"chain_function_constant\\\": 0.5730233193058752,\\u003cbr\\u003e    \\\"optimizer\\\": \\\"SGD\\\",\\u003cbr\\u003e    \\\"learning_rate\\\": 0.04524512453847332,\\u003cbr\\u003e    \\\"forecast_distribution\\\": \\\"distr_gev\\\",\\u003cbr\\u003e    \\\"perform_batching\\\": true,\\u003cbr\\u003e    \\\"batch_size\\\": 832,\\u003cbr\\u003e    \\\"epochs\\\": 98\\u003cbr\\u003e  }\\u003cbr\\u003e}\",\"{\\u003cbr\\u003e  \\\"number\\\": 228,\\u003cbr\\u003e  \\\"values\\\": [\\u003cbr\\u003e    1.0364234447479248,\\u003cbr\\u003e    0.06412135064601898\\u003cbr\\u003e  ],\\u003cbr\\u003e  \\\"params\\\": {\\u003cbr\\u003e    \\\"chain_function_mean\\\": 8.228031242845008,\\u003cbr\\u003e    \\\"chain_function_std\\\": 1.9819919320797985,\\u003cbr\\u003e    \\\"chain_function_constant\\\": 0.0008509557381025891,\\u003cbr\\u003e    \\\"optimizer\\\": \\\"SGD\\\",\\u003cbr\\u003e    \\\"learning_rate\\\": 0.0663110504702354,\\u003cbr\\u003e    \\\"forecast_distribution\\\": \\\"distr_mixture\\\",\\u003cbr\\u003e    \\\"distribution_1\\\": \\\"distr_gev\\\",\\u003cbr\\u003e    \\\"distribution_2\\\": \\\"distr_log_normal\\\",\\u003cbr\\u003e    \\\"perform_batching\\\": true,\\u003cbr\\u003e    \\\"batch_size\\\": 966,\\u003cbr\\u003e    \\\"epochs\\\": 193\\u003cbr\\u003e  }\\u003cbr\\u003e}\",\"{\\u003cbr\\u003e  \\\"number\\\": 229,\\u003cbr\\u003e  \\\"values\\\": [\\u003cbr\\u003e    0.8899034261703491,\\u003cbr\\u003e    0.06211203336715698\\u003cbr\\u003e  ],\\u003cbr\\u003e  \\\"params\\\": {\\u003cbr\\u003e    \\\"chain_function_mean\\\": 8.90704817505067,\\u003cbr\\u003e    \\\"chain_function_std\\\": 4.170792165634046,\\u003cbr\\u003e    \\\"chain_function_constant\\\": 0.029369636000999403,\\u003cbr\\u003e    \\\"optimizer\\\": \\\"Adam\\\",\\u003cbr\\u003e    \\\"learning_rate\\\": 0.07133872089000003,\\u003cbr\\u003e    \\\"forecast_distribution\\\": \\\"distr_mixture\\\",\\u003cbr\\u003e    \\\"distribution_1\\\": \\\"distr_trunc_normal\\\",\\u003cbr\\u003e    \\\"distribution_2\\\": \\\"distr_gev\\\",\\u003cbr\\u003e    \\\"perform_batching\\\": false,\\u003cbr\\u003e    \\\"epochs\\\": 412\\u003cbr\\u003e  }\\u003cbr\\u003e}\",\"{\\u003cbr\\u003e  \\\"number\\\": 230,\\u003cbr\\u003e  \\\"values\\\": [\\u003cbr\\u003e    0.913423478603363,\\u003cbr\\u003e    0.06160201132297516\\u003cbr\\u003e  ],\\u003cbr\\u003e  \\\"params\\\": {\\u003cbr\\u003e    \\\"chain_function_mean\\\": 9.546670802386373,\\u003cbr\\u003e    \\\"chain_function_std\\\": 0.31164935466272015,\\u003cbr\\u003e    \\\"chain_function_constant\\\": 0.017003806456948163,\\u003cbr\\u003e    \\\"optimizer\\\": \\\"Adam\\\",\\u003cbr\\u003e    \\\"learning_rate\\\": 0.07429577151682205,\\u003cbr\\u003e    \\\"forecast_distribution\\\": \\\"distr_gev\\\",\\u003cbr\\u003e    \\\"perform_batching\\\": false,\\u003cbr\\u003e    \\\"epochs\\\": 245\\u003cbr\\u003e  }\\u003cbr\\u003e}\",\"{\\u003cbr\\u003e  \\\"number\\\": 231,\\u003cbr\\u003e  \\\"values\\\": [\\u003cbr\\u003e    0.8935087323188782,\\u003cbr\\u003e    0.06209360808134079\\u003cbr\\u003e  ],\\u003cbr\\u003e  \\\"params\\\": {\\u003cbr\\u003e    \\\"chain_function_mean\\\": 8.562149435802494,\\u003cbr\\u003e    \\\"chain_function_std\\\": 3.151195784600804,\\u003cbr\\u003e    \\\"chain_function_constant\\\": 0.029352489996736005,\\u003cbr\\u003e    \\\"optimizer\\\": \\\"SGD\\\",\\u003cbr\\u003e    \\\"learning_rate\\\": 0.07569934046587751,\\u003cbr\\u003e    \\\"forecast_distribution\\\": \\\"distr_gev\\\",\\u003cbr\\u003e    \\\"perform_batching\\\": true,\\u003cbr\\u003e    \\\"batch_size\\\": 313,\\u003cbr\\u003e    \\\"epochs\\\": 120\\u003cbr\\u003e  }\\u003cbr\\u003e}\",\"{\\u003cbr\\u003e  \\\"number\\\": 232,\\u003cbr\\u003e  \\\"values\\\": [\\u003cbr\\u003e    0.9477542042732239,\\u003cbr\\u003e    0.06463596224784851\\u003cbr\\u003e  ],\\u003cbr\\u003e  \\\"params\\\": {\\u003cbr\\u003e    \\\"chain_function_mean\\\": 14.561208200291976,\\u003cbr\\u003e    \\\"chain_function_std\\\": 2.444150497495129,\\u003cbr\\u003e    \\\"chain_function_constant\\\": 0.01710032767914056,\\u003cbr\\u003e    \\\"optimizer\\\": \\\"SGD\\\",\\u003cbr\\u003e    \\\"learning_rate\\\": 0.07297107997964193,\\u003cbr\\u003e    \\\"forecast_distribution\\\": \\\"distr_trunc_normal\\\",\\u003cbr\\u003e    \\\"perform_batching\\\": true,\\u003cbr\\u003e    \\\"batch_size\\\": 498,\\u003cbr\\u003e    \\\"epochs\\\": 153\\u003cbr\\u003e  }\\u003cbr\\u003e}\",\"{\\u003cbr\\u003e  \\\"number\\\": 233,\\u003cbr\\u003e  \\\"values\\\": [\\u003cbr\\u003e    0.8954616189002991,\\u003cbr\\u003e    0.06188662350177765\\u003cbr\\u003e  ],\\u003cbr\\u003e  \\\"params\\\": {\\u003cbr\\u003e    \\\"chain_function_mean\\\": 9.242119810747408,\\u003cbr\\u003e    \\\"chain_function_std\\\": 1.6866622061863135,\\u003cbr\\u003e    \\\"chain_function_constant\\\": 0.051523581885720295,\\u003cbr\\u003e    \\\"optimizer\\\": \\\"Adam\\\",\\u003cbr\\u003e    \\\"learning_rate\\\": 0.06980162395701606,\\u003cbr\\u003e    \\\"forecast_distribution\\\": \\\"distr_gev\\\",\\u003cbr\\u003e    \\\"perform_batching\\\": false,\\u003cbr\\u003e    \\\"epochs\\\": 139\\u003cbr\\u003e  }\\u003cbr\\u003e}\",\"{\\u003cbr\\u003e  \\\"number\\\": 234,\\u003cbr\\u003e  \\\"values\\\": [\\u003cbr\\u003e    0.889549970626831,\\u003cbr\\u003e    0.0628620907664299\\u003cbr\\u003e  ],\\u003cbr\\u003e  \\\"params\\\": {\\u003cbr\\u003e    \\\"chain_function_mean\\\": 10.214531786506381,\\u003cbr\\u003e    \\\"chain_function_std\\\": 2.490938094992237,\\u003cbr\\u003e    \\\"chain_function_constant\\\": 0.9559907648848603,\\u003cbr\\u003e    \\\"optimizer\\\": \\\"SGD\\\",\\u003cbr\\u003e    \\\"learning_rate\\\": 0.06770572751881154,\\u003cbr\\u003e    \\\"forecast_distribution\\\": \\\"distr_mixture\\\",\\u003cbr\\u003e    \\\"distribution_1\\\": \\\"distr_trunc_normal\\\",\\u003cbr\\u003e    \\\"distribution_2\\\": \\\"distr_gev\\\",\\u003cbr\\u003e    \\\"perform_batching\\\": true,\\u003cbr\\u003e    \\\"batch_size\\\": 352,\\u003cbr\\u003e    \\\"epochs\\\": 76\\u003cbr\\u003e  }\\u003cbr\\u003e}\",\"{\\u003cbr\\u003e  \\\"number\\\": 235,\\u003cbr\\u003e  \\\"values\\\": [\\u003cbr\\u003e    1.0788674354553223,\\u003cbr\\u003e    0.07136445492506027\\u003cbr\\u003e  ],\\u003cbr\\u003e  \\\"params\\\": {\\u003cbr\\u003e    \\\"chain_function_mean\\\": 13.332309132525536,\\u003cbr\\u003e    \\\"chain_function_std\\\": 1.1931624107704217,\\u003cbr\\u003e    \\\"chain_function_constant\\\": 0.018859199595662964,\\u003cbr\\u003e    \\\"optimizer\\\": \\\"SGD\\\",\\u003cbr\\u003e    \\\"learning_rate\\\": 0.03066538244941986,\\u003cbr\\u003e    \\\"forecast_distribution\\\": \\\"distr_gev\\\",\\u003cbr\\u003e    \\\"perform_batching\\\": true,\\u003cbr\\u003e    \\\"batch_size\\\": 547,\\u003cbr\\u003e    \\\"epochs\\\": 346\\u003cbr\\u003e  }\\u003cbr\\u003e}\",\"{\\u003cbr\\u003e  \\\"number\\\": 236,\\u003cbr\\u003e  \\\"values\\\": [\\u003cbr\\u003e    0.8909825086593628,\\u003cbr\\u003e    0.06265490502119064\\u003cbr\\u003e  ],\\u003cbr\\u003e  \\\"params\\\": {\\u003cbr\\u003e    \\\"chain_function_mean\\\": 4.711543790683562,\\u003cbr\\u003e    \\\"chain_function_std\\\": 4.770380219329322,\\u003cbr\\u003e    \\\"chain_function_constant\\\": 0.3444316656523343,\\u003cbr\\u003e    \\\"optimizer\\\": \\\"Adam\\\",\\u003cbr\\u003e    \\\"learning_rate\\\": 0.04072526458273443,\\u003cbr\\u003e    \\\"forecast_distribution\\\": \\\"distr_log_normal\\\",\\u003cbr\\u003e    \\\"perform_batching\\\": false,\\u003cbr\\u003e    \\\"epochs\\\": 435\\u003cbr\\u003e  }\\u003cbr\\u003e}\",\"{\\u003cbr\\u003e  \\\"number\\\": 238,\\u003cbr\\u003e  \\\"values\\\": [\\u003cbr\\u003e    1.829628348350525,\\u003cbr\\u003e    0.07589460909366608\\u003cbr\\u003e  ],\\u003cbr\\u003e  \\\"params\\\": {\\u003cbr\\u003e    \\\"chain_function_mean\\\": 8.929459321950517,\\u003cbr\\u003e    \\\"chain_function_std\\\": 1.3916507195211145,\\u003cbr\\u003e    \\\"chain_function_constant\\\": 0.0004943784689723854,\\u003cbr\\u003e    \\\"optimizer\\\": \\\"SGD\\\",\\u003cbr\\u003e    \\\"learning_rate\\\": 0.0715149231563009,\\u003cbr\\u003e    \\\"forecast_distribution\\\": \\\"distr_gev\\\",\\u003cbr\\u003e    \\\"perform_batching\\\": true,\\u003cbr\\u003e    \\\"batch_size\\\": 683,\\u003cbr\\u003e    \\\"epochs\\\": 55\\u003cbr\\u003e  }\\u003cbr\\u003e}\",\"{\\u003cbr\\u003e  \\\"number\\\": 240,\\u003cbr\\u003e  \\\"values\\\": [\\u003cbr\\u003e    0.9026257395744324,\\u003cbr\\u003e    0.06232931464910507\\u003cbr\\u003e  ],\\u003cbr\\u003e  \\\"params\\\": {\\u003cbr\\u003e    \\\"chain_function_mean\\\": 7.9205056181678275,\\u003cbr\\u003e    \\\"chain_function_std\\\": 2.263113115853036,\\u003cbr\\u003e    \\\"chain_function_constant\\\": 0.07536514967915964,\\u003cbr\\u003e    \\\"optimizer\\\": \\\"SGD\\\",\\u003cbr\\u003e    \\\"learning_rate\\\": 0.07351380094134782,\\u003cbr\\u003e    \\\"forecast_distribution\\\": \\\"distr_mixture_linear\\\",\\u003cbr\\u003e    \\\"distribution_1\\\": \\\"distr_trunc_normal\\\",\\u003cbr\\u003e    \\\"distribution_2\\\": \\\"distr_gev\\\",\\u003cbr\\u003e    \\\"perform_batching\\\": true,\\u003cbr\\u003e    \\\"batch_size\\\": 126,\\u003cbr\\u003e    \\\"epochs\\\": 33\\u003cbr\\u003e  }\\u003cbr\\u003e}\",\"{\\u003cbr\\u003e  \\\"number\\\": 241,\\u003cbr\\u003e  \\\"values\\\": [\\u003cbr\\u003e    0.8901374936103821,\\u003cbr\\u003e    0.06212040036916733\\u003cbr\\u003e  ],\\u003cbr\\u003e  \\\"params\\\": {\\u003cbr\\u003e    \\\"chain_function_mean\\\": 9.258039867762701,\\u003cbr\\u003e    \\\"chain_function_std\\\": 4.418547230240671,\\u003cbr\\u003e    \\\"chain_function_constant\\\": 0.03862344206885839,\\u003cbr\\u003e    \\\"optimizer\\\": \\\"Adam\\\",\\u003cbr\\u003e    \\\"learning_rate\\\": 0.07550198625848688,\\u003cbr\\u003e    \\\"forecast_distribution\\\": \\\"distr_mixture\\\",\\u003cbr\\u003e    \\\"distribution_1\\\": \\\"distr_trunc_normal\\\",\\u003cbr\\u003e    \\\"distribution_2\\\": \\\"distr_gev\\\",\\u003cbr\\u003e    \\\"perform_batching\\\": false,\\u003cbr\\u003e    \\\"epochs\\\": 108\\u003cbr\\u003e  }\\u003cbr\\u003e}\",\"{\\u003cbr\\u003e  \\\"number\\\": 242,\\u003cbr\\u003e  \\\"values\\\": [\\u003cbr\\u003e    0.9681522846221924,\\u003cbr\\u003e    0.07236889004707336\\u003cbr\\u003e  ],\\u003cbr\\u003e  \\\"params\\\": {\\u003cbr\\u003e    \\\"chain_function_mean\\\": 0.10098475213792746,\\u003cbr\\u003e    \\\"chain_function_std\\\": 2.087587076729646,\\u003cbr\\u003e    \\\"chain_function_constant\\\": 0.03624294106759183,\\u003cbr\\u003e    \\\"optimizer\\\": \\\"Adam\\\",\\u003cbr\\u003e    \\\"learning_rate\\\": 0.024025493174383065,\\u003cbr\\u003e    \\\"forecast_distribution\\\": \\\"distr_gev\\\",\\u003cbr\\u003e    \\\"perform_batching\\\": false,\\u003cbr\\u003e    \\\"epochs\\\": 147\\u003cbr\\u003e  }\\u003cbr\\u003e}\",\"{\\u003cbr\\u003e  \\\"number\\\": 243,\\u003cbr\\u003e  \\\"values\\\": [\\u003cbr\\u003e    0.8885273933410645,\\u003cbr\\u003e    0.06264232844114304\\u003cbr\\u003e  ],\\u003cbr\\u003e  \\\"params\\\": {\\u003cbr\\u003e    \\\"chain_function_mean\\\": 10.22668854824088,\\u003cbr\\u003e    \\\"chain_function_std\\\": 1.6365500880536437,\\u003cbr\\u003e    \\\"chain_function_constant\\\": 0.622362543420455,\\u003cbr\\u003e    \\\"optimizer\\\": \\\"SGD\\\",\\u003cbr\\u003e    \\\"learning_rate\\\": 0.09973630035617659,\\u003cbr\\u003e    \\\"forecast_distribution\\\": \\\"distr_trunc_normal\\\",\\u003cbr\\u003e    \\\"perform_batching\\\": true,\\u003cbr\\u003e    \\\"batch_size\\\": 609,\\u003cbr\\u003e    \\\"epochs\\\": 88\\u003cbr\\u003e  }\\u003cbr\\u003e}\",\"{\\u003cbr\\u003e  \\\"number\\\": 244,\\u003cbr\\u003e  \\\"values\\\": [\\u003cbr\\u003e    0.8974801301956177,\\u003cbr\\u003e    0.06318369507789612\\u003cbr\\u003e  ],\\u003cbr\\u003e  \\\"params\\\": {\\u003cbr\\u003e    \\\"chain_function_mean\\\": 12.509682977170298,\\u003cbr\\u003e    \\\"chain_function_std\\\": 0.8590753746817835,\\u003cbr\\u003e    \\\"chain_function_constant\\\": 0.7006158114163306,\\u003cbr\\u003e    \\\"optimizer\\\": \\\"SGD\\\",\\u003cbr\\u003e    \\\"learning_rate\\\": 0.0743373545224814,\\u003cbr\\u003e    \\\"forecast_distribution\\\": \\\"distr_mixture\\\",\\u003cbr\\u003e    \\\"distribution_1\\\": \\\"distr_log_normal\\\",\\u003cbr\\u003e    \\\"distribution_2\\\": \\\"distr_log_normal\\\",\\u003cbr\\u003e    \\\"perform_batching\\\": true,\\u003cbr\\u003e    \\\"batch_size\\\": 588,\\u003cbr\\u003e    \\\"epochs\\\": 14\\u003cbr\\u003e  }\\u003cbr\\u003e}\",\"{\\u003cbr\\u003e  \\\"number\\\": 245,\\u003cbr\\u003e  \\\"values\\\": [\\u003cbr\\u003e    0.8961551189422607,\\u003cbr\\u003e    0.061930425465106964\\u003cbr\\u003e  ],\\u003cbr\\u003e  \\\"params\\\": {\\u003cbr\\u003e    \\\"chain_function_mean\\\": 8.668213030195371,\\u003cbr\\u003e    \\\"chain_function_std\\\": 2.7616871546016424,\\u003cbr\\u003e    \\\"chain_function_constant\\\": 0.020823793573711794,\\u003cbr\\u003e    \\\"optimizer\\\": \\\"Adam\\\",\\u003cbr\\u003e    \\\"learning_rate\\\": 0.06949446544807471,\\u003cbr\\u003e    \\\"forecast_distribution\\\": \\\"distr_gev\\\",\\u003cbr\\u003e    \\\"perform_batching\\\": false,\\u003cbr\\u003e    \\\"epochs\\\": 254\\u003cbr\\u003e  }\\u003cbr\\u003e}\",\"{\\u003cbr\\u003e  \\\"number\\\": 246,\\u003cbr\\u003e  \\\"values\\\": [\\u003cbr\\u003e    0.8889704346656799,\\u003cbr\\u003e    0.06294409185647964\\u003cbr\\u003e  ],\\u003cbr\\u003e  \\\"params\\\": {\\u003cbr\\u003e    \\\"chain_function_mean\\\": 3.056575863803915,\\u003cbr\\u003e    \\\"chain_function_std\\\": 3.7080295914045385,\\u003cbr\\u003e    \\\"chain_function_constant\\\": 0.018160648325556878,\\u003cbr\\u003e    \\\"optimizer\\\": \\\"SGD\\\",\\u003cbr\\u003e    \\\"learning_rate\\\": 0.07636767400729415,\\u003cbr\\u003e    \\\"forecast_distribution\\\": \\\"distr_gev\\\",\\u003cbr\\u003e    \\\"perform_batching\\\": true,\\u003cbr\\u003e    \\\"batch_size\\\": 179,\\u003cbr\\u003e    \\\"epochs\\\": 376\\u003cbr\\u003e  }\\u003cbr\\u003e}\",\"{\\u003cbr\\u003e  \\\"number\\\": 247,\\u003cbr\\u003e  \\\"values\\\": [\\u003cbr\\u003e    0.9366075992584229,\\u003cbr\\u003e    0.061762891709804535\\u003cbr\\u003e  ],\\u003cbr\\u003e  \\\"params\\\": {\\u003cbr\\u003e    \\\"chain_function_mean\\\": 9.686380776954083,\\u003cbr\\u003e    \\\"chain_function_std\\\": 2.9054952434273864,\\u003cbr\\u003e    \\\"chain_function_constant\\\": 0.0008055857303437278,\\u003cbr\\u003e    \\\"optimizer\\\": \\\"SGD\\\",\\u003cbr\\u003e    \\\"learning_rate\\\": 0.028350268857480834,\\u003cbr\\u003e    \\\"forecast_distribution\\\": \\\"distr_gev\\\",\\u003cbr\\u003e    \\\"perform_batching\\\": true,\\u003cbr\\u003e    \\\"batch_size\\\": 145,\\u003cbr\\u003e    \\\"epochs\\\": 142\\u003cbr\\u003e  }\\u003cbr\\u003e}\",\"{\\u003cbr\\u003e  \\\"number\\\": 248,\\u003cbr\\u003e  \\\"values\\\": [\\u003cbr\\u003e    0.895254373550415,\\u003cbr\\u003e    0.06384120881557465\\u003cbr\\u003e  ],\\u003cbr\\u003e  \\\"params\\\": {\\u003cbr\\u003e    \\\"chain_function_mean\\\": 3.6869811276533966,\\u003cbr\\u003e    \\\"chain_function_std\\\": 0.4810021530404289,\\u003cbr\\u003e    \\\"chain_function_constant\\\": 0.040925596071442485,\\u003cbr\\u003e    \\\"optimizer\\\": \\\"Adam\\\",\\u003cbr\\u003e    \\\"learning_rate\\\": 0.07172879344303992,\\u003cbr\\u003e    \\\"forecast_distribution\\\": \\\"distr_mixture\\\",\\u003cbr\\u003e    \\\"distribution_1\\\": \\\"distr_gev\\\",\\u003cbr\\u003e    \\\"distribution_2\\\": \\\"distr_trunc_normal\\\",\\u003cbr\\u003e    \\\"perform_batching\\\": false,\\u003cbr\\u003e    \\\"epochs\\\": 128\\u003cbr\\u003e  }\\u003cbr\\u003e}\",\"{\\u003cbr\\u003e  \\\"number\\\": 249,\\u003cbr\\u003e  \\\"values\\\": [\\u003cbr\\u003e    0.9803636074066162,\\u003cbr\\u003e    0.06375496089458466\\u003cbr\\u003e  ],\\u003cbr\\u003e  \\\"params\\\": {\\u003cbr\\u003e    \\\"chain_function_mean\\\": 8.392818906162127,\\u003cbr\\u003e    \\\"chain_function_std\\\": 0.6675679710041854,\\u003cbr\\u003e    \\\"chain_function_constant\\\": 0.05476154509788096,\\u003cbr\\u003e    \\\"optimizer\\\": \\\"SGD\\\",\\u003cbr\\u003e    \\\"learning_rate\\\": 0.07881018110460883,\\u003cbr\\u003e    \\\"forecast_distribution\\\": \\\"distr_trunc_normal\\\",\\u003cbr\\u003e    \\\"perform_batching\\\": true,\\u003cbr\\u003e    \\\"batch_size\\\": 795,\\u003cbr\\u003e    \\\"epochs\\\": 50\\u003cbr\\u003e  }\\u003cbr\\u003e}\"],\"x\":[0.8939164280891418,0.8894176483154297,0.9069005846977234,0.8899415731430054,0.8900049924850464,0.8885961771011353,0.8879302144050598,0.8921669721603394,0.8911253809928894,1.0026330947875977,0.8921949863433838,0.8874222636222839,0.8882594704627991,1.142411708831787,0.8873712420463562,0.9210930466651917,1.1570937633514404,0.892382800579071,0.8882105350494385,0.8982536792755127,0.888512134552002,0.906369149684906,0.8938837647438049,0.8888605237007141,0.8912376761436462,0.8920921683311462,0.8874105215072632,0.8911073207855225,0.9233694672584534,0.911353588104248,0.8893210291862488,0.8879016041755676,0.8881772756576538,0.8884633183479309,1.0195064544677734,0.8894411325454712,0.9188860058784485,0.8888887166976929,0.8878798484802246,0.9004535675048828,0.8876460790634155,0.8946037888526917,0.8879709243774414,0.8887636065483093,0.8911202549934387,1.2717740535736084,0.8874606490135193,0.8891041874885559,0.889360785484314,0.8903694152832031,0.8956279158592224,0.8879058957099915,0.8975528478622437,0.8892119526863098,0.8916662931442261,0.8901100158691406,1.7750576734542847,0.8897167444229126,0.8939259648323059,0.8922821879386902,0.8925604224205017,0.8882468342781067,0.8979740738868713,0.8902387022972107,0.9078944325447083,0.89058518409729,0.8916311860084534,1.5619944334030151,0.8971110582351685,0.9098653793334961,0.8902373909950256,0.925289511680603,0.8886202573776245,0.8900171518325806,1.6096148490905762,0.889353334903717,1.0279114246368408,0.9088723659515381,0.9070626497268677,0.9082488417625427,0.8935203552246094,0.9321588277816772,0.8889183402061462,0.8898117542266846,1.4834558963775635,0.9762683510780334,0.8969157338142395,0.88923579454422,0.8888293504714966,0.891418993473053,0.8966472148895264,0.8931614756584167,0.8885165452957153,0.9037171602249146,0.8978154063224792,1.062208890914917,0.9050768613815308,0.8953449130058289,2.515634059906006,0.8896198272705078,0.8943147659301758,0.889410674571991,0.961358904838562,3.7531816959381104,0.8933019042015076,2.900442361831665,0.9274780750274658,0.8959908485412598,0.9234844446182251,0.890654444694519,1.4062246084213257,0.9608001708984375,0.8896496891975403,0.9014092087745667,0.8886426687240601,0.8892707228660583,0.8897851705551147,0.8930496573448181,0.8894932270050049,0.9070369601249695,0.8917734622955322,0.88837730884552,0.8904653191566467,0.8926184177398682,0.8887767195701599,0.8892902135848999,0.8939133286476135,0.8969019651412964,0.893990159034729,0.8887014389038086,0.8977801203727722,0.8924611210823059,2.1063950061798096,0.9035094380378723,1.1334537267684937,0.92734694480896,0.8919409513473511,2.446683406829834,1.2138087749481201,0.8906142115592957,0.8931555151939392,1.018057942390442,0.8905094861984253,3.653153419494629,0.8910238742828369,2.10598087310791,0.8966854810714722,2.6475014686584473,0.8972417712211609,0.8884879946708679,0.9115565419197083,0.9034703969955444,1.024091124534607,0.8904293179512024,1.3064154386520386,0.8947734832763672,3.4478213787078857,0.8961193561553955,0.8889749646186829,0.8879878520965576,0.8896257877349854,0.9421870708465576,1.4598910808563232,2.8370189666748047,1.7821166515350342,1.1003472805023193,0.8894948959350586,0.8917103409767151,0.9012332558631897,0.8882160782814026,1.0364234447479248,0.8899034261703491,0.913423478603363,0.8935087323188782,0.9477542042732239,0.8954616189002991,0.889549970626831,1.0788674354553223,0.8909825086593628,1.829628348350525,0.9026257395744324,0.8901374936103821,0.9681522846221924,0.8885273933410645,0.8974801301956177,0.8961551189422607,0.8889704346656799,0.9366075992584229,0.895254373550415,0.9803636074066162],\"y\":[0.06313100457191467,0.06329651176929474,0.06330331414937973,0.06396393477916718,0.0622970387339592,0.062454961240291595,0.06235683709383011,0.06295806914567947,0.06235826760530472,0.06607867032289505,0.06296825408935547,0.06234855204820633,0.062265828251838684,0.08192676305770874,0.062399908900260925,0.061606019735336304,0.07903000712394714,0.06266500055789948,0.06253289431333542,0.061889901757240295,0.062370218336582184,0.06180950254201889,0.062477290630340576,0.06258339434862137,0.06258247792720795,0.06233343482017517,0.06218014657497406,0.0625515803694725,0.062498413026332855,0.06187348812818527,0.062160126864910126,0.062372222542762756,0.0622391477227211,0.06264831870794296,0.06777004897594452,0.06213126331567764,0.06461924314498901,0.06247524172067642,0.06230784207582474,0.06193888932466507,0.062323637306690216,0.06296848505735397,0.06296524405479431,0.06290054321289062,0.06267756968736649,0.06876403093338013,0.06234538555145264,0.062292151153087616,0.06195603311061859,0.0621834471821785,0.06200002133846283,0.062101975083351135,0.062236487865448,0.06229622662067413,0.06328253448009491,0.06331577897071838,0.09185591340065002,0.06228988617658615,0.062005311250686646,0.062477149069309235,0.062345296144485474,0.06251125037670135,0.06185063719749451,0.06259102374315262,0.06205678731203079,0.0620221272110939,0.062087155878543854,0.1087225079536438,0.061811283230781555,0.06661849468946457,0.06236499547958374,0.06386557221412659,0.06243525445461273,0.06233824044466019,0.09865641593933105,0.06317198276519775,0.061343077570199966,0.061734236776828766,0.062171608209609985,0.06286561489105225,0.06239175796508789,0.06507017463445663,0.06295359879732132,0.061935290694236755,0.08927500247955322,0.06155037879943848,0.06179817020893097,0.06303691864013672,0.062487803399562836,0.06240938603878021,0.06204590946435928,0.0621941015124321,0.06275948137044907,0.061881162226200104,0.06358549743890762,0.06394900381565094,0.06412430107593536,0.06183896213769913,0.1055038571357727,0.06301561743021011,0.06253887712955475,0.06296852976083755,0.06516764312982559,0.11003082245588303,0.06286414712667465,0.11010586470365524,0.06481373310089111,0.06184663623571396,0.0641126036643982,0.06288901716470718,0.0813368558883667,0.061280641704797745,0.06206654757261276,0.061570391058921814,0.06279639899730682,0.06278844177722931,0.06200406700372696,0.06340416520833969,0.06215747445821762,0.0669948160648346,0.06175415217876434,0.0625687688589096,0.06217951327562332,0.062103934586048126,0.06282711029052734,0.06203865259885788,0.06176123023033142,0.061713896691799164,0.061915017664432526,0.061884790658950806,0.06170792877674103,0.062125205993652344,0.12236781418323517,0.06560014933347702,0.0707678496837616,0.06909239292144775,0.06271540373563766,0.10386265814304352,0.07387175410985947,0.06276684999465942,0.06345701962709427,0.06664898246526718,0.06336434185504913,0.10980472713708878,0.06258007884025574,0.09954342246055603,0.06497050821781158,0.10474592447280884,0.06390256434679031,0.06273024529218674,0.06339651346206665,0.06188112497329712,0.07153917849063873,0.06345252692699432,0.0916324257850647,0.06331904977560043,0.11049050092697144,0.06215757131576538,0.06251213699579239,0.06227658689022064,0.06329622864723206,0.0653642788529396,0.09449082612991333,0.10343849658966064,0.09488809108734131,0.07001577317714691,0.06266069412231445,0.062418676912784576,0.06308286637067795,0.06283815950155258,0.06412135064601898,0.06211203336715698,0.06160201132297516,0.06209360808134079,0.06463596224784851,0.06188662350177765,0.0628620907664299,0.07136445492506027,0.06265490502119064,0.07589460909366608,0.06232931464910507,0.06212040036916733,0.07236889004707336,0.06264232844114304,0.06318369507789612,0.061930425465106964,0.06294409185647964,0.061762891709804535,0.06384120881557465,0.06375496089458466],\"type\":\"scatter\"},{\"hovertemplate\":\"%{text}\\u003cextra\\u003eBest Trial\\u003c\\u002fextra\\u003e\",\"marker\":{\"color\":[16,56,84,167,174,175,177,182,185],\"colorbar\":{\"title\":{\"text\":\"Best Trial\"},\"x\":1.1,\"xpad\":40},\"colorscale\":[[0.0,\"rgb(255,245,240)\"],[0.125,\"rgb(254,224,210)\"],[0.25,\"rgb(252,187,161)\"],[0.375,\"rgb(252,146,114)\"],[0.5,\"rgb(251,106,74)\"],[0.625,\"rgb(239,59,44)\"],[0.75,\"rgb(203,24,29)\"],[0.875,\"rgb(165,15,21)\"],[1.0,\"rgb(103,0,13)\"]],\"line\":{\"color\":\"Grey\",\"width\":0.5}},\"mode\":\"markers\",\"showlegend\":false,\"text\":[\"{\\u003cbr\\u003e  \\\"number\\\": 16,\\u003cbr\\u003e  \\\"values\\\": [\\u003cbr\\u003e    0.8872740864753723,\\u003cbr\\u003e    0.06216616928577423\\u003cbr\\u003e  ],\\u003cbr\\u003e  \\\"params\\\": {\\u003cbr\\u003e    \\\"chain_function_mean\\\": 9.740838762394072,\\u003cbr\\u003e    \\\"chain_function_std\\\": 2.2525553280046933,\\u003cbr\\u003e    \\\"chain_function_constant\\\": 0.3614450801580585,\\u003cbr\\u003e    \\\"optimizer\\\": \\\"Adam\\\",\\u003cbr\\u003e    \\\"learning_rate\\\": 0.06543755067006281,\\u003cbr\\u003e    \\\"forecast_distribution\\\": \\\"distr_trunc_normal\\\",\\u003cbr\\u003e    \\\"perform_batching\\\": false,\\u003cbr\\u003e    \\\"epochs\\\": 511\\u003cbr\\u003e  }\\u003cbr\\u003e}\",\"{\\u003cbr\\u003e  \\\"number\\\": 56,\\u003cbr\\u003e  \\\"values\\\": [\\u003cbr\\u003e    0.8876388669013977,\\u003cbr\\u003e    0.061799779534339905\\u003cbr\\u003e  ],\\u003cbr\\u003e  \\\"params\\\": {\\u003cbr\\u003e    \\\"chain_function_mean\\\": 8.86543346748238,\\u003cbr\\u003e    \\\"chain_function_std\\\": 0.0153188130495292,\\u003cbr\\u003e    \\\"chain_function_constant\\\": 0.12907501096642482,\\u003cbr\\u003e    \\\"optimizer\\\": \\\"SGD\\\",\\u003cbr\\u003e    \\\"learning_rate\\\": 0.050750550753121924,\\u003cbr\\u003e    \\\"forecast_distribution\\\": \\\"distr_trunc_normal\\\",\\u003cbr\\u003e    \\\"perform_batching\\\": true,\\u003cbr\\u003e    \\\"batch_size\\\": 111,\\u003cbr\\u003e    \\\"epochs\\\": 570\\u003cbr\\u003e  }\\u003cbr\\u003e}\",\"{\\u003cbr\\u003e  \\\"number\\\": 84,\\u003cbr\\u003e  \\\"values\\\": [\\u003cbr\\u003e    0.9566889405250549,\\u003cbr\\u003e    0.061194151639938354\\u003cbr\\u003e  ],\\u003cbr\\u003e  \\\"params\\\": {\\u003cbr\\u003e    \\\"chain_function_mean\\\": 8.961787428122632,\\u003cbr\\u003e    \\\"chain_function_std\\\": 1.5232658267824235,\\u003cbr\\u003e    \\\"chain_function_constant\\\": 0.0009608066730378219,\\u003cbr\\u003e    \\\"optimizer\\\": \\\"SGD\\\",\\u003cbr\\u003e    \\\"learning_rate\\\": 0.07228549130694825,\\u003cbr\\u003e    \\\"forecast_distribution\\\": \\\"distr_gev\\\",\\u003cbr\\u003e    \\\"perform_batching\\\": true,\\u003cbr\\u003e    \\\"batch_size\\\": 93,\\u003cbr\\u003e    \\\"epochs\\\": 59\\u003cbr\\u003e  }\\u003cbr\\u003e}\",\"{\\u003cbr\\u003e  \\\"number\\\": 167,\\u003cbr\\u003e  \\\"values\\\": [\\u003cbr\\u003e    0.8894206881523132,\\u003cbr\\u003e    0.06172030419111252\\u003cbr\\u003e  ],\\u003cbr\\u003e  \\\"params\\\": {\\u003cbr\\u003e    \\\"chain_function_mean\\\": 9.213001357346492,\\u003cbr\\u003e    \\\"chain_function_std\\\": 2.032203641711151,\\u003cbr\\u003e    \\\"chain_function_constant\\\": 0.04632118073236255,\\u003cbr\\u003e    \\\"optimizer\\\": \\\"SGD\\\",\\u003cbr\\u003e    \\\"learning_rate\\\": 0.06633984261929472,\\u003cbr\\u003e    \\\"forecast_distribution\\\": \\\"distr_trunc_normal\\\",\\u003cbr\\u003e    \\\"perform_batching\\\": true,\\u003cbr\\u003e    \\\"batch_size\\\": 166,\\u003cbr\\u003e    \\\"epochs\\\": 318\\u003cbr\\u003e  }\\u003cbr\\u003e}\",\"{\\u003cbr\\u003e  \\\"number\\\": 174,\\u003cbr\\u003e  \\\"values\\\": [\\u003cbr\\u003e    0.8999050259590149,\\u003cbr\\u003e    0.061430491507053375\\u003cbr\\u003e  ],\\u003cbr\\u003e  \\\"params\\\": {\\u003cbr\\u003e    \\\"chain_function_mean\\\": 10.251658446413959,\\u003cbr\\u003e    \\\"chain_function_std\\\": 2.4453591339972425,\\u003cbr\\u003e    \\\"chain_function_constant\\\": 0.028573999970733795,\\u003cbr\\u003e    \\\"optimizer\\\": \\\"Adam\\\",\\u003cbr\\u003e    \\\"learning_rate\\\": 0.0706928922299608,\\u003cbr\\u003e    \\\"forecast_distribution\\\": \\\"distr_mixture\\\",\\u003cbr\\u003e    \\\"distribution_1\\\": \\\"distr_trunc_normal\\\",\\u003cbr\\u003e    \\\"distribution_2\\\": \\\"distr_gev\\\",\\u003cbr\\u003e    \\\"perform_batching\\\": false,\\u003cbr\\u003e    \\\"epochs\\\": 145\\u003cbr\\u003e  }\\u003cbr\\u003e}\",\"{\\u003cbr\\u003e  \\\"number\\\": 175,\\u003cbr\\u003e  \\\"values\\\": [\\u003cbr\\u003e    0.8887482285499573,\\u003cbr\\u003e    0.061731331050395966\\u003cbr\\u003e  ],\\u003cbr\\u003e  \\\"params\\\": {\\u003cbr\\u003e    \\\"chain_function_mean\\\": 10.396100346338926,\\u003cbr\\u003e    \\\"chain_function_std\\\": 2.8081555303410437,\\u003cbr\\u003e    \\\"chain_function_constant\\\": 0.06712697107462073,\\u003cbr\\u003e    \\\"optimizer\\\": \\\"Adam\\\",\\u003cbr\\u003e    \\\"learning_rate\\\": 0.07384253646569386,\\u003cbr\\u003e    \\\"forecast_distribution\\\": \\\"distr_mixture\\\",\\u003cbr\\u003e    \\\"distribution_1\\\": \\\"distr_trunc_normal\\\",\\u003cbr\\u003e    \\\"distribution_2\\\": \\\"distr_gev\\\",\\u003cbr\\u003e    \\\"perform_batching\\\": false,\\u003cbr\\u003e    \\\"epochs\\\": 149\\u003cbr\\u003e  }\\u003cbr\\u003e}\",\"{\\u003cbr\\u003e  \\\"number\\\": 177,\\u003cbr\\u003e  \\\"values\\\": [\\u003cbr\\u003e    0.8932486176490784,\\u003cbr\\u003e    0.06171266734600067\\u003cbr\\u003e  ],\\u003cbr\\u003e  \\\"params\\\": {\\u003cbr\\u003e    \\\"chain_function_mean\\\": 10.396499921476815,\\u003cbr\\u003e    \\\"chain_function_std\\\": 2.792503190937354,\\u003cbr\\u003e    \\\"chain_function_constant\\\": 0.037497659855031854,\\u003cbr\\u003e    \\\"optimizer\\\": \\\"Adam\\\",\\u003cbr\\u003e    \\\"learning_rate\\\": 0.07432634803988825,\\u003cbr\\u003e    \\\"forecast_distribution\\\": \\\"distr_mixture\\\",\\u003cbr\\u003e    \\\"distribution_1\\\": \\\"distr_trunc_normal\\\",\\u003cbr\\u003e    \\\"distribution_2\\\": \\\"distr_gev\\\",\\u003cbr\\u003e    \\\"perform_batching\\\": false,\\u003cbr\\u003e    \\\"epochs\\\": 250\\u003cbr\\u003e  }\\u003cbr\\u003e}\",\"{\\u003cbr\\u003e  \\\"number\\\": 182,\\u003cbr\\u003e  \\\"values\\\": [\\u003cbr\\u003e    0.8974748253822327,\\u003cbr\\u003e    0.061704471707344055\\u003cbr\\u003e  ],\\u003cbr\\u003e  \\\"params\\\": {\\u003cbr\\u003e    \\\"chain_function_mean\\\": 11.256053803209028,\\u003cbr\\u003e    \\\"chain_function_std\\\": 2.772554701758939,\\u003cbr\\u003e    \\\"chain_function_constant\\\": 0.026183239771406686,\\u003cbr\\u003e    \\\"optimizer\\\": \\\"Adam\\\",\\u003cbr\\u003e    \\\"learning_rate\\\": 0.07138518361961059,\\u003cbr\\u003e    \\\"forecast_distribution\\\": \\\"distr_mixture\\\",\\u003cbr\\u003e    \\\"distribution_1\\\": \\\"distr_trunc_normal\\\",\\u003cbr\\u003e    \\\"distribution_2\\\": \\\"distr_gev\\\",\\u003cbr\\u003e    \\\"perform_batching\\\": false,\\u003cbr\\u003e    \\\"epochs\\\": 247\\u003cbr\\u003e  }\\u003cbr\\u003e}\",\"{\\u003cbr\\u003e  \\\"number\\\": 185,\\u003cbr\\u003e  \\\"values\\\": [\\u003cbr\\u003e    0.9003955721855164,\\u003cbr\\u003e    0.061403125524520874\\u003cbr\\u003e  ],\\u003cbr\\u003e  \\\"params\\\": {\\u003cbr\\u003e    \\\"chain_function_mean\\\": 9.723680383860225,\\u003cbr\\u003e    \\\"chain_function_std\\\": 2.271575703495183,\\u003cbr\\u003e    \\\"chain_function_constant\\\": 0.023013102328618504,\\u003cbr\\u003e    \\\"optimizer\\\": \\\"Adam\\\",\\u003cbr\\u003e    \\\"learning_rate\\\": 0.07633902097197792,\\u003cbr\\u003e    \\\"forecast_distribution\\\": \\\"distr_mixture\\\",\\u003cbr\\u003e    \\\"distribution_1\\\": \\\"distr_trunc_normal\\\",\\u003cbr\\u003e    \\\"distribution_2\\\": \\\"distr_gev\\\",\\u003cbr\\u003e    \\\"perform_batching\\\": false,\\u003cbr\\u003e    \\\"epochs\\\": 146\\u003cbr\\u003e  }\\u003cbr\\u003e}\"],\"x\":[0.8872740864753723,0.8876388669013977,0.9566889405250549,0.8894206881523132,0.8999050259590149,0.8887482285499573,0.8932486176490784,0.8974748253822327,0.9003955721855164],\"y\":[0.06216616928577423,0.061799779534339905,0.061194151639938354,0.06172030419111252,0.061430491507053375,0.061731331050395966,0.06171266734600067,0.061704471707344055,0.061403125524520874],\"type\":\"scatter\"}],                        {\"title\":{\"text\":\"Pareto-front Plot\"},\"xaxis\":{\"title\":{\"text\":\"CRPS\"}},\"yaxis\":{\"title\":{\"text\":\"twCRPS12\"}},\"template\":{\"data\":{\"histogram2dcontour\":[{\"type\":\"histogram2dcontour\",\"colorbar\":{\"outlinewidth\":0,\"ticks\":\"\"},\"colorscale\":[[0.0,\"#0d0887\"],[0.1111111111111111,\"#46039f\"],[0.2222222222222222,\"#7201a8\"],[0.3333333333333333,\"#9c179e\"],[0.4444444444444444,\"#bd3786\"],[0.5555555555555556,\"#d8576b\"],[0.6666666666666666,\"#ed7953\"],[0.7777777777777778,\"#fb9f3a\"],[0.8888888888888888,\"#fdca26\"],[1.0,\"#f0f921\"]]}],\"choropleth\":[{\"type\":\"choropleth\",\"colorbar\":{\"outlinewidth\":0,\"ticks\":\"\"}}],\"histogram2d\":[{\"type\":\"histogram2d\",\"colorbar\":{\"outlinewidth\":0,\"ticks\":\"\"},\"colorscale\":[[0.0,\"#0d0887\"],[0.1111111111111111,\"#46039f\"],[0.2222222222222222,\"#7201a8\"],[0.3333333333333333,\"#9c179e\"],[0.4444444444444444,\"#bd3786\"],[0.5555555555555556,\"#d8576b\"],[0.6666666666666666,\"#ed7953\"],[0.7777777777777778,\"#fb9f3a\"],[0.8888888888888888,\"#fdca26\"],[1.0,\"#f0f921\"]]}],\"heatmap\":[{\"type\":\"heatmap\",\"colorbar\":{\"outlinewidth\":0,\"ticks\":\"\"},\"colorscale\":[[0.0,\"#0d0887\"],[0.1111111111111111,\"#46039f\"],[0.2222222222222222,\"#7201a8\"],[0.3333333333333333,\"#9c179e\"],[0.4444444444444444,\"#bd3786\"],[0.5555555555555556,\"#d8576b\"],[0.6666666666666666,\"#ed7953\"],[0.7777777777777778,\"#fb9f3a\"],[0.8888888888888888,\"#fdca26\"],[1.0,\"#f0f921\"]]}],\"heatmapgl\":[{\"type\":\"heatmapgl\",\"colorbar\":{\"outlinewidth\":0,\"ticks\":\"\"},\"colorscale\":[[0.0,\"#0d0887\"],[0.1111111111111111,\"#46039f\"],[0.2222222222222222,\"#7201a8\"],[0.3333333333333333,\"#9c179e\"],[0.4444444444444444,\"#bd3786\"],[0.5555555555555556,\"#d8576b\"],[0.6666666666666666,\"#ed7953\"],[0.7777777777777778,\"#fb9f3a\"],[0.8888888888888888,\"#fdca26\"],[1.0,\"#f0f921\"]]}],\"contourcarpet\":[{\"type\":\"contourcarpet\",\"colorbar\":{\"outlinewidth\":0,\"ticks\":\"\"}}],\"contour\":[{\"type\":\"contour\",\"colorbar\":{\"outlinewidth\":0,\"ticks\":\"\"},\"colorscale\":[[0.0,\"#0d0887\"],[0.1111111111111111,\"#46039f\"],[0.2222222222222222,\"#7201a8\"],[0.3333333333333333,\"#9c179e\"],[0.4444444444444444,\"#bd3786\"],[0.5555555555555556,\"#d8576b\"],[0.6666666666666666,\"#ed7953\"],[0.7777777777777778,\"#fb9f3a\"],[0.8888888888888888,\"#fdca26\"],[1.0,\"#f0f921\"]]}],\"surface\":[{\"type\":\"surface\",\"colorbar\":{\"outlinewidth\":0,\"ticks\":\"\"},\"colorscale\":[[0.0,\"#0d0887\"],[0.1111111111111111,\"#46039f\"],[0.2222222222222222,\"#7201a8\"],[0.3333333333333333,\"#9c179e\"],[0.4444444444444444,\"#bd3786\"],[0.5555555555555556,\"#d8576b\"],[0.6666666666666666,\"#ed7953\"],[0.7777777777777778,\"#fb9f3a\"],[0.8888888888888888,\"#fdca26\"],[1.0,\"#f0f921\"]]}],\"mesh3d\":[{\"type\":\"mesh3d\",\"colorbar\":{\"outlinewidth\":0,\"ticks\":\"\"}}],\"scatter\":[{\"fillpattern\":{\"fillmode\":\"overlay\",\"size\":10,\"solidity\":0.2},\"type\":\"scatter\"}],\"parcoords\":[{\"type\":\"parcoords\",\"line\":{\"colorbar\":{\"outlinewidth\":0,\"ticks\":\"\"}}}],\"scatterpolargl\":[{\"type\":\"scatterpolargl\",\"marker\":{\"colorbar\":{\"outlinewidth\":0,\"ticks\":\"\"}}}],\"bar\":[{\"error_x\":{\"color\":\"#2a3f5f\"},\"error_y\":{\"color\":\"#2a3f5f\"},\"marker\":{\"line\":{\"color\":\"#E5ECF6\",\"width\":0.5},\"pattern\":{\"fillmode\":\"overlay\",\"size\":10,\"solidity\":0.2}},\"type\":\"bar\"}],\"scattergeo\":[{\"type\":\"scattergeo\",\"marker\":{\"colorbar\":{\"outlinewidth\":0,\"ticks\":\"\"}}}],\"scatterpolar\":[{\"type\":\"scatterpolar\",\"marker\":{\"colorbar\":{\"outlinewidth\":0,\"ticks\":\"\"}}}],\"histogram\":[{\"marker\":{\"pattern\":{\"fillmode\":\"overlay\",\"size\":10,\"solidity\":0.2}},\"type\":\"histogram\"}],\"scattergl\":[{\"type\":\"scattergl\",\"marker\":{\"colorbar\":{\"outlinewidth\":0,\"ticks\":\"\"}}}],\"scatter3d\":[{\"type\":\"scatter3d\",\"line\":{\"colorbar\":{\"outlinewidth\":0,\"ticks\":\"\"}},\"marker\":{\"colorbar\":{\"outlinewidth\":0,\"ticks\":\"\"}}}],\"scattermapbox\":[{\"type\":\"scattermapbox\",\"marker\":{\"colorbar\":{\"outlinewidth\":0,\"ticks\":\"\"}}}],\"scatterternary\":[{\"type\":\"scatterternary\",\"marker\":{\"colorbar\":{\"outlinewidth\":0,\"ticks\":\"\"}}}],\"scattercarpet\":[{\"type\":\"scattercarpet\",\"marker\":{\"colorbar\":{\"outlinewidth\":0,\"ticks\":\"\"}}}],\"carpet\":[{\"aaxis\":{\"endlinecolor\":\"#2a3f5f\",\"gridcolor\":\"white\",\"linecolor\":\"white\",\"minorgridcolor\":\"white\",\"startlinecolor\":\"#2a3f5f\"},\"baxis\":{\"endlinecolor\":\"#2a3f5f\",\"gridcolor\":\"white\",\"linecolor\":\"white\",\"minorgridcolor\":\"white\",\"startlinecolor\":\"#2a3f5f\"},\"type\":\"carpet\"}],\"table\":[{\"cells\":{\"fill\":{\"color\":\"#EBF0F8\"},\"line\":{\"color\":\"white\"}},\"header\":{\"fill\":{\"color\":\"#C8D4E3\"},\"line\":{\"color\":\"white\"}},\"type\":\"table\"}],\"barpolar\":[{\"marker\":{\"line\":{\"color\":\"#E5ECF6\",\"width\":0.5},\"pattern\":{\"fillmode\":\"overlay\",\"size\":10,\"solidity\":0.2}},\"type\":\"barpolar\"}],\"pie\":[{\"automargin\":true,\"type\":\"pie\"}]},\"layout\":{\"autotypenumbers\":\"strict\",\"colorway\":[\"#636efa\",\"#EF553B\",\"#00cc96\",\"#ab63fa\",\"#FFA15A\",\"#19d3f3\",\"#FF6692\",\"#B6E880\",\"#FF97FF\",\"#FECB52\"],\"font\":{\"color\":\"#2a3f5f\"},\"hovermode\":\"closest\",\"hoverlabel\":{\"align\":\"left\"},\"paper_bgcolor\":\"white\",\"plot_bgcolor\":\"#E5ECF6\",\"polar\":{\"bgcolor\":\"#E5ECF6\",\"angularaxis\":{\"gridcolor\":\"white\",\"linecolor\":\"white\",\"ticks\":\"\"},\"radialaxis\":{\"gridcolor\":\"white\",\"linecolor\":\"white\",\"ticks\":\"\"}},\"ternary\":{\"bgcolor\":\"#E5ECF6\",\"aaxis\":{\"gridcolor\":\"white\",\"linecolor\":\"white\",\"ticks\":\"\"},\"baxis\":{\"gridcolor\":\"white\",\"linecolor\":\"white\",\"ticks\":\"\"},\"caxis\":{\"gridcolor\":\"white\",\"linecolor\":\"white\",\"ticks\":\"\"}},\"coloraxis\":{\"colorbar\":{\"outlinewidth\":0,\"ticks\":\"\"}},\"colorscale\":{\"sequential\":[[0.0,\"#0d0887\"],[0.1111111111111111,\"#46039f\"],[0.2222222222222222,\"#7201a8\"],[0.3333333333333333,\"#9c179e\"],[0.4444444444444444,\"#bd3786\"],[0.5555555555555556,\"#d8576b\"],[0.6666666666666666,\"#ed7953\"],[0.7777777777777778,\"#fb9f3a\"],[0.8888888888888888,\"#fdca26\"],[1.0,\"#f0f921\"]],\"sequentialminus\":[[0.0,\"#0d0887\"],[0.1111111111111111,\"#46039f\"],[0.2222222222222222,\"#7201a8\"],[0.3333333333333333,\"#9c179e\"],[0.4444444444444444,\"#bd3786\"],[0.5555555555555556,\"#d8576b\"],[0.6666666666666666,\"#ed7953\"],[0.7777777777777778,\"#fb9f3a\"],[0.8888888888888888,\"#fdca26\"],[1.0,\"#f0f921\"]],\"diverging\":[[0,\"#8e0152\"],[0.1,\"#c51b7d\"],[0.2,\"#de77ae\"],[0.3,\"#f1b6da\"],[0.4,\"#fde0ef\"],[0.5,\"#f7f7f7\"],[0.6,\"#e6f5d0\"],[0.7,\"#b8e186\"],[0.8,\"#7fbc41\"],[0.9,\"#4d9221\"],[1,\"#276419\"]]},\"xaxis\":{\"gridcolor\":\"white\",\"linecolor\":\"white\",\"ticks\":\"\",\"title\":{\"standoff\":15},\"zerolinecolor\":\"white\",\"automargin\":true,\"zerolinewidth\":2},\"yaxis\":{\"gridcolor\":\"white\",\"linecolor\":\"white\",\"ticks\":\"\",\"title\":{\"standoff\":15},\"zerolinecolor\":\"white\",\"automargin\":true,\"zerolinewidth\":2},\"scene\":{\"xaxis\":{\"backgroundcolor\":\"#E5ECF6\",\"gridcolor\":\"white\",\"linecolor\":\"white\",\"showbackground\":true,\"ticks\":\"\",\"zerolinecolor\":\"white\",\"gridwidth\":2},\"yaxis\":{\"backgroundcolor\":\"#E5ECF6\",\"gridcolor\":\"white\",\"linecolor\":\"white\",\"showbackground\":true,\"ticks\":\"\",\"zerolinecolor\":\"white\",\"gridwidth\":2},\"zaxis\":{\"backgroundcolor\":\"#E5ECF6\",\"gridcolor\":\"white\",\"linecolor\":\"white\",\"showbackground\":true,\"ticks\":\"\",\"zerolinecolor\":\"white\",\"gridwidth\":2}},\"shapedefaults\":{\"line\":{\"color\":\"#2a3f5f\"}},\"annotationdefaults\":{\"arrowcolor\":\"#2a3f5f\",\"arrowhead\":0,\"arrowwidth\":1},\"geo\":{\"bgcolor\":\"white\",\"landcolor\":\"#E5ECF6\",\"subunitcolor\":\"white\",\"showland\":true,\"showlakes\":true,\"lakecolor\":\"white\"},\"title\":{\"x\":0.05},\"mapbox\":{\"style\":\"light\"}}}},                        {\"responsive\": true}                    ).then(function(){\n",
       "                            \n",
       "var gd = document.getElementById('0245c7e5-6511-47bb-a018-41a71311bbd9');\n",
       "var x = new MutationObserver(function (mutations, observer) {{\n",
       "        var display = window.getComputedStyle(gd).display;\n",
       "        if (!display || display === 'none') {{\n",
       "            console.log([gd, 'removed!']);\n",
       "            Plotly.purge(gd);\n",
       "            observer.disconnect();\n",
       "        }}\n",
       "}});\n",
       "\n",
       "// Listen for the removal of the full notebook cells\n",
       "var notebookContainer = gd.closest('#notebook-container');\n",
       "if (notebookContainer) {{\n",
       "    x.observe(notebookContainer, {childList: true});\n",
       "}}\n",
       "\n",
       "// Listen for the clearing of the current output cell\n",
       "var outputEl = gd.closest('.output');\n",
       "if (outputEl) {{\n",
       "    x.observe(outputEl, {childList: true});\n",
       "}}\n",
       "\n",
       "                        })                };                });            </script>        </div>"
      ]
     },
     "metadata": {},
     "output_type": "display_data"
    }
   ],
   "source": [
    "optuna.visualization.plot_pareto_front(study, target_names=['CRPS', 'twCRPS12'])"
   ]
  }
 ],
 "metadata": {
  "kernelspec": {
   "display_name": "Python 3",
   "language": "python",
   "name": "python3"
  },
  "language_info": {
   "codemirror_mode": {
    "name": "ipython",
    "version": 3
   },
   "file_extension": ".py",
   "mimetype": "text/x-python",
   "name": "python",
   "nbconvert_exporter": "python",
   "pygments_lexer": "ipython3",
   "version": "3.12.3"
  }
 },
 "nbformat": 4,
 "nbformat_minor": 2
}
